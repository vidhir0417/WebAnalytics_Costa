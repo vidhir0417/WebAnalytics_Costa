{
 "cells": [
  {
   "cell_type": "code",
   "execution_count": 1,
   "id": "b9f5ee99",
   "metadata": {},
   "outputs": [],
   "source": [
    "import pandas as pd\n",
    "import datetime\n",
    "import plotly.express as px\n",
    "import warnings\n",
    "\n",
    "warnings.filterwarnings(\"ignore\")"
   ]
  },
  {
   "cell_type": "code",
   "execution_count": 2,
   "id": "d5284890",
   "metadata": {},
   "outputs": [
    {
     "name": "stdout",
     "output_type": "stream",
     "text": [
      "2.1.3\n"
     ]
    }
   ],
   "source": [
    "import numpy\n",
    "print(numpy.__version__)"
   ]
  },
  {
   "cell_type": "code",
   "execution_count": 3,
   "id": "6e386293",
   "metadata": {},
   "outputs": [
    {
     "data": {
      "text/html": [
       "<div>\n",
       "<style scoped>\n",
       "    .dataframe tbody tr th:only-of-type {\n",
       "        vertical-align: middle;\n",
       "    }\n",
       "\n",
       "    .dataframe tbody tr th {\n",
       "        vertical-align: top;\n",
       "    }\n",
       "\n",
       "    .dataframe thead th {\n",
       "        text-align: right;\n",
       "    }\n",
       "</style>\n",
       "<table border=\"1\" class=\"dataframe\">\n",
       "  <thead>\n",
       "    <tr style=\"text-align: right;\">\n",
       "      <th></th>\n",
       "      <th>cafe</th>\n",
       "      <th>post_id</th>\n",
       "      <th>post_link</th>\n",
       "      <th>day_posted</th>\n",
       "      <th>n_likes</th>\n",
       "      <th>title</th>\n",
       "      <th>first_comments</th>\n",
       "    </tr>\n",
       "  </thead>\n",
       "  <tbody>\n",
       "    <tr>\n",
       "      <th>0</th>\n",
       "      <td>https://www.instagram.com/abrasileirachiado/</td>\n",
       "      <td>0</td>\n",
       "      <td>https://www.instagram.com/p/DI3YwV-PtK0/</td>\n",
       "      <td>1 day ago</td>\n",
       "      <td>79</td>\n",
       "      <td>António de Oliveira Salazar, presidente do Con...</td>\n",
       "      <td>[]</td>\n",
       "    </tr>\n",
       "    <tr>\n",
       "      <th>1</th>\n",
       "      <td>https://www.instagram.com/abrasileirachiado/</td>\n",
       "      <td>1</td>\n",
       "      <td>https://www.instagram.com/p/DItuzHaB82n/</td>\n",
       "      <td>5 days ago</td>\n",
       "      <td>21</td>\n",
       "      <td>“Todos sabemos que a arte não é verdade. A art...</td>\n",
       "      <td>[]</td>\n",
       "    </tr>\n",
       "    <tr>\n",
       "      <th>2</th>\n",
       "      <td>https://www.instagram.com/abrasileirachiado/</td>\n",
       "      <td>2</td>\n",
       "      <td>https://www.instagram.com/p/DIjpVnwhqbe/?img_i...</td>\n",
       "      <td>17 April</td>\n",
       "      <td>28</td>\n",
       "      <td>A obra de António Faria convoca o olhar do esp...</td>\n",
       "      <td>[]</td>\n",
       "    </tr>\n",
       "    <tr>\n",
       "      <th>3</th>\n",
       "      <td>https://www.instagram.com/abrasileirachiado/</td>\n",
       "      <td>3</td>\n",
       "      <td>https://www.instagram.com/p/DIZWO_2PmwH/</td>\n",
       "      <td>13 April</td>\n",
       "      <td>110</td>\n",
       "      <td>A Brasileira aos olhos de quem a visita.\\n\\n@d...</td>\n",
       "      <td>['👏🥂🥂🥂', 'Sei bem😘💚❤👏🏻', 'Conheço e recomendo ...</td>\n",
       "    </tr>\n",
       "    <tr>\n",
       "      <th>4</th>\n",
       "      <td>https://www.instagram.com/abrasileirachiado/</td>\n",
       "      <td>4</td>\n",
       "      <td>https://www.instagram.com/p/DIOnjB_hYhU/?img_i...</td>\n",
       "      <td>9 April</td>\n",
       "      <td>29</td>\n",
       "      <td>“Uma pessoa sem vícios tem poucas virtudes.\"\\n...</td>\n",
       "      <td>[]</td>\n",
       "    </tr>\n",
       "  </tbody>\n",
       "</table>\n",
       "</div>"
      ],
      "text/plain": [
       "                                           cafe  post_id  \\\n",
       "0  https://www.instagram.com/abrasileirachiado/        0   \n",
       "1  https://www.instagram.com/abrasileirachiado/        1   \n",
       "2  https://www.instagram.com/abrasileirachiado/        2   \n",
       "3  https://www.instagram.com/abrasileirachiado/        3   \n",
       "4  https://www.instagram.com/abrasileirachiado/        4   \n",
       "\n",
       "                                           post_link  day_posted n_likes  \\\n",
       "0           https://www.instagram.com/p/DI3YwV-PtK0/   1 day ago      79   \n",
       "1           https://www.instagram.com/p/DItuzHaB82n/  5 days ago      21   \n",
       "2  https://www.instagram.com/p/DIjpVnwhqbe/?img_i...    17 April      28   \n",
       "3           https://www.instagram.com/p/DIZWO_2PmwH/    13 April     110   \n",
       "4  https://www.instagram.com/p/DIOnjB_hYhU/?img_i...     9 April      29   \n",
       "\n",
       "                                               title  \\\n",
       "0  António de Oliveira Salazar, presidente do Con...   \n",
       "1  “Todos sabemos que a arte não é verdade. A art...   \n",
       "2  A obra de António Faria convoca o olhar do esp...   \n",
       "3  A Brasileira aos olhos de quem a visita.\\n\\n@d...   \n",
       "4  “Uma pessoa sem vícios tem poucas virtudes.\"\\n...   \n",
       "\n",
       "                                      first_comments  \n",
       "0                                                 []  \n",
       "1                                                 []  \n",
       "2                                                 []  \n",
       "3  ['👏🥂🥂🥂', 'Sei bem😘💚❤👏🏻', 'Conheço e recomendo ...  \n",
       "4                                                 []  "
      ]
     },
     "metadata": {},
     "output_type": "display_data"
    },
    {
     "data": {
      "text/html": [
       "<div>\n",
       "<style scoped>\n",
       "    .dataframe tbody tr th:only-of-type {\n",
       "        vertical-align: middle;\n",
       "    }\n",
       "\n",
       "    .dataframe tbody tr th {\n",
       "        vertical-align: top;\n",
       "    }\n",
       "\n",
       "    .dataframe thead th {\n",
       "        text-align: right;\n",
       "    }\n",
       "</style>\n",
       "<table border=\"1\" class=\"dataframe\">\n",
       "  <thead>\n",
       "    <tr style=\"text-align: right;\">\n",
       "      <th></th>\n",
       "      <th>link</th>\n",
       "      <th>title</th>\n",
       "      <th>info</th>\n",
       "      <th>n_posts</th>\n",
       "      <th>n_followers</th>\n",
       "      <th>n_followed</th>\n",
       "    </tr>\n",
       "  </thead>\n",
       "  <tbody>\n",
       "    <tr>\n",
       "      <th>0</th>\n",
       "      <td>https://www.instagram.com/abrasileirachiado/</td>\n",
       "      <td>A Brasileira do Chiado | Café Histórico</td>\n",
       "      <td>🇵🇹 O mais emblemático café histórico de Lisboa...</td>\n",
       "      <td>467</td>\n",
       "      <td>9,526</td>\n",
       "      <td>151</td>\n",
       "    </tr>\n",
       "    <tr>\n",
       "      <th>1</th>\n",
       "      <td>https://www.instagram.com/majestic_cafe/</td>\n",
       "      <td>Majestic Cafe</td>\n",
       "      <td>Mais do que um café, o Majestic conta a histór...</td>\n",
       "      <td>8,825</td>\n",
       "      <td>20.3K</td>\n",
       "      <td>414</td>\n",
       "    </tr>\n",
       "    <tr>\n",
       "      <th>2</th>\n",
       "      <td>https://www.instagram.com/combi_coffee/</td>\n",
       "      <td>COMBI COFFEE ROASTERS</td>\n",
       "      <td>We are Combi - an independent specialty coffee...</td>\n",
       "      <td>1,014</td>\n",
       "      <td>21.4K</td>\n",
       "      <td>0</td>\n",
       "    </tr>\n",
       "    <tr>\n",
       "      <th>3</th>\n",
       "      <td>https://www.instagram.com/fabricacoffeeroasters/</td>\n",
       "      <td>FÁBRICA COFFEE ROASTERS</td>\n",
       "      <td>Sourcing, roasting, and delivering premium cof...</td>\n",
       "      <td>782</td>\n",
       "      <td>28.7K</td>\n",
       "      <td>451</td>\n",
       "    </tr>\n",
       "    <tr>\n",
       "      <th>4</th>\n",
       "      <td>https://www.instagram.com/cphcoffeelab/</td>\n",
       "      <td>Copenhagen Coffee Lab</td>\n",
       "      <td>Committed to coffee and bread with love and re...</td>\n",
       "      <td>961</td>\n",
       "      <td>29.9K</td>\n",
       "      <td>1,174</td>\n",
       "    </tr>\n",
       "  </tbody>\n",
       "</table>\n",
       "</div>"
      ],
      "text/plain": [
       "                                               link  \\\n",
       "0      https://www.instagram.com/abrasileirachiado/   \n",
       "1          https://www.instagram.com/majestic_cafe/   \n",
       "2           https://www.instagram.com/combi_coffee/   \n",
       "3  https://www.instagram.com/fabricacoffeeroasters/   \n",
       "4           https://www.instagram.com/cphcoffeelab/   \n",
       "\n",
       "                                     title  \\\n",
       "0  A Brasileira do Chiado | Café Histórico   \n",
       "1                            Majestic Cafe   \n",
       "2                    COMBI COFFEE ROASTERS   \n",
       "3                 FÁBRICA COFFEE ROASTERS   \n",
       "4                    Copenhagen Coffee Lab   \n",
       "\n",
       "                                                info n_posts n_followers  \\\n",
       "0  🇵🇹 O mais emblemático café histórico de Lisboa...     467       9,526   \n",
       "1  Mais do que um café, o Majestic conta a histór...   8,825       20.3K   \n",
       "2  We are Combi - an independent specialty coffee...   1,014       21.4K   \n",
       "3  Sourcing, roasting, and delivering premium cof...     782       28.7K   \n",
       "4  Committed to coffee and bread with love and re...     961       29.9K   \n",
       "\n",
       "  n_followed  \n",
       "0        151  \n",
       "1        414  \n",
       "2          0  \n",
       "3        451  \n",
       "4      1,174  "
      ]
     },
     "execution_count": 3,
     "metadata": {},
     "output_type": "execute_result"
    }
   ],
   "source": [
    "res = pd.read_csv(\"scrapres/res1.csv\", sep=\"|\", index_col=0)\n",
    "meta = pd.read_csv(\"scrapres/meta.csv\", index_col=0)\n",
    "display(res.head())\n",
    "meta.head()"
   ]
  },
  {
   "cell_type": "code",
   "execution_count": 4,
   "id": "08ef6aa1",
   "metadata": {},
   "outputs": [],
   "source": [
    "def data(data):\n",
    "    data = data.strip()\n",
    "    if len(data.split()) == 2:\n",
    "        return data + \" 2025\"\n",
    "    elif data.split()[-1] == \"ago\":\n",
    "        if \"hours\" in data:\n",
    "            return \"27 April 2025\"\n",
    "        else:\n",
    "            return str(27 - int(data.split()[0])) + \" April 2025\"\n",
    "    else:\n",
    "        return data\n",
    "\n",
    "resw = res.drop([\"post_id\", \"title\", \"first_comments\"], axis=1).set_index(\"post_link\")\n",
    "resw[\"day_posted\"] = resw[\"day_posted\"].apply(data)\n",
    "resw[\"day_posted\"] = resw[\"day_posted\"].astype(\"datetime64[s]\")\n",
    "\n",
    "metaw = meta.drop([\"title\", \"info\", \"n_posts\", \"n_followed\"], axis=1)\n",
    "metaw.columns = [\"cafe\", \"followers\"]"
   ]
  },
  {
   "cell_type": "code",
   "execution_count": 5,
   "id": "7b4d289b",
   "metadata": {},
   "outputs": [
    {
     "data": {
      "text/html": [
       "<div>\n",
       "<style scoped>\n",
       "    .dataframe tbody tr th:only-of-type {\n",
       "        vertical-align: middle;\n",
       "    }\n",
       "\n",
       "    .dataframe tbody tr th {\n",
       "        vertical-align: top;\n",
       "    }\n",
       "\n",
       "    .dataframe thead th {\n",
       "        text-align: right;\n",
       "    }\n",
       "</style>\n",
       "<table border=\"1\" class=\"dataframe\">\n",
       "  <thead>\n",
       "    <tr style=\"text-align: right;\">\n",
       "      <th></th>\n",
       "      <th>post_link</th>\n",
       "      <th>cafe</th>\n",
       "      <th>day_posted</th>\n",
       "      <th>n_likes</th>\n",
       "      <th>followers</th>\n",
       "    </tr>\n",
       "  </thead>\n",
       "  <tbody>\n",
       "    <tr>\n",
       "      <th>0</th>\n",
       "      <td>https://www.instagram.com/p/DI3YwV-PtK0/</td>\n",
       "      <td>https://www.instagram.com/abrasileirachiado/</td>\n",
       "      <td>2025-04-26</td>\n",
       "      <td>79</td>\n",
       "      <td>9,526</td>\n",
       "    </tr>\n",
       "    <tr>\n",
       "      <th>1</th>\n",
       "      <td>https://www.instagram.com/p/DItuzHaB82n/</td>\n",
       "      <td>https://www.instagram.com/abrasileirachiado/</td>\n",
       "      <td>2025-04-22</td>\n",
       "      <td>21</td>\n",
       "      <td>9,526</td>\n",
       "    </tr>\n",
       "    <tr>\n",
       "      <th>2</th>\n",
       "      <td>https://www.instagram.com/p/DIjpVnwhqbe/?img_i...</td>\n",
       "      <td>https://www.instagram.com/abrasileirachiado/</td>\n",
       "      <td>2025-04-17</td>\n",
       "      <td>28</td>\n",
       "      <td>9,526</td>\n",
       "    </tr>\n",
       "    <tr>\n",
       "      <th>3</th>\n",
       "      <td>https://www.instagram.com/p/DIZWO_2PmwH/</td>\n",
       "      <td>https://www.instagram.com/abrasileirachiado/</td>\n",
       "      <td>2025-04-13</td>\n",
       "      <td>110</td>\n",
       "      <td>9,526</td>\n",
       "    </tr>\n",
       "    <tr>\n",
       "      <th>4</th>\n",
       "      <td>https://www.instagram.com/p/DIOnjB_hYhU/?img_i...</td>\n",
       "      <td>https://www.instagram.com/abrasileirachiado/</td>\n",
       "      <td>2025-04-09</td>\n",
       "      <td>29</td>\n",
       "      <td>9,526</td>\n",
       "    </tr>\n",
       "    <tr>\n",
       "      <th>...</th>\n",
       "      <td>...</td>\n",
       "      <td>...</td>\n",
       "      <td>...</td>\n",
       "      <td>...</td>\n",
       "      <td>...</td>\n",
       "    </tr>\n",
       "    <tr>\n",
       "      <th>4145</th>\n",
       "      <td>https://www.instagram.com/p/CnEWICKrs3j/</td>\n",
       "      <td>https://www.instagram.com/apadariaportuguesa</td>\n",
       "      <td>2023-01-06</td>\n",
       "      <td>1,818</td>\n",
       "      <td>65.5K</td>\n",
       "    </tr>\n",
       "    <tr>\n",
       "      <th>4146</th>\n",
       "      <td>https://www.instagram.com/p/CnB3C5oM32f/?img_i...</td>\n",
       "      <td>https://www.instagram.com/apadariaportuguesa</td>\n",
       "      <td>2023-01-05</td>\n",
       "      <td>294</td>\n",
       "      <td>65.5K</td>\n",
       "    </tr>\n",
       "    <tr>\n",
       "      <th>4147</th>\n",
       "      <td>https://www.instagram.com/p/Cm6DBvZMpKv/</td>\n",
       "      <td>https://www.instagram.com/apadariaportuguesa</td>\n",
       "      <td>2023-01-02</td>\n",
       "      <td>1,288</td>\n",
       "      <td>65.5K</td>\n",
       "    </tr>\n",
       "    <tr>\n",
       "      <th>4148</th>\n",
       "      <td>https://www.instagram.com/p/Cm3y2JUIPEH/</td>\n",
       "      <td>https://www.instagram.com/apadariaportuguesa</td>\n",
       "      <td>2023-01-01</td>\n",
       "      <td>1,906</td>\n",
       "      <td>65.5K</td>\n",
       "    </tr>\n",
       "    <tr>\n",
       "      <th>4149</th>\n",
       "      <td>https://www.instagram.com/p/CmqtESuKpDF/</td>\n",
       "      <td>https://www.instagram.com/apadariaportuguesa</td>\n",
       "      <td>2022-12-27</td>\n",
       "      <td>118</td>\n",
       "      <td>65.5K</td>\n",
       "    </tr>\n",
       "  </tbody>\n",
       "</table>\n",
       "<p>4083 rows × 5 columns</p>\n",
       "</div>"
      ],
      "text/plain": [
       "                                              post_link  \\\n",
       "0              https://www.instagram.com/p/DI3YwV-PtK0/   \n",
       "1              https://www.instagram.com/p/DItuzHaB82n/   \n",
       "2     https://www.instagram.com/p/DIjpVnwhqbe/?img_i...   \n",
       "3              https://www.instagram.com/p/DIZWO_2PmwH/   \n",
       "4     https://www.instagram.com/p/DIOnjB_hYhU/?img_i...   \n",
       "...                                                 ...   \n",
       "4145           https://www.instagram.com/p/CnEWICKrs3j/   \n",
       "4146  https://www.instagram.com/p/CnB3C5oM32f/?img_i...   \n",
       "4147           https://www.instagram.com/p/Cm6DBvZMpKv/   \n",
       "4148           https://www.instagram.com/p/Cm3y2JUIPEH/   \n",
       "4149           https://www.instagram.com/p/CmqtESuKpDF/   \n",
       "\n",
       "                                              cafe day_posted n_likes  \\\n",
       "0     https://www.instagram.com/abrasileirachiado/ 2025-04-26      79   \n",
       "1     https://www.instagram.com/abrasileirachiado/ 2025-04-22      21   \n",
       "2     https://www.instagram.com/abrasileirachiado/ 2025-04-17      28   \n",
       "3     https://www.instagram.com/abrasileirachiado/ 2025-04-13     110   \n",
       "4     https://www.instagram.com/abrasileirachiado/ 2025-04-09      29   \n",
       "...                                            ...        ...     ...   \n",
       "4145  https://www.instagram.com/apadariaportuguesa 2023-01-06   1,818   \n",
       "4146  https://www.instagram.com/apadariaportuguesa 2023-01-05     294   \n",
       "4147  https://www.instagram.com/apadariaportuguesa 2023-01-02   1,288   \n",
       "4148  https://www.instagram.com/apadariaportuguesa 2023-01-01   1,906   \n",
       "4149  https://www.instagram.com/apadariaportuguesa 2022-12-27     118   \n",
       "\n",
       "     followers  \n",
       "0        9,526  \n",
       "1        9,526  \n",
       "2        9,526  \n",
       "3        9,526  \n",
       "4        9,526  \n",
       "...        ...  \n",
       "4145     65.5K  \n",
       "4146     65.5K  \n",
       "4147     65.5K  \n",
       "4148     65.5K  \n",
       "4149     65.5K  \n",
       "\n",
       "[4083 rows x 5 columns]"
      ]
     },
     "execution_count": 5,
     "metadata": {},
     "output_type": "execute_result"
    }
   ],
   "source": [
    "final = resw.reset_index().merge(metaw, on=\"cafe\", how=\"inner\").dropna()\n",
    "final"
   ]
  },
  {
   "cell_type": "code",
   "execution_count": 6,
   "id": "78129734",
   "metadata": {},
   "outputs": [
    {
     "data": {
      "application/vnd.plotly.v1+json": {
       "config": {
        "plotlyServerURL": "https://plot.ly"
       },
       "data": [
        {
         "customdata": [
          [
           "https://www.instagram.com/p/Ch64uDiMOCI/"
          ],
          [
           "https://www.instagram.com/p/CmyiSc8MqJm/"
          ],
          [
           "https://www.instagram.com/p/Cm_aRCEtQH5/"
          ],
          [
           "https://www.instagram.com/p/CnKGh1xJpaU/"
          ],
          [
           "https://www.instagram.com/p/CnMSPf_Iiqu/"
          ],
          [
           "https://www.instagram.com/p/CnRb1M6KEvP/"
          ],
          [
           "https://www.instagram.com/p/CnWla6yKNS4/"
          ],
          [
           "https://www.instagram.com/p/CneTzsfsR5s/"
          ],
          [
           "https://www.instagram.com/p/CnjdZHvKvue/"
          ],
          [
           "https://www.instagram.com/p/CnpyMQmMMGT/"
          ],
          [
           "https://www.instagram.com/p/CnpyPJGM8Ry/"
          ],
          [
           "https://www.instagram.com/p/Cnom-7iIw20/"
          ],
          [
           "https://www.instagram.com/p/CnpyS2nMhsD/"
          ],
          [
           "https://www.instagram.com/p/CnpyWzjM8es/"
          ],
          [
           "https://www.instagram.com/p/Cnuyg0-M6uX/"
          ],
          [
           "https://www.instagram.com/p/CnxFDkjMrh2/"
          ],
          [
           "https://www.instagram.com/p/CnxDiaDMpoz/"
          ],
          [
           "https://www.instagram.com/p/CnxFNW2sj9i/"
          ],
          [
           "https://www.instagram.com/p/CnxFLehM2ev/"
          ],
          [
           "https://www.instagram.com/p/CnxFObOs1lr/"
          ],
          [
           "https://www.instagram.com/p/CnxFPlqsCRC/"
          ],
          [
           "https://www.instagram.com/p/CnxFSAtMGKd/"
          ],
          [
           "https://www.instagram.com/p/CnwVXc1oRN4/"
          ],
          [
           "https://www.instagram.com/p/CnxFJ8Ts0-c/"
          ],
          [
           "https://www.instagram.com/p/CnzOxzCsL-p/"
          ],
          [
           "https://www.instagram.com/p/CnzOs_usX9J/"
          ],
          [
           "https://www.instagram.com/p/CnzOvNjsOsU/"
          ],
          [
           "https://www.instagram.com/p/Cn1e9Qxo-US/"
          ],
          [
           "https://www.instagram.com/p/Cn6ojCdK0yD/"
          ],
          [
           "https://www.instagram.com/p/Cn62Sh_o66F/"
          ],
          [
           "https://www.instagram.com/p/CoCW8P6vaJD/"
          ],
          [
           "https://www.instagram.com/p/CoE9Gs9MqrR/"
          ],
          [
           "https://www.instagram.com/p/CoE9MuuMd4L/"
          ],
          [
           "https://www.instagram.com/p/CoE9Lh7s65d/"
          ],
          [
           "https://www.instagram.com/p/CoE9Ia0sUyo/"
          ],
          [
           "https://www.instagram.com/p/CoE9KRwM8nb/"
          ],
          [
           "https://www.instagram.com/p/CoHuQuWM1Y7/"
          ],
          [
           "https://www.instagram.com/p/CoM32VoMyek/"
          ],
          [
           "https://www.instagram.com/p/CoUmO__s2nl/"
          ],
          [
           "https://www.instagram.com/p/CoZv0qpsIpV/"
          ],
          [
           "https://www.instagram.com/p/CohvZwes6EH/"
          ],
          [
           "https://www.instagram.com/p/Cohvdk8sm1o/"
          ],
          [
           "https://www.instagram.com/p/ComeCMYsm9n/"
          ],
          [
           "https://www.instagram.com/p/ComnzFesz5X/"
          ],
          [
           "https://www.instagram.com/p/ComeE3ksfKj/"
          ],
          [
           "https://www.instagram.com/p/Coo2rGjsxeM/"
          ],
          [
           "https://www.instagram.com/p/CopMl1ls2gv/"
          ],
          [
           "https://www.instagram.com/p/CorxY1xMvMl/"
          ],
          [
           "https://www.instagram.com/p/Cou043us5hW/"
          ],
          [
           "https://www.instagram.com/p/Cow6-brM-gS/"
          ],
          [
           "https://www.instagram.com/p/Co4pYCOs8Ii/"
          ],
          [
           "https://www.instagram.com/p/Co9y80ts4Qy/"
          ],
          [
           "https://www.instagram.com/p/Co-f0sqNdgr/"
          ],
          [
           "https://www.instagram.com/p/Co-gx-ZLd-W/"
          ],
          [
           "https://www.instagram.com/p/Co_0xw-rMzy/"
          ],
          [
           "https://www.instagram.com/p/CpC8iuIMc-E/"
          ],
          [
           "https://www.instagram.com/p/CpHsDnFM2kH/"
          ],
          [
           "https://www.instagram.com/p/CpKq7EsMWcj/"
          ],
          [
           "https://www.instagram.com/p/CpP0hGioKKd/"
          ],
          [
           "https://www.instagram.com/p/CpUmPG7s-pE/"
          ],
          [
           "https://www.instagram.com/p/CpUmMKoMT43/"
          ],
          [
           "https://www.instagram.com/p/CpUmUPWsmIP/"
          ],
          [
           "https://www.instagram.com/p/CpUmXEgsKJQ/"
          ],
          [
           "https://www.instagram.com/p/CpUmZB0MnD7/"
          ],
          [
           "https://www.instagram.com/p/CpUmcVNscWT/"
          ],
          [
           "https://www.instagram.com/p/CpUmkOxs1Q_/"
          ],
          [
           "https://www.instagram.com/p/CpUmoxQsvME/"
          ],
          [
           "https://www.instagram.com/p/CpU-HH9Iv8V/"
          ],
          [
           "https://www.instagram.com/p/CpUmR2jMGb4/"
          ],
          [
           "https://www.instagram.com/p/CpcsfwQIjHQ/"
          ],
          [
           "https://www.instagram.com/p/Cpmder-slOO/"
          ],
          [
           "https://www.instagram.com/p/CpmdjfTMmh7/"
          ],
          [
           "https://www.instagram.com/p/CpmdbYmsndE/"
          ],
          [
           "https://www.instagram.com/p/Cpm_rFzIgJy/"
          ],
          [
           "https://www.instagram.com/p/Cppr6QhMt0K/"
          ],
          [
           "https://www.instagram.com/p/Cppr-i9MWxH/"
          ],
          [
           "https://www.instagram.com/p/CppsA8lMSyp/"
          ],
          [
           "https://www.instagram.com/p/CppsCw8si3a/"
          ],
          [
           "https://www.instagram.com/p/CppsGW3s49o/"
          ],
          [
           "https://www.instagram.com/p/CppsJvyMFHS/"
          ],
          [
           "https://www.instagram.com/p/CppsOPdMG_S/"
          ],
          [
           "https://www.instagram.com/p/CpsZOpKM9a9/"
          ],
          [
           "https://www.instagram.com/p/CpsZTrSsi1N/"
          ],
          [
           "https://www.instagram.com/p/CpsZRMaMO9y/"
          ],
          [
           "https://www.instagram.com/p/CpuuDspojly/"
          ],
          [
           "https://www.instagram.com/p/CptX7QVIBsC/"
          ],
          [
           "https://www.instagram.com/p/Cp0-FpUttv_/"
          ],
          [
           "https://www.instagram.com/p/Cpz3pexo5oc/"
          ],
          [
           "https://www.instagram.com/p/Cp3EadPsapI/"
          ],
          [
           "https://www.instagram.com/p/Cp2YEHFs1zJ/"
          ],
          [
           "https://www.instagram.com/p/Cp5BPO6oUs3/"
          ],
          [
           "https://www.instagram.com/p/Cp7rXV0MBmp/"
          ],
          [
           "https://www.instagram.com/p/Cp7rVgBs0gc/"
          ],
          [
           "https://www.instagram.com/p/Cp7rRxfMMKB/"
          ],
          [
           "https://www.instagram.com/p/Cp7rKJsseWa/"
          ],
          [
           "https://www.instagram.com/p/Cp7q8N5sGXi/"
          ],
          [
           "https://www.instagram.com/p/Cp7q5q9snKU/"
          ],
          [
           "https://www.instagram.com/p/Cp7pfudsKG5/"
          ],
          [
           "https://www.instagram.com/p/CqAvnzfoQh0/"
          ],
          [
           "https://www.instagram.com/p/CqFmFwjI1FF/?img_index=1"
          ],
          [
           "https://www.instagram.com/p/CqF5Nd7I9Vp/"
          ],
          [
           "https://www.instagram.com/p/CqLCzQvIVyH/"
          ],
          [
           "https://www.instagram.com/p/CqMBqvtM_iv/"
          ],
          [
           "https://www.instagram.com/p/CqMBs5vMUnz/"
          ],
          [
           "https://www.instagram.com/p/CqMB4OWsqwq/"
          ],
          [
           "https://www.instagram.com/p/CqMBoVFME58/"
          ],
          [
           "https://www.instagram.com/p/CqRQ_5StOo5/"
          ],
          [
           "https://www.instagram.com/p/CqSqUnnIIQD/"
          ],
          [
           "https://www.instagram.com/p/CqaXWKyMh8M/"
          ],
          [
           "https://www.instagram.com/p/CqZOOuMowel/"
          ],
          [
           "https://www.instagram.com/p/Cqc9ftHoCAd/"
          ],
          [
           "https://www.instagram.com/p/Cqf_nrtMmwZ/"
          ],
          [
           "https://www.instagram.com/p/Cqf_qdsMivt/"
          ],
          [
           "https://www.instagram.com/p/Cqf_el9Ml_l/"
          ],
          [
           "https://www.instagram.com/p/Cqf_t7_sSUJ/"
          ],
          [
           "https://www.instagram.com/p/Cqf_wgpsJ03/"
          ],
          [
           "https://www.instagram.com/p/Cqf_1XqM9Ve/"
          ],
          [
           "https://www.instagram.com/p/CqiMOMnsDDD/"
          ],
          [
           "https://www.instagram.com/p/CqiMH7KMt9k/"
          ],
          [
           "https://www.instagram.com/p/CqiMFEyMB2p/"
          ],
          [
           "https://www.instagram.com/p/CqiMBtuMov7/"
          ],
          [
           "https://www.instagram.com/p/CqiL88EMnUY/"
          ],
          [
           "https://www.instagram.com/p/CqiL55Es2GG/"
          ],
          [
           "https://www.instagram.com/p/CqiMMBQMnWO/"
          ],
          [
           "https://www.instagram.com/p/CqkeJjsIP9b/"
          ],
          [
           "https://www.instagram.com/p/CqnGrNOMT0c/"
          ],
          [
           "https://www.instagram.com/p/CqnGx2fMprm/"
          ],
          [
           "https://www.instagram.com/p/CqnGgu-s8jv/"
          ],
          [
           "https://www.instagram.com/p/CqnGZ16sfer/"
          ],
          [
           "https://www.instagram.com/p/CqnGVJfMhiC/"
          ],
          [
           "https://www.instagram.com/p/CqnGvOCs2Mb/"
          ],
          [
           "https://www.instagram.com/p/CqnG1FEsHfs/"
          ],
          [
           "https://www.instagram.com/p/Cqp9wiLs5w8/"
          ],
          [
           "https://www.instagram.com/p/Cqq1o8rslkg/"
          ],
          [
           "https://www.instagram.com/p/Cqp9yXwsf1g/"
          ],
          [
           "https://www.instagram.com/p/Cqp9uk3sjic/"
          ],
          [
           "https://www.instagram.com/p/Cqp9siYsJFc/"
          ],
          [
           "https://www.instagram.com/p/CqpnvTGoiXG/"
          ],
          [
           "https://www.instagram.com/p/Cqq1lEfsSap/"
          ],
          [
           "https://www.instagram.com/p/CquxU8DIG5x/"
          ],
          [
           "https://www.instagram.com/p/Cqz66wgIULW/"
          ],
          [
           "https://www.instagram.com/p/Cq2cWkUM02h/"
          ],
          [
           "https://www.instagram.com/p/Cq2ftw5ohR8/"
          ],
          [
           "https://www.instagram.com/p/CrAy5Mtogla/"
          ],
          [
           "https://www.instagram.com/p/CrI8uTsslpH/"
          ],
          [
           "https://www.instagram.com/p/CrI8XhgsOUm/"
          ],
          [
           "https://www.instagram.com/p/CrIhR71oRAX/"
          ],
          [
           "https://www.instagram.com/p/CrIF4hdMcbv/"
          ],
          [
           "https://www.instagram.com/p/CrIFwP3svMX/"
          ],
          [
           "https://www.instagram.com/p/CrIFhY6sX2S/"
          ],
          [
           "https://www.instagram.com/p/CrIFpIOMDjA/"
          ],
          [
           "https://www.instagram.com/p/CrNVVTCMqse/"
          ],
          [
           "https://www.instagram.com/p/CrNq37yIKIG/"
          ],
          [
           "https://www.instagram.com/p/CrP71Zlsf3_/"
          ],
          [
           "https://www.instagram.com/p/CrS0dOsIpSH/"
          ],
          [
           "https://www.instagram.com/p/CrVGVmEs_8u/"
          ],
          [
           "https://www.instagram.com/p/CrVGNWqMg8z/"
          ],
          [
           "https://www.instagram.com/p/Crai12toRgu/"
          ],
          [
           "https://www.instagram.com/p/Crc2IDosam6/"
          ],
          [
           "https://www.instagram.com/p/Crc2MUrszol/"
          ],
          [
           "https://www.instagram.com/p/Crc2QKEsMqs/"
          ],
          [
           "https://www.instagram.com/p/CrdHotNo05B/"
          ],
          [
           "https://www.instagram.com/p/Crfsbo3oqsN/"
          ],
          [
           "https://www.instagram.com/p/Crls-D8oRtR/"
          ],
          [
           "https://www.instagram.com/p/Crk2Beao_KG/"
          ],
          [
           "https://www.instagram.com/p/CrvOBW0MVyy/"
          ],
          [
           "https://www.instagram.com/p/CrvN2wsMsYK/"
          ],
          [
           "https://www.instagram.com/p/CrvOJ0IMQdE/"
          ],
          [
           "https://www.instagram.com/p/CrvqoJWskZU/"
          ],
          [
           "https://www.instagram.com/p/CrvOEogsBiN/"
          ],
          [
           "https://www.instagram.com/p/Crxt_2ooTAb/"
          ],
          [
           "https://www.instagram.com/p/CrylFersW9C/"
          ],
          [
           "https://www.instagram.com/p/Cryk_W9sqUY/"
          ],
          [
           "https://www.instagram.com/p/CrylB6KMxfu/"
          ],
          [
           "https://www.instagram.com/p/Cr23liRoASH/"
          ],
          [
           "https://www.instagram.com/p/Cr6XPPJsEKV/"
          ],
          [
           "https://www.instagram.com/p/Cr6fzTrM6V4/"
          ],
          [
           "https://www.instagram.com/p/Cr8BLT8I9HG/"
          ],
          [
           "https://www.instagram.com/p/Cr7C7BdoBL8/"
          ],
          [
           "https://www.instagram.com/p/Cr_IAe9MFyk/"
          ],
          [
           "https://www.instagram.com/p/Cr_H9GzsU9v/"
          ],
          [
           "https://www.instagram.com/p/CsBcjR8Myc_/"
          ],
          [
           "https://www.instagram.com/p/CsBrdvrsa-H/"
          ],
          [
           "https://www.instagram.com/p/CsBrf-9Mc6q/"
          ],
          [
           "https://www.instagram.com/p/CsEoazzsLmA/"
          ],
          [
           "https://www.instagram.com/p/CsD9Bb1M911/"
          ],
          [
           "https://www.instagram.com/p/CsD9NBxM6qE/"
          ],
          [
           "https://www.instagram.com/p/CsCvxtGoKEa/"
          ],
          [
           "https://www.instagram.com/p/CsDvj-GoXoJ/"
          ],
          [
           "https://www.instagram.com/p/CsEvzmoMup8/"
          ],
          [
           "https://www.instagram.com/p/CsD82EyMTn3/"
          ],
          [
           "https://www.instagram.com/p/CsEwAyAMvCo/"
          ],
          [
           "https://www.instagram.com/p/CsEv3AmMGsy/"
          ],
          [
           "https://www.instagram.com/p/CsEoc6WscH1/"
          ],
          [
           "https://www.instagram.com/p/CsGxim1o60i/"
          ],
          [
           "https://www.instagram.com/p/CsI5JnroQu7/"
          ],
          [
           "https://www.instagram.com/p/CsJfFqPsxPU/"
          ],
          [
           "https://www.instagram.com/p/CsJfBprMTAA/"
          ],
          [
           "https://www.instagram.com/p/CsJe_AasA2W/"
          ],
          [
           "https://www.instagram.com/p/CsJe8RFMMIe/"
          ],
          [
           "https://www.instagram.com/p/CsKatJUorow/"
          ],
          [
           "https://www.instagram.com/p/CsKavxnIVH8/"
          ],
          [
           "https://www.instagram.com/p/CsKa0xgomgZ/"
          ],
          [
           "https://www.instagram.com/p/CsMMmVXsNr9/"
          ],
          [
           "https://www.instagram.com/p/CsKarH2I6tf/"
          ],
          [
           "https://www.instagram.com/p/CsRYIFwsGIg/"
          ],
          [
           "https://www.instagram.com/p/CsRYKr5MNmO/"
          ],
          [
           "https://www.instagram.com/p/CsRYMmVMAGS/"
          ],
          [
           "https://www.instagram.com/p/CsRYCVIs_Zo/"
          ],
          [
           "https://www.instagram.com/p/CsQnibjoWtQ/"
          ],
          [
           "https://www.instagram.com/p/CsRsWSusqBl/"
          ],
          [
           "https://www.instagram.com/p/CsRYF7qMWxQ/"
          ],
          [
           "https://www.instagram.com/p/CsTeKcyMkJK/"
          ],
          [
           "https://www.instagram.com/p/CsTeMQbMVb4/"
          ],
          [
           "https://www.instagram.com/p/CsTePGCsljK/"
          ],
          [
           "https://www.instagram.com/p/CsTeUOOM4XI/"
          ],
          [
           "https://www.instagram.com/p/CsVxH-GIT_e/"
          ],
          [
           "https://www.instagram.com/p/CsU30R-IrgQ/"
          ],
          [
           "https://www.instagram.com/p/CsU3xdIodbE/"
          ],
          [
           "https://www.instagram.com/p/CsY4j0pM5ox/"
          ],
          [
           "https://www.instagram.com/p/CsY4mMkM-Ej/"
          ],
          [
           "https://www.instagram.com/p/CsY4n38MKyz/"
          ],
          [
           "https://www.instagram.com/p/Csa6t-eKmNs/"
          ],
          [
           "https://www.instagram.com/p/Csesp6isnFw/"
          ],
          [
           "https://www.instagram.com/p/CsesuLOszpq/"
          ],
          [
           "https://www.instagram.com/p/Cseswapsu1U/"
          ],
          [
           "https://www.instagram.com/p/CsesyyOM2x6/"
          ],
          [
           "https://www.instagram.com/p/CshL5v2MYQq/"
          ],
          [
           "https://www.instagram.com/p/CsgUFwyo_YD/"
          ],
          [
           "https://www.instagram.com/p/CsjdQSosgq8/"
          ],
          [
           "https://www.instagram.com/p/Csjb6TbMjoG/"
          ],
          [
           "https://www.instagram.com/p/CsipGV2I--z/"
          ],
          [
           "https://www.instagram.com/p/Csjb9uAMM3A/"
          ],
          [
           "https://www.instagram.com/p/CsobNZRM5zH/"
          ],
          [
           "https://www.instagram.com/p/CsnysIRI3Z9/"
          ],
          [
           "https://www.instagram.com/p/CsobQf1MddW/"
          ],
          [
           "https://www.instagram.com/p/CsrvX9-MDDN/"
          ],
          [
           "https://www.instagram.com/p/Css8R5lIXjU/"
          ],
          [
           "https://www.instagram.com/p/CsvrdoSs4sv/"
          ],
          [
           "https://www.instagram.com/p/CsvmKQBs2Y0/"
          ],
          [
           "https://www.instagram.com/p/CsvrhKpMWBg/"
          ],
          [
           "https://www.instagram.com/p/Cs1hm4fosU2/?img_index=1"
          ],
          [
           "https://www.instagram.com/p/Cs1avQTIpOE/?img_index=1"
          ],
          [
           "https://www.instagram.com/p/Cs0qqk4oqUQ/"
          ],
          [
           "https://www.instagram.com/p/Cs50QN5I5SQ/"
          ],
          [
           "https://www.instagram.com/p/Cs_Lk85ojCT/"
          ],
          [
           "https://www.instagram.com/p/CtFUIY4MaoX/"
          ],
          [
           "https://www.instagram.com/p/CtFUCQ4sN3i/"
          ],
          [
           "https://www.instagram.com/p/CtFUFFIs9Ds/"
          ],
          [
           "https://www.instagram.com/p/CtG59lyoclW/"
          ],
          [
           "https://www.instagram.com/p/CtKiSLFM6b7/"
          ],
          [
           "https://www.instagram.com/p/CtKiUGTMn4M/"
          ],
          [
           "https://www.instagram.com/p/CtMDkh9IxrR/"
          ],
          [
           "https://www.instagram.com/p/CtRNJ-OI6GW/"
          ],
          [
           "https://www.instagram.com/p/CtTx8V7Icii/"
          ],
          [
           "https://www.instagram.com/p/CtY7h6eIrsu/"
          ],
          [
           "https://www.instagram.com/p/CteFHmcIgWb/"
          ],
          [
           "https://www.instagram.com/p/CthTy6XsqRN/"
          ],
          [
           "https://www.instagram.com/p/CtgQlveMSwA/"
          ],
          [
           "https://www.instagram.com/p/CthTwgHM9_G/"
          ],
          [
           "https://www.instagram.com/p/CtjOtYXIKdQ/"
          ],
          [
           "https://www.instagram.com/p/CtovL5esWWn/"
          ],
          [
           "https://www.instagram.com/p/CtovI2gsm-3/"
          ],
          [
           "https://www.instagram.com/p/CtrYYDvsPrP/"
          ],
          [
           "https://www.instagram.com/p/CtrYZtgsl_B/"
          ],
          [
           "https://www.instagram.com/p/CtrYbvyMkUM/"
          ],
          [
           "https://www.instagram.com/p/CttIOiksUSk/"
          ],
          [
           "https://www.instagram.com/p/CttIITnMyhx/"
          ],
          [
           "https://www.instagram.com/p/CttIMZqMGyd/"
          ],
          [
           "https://www.instagram.com/p/CtwGr4iIUIK/"
          ],
          [
           "https://www.instagram.com/p/CtvmGCrsg8g/"
          ],
          [
           "https://www.instagram.com/p/CtyItsEsyNT/"
          ],
          [
           "https://www.instagram.com/p/CtyIp_isx_E/"
          ],
          [
           "https://www.instagram.com/p/Ct4NFoqMRys/"
          ],
          [
           "https://www.instagram.com/p/Ct4uPOEMMMv/"
          ],
          [
           "https://www.instagram.com/p/Ct4NDyUsY4o/"
          ],
          [
           "https://www.instagram.com/p/Ct2keEet-Re/"
          ],
          [
           "https://www.instagram.com/p/Ct2kbRHNCw9/"
          ],
          [
           "https://www.instagram.com/p/Ct4uSYPMCLt/"
          ],
          [
           "https://www.instagram.com/p/Ct31EdEo6DN/"
          ],
          [
           "https://www.instagram.com/p/Ct4uUnAsL_5/"
          ],
          [
           "https://www.instagram.com/p/Ct5_RKUs-VZ/"
          ],
          [
           "https://www.instagram.com/p/Ct6fRP5Ma-u/"
          ],
          [
           "https://www.instagram.com/p/Ct9uuXRI3uB/"
          ],
          [
           "https://www.instagram.com/p/CuDDZmisaaY/"
          ],
          [
           "https://www.instagram.com/p/CuDDcJ9sE1c/"
          ],
          [
           "https://www.instagram.com/p/CuDDf9cMR3-/"
          ],
          [
           "https://www.instagram.com/p/CuFbWnDMmls/"
          ],
          [
           "https://www.instagram.com/p/CuHR1keouAt/"
          ],
          [
           "https://www.instagram.com/p/CuKF1ClMaft/"
          ],
          [
           "https://www.instagram.com/p/CuKF68HMWCU/"
          ],
          [
           "https://www.instagram.com/p/CuKF36Gsg8P/"
          ],
          [
           "https://www.instagram.com/p/CuIqU0xtrD0/"
          ],
          [
           "https://www.instagram.com/p/CuMf5oAMp7c/"
          ],
          [
           "https://www.instagram.com/p/CuPAObeI-Bv/"
          ],
          [
           "https://www.instagram.com/p/CuQFbHhs6iK/"
          ],
          [
           "https://www.instagram.com/p/CuUJz4po1EB/"
          ],
          [
           "https://www.instagram.com/p/CuaKFVtsVTn/"
          ],
          [
           "https://www.instagram.com/p/CuaKCGispoa/"
          ],
          [
           "https://www.instagram.com/p/CuaJ6LWMeSf/"
          ],
          [
           "https://www.instagram.com/p/CuZTZr1ouAJ/"
          ],
          [
           "https://www.instagram.com/p/CuaJ8FLMLim/"
          ],
          [
           "https://www.instagram.com/p/CucV1UqM67c/"
          ],
          [
           "https://www.instagram.com/p/CucBzZ6sh_f/"
          ],
          [
           "https://www.instagram.com/p/CucB1vLMGbP/"
          ],
          [
           "https://www.instagram.com/p/CucB3y4M0iB/"
          ],
          [
           "https://www.instagram.com/p/CucB6mRM3FJ/"
          ],
          [
           "https://www.instagram.com/p/CucB9Z5MlhE/"
          ],
          [
           "https://www.instagram.com/p/CucB_wLMcpE/"
          ],
          [
           "https://www.instagram.com/p/CucV3Pas9UZ/"
          ],
          [
           "https://www.instagram.com/p/Cub4Mxhojmi/"
          ],
          [
           "https://www.instagram.com/p/CuhHeIQsWT2/"
          ],
          [
           "https://www.instagram.com/p/CumLYKJo3Er/"
          ],
          [
           "https://www.instagram.com/p/Cup0VFRsJy6/"
          ],
          [
           "https://www.instagram.com/p/CurU-Fao3Ji/"
          ],
          [
           "https://www.instagram.com/p/CuvCXxUMA9-/"
          ],
          [
           "https://www.instagram.com/p/CuugnIpsIFa/"
          ],
          [
           "https://www.instagram.com/p/CuugkBFscb1/"
          ],
          [
           "https://www.instagram.com/p/Cuu2lAWMxnS/"
          ],
          [
           "https://www.instagram.com/p/Cuu2niCMtvX/"
          ],
          [
           "https://www.instagram.com/p/CuwcSpbMBc2/"
          ],
          [
           "https://www.instagram.com/p/Cuwkb8VP6J-/"
          ],
          [
           "https://www.instagram.com/p/CuxyhJRNRCm/"
          ],
          [
           "https://www.instagram.com/p/CuzDWqQoixk/"
          ],
          [
           "https://www.instagram.com/p/Cu4M8srIbR9/"
          ],
          [
           "https://www.instagram.com/p/Cu9Wh6OogBp/"
          ],
          [
           "https://www.instagram.com/p/Cu__cUyM2A-/"
          ],
          [
           "https://www.instagram.com/p/Cu__hsgMapA/"
          ],
          [
           "https://www.instagram.com/p/Cu__Y0ysJ1R/"
          ],
          [
           "https://www.instagram.com/p/CvFE6oNI6-j/"
          ],
          [
           "https://www.instagram.com/p/CvKl3uKMCkr/"
          ],
          [
           "https://www.instagram.com/p/CvKl0NTsaiz/"
          ],
          [
           "https://www.instagram.com/p/CvKl6O4sVxN/"
          ],
          [
           "https://www.instagram.com/p/CvKOga_obOm/"
          ],
          [
           "https://www.instagram.com/p/CvPYGWQoNGP/"
          ],
          [
           "https://www.instagram.com/p/CvXGevooOAV/"
          ],
          [
           "https://www.instagram.com/p/CvcG4vls0Hh/"
          ],
          [
           "https://www.instagram.com/p/CvcG6jps_qR/"
          ],
          [
           "https://www.instagram.com/p/CvcG8e2MAJv/"
          ],
          [
           "https://www.instagram.com/p/CvcQE0nIeNP/"
          ],
          [
           "https://www.instagram.com/p/CvcWxlzPLI3/"
          ],
          [
           "https://www.instagram.com/p/CvieqQitKVa/"
          ],
          [
           "https://www.instagram.com/p/CvhZqNNt_LL/"
          ],
          [
           "https://www.instagram.com/p/CviWwstMRnw/"
          ],
          [
           "https://www.instagram.com/p/CvpIC4WJmqY/"
          ],
          [
           "https://www.instagram.com/p/CvuRo_jJzlQ/"
          ],
          [
           "https://www.instagram.com/p/Cvw9WZyMqWW/"
          ],
          [
           "https://www.instagram.com/p/CvzbOmHtgCl/"
          ],
          [
           "https://www.instagram.com/p/Cv7JnE-pJnO/"
          ],
          [
           "https://www.instagram.com/p/Cv7-_P8M91M/"
          ],
          [
           "https://www.instagram.com/p/Cv9xGxHspXY/"
          ],
          [
           "https://www.instagram.com/p/CwATM9RLM85/"
          ],
          [
           "https://www.instagram.com/p/CwDs2a5Mcg7/"
          ],
          [
           "https://www.instagram.com/p/CwDsz36sHe-/"
          ],
          [
           "https://www.instagram.com/p/CwFz6E9M5L8/"
          ],
          [
           "https://www.instagram.com/p/CwFcylKtKfW/"
          ],
          [
           "https://www.instagram.com/p/CwIF8F8Mm1q/"
          ],
          [
           "https://www.instagram.com/p/CwILTyosYl-/"
          ],
          [
           "https://www.instagram.com/p/CwNLLObh2Tk/"
          ],
          [
           "https://www.instagram.com/p/CwQxcqcMuOS/"
          ],
          [
           "https://www.instagram.com/p/CwPU9nBMKuv/"
          ],
          [
           "https://www.instagram.com/p/CwPVBKiM90U/"
          ],
          [
           "https://www.instagram.com/p/CwSUxWVBkiu/"
          ],
          [
           "https://www.instagram.com/p/CwXeWxrPVe2/"
          ],
          [
           "https://www.instagram.com/p/CwbAkYkMUEl/"
          ],
          [
           "https://www.instagram.com/p/CwbAin-sC3D/"
          ],
          [
           "https://www.instagram.com/p/CwbAf6KsbyJ/"
          ],
          [
           "https://www.instagram.com/p/CwbAdp_My19/"
          ],
          [
           "https://www.instagram.com/p/CwdRNGzs8Ev/"
          ],
          [
           "https://www.instagram.com/p/CwfMvYiIHwC/"
          ],
          [
           "https://www.instagram.com/p/CwimmorMBps/"
          ],
          [
           "https://www.instagram.com/p/CwkWVPzIarv/"
          ],
          [
           "https://www.instagram.com/p/Cwm8n15Mwdv/"
          ],
          [
           "https://www.instagram.com/p/Cwm8pWZsv2i/"
          ],
          [
           "https://www.instagram.com/p/Cwm8tIGs4Jd/"
          ],
          [
           "https://www.instagram.com/p/Cwm8z0UMMEj/"
          ],
          [
           "https://www.instagram.com/p/Cwm8x8LsYHW/"
          ],
          [
           "https://www.instagram.com/p/Cwm8q89sJMX/"
          ],
          [
           "https://www.instagram.com/p/Cwm8wn7Mwl6/"
          ],
          [
           "https://www.instagram.com/p/Cwm8u7yMDhm/"
          ],
          [
           "https://www.instagram.com/p/Cwm8NpMs7UY/"
          ],
          [
           "https://www.instagram.com/p/Cwpf6oDIqtG/"
          ],
          [
           "https://www.instagram.com/p/CwtNFPYMfIn/"
          ],
          [
           "https://www.instagram.com/p/CwtM7els2Jm/"
          ],
          [
           "https://www.instagram.com/p/CwtNDlCM6RQ/"
          ],
          [
           "https://www.instagram.com/p/CwxOTLqokD6/"
          ],
          [
           "https://www.instagram.com/p/Cw0Ms0Ks8LE/"
          ],
          [
           "https://www.instagram.com/p/Cw0MwHxs7NP/"
          ],
          [
           "https://www.instagram.com/p/Cw0MyawMpzt/"
          ],
          [
           "https://www.instagram.com/p/Cw0M0o8sT4n/"
          ],
          [
           "https://www.instagram.com/p/Cw0M6PXMDKz/"
          ],
          [
           "https://www.instagram.com/p/Cw2X5Jxo5UJ/"
          ],
          [
           "https://www.instagram.com/p/Cw8TMgfM9Uc/"
          ],
          [
           "https://www.instagram.com/p/Cw7vxcLs-6b/"
          ],
          [
           "https://www.instagram.com/p/Cw7vuW7MifT/"
          ],
          [
           "https://www.instagram.com/p/Cw7hfLZIs_7/"
          ],
          [
           "https://www.instagram.com/p/CxB8VGYtrix/"
          ],
          [
           "https://www.instagram.com/p/CxB8SYyNUsy/"
          ],
          [
           "https://www.instagram.com/p/CxDP95LodsT/"
          ],
          [
           "https://www.instagram.com/p/CxB8P1lNStf/"
          ],
          [
           "https://www.instagram.com/p/CxIZd5CIqMo/"
          ],
          [
           "https://www.instagram.com/p/CxNjDDmoxWa/"
          ],
          [
           "https://www.instagram.com/p/CxNpIgKMobe/"
          ],
          [
           "https://www.instagram.com/p/CxRAanCMcA7/"
          ],
          [
           "https://www.instagram.com/p/CxVRcFTI1tf/"
          ],
          [
           "https://www.instagram.com/p/CxatomsszMQ/"
          ],
          [
           "https://www.instagram.com/p/CxabBl9IrP6/"
          ],
          [
           "https://www.instagram.com/p/CxatlH_MM92/"
          ],
          [
           "https://www.instagram.com/p/Cxatre2MT-9/"
          ],
          [
           "https://www.instagram.com/p/CxbCojZMYjb/"
          ],
          [
           "https://www.instagram.com/p/Cxd9PbuMdOZ/"
          ],
          [
           "https://www.instagram.com/p/Cxfkn99o0Am/"
          ],
          [
           "https://www.instagram.com/p/Cxi9p-cMtgm/"
          ],
          [
           "https://www.instagram.com/p/CxhxvQAse-j/"
          ],
          [
           "https://www.instagram.com/p/CxhxePeMdzQ/"
          ],
          [
           "https://www.instagram.com/p/CxhxsDkMvG2/"
          ],
          [
           "https://www.instagram.com/p/CxhxqYYMsNn/"
          ],
          [
           "https://www.instagram.com/p/Cxhxmb_sGi8/"
          ],
          [
           "https://www.instagram.com/p/CxhxkVmsqHI/"
          ],
          [
           "https://www.instagram.com/p/CxhxiH3s8-R/"
          ],
          [
           "https://www.instagram.com/p/CxhxgK9MRPR/"
          ],
          [
           "https://www.instagram.com/p/CxhxtuYM3b9/"
          ],
          [
           "https://www.instagram.com/p/Cxhxoq9sK4q/"
          ],
          [
           "https://www.instagram.com/p/CxlQbF6sswj/"
          ],
          [
           "https://www.instagram.com/p/CxnctjXsmQR/"
          ],
          [
           "https://www.instagram.com/p/Cxncri3scKn/"
          ],
          [
           "https://www.instagram.com/p/CxnTACTIkjK/"
          ],
          [
           "https://www.instagram.com/p/CxnSBcuMmw3/"
          ],
          [
           "https://www.instagram.com/p/Cxs_aq1MZst/"
          ],
          [
           "https://www.instagram.com/p/CxusXcFMmEL/"
          ],
          [
           "https://www.instagram.com/p/Cxu9Dx3MIY7/"
          ],
          [
           "https://www.instagram.com/p/Cxx9bKqMH1y/"
          ],
          [
           "https://www.instagram.com/p/CxxmLl0C7hg/"
          ],
          [
           "https://www.instagram.com/p/Cx050Zqsv4l/"
          ],
          [
           "https://www.instagram.com/p/Cx05yHzsX6B/"
          ],
          [
           "https://www.instagram.com/p/Cx05v7nMRlS/"
          ],
          [
           "https://www.instagram.com/p/Cx2jb8Gs-gb/"
          ],
          [
           "https://www.instagram.com/p/Cx6C_47szIB/"
          ],
          [
           "https://www.instagram.com/p/Cx59wvhPFVV/"
          ],
          [
           "https://www.instagram.com/p/Cx879HHM8O-/"
          ],
          [
           "https://www.instagram.com/p/Cx89g4LMafV/"
          ],
          [
           "https://www.instagram.com/p/Cx7ezn5MDXt/"
          ],
          [
           "https://www.instagram.com/p/Cx-xwmtMM6p/"
          ],
          [
           "https://www.instagram.com/p/Cx9TNtNgNL5/"
          ],
          [
           "https://www.instagram.com/p/Cx-7hyhMiJs/"
          ],
          [
           "https://www.instagram.com/p/Cx_HWYotA6O/"
          ],
          [
           "https://www.instagram.com/p/CyBt4LmMMz5/"
          ],
          [
           "https://www.instagram.com/p/CyBt0xrs46i/"
          ],
          [
           "https://www.instagram.com/p/CyBtywhMznR/"
          ],
          [
           "https://www.instagram.com/p/CyBt7mGMf81/"
          ],
          [
           "https://www.instagram.com/p/CyBt2kCs7EE/"
          ],
          [
           "https://www.instagram.com/p/CyBtwPBMr5G/"
          ],
          [
           "https://www.instagram.com/p/CyBsJXFOmcb/"
          ],
          [
           "https://www.instagram.com/p/CyDY5JrMk06/"
          ],
          [
           "https://www.instagram.com/p/CyESErdsHIc/"
          ],
          [
           "https://www.instagram.com/p/CyESGMSs50T/"
          ],
          [
           "https://www.instagram.com/p/CyEQ8WuIDgW/"
          ],
          [
           "https://www.instagram.com/p/CyDpLUDsXnT/"
          ],
          [
           "https://www.instagram.com/p/CyGsjA4MEg4/"
          ],
          [
           "https://www.instagram.com/p/CyGwgM2MFkt/"
          ],
          [
           "https://www.instagram.com/p/CyJBrZYsJRl/"
          ],
          [
           "https://www.instagram.com/p/CyIPIbXM5Mx/"
          ],
          [
           "https://www.instagram.com/p/CyL_U4TLtqI/"
          ],
          [
           "https://www.instagram.com/p/CyQZ5USM8IA/"
          ],
          [
           "https://www.instagram.com/p/CyQZ2xFskgy/"
          ],
          [
           "https://www.instagram.com/p/CyRJAPgq7NN/"
          ],
          [
           "https://www.instagram.com/p/CyTm_5GsK-L/"
          ],
          [
           "https://www.instagram.com/p/CyTnD6AsTNj/"
          ],
          [
           "https://www.instagram.com/p/CyTnBxes5-z/"
          ],
          [
           "https://www.instagram.com/p/CyWSgihrBCx/"
          ],
          [
           "https://www.instagram.com/p/CyeWnZfMGUe/"
          ],
          [
           "https://www.instagram.com/p/CyeA43vP7YQ/"
          ],
          [
           "https://www.instagram.com/p/CyeWpaAMu6i/"
          ],
          [
           "https://www.instagram.com/p/CyjKexmtC6_/"
          ],
          [
           "https://www.instagram.com/p/CyoUEZGMyI_/"
          ],
          [
           "https://www.instagram.com/p/Cyra1NHMe9o/"
          ],
          [
           "https://www.instagram.com/p/Cyra3znMyyf/"
          ],
          [
           "https://www.instagram.com/p/Cyra6KzsahH/"
          ],
          [
           "https://www.instagram.com/p/CywCdRCpFc7/"
          ],
          [
           "https://www.instagram.com/p/Cy0FCeosHeC/"
          ],
          [
           "https://www.instagram.com/p/Cy0E8qUMayN/"
          ],
          [
           "https://www.instagram.com/p/Cy0FI76M7Qe/"
          ],
          [
           "https://www.instagram.com/p/Cy0E5zJMuqd/"
          ],
          [
           "https://www.instagram.com/p/Cy1MC-biyYS/"
          ],
          [
           "https://www.instagram.com/p/Cy0FGqiMGt2/"
          ],
          [
           "https://www.instagram.com/p/Cy0E26JMbK3/"
          ],
          [
           "https://www.instagram.com/p/Cy0EzWFsGdN/"
          ],
          [
           "https://www.instagram.com/p/Cy6kqLgM8PR/"
          ],
          [
           "https://www.instagram.com/p/Cy6kmvuM_AH/"
          ],
          [
           "https://www.instagram.com/p/Cy6kjfuMmVK/"
          ],
          [
           "https://www.instagram.com/p/Cy6keTLMkfo/"
          ],
          [
           "https://www.instagram.com/p/Cy6kb16MgAy/"
          ],
          [
           "https://www.instagram.com/p/Cy6kUq7M_FV/"
          ],
          [
           "https://www.instagram.com/p/Cy5scVaoHih/"
          ],
          [
           "https://www.instagram.com/p/Cy9DDVrsbup/"
          ],
          [
           "https://www.instagram.com/p/Cy9DFh5MXNa/"
          ],
          [
           "https://www.instagram.com/p/Cy9DJQfMRgE/"
          ],
          [
           "https://www.instagram.com/p/CzBhsUZKHZu/"
          ],
          [
           "https://www.instagram.com/p/CzBklkwstfe/"
          ],
          [
           "https://www.instagram.com/p/CzGvX8zMnub/"
          ],
          [
           "https://www.instagram.com/p/CzGvaOKsVtY/"
          ],
          [
           "https://www.instagram.com/p/CzGvcxZsvcZ/"
          ],
          [
           "https://www.instagram.com/p/CzGvfPMMFF9/"
          ],
          [
           "https://www.instagram.com/p/CzHg1IBMapW/"
          ],
          [
           "https://www.instagram.com/p/CzL08ZKLb9W/"
          ],
          [
           "https://www.instagram.com/p/CzTjUHVLQyd/"
          ],
          [
           "https://www.instagram.com/p/CzVmUh6Mx6C/"
          ],
          [
           "https://www.instagram.com/p/CzYs68RBL7z/"
          ],
          [
           "https://www.instagram.com/p/CzeyI3SMbhe/"
          ],
          [
           "https://www.instagram.com/p/Czd2nRcJfl6/"
          ],
          [
           "https://www.instagram.com/p/CzeyHCEMUef/"
          ],
          [
           "https://www.instagram.com/p/Czgt604MqfS/"
          ],
          [
           "https://www.instagram.com/p/Czhki62NGPY/"
          ],
          [
           "https://www.instagram.com/p/CzgDDZ0MbK-/"
          ],
          [
           "https://www.instagram.com/p/CzgC_-2MT9A/"
          ],
          [
           "https://www.instagram.com/p/CzgC9pYsYhH/"
          ],
          [
           "https://www.instagram.com/p/Czlk56uikXR/"
          ],
          [
           "https://www.instagram.com/p/CzquerAK10m/"
          ],
          [
           "https://www.instagram.com/p/CzrqlURMhM4/"
          ],
          [
           "https://www.instagram.com/p/CztX-lOMZOw/"
          ],
          [
           "https://www.instagram.com/p/Czv4DLjMcg6/"
          ],
          [
           "https://www.instagram.com/p/Cz1HbWGs_7a/"
          ],
          [
           "https://www.instagram.com/p/Cz3mduiJYCP/"
          ],
          [
           "https://www.instagram.com/p/Cz3GBM1sque/"
          ],
          [
           "https://www.instagram.com/p/Cz7JrLDswBY/"
          ],
          [
           "https://www.instagram.com/p/Cz7JtgFsitf/"
          ],
          [
           "https://www.instagram.com/p/Cz7JweLsWRG/"
          ],
          [
           "https://www.instagram.com/p/Cz8wCIKssnx/"
          ],
          [
           "https://www.instagram.com/p/C0B5nUDspwc/"
          ],
          [
           "https://www.instagram.com/p/C0ChXFEs3lT/"
          ],
          [
           "https://www.instagram.com/p/C0Jn9XZJtQb/"
          ],
          [
           "https://www.instagram.com/p/C0Ls04pMhPP/"
          ],
          [
           "https://www.instagram.com/p/C0Ltb07M24w/"
          ],
          [
           "https://www.instagram.com/p/C0LtYjaMVZm/"
          ],
          [
           "https://www.instagram.com/p/C0Ltge7sEdN/"
          ],
          [
           "https://www.instagram.com/p/C0LtdpIMjMr/"
          ],
          [
           "https://www.instagram.com/p/C0PaxSjiLto/"
          ],
          [
           "https://www.instagram.com/p/C0T7MvQJoS_/"
          ],
          [
           "https://www.instagram.com/p/C0Wu6DNs3NX/"
          ],
          [
           "https://www.instagram.com/p/C0Wf-c0rW37/"
          ],
          [
           "https://www.instagram.com/p/C0ZaEw4MS2T/"
          ],
          [
           "https://www.instagram.com/p/C0cdpAmMqFn/"
          ],
          [
           "https://www.instagram.com/p/C0cHX9NMFrT/"
          ],
          [
           "https://www.instagram.com/p/C0bziySsAUE/"
          ],
          [
           "https://www.instagram.com/p/C0hcXu9PmKk/"
          ],
          [
           "https://www.instagram.com/p/C0l8x3kOWJY/"
          ],
          [
           "https://www.instagram.com/p/C0tvn8hsQFd/"
          ],
          [
           "https://www.instagram.com/p/C0tvqzCsAGA/"
          ],
          [
           "https://www.instagram.com/p/C0uUVi2S2gN/"
          ],
          [
           "https://www.instagram.com/p/C0uo1nHsnMR/"
          ],
          [
           "https://www.instagram.com/p/C0wcZSzsxpI/"
          ],
          [
           "https://www.instagram.com/p/C0yWcrUMumO/"
          ],
          [
           "https://www.instagram.com/p/C04nhWevp--/"
          ],
          [
           "https://www.instagram.com/p/C07srWLMgpz/"
          ],
          [
           "https://www.instagram.com/p/C1AfLe4sOBf/"
          ],
          [
           "https://www.instagram.com/p/C1AfM_cskzz/"
          ],
          [
           "https://www.instagram.com/p/C1AfPV3MQ2Z/"
          ],
          [
           "https://www.instagram.com/p/C1AfRbxsMRM/"
          ],
          [
           "https://www.instagram.com/p/C1AfJbYst0W/"
          ],
          [
           "https://www.instagram.com/p/C1CdnpKM8bp/"
          ],
          [
           "https://www.instagram.com/p/C1FfebiPAIv/"
          ],
          [
           "https://www.instagram.com/p/C1FDr9UMPg8/"
          ],
          [
           "https://www.instagram.com/p/C1FDqMsM-rV/"
          ],
          [
           "https://www.instagram.com/p/C1KpFaLLMTL/"
          ],
          [
           "https://www.instagram.com/p/C1MhlCVsD9e/"
          ],
          [
           "https://www.instagram.com/p/C1QSqeUMCOG/"
          ],
          [
           "https://www.instagram.com/p/C1RuX-wp6u7/?img_index=1"
          ],
          [
           "https://www.instagram.com/p/C1XhDxgBzog/"
          ],
          [
           "https://www.instagram.com/p/C1XMHUKsLip/"
          ],
          [
           "https://www.instagram.com/p/C1XMKSEMyUV/"
          ],
          [
           "https://www.instagram.com/p/C1aKkuMss8T/"
          ],
          [
           "https://www.instagram.com/p/C1coUUUM-Am/"
          ],
          [
           "https://www.instagram.com/p/C1cn95bsw9D/"
          ],
          [
           "https://www.instagram.com/p/C1enH2Csslu/"
          ],
          [
           "https://www.instagram.com/p/C1enL9as4_H/"
          ],
          [
           "https://www.instagram.com/p/C1hLCNLs-KS/"
          ],
          [
           "https://www.instagram.com/p/C1jv3KgowWH/"
          ],
          [
           "https://www.instagram.com/p/C1mljdMsJjG/"
          ],
          [
           "https://www.instagram.com/p/C1o3G_BsGTF/"
          ],
          [
           "https://www.instagram.com/p/C1o5cCqi9xf/"
          ],
          [
           "https://www.instagram.com/p/C1ntbX7Icl_/"
          ],
          [
           "https://www.instagram.com/p/C1o3Ae8MJWQ/"
          ],
          [
           "https://www.instagram.com/p/C1o3CvVMTlh/"
          ],
          [
           "https://www.instagram.com/p/C1uDBRsIf1a/"
          ],
          [
           "https://www.instagram.com/p/C1xpee3sUMi/"
          ],
          [
           "https://www.instagram.com/p/C11xZQIIvfB/"
          ],
          [
           "https://www.instagram.com/p/C17-9AksLUL/"
          ],
          [
           "https://www.instagram.com/p/C17_CoGssrx/"
          ],
          [
           "https://www.instagram.com/p/C17-x7RsDca/"
          ],
          [
           "https://www.instagram.com/p/C17-vmyM400/"
          ],
          [
           "https://www.instagram.com/p/C167ArQMvp4/"
          ],
          [
           "https://www.instagram.com/p/C17-4RoMX1m/"
          ],
          [
           "https://www.instagram.com/p/C17fjyZMH-F/"
          ],
          [
           "https://www.instagram.com/p/C19d9qwMDxP/"
          ],
          [
           "https://www.instagram.com/p/C2AEmnoNTGr/"
          ],
          [
           "https://www.instagram.com/p/C2Fuyl3sKb_/"
          ],
          [
           "https://www.instagram.com/p/C2Fuv7Zse0e/"
          ],
          [
           "https://www.instagram.com/p/C2FuuDcMnoB/"
          ],
          [
           "https://www.instagram.com/p/C2Fuq-0MrjX/"
          ],
          [
           "https://www.instagram.com/p/C2Fso1Hsrue/"
          ],
          [
           "https://www.instagram.com/p/C2Hy_3mBKS4/"
          ],
          [
           "https://www.instagram.com/p/C2M8j7YiTKI/"
          ],
          [
           "https://www.instagram.com/p/C2SGKX7KWhz/"
          ],
          [
           "https://www.instagram.com/p/C2VgXGWAtBK/?img_index=1"
          ],
          [
           "https://www.instagram.com/p/C2Z0jQWArNY/"
          ],
          [
           "https://www.instagram.com/p/C2b-sNfsnyo/"
          ],
          [
           "https://www.instagram.com/p/C2cSlzYMyxE/"
          ],
          [
           "https://www.instagram.com/p/C2cj_cbsttv/"
          ],
          [
           "https://www.instagram.com/p/C2ckBrwsYVN/"
          ],
          [
           "https://www.instagram.com/p/C2ckGJTM7zh/"
          ],
          [
           "https://www.instagram.com/p/C2dIb_1o8yd/"
          ],
          [
           "https://www.instagram.com/p/C2e-F3BL7HC/"
          ],
          [
           "https://www.instagram.com/p/C2dl315oHqN/"
          ],
          [
           "https://www.instagram.com/p/C2h6AFKs-9t/"
          ],
          [
           "https://www.instagram.com/p/C2kRGH1MwfH/"
          ],
          [
           "https://www.instagram.com/p/C2pUBaHM_qu/"
          ],
          [
           "https://www.instagram.com/p/C2r2GW_BSVW/"
          ],
          [
           "https://www.instagram.com/p/C22JXuCNGB3/"
          ],
          [
           "https://www.instagram.com/p/C22WDu7MtJm/"
          ],
          [
           "https://www.instagram.com/p/C25PZk_M6LE/"
          ],
          [
           "https://www.instagram.com/p/C293pq2BiUu/"
          ],
          [
           "https://www.instagram.com/p/C3DBR1WKN74/"
          ],
          [
           "https://www.instagram.com/p/C3IK2vFKvL8/"
          ],
          [
           "https://www.instagram.com/p/C3K6i0hsQ67/"
          ],
          [
           "https://www.instagram.com/p/C3SeBrWPldY/"
          ],
          [
           "https://www.instagram.com/p/C3VC0Y_BkA1/"
          ],
          [
           "https://www.instagram.com/p/C3aMY3zK2l6/"
          ],
          [
           "https://www.instagram.com/p/C3h6xTACaMr/"
          ],
          [
           "https://www.instagram.com/p/C3nEYIUhmvt/"
          ],
          [
           "https://www.instagram.com/p/C3porhfszES/"
          ],
          [
           "https://www.instagram.com/p/C3pouCtsJIl/"
          ],
          [
           "https://www.instagram.com/p/C3sWR4bsdKI/"
          ],
          [
           "https://www.instagram.com/p/C3sWNNpM4_M/"
          ],
          [
           "https://www.instagram.com/p/C3rpS7uMAqn/"
          ],
          [
           "https://www.instagram.com/p/C3sN8DCvkQy/"
          ],
          [
           "https://www.instagram.com/p/C3vavAYsURX/"
          ],
          [
           "https://www.instagram.com/p/C3vcNAxspVK/"
          ],
          [
           "https://www.instagram.com/p/C3xzdmVMH83/"
          ],
          [
           "https://www.instagram.com/p/C3xzZAJMb0p/"
          ],
          [
           "https://www.instagram.com/p/C3xzbXxsmAs/"
          ],
          [
           "https://www.instagram.com/p/C3xzWR8Mg3D/"
          ],
          [
           "https://www.instagram.com/p/C3z8VqcrKph/"
          ],
          [
           "https://www.instagram.com/p/C322YWbsbEr/"
          ],
          [
           "https://www.instagram.com/p/C322WdaMSkW/"
          ],
          [
           "https://www.instagram.com/p/C33Exh0MFCy/"
          ],
          [
           "https://www.instagram.com/p/C33Et26szsx/"
          ],
          [
           "https://www.instagram.com/p/C32hGumv4_d/"
          ],
          [
           "https://www.instagram.com/p/C33EmfbsWkM/"
          ],
          [
           "https://www.instagram.com/p/C33Ev0fsRJA/"
          ],
          [
           "https://www.instagram.com/p/C345pyrMSRd/"
          ],
          [
           "https://www.instagram.com/p/C345i-BMlR8/"
          ],
          [
           "https://www.instagram.com/p/C37A03EMfce/"
          ],
          [
           "https://www.instagram.com/p/C3-tTmUs-VX/"
          ],
          [
           "https://www.instagram.com/p/C3-TbmgoQRl/"
          ],
          [
           "https://www.instagram.com/p/C39u2V7sdfI/"
          ],
          [
           "https://www.instagram.com/p/C39uzKJMitu/"
          ],
          [
           "https://www.instagram.com/p/C4Bj8Q7scbq/"
          ],
          [
           "https://www.instagram.com/p/C4Bj6TOszhz/"
          ],
          [
           "https://www.instagram.com/p/C4Bj2r6MxoE/"
          ],
          [
           "https://www.instagram.com/p/C4BNVXes7XT/"
          ],
          [
           "https://www.instagram.com/p/C4HBLU7M4gp/"
          ],
          [
           "https://www.instagram.com/p/C4GBCOrM3dp/"
          ],
          [
           "https://www.instagram.com/p/C4GepgosvYX/"
          ],
          [
           "https://www.instagram.com/p/C4GerR7s8oO/"
          ],
          [
           "https://www.instagram.com/p/C4Jk46hsMwy/"
          ],
          [
           "https://www.instagram.com/p/C4Jk2EasJ7r/"
          ],
          [
           "https://www.instagram.com/p/C4K9QMxv5S2/"
          ],
          [
           "https://www.instagram.com/p/C4NiR4Cojgw/"
          ],
          [
           "https://www.instagram.com/p/C4QHwirNxDO/"
          ],
          [
           "https://www.instagram.com/p/C4TZ2UXMLyw/"
          ],
          [
           "https://www.instagram.com/p/C4TZYQVsc2z/"
          ],
          [
           "https://www.instagram.com/p/C4TZbcNM9vU/"
          ],
          [
           "https://www.instagram.com/p/C4X3LXqKsmA/"
          ],
          [
           "https://www.instagram.com/p/C4dA4WAh2nz/"
          ],
          [
           "https://www.instagram.com/p/C4gVjRFsCpQ/"
          ],
          [
           "https://www.instagram.com/p/C4gVmhlMqj_/"
          ],
          [
           "https://www.instagram.com/p/C4gVgijMyyV/"
          ],
          [
           "https://www.instagram.com/p/C4iGY9jMTtt/"
          ],
          [
           "https://www.instagram.com/p/C4iLJxIhYDL/"
          ],
          [
           "https://www.instagram.com/p/C4iwaU-s-PL/"
          ],
          [
           "https://www.instagram.com/p/C4jXpk4srTk/"
          ],
          [
           "https://www.instagram.com/p/C4lsjZPs_Z8/"
          ],
          [
           "https://www.instagram.com/p/C4ln7zGMbjb/"
          ],
          [
           "https://www.instagram.com/p/C4lif9msZ1i/"
          ],
          [
           "https://www.instagram.com/p/C4k2wEhsQY5/"
          ],
          [
           "https://www.instagram.com/p/C4k2uIJMUyx/"
          ],
          [
           "https://www.instagram.com/p/C4lUGWKMuBt/"
          ],
          [
           "https://www.instagram.com/p/C4kgVfms0B_/"
          ],
          [
           "https://www.instagram.com/p/C4quIR_s2iz/"
          ],
          [
           "https://www.instagram.com/p/C4sej8-gTY4/"
          ],
          [
           "https://www.instagram.com/p/C4v8VmiMpSe/"
          ],
          [
           "https://www.instagram.com/p/C4xoYayPvuA/"
          ],
          [
           "https://www.instagram.com/p/C40NZwkPGY9/"
          ],
          [
           "https://www.instagram.com/p/C45KnIDMkuR/"
          ],
          [
           "https://www.instagram.com/p/C45xRHBMjQt/"
          ],
          [
           "https://www.instagram.com/p/C478IjaOmKT/"
          ],
          [
           "https://www.instagram.com/p/C5B6igeskzr/"
          ],
          [
           "https://www.instagram.com/p/C5GQOqHrymn/"
          ],
          [
           "https://www.instagram.com/p/C5JLbJzM8HH/"
          ],
          [
           "https://www.instagram.com/p/C5LTESyC2h3/"
          ],
          [
           "https://www.instagram.com/p/C5NyDWJsG70/"
          ],
          [
           "https://www.instagram.com/p/C5OptpWoegK/"
          ],
          [
           "https://www.instagram.com/p/C5O1kkMsBw0/"
          ],
          [
           "https://www.instagram.com/p/C5RN6rqsnm2/"
          ],
          [
           "https://www.instagram.com/p/C5RN84aM76Y/"
          ],
          [
           "https://www.instagram.com/p/C5TaQLioxaR/"
          ],
          [
           "https://www.instagram.com/p/C5WL26ksTzI/"
          ],
          [
           "https://www.instagram.com/p/C5YR83fIp9P/"
          ],
          [
           "https://www.instagram.com/p/C5icZWAIqcb/"
          ],
          [
           "https://www.instagram.com/p/C5lLfKTq3Ha/"
          ],
          [
           "https://www.instagram.com/p/C5o3gv1MOsy/"
          ],
          [
           "https://www.instagram.com/p/C5nVxiesS_N/"
          ],
          [
           "https://www.instagram.com/p/C5qNXCXsh-y/"
          ],
          [
           "https://www.instagram.com/p/C5qNZG5Mm8R/"
          ],
          [
           "https://www.instagram.com/p/C5qxm4usixF/"
          ],
          [
           "https://www.instagram.com/p/C5qylnkoIs-/"
          ],
          [
           "https://www.instagram.com/p/C5tshNdM92j/"
          ],
          [
           "https://www.instagram.com/p/C5tsjrHMI1x/"
          ],
          [
           "https://www.instagram.com/p/C5tse0VMTBV/"
          ],
          [
           "https://www.instagram.com/p/C5tsmU0Mh_n/"
          ],
          [
           "https://www.instagram.com/p/C5vpJR_sE3D/"
          ],
          [
           "https://www.instagram.com/p/C5y4jfhvRY4/"
          ],
          [
           "https://www.instagram.com/p/C51dS_uM2j2/"
          ],
          [
           "https://www.instagram.com/p/C53EdjaIXqe/"
          ],
          [
           "https://www.instagram.com/p/C56mAf9soGZ/"
          ],
          [
           "https://www.instagram.com/p/C58OLAYsiQL/"
          ],
          [
           "https://www.instagram.com/p/C5-zLNVsGKJ/"
          ],
          [
           "https://www.instagram.com/p/C6EKZ1doFm5/"
          ],
          [
           "https://www.instagram.com/p/C6H36gYogT8/"
          ],
          [
           "https://www.instagram.com/p/C6JGYHRIux8/"
          ],
          [
           "https://www.instagram.com/p/C6JwwCaMxK3/"
          ],
          [
           "https://www.instagram.com/p/C6KWt56NQJq/"
          ],
          [
           "https://www.instagram.com/p/C6H3_wbomMo/"
          ],
          [
           "https://www.instagram.com/p/C6LkaZbtNui/"
          ],
          [
           "https://www.instagram.com/p/C6KlHGyI6lU/"
          ],
          [
           "https://www.instagram.com/p/C6Kk5A0Ipcc/"
          ],
          [
           "https://www.instagram.com/p/C6KkUeho95o/"
          ],
          [
           "https://www.instagram.com/p/C6KaT9SN2m9/"
          ],
          [
           "https://www.instagram.com/p/C6KYzY9NqcE/"
          ],
          [
           "https://www.instagram.com/p/C6KXVbQtk1O/"
          ],
          [
           "https://www.instagram.com/p/C6KXP-WtJfp/"
          ],
          [
           "https://www.instagram.com/p/C6KXNXNtlXT/"
          ],
          [
           "https://www.instagram.com/p/C6KXCFcNR8T/"
          ],
          [
           "https://www.instagram.com/p/C6Kk_TLoCRB/"
          ],
          [
           "https://www.instagram.com/p/C6O5gLWpPZa/"
          ],
          [
           "https://www.instagram.com/p/C6VxAl_s84C/"
          ],
          [
           "https://www.instagram.com/p/C6VxEoupFS0/"
          ],
          [
           "https://www.instagram.com/p/C6VxFuisJOI/"
          ],
          [
           "https://www.instagram.com/p/C6Wd0LRMGby/"
          ],
          [
           "https://www.instagram.com/p/C6WdufLMCul/"
          ],
          [
           "https://www.instagram.com/p/C6b31jeI1ml/"
          ],
          [
           "https://www.instagram.com/p/C6esBXBMNhA/"
          ],
          [
           "https://www.instagram.com/p/C6dysB4MJ76/"
          ],
          [
           "https://www.instagram.com/p/C6gTAzfvCSP/"
          ],
          [
           "https://www.instagram.com/p/C6i2erQs1_D/"
          ],
          [
           "https://www.instagram.com/p/C6i2a5fstV6/"
          ],
          [
           "https://www.instagram.com/p/C6lcQkJJ4Lb/"
          ],
          [
           "https://www.instagram.com/p/C6ohivqIqeE/"
          ],
          [
           "https://www.instagram.com/p/C6rsn0rMUHY/"
          ],
          [
           "https://www.instagram.com/p/C6trWIroBfW/"
          ],
          [
           "https://www.instagram.com/p/C6yx8wgo2Mt/"
          ],
          [
           "https://www.instagram.com/p/C63xNT7M99Y/"
          ],
          [
           "https://www.instagram.com/p/C63xDWIMOX4/"
          ],
          [
           "https://www.instagram.com/p/C63xG4psvPx/"
          ],
          [
           "https://www.instagram.com/p/C63xAV2sViI/"
          ],
          [
           "https://www.instagram.com/p/C63xUhpsZz8/"
          ],
          [
           "https://www.instagram.com/p/C63hQThsezx/"
          ],
          [
           "https://www.instagram.com/p/C63xsxese2Y/"
          ],
          [
           "https://www.instagram.com/p/C63xvKusKjp/"
          ],
          [
           "https://www.instagram.com/p/C66pmNjic5v/"
          ],
          [
           "https://www.instagram.com/p/C66ciUGISbE/"
          ],
          [
           "https://www.instagram.com/p/C6_XFB9ojaJ/"
          ],
          [
           "https://www.instagram.com/p/C7BwaD0sntj/"
          ],
          [
           "https://www.instagram.com/p/C7BwdAMs_XH/"
          ],
          [
           "https://www.instagram.com/p/C7BwSDbM500/"
          ],
          [
           "https://www.instagram.com/p/C7EXu4qICXN/"
          ],
          [
           "https://www.instagram.com/p/C7HDsAHsPFM/"
          ],
          [
           "https://www.instagram.com/p/C7HDvE8MeIV/"
          ],
          [
           "https://www.instagram.com/p/C7Ia-5pI9tb/"
          ],
          [
           "https://www.instagram.com/p/C7IbFJ7oHG1/"
          ],
          [
           "https://www.instagram.com/p/C7Nok-UoWYP/"
          ],
          [
           "https://www.instagram.com/p/C7NohCnI8vw/"
          ],
          [
           "https://www.instagram.com/p/C7R5X0_N5oN/"
          ],
          [
           "https://www.instagram.com/p/C7Q-97ZszRr/"
          ],
          [
           "https://www.instagram.com/p/C7W41L_sHww/"
          ],
          [
           "https://www.instagram.com/p/C7eQAQ2ga7_/"
          ],
          [
           "https://www.instagram.com/p/C7ejGFZMAQZ/"
          ],
          [
           "https://www.instagram.com/p/C7ejO5TsFnK/"
          ],
          [
           "https://www.instagram.com/p/C7g30P2teRG/"
          ],
          [
           "https://www.instagram.com/p/C7jcuMkuDgg/"
          ],
          [
           "https://www.instagram.com/p/C7joIanslA7/"
          ],
          [
           "https://www.instagram.com/p/C7lz54ktDEG/"
          ],
          [
           "https://www.instagram.com/p/C7pPy3tsIJa/"
          ],
          [
           "https://www.instagram.com/p/C7ombXftfVY/"
          ],
          [
           "https://www.instagram.com/p/C7qku7BM6Q1/"
          ],
          [
           "https://www.instagram.com/p/C7rXs_OsSQg/"
          ],
          [
           "https://www.instagram.com/p/C7thMW-sch6/"
          ],
          [
           "https://www.instagram.com/p/C7w5RIgMzhh/"
          ],
          [
           "https://www.instagram.com/p/C7zUUw-srIR/"
          ],
          [
           "https://www.instagram.com/p/C71I3NpAVDB/"
          ],
          [
           "https://www.instagram.com/p/C74E0YVsaji/"
          ],
          [
           "https://www.instagram.com/p/C74PQT9MxT6/"
          ],
          [
           "https://www.instagram.com/p/C75_60isN2i/"
          ],
          [
           "https://www.instagram.com/p/C75__obsq1j/"
          ],
          [
           "https://www.instagram.com/p/C76ZbJ0gr_v/?img_index=1"
          ],
          [
           "https://www.instagram.com/p/C77uJKiNdOx/"
          ],
          [
           "https://www.instagram.com/p/C79l5Jgsizc/"
          ],
          [
           "https://www.instagram.com/p/C77uASIthPY/"
          ],
          [
           "https://www.instagram.com/p/C77t37FNyMC/"
          ],
          [
           "https://www.instagram.com/p/C77t8TVNtzO/"
          ],
          [
           "https://www.instagram.com/p/C7_rdwosXCh/"
          ],
          [
           "https://www.instagram.com/p/C8EUpG-sNYI/"
          ],
          [
           "https://www.instagram.com/p/C8EVA_oMTDR/"
          ],
          [
           "https://www.instagram.com/p/C8EVGwLM5X1/"
          ],
          [
           "https://www.instagram.com/p/C8H1pQJsufx/"
          ],
          [
           "https://www.instagram.com/p/C8ItLKoI4xw/"
          ],
          [
           "https://www.instagram.com/p/C8MkaDIiPMr/"
          ],
          [
           "https://www.instagram.com/p/C8PJisKPcr2/"
          ],
          [
           "https://www.instagram.com/p/C8Ot3CMMm8P/"
          ],
          [
           "https://www.instagram.com/p/C8Ri5wxsZi7/"
          ],
          [
           "https://www.instagram.com/p/C8Ri1wKMFco/"
          ],
          [
           "https://www.instagram.com/p/C8URfbuMKpT/"
          ],
          [
           "https://www.instagram.com/p/C8US0-VsTQ0/"
          ],
          [
           "https://www.instagram.com/p/C8US3N7sKWA/"
          ],
          [
           "https://www.instagram.com/p/C8UUeXisjFh/"
          ],
          [
           "https://www.instagram.com/p/C8WRTICMBVd/"
          ],
          [
           "https://www.instagram.com/p/C8ZPu10M6vL/"
          ],
          [
           "https://www.instagram.com/p/C8aPXeLsdty/"
          ],
          [
           "https://www.instagram.com/p/C8aPRrQsFTZ/"
          ],
          [
           "https://www.instagram.com/p/C8b_9vtszHE/"
          ],
          [
           "https://www.instagram.com/p/C8cAAQvMAAc/"
          ],
          [
           "https://www.instagram.com/p/C8b_67TsWM9/"
          ],
          [
           "https://www.instagram.com/p/C8ec0OhoWxV/"
          ],
          [
           "https://www.instagram.com/p/C8hsAmlsz9H/"
          ],
          [
           "https://www.instagram.com/p/C8hr7bhMn6B/"
          ],
          [
           "https://www.instagram.com/p/C8hr3KhM-q4/"
          ],
          [
           "https://www.instagram.com/p/C8j2VbFsP8f/"
          ],
          [
           "https://www.instagram.com/p/C8j2HzeMUXB/"
          ],
          [
           "https://www.instagram.com/p/C8mpVIus0R5/"
          ],
          [
           "https://www.instagram.com/p/C8mdjNdsZ4y/"
          ],
          [
           "https://www.instagram.com/p/C8mNQ3yIM4G/"
          ],
          [
           "https://www.instagram.com/p/C8mpX5JsO3k/"
          ],
          [
           "https://www.instagram.com/p/C8p6QlUMFH7/"
          ],
          [
           "https://www.instagram.com/p/C8ru1F4sW8j/"
          ],
          [
           "https://www.instagram.com/p/C8ru4qfMqZe/"
          ],
          [
           "https://www.instagram.com/p/C8sOMNVsB6T/"
          ],
          [
           "https://www.instagram.com/p/C8tjPuDshy4/"
          ],
          [
           "https://www.instagram.com/p/C8ttiqoMTAI/"
          ],
          [
           "https://www.instagram.com/p/C8ttleYMrQH/"
          ],
          [
           "https://www.instagram.com/p/C8xXwXhgQQA/"
          ],
          [
           "https://www.instagram.com/p/C8xtfoOMW7B/"
          ],
          [
           "https://www.instagram.com/p/C8vS_PRobNB/"
          ],
          [
           "https://www.instagram.com/p/C8zBdGhNJ_e/"
          ],
          [
           "https://www.instagram.com/p/C82kaWLMhbv/"
          ],
          [
           "https://www.instagram.com/p/C848UXqMSoA/"
          ],
          [
           "https://www.instagram.com/p/C84UchxsuvT/"
          ],
          [
           "https://www.instagram.com/p/C84eIYmsxkz/"
          ],
          [
           "https://www.instagram.com/p/C87Rr_FoTe2/"
          ],
          [
           "https://www.instagram.com/p/C89W7ZjpGVf/"
          ],
          [
           "https://www.instagram.com/p/C9AC0mTNTkM/"
          ],
          [
           "https://www.instagram.com/p/C9EvWNfovcX/"
          ],
          [
           "https://www.instagram.com/p/C9LFJhbouN8/"
          ],
          [
           "https://www.instagram.com/p/C9KGaOTMK98/"
          ],
          [
           "https://www.instagram.com/p/C9NUuI7MoJY/"
          ],
          [
           "https://www.instagram.com/p/C9QO9mbP3jS/"
          ],
          [
           "https://www.instagram.com/p/C9STAMtssJb/"
          ],
          [
           "https://www.instagram.com/p/C9Uo8vnJBSa/"
          ],
          [
           "https://www.instagram.com/p/C9cbLsfMr3G/"
          ],
          [
           "https://www.instagram.com/p/C9dDDnIscc6/"
          ],
          [
           "https://www.instagram.com/p/C9hnVIjBp_u/"
          ],
          [
           "https://www.instagram.com/p/C9mVy6kvhoW/"
          ],
          [
           "https://www.instagram.com/p/C9mMKrLs3DD/"
          ],
          [
           "https://www.instagram.com/p/C9r4WcOsWgv/"
          ],
          [
           "https://www.instagram.com/p/C9r4TdNMTZ2/"
          ],
          [
           "https://www.instagram.com/p/C9r4c4EMYld/"
          ],
          [
           "https://www.instagram.com/p/C9r4ZnyMJQ5/"
          ],
          [
           "https://www.instagram.com/p/C9r4MjvsupF/"
          ],
          [
           "https://www.instagram.com/p/C9r4Pdws29L/"
          ],
          [
           "https://www.instagram.com/p/C9uZNUoMCWX/"
          ],
          [
           "https://www.instagram.com/p/C9wkf19sr1w/"
          ],
          [
           "https://www.instagram.com/p/C9wrwFsMcP3/"
          ],
          [
           "https://www.instagram.com/p/C9xM-ZnscNJ/"
          ],
          [
           "https://www.instagram.com/p/C9xfWPQs0ZG/"
          ],
          [
           "https://www.instagram.com/p/C9xfa4-ssMs/"
          ],
          [
           "https://www.instagram.com/p/C9xsvO4s7cV/"
          ],
          [
           "https://www.instagram.com/p/C9wkawGM6-K/"
          ],
          [
           "https://www.instagram.com/p/C9zvyzpsB52/"
          ],
          [
           "https://www.instagram.com/p/C9zvukuMoNN/"
          ],
          [
           "https://www.instagram.com/p/C9zldT6JSSJ/"
          ],
          [
           "https://www.instagram.com/p/C9ziqG1MVbx/"
          ],
          [
           "https://www.instagram.com/p/C92iJsZsoVx/"
          ],
          [
           "https://www.instagram.com/p/C94vgqDJBGN/"
          ],
          [
           "https://www.instagram.com/p/C94CwBbMJST/"
          ],
          [
           "https://www.instagram.com/p/C94sDjysebH/"
          ],
          [
           "https://www.instagram.com/p/C97t0K2sGdL/"
          ],
          [
           "https://www.instagram.com/p/C9678TBMYLF/"
          ],
          [
           "https://www.instagram.com/p/C97RcxyMJan/"
          ],
          [
           "https://www.instagram.com/p/C967uVnMlFG/"
          ],
          [
           "https://www.instagram.com/p/C967bA4s71L/"
          ],
          [
           "https://www.instagram.com/p/C991dOPM8JY/"
          ],
          [
           "https://www.instagram.com/p/C-AeekNPlCN/?img_index=1"
          ],
          [
           "https://www.instagram.com/p/C-EBivks5ei/"
          ],
          [
           "https://www.instagram.com/p/C-EBoiTMHPj/"
          ],
          [
           "https://www.instagram.com/p/C-FoZQ8MSeg/"
          ],
          [
           "https://www.instagram.com/p/C-IpqU8Msmt/"
          ],
          [
           "https://www.instagram.com/p/C-Ip1kTsI4N/"
          ],
          [
           "https://www.instagram.com/p/C-IptQxM8UC/"
          ],
          [
           "https://www.instagram.com/p/C-HhMO6ssmr/"
          ],
          [
           "https://www.instagram.com/p/C-ImUafMDGV/"
          ],
          [
           "https://www.instagram.com/p/C-HhQf_Mrks/"
          ],
          [
           "https://www.instagram.com/p/C-K0hQkoAz1/"
          ],
          [
           "https://www.instagram.com/p/C-PHcuVt10p/"
          ],
          [
           "https://www.instagram.com/p/C-S5tSasQWK/"
          ],
          [
           "https://www.instagram.com/p/C-TiyvxM7jP/"
          ],
          [
           "https://www.instagram.com/p/C-SqyWdILaf/"
          ],
          [
           "https://www.instagram.com/p/C-XWQo2sm5m/"
          ],
          [
           "https://www.instagram.com/p/C-Xbi6yAnNz/"
          ],
          [
           "https://www.instagram.com/p/C-YHr32stYp/"
          ],
          [
           "https://www.instagram.com/p/C-YbmjUMvJP/"
          ],
          [
           "https://www.instagram.com/p/C-Ybiipsu5V/"
          ],
          [
           "https://www.instagram.com/p/C-aQv8Gs4rX/"
          ],
          [
           "https://www.instagram.com/p/C-aQzWzMcHT/"
          ],
          [
           "https://www.instagram.com/p/C-aQ53JMHqO/"
          ],
          [
           "https://www.instagram.com/p/C-cW2_bsvxz/"
          ],
          [
           "https://www.instagram.com/p/C-dcTvchRT-/"
          ],
          [
           "https://www.instagram.com/p/C-ldMkXMkub/"
          ],
          [
           "https://www.instagram.com/p/C-lQqGCsxTF/"
          ],
          [
           "https://www.instagram.com/p/C-nB3ANsVwH/"
          ],
          [
           "https://www.instagram.com/p/C-nbIA2AKli/"
          ],
          [
           "https://www.instagram.com/p/C-pm9GMKFWz/"
          ],
          [
           "https://www.instagram.com/p/C-r0Dfes_lB/"
          ],
          [
           "https://www.instagram.com/p/C-sL3JevQA4/"
          ],
          [
           "https://www.instagram.com/p/C-tJ1lBsjGS/"
          ],
          [
           "https://www.instagram.com/p/C-xPhrUseY3/"
          ],
          [
           "https://www.instagram.com/p/C-wfYIBNhTm/"
          ],
          [
           "https://www.instagram.com/p/C-zgqjDsGzR/"
          ],
          [
           "https://www.instagram.com/p/C-zgmlRMy3Q/"
          ],
          [
           "https://www.instagram.com/p/C-5W0QDA-2l/"
          ],
          [
           "https://www.instagram.com/p/C-4kNMYM3-z/"
          ],
          [
           "https://www.instagram.com/p/C-7iro-vniG/"
          ],
          [
           "https://www.instagram.com/p/C--jR-JpsSa/"
          ],
          [
           "https://www.instagram.com/p/C--EIsRskQ9/"
          ],
          [
           "https://www.instagram.com/p/C--D8w-MOUK/"
          ],
          [
           "https://www.instagram.com/p/C_BN-8ksxAb/"
          ],
          [
           "https://www.instagram.com/p/C_EIwVxMQiQ/"
          ],
          [
           "https://www.instagram.com/p/C_EUTrkMrFK/"
          ],
          [
           "https://www.instagram.com/p/C_EUXkgMAJc/"
          ],
          [
           "https://www.instagram.com/p/C_IjJfwAwkw/"
          ],
          [
           "https://www.instagram.com/p/C_IM7XMsCEn/"
          ],
          [
           "https://www.instagram.com/p/C_NvV6ZP3yJ/"
          ],
          [
           "https://www.instagram.com/p/C_S5KbEIu72/"
          ],
          [
           "https://www.instagram.com/p/C_TqW-KMYIj/"
          ],
          [
           "https://www.instagram.com/p/C_V9b-qsnJS/"
          ],
          [
           "https://www.instagram.com/p/C_amD_FITeK/"
          ],
          [
           "https://www.instagram.com/p/C_f8_LFM4m6/"
          ],
          [
           "https://www.instagram.com/p/C_fkF24Pm85/"
          ],
          [
           "https://www.instagram.com/p/C_g7JOjIp6-/"
          ],
          [
           "https://www.instagram.com/p/C_g7ODQom4y/"
          ],
          [
           "https://www.instagram.com/p/C_h0Zr9MU2V/"
          ],
          [
           "https://www.instagram.com/p/C_lEONJi7hp/"
          ],
          [
           "https://www.instagram.com/p/C_k74PYpL0w/"
          ],
          [
           "https://www.instagram.com/p/C_kXQ9gMeBF/"
          ],
          [
           "https://www.instagram.com/p/C_nVkdYMVmn/"
          ],
          [
           "https://www.instagram.com/p/C_p-Kbysdyw/"
          ],
          [
           "https://www.instagram.com/p/C_p-GSjM2j1/"
          ],
          [
           "https://www.instagram.com/p/C_p-CbIs5X3/"
          ],
          [
           "https://www.instagram.com/p/C_s3ryQoKg2/"
          ],
          [
           "https://www.instagram.com/p/C_ysJuFsnsr/"
          ],
          [
           "https://www.instagram.com/p/C_ysMdlMCTN/"
          ],
          [
           "https://www.instagram.com/p/C_yD37rKRG8/"
          ],
          [
           "https://www.instagram.com/p/C_ysGWTshYb/"
          ],
          [
           "https://www.instagram.com/p/C_3NlAPPdlN/"
          ],
          [
           "https://www.instagram.com/p/C_8vXNcs87m/"
          ],
          [
           "https://www.instagram.com/p/C_8vUfOMZIx/"
          ],
          [
           "https://www.instagram.com/p/DABdXtrMKQ9/"
          ],
          [
           "https://www.instagram.com/p/DAGWtr-ApTG/"
          ],
          [
           "https://www.instagram.com/p/DAI_02OscSm/"
          ],
          [
           "https://www.instagram.com/p/DAI_pWashHP/"
          ],
          [
           "https://www.instagram.com/p/DAI_jsxMHIr/"
          ],
          [
           "https://www.instagram.com/p/DAI_e2MsKBf/"
          ],
          [
           "https://www.instagram.com/p/DAI_LchMfL4/"
          ],
          [
           "https://www.instagram.com/p/DAIpfl_KMBM/"
          ],
          [
           "https://www.instagram.com/p/DALOZhKhcDH/"
          ],
          [
           "https://www.instagram.com/p/DAKEF0aN9kZ/"
          ],
          [
           "https://www.instagram.com/p/DAQpJbQslpy/"
          ],
          [
           "https://www.instagram.com/p/DAS3cUnMnf8/"
          ],
          [
           "https://www.instagram.com/p/DAV9jv4oNzu/"
          ],
          [
           "https://www.instagram.com/p/DAYklk1JRp4/"
          ],
          [
           "https://www.instagram.com/p/DAauQttvOB7/"
          ],
          [
           "https://www.instagram.com/p/DAeXhHBMwiT/"
          ],
          [
           "https://www.instagram.com/p/DAeXXqSMa6V/"
          ],
          [
           "https://www.instagram.com/p/DAeXTHAMHe3/"
          ],
          [
           "https://www.instagram.com/p/DAeXQL8MoMA/"
          ],
          [
           "https://www.instagram.com/p/DAeX6cEsM_h/"
          ],
          [
           "https://www.instagram.com/p/DAg6sOxML4Y/"
          ],
          [
           "https://www.instagram.com/p/DAg6wANsIwq/"
          ],
          [
           "https://www.instagram.com/p/DAg6zlnMVi-/"
          ],
          [
           "https://www.instagram.com/p/DAjn91RM9Vg/"
          ],
          [
           "https://www.instagram.com/p/DAjn3sSMJHt/"
          ],
          [
           "https://www.instagram.com/p/DAjnz74s-8S/"
          ],
          [
           "https://www.instagram.com/p/DAjnyIaMZFD/"
          ],
          [
           "https://www.instagram.com/p/DAjnuOwswYk/"
          ],
          [
           "https://www.instagram.com/p/DAjnoRYM1nn/"
          ],
          [
           "https://www.instagram.com/p/DAjnjGAMi45/"
          ],
          [
           "https://www.instagram.com/p/DAjl9AyszrF/"
          ],
          [
           "https://www.instagram.com/p/DAjlsTkMxz3/"
          ],
          [
           "https://www.instagram.com/p/DAjlzM7MdDi/"
          ],
          [
           "https://www.instagram.com/p/DAijvN0IEVG/"
          ],
          [
           "https://www.instagram.com/p/DAjoJBKsdRi/"
          ],
          [
           "https://www.instagram.com/p/DAjoREIMFg9/"
          ],
          [
           "https://www.instagram.com/p/DAjoW7WM_dA/"
          ],
          [
           "https://www.instagram.com/p/DAjoqAXszCq/"
          ],
          [
           "https://www.instagram.com/p/DAjl2I9s084/"
          ],
          [
           "https://www.instagram.com/p/DAjoGNHstUN/"
          ],
          [
           "https://www.instagram.com/p/DAjoCYCsySM/"
          ],
          [
           "https://www.instagram.com/p/DAoKR2JNHgM/"
          ],
          [
           "https://www.instagram.com/p/DAn0AMmMqu0/"
          ],
          [
           "https://www.instagram.com/p/DAqFrVWsb-K/"
          ],
          [
           "https://www.instagram.com/p/DAtUsKmsdc-/"
          ],
          [
           "https://www.instagram.com/p/DAtGQOcPRBA/"
          ],
          [
           "https://www.instagram.com/p/DAvoibEsVPC/"
          ],
          [
           "https://www.instagram.com/p/DAvopaysCVM/"
          ],
          [
           "https://www.instagram.com/p/DAwDIgFND-8/"
          ],
          [
           "https://www.instagram.com/p/DAwhNg-sJxk/"
          ],
          [
           "https://www.instagram.com/p/DAwhRDMs2iO/"
          ],
          [
           "https://www.instagram.com/p/DA0nyBvIM6b/"
          ],
          [
           "https://www.instagram.com/p/DA3RMZZhw1c/"
          ],
          [
           "https://www.instagram.com/p/DA50Cq6Nrnh/"
          ],
          [
           "https://www.instagram.com/p/DA6o7Y-sO_e/"
          ],
          [
           "https://www.instagram.com/p/DA8Z-oMNrC4/"
          ],
          [
           "https://www.instagram.com/p/DA_2mbBMx6p/"
          ],
          [
           "https://www.instagram.com/p/DA_2jMPs5WE/"
          ],
          [
           "https://www.instagram.com/p/DA_2q9NM_Ng/"
          ],
          [
           "https://www.instagram.com/p/DBHg_AYMfWs/"
          ],
          [
           "https://www.instagram.com/p/DBJ5RfRMQgR/"
          ],
          [
           "https://www.instagram.com/p/DBJyXN4sXiK/"
          ],
          [
           "https://www.instagram.com/p/DBIdDIJMkef/"
          ],
          [
           "https://www.instagram.com/p/DBIdGoQsffT/"
          ],
          [
           "https://www.instagram.com/p/DBIdJf1s5RU/"
          ],
          [
           "https://www.instagram.com/p/DBIdMe5sKbN/"
          ],
          [
           "https://www.instagram.com/p/DBIdWoIscNF/"
          ],
          [
           "https://www.instagram.com/p/DBIdPDNMVyD/"
          ],
          [
           "https://www.instagram.com/p/DBIdRrsMilD/"
          ],
          [
           "https://www.instagram.com/p/DBIdddeMLCZ/"
          ],
          [
           "https://www.instagram.com/p/DBIdbQxM8eb/"
          ],
          [
           "https://www.instagram.com/p/DBIdZSqMHVj/"
          ],
          [
           "https://www.instagram.com/p/DBLQPVzMUOl/"
          ],
          [
           "https://www.instagram.com/p/DBL3b16M0ie/"
          ],
          [
           "https://www.instagram.com/p/DBPcTg0MZdN/"
          ],
          [
           "https://www.instagram.com/p/DBRkSa5hSi4/"
          ],
          [
           "https://www.instagram.com/p/DBQ3S2ksrrU/"
          ],
          [
           "https://www.instagram.com/p/DBTs7PlspSS/"
          ],
          [
           "https://www.instagram.com/p/DBUS4DesQyb/"
          ],
          [
           "https://www.instagram.com/p/DBTs3sNsvRV/"
          ],
          [
           "https://www.instagram.com/p/DBSREHnoMyW/"
          ],
          [
           "https://www.instagram.com/p/DBTvtMasT1C/"
          ],
          [
           "https://www.instagram.com/p/DBUEdinMQJc/"
          ],
          [
           "https://www.instagram.com/p/DBUDeaIMPy4/"
          ],
          [
           "https://www.instagram.com/p/DBUDmmmMVt0/"
          ],
          [
           "https://www.instagram.com/p/DBUDwWVsOra/"
          ],
          [
           "https://www.instagram.com/p/DBWJUwIsYZ4/"
          ],
          [
           "https://www.instagram.com/p/DBZSUR2q3ek/"
          ],
          [
           "https://www.instagram.com/p/DBZy2w1MQ-R/"
          ],
          [
           "https://www.instagram.com/p/DBepdPTMwOl/"
          ],
          [
           "https://www.instagram.com/p/DBdy0W8h1hS/"
          ],
          [
           "https://www.instagram.com/p/DBgaaKWsRse/"
          ],
          [
           "https://www.instagram.com/p/DBin8BzqNdF/"
          ],
          [
           "https://www.instagram.com/p/DBlxvUkM_AJ/"
          ],
          [
           "https://www.instagram.com/p/DBlxsJWM16d/"
          ],
          [
           "https://www.instagram.com/p/DBrVCrtsnEt/"
          ],
          [
           "https://www.instagram.com/p/DBtP8vSpxXh/"
          ],
          [
           "https://www.instagram.com/p/DBv1lqasTd3/"
          ],
          [
           "https://www.instagram.com/p/DBwqO-Us4tr/"
          ],
          [
           "https://www.instagram.com/p/DBzk-vEMwNl/"
          ],
          [
           "https://www.instagram.com/p/DByoeR_M7ZB/"
          ],
          [
           "https://www.instagram.com/p/DB1BA_FIIdB/"
          ],
          [
           "https://www.instagram.com/p/DB3UL7ssfMk/"
          ],
          [
           "https://www.instagram.com/p/DB38thTs50V/"
          ],
          [
           "https://www.instagram.com/p/DB53g7yMdQd/"
          ],
          [
           "https://www.instagram.com/p/DB53kTlscXn/"
          ],
          [
           "https://www.instagram.com/p/DB8f4_NstHu/"
          ],
          [
           "https://www.instagram.com/p/DB8w2yQsJWN/"
          ],
          [
           "https://www.instagram.com/p/DB9FjAbM8yZ/"
          ],
          [
           "https://www.instagram.com/p/DB9Fq2TMAcB/"
          ],
          [
           "https://www.instagram.com/p/DB-Fi9wIdLT/"
          ],
          [
           "https://www.instagram.com/p/DCBr4GjNwhX/"
          ],
          [
           "https://www.instagram.com/p/DCETvTBMsPO/"
          ],
          [
           "https://www.instagram.com/p/DCH92eTs_0C/"
          ],
          [
           "https://www.instagram.com/p/DCH95miMziK/"
          ],
          [
           "https://www.instagram.com/p/DCG17JJNVgW/"
          ],
          [
           "https://www.instagram.com/p/DCH7wbtMHTA/"
          ],
          [
           "https://www.instagram.com/p/DCH71ovsfZM/"
          ],
          [
           "https://www.instagram.com/p/DCH9vg6s8K0/"
          ],
          [
           "https://www.instagram.com/p/DCMNz_DMOcK/"
          ],
          [
           "https://www.instagram.com/p/DCN1jHxIzvz/"
          ],
          [
           "https://www.instagram.com/p/DCPkMMRMW7t/"
          ],
          [
           "https://www.instagram.com/p/DCPcRfcMVqA/"
          ],
          [
           "https://www.instagram.com/p/DCRSV4pgFvg/"
          ],
          [
           "https://www.instagram.com/p/DCW44U4MW6M/"
          ],
          [
           "https://www.instagram.com/p/DCZEqFBiRPL/"
          ],
          [
           "https://www.instagram.com/p/DChwfLRtc_L/"
          ],
          [
           "https://www.instagram.com/p/DChWtkFscgN/"
          ],
          [
           "https://www.instagram.com/p/DCkVCYuMFF1/"
          ],
          [
           "https://www.instagram.com/p/DCkVJQxsaf7/"
          ],
          [
           "https://www.instagram.com/p/DCkVGYjsBQq/"
          ],
          [
           "https://www.instagram.com/p/DCl8ZN5oio9/"
          ],
          [
           "https://www.instagram.com/p/DCnFf9TsEEw/"
          ],
          [
           "https://www.instagram.com/p/DCsEB8sMT7w/"
          ],
          [
           "https://www.instagram.com/p/DCsD4C9MGpL/"
          ],
          [
           "https://www.instagram.com/p/DCsCvOAslkj/"
          ],
          [
           "https://www.instagram.com/p/DCsEGDhs0uZ/"
          ],
          [
           "https://www.instagram.com/p/DCsD1VRMx8Z/"
          ],
          [
           "https://www.instagram.com/p/DCsEKiWsUe-/"
          ],
          [
           "https://www.instagram.com/p/DCsNsSOtKy_/"
          ],
          [
           "https://www.instagram.com/p/DCrGGWqMhFP/"
          ],
          [
           "https://www.instagram.com/p/DCzyg5Uh8Id/"
          ],
          [
           "https://www.instagram.com/p/DC3-bOyCrD5/"
          ],
          [
           "https://www.instagram.com/p/DC5uAoVtSwa/"
          ],
          [
           "https://www.instagram.com/p/DC5uP9cNel6/"
          ],
          [
           "https://www.instagram.com/p/DC6xin3s0tN/"
          ],
          [
           "https://www.instagram.com/p/DC9Bmjjvzye/"
          ],
          [
           "https://www.instagram.com/p/DDAV5lUM_s0/"
          ],
          [
           "https://www.instagram.com/p/DDAaTDSM3GL/"
          ],
          [
           "https://www.instagram.com/p/DDAV0BlsdaP/"
          ],
          [
           "https://www.instagram.com/p/DDFfeacNXEz/"
          ],
          [
           "https://www.instagram.com/p/DDH4QKOMOgq/"
          ],
          [
           "https://www.instagram.com/p/DDLPgSOtXGr/"
          ],
          [
           "https://www.instagram.com/p/DDLPbfeNJXy/"
          ],
          [
           "https://www.instagram.com/p/DDKpLfhvYqu/"
          ],
          [
           "https://www.instagram.com/p/DDPy5CvBkGi/"
          ],
          [
           "https://www.instagram.com/p/DDRHeJGsFnc/"
          ],
          [
           "https://www.instagram.com/p/DDUwNtpMkgV/"
          ],
          [
           "https://www.instagram.com/p/DDUwRwNslh3/"
          ],
          [
           "https://www.instagram.com/p/DDUwUsksbSe/"
          ],
          [
           "https://www.instagram.com/p/DDUwQrLMVzu/"
          ],
          [
           "https://www.instagram.com/p/DDXhYkapQVu/"
          ],
          [
           "https://www.instagram.com/p/DDdEyqco-qE/"
          ],
          [
           "https://www.instagram.com/p/DDh0zlwhcdO/"
          ],
          [
           "https://www.instagram.com/p/DDiVCAkMKvJ/"
          ],
          [
           "https://www.instagram.com/p/DDklUPlMyDd/"
          ],
          [
           "https://www.instagram.com/p/DDklgf5MZgK/"
          ],
          [
           "https://www.instagram.com/p/DDklpZgsiym/"
          ],
          [
           "https://www.instagram.com/p/DDmg07Ks8Lw/"
          ],
          [
           "https://www.instagram.com/p/DDmgyzsM2Im/"
          ],
          [
           "https://www.instagram.com/p/DDmgxSjMpA0/"
          ],
          [
           "https://www.instagram.com/p/DDpjStpocz3/"
          ],
          [
           "https://www.instagram.com/p/DDutAoaJ1_R/"
          ],
          [
           "https://www.instagram.com/p/DDz2slhP88i/"
          ],
          [
           "https://www.instagram.com/p/DD2hpwcMS5k/"
          ],
          [
           "https://www.instagram.com/p/DD7lM4IMDAz/"
          ],
          [
           "https://www.instagram.com/p/DD9q1LLAFA5/"
          ],
          [
           "https://www.instagram.com/p/DEF4f37JkTC/"
          ],
          [
           "https://www.instagram.com/p/DEIXomesl78/"
          ],
          [
           "https://www.instagram.com/p/DEIXmNDsXla/"
          ],
          [
           "https://www.instagram.com/p/DEK6XlVMii6/"
          ],
          [
           "https://www.instagram.com/p/DEK6icastVE/"
          ],
          [
           "https://www.instagram.com/p/DELCNuOtkSJ/"
          ],
          [
           "https://www.instagram.com/p/DEK6VNDsN9A/"
          ],
          [
           "https://www.instagram.com/p/DEM3ChRNd5F/"
          ],
          [
           "https://www.instagram.com/p/DEQyT2sMlgK/"
          ],
          [
           "https://www.instagram.com/p/DEREYWWN2Ug/"
          ],
          [
           "https://www.instagram.com/p/DEXXJz4uqfY/"
          ],
          [
           "https://www.instagram.com/p/DEc9l60M-WA/"
          ],
          [
           "https://www.instagram.com/p/DEfiuHMvGT8/"
          ],
          [
           "https://www.instagram.com/p/DElHXu3sznS/"
          ],
          [
           "https://www.instagram.com/p/DEkKNjYPyVx/"
          ],
          [
           "https://www.instagram.com/p/DElHU9Ys1P_/"
          ],
          [
           "https://www.instagram.com/p/DEi3_QCI14R/"
          ],
          [
           "https://www.instagram.com/p/DEn7P81tHwi/"
          ],
          [
           "https://www.instagram.com/p/DEn7buntldr/"
          ],
          [
           "https://www.instagram.com/p/DEpNDDZP2c7/"
          ],
          [
           "https://www.instagram.com/p/DE2lgWbsXcr/?img_index=1"
          ],
          [
           "https://www.instagram.com/p/DE5oJihMpUD/"
          ],
          [
           "https://www.instagram.com/p/DE7H9NcM7Ip/"
          ],
          [
           "https://www.instagram.com/p/DE8DFs_sHx6/"
          ],
          [
           "https://www.instagram.com/p/DE-c8weMEUF/"
          ],
          [
           "https://www.instagram.com/p/DE-kgZJsaZC/"
          ],
          [
           "https://www.instagram.com/p/DFDtvrcC0GQ/"
          ],
          [
           "https://www.instagram.com/p/DFFRiPsMW28/"
          ],
          [
           "https://www.instagram.com/p/DFGSVbLsT8u/"
          ],
          [
           "https://www.instagram.com/p/DFGabz6BrYp/"
          ],
          [
           "https://www.instagram.com/p/DFIPcI0ivki/"
          ],
          [
           "https://www.instagram.com/p/DFLdnm-KV3N/"
          ],
          [
           "https://www.instagram.com/p/DFOQYghohFA/?img_index=1"
          ],
          [
           "https://www.instagram.com/p/DFVxBmtpb5_/"
          ],
          [
           "https://www.instagram.com/p/DFYPaOxsTgx/"
          ],
          [
           "https://www.instagram.com/p/DFYjINdtCpo/"
          ],
          [
           "https://www.instagram.com/p/DFaRpfkq_Al/"
          ],
          [
           "https://www.instagram.com/p/DFf9rtkpoNZ/"
          ],
          [
           "https://www.instagram.com/p/DFkK08WMwPo/"
          ],
          [
           "https://www.instagram.com/p/DFkK6MJs9mL/"
          ],
          [
           "https://www.instagram.com/p/DFnMZxyo0Py/"
          ],
          [
           "https://www.instagram.com/p/DFqXPxhs1Xc/"
          ],
          [
           "https://www.instagram.com/p/DFvB3wcA3JX/"
          ],
          [
           "https://www.instagram.com/p/DF4xJXIsXR6/"
          ],
          [
           "https://www.instagram.com/p/DF99UNEp5Kl/"
          ],
          [
           "https://www.instagram.com/p/DGEH5DXs5c5/"
          ],
          [
           "https://www.instagram.com/p/DGDG5tzt_9M/"
          ],
          [
           "https://www.instagram.com/p/DGGtkS-MzPO/"
          ],
          [
           "https://www.instagram.com/p/DGGERE0MxxG/"
          ],
          [
           "https://www.instagram.com/p/DGIn1EUsMnN/"
          ],
          [
           "https://www.instagram.com/p/DGRVN2uMjag/"
          ],
          [
           "https://www.instagram.com/p/DGTjU0isQsW/"
          ],
          [
           "https://www.instagram.com/p/DGVnJQItUey/"
          ],
          [
           "https://www.instagram.com/p/DGWioHdsj6I/"
          ],
          [
           "https://www.instagram.com/p/DGYxjqaMIVV/"
          ],
          [
           "https://www.instagram.com/p/DGYbCz5MgzM/"
          ],
          [
           "https://www.instagram.com/p/DGc4hQMMXI0/"
          ],
          [
           "https://www.instagram.com/p/DGifVvAJs4f/"
          ],
          [
           "https://www.instagram.com/p/DGihRGUMvBs/"
          ],
          [
           "https://www.instagram.com/p/DGiITtdMqyR/"
          ],
          [
           "https://www.instagram.com/p/DGjdqUCMjSh/"
          ],
          [
           "https://www.instagram.com/p/DGkm882sfFN/"
          ],
          [
           "https://www.instagram.com/p/DGnbn27spx4/"
          ],
          [
           "https://www.instagram.com/p/DGnb7yrMsAg/"
          ],
          [
           "https://www.instagram.com/p/DGnpDHIIvGa/"
          ],
          [
           "https://www.instagram.com/p/DGtlpZbswqj/"
          ],
          [
           "https://www.instagram.com/p/DGwAWgPM1Y0/"
          ],
          [
           "https://www.instagram.com/p/DGwKxFMsC5N/"
          ],
          [
           "https://www.instagram.com/p/DGxrwW_qo8w/"
          ],
          [
           "https://www.instagram.com/p/DG0Xo-MqHqO/"
          ],
          [
           "https://www.instagram.com/p/DG5al3OskPx/"
          ],
          [
           "https://www.instagram.com/p/DHCFxvXAIs5/"
          ],
          [
           "https://www.instagram.com/p/DHG0SFWsCuv/"
          ],
          [
           "https://www.instagram.com/p/DHHR9z9Pyu5/"
          ],
          [
           "https://www.instagram.com/p/DHJwd-MszHn/"
          ],
          [
           "https://www.instagram.com/p/DHLd4dKMdZr/"
          ],
          [
           "https://www.instagram.com/p/DHTb6DbsK5R/"
          ],
          [
           "https://www.instagram.com/p/DHW3rrXM3bu/"
          ],
          [
           "https://www.instagram.com/p/DHYn7U-Isvw/"
          ],
          [
           "https://www.instagram.com/p/DHbKnWXI0ZF/"
          ],
          [
           "https://www.instagram.com/p/DHdj5gPsIEb/"
          ],
          [
           "https://www.instagram.com/p/DHgHWbvsPic/"
          ],
          [
           "https://www.instagram.com/p/DHgIGnrsNID/"
          ],
          [
           "https://www.instagram.com/p/DHgGuGqMjtO/"
          ],
          [
           "https://www.instagram.com/p/DHgGhItM-AX/"
          ],
          [
           "https://www.instagram.com/p/DHgFG0QMyt_/"
          ],
          [
           "https://www.instagram.com/p/DHgG7jXMv_s/"
          ],
          [
           "https://www.instagram.com/p/DHgG2b3MNKm/"
          ],
          [
           "https://www.instagram.com/p/DHgGwbEs634/"
          ],
          [
           "https://www.instagram.com/p/DHgG-tbMweo/"
          ],
          [
           "https://www.instagram.com/p/DHgNOzsMRTt/"
          ],
          [
           "https://www.instagram.com/p/DHgGpe4s59o/"
          ],
          [
           "https://www.instagram.com/p/DHjC8lFsW4A/"
          ],
          [
           "https://www.instagram.com/p/DHlOnUyg4IV/"
          ],
          [
           "https://www.instagram.com/p/DHmFmNgMSd8/"
          ],
          [
           "https://www.instagram.com/p/DHoBInPMJnB/"
          ],
          [
           "https://www.instagram.com/p/DHqaumdN8kn/"
          ],
          [
           "https://www.instagram.com/p/DHp5FoYsQST/"
          ],
          [
           "https://www.instagram.com/p/DHrVknWstUo/"
          ],
          [
           "https://www.instagram.com/p/DHvQVCRMuOj/"
          ],
          [
           "https://www.instagram.com/p/DHvQsOxMz0n/"
          ],
          [
           "https://www.instagram.com/p/DHvQy5vsvd_/"
          ],
          [
           "https://www.instagram.com/p/DHvek3MMkdg/"
          ],
          [
           "https://www.instagram.com/p/DHvkbqpJpz8/"
          ],
          [
           "https://www.instagram.com/p/DHyHDDPM03C/"
          ],
          [
           "https://www.instagram.com/p/DHzPwGssgTn/"
          ],
          [
           "https://www.instagram.com/p/DH1TE2NsmU3/"
          ],
          [
           "https://www.instagram.com/p/DH4BvUopMyr/"
          ],
          [
           "https://www.instagram.com/p/DH6Pus_MrLF/"
          ],
          [
           "https://www.instagram.com/p/DH55YmHNauy/"
          ],
          [
           "https://www.instagram.com/p/DH81wKXga0j/"
          ],
          [
           "https://www.instagram.com/p/DIABkVzMSoB/"
          ],
          [
           "https://www.instagram.com/p/DIE4VYmMUZZ/"
          ],
          [
           "https://www.instagram.com/p/DIDpesDsj40/"
          ],
          [
           "https://www.instagram.com/p/DIDpj_EM266/"
          ],
          [
           "https://www.instagram.com/p/DIJBQIogEUp/"
          ],
          [
           "https://www.instagram.com/p/DIJAs87MkQv/"
          ],
          [
           "https://www.instagram.com/p/DIMSccLMiWz/"
          ],
          [
           "https://www.instagram.com/p/DIPET1_iI5E/"
          ],
          [
           "https://www.instagram.com/p/DITUvwesBU8/"
          ],
          [
           "https://www.instagram.com/p/DITXMptPjIj/"
          ],
          [
           "https://www.instagram.com/p/DITnYScMGO0/"
          ],
          [
           "https://www.instagram.com/p/DIbUpcSAxf3/"
          ],
          [
           "https://www.instagram.com/p/DIghI6joS9h/"
          ],
          [
           "https://www.instagram.com/p/DIllZHrs3_u/"
          ],
          [
           "https://www.instagram.com/p/DIllWVjsxBR/"
          ],
          [
           "https://www.instagram.com/p/DIoP-5xKnff/"
          ],
          [
           "https://www.instagram.com/p/DItcrzYszEY/"
          ],
          [
           "https://www.instagram.com/p/DItBipWMeEC/"
          ],
          [
           "https://www.instagram.com/p/DItZr43MOLq/"
          ],
          [
           "https://www.instagram.com/p/DI3tFuuMMeP/"
          ],
          [
           "https://www.instagram.com/p/DI32nbvM5_1/"
          ]
         ],
         "hovertemplate": "cafe=https://www.instagram.com/majestic_cafe/<br>Date=%{x}<br>Ratio between Likes and Followers=%{y}<br>post_link=%{customdata[0]}<extra></extra>",
         "legendgroup": "https://www.instagram.com/majestic_cafe/",
         "line": {
          "color": "#636efa",
          "dash": "solid"
         },
         "marker": {
          "symbol": "circle"
         },
         "mode": "lines",
         "name": "https://www.instagram.com/majestic_cafe/",
         "showlegend": true,
         "type": "scattergl",
         "x": [
          "2022-08-31T00:00:00",
          "2022-12-30T00:00:00",
          "2023-01-04T00:00:00",
          "2023-01-08T00:00:00",
          "2023-01-09T00:00:00",
          "2023-01-11T00:00:00",
          "2023-01-13T00:00:00",
          "2023-01-16T00:00:00",
          "2023-01-18T00:00:00",
          "2023-01-20T00:00:00",
          "2023-01-20T00:00:00",
          "2023-01-20T00:00:00",
          "2023-01-20T00:00:00",
          "2023-01-20T00:00:00",
          "2023-01-22T00:00:00",
          "2023-01-23T00:00:00",
          "2023-01-23T00:00:00",
          "2023-01-23T00:00:00",
          "2023-01-23T00:00:00",
          "2023-01-23T00:00:00",
          "2023-01-23T00:00:00",
          "2023-01-23T00:00:00",
          "2023-01-23T00:00:00",
          "2023-01-23T00:00:00",
          "2023-01-24T00:00:00",
          "2023-01-24T00:00:00",
          "2023-01-24T00:00:00",
          "2023-01-25T00:00:00",
          "2023-01-27T00:00:00",
          "2023-01-27T00:00:00",
          "2023-01-30T00:00:00",
          "2023-01-31T00:00:00",
          "2023-01-31T00:00:00",
          "2023-01-31T00:00:00",
          "2023-01-31T00:00:00",
          "2023-01-31T00:00:00",
          "2023-02-01T00:00:00",
          "2023-02-03T00:00:00",
          "2023-02-06T00:00:00",
          "2023-02-08T00:00:00",
          "2023-02-11T00:00:00",
          "2023-02-11T00:00:00",
          "2023-02-13T00:00:00",
          "2023-02-13T00:00:00",
          "2023-02-13T00:00:00",
          "2023-02-14T00:00:00",
          "2023-02-14T00:00:00",
          "2023-02-15T00:00:00",
          "2023-02-16T00:00:00",
          "2023-02-17T00:00:00",
          "2023-02-20T00:00:00",
          "2023-02-22T00:00:00",
          "2023-02-22T00:00:00",
          "2023-02-22T00:00:00",
          "2023-02-23T00:00:00",
          "2023-02-24T00:00:00",
          "2023-02-26T00:00:00",
          "2023-02-27T00:00:00",
          "2023-03-01T00:00:00",
          "2023-03-03T00:00:00",
          "2023-03-03T00:00:00",
          "2023-03-03T00:00:00",
          "2023-03-03T00:00:00",
          "2023-03-03T00:00:00",
          "2023-03-03T00:00:00",
          "2023-03-03T00:00:00",
          "2023-03-03T00:00:00",
          "2023-03-03T00:00:00",
          "2023-03-03T00:00:00",
          "2023-03-06T00:00:00",
          "2023-03-10T00:00:00",
          "2023-03-10T00:00:00",
          "2023-03-10T00:00:00",
          "2023-03-10T00:00:00",
          "2023-03-11T00:00:00",
          "2023-03-11T00:00:00",
          "2023-03-11T00:00:00",
          "2023-03-11T00:00:00",
          "2023-03-11T00:00:00",
          "2023-03-11T00:00:00",
          "2023-03-11T00:00:00",
          "2023-03-12T00:00:00",
          "2023-03-12T00:00:00",
          "2023-03-12T00:00:00",
          "2023-03-13T00:00:00",
          "2023-03-13T00:00:00",
          "2023-03-15T00:00:00",
          "2023-03-15T00:00:00",
          "2023-03-16T00:00:00",
          "2023-03-16T00:00:00",
          "2023-03-17T00:00:00",
          "2023-03-18T00:00:00",
          "2023-03-18T00:00:00",
          "2023-03-18T00:00:00",
          "2023-03-18T00:00:00",
          "2023-03-18T00:00:00",
          "2023-03-18T00:00:00",
          "2023-03-18T00:00:00",
          "2023-03-20T00:00:00",
          "2023-03-22T00:00:00",
          "2023-03-22T00:00:00",
          "2023-03-24T00:00:00",
          "2023-03-24T00:00:00",
          "2023-03-24T00:00:00",
          "2023-03-24T00:00:00",
          "2023-03-24T00:00:00",
          "2023-03-26T00:00:00",
          "2023-03-27T00:00:00",
          "2023-03-30T00:00:00",
          "2023-03-30T00:00:00",
          "2023-03-31T00:00:00",
          "2023-04-01T00:00:00",
          "2023-04-01T00:00:00",
          "2023-04-01T00:00:00",
          "2023-04-01T00:00:00",
          "2023-04-01T00:00:00",
          "2023-04-01T00:00:00",
          "2023-04-02T00:00:00",
          "2023-04-02T00:00:00",
          "2023-04-02T00:00:00",
          "2023-04-02T00:00:00",
          "2023-04-02T00:00:00",
          "2023-04-02T00:00:00",
          "2023-04-02T00:00:00",
          "2023-04-03T00:00:00",
          "2023-04-04T00:00:00",
          "2023-04-04T00:00:00",
          "2023-04-04T00:00:00",
          "2023-04-04T00:00:00",
          "2023-04-04T00:00:00",
          "2023-04-04T00:00:00",
          "2023-04-04T00:00:00",
          "2023-04-05T00:00:00",
          "2023-04-05T00:00:00",
          "2023-04-05T00:00:00",
          "2023-04-05T00:00:00",
          "2023-04-05T00:00:00",
          "2023-04-05T00:00:00",
          "2023-04-05T00:00:00",
          "2023-04-07T00:00:00",
          "2023-04-09T00:00:00",
          "2023-04-10T00:00:00",
          "2023-04-10T00:00:00",
          "2023-04-14T00:00:00",
          "2023-04-17T00:00:00",
          "2023-04-17T00:00:00",
          "2023-04-17T00:00:00",
          "2023-04-17T00:00:00",
          "2023-04-17T00:00:00",
          "2023-04-17T00:00:00",
          "2023-04-17T00:00:00",
          "2023-04-19T00:00:00",
          "2023-04-19T00:00:00",
          "2023-04-20T00:00:00",
          "2023-04-21T00:00:00",
          "2023-04-22T00:00:00",
          "2023-04-22T00:00:00",
          "2023-04-24T00:00:00",
          "2023-04-25T00:00:00",
          "2023-04-25T00:00:00",
          "2023-04-25T00:00:00",
          "2023-04-25T00:00:00",
          "2023-04-26T00:00:00",
          "2023-04-28T00:00:00",
          "2023-04-28T00:00:00",
          "2023-05-02T00:00:00",
          "2023-05-02T00:00:00",
          "2023-05-02T00:00:00",
          "2023-05-02T00:00:00",
          "2023-05-02T00:00:00",
          "2023-05-03T00:00:00",
          "2023-05-03T00:00:00",
          "2023-05-03T00:00:00",
          "2023-05-03T00:00:00",
          "2023-05-05T00:00:00",
          "2023-05-06T00:00:00",
          "2023-05-06T00:00:00",
          "2023-05-07T00:00:00",
          "2023-05-07T00:00:00",
          "2023-05-08T00:00:00",
          "2023-05-08T00:00:00",
          "2023-05-09T00:00:00",
          "2023-05-09T00:00:00",
          "2023-05-09T00:00:00",
          "2023-05-10T00:00:00",
          "2023-05-10T00:00:00",
          "2023-05-10T00:00:00",
          "2023-05-10T00:00:00",
          "2023-05-10T00:00:00",
          "2023-05-10T00:00:00",
          "2023-05-10T00:00:00",
          "2023-05-10T00:00:00",
          "2023-05-10T00:00:00",
          "2023-05-10T00:00:00",
          "2023-05-11T00:00:00",
          "2023-05-12T00:00:00",
          "2023-05-12T00:00:00",
          "2023-05-12T00:00:00",
          "2023-05-12T00:00:00",
          "2023-05-12T00:00:00",
          "2023-05-13T00:00:00",
          "2023-05-13T00:00:00",
          "2023-05-13T00:00:00",
          "2023-05-13T00:00:00",
          "2023-05-13T00:00:00",
          "2023-05-15T00:00:00",
          "2023-05-15T00:00:00",
          "2023-05-15T00:00:00",
          "2023-05-15T00:00:00",
          "2023-05-15T00:00:00",
          "2023-05-15T00:00:00",
          "2023-05-15T00:00:00",
          "2023-05-16T00:00:00",
          "2023-05-16T00:00:00",
          "2023-05-16T00:00:00",
          "2023-05-16T00:00:00",
          "2023-05-17T00:00:00",
          "2023-05-17T00:00:00",
          "2023-05-17T00:00:00",
          "2023-05-18T00:00:00",
          "2023-05-18T00:00:00",
          "2023-05-18T00:00:00",
          "2023-05-19T00:00:00",
          "2023-05-20T00:00:00",
          "2023-05-20T00:00:00",
          "2023-05-20T00:00:00",
          "2023-05-20T00:00:00",
          "2023-05-21T00:00:00",
          "2023-05-21T00:00:00",
          "2023-05-22T00:00:00",
          "2023-05-22T00:00:00",
          "2023-05-22T00:00:00",
          "2023-05-22T00:00:00",
          "2023-05-24T00:00:00",
          "2023-05-24T00:00:00",
          "2023-05-24T00:00:00",
          "2023-05-25T00:00:00",
          "2023-05-26T00:00:00",
          "2023-05-27T00:00:00",
          "2023-05-27T00:00:00",
          "2023-05-27T00:00:00",
          "2023-05-29T00:00:00",
          "2023-05-29T00:00:00",
          "2023-05-29T00:00:00",
          "2023-05-31T00:00:00",
          "2023-06-02T00:00:00",
          "2023-06-04T00:00:00",
          "2023-06-04T00:00:00",
          "2023-06-04T00:00:00",
          "2023-06-05T00:00:00",
          "2023-06-06T00:00:00",
          "2023-06-06T00:00:00",
          "2023-06-07T00:00:00",
          "2023-06-09T00:00:00",
          "2023-06-10T00:00:00",
          "2023-06-12T00:00:00",
          "2023-06-14T00:00:00",
          "2023-06-15T00:00:00",
          "2023-06-15T00:00:00",
          "2023-06-15T00:00:00",
          "2023-06-16T00:00:00",
          "2023-06-18T00:00:00",
          "2023-06-18T00:00:00",
          "2023-06-19T00:00:00",
          "2023-06-19T00:00:00",
          "2023-06-19T00:00:00",
          "2023-06-20T00:00:00",
          "2023-06-20T00:00:00",
          "2023-06-20T00:00:00",
          "2023-06-21T00:00:00",
          "2023-06-21T00:00:00",
          "2023-06-22T00:00:00",
          "2023-06-22T00:00:00",
          "2023-06-24T00:00:00",
          "2023-06-24T00:00:00",
          "2023-06-24T00:00:00",
          "2023-06-24T00:00:00",
          "2023-06-24T00:00:00",
          "2023-06-24T00:00:00",
          "2023-06-24T00:00:00",
          "2023-06-24T00:00:00",
          "2023-06-25T00:00:00",
          "2023-06-25T00:00:00",
          "2023-06-26T00:00:00",
          "2023-06-28T00:00:00",
          "2023-06-28T00:00:00",
          "2023-06-28T00:00:00",
          "2023-06-29T00:00:00",
          "2023-06-30T00:00:00",
          "2023-07-01T00:00:00",
          "2023-07-01T00:00:00",
          "2023-07-01T00:00:00",
          "2023-07-01T00:00:00",
          "2023-07-02T00:00:00",
          "2023-07-03T00:00:00",
          "2023-07-03T00:00:00",
          "2023-07-05T00:00:00",
          "2023-07-07T00:00:00",
          "2023-07-07T00:00:00",
          "2023-07-07T00:00:00",
          "2023-07-07T00:00:00",
          "2023-07-07T00:00:00",
          "2023-07-08T00:00:00",
          "2023-07-08T00:00:00",
          "2023-07-08T00:00:00",
          "2023-07-08T00:00:00",
          "2023-07-08T00:00:00",
          "2023-07-08T00:00:00",
          "2023-07-08T00:00:00",
          "2023-07-08T00:00:00",
          "2023-07-08T00:00:00",
          "2023-07-10T00:00:00",
          "2023-07-12T00:00:00",
          "2023-07-13T00:00:00",
          "2023-07-14T00:00:00",
          "2023-07-15T00:00:00",
          "2023-07-15T00:00:00",
          "2023-07-15T00:00:00",
          "2023-07-15T00:00:00",
          "2023-07-15T00:00:00",
          "2023-07-16T00:00:00",
          "2023-07-16T00:00:00",
          "2023-07-17T00:00:00",
          "2023-07-17T00:00:00",
          "2023-07-19T00:00:00",
          "2023-07-21T00:00:00",
          "2023-07-22T00:00:00",
          "2023-07-22T00:00:00",
          "2023-07-22T00:00:00",
          "2023-07-24T00:00:00",
          "2023-07-26T00:00:00",
          "2023-07-26T00:00:00",
          "2023-07-26T00:00:00",
          "2023-07-26T00:00:00",
          "2023-07-28T00:00:00",
          "2023-07-31T00:00:00",
          "2023-08-02T00:00:00",
          "2023-08-02T00:00:00",
          "2023-08-02T00:00:00",
          "2023-08-02T00:00:00",
          "2023-08-02T00:00:00",
          "2023-08-04T00:00:00",
          "2023-08-04T00:00:00",
          "2023-08-04T00:00:00",
          "2023-08-07T00:00:00",
          "2023-08-09T00:00:00",
          "2023-08-10T00:00:00",
          "2023-08-11T00:00:00",
          "2023-08-14T00:00:00",
          "2023-08-14T00:00:00",
          "2023-08-15T00:00:00",
          "2023-08-16T00:00:00",
          "2023-08-17T00:00:00",
          "2023-08-17T00:00:00",
          "2023-08-18T00:00:00",
          "2023-08-18T00:00:00",
          "2023-08-19T00:00:00",
          "2023-08-19T00:00:00",
          "2023-08-21T00:00:00",
          "2023-08-22T00:00:00",
          "2023-08-22T00:00:00",
          "2023-08-22T00:00:00",
          "2023-08-23T00:00:00",
          "2023-08-25T00:00:00",
          "2023-08-26T00:00:00",
          "2023-08-26T00:00:00",
          "2023-08-26T00:00:00",
          "2023-08-26T00:00:00",
          "2023-08-27T00:00:00",
          "2023-08-28T00:00:00",
          "2023-08-29T00:00:00",
          "2023-08-30T00:00:00",
          "2023-08-31T00:00:00",
          "2023-08-31T00:00:00",
          "2023-08-31T00:00:00",
          "2023-08-31T00:00:00",
          "2023-08-31T00:00:00",
          "2023-08-31T00:00:00",
          "2023-08-31T00:00:00",
          "2023-08-31T00:00:00",
          "2023-08-31T00:00:00",
          "2023-09-01T00:00:00",
          "2023-09-02T00:00:00",
          "2023-09-02T00:00:00",
          "2023-09-02T00:00:00",
          "2023-09-04T00:00:00",
          "2023-09-05T00:00:00",
          "2023-09-05T00:00:00",
          "2023-09-05T00:00:00",
          "2023-09-05T00:00:00",
          "2023-09-05T00:00:00",
          "2023-09-06T00:00:00",
          "2023-09-08T00:00:00",
          "2023-09-08T00:00:00",
          "2023-09-08T00:00:00",
          "2023-09-08T00:00:00",
          "2023-09-11T00:00:00",
          "2023-09-11T00:00:00",
          "2023-09-11T00:00:00",
          "2023-09-11T00:00:00",
          "2023-09-13T00:00:00",
          "2023-09-15T00:00:00",
          "2023-09-15T00:00:00",
          "2023-09-16T00:00:00",
          "2023-09-18T00:00:00",
          "2023-09-20T00:00:00",
          "2023-09-20T00:00:00",
          "2023-09-20T00:00:00",
          "2023-09-20T00:00:00",
          "2023-09-20T00:00:00",
          "2023-09-21T00:00:00",
          "2023-09-22T00:00:00",
          "2023-09-23T00:00:00",
          "2023-09-23T00:00:00",
          "2023-09-23T00:00:00",
          "2023-09-23T00:00:00",
          "2023-09-23T00:00:00",
          "2023-09-23T00:00:00",
          "2023-09-23T00:00:00",
          "2023-09-23T00:00:00",
          "2023-09-23T00:00:00",
          "2023-09-23T00:00:00",
          "2023-09-23T00:00:00",
          "2023-09-24T00:00:00",
          "2023-09-25T00:00:00",
          "2023-09-25T00:00:00",
          "2023-09-25T00:00:00",
          "2023-09-25T00:00:00",
          "2023-09-27T00:00:00",
          "2023-09-28T00:00:00",
          "2023-09-28T00:00:00",
          "2023-09-29T00:00:00",
          "2023-09-29T00:00:00",
          "2023-09-30T00:00:00",
          "2023-09-30T00:00:00",
          "2023-09-30T00:00:00",
          "2023-10-01T00:00:00",
          "2023-10-02T00:00:00",
          "2023-10-02T00:00:00",
          "2023-10-03T00:00:00",
          "2023-10-03T00:00:00",
          "2023-10-03T00:00:00",
          "2023-10-04T00:00:00",
          "2023-10-04T00:00:00",
          "2023-10-04T00:00:00",
          "2023-10-04T00:00:00",
          "2023-10-05T00:00:00",
          "2023-10-05T00:00:00",
          "2023-10-05T00:00:00",
          "2023-10-05T00:00:00",
          "2023-10-05T00:00:00",
          "2023-10-05T00:00:00",
          "2023-10-05T00:00:00",
          "2023-10-06T00:00:00",
          "2023-10-06T00:00:00",
          "2023-10-06T00:00:00",
          "2023-10-06T00:00:00",
          "2023-10-06T00:00:00",
          "2023-10-07T00:00:00",
          "2023-10-07T00:00:00",
          "2023-10-08T00:00:00",
          "2023-10-08T00:00:00",
          "2023-10-09T00:00:00",
          "2023-10-11T00:00:00",
          "2023-10-11T00:00:00",
          "2023-10-11T00:00:00",
          "2023-10-12T00:00:00",
          "2023-10-12T00:00:00",
          "2023-10-12T00:00:00",
          "2023-10-13T00:00:00",
          "2023-10-16T00:00:00",
          "2023-10-16T00:00:00",
          "2023-10-16T00:00:00",
          "2023-10-18T00:00:00",
          "2023-10-20T00:00:00",
          "2023-10-21T00:00:00",
          "2023-10-21T00:00:00",
          "2023-10-21T00:00:00",
          "2023-10-23T00:00:00",
          "2023-10-25T00:00:00",
          "2023-10-25T00:00:00",
          "2023-10-25T00:00:00",
          "2023-10-25T00:00:00",
          "2023-10-25T00:00:00",
          "2023-10-25T00:00:00",
          "2023-10-25T00:00:00",
          "2023-10-25T00:00:00",
          "2023-10-27T00:00:00",
          "2023-10-27T00:00:00",
          "2023-10-27T00:00:00",
          "2023-10-27T00:00:00",
          "2023-10-27T00:00:00",
          "2023-10-27T00:00:00",
          "2023-10-27T00:00:00",
          "2023-10-28T00:00:00",
          "2023-10-28T00:00:00",
          "2023-10-28T00:00:00",
          "2023-10-30T00:00:00",
          "2023-10-30T00:00:00",
          "2023-11-01T00:00:00",
          "2023-11-01T00:00:00",
          "2023-11-01T00:00:00",
          "2023-11-01T00:00:00",
          "2023-11-01T00:00:00",
          "2023-11-03T00:00:00",
          "2023-11-06T00:00:00",
          "2023-11-07T00:00:00",
          "2023-11-08T00:00:00",
          "2023-11-10T00:00:00",
          "2023-11-10T00:00:00",
          "2023-11-10T00:00:00",
          "2023-11-11T00:00:00",
          "2023-11-11T00:00:00",
          "2023-11-11T00:00:00",
          "2023-11-11T00:00:00",
          "2023-11-11T00:00:00",
          "2023-11-13T00:00:00",
          "2023-11-15T00:00:00",
          "2023-11-15T00:00:00",
          "2023-11-16T00:00:00",
          "2023-11-17T00:00:00",
          "2023-11-19T00:00:00",
          "2023-11-20T00:00:00",
          "2023-11-20T00:00:00",
          "2023-11-21T00:00:00",
          "2023-11-21T00:00:00",
          "2023-11-21T00:00:00",
          "2023-11-22T00:00:00",
          "2023-11-24T00:00:00",
          "2023-11-24T00:00:00",
          "2023-11-27T00:00:00",
          "2023-11-28T00:00:00",
          "2023-11-28T00:00:00",
          "2023-11-28T00:00:00",
          "2023-11-28T00:00:00",
          "2023-11-28T00:00:00",
          "2023-11-29T00:00:00",
          "2023-12-01T00:00:00",
          "2023-12-02T00:00:00",
          "2023-12-02T00:00:00",
          "2023-12-03T00:00:00",
          "2023-12-04T00:00:00",
          "2023-12-04T00:00:00",
          "2023-12-04T00:00:00",
          "2023-12-06T00:00:00",
          "2023-12-08T00:00:00",
          "2023-12-11T00:00:00",
          "2023-12-11T00:00:00",
          "2023-12-11T00:00:00",
          "2023-12-11T00:00:00",
          "2023-12-12T00:00:00",
          "2023-12-13T00:00:00",
          "2023-12-15T00:00:00",
          "2023-12-16T00:00:00",
          "2023-12-18T00:00:00",
          "2023-12-18T00:00:00",
          "2023-12-18T00:00:00",
          "2023-12-18T00:00:00",
          "2023-12-18T00:00:00",
          "2023-12-19T00:00:00",
          "2023-12-20T00:00:00",
          "2023-12-20T00:00:00",
          "2023-12-20T00:00:00",
          "2023-12-22T00:00:00",
          "2023-12-23T00:00:00",
          "2023-12-24T00:00:00",
          "2023-12-25T00:00:00",
          "2023-12-27T00:00:00",
          "2023-12-27T00:00:00",
          "2023-12-27T00:00:00",
          "2023-12-28T00:00:00",
          "2023-12-29T00:00:00",
          "2023-12-29T00:00:00",
          "2023-12-30T00:00:00",
          "2023-12-30T00:00:00",
          "2023-12-31T00:00:00",
          "2024-01-01T00:00:00",
          "2024-01-02T00:00:00",
          "2024-01-03T00:00:00",
          "2024-01-03T00:00:00",
          "2024-01-03T00:00:00",
          "2024-01-03T00:00:00",
          "2024-01-03T00:00:00",
          "2024-01-05T00:00:00",
          "2024-01-06T00:00:00",
          "2024-01-08T00:00:00",
          "2024-01-10T00:00:00",
          "2024-01-10T00:00:00",
          "2024-01-10T00:00:00",
          "2024-01-10T00:00:00",
          "2024-01-10T00:00:00",
          "2024-01-10T00:00:00",
          "2024-01-10T00:00:00",
          "2024-01-11T00:00:00",
          "2024-01-12T00:00:00",
          "2024-01-14T00:00:00",
          "2024-01-14T00:00:00",
          "2024-01-14T00:00:00",
          "2024-01-14T00:00:00",
          "2024-01-14T00:00:00",
          "2024-01-15T00:00:00",
          "2024-01-17T00:00:00",
          "2024-01-19T00:00:00",
          "2024-01-20T00:00:00",
          "2024-01-22T00:00:00",
          "2024-01-23T00:00:00",
          "2024-01-23T00:00:00",
          "2024-01-23T00:00:00",
          "2024-01-23T00:00:00",
          "2024-01-23T00:00:00",
          "2024-01-23T00:00:00",
          "2024-01-24T00:00:00",
          "2024-01-24T00:00:00",
          "2024-01-25T00:00:00",
          "2024-01-26T00:00:00",
          "2024-01-28T00:00:00",
          "2024-01-29T00:00:00",
          "2024-02-02T00:00:00",
          "2024-02-02T00:00:00",
          "2024-02-03T00:00:00",
          "2024-02-05T00:00:00",
          "2024-02-07T00:00:00",
          "2024-02-09T00:00:00",
          "2024-02-10T00:00:00",
          "2024-02-13T00:00:00",
          "2024-02-14T00:00:00",
          "2024-02-16T00:00:00",
          "2024-02-19T00:00:00",
          "2024-02-21T00:00:00",
          "2024-02-22T00:00:00",
          "2024-02-22T00:00:00",
          "2024-02-23T00:00:00",
          "2024-02-23T00:00:00",
          "2024-02-23T00:00:00",
          "2024-02-23T00:00:00",
          "2024-02-24T00:00:00",
          "2024-02-24T00:00:00",
          "2024-02-25T00:00:00",
          "2024-02-25T00:00:00",
          "2024-02-25T00:00:00",
          "2024-02-25T00:00:00",
          "2024-02-26T00:00:00",
          "2024-02-27T00:00:00",
          "2024-02-27T00:00:00",
          "2024-02-27T00:00:00",
          "2024-02-27T00:00:00",
          "2024-02-27T00:00:00",
          "2024-02-27T00:00:00",
          "2024-02-27T00:00:00",
          "2024-02-28T00:00:00",
          "2024-02-28T00:00:00",
          "2024-02-29T00:00:00",
          "2024-03-01T00:00:00",
          "2024-03-01T00:00:00",
          "2024-03-01T00:00:00",
          "2024-03-01T00:00:00",
          "2024-03-02T00:00:00",
          "2024-03-02T00:00:00",
          "2024-03-02T00:00:00",
          "2024-03-02T00:00:00",
          "2024-03-04T00:00:00",
          "2024-03-04T00:00:00",
          "2024-03-04T00:00:00",
          "2024-03-04T00:00:00",
          "2024-03-05T00:00:00",
          "2024-03-05T00:00:00",
          "2024-03-06T00:00:00",
          "2024-03-07T00:00:00",
          "2024-03-08T00:00:00",
          "2024-03-09T00:00:00",
          "2024-03-09T00:00:00",
          "2024-03-09T00:00:00",
          "2024-03-11T00:00:00",
          "2024-03-13T00:00:00",
          "2024-03-14T00:00:00",
          "2024-03-14T00:00:00",
          "2024-03-14T00:00:00",
          "2024-03-15T00:00:00",
          "2024-03-15T00:00:00",
          "2024-03-15T00:00:00",
          "2024-03-15T00:00:00",
          "2024-03-16T00:00:00",
          "2024-03-16T00:00:00",
          "2024-03-16T00:00:00",
          "2024-03-16T00:00:00",
          "2024-03-16T00:00:00",
          "2024-03-16T00:00:00",
          "2024-03-16T00:00:00",
          "2024-03-18T00:00:00",
          "2024-03-19T00:00:00",
          "2024-03-20T00:00:00",
          "2024-03-21T00:00:00",
          "2024-03-22T00:00:00",
          "2024-03-24T00:00:00",
          "2024-03-24T00:00:00",
          "2024-03-25T00:00:00",
          "2024-03-27T00:00:00",
          "2024-03-29T00:00:00",
          "2024-03-30T00:00:00",
          "2024-03-31T00:00:00",
          "2024-04-01T00:00:00",
          "2024-04-01T00:00:00",
          "2024-04-01T00:00:00",
          "2024-04-02T00:00:00",
          "2024-04-02T00:00:00",
          "2024-04-03T00:00:00",
          "2024-04-04T00:00:00",
          "2024-04-05T00:00:00",
          "2024-04-09T00:00:00",
          "2024-04-10T00:00:00",
          "2024-04-11T00:00:00",
          "2024-04-11T00:00:00",
          "2024-04-12T00:00:00",
          "2024-04-12T00:00:00",
          "2024-04-12T00:00:00",
          "2024-04-12T00:00:00",
          "2024-04-13T00:00:00",
          "2024-04-13T00:00:00",
          "2024-04-13T00:00:00",
          "2024-04-13T00:00:00",
          "2024-04-14T00:00:00",
          "2024-04-15T00:00:00",
          "2024-04-16T00:00:00",
          "2024-04-17T00:00:00",
          "2024-04-18T00:00:00",
          "2024-04-19T00:00:00",
          "2024-04-20T00:00:00",
          "2024-04-22T00:00:00",
          "2024-04-24T00:00:00",
          "2024-04-24T00:00:00",
          "2024-04-24T00:00:00",
          "2024-04-24T00:00:00",
          "2024-04-24T00:00:00",
          "2024-04-25T00:00:00",
          "2024-04-25T00:00:00",
          "2024-04-25T00:00:00",
          "2024-04-25T00:00:00",
          "2024-04-25T00:00:00",
          "2024-04-25T00:00:00",
          "2024-04-25T00:00:00",
          "2024-04-25T00:00:00",
          "2024-04-25T00:00:00",
          "2024-04-25T00:00:00",
          "2024-04-25T00:00:00",
          "2024-04-26T00:00:00",
          "2024-04-29T00:00:00",
          "2024-04-29T00:00:00",
          "2024-04-29T00:00:00",
          "2024-04-29T00:00:00",
          "2024-04-29T00:00:00",
          "2024-05-01T00:00:00",
          "2024-05-02T00:00:00",
          "2024-05-02T00:00:00",
          "2024-05-03T00:00:00",
          "2024-05-04T00:00:00",
          "2024-05-04T00:00:00",
          "2024-05-05T00:00:00",
          "2024-05-06T00:00:00",
          "2024-05-07T00:00:00",
          "2024-05-08T00:00:00",
          "2024-05-10T00:00:00",
          "2024-05-12T00:00:00",
          "2024-05-12T00:00:00",
          "2024-05-12T00:00:00",
          "2024-05-12T00:00:00",
          "2024-05-12T00:00:00",
          "2024-05-12T00:00:00",
          "2024-05-12T00:00:00",
          "2024-05-12T00:00:00",
          "2024-05-13T00:00:00",
          "2024-05-13T00:00:00",
          "2024-05-15T00:00:00",
          "2024-05-16T00:00:00",
          "2024-05-16T00:00:00",
          "2024-05-16T00:00:00",
          "2024-05-17T00:00:00",
          "2024-05-18T00:00:00",
          "2024-05-18T00:00:00",
          "2024-05-19T00:00:00",
          "2024-05-19T00:00:00",
          "2024-05-21T00:00:00",
          "2024-05-21T00:00:00",
          "2024-05-22T00:00:00",
          "2024-05-22T00:00:00",
          "2024-05-24T00:00:00",
          "2024-05-27T00:00:00",
          "2024-05-27T00:00:00",
          "2024-05-27T00:00:00",
          "2024-05-28T00:00:00",
          "2024-05-29T00:00:00",
          "2024-05-29T00:00:00",
          "2024-05-30T00:00:00",
          "2024-05-31T00:00:00",
          "2024-05-31T00:00:00",
          "2024-06-01T00:00:00",
          "2024-06-01T00:00:00",
          "2024-06-02T00:00:00",
          "2024-06-03T00:00:00",
          "2024-06-04T00:00:00",
          "2024-06-05T00:00:00",
          "2024-06-06T00:00:00",
          "2024-06-06T00:00:00",
          "2024-06-07T00:00:00",
          "2024-06-07T00:00:00",
          "2024-06-07T00:00:00",
          "2024-06-08T00:00:00",
          "2024-06-08T00:00:00",
          "2024-06-08T00:00:00",
          "2024-06-08T00:00:00",
          "2024-06-08T00:00:00",
          "2024-06-09T00:00:00",
          "2024-06-11T00:00:00",
          "2024-06-11T00:00:00",
          "2024-06-11T00:00:00",
          "2024-06-12T00:00:00",
          "2024-06-13T00:00:00",
          "2024-06-14T00:00:00",
          "2024-06-15T00:00:00",
          "2024-06-15T00:00:00",
          "2024-06-16T00:00:00",
          "2024-06-16T00:00:00",
          "2024-06-17T00:00:00",
          "2024-06-17T00:00:00",
          "2024-06-17T00:00:00",
          "2024-06-17T00:00:00",
          "2024-06-18T00:00:00",
          "2024-06-19T00:00:00",
          "2024-06-19T00:00:00",
          "2024-06-19T00:00:00",
          "2024-06-20T00:00:00",
          "2024-06-20T00:00:00",
          "2024-06-20T00:00:00",
          "2024-06-21T00:00:00",
          "2024-06-22T00:00:00",
          "2024-06-22T00:00:00",
          "2024-06-22T00:00:00",
          "2024-06-23T00:00:00",
          "2024-06-23T00:00:00",
          "2024-06-24T00:00:00",
          "2024-06-24T00:00:00",
          "2024-06-24T00:00:00",
          "2024-06-24T00:00:00",
          "2024-06-25T00:00:00",
          "2024-06-26T00:00:00",
          "2024-06-26T00:00:00",
          "2024-06-26T00:00:00",
          "2024-06-27T00:00:00",
          "2024-06-27T00:00:00",
          "2024-06-27T00:00:00",
          "2024-06-28T00:00:00",
          "2024-06-28T00:00:00",
          "2024-06-28T00:00:00",
          "2024-06-29T00:00:00",
          "2024-06-30T00:00:00",
          "2024-07-01T00:00:00",
          "2024-07-01T00:00:00",
          "2024-07-01T00:00:00",
          "2024-07-02T00:00:00",
          "2024-07-03T00:00:00",
          "2024-07-04T00:00:00",
          "2024-07-06T00:00:00",
          "2024-07-08T00:00:00",
          "2024-07-08T00:00:00",
          "2024-07-09T00:00:00",
          "2024-07-10T00:00:00",
          "2024-07-11T00:00:00",
          "2024-07-12T00:00:00",
          "2024-07-15T00:00:00",
          "2024-07-15T00:00:00",
          "2024-07-17T00:00:00",
          "2024-07-19T00:00:00",
          "2024-07-19T00:00:00",
          "2024-07-21T00:00:00",
          "2024-07-21T00:00:00",
          "2024-07-21T00:00:00",
          "2024-07-21T00:00:00",
          "2024-07-21T00:00:00",
          "2024-07-21T00:00:00",
          "2024-07-22T00:00:00",
          "2024-07-23T00:00:00",
          "2024-07-23T00:00:00",
          "2024-07-23T00:00:00",
          "2024-07-23T00:00:00",
          "2024-07-23T00:00:00",
          "2024-07-23T00:00:00",
          "2024-07-23T00:00:00",
          "2024-07-24T00:00:00",
          "2024-07-24T00:00:00",
          "2024-07-24T00:00:00",
          "2024-07-24T00:00:00",
          "2024-07-25T00:00:00",
          "2024-07-26T00:00:00",
          "2024-07-26T00:00:00",
          "2024-07-26T00:00:00",
          "2024-07-27T00:00:00",
          "2024-07-27T00:00:00",
          "2024-07-27T00:00:00",
          "2024-07-27T00:00:00",
          "2024-07-27T00:00:00",
          "2024-07-28T00:00:00",
          "2024-07-29T00:00:00",
          "2024-07-30T00:00:00",
          "2024-07-30T00:00:00",
          "2024-07-31T00:00:00",
          "2024-08-01T00:00:00",
          "2024-08-01T00:00:00",
          "2024-08-01T00:00:00",
          "2024-08-01T00:00:00",
          "2024-08-01T00:00:00",
          "2024-08-01T00:00:00",
          "2024-08-02T00:00:00",
          "2024-08-04T00:00:00",
          "2024-08-05T00:00:00",
          "2024-08-05T00:00:00",
          "2024-08-05T00:00:00",
          "2024-08-07T00:00:00",
          "2024-08-07T00:00:00",
          "2024-08-07T00:00:00",
          "2024-08-07T00:00:00",
          "2024-08-07T00:00:00",
          "2024-08-08T00:00:00",
          "2024-08-08T00:00:00",
          "2024-08-08T00:00:00",
          "2024-08-09T00:00:00",
          "2024-08-09T00:00:00",
          "2024-08-12T00:00:00",
          "2024-08-12T00:00:00",
          "2024-08-13T00:00:00",
          "2024-08-13T00:00:00",
          "2024-08-14T00:00:00",
          "2024-08-15T00:00:00",
          "2024-08-15T00:00:00",
          "2024-08-15T00:00:00",
          "2024-08-17T00:00:00",
          "2024-08-17T00:00:00",
          "2024-08-18T00:00:00",
          "2024-08-18T00:00:00",
          "2024-08-20T00:00:00",
          "2024-08-20T00:00:00",
          "2024-08-21T00:00:00",
          "2024-08-22T00:00:00",
          "2024-08-22T00:00:00",
          "2024-08-22T00:00:00",
          "2024-08-23T00:00:00",
          "2024-08-24T00:00:00",
          "2024-08-24T00:00:00",
          "2024-08-24T00:00:00",
          "2024-08-26T00:00:00",
          "2024-08-26T00:00:00",
          "2024-08-28T00:00:00",
          "2024-08-30T00:00:00",
          "2024-08-30T00:00:00",
          "2024-08-31T00:00:00",
          "2024-09-02T00:00:00",
          "2024-09-04T00:00:00",
          "2024-09-04T00:00:00",
          "2024-09-05T00:00:00",
          "2024-09-05T00:00:00",
          "2024-09-05T00:00:00",
          "2024-09-06T00:00:00",
          "2024-09-06T00:00:00",
          "2024-09-06T00:00:00",
          "2024-09-07T00:00:00",
          "2024-09-08T00:00:00",
          "2024-09-08T00:00:00",
          "2024-09-08T00:00:00",
          "2024-09-09T00:00:00",
          "2024-09-11T00:00:00",
          "2024-09-11T00:00:00",
          "2024-09-11T00:00:00",
          "2024-09-11T00:00:00",
          "2024-09-13T00:00:00",
          "2024-09-15T00:00:00",
          "2024-09-15T00:00:00",
          "2024-09-17T00:00:00",
          "2024-09-19T00:00:00",
          "2024-09-20T00:00:00",
          "2024-09-20T00:00:00",
          "2024-09-20T00:00:00",
          "2024-09-20T00:00:00",
          "2024-09-20T00:00:00",
          "2024-09-20T00:00:00",
          "2024-09-21T00:00:00",
          "2024-09-21T00:00:00",
          "2024-09-23T00:00:00",
          "2024-09-24T00:00:00",
          "2024-09-25T00:00:00",
          "2024-09-26T00:00:00",
          "2024-09-27T00:00:00",
          "2024-09-28T00:00:00",
          "2024-09-28T00:00:00",
          "2024-09-28T00:00:00",
          "2024-09-28T00:00:00",
          "2024-09-28T00:00:00",
          "2024-09-29T00:00:00",
          "2024-09-29T00:00:00",
          "2024-09-29T00:00:00",
          "2024-09-30T00:00:00",
          "2024-09-30T00:00:00",
          "2024-09-30T00:00:00",
          "2024-09-30T00:00:00",
          "2024-09-30T00:00:00",
          "2024-09-30T00:00:00",
          "2024-09-30T00:00:00",
          "2024-09-30T00:00:00",
          "2024-09-30T00:00:00",
          "2024-09-30T00:00:00",
          "2024-09-30T00:00:00",
          "2024-09-30T00:00:00",
          "2024-09-30T00:00:00",
          "2024-09-30T00:00:00",
          "2024-09-30T00:00:00",
          "2024-09-30T00:00:00",
          "2024-09-30T00:00:00",
          "2024-09-30T00:00:00",
          "2024-10-02T00:00:00",
          "2024-10-02T00:00:00",
          "2024-10-03T00:00:00",
          "2024-10-04T00:00:00",
          "2024-10-04T00:00:00",
          "2024-10-05T00:00:00",
          "2024-10-05T00:00:00",
          "2024-10-05T00:00:00",
          "2024-10-05T00:00:00",
          "2024-10-05T00:00:00",
          "2024-10-07T00:00:00",
          "2024-10-08T00:00:00",
          "2024-10-09T00:00:00",
          "2024-10-09T00:00:00",
          "2024-10-10T00:00:00",
          "2024-10-11T00:00:00",
          "2024-10-11T00:00:00",
          "2024-10-11T00:00:00",
          "2024-10-14T00:00:00",
          "2024-10-15T00:00:00",
          "2024-10-15T00:00:00",
          "2024-10-15T00:00:00",
          "2024-10-15T00:00:00",
          "2024-10-15T00:00:00",
          "2024-10-15T00:00:00",
          "2024-10-15T00:00:00",
          "2024-10-15T00:00:00",
          "2024-10-15T00:00:00",
          "2024-10-15T00:00:00",
          "2024-10-15T00:00:00",
          "2024-10-15T00:00:00",
          "2024-10-16T00:00:00",
          "2024-10-16T00:00:00",
          "2024-10-17T00:00:00",
          "2024-10-18T00:00:00",
          "2024-10-18T00:00:00",
          "2024-10-19T00:00:00",
          "2024-10-19T00:00:00",
          "2024-10-19T00:00:00",
          "2024-10-19T00:00:00",
          "2024-10-19T00:00:00",
          "2024-10-19T00:00:00",
          "2024-10-19T00:00:00",
          "2024-10-19T00:00:00",
          "2024-10-19T00:00:00",
          "2024-10-20T00:00:00",
          "2024-10-21T00:00:00",
          "2024-10-21T00:00:00",
          "2024-10-23T00:00:00",
          "2024-10-23T00:00:00",
          "2024-10-24T00:00:00",
          "2024-10-25T00:00:00",
          "2024-10-26T00:00:00",
          "2024-10-26T00:00:00",
          "2024-10-28T00:00:00",
          "2024-10-29T00:00:00",
          "2024-10-30T00:00:00",
          "2024-10-30T00:00:00",
          "2024-10-31T00:00:00",
          "2024-10-31T00:00:00",
          "2024-11-01T00:00:00",
          "2024-11-02T00:00:00",
          "2024-11-02T00:00:00",
          "2024-11-03T00:00:00",
          "2024-11-03T00:00:00",
          "2024-11-04T00:00:00",
          "2024-11-04T00:00:00",
          "2024-11-04T00:00:00",
          "2024-11-04T00:00:00",
          "2024-11-05T00:00:00",
          "2024-11-06T00:00:00",
          "2024-11-07T00:00:00",
          "2024-11-08T00:00:00",
          "2024-11-08T00:00:00",
          "2024-11-08T00:00:00",
          "2024-11-08T00:00:00",
          "2024-11-08T00:00:00",
          "2024-11-08T00:00:00",
          "2024-11-10T00:00:00",
          "2024-11-11T00:00:00",
          "2024-11-11T00:00:00",
          "2024-11-11T00:00:00",
          "2024-11-12T00:00:00",
          "2024-11-14T00:00:00",
          "2024-11-15T00:00:00",
          "2024-11-18T00:00:00",
          "2024-11-18T00:00:00",
          "2024-11-19T00:00:00",
          "2024-11-19T00:00:00",
          "2024-11-19T00:00:00",
          "2024-11-20T00:00:00",
          "2024-11-20T00:00:00",
          "2024-11-22T00:00:00",
          "2024-11-22T00:00:00",
          "2024-11-22T00:00:00",
          "2024-11-22T00:00:00",
          "2024-11-22T00:00:00",
          "2024-11-22T00:00:00",
          "2024-11-22T00:00:00",
          "2024-11-22T00:00:00",
          "2024-11-25T00:00:00",
          "2024-11-27T00:00:00",
          "2024-11-28T00:00:00",
          "2024-11-28T00:00:00",
          "2024-11-28T00:00:00",
          "2024-11-29T00:00:00",
          "2024-11-30T00:00:00",
          "2024-11-30T00:00:00",
          "2024-11-30T00:00:00",
          "2024-12-02T00:00:00",
          "2024-12-03T00:00:00",
          "2024-12-04T00:00:00",
          "2024-12-04T00:00:00",
          "2024-12-04T00:00:00",
          "2024-12-06T00:00:00",
          "2024-12-07T00:00:00",
          "2024-12-08T00:00:00",
          "2024-12-08T00:00:00",
          "2024-12-08T00:00:00",
          "2024-12-08T00:00:00",
          "2024-12-09T00:00:00",
          "2024-12-11T00:00:00",
          "2024-12-13T00:00:00",
          "2024-12-13T00:00:00",
          "2024-12-14T00:00:00",
          "2024-12-14T00:00:00",
          "2024-12-14T00:00:00",
          "2024-12-15T00:00:00",
          "2024-12-15T00:00:00",
          "2024-12-15T00:00:00",
          "2024-12-16T00:00:00",
          "2024-12-18T00:00:00",
          "2024-12-20T00:00:00",
          "2024-12-21T00:00:00",
          "2024-12-23T00:00:00",
          "2024-12-24T00:00:00",
          "2024-12-27T00:00:00",
          "2024-12-28T00:00:00",
          "2024-12-28T00:00:00",
          "2024-12-29T00:00:00",
          "2024-12-29T00:00:00",
          "2024-12-29T00:00:00",
          "2024-12-29T00:00:00",
          "2024-12-30T00:00:00",
          "2025-01-01T00:00:00",
          "2025-01-01T00:00:00",
          "2025-01-03T00:00:00",
          "2025-01-05T00:00:00",
          "2025-01-06T00:00:00",
          "2025-01-08T00:00:00",
          "2025-01-08T00:00:00",
          "2025-01-08T00:00:00",
          "2025-01-08T00:00:00",
          "2025-01-09T00:00:00",
          "2025-01-09T00:00:00",
          "2025-01-10T00:00:00",
          "2025-01-15T00:00:00",
          "2025-01-16T00:00:00",
          "2025-01-17T00:00:00",
          "2025-01-17T00:00:00",
          "2025-01-18T00:00:00",
          "2025-01-18T00:00:00",
          "2025-01-20T00:00:00",
          "2025-01-21T00:00:00",
          "2025-01-21T00:00:00",
          "2025-01-21T00:00:00",
          "2025-01-22T00:00:00",
          "2025-01-23T00:00:00",
          "2025-01-24T00:00:00",
          "2025-01-27T00:00:00",
          "2025-01-28T00:00:00",
          "2025-01-28T00:00:00",
          "2025-01-29T00:00:00",
          "2025-01-31T00:00:00",
          "2025-02-02T00:00:00",
          "2025-02-02T00:00:00",
          "2025-02-03T00:00:00",
          "2025-02-04T00:00:00",
          "2025-02-06T00:00:00",
          "2025-02-10T00:00:00",
          "2025-02-12T00:00:00",
          "2025-02-14T00:00:00",
          "2025-02-14T00:00:00",
          "2025-02-15T00:00:00",
          "2025-02-15T00:00:00",
          "2025-02-16T00:00:00",
          "2025-02-19T00:00:00",
          "2025-02-20T00:00:00",
          "2025-02-21T00:00:00",
          "2025-02-21T00:00:00",
          "2025-02-22T00:00:00",
          "2025-02-22T00:00:00",
          "2025-02-24T00:00:00",
          "2025-02-26T00:00:00",
          "2025-02-26T00:00:00",
          "2025-02-26T00:00:00",
          "2025-02-26T00:00:00",
          "2025-02-27T00:00:00",
          "2025-02-28T00:00:00",
          "2025-02-28T00:00:00",
          "2025-02-28T00:00:00",
          "2025-03-02T00:00:00",
          "2025-03-03T00:00:00",
          "2025-03-03T00:00:00",
          "2025-03-04T00:00:00",
          "2025-03-05T00:00:00",
          "2025-03-07T00:00:00",
          "2025-03-10T00:00:00",
          "2025-03-12T00:00:00",
          "2025-03-12T00:00:00",
          "2025-03-13T00:00:00",
          "2025-03-14T00:00:00",
          "2025-03-17T00:00:00",
          "2025-03-18T00:00:00",
          "2025-03-19T00:00:00",
          "2025-03-20T00:00:00",
          "2025-03-21T00:00:00",
          "2025-03-22T00:00:00",
          "2025-03-22T00:00:00",
          "2025-03-22T00:00:00",
          "2025-03-22T00:00:00",
          "2025-03-22T00:00:00",
          "2025-03-22T00:00:00",
          "2025-03-22T00:00:00",
          "2025-03-22T00:00:00",
          "2025-03-22T00:00:00",
          "2025-03-22T00:00:00",
          "2025-03-22T00:00:00",
          "2025-03-23T00:00:00",
          "2025-03-24T00:00:00",
          "2025-03-24T00:00:00",
          "2025-03-25T00:00:00",
          "2025-03-26T00:00:00",
          "2025-03-26T00:00:00",
          "2025-03-26T00:00:00",
          "2025-03-28T00:00:00",
          "2025-03-28T00:00:00",
          "2025-03-28T00:00:00",
          "2025-03-28T00:00:00",
          "2025-03-28T00:00:00",
          "2025-03-29T00:00:00",
          "2025-03-29T00:00:00",
          "2025-03-30T00:00:00",
          "2025-03-31T00:00:00",
          "2025-04-01T00:00:00",
          "2025-04-01T00:00:00",
          "2025-04-02T00:00:00",
          "2025-04-03T00:00:00",
          "2025-04-05T00:00:00",
          "2025-04-05T00:00:00",
          "2025-04-05T00:00:00",
          "2025-04-07T00:00:00",
          "2025-04-07T00:00:00",
          "2025-04-08T00:00:00",
          "2025-04-09T00:00:00",
          "2025-04-11T00:00:00",
          "2025-04-11T00:00:00",
          "2025-04-11T00:00:00",
          "2025-04-14T00:00:00",
          "2025-04-16T00:00:00",
          "2025-04-18T00:00:00",
          "2025-04-18T00:00:00",
          "2025-04-20T00:00:00",
          "2025-04-22T00:00:00",
          "2025-04-22T00:00:00",
          "2025-04-22T00:00:00",
          "2025-04-26T00:00:00",
          "2025-04-26T00:00:00"
         ],
         "xaxis": "x",
         "y": {
          "bdata": "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",
          "dtype": "f8"
         },
         "yaxis": "y"
        },
        {
         "customdata": [
          [
           "https://www.instagram.com/p/CmbJeNrK0SZ/"
          ],
          [
           "https://www.instagram.com/p/CnJhtXHssEy/"
          ],
          [
           "https://www.instagram.com/p/CoCMC0QMqCM/?img_index=1"
          ],
          [
           "https://www.instagram.com/p/CoMdC0qsNOj/?img_index=1"
          ],
          [
           "https://www.instagram.com/p/CoUKt8KsV0r/"
          ],
          [
           "https://www.instagram.com/p/CouAJJNsebX/?img_index=1"
          ],
          [
           "https://www.instagram.com/p/Co4O0cos6mH/?img_index=1"
          ],
          [
           "https://www.instagram.com/p/CpHqRISMSQ8/"
          ],
          [
           "https://www.instagram.com/p/CpPeYuzs0na/?img_index=1"
          ],
          [
           "https://www.instagram.com/p/CpR_hNHMVDb/?img_index=1"
          ],
          [
           "https://www.instagram.com/p/CpUiIxYsVSd/?img_index=1"
          ],
          [
           "https://www.instagram.com/p/Cpw2Sa7McCw/?img_index=1"
          ],
          [
           "https://www.instagram.com/p/Cqxv2kgtJ87/?img_index=1"
          ],
          [
           "https://www.instagram.com/p/CrAqMs2sefx/?img_index=1"
          ],
          [
           "https://www.instagram.com/p/CrIT0qoM-B4/?img_index=1"
          ],
          [
           "https://www.instagram.com/p/CrK0uNnM8mA/"
          ],
          [
           "https://www.instagram.com/p/CrNgxSAoZtU/"
          ],
          [
           "https://www.instagram.com/p/CrQAv7NsXcZ/"
          ],
          [
           "https://www.instagram.com/p/CrVwnbHt6Xm/"
          ],
          [
           "https://www.instagram.com/p/Crc40BIs4Pt/"
          ],
          [
           "https://www.instagram.com/p/CrfbEE-NcJe/"
          ],
          [
           "https://www.instagram.com/p/CrfwlQcs-x_/"
          ],
          [
           "https://www.instagram.com/p/CriHocAsJ68/"
          ],
          [
           "https://www.instagram.com/p/CrktoHPrczu/"
          ],
          [
           "https://www.instagram.com/p/CrnL-hUM7LX/?img_index=1"
          ],
          [
           "https://www.instagram.com/p/CryUqeCtdA-/"
          ],
          [
           "https://www.instagram.com/p/Cr-e7_uMSG8/"
          ],
          [
           "https://www.instagram.com/p/CsF_Ouoto-h/"
          ],
          [
           "https://www.instagram.com/p/CsQZU00M-3J/"
          ],
          [
           "https://www.instagram.com/p/Csa3YOVrcfg/"
          ],
          [
           "https://www.instagram.com/p/Cs5k8B7gaxR/"
          ],
          [
           "https://www.instagram.com/p/Ct02noUAJjH/"
          ],
          [
           "https://www.instagram.com/p/Ct_KuK3AKzm/"
          ],
          [
           "https://www.instagram.com/p/Cujvixar3Df/"
          ],
          [
           "https://www.instagram.com/p/CujvNCmr46k/"
          ],
          [
           "https://www.instagram.com/p/CujuZNhO1Ka/"
          ],
          [
           "https://www.instagram.com/p/Cu4DKwrMmzZ/"
          ],
          [
           "https://www.instagram.com/p/CvmIcDeMTJX/"
          ],
          [
           "https://www.instagram.com/p/CvrR42eM2cx/"
          ],
          [
           "https://www.instagram.com/p/CwchQ3OApp5/?img_index=1"
          ],
          [
           "https://www.instagram.com/p/Cwew0kEMz69/"
          ],
          [
           "https://www.instagram.com/p/Cweu4baMt9O/"
          ],
          [
           "https://www.instagram.com/p/CwhVQ1Bsm9m/"
          ],
          [
           "https://www.instagram.com/p/Cwj3rU4M7m1/"
          ],
          [
           "https://www.instagram.com/p/Cwxw3ltN76u/"
          ],
          [
           "https://www.instagram.com/p/Cw1v_aMMUYj/"
          ],
          [
           "https://www.instagram.com/p/CxSdzjEMbh-/"
          ],
          [
           "https://www.instagram.com/p/CxVuQFvMYR2/?img_index=1"
          ],
          [
           "https://www.instagram.com/p/Cxfxcv5sJ6k/?img_index=1"
          ],
          [
           "https://www.instagram.com/p/CxnUPIisKo3/?img_index=1"
          ],
          [
           "https://www.instagram.com/p/Cxr9oxRsonG/"
          ],
          [
           "https://www.instagram.com/p/CxvS642MDhn/?img_index=1"
          ],
          [
           "https://www.instagram.com/p/Cx445jjsoqE/"
          ],
          [
           "https://www.instagram.com/p/CyAsNx_sYHv/"
          ],
          [
           "https://www.instagram.com/p/CyNdmsrgpt_/?img_index=1"
          ],
          [
           "https://www.instagram.com/p/CydLSZ-s8-w/?img_index=1"
          ],
          [
           "https://www.instagram.com/p/CyfkraUgb5n/"
          ],
          [
           "https://www.instagram.com/p/CzVw3yjsOnh/?img_index=1"
          ],
          [
           "https://www.instagram.com/p/C0T5ZPhMOEM/?img_index=1"
          ],
          [
           "https://www.instagram.com/p/C089zjxs2xk/?img_index=1"
          ],
          [
           "https://www.instagram.com/p/C0_gW7-sZFC/?img_index=1"
          ],
          [
           "https://www.instagram.com/p/C1h0b47sRto/"
          ],
          [
           "https://www.instagram.com/p/C3DQBQWNTzj/?img_index=1"
          ],
          [
           "https://www.instagram.com/p/C375zTbNHpn/"
          ],
          [
           "https://www.instagram.com/p/C3-bOjLNaVj/"
          ],
          [
           "https://www.instagram.com/p/C4C1o2ZM-mf/"
          ],
          [
           "https://www.instagram.com/p/C4GRasBtrV4/?img_index=1"
          ],
          [
           "https://www.instagram.com/p/C4KuNh2MEjc/?img_index=1"
          ],
          [
           "https://www.instagram.com/p/C4NOiglsb90/"
          ],
          [
           "https://www.instagram.com/p/C4P3q7KM0DL/?img_index=1"
          ],
          [
           "https://www.instagram.com/p/C4Xl--FsGrq/?img_index=1"
          ],
          [
           "https://www.instagram.com/p/C4f8EIFNUVs/?img_index=1"
          ],
          [
           "https://www.instagram.com/p/C4psBAVMDtT/?img_index=1"
          ],
          [
           "https://www.instagram.com/p/C4sQnOBsiUn/"
          ],
          [
           "https://www.instagram.com/p/C5VUJJpgaa7/"
          ],
          [
           "https://www.instagram.com/p/C5WXXLAMDs-/"
          ],
          [
           "https://www.instagram.com/p/C5X0G_5gqjU/"
          ],
          [
           "https://www.instagram.com/p/C5akZhgACI6/"
          ],
          [
           "https://www.instagram.com/p/C5lKPNfsfpG/"
          ],
          [
           "https://www.instagram.com/p/C5qa9eMMmQD/"
          ],
          [
           "https://www.instagram.com/p/C5x3v7Rso2C/"
          ],
          [
           "https://www.instagram.com/p/C50NKOGgggE/?img_index=1"
          ],
          [
           "https://www.instagram.com/p/C52xvEAs6Fh/"
          ],
          [
           "https://www.instagram.com/p/C6GVXRKsOo6/"
          ],
          [
           "https://www.instagram.com/p/C6I4XY-Am71/"
          ],
          [
           "https://www.instagram.com/p/C6npmSRgPAP/"
          ],
          [
           "https://www.instagram.com/p/C7AARhAMumd/?img_index=1"
          ],
          [
           "https://www.instagram.com/p/C6_Vs74NRyn/"
          ],
          [
           "https://www.instagram.com/p/C7OTLCHMZlR/?img_index=1"
          ],
          [
           "https://www.instagram.com/p/C7W84RHN-Yr/?img_index=1"
          ],
          [
           "https://www.instagram.com/p/C7Y5_5ysfQv/"
          ],
          [
           "https://www.instagram.com/p/C7YmBRbsHEE/"
          ],
          [
           "https://www.instagram.com/p/C7gP28-sj7S/"
          ],
          [
           "https://www.instagram.com/p/C7mPa3Tt1Nw/"
          ],
          [
           "https://www.instagram.com/p/C7rXmJOtoAu/"
          ],
          [
           "https://www.instagram.com/p/C73dBe6MjQo/"
          ],
          [
           "https://www.instagram.com/p/C76Ki47MEWs/"
          ],
          [
           "https://www.instagram.com/p/C78510pgsGy/"
          ],
          [
           "https://www.instagram.com/p/C8y2F-GgetG/?img_index=1"
          ],
          [
           "https://www.instagram.com/p/C8_9y4tMD7X/"
          ],
          [
           "https://www.instagram.com/p/C9jqykruo6d/"
          ],
          [
           "https://www.instagram.com/p/C9mM-xksW6c/"
          ],
          [
           "https://www.instagram.com/p/C9oyHiuMsCu/"
          ],
          [
           "https://www.instagram.com/p/C9w69v3Mn0L/"
          ],
          [
           "https://www.instagram.com/p/C-FGq_Usgxc/"
          ],
          [
           "https://www.instagram.com/p/C-UvMhusSJl/"
          ],
          [
           "https://www.instagram.com/p/C-pblS2u7Gi/"
          ],
          [
           "https://www.instagram.com/p/C_NTR3yOnp1/"
          ],
          [
           "https://www.instagram.com/p/C_SrRbIslqR/"
          ],
          [
           "https://www.instagram.com/p/C_VKVZgMt21/"
          ],
          [
           "https://www.instagram.com/p/C_iGEh3s-oM/"
          ],
          [
           "https://www.instagram.com/p/C_u0o69tUeE/"
          ],
          [
           "https://www.instagram.com/p/DAIztezsATn/?img_index=1"
          ],
          [
           "https://www.instagram.com/p/DAl2GaxOKT7/"
          ],
          [
           "https://www.instagram.com/p/DBIx1oeOs6K/"
          ],
          [
           "https://www.instagram.com/p/DBQje4oOUuM/"
          ],
          [
           "https://www.instagram.com/p/DBTgHoWuQG6/?img_index=1"
          ],
          [
           "https://www.instagram.com/p/DBgV-B8MX6a/"
          ],
          [
           "https://www.instagram.com/p/DBgZ4KgsTfJ/?img_index=1"
          ],
          [
           "https://www.instagram.com/p/DBjlGKjMk6h/?img_index=1"
          ],
          [
           "https://www.instagram.com/p/DBmImBmoUub/?img_index=1"
          ],
          [
           "https://www.instagram.com/p/DCEYOKRo8Jq/"
          ],
          [
           "https://www.instagram.com/p/DCHelB7A7SN/"
          ],
          [
           "https://www.instagram.com/p/DCG2omco2il/"
          ],
          [
           "https://www.instagram.com/p/DCmqJcFoPrt/"
          ],
          [
           "https://www.instagram.com/p/DC4NhrWsq2z/"
          ],
          [
           "https://www.instagram.com/p/DErm5V4oarn/?img_index=1"
          ],
          [
           "https://www.instagram.com/p/DEukGO-sx6t/"
          ],
          [
           "https://www.instagram.com/p/DE7QdPnttp0/"
          ],
          [
           "https://www.instagram.com/p/DFYEe6FMHXj/"
          ],
          [
           "https://www.instagram.com/p/DFp0G8qsEKC/"
          ],
          [
           "https://www.instagram.com/p/DFznIbNs6QS/"
          ],
          [
           "https://www.instagram.com/p/DF76S1esY_K/"
          ],
          [
           "https://www.instagram.com/p/DF9xzjyzPlJ/"
          ],
          [
           "https://www.instagram.com/p/DGQ8DuEsFqo/"
          ],
          [
           "https://www.instagram.com/p/DGa1WE9MCkP/?img_index=1"
          ],
          [
           "https://www.instagram.com/p/DHDxRVPMX_a/?img_index=1"
          ],
          [
           "https://www.instagram.com/p/DHLsRjdIUkS/?img_index=1"
          ],
          [
           "https://www.instagram.com/p/DHLFCKYoYJL/"
          ],
          [
           "https://www.instagram.com/p/DHd3VCJoDlI/?img_index=1"
          ],
          [
           "https://www.instagram.com/p/DI03KDFsqy7/"
          ]
         ],
         "hovertemplate": "cafe=https://www.instagram.com/combi_coffee/<br>Date=%{x}<br>Ratio between Likes and Followers=%{y}<br>post_link=%{customdata[0]}<extra></extra>",
         "legendgroup": "https://www.instagram.com/combi_coffee/",
         "line": {
          "color": "#EF553B",
          "dash": "solid"
         },
         "marker": {
          "symbol": "circle"
         },
         "mode": "lines",
         "name": "https://www.instagram.com/combi_coffee/",
         "showlegend": true,
         "type": "scattergl",
         "x": [
          "2022-12-21T00:00:00",
          "2023-01-08T00:00:00",
          "2023-01-30T00:00:00",
          "2023-02-03T00:00:00",
          "2023-02-06T00:00:00",
          "2023-02-16T00:00:00",
          "2023-02-20T00:00:00",
          "2023-02-26T00:00:00",
          "2023-03-01T00:00:00",
          "2023-03-02T00:00:00",
          "2023-03-03T00:00:00",
          "2023-03-14T00:00:00",
          "2023-04-08T00:00:00",
          "2023-04-14T00:00:00",
          "2023-04-17T00:00:00",
          "2023-04-18T00:00:00",
          "2023-04-19T00:00:00",
          "2023-04-20T00:00:00",
          "2023-04-22T00:00:00",
          "2023-04-25T00:00:00",
          "2023-04-26T00:00:00",
          "2023-04-26T00:00:00",
          "2023-04-27T00:00:00",
          "2023-04-28T00:00:00",
          "2023-04-29T00:00:00",
          "2023-05-03T00:00:00",
          "2023-05-08T00:00:00",
          "2023-05-11T00:00:00",
          "2023-05-15T00:00:00",
          "2023-05-19T00:00:00",
          "2023-05-31T00:00:00",
          "2023-06-23T00:00:00",
          "2023-06-27T00:00:00",
          "2023-07-11T00:00:00",
          "2023-07-11T00:00:00",
          "2023-07-11T00:00:00",
          "2023-07-19T00:00:00",
          "2023-08-06T00:00:00",
          "2023-08-08T00:00:00",
          "2023-08-27T00:00:00",
          "2023-08-28T00:00:00",
          "2023-08-28T00:00:00",
          "2023-08-29T00:00:00",
          "2023-08-30T00:00:00",
          "2023-09-04T00:00:00",
          "2023-09-06T00:00:00",
          "2023-09-17T00:00:00",
          "2023-09-18T00:00:00",
          "2023-09-22T00:00:00",
          "2023-09-25T00:00:00",
          "2023-09-27T00:00:00",
          "2023-09-28T00:00:00",
          "2023-10-02T00:00:00",
          "2023-10-05T00:00:00",
          "2023-10-10T00:00:00",
          "2023-10-16T00:00:00",
          "2023-10-17T00:00:00",
          "2023-11-07T00:00:00",
          "2023-12-01T00:00:00",
          "2023-12-17T00:00:00",
          "2023-12-18T00:00:00",
          "2023-12-31T00:00:00",
          "2024-02-07T00:00:00",
          "2024-02-29T00:00:00",
          "2024-03-01T00:00:00",
          "2024-03-03T00:00:00",
          "2024-03-04T00:00:00",
          "2024-03-06T00:00:00",
          "2024-03-07T00:00:00",
          "2024-03-08T00:00:00",
          "2024-03-11T00:00:00",
          "2024-03-14T00:00:00",
          "2024-03-18T00:00:00",
          "2024-03-19T00:00:00",
          "2024-04-04T00:00:00",
          "2024-04-04T00:00:00",
          "2024-04-05T00:00:00",
          "2024-04-06T00:00:00",
          "2024-04-10T00:00:00",
          "2024-04-12T00:00:00",
          "2024-04-15T00:00:00",
          "2024-04-16T00:00:00",
          "2024-04-17T00:00:00",
          "2024-04-23T00:00:00",
          "2024-04-24T00:00:00",
          "2024-05-06T00:00:00",
          "2024-05-15T00:00:00",
          "2024-05-15T00:00:00",
          "2024-05-21T00:00:00",
          "2024-05-24T00:00:00",
          "2024-05-25T00:00:00",
          "2024-05-25T00:00:00",
          "2024-05-28T00:00:00",
          "2024-05-30T00:00:00",
          "2024-06-01T00:00:00",
          "2024-06-06T00:00:00",
          "2024-06-07T00:00:00",
          "2024-06-08T00:00:00",
          "2024-06-29T00:00:00",
          "2024-07-04T00:00:00",
          "2024-07-18T00:00:00",
          "2024-07-19T00:00:00",
          "2024-07-20T00:00:00",
          "2024-07-23T00:00:00",
          "2024-07-31T00:00:00",
          "2024-08-06T00:00:00",
          "2024-08-14T00:00:00",
          "2024-08-28T00:00:00",
          "2024-08-30T00:00:00",
          "2024-08-31T00:00:00",
          "2024-09-05T00:00:00",
          "2024-09-10T00:00:00",
          "2024-09-20T00:00:00",
          "2024-10-01T00:00:00",
          "2024-10-15T00:00:00",
          "2024-10-18T00:00:00",
          "2024-10-19T00:00:00",
          "2024-10-24T00:00:00",
          "2024-10-24T00:00:00",
          "2024-10-25T00:00:00",
          "2024-10-26T00:00:00",
          "2024-11-07T00:00:00",
          "2024-11-08T00:00:00",
          "2024-11-08T00:00:00",
          "2024-11-20T00:00:00",
          "2024-11-27T00:00:00",
          "2025-01-11T00:00:00",
          "2025-01-12T00:00:00",
          "2025-01-17T00:00:00",
          "2025-01-28T00:00:00",
          "2025-02-04T00:00:00",
          "2025-02-08T00:00:00",
          "2025-02-11T00:00:00",
          "2025-02-12T00:00:00",
          "2025-02-19T00:00:00",
          "2025-02-23T00:00:00",
          "2025-03-11T00:00:00",
          "2025-03-14T00:00:00",
          "2025-03-14T00:00:00",
          "2025-03-21T00:00:00",
          "2025-04-25T00:00:00"
         ],
         "xaxis": "x",
         "y": {
          "bdata": "JCc9O9ctaz/tjbf22rB4P2tquGPaEnk/OV8va+ANZT9ICSVP53VgP7qCLv7gq4Q/qJE69NgHej/XcnCzX4iFPxV9R1fQxW8/oLw/gtVTbD+tHzdA239oPwmbpJjnRHA/IuA+Fdbxez+gvD+C1VNsPym1OYfZpWk/x+UlvObXYD/VDseg0JR/P73JLCTi52M/FX1HV9DFfz/68K604Nx0PxV9R1fQxX8/QTQq3ePBYj9GwiYp5jlhP+2Nt/basHg/qJE69NgHaj+WoEbq0GNvP0E0Kt3jwWI/OV8va+ANZT9ICSVP53VwP8JXKXDkX3I/PKYtkeFJZD/H5SW85tdwP5agRurQY58/NhgxRd/RhT/bnMPs0gx+P/9+qwDjVIM/k3bzsF3fhj+wZjVm3LtnP3jNryHgPnU/3ePBEtRIjT9usbaJ206IPzGKNPncWWc/qJE69NgHWj8UmvJDXn2WP3jNryHgPoU/25zD7NIMjj+okTr02AdqP9hVxcbR0H4/a2q4Y9oSeT8dUkLJ03ltP5Av9Ypco4c/sGY1Zty7hz94za8h4D51P1mWb0ZgJoU/qJE69NgHaj//fqsA41RzP551QVzUF00/25zD7NIMnj+mSjzO18tqP4CiqpPj8oI/6P+6qtg4ij9ZecRZ0m5+P1zAwn/Tqn0/a2q4Y9oSeT+R4UkUJJ2SPxoLRKPSPW4/OV8va+ANZT83+4VYURqPPz7tK7fihWM/0J11QVzUhz8vQzbT2x14Px+ZQO/UtXw/CZukmOdEcD+6gi7+4Kt0P+W4vITX/Ho/zmF2aQYPoT8ptTmH2aVpP7qCLv7gq2Q/q9g4GtpDaT+tHzdA239oP47o9mRbZ4g/sq0zjN33dj//fqsA41RzP+2Nt/basHg/q9g4GtpDaT+D6ai55C5yPzGKNPncWYc/Q3soA+X9cT+dkuxIYs+DP2kjuj3Z1pk/AcapJuSQgj9OenauWzaIPxxv7bVhMYQ/Pu0rt+KFcz9zP7PV3cZ2P551QVzUF20/uoIu/uCrZD8HVKZy5ghxP+TVZ3FltIE/iHelBeemcD+9ySwk4udjP551QVzUF20/LPw3rdrhaD+PmkvuImGTPw13TFsiw5M/5bi8hNf8ej+edUFc1BddP4Uwp9/laoE/4yMT6J26pj8mi+ZNZiGBP1cyxjPRMo8/PKYtkeFJhD94za8h4D51P+KOaUtkeII/x+UlvObXcD+50Nl0GbKZP1cyxjPRMn8/co1eTBbNmz8i4D4V1vF7P+pGudDZdHk/F8RFfdEBbz8VfUdX0MVvP60fN0Dbf2g/+vCutODchD+r2Dga2kN5Pz7tK7fihXM/lhacm0KYoz8i4D4V1vFrP8flJbzm14A/QTQq3ePBcj/o/7qq2Dh6PwQNqEzlzHE/L0M209sdaD+bLkM209t9P7BmNWbcu3c/2FXFxtHQjj+yrTOM3fdmP8flJbzm13A/nnVBXNQXbT+IWvoYWe+JP/RismjeZHY/",
          "dtype": "f8"
         },
         "yaxis": "y"
        },
        {
         "customdata": [
          [
           "https://www.instagram.com/p/CmjQJHksQBs/?img_index=1"
          ],
          [
           "https://www.instagram.com/p/CnbqX3AsxZO/?img_index=1"
          ],
          [
           "https://www.instagram.com/p/Cn6_WQesqsL/?img_index=1"
          ],
          [
           "https://www.instagram.com/p/CoNjJs8Pd17/"
          ],
          [
           "https://www.instagram.com/p/CoX7I0DMhDb/?img_index=1"
          ],
          [
           "https://www.instagram.com/p/Cocs2SPvLmb/"
          ],
          [
           "https://www.instagram.com/p/CohZMBNpUbi/"
          ],
          [
           "https://www.instagram.com/p/CokGO5uMaSr/?img_index=1"
          ],
          [
           "https://www.instagram.com/p/CosEDHMMcms/?img_index=1"
          ],
          [
           "https://www.instagram.com/p/CouB3SysFix/?img_index=1"
          ],
          [
           "https://www.instagram.com/p/CowocpOvGOx/"
          ],
          [
           "https://www.instagram.com/p/Co0knSDsku2/?img_index=1"
          ],
          [
           "https://www.instagram.com/p/Co7BsAaspqM/?img_index=1"
          ],
          [
           "https://www.instagram.com/p/CpCnPPos_9k/?img_index=1"
          ],
          [
           "https://www.instagram.com/p/CpGaQ--vx2B/"
          ],
          [
           "https://www.instagram.com/p/CpShZmas2Qg/"
          ],
          [
           "https://www.instagram.com/p/CqKnWjvsp-9/?img_index=1"
          ],
          [
           "https://www.instagram.com/p/CqYWxygsKq0/?img_index=1"
          ],
          [
           "https://www.instagram.com/p/CqsGKqjNzgp/"
          ],
          [
           "https://www.instagram.com/p/Cq3mz_sO3JZ/"
          ],
          [
           "https://www.instagram.com/p/Cq49gHsMq5N/"
          ],
          [
           "https://www.instagram.com/p/Cq-BRTzMHyY/"
          ],
          [
           "https://www.instagram.com/p/CrONWaPsQ6D/"
          ],
          [
           "https://www.instagram.com/p/CrogqyissY9/"
          ],
          [
           "https://www.instagram.com/p/CrsWvx0M4O8/?img_index=1"
          ],
          [
           "https://www.instagram.com/p/Cr2nz_ysmYS/"
          ],
          [
           "https://www.instagram.com/p/CsJCxRAN1av/"
          ],
          [
           "https://www.instagram.com/p/CsJpOoBu9Kb/"
          ],
          [
           "https://www.instagram.com/p/CsLQzrnpzG2/"
          ],
          [
           "https://www.instagram.com/p/CsOH4K_MPlD/"
          ],
          [
           "https://www.instagram.com/p/CscA03ospxI/?img_index=1"
          ],
          [
           "https://www.instagram.com/p/CsbJqcMMJS7/?img_index=1"
          ],
          [
           "https://www.instagram.com/p/Csy_ZBGtJsc/"
          ],
          [
           "https://www.instagram.com/p/Cs-vffMMHK0/"
          ],
          [
           "https://www.instagram.com/p/Ctd-OmtuGCG/"
          ],
          [
           "https://www.instagram.com/p/CuCsiFZMu5O/?img_index=1"
          ],
          [
           "https://www.instagram.com/p/CuE3KNssyrU/"
          ],
          [
           "https://www.instagram.com/p/CuIYQMnsviI/"
          ],
          [
           "https://www.instagram.com/p/CuW1CrXsX3i/?img_index=1"
          ],
          [
           "https://www.instagram.com/p/CuZOrtvs-XV/?img_index=1"
          ],
          [
           "https://www.instagram.com/p/CublqWXspor/"
          ],
          [
           "https://www.instagram.com/p/CueqDmUMmpQ/?img_index=1"
          ],
          [
           "https://www.instagram.com/p/CutRjKssYx6/?img_index=1"
          ],
          [
           "https://www.instagram.com/p/CuwK6EzsR9C/?img_index=1"
          ],
          [
           "https://www.instagram.com/p/CvRk6AisNaF/?img_index=1"
          ],
          [
           "https://www.instagram.com/p/CvXFjrjN0zU/"
          ],
          [
           "https://www.instagram.com/p/CwACyv6MG-d/?img_index=1"
          ],
          [
           "https://www.instagram.com/p/CxgKgxssubP/?img_index=1"
          ],
          [
           "https://www.instagram.com/p/CyvcMrGMlHB/"
          ],
          [
           "https://www.instagram.com/p/CyyGxG_sydg/"
          ],
          [
           "https://www.instagram.com/p/Czt4YzNMufk/"
          ],
          [
           "https://www.instagram.com/p/Cz9Nodys-Wi/?img_index=1"
          ],
          [
           "https://www.instagram.com/p/C0gtjsnswbZ/"
          ],
          [
           "https://www.instagram.com/p/C039kmsMx6a/"
          ],
          [
           "https://www.instagram.com/p/C1htZJ1s9Se/?img_index=1"
          ],
          [
           "https://www.instagram.com/p/C3A0Iw1sGV-/"
          ],
          [
           "https://www.instagram.com/p/C3F9yoOsrDH/"
          ],
          [
           "https://www.instagram.com/p/C3pjsLpsLff/"
          ],
          [
           "https://www.instagram.com/p/C3xKpCIsgvA/"
          ],
          [
           "https://www.instagram.com/p/C4VakviMC0f/?img_index=1"
          ],
          [
           "https://www.instagram.com/p/C4lahzZMUS6/"
          ],
          [
           "https://www.instagram.com/p/C5Y7YZsMYLa/?img_index=1"
          ],
          [
           "https://www.instagram.com/p/C5gPxkAMnu8/"
          ],
          [
           "https://www.instagram.com/p/C5oRYb8M0ja/"
          ],
          [
           "https://www.instagram.com/p/C56NyUdsyDL/"
          ],
          [
           "https://www.instagram.com/p/C7wdQtrs7nM/"
          ],
          [
           "https://www.instagram.com/p/C8C5mnuM7kx/"
          ],
          [
           "https://www.instagram.com/p/C8Pxg9NskfO/"
          ],
          [
           "https://www.instagram.com/p/C8UIAFZsIJM/"
          ],
          [
           "https://www.instagram.com/p/C8pAKEbsZz-/"
          ],
          [
           "https://www.instagram.com/p/C8t847iswym/"
          ],
          [
           "https://www.instagram.com/p/C9FIb07sGTx/"
          ],
          [
           "https://www.instagram.com/p/C-gA4dRM7RB/"
          ],
          [
           "https://www.instagram.com/p/C_0xEE3MVNT/?img_index=1"
          ],
          [
           "https://www.instagram.com/p/DA_o1KpsvzH/"
          ],
          [
           "https://www.instagram.com/p/DC12C1-s1MX/"
          ],
          [
           "https://www.instagram.com/p/DDiGlS8sy37/"
          ],
          [
           "https://www.instagram.com/p/DDh1alFsh7C/"
          ],
          [
           "https://www.instagram.com/p/DDkhGBgMm3p/"
          ],
          [
           "https://www.instagram.com/p/DEHcIhhNQXD/?img_index=1"
          ],
          [
           "https://www.instagram.com/p/DEuRy_st5gK/"
          ],
          [
           "https://www.instagram.com/p/DFAmONuNwGP/?img_index=1"
          ],
          [
           "https://www.instagram.com/p/DFLDb76tDO9/?img_index=1"
          ],
          [
           "https://www.instagram.com/p/DFPzgx1Iys8/?img_index=1"
          ],
          [
           "https://www.instagram.com/p/DGDfky8NMTh/"
          ],
          [
           "https://www.instagram.com/p/DGTOMxENJSy/"
          ],
          [
           "https://www.instagram.com/p/DGTjpmKt9jE/"
          ],
          [
           "https://www.instagram.com/p/DGVQvz9N7Ur/"
          ],
          [
           "https://www.instagram.com/p/DGaZ35Ctmnf/"
          ],
          [
           "https://www.instagram.com/p/DGf5HG4NXJ0/"
          ],
          [
           "https://www.instagram.com/p/DHGIsfNtOs6/"
          ],
          [
           "https://www.instagram.com/p/DHLql8VtRxU/"
          ],
          [
           "https://www.instagram.com/p/DHl7n3NNWYk/"
          ],
          [
           "https://www.instagram.com/p/DIEFqYGt-eG/"
          ],
          [
           "https://www.instagram.com/p/DIbPq4ItZuj/"
          ]
         ],
         "hovertemplate": "cafe=https://www.instagram.com/fabricacoffeeroasters/<br>Date=%{x}<br>Ratio between Likes and Followers=%{y}<br>post_link=%{customdata[0]}<extra></extra>",
         "legendgroup": "https://www.instagram.com/fabricacoffeeroasters/",
         "line": {
          "color": "#00cc96",
          "dash": "solid"
         },
         "marker": {
          "symbol": "circle"
         },
         "mode": "lines",
         "name": "https://www.instagram.com/fabricacoffeeroasters/",
         "showlegend": true,
         "type": "scattergl",
         "x": [
          "2022-12-24T00:00:00",
          "2023-01-15T00:00:00",
          "2023-01-27T00:00:00",
          "2023-02-03T00:00:00",
          "2023-02-07T00:00:00",
          "2023-02-09T00:00:00",
          "2023-02-11T00:00:00",
          "2023-02-12T00:00:00",
          "2023-02-15T00:00:00",
          "2023-02-16T00:00:00",
          "2023-02-17T00:00:00",
          "2023-02-18T00:00:00",
          "2023-02-21T00:00:00",
          "2023-02-24T00:00:00",
          "2023-02-25T00:00:00",
          "2023-03-02T00:00:00",
          "2023-03-24T00:00:00",
          "2023-03-29T00:00:00",
          "2023-04-06T00:00:00",
          "2023-04-10T00:00:00",
          "2023-04-11T00:00:00",
          "2023-04-13T00:00:00",
          "2023-04-19T00:00:00",
          "2023-04-29T00:00:00",
          "2023-05-01T00:00:00",
          "2023-05-05T00:00:00",
          "2023-05-12T00:00:00",
          "2023-05-12T00:00:00",
          "2023-05-13T00:00:00",
          "2023-05-14T00:00:00",
          "2023-05-19T00:00:00",
          "2023-05-19T00:00:00",
          "2023-05-28T00:00:00",
          "2023-06-02T00:00:00",
          "2023-06-14T00:00:00",
          "2023-06-28T00:00:00",
          "2023-06-29T00:00:00",
          "2023-06-30T00:00:00",
          "2023-07-06T00:00:00",
          "2023-07-07T00:00:00",
          "2023-07-08T00:00:00",
          "2023-07-09T00:00:00",
          "2023-07-15T00:00:00",
          "2023-07-16T00:00:00",
          "2023-07-29T00:00:00",
          "2023-07-31T00:00:00",
          "2023-08-16T00:00:00",
          "2023-09-22T00:00:00",
          "2023-10-23T00:00:00",
          "2023-10-24T00:00:00",
          "2023-11-16T00:00:00",
          "2023-11-22T00:00:00",
          "2023-12-06T00:00:00",
          "2023-12-15T00:00:00",
          "2023-12-31T00:00:00",
          "2024-02-06T00:00:00",
          "2024-02-08T00:00:00",
          "2024-02-22T00:00:00",
          "2024-02-25T00:00:00",
          "2024-03-10T00:00:00",
          "2024-03-16T00:00:00",
          "2024-04-05T00:00:00",
          "2024-04-08T00:00:00",
          "2024-04-11T00:00:00",
          "2024-04-18T00:00:00",
          "2024-06-03T00:00:00",
          "2024-06-10T00:00:00",
          "2024-06-15T00:00:00",
          "2024-06-17T00:00:00",
          "2024-06-25T00:00:00",
          "2024-06-27T00:00:00",
          "2024-07-06T00:00:00",
          "2024-08-10T00:00:00",
          "2024-09-12T00:00:00",
          "2024-10-11T00:00:00",
          "2024-11-26T00:00:00",
          "2024-12-13T00:00:00",
          "2024-12-13T00:00:00",
          "2024-12-14T00:00:00",
          "2024-12-28T00:00:00",
          "2025-01-12T00:00:00",
          "2025-01-19T00:00:00",
          "2025-01-23T00:00:00",
          "2025-01-25T00:00:00",
          "2025-02-14T00:00:00",
          "2025-02-20T00:00:00",
          "2025-02-20T00:00:00",
          "2025-02-21T00:00:00",
          "2025-02-23T00:00:00",
          "2025-02-25T00:00:00",
          "2025-03-12T00:00:00",
          "2025-03-14T00:00:00",
          "2025-03-24T00:00:00",
          "2025-04-05T00:00:00",
          "2025-04-14T00:00:00"
         ],
         "xaxis": "x",
         "y": {
          "bdata": "jPR2tkoeaT/Cif1SRguMP4v6XhbLHG8/IMltbZNEYj+M9Ha2Sh5pP0V/J6vljXE/H8xhndNDdT9EhBP7pYxmP0KM83qmim4/H89VzRNDmD+N8YKGCh92P0v4Z/Ja3Zw/1WLiUW+wWT/XW/7hLrJyP43whnZKH3U/1GbSkW+vfT/oPMNgWFWIPw7smC5qoIA/RIEfy2WNcz+ypUSk3GiDP7GrLARdZ2k/RIQT+6WMdj+xqTTk3Gd3P1dc/OkOMoM/6TXf8BdXgT8e0U3tk0JqPy+wGkw95q0/aDzFWHjVdz9oO8lIuNVmP2c+vXj41Ik/r7EUZN1lfz8d1EEd1EGNP0OFDwtmjHc/Vl34+c4xhD8d1EEd1EF9P1Ze9AmPMYU//BC8D8H7cD8e00UNFEJ8P8KK+WIGC40/1mDqMe+wdz9DhQ8LZox3P1Zf8BlPMYY/+hmYn4H5eT8fzlm9U0N3P9RnzqEvr34/sag41Bxohj/qNOPgV1eAPx7RTe2TQno/i/peFsscfz/5HYjfgfh9P5/LY5Xzw4Q/1WHmQa+weD+O7ZJGCiByP/sStC9B+4I/RIEfy2WNgz9Ci/dq5op9Px/MYZ3TQ3U/CvtcHqucjz9nQbGoONR8P2k41Rh41oM/+RuQvwH5ez8gyW1tk0RyP7GpNOTcZ3c/1l7yEW+xdT9nP7mIuNRqP9Zg6jHvsGc/+xOwPwH7Yz/XXPrx7rFzP4z1csYKHno/1GbSkW+vbT/WXfYBr7F0P0OFDwtmjHc/juyWNkogcT+N8IZ2Sh91P+k13/AXV4E/1WLiUW+weT9CivtaJotcP/wRuB+B+2E/aDrNOPjVdT8N8oCO6p6GP9dc+vHusWM/xIMV88UMhj+ypzzEXGh1P0KL92rmin0/1GbSkW+vTT/VZNpx7697P/sUrE/B+oQ/sK0kJN1mez9oPcFoONVoP2dBsag41Gw/sqVEpNxoUz9DhgsbJoxoP2k50Sg41mQ/1WTace+vaz8e0U3tk0JaPw==",
          "dtype": "f8"
         },
         "yaxis": "y"
        },
        {
         "customdata": [
          [
           "https://www.instagram.com/p/CmqtESuKpDF/"
          ],
          [
           "https://www.instagram.com/p/Cm3y2JUIPEH/"
          ],
          [
           "https://www.instagram.com/p/Cm6DBvZMpKv/"
          ],
          [
           "https://www.instagram.com/p/CnB3C5oM32f/?img_index=1"
          ],
          [
           "https://www.instagram.com/p/CnEWICKrs3j/"
          ],
          [
           "https://www.instagram.com/p/CnMtLshsVno/"
          ],
          [
           "https://www.instagram.com/p/CnPBrI4sVMs/"
          ],
          [
           "https://www.instagram.com/p/CnWemrhvSdE/?img_index=1"
          ],
          [
           "https://www.instagram.com/p/CnWQ1vmr5Uj/"
          ],
          [
           "https://www.instagram.com/p/CnczvrasWoi/"
          ],
          [
           "https://www.instagram.com/p/CneUKBJsb7w/"
          ],
          [
           "https://www.instagram.com/p/CngkEQ0qMKy/"
          ],
          [
           "https://www.instagram.com/p/Cnl7aB2Mv0F/?img_index=1"
          ],
          [
           "https://www.instagram.com/p/CnrH_HDJQal/"
          ],
          [
           "https://www.instagram.com/p/CntnzXAuDse/"
          ],
          [
           "https://www.instagram.com/p/CnzJFRds81T/?img_index=1"
          ],
          [
           "https://www.instagram.com/p/Cn1TDcSsOzW/"
          ],
          [
           "https://www.instagram.com/p/Cn6ooosqb4X/"
          ],
          [
           "https://www.instagram.com/p/Cn_n3K0K3Nv/"
          ],
          [
           "https://www.instagram.com/p/CoCOKHTMXhL/"
          ],
          [
           "https://www.instagram.com/p/CoJwxSIL9HK/"
          ],
          [
           "https://www.instagram.com/p/CoMcd7sq8ER/?img_index=1"
          ],
          [
           "https://www.instagram.com/p/CoSZi_qKTMs/"
          ],
          [
           "https://www.instagram.com/p/CoUU8-CMA8R/"
          ],
          [
           "https://www.instagram.com/p/CoXOgx8sP--/"
          ],
          [
           "https://www.instagram.com/p/CojkLA_ICNN/"
          ],
          [
           "https://www.instagram.com/p/Com4URcsQdM/"
          ],
          [
           "https://www.instagram.com/p/CouA1dIsCot/"
          ],
          [
           "https://www.instagram.com/p/CownVmnKsS5/"
          ],
          [
           "https://www.instagram.com/p/Co1zai_Nl03/"
          ],
          [
           "https://www.instagram.com/p/Co4UKZJMCR7/"
          ],
          [
           "https://www.instagram.com/p/Co65fcZsbkq/?img_index=1"
          ],
          [
           "https://www.instagram.com/p/Co9QWoqs0GK/"
          ],
          [
           "https://www.instagram.com/p/CpCuYDUMBKA/"
          ],
          [
           "https://www.instagram.com/p/CpH1AryoWOi/"
          ],
          [
           "https://www.instagram.com/p/CpKrLgLsqIk/?img_index=1"
          ],
          [
           "https://www.instagram.com/p/CpNfegcsZI2/"
          ],
          [
           "https://www.instagram.com/p/CpSCE1yjXiD/"
          ],
          [
           "https://www.instagram.com/p/CpUvajzshNc/"
          ],
          [
           "https://www.instagram.com/p/CpdjccSBbGc/"
          ],
          [
           "https://www.instagram.com/p/Cphxyvas_W4/?img_index=1"
          ],
          [
           "https://www.instagram.com/p/CpngclrqiXG/"
          ],
          [
           "https://www.instagram.com/p/Cpr7kgpqX_q/?img_index=1"
          ],
          [
           "https://www.instagram.com/p/CpvF8qfMPSz/"
          ],
          [
           "https://www.instagram.com/p/Cpzil1msHWf/"
          ],
          [
           "https://www.instagram.com/p/Cp2nqWTsbD4/"
          ],
          [
           "https://www.instagram.com/p/Cp7b0Zht5DY/"
          ],
          [
           "https://www.instagram.com/p/CqDJaRFM9_p/?img_index=1"
          ],
          [
           "https://www.instagram.com/p/CqIwsyMKJGv/"
          ],
          [
           "https://www.instagram.com/p/CqIRdMOsdUW/?img_index=1"
          ],
          [
           "https://www.instagram.com/p/CqPxB3YKdse/"
          ],
          [
           "https://www.instagram.com/p/CqSZKagoSWZ/"
          ],
          [
           "https://www.instagram.com/p/CqU6hlwKmUq/"
          ],
          [
           "https://www.instagram.com/p/Cqc6jFLMoAL/?img_index=1"
          ],
          [
           "https://www.instagram.com/p/Cqhyi1BqPaY/"
          ],
          [
           "https://www.instagram.com/p/CqlEG2mMqge/"
          ],
          [
           "https://www.instagram.com/p/CqqX_xKMqvC/"
          ],
          [
           "https://www.instagram.com/p/CqsaZUisheY/"
          ],
          [
           "https://www.instagram.com/p/Cq3OhUAMm2M/"
          ],
          [
           "https://www.instagram.com/p/Cq7fvmVsvML/"
          ],
          [
           "https://www.instagram.com/p/CrApCx5sbb_/"
          ],
          [
           "https://www.instagram.com/p/CrGDcvRoqpQ/"
          ],
          [
           "https://www.instagram.com/p/CrNn7_lst9q/"
          ],
          [
           "https://www.instagram.com/p/CrSqboPMMAI/"
          ],
          [
           "https://www.instagram.com/p/CrbAc3ZM5Wf/"
          ],
          [
           "https://www.instagram.com/p/CrdEOOsqZMn/"
          ],
          [
           "https://www.instagram.com/p/CrfojIAs7Ya/"
          ],
          [
           "https://www.instagram.com/p/CrgTStxs9cC/"
          ],
          [
           "https://www.instagram.com/p/CrnhsTLIbnT/"
          ],
          [
           "https://www.instagram.com/p/Crs4HwpMrKv/"
          ],
          [
           "https://www.instagram.com/p/Cr0TSEeMEuO/"
          ],
          [
           "https://www.instagram.com/p/Cr2uhEBsrdJ/"
          ],
          [
           "https://www.instagram.com/p/Cr5ViemNDPJ/"
          ],
          [
           "https://www.instagram.com/p/Cr7wF5XIE_M/?img_index=1"
          ],
          [
           "https://www.instagram.com/p/Cr-fHn5IgKO/"
          ],
          [
           "https://www.instagram.com/p/CsER_DSo8fi/"
          ],
          [
           "https://www.instagram.com/p/CsGNhjNPFZh/"
          ],
          [
           "https://www.instagram.com/p/CsIreTsPbFf/"
          ],
          [
           "https://www.instagram.com/p/CsOJnjuNGnV/"
          ],
          [
           "https://www.instagram.com/p/CsQ6kFcMjzk/?img_index=1"
          ],
          [
           "https://www.instagram.com/p/CsTmNWis2Fb/?img_index=1"
          ],
          [
           "https://www.instagram.com/p/CsawuNALIfl/"
          ],
          [
           "https://www.instagram.com/p/CsgMKR9KQJf/?img_index=1"
          ],
          [
           "https://www.instagram.com/p/CsjBA5KsxPG/"
          ],
          [
           "https://www.instagram.com/p/CslGKbkM8SM/?img_index=1"
          ],
          [
           "https://www.instagram.com/p/CsnsO__M_tw/"
          ],
          [
           "https://www.instagram.com/p/CsyMxE6uC-2/"
          ],
          [
           "https://www.instagram.com/p/Cs0qwmrJ_Xg/"
          ],
          [
           "https://www.instagram.com/p/Cs3MInxpWg7/"
          ],
          [
           "https://www.instagram.com/p/Cs65B-eoe66/"
          ],
          [
           "https://www.instagram.com/p/Cs-3BOSIz3Z/"
          ],
          [
           "https://www.instagram.com/p/CtGqXcoM4cl/?img_index=1"
          ],
          [
           "https://www.instagram.com/p/CtJd1Xosvb4/"
          ],
          [
           "https://www.instagram.com/p/CtMIRYMs_pN/"
          ],
          [
           "https://www.instagram.com/p/CtXNvC3KiQP/"
          ],
          [
           "https://www.instagram.com/p/CtYq5nVMQCV/"
          ],
          [
           "https://www.instagram.com/p/CtbIYxzIchF/"
          ],
          [
           "https://www.instagram.com/p/CtgVZr6orEy/?img_index=1"
          ],
          [
           "https://www.instagram.com/p/CttQ6rwsTS7/"
          ],
          [
           "https://www.instagram.com/p/Ctv1jNRKcCZ/"
          ],
          [
           "https://www.instagram.com/p/CtywjWNsD3C/"
          ],
          [
           "https://www.instagram.com/p/Ct1Ng0GsriD/"
          ],
          [
           "https://www.instagram.com/p/CuCWJOdr3oK/"
          ],
          [
           "https://www.instagram.com/p/CuEntMdsZ8y/"
          ],
          [
           "https://www.instagram.com/p/CuJfJNjKQm-/"
          ],
          [
           "https://www.instagram.com/p/CuOlvNxNjVn/"
          ],
          [
           "https://www.instagram.com/p/CuRRR_UM_Ah/"
          ],
          [
           "https://www.instagram.com/p/CuTu6YTLCwa/"
          ],
          [
           "https://www.instagram.com/p/CuWiTAysg_S/"
          ],
          [
           "https://www.instagram.com/p/CueF8SAsvaY/"
          ],
          [
           "https://www.instagram.com/p/Cug_7-Nsbkz/"
          ],
          [
           "https://www.instagram.com/p/CuolH3hsxpt/"
          ],
          [
           "https://www.instagram.com/p/Cuq5i69IdJg/"
          ],
          [
           "https://www.instagram.com/p/Cuyuz63sYV7/"
          ],
          [
           "https://www.instagram.com/p/Cu9x01QrhJa/"
          ],
          [
           "https://www.instagram.com/p/Cu9S6gqsnSB/?img_index=1"
          ],
          [
           "https://www.instagram.com/p/CvDXJKwIo08/"
          ],
          [
           "https://www.instagram.com/p/CvB_zkbRFgb/"
          ],
          [
           "https://www.instagram.com/p/CvH80BtsjEC/"
          ],
          [
           "https://www.instagram.com/p/CvHHsQiv8ON/"
          ],
          [
           "https://www.instagram.com/p/CvKjILvsED5/?img_index=1"
          ],
          [
           "https://www.instagram.com/p/CvNEVsJssaX/?img_index=1"
          ],
          [
           "https://www.instagram.com/p/CvPDZF4sATQ/"
          ],
          [
           "https://www.instagram.com/p/CvR2FsHK5No/"
          ],
          [
           "https://www.instagram.com/p/CvVRzVPvV5U/"
          ],
          [
           "https://www.instagram.com/p/CvcLkJfM2hx/"
          ],
          [
           "https://www.instagram.com/p/CvcQEXkof8E/"
          ],
          [
           "https://www.instagram.com/p/CvhIgMaMDTw/"
          ],
          [
           "https://www.instagram.com/p/CvmQJ9jtpsc/"
          ],
          [
           "https://www.instagram.com/p/CvozikmMveC/"
          ],
          [
           "https://www.instagram.com/p/CvuKxgaoiak/"
          ],
          [
           "https://www.instagram.com/p/CvzRBzWIluV/"
          ],
          [
           "https://www.instagram.com/p/Cv4QQcOqI1m/"
          ],
          [
           "https://www.instagram.com/p/Cv6nVzGpB9k/?img_index=1"
          ],
          [
           "https://www.instagram.com/p/Cv9ZzjJojq3/"
          ],
          [
           "https://www.instagram.com/p/CwGETLMrY_w/?img_index=1"
          ],
          [
           "https://www.instagram.com/p/CwH3RC0M9HE/"
          ],
          [
           "https://www.instagram.com/p/CwN-wkto6U5/"
          ],
          [
           "https://www.instagram.com/p/CwPlr35IDCM/"
          ],
          [
           "https://www.instagram.com/p/CwR80sBIs7y/"
          ],
          [
           "https://www.instagram.com/p/CwUaqWfoWC0/"
          ],
          [
           "https://www.instagram.com/p/CwXJzo9spON/"
          ],
          [
           "https://www.instagram.com/p/Cwe_D86s2tS/"
          ],
          [
           "https://www.instagram.com/p/Cwhc_DYo3TQ/"
          ],
          [
           "https://www.instagram.com/p/Cwm2_imsH9g/"
          ],
          [
           "https://www.instagram.com/p/CwpTdF6sWaV/"
          ],
          [
           "https://www.instagram.com/p/CwuU-IvsPhS/"
          ],
          [
           "https://www.instagram.com/p/Cww9Ks4IKgC/?img_index=1"
          ],
          [
           "https://www.instagram.com/p/Cwzxkw_skGm/"
          ],
          [
           "https://www.instagram.com/p/Cw4d5hco94f/"
          ],
          [
           "https://www.instagram.com/p/Cw9xxP5IHVS/"
          ],
          [
           "https://www.instagram.com/p/CxDMmfwMxQh/"
          ],
          [
           "https://www.instagram.com/p/CxIvvjiMfJ5/"
          ],
          [
           "https://www.instagram.com/p/CxKwbBwM42e/"
          ],
          [
           "https://www.instagram.com/p/CxNV9Djs3ho/"
          ],
          [
           "https://www.instagram.com/p/CxSYIyPJaOV/"
          ],
          [
           "https://www.instagram.com/p/CxVHspnswDw/"
          ],
          [
           "https://www.instagram.com/p/CxXlz9ussK8/"
          ],
          [
           "https://www.instagram.com/p/CxaKTebskg3/"
          ],
          [
           "https://www.instagram.com/p/Cxc7upXMN_l/"
          ],
          [
           "https://www.instagram.com/p/CxkZnFDivMG/"
          ],
          [
           "https://www.instagram.com/p/CxnDL76s9Mb/"
          ],
          [
           "https://www.instagram.com/p/Cxpk0dms8O7/"
          ],
          [
           "https://www.instagram.com/p/CxxNoHtM5pF/?img_index=1"
          ],
          [
           "https://www.instagram.com/p/Cx7o0tTMBxm/"
          ],
          [
           "https://www.instagram.com/p/Cx-EdINMvU8/"
          ],
          [
           "https://www.instagram.com/p/CyDWZ_iI-3d/?img_index=1"
          ],
          [
           "https://www.instagram.com/p/CyLLQdKIp22/"
          ],
          [
           "https://www.instagram.com/p/CyNi4-gp9va/"
          ],
          [
           "https://www.instagram.com/p/CyQSAvjtJl6/?img_index=1"
          ],
          [
           "https://www.instagram.com/p/CyWnMAWP78i/"
          ],
          [
           "https://www.instagram.com/p/CyaT_oqvqCe/"
          ],
          [
           "https://www.instagram.com/p/CyiMyjOsuml/"
          ],
          [
           "https://www.instagram.com/p/CynPc4ntwW6/"
          ],
          [
           "https://www.instagram.com/p/CyqCBhSJ5PM/"
          ],
          [
           "https://www.instagram.com/p/Cys_VDPhWqZ/"
          ],
          [
           "https://www.instagram.com/p/Cyu9478LLvg/"
          ],
          [
           "https://www.instagram.com/p/Cy22eUgh7Zz/"
          ],
          [
           "https://www.instagram.com/p/Cy5cJoRMoH5/"
          ],
          [
           "https://www.instagram.com/p/Cy75Qp1v3qp/"
          ],
          [
           "https://www.instagram.com/p/Cy-hgFCpf12/"
          ],
          [
           "https://www.instagram.com/p/CzCAgVpskzv/"
          ],
          [
           "https://www.instagram.com/p/CzD41LAthDc/?img_index=1"
          ],
          [
           "https://www.instagram.com/p/CzGP5zSLaL6/"
          ],
          [
           "https://www.instagram.com/p/CzQflclvEVN/"
          ],
          [
           "https://www.instagram.com/p/CzQ3-BAMXm1/"
          ],
          [
           "https://www.instagram.com/p/CzYYXVbhJgP/"
          ],
          [
           "https://www.instagram.com/p/CzbAfcbvS8g/?img_index=1"
          ],
          [
           "https://www.instagram.com/p/CzgNkVJL16o/"
          ],
          [
           "https://www.instagram.com/p/Czi1utoqtqq/"
          ],
          [
           "https://www.instagram.com/p/Czl9PA8sNxY/"
          ],
          [
           "https://www.instagram.com/p/Czn76LCPmXD/"
          ],
          [
           "https://www.instagram.com/p/CzqdPD0K8FI/"
          ],
          [
           "https://www.instagram.com/p/Czs-oJAr53M/"
          ],
          [
           "https://www.instagram.com/p/CzvuHItNuVB/"
          ],
          [
           "https://www.instagram.com/p/CzyILfnpXdd/"
          ],
          [
           "https://www.instagram.com/p/Cz3eWMIO9O_/?img_index=1"
          ],
          [
           "https://www.instagram.com/p/Cz8iWbDsKQr/"
          ],
          [
           "https://www.instagram.com/p/Cz_UxkLIyn8/?img_index=1"
          ],
          [
           "https://www.instagram.com/p/C0BmEp9NQ9H/"
          ],
          [
           "https://www.instagram.com/p/C0Jj-A-tGR4/"
          ],
          [
           "https://www.instagram.com/p/C0L-LUXtrsV/?img_index=1"
          ],
          [
           "https://www.instagram.com/p/C0Ttbw0tKMb/"
          ],
          [
           "https://www.instagram.com/p/C0WO23WL5yP/"
          ],
          [
           "https://www.instagram.com/p/C0cWXkAuOOt/"
          ],
          [
           "https://www.instagram.com/p/C0eI5OgLMtB/"
          ],
          [
           "https://www.instagram.com/p/C0mKelBPdaC/"
          ],
          [
           "https://www.instagram.com/p/C0oM71DsQbe/"
          ],
          [
           "https://www.instagram.com/p/C0rPFB5sXOv/"
          ],
          [
           "https://www.instagram.com/p/C0w4ePXOjHx/"
          ],
          [
           "https://www.instagram.com/p/C0yLjuGKSPb/"
          ],
          [
           "https://www.instagram.com/p/C01f_LTveLl/"
          ],
          [
           "https://www.instagram.com/p/C03i2HvvzxP/"
          ],
          [
           "https://www.instagram.com/p/C04ZxdNL1Mv/"
          ],
          [
           "https://www.instagram.com/p/C06w2rRp0L-/"
          ],
          [
           "https://www.instagram.com/p/C1CwiM0oEHh/"
          ],
          [
           "https://www.instagram.com/p/C1EokeesNbQ/"
          ],
          [
           "https://www.instagram.com/p/C1JkcL1iNUR/"
          ],
          [
           "https://www.instagram.com/p/C1MJPLWipRW/"
          ],
          [
           "https://www.instagram.com/p/C1OqhmNhgwV/"
          ],
          [
           "https://www.instagram.com/p/C1U9GcEoFtA/"
          ],
          [
           "https://www.instagram.com/p/C1bs2k4oVE5/"
          ],
          [
           "https://www.instagram.com/p/C1hR572tDra/"
          ],
          [
           "https://www.instagram.com/p/C1lreSDILRT/"
          ],
          [
           "https://www.instagram.com/p/C1rJndWIYR-/"
          ],
          [
           "https://www.instagram.com/p/C1yxKLFgIps/"
          ],
          [
           "https://www.instagram.com/p/C12KQxxNxXQ/"
          ],
          [
           "https://www.instagram.com/p/C11LkDzidhX/"
          ],
          [
           "https://www.instagram.com/p/C14nbnosuoZ/"
          ],
          [
           "https://www.instagram.com/p/C2HeZd0Ky3A/"
          ],
          [
           "https://www.instagram.com/p/C2Mu0sbipyL/"
          ],
          [
           "https://www.instagram.com/p/C2PTr0opw8F/"
          ],
          [
           "https://www.instagram.com/p/C2RgU-bhJSA/"
          ],
          [
           "https://www.instagram.com/p/C2ZkeH8MbYF/"
          ],
          [
           "https://www.instagram.com/p/C2cLkbdsNVs/"
          ],
          [
           "https://www.instagram.com/p/C2j2sBBKWOJ/"
          ],
          [
           "https://www.instagram.com/p/C2vDr-TMvSf/"
          ],
          [
           "https://www.instagram.com/p/C2y7S12Bfxo/"
          ],
          [
           "https://www.instagram.com/p/C210m5xLd5q/"
          ],
          [
           "https://www.instagram.com/p/C24ZciiMXa2/?img_index=1"
          ],
          [
           "https://www.instagram.com/p/C2-CD9pOICe/?img_index=1"
          ],
          [
           "https://www.instagram.com/p/C3Aj8-KohYo/?img_index=1"
          ],
          [
           "https://www.instagram.com/p/C3PoGd4uCWi/"
          ],
          [
           "https://www.instagram.com/p/C3SrwDtNT_D/"
          ],
          [
           "https://www.instagram.com/p/C3hmJtiuZ2S/"
          ],
          [
           "https://www.instagram.com/p/C3mvyxGJZHh/"
          ],
          [
           "https://www.instagram.com/p/C3xlQ0QJafd/"
          ],
          [
           "https://www.instagram.com/p/C3zZ9SULfmZ/"
          ],
          [
           "https://www.instagram.com/p/C3zrNKeNMCJ/"
          ],
          [
           "https://www.instagram.com/p/C32P8G9L3Z8/"
          ],
          [
           "https://www.instagram.com/p/C340z0EBQvf/"
          ],
          [
           "https://www.instagram.com/p/C37Zpa8Izbd/"
          ],
          [
           "https://www.instagram.com/p/C39-WEdomUW/"
          ],
          [
           "https://www.instagram.com/p/C4FvUIsucDH/"
          ],
          [
           "https://www.instagram.com/p/C4IenmYuNNT/"
          ],
          [
           "https://www.instagram.com/p/C4K3-9hs9le/"
          ],
          [
           "https://www.instagram.com/p/C4NcyZoN2Yn/"
          ],
          [
           "https://www.instagram.com/p/C4QIHUcqX4i/"
          ],
          [
           "https://www.instagram.com/p/C4QBlViBRuI/"
          ],
          [
           "https://www.instagram.com/p/C4XuP5HCdfY/"
          ],
          [
           "https://www.instagram.com/p/C4dWyJCtJ60/"
          ],
          [
           "https://www.instagram.com/p/C4fEmpsroKS/?img_index=1"
          ],
          [
           "https://www.instagram.com/p/C4puHAPIgZz/?img_index=1"
          ],
          [
           "https://www.instagram.com/p/C4r__xnLzUs/"
          ],
          [
           "https://www.instagram.com/p/C4vYpAjIdmt/"
          ],
          [
           "https://www.instagram.com/p/C4xazXRJKlg/"
          ],
          [
           "https://www.instagram.com/p/C4zq1iuOYlM/"
          ],
          [
           "https://www.instagram.com/p/C4-SxZGsueT/"
          ],
          [
           "https://www.instagram.com/p/C5AwvXIKr9d/"
          ],
          [
           "https://www.instagram.com/p/C5DY4yBuxj2/"
          ],
          [
           "https://www.instagram.com/p/C5V5YxjM_j5/"
          ],
          [
           "https://www.instagram.com/p/C5X71SqOjXF/"
          ],
          [
           "https://www.instagram.com/p/C5kz1rENK8h/?img_index=1"
          ],
          [
           "https://www.instagram.com/p/C5u16H3ItDL/"
          ],
          [
           "https://www.instagram.com/p/C50kk36MWf-/?img_index=1"
          ],
          [
           "https://www.instagram.com/p/C57-96jBQKC/"
          ],
          [
           "https://www.instagram.com/p/C6Glq41I7Ja/"
          ],
          [
           "https://www.instagram.com/p/C6I9zbcsaGc/"
          ],
          [
           "https://www.instagram.com/p/C6LbvYbLbNi/"
          ],
          [
           "https://www.instagram.com/p/C6Vu6P0MbJY/"
          ],
          [
           "https://www.instagram.com/p/C6YamZgqDbs/?img_index=1"
          ],
          [
           "https://www.instagram.com/p/C6k9-85CuGX/"
          ],
          [
           "https://www.instagram.com/p/C6qkQ9OtbEw/?img_index=1"
          ],
          [
           "https://www.instagram.com/p/C6vlvdpL6zC/"
          ],
          [
           "https://www.instagram.com/p/C7EFPsyMFdm/"
          ],
          [
           "https://www.instagram.com/p/C7Q9NQBoWmH/"
          ],
          [
           "https://www.instagram.com/p/C7lcz-IIiIJ/"
          ],
          [
           "https://www.instagram.com/p/C7qfeNsvABJ/"
          ],
          [
           "https://www.instagram.com/p/C7wISxGMhGJ/"
          ],
          [
           "https://www.instagram.com/p/C74TkiLsnjd/?img_index=1"
          ],
          [
           "https://www.instagram.com/p/C77Olb8PfQ5/"
          ],
          [
           "https://www.instagram.com/p/C8B4WeUuioF/"
          ],
          [
           "https://www.instagram.com/p/C8HPpASRR3L/"
          ],
          [
           "https://www.instagram.com/p/C8J0aWBh7z0/"
          ],
          [
           "https://www.instagram.com/p/C8TlTwbMDrh/"
          ],
          [
           "https://www.instagram.com/p/C8Wrj9Pq8-K/"
          ],
          [
           "https://www.instagram.com/p/C8ZNiifKzRi/"
          ],
          [
           "https://www.instagram.com/p/C8g_p42KqSZ/"
          ],
          [
           "https://www.instagram.com/p/C8l7C_vqCK2/"
          ],
          [
           "https://www.instagram.com/p/C8rMmzKRS7n/"
          ],
          [
           "https://www.instagram.com/p/C8uRbRSMzKP/?img_index=1"
          ],
          [
           "https://www.instagram.com/p/C8wfi7FPCe_/"
          ],
          [
           "https://www.instagram.com/p/C86o2HWxVeJ/"
          ],
          [
           "https://www.instagram.com/p/C89GvcpMayZ/"
          ],
          [
           "https://www.instagram.com/p/C9FBbQXsT84/"
          ],
          [
           "https://www.instagram.com/p/C9MsIS7srcV/"
          ],
          [
           "https://www.instagram.com/p/C9VIx0os-co/"
          ],
          [
           "https://www.instagram.com/p/C9fDL7xMSX1/?img_index=1"
          ],
          [
           "https://www.instagram.com/p/C9hxl7csSG6/"
          ],
          [
           "https://www.instagram.com/p/C9ojhS3tJl1/?img_index=1"
          ],
          [
           "https://www.instagram.com/p/C9wuLhQMPwY/"
          ],
          [
           "https://www.instagram.com/p/C9zs1XHsA5Y/?img_index=1"
          ],
          [
           "https://www.instagram.com/p/C-K7oROs4sz/?img_index=1"
          ],
          [
           "https://www.instagram.com/p/C-aOoJlMEO1/"
          ],
          [
           "https://www.instagram.com/p/C-kNQn1prHe/?img_index=1"
          ],
          [
           "https://www.instagram.com/p/C--IVmexxp_/"
          ],
          [
           "https://www.instagram.com/p/C_DG0B8CICp/?img_index=1"
          ],
          [
           "https://www.instagram.com/p/C_FrmcmJZM1/"
          ],
          [
           "https://www.instagram.com/p/C_IYLogRqPP/"
          ],
          [
           "https://www.instagram.com/p/C_NQEerRtpm/?img_index=1"
          ],
          [
           "https://www.instagram.com/p/C_QK8xSxJqr/"
          ],
          [
           "https://www.instagram.com/p/C_iM8ObsU-X/"
          ],
          [
           "https://www.instagram.com/p/C_sgbMfR_b9/"
          ],
          [
           "https://www.instagram.com/p/C_x5FnrMzRA/"
          ],
          [
           "https://www.instagram.com/p/C_3WwSqJxEP/"
          ],
          [
           "https://www.instagram.com/p/C__C5oqMviG/"
          ],
          [
           "https://www.instagram.com/p/DAJYVgAiQwW/"
          ],
          [
           "https://www.instagram.com/p/DAOCYDfsfEX/"
          ],
          [
           "https://www.instagram.com/p/DAS7IXYsVFA/"
          ],
          [
           "https://www.instagram.com/p/DAYX_8bJpJO/"
          ],
          [
           "https://www.instagram.com/p/DAlmm5rx661/?img_index=1"
          ],
          [
           "https://www.instagram.com/p/DAqTYFhROOd/"
          ],
          [
           "https://www.instagram.com/p/DA6TcaFvswl/"
          ],
          [
           "https://www.instagram.com/p/DA84Q9-PBaG/"
          ],
          [
           "https://www.instagram.com/p/DBGsCrIsO14/"
          ],
          [
           "https://www.instagram.com/p/DBJEAzVsgSa/"
          ],
          [
           "https://www.instagram.com/p/DBLc-nzsxig/?img_index=1"
          ],
          [
           "https://www.instagram.com/p/DBMQ1kmslTQ/"
          ],
          [
           "https://www.instagram.com/p/DBOJuFmB_Js/"
          ],
          [
           "https://www.instagram.com/p/DBQ86txqwAb/"
          ],
          [
           "https://www.instagram.com/p/DBgXyFMxime/"
          ],
          [
           "https://www.instagram.com/p/DBjTwRqshrT/"
          ],
          [
           "https://www.instagram.com/p/DBtILF0MxsG/"
          ],
          [
           "https://www.instagram.com/p/DBvzYR8MDqp/"
          ],
          [
           "https://www.instagram.com/p/DB8f-w-xNiE/"
          ],
          [
           "https://www.instagram.com/p/DCB7iVNM5pq/"
          ],
          [
           "https://www.instagram.com/p/DCFJ_GAMeGC/"
          ],
          [
           "https://www.instagram.com/p/DCHQURCMkSJ/"
          ],
          [
           "https://www.instagram.com/p/DCRZYCKs6kr/"
          ],
          [
           "https://www.instagram.com/p/DCUNeFuxpzo/"
          ],
          [
           "https://www.instagram.com/p/DCXWb76sAzY/?img_index=1"
          ],
          [
           "https://www.instagram.com/p/DCWrxlGxGWw/"
          ],
          [
           "https://www.instagram.com/p/DCZIZ6nsFB5/"
          ],
          [
           "https://www.instagram.com/p/DCmAN88RRtp/"
          ],
          [
           "https://www.instagram.com/p/DCryac0R0tK/?img_index=1"
          ],
          [
           "https://www.instagram.com/p/DCzsKovRMfp/"
          ],
          [
           "https://www.instagram.com/p/DC2Awx2R-h1/?img_index=1"
          ],
          [
           "https://www.instagram.com/p/DC37SvUsYMa/"
          ],
          [
           "https://www.instagram.com/p/DC4o19gxxLJ/?img_index=1"
          ],
          [
           "https://www.instagram.com/p/DC85aEHx1Uo/"
          ],
          [
           "https://www.instagram.com/p/DDE1VUMxWdw/"
          ],
          [
           "https://www.instagram.com/p/DDFeJEXxoWH/"
          ],
          [
           "https://www.instagram.com/p/DDJ8dgKRvtv/"
          ],
          [
           "https://www.instagram.com/p/DDMjVKkv0a9/"
          ],
          [
           "https://www.instagram.com/p/DDP0WkwxZKd/?img_index=1"
          ],
          [
           "https://www.instagram.com/p/DDZZekrxinp/"
          ],
          [
           "https://www.instagram.com/p/DDc70fpswtQ/"
          ],
          [
           "https://www.instagram.com/p/DDeTkjjMPfu/"
          ],
          [
           "https://www.instagram.com/p/DDjmq2-iAHA/"
          ],
          [
           "https://www.instagram.com/p/DDsFgVjRb2R/?img_index=1"
          ],
          [
           "https://www.instagram.com/p/DDup9ujM5wn/"
          ],
          [
           "https://www.instagram.com/p/DDuD4lvsHIr/"
          ],
          [
           "https://www.instagram.com/p/DDxQe3ZMoIY/"
          ],
          [
           "https://www.instagram.com/p/DDzzzUcxq21/?img_index=1"
          ],
          [
           "https://www.instagram.com/p/DEAAqSGsS66/"
          ],
          [
           "https://www.instagram.com/p/DEPRWIpSRmI/"
          ],
          [
           "https://www.instagram.com/p/DESYekpMGkw/?img_index=1"
          ],
          [
           "https://www.instagram.com/p/DEW_unBsi0L/"
          ],
          [
           "https://www.instagram.com/p/DEflEU4opvZ/?img_index=1"
          ],
          [
           "https://www.instagram.com/p/DEhvnfRuiZH/"
          ],
          [
           "https://www.instagram.com/p/DEhFJDRAK7e/"
          ],
          [
           "https://www.instagram.com/p/DEj7G81vUcY/"
          ],
          [
           "https://www.instagram.com/p/DEmSSkBhiAq/"
          ],
          [
           "https://www.instagram.com/p/DEpBTLpNdNf/"
          ],
          [
           "https://www.instagram.com/p/DEzlnElPIX2/"
          ],
          [
           "https://www.instagram.com/p/DE4Tu3VRIrI/"
          ],
          [
           "https://www.instagram.com/p/DE7UwUiKZ7d/"
          ],
          [
           "https://www.instagram.com/p/DFCxRLGPOGA/"
          ],
          [
           "https://www.instagram.com/p/DFFT-Klt-kk/?img_index=1"
          ],
          [
           "https://www.instagram.com/p/DFHtFc0NWjn/"
          ],
          [
           "https://www.instagram.com/p/DFKtciFiSd9/"
          ],
          [
           "https://www.instagram.com/p/DFXVrAMy4rE/?img_index=1"
          ],
          [
           "https://www.instagram.com/p/DFcoGW4MfxL/"
          ],
          [
           "https://www.instagram.com/p/DFfapCGs8uf/"
          ],
          [
           "https://www.instagram.com/p/DFmf4lzISxM/"
          ],
          [
           "https://www.instagram.com/p/DFsBXeRtJy2/?img_index=1"
          ],
          [
           "https://www.instagram.com/p/DFxK9hwpqvr/"
          ],
          [
           "https://www.instagram.com/p/DF48zPVKGb5/?img_index=1"
          ],
          [
           "https://www.instagram.com/p/DF7eIHtpdzx/"
          ],
          [
           "https://www.instagram.com/p/DF-GdEoKXCO/"
          ],
          [
           "https://www.instagram.com/p/DF-6snaK2Jz/"
          ],
          [
           "https://www.instagram.com/p/DGK66S8pOhL/?img_index=1"
          ],
          [
           "https://www.instagram.com/p/DGNjPXOpsPg/"
          ],
          [
           "https://www.instagram.com/p/DGQGvnEMPk-/"
          ],
          [
           "https://www.instagram.com/p/DGVKrvIP_SX/?img_index=1"
          ],
          [
           "https://www.instagram.com/p/DGc_4fks2Ec/"
          ],
          [
           "https://www.instagram.com/p/DGiCqdwMdE9/?img_index=1"
          ],
          [
           "https://www.instagram.com/p/DGkuKANsZwL/"
          ],
          [
           "https://www.instagram.com/p/DGnO5C5MZd2/"
          ],
          [
           "https://www.instagram.com/p/DGvBfdKK91C/"
          ],
          [
           "https://www.instagram.com/p/DG7tbK0B0k_/"
          ],
          [
           "https://www.instagram.com/p/DHDrRydCwDm/?img_index=1"
          ],
          [
           "https://www.instagram.com/p/DHIxdgzpvzI/"
          ],
          [
           "https://www.instagram.com/p/DHYHVBisOQW/?img_index=1"
          ],
          [
           "https://www.instagram.com/p/DHdsaLJtrYu/"
          ],
          [
           "https://www.instagram.com/p/DHk73J6tqgj/?img_index=1"
          ],
          [
           "https://www.instagram.com/p/DHqTMTTCpn7/?img_index=1"
          ],
          [
           "https://www.instagram.com/p/DHvSrm0P7b2/"
          ],
          [
           "https://www.instagram.com/p/DH3A-_EoAjO/"
          ],
          [
           "https://www.instagram.com/p/DIBUDTYPoS9/?img_index=1"
          ],
          [
           "https://www.instagram.com/p/DIOFK3RN06U/"
          ],
          [
           "https://www.instagram.com/p/DIay-ddpIB9/"
          ],
          [
           "https://www.instagram.com/p/DIiyc7Vh_91/?img_index=1"
          ],
          [
           "https://www.instagram.com/p/DIqTLx0hY9Y/?img_index=1"
          ],
          [
           "https://www.instagram.com/p/DIsqNc_BsR3/"
          ],
          [
           "https://www.instagram.com/p/DIvbAtMs7I1/"
          ],
          [
           "https://www.instagram.com/p/DIva_i0P5sn/"
          ],
          [
           "https://www.instagram.com/p/DIva-OIvmdG/"
          ],
          [
           "https://www.instagram.com/p/DI1PcHFBXJo/"
          ],
          [
           "https://www.instagram.com/p/DI52uJPvhiX/?img_index=1"
          ]
         ],
         "hovertemplate": "cafe=https://www.instagram.com/apadariaportuguesa<br>Date=%{x}<br>Ratio between Likes and Followers=%{y}<br>post_link=%{customdata[0]}<extra></extra>",
         "legendgroup": "https://www.instagram.com/apadariaportuguesa",
         "line": {
          "color": "#ab63fa",
          "dash": "solid"
         },
         "marker": {
          "symbol": "circle"
         },
         "mode": "lines",
         "name": "https://www.instagram.com/apadariaportuguesa",
         "showlegend": true,
         "type": "scattergl",
         "x": [
          "2022-12-27T00:00:00",
          "2023-01-01T00:00:00",
          "2023-01-02T00:00:00",
          "2023-01-05T00:00:00",
          "2023-01-06T00:00:00",
          "2023-01-09T00:00:00",
          "2023-01-10T00:00:00",
          "2023-01-13T00:00:00",
          "2023-01-13T00:00:00",
          "2023-01-15T00:00:00",
          "2023-01-16T00:00:00",
          "2023-01-17T00:00:00",
          "2023-01-19T00:00:00",
          "2023-01-21T00:00:00",
          "2023-01-22T00:00:00",
          "2023-01-24T00:00:00",
          "2023-01-25T00:00:00",
          "2023-01-27T00:00:00",
          "2023-01-29T00:00:00",
          "2023-01-30T00:00:00",
          "2023-02-02T00:00:00",
          "2023-02-03T00:00:00",
          "2023-02-05T00:00:00",
          "2023-02-06T00:00:00",
          "2023-02-07T00:00:00",
          "2023-02-12T00:00:00",
          "2023-02-13T00:00:00",
          "2023-02-16T00:00:00",
          "2023-02-17T00:00:00",
          "2023-02-19T00:00:00",
          "2023-02-20T00:00:00",
          "2023-02-21T00:00:00",
          "2023-02-22T00:00:00",
          "2023-02-24T00:00:00",
          "2023-02-26T00:00:00",
          "2023-02-27T00:00:00",
          "2023-02-28T00:00:00",
          "2023-03-02T00:00:00",
          "2023-03-03T00:00:00",
          "2023-03-06T00:00:00",
          "2023-03-08T00:00:00",
          "2023-03-10T00:00:00",
          "2023-03-12T00:00:00",
          "2023-03-13T00:00:00",
          "2023-03-15T00:00:00",
          "2023-03-16T00:00:00",
          "2023-03-18T00:00:00",
          "2023-03-21T00:00:00",
          "2023-03-23T00:00:00",
          "2023-03-23T00:00:00",
          "2023-03-26T00:00:00",
          "2023-03-27T00:00:00",
          "2023-03-28T00:00:00",
          "2023-03-31T00:00:00",
          "2023-04-02T00:00:00",
          "2023-04-03T00:00:00",
          "2023-04-05T00:00:00",
          "2023-04-06T00:00:00",
          "2023-04-10T00:00:00",
          "2023-04-12T00:00:00",
          "2023-04-14T00:00:00",
          "2023-04-16T00:00:00",
          "2023-04-19T00:00:00",
          "2023-04-21T00:00:00",
          "2023-04-24T00:00:00",
          "2023-04-25T00:00:00",
          "2023-04-26T00:00:00",
          "2023-04-26T00:00:00",
          "2023-04-29T00:00:00",
          "2023-05-01T00:00:00",
          "2023-05-04T00:00:00",
          "2023-05-05T00:00:00",
          "2023-05-06T00:00:00",
          "2023-05-07T00:00:00",
          "2023-05-08T00:00:00",
          "2023-05-10T00:00:00",
          "2023-05-11T00:00:00",
          "2023-05-12T00:00:00",
          "2023-05-14T00:00:00",
          "2023-05-15T00:00:00",
          "2023-05-16T00:00:00",
          "2023-05-19T00:00:00",
          "2023-05-21T00:00:00",
          "2023-05-22T00:00:00",
          "2023-05-23T00:00:00",
          "2023-05-24T00:00:00",
          "2023-05-28T00:00:00",
          "2023-05-29T00:00:00",
          "2023-05-30T00:00:00",
          "2023-05-31T00:00:00",
          "2023-06-02T00:00:00",
          "2023-06-05T00:00:00",
          "2023-06-06T00:00:00",
          "2023-06-07T00:00:00",
          "2023-06-11T00:00:00",
          "2023-06-12T00:00:00",
          "2023-06-13T00:00:00",
          "2023-06-15T00:00:00",
          "2023-06-20T00:00:00",
          "2023-06-21T00:00:00",
          "2023-06-22T00:00:00",
          "2023-06-23T00:00:00",
          "2023-06-28T00:00:00",
          "2023-06-29T00:00:00",
          "2023-07-01T00:00:00",
          "2023-07-03T00:00:00",
          "2023-07-04T00:00:00",
          "2023-07-05T00:00:00",
          "2023-07-06T00:00:00",
          "2023-07-09T00:00:00",
          "2023-07-10T00:00:00",
          "2023-07-13T00:00:00",
          "2023-07-14T00:00:00",
          "2023-07-17T00:00:00",
          "2023-07-21T00:00:00",
          "2023-07-21T00:00:00",
          "2023-07-23T00:00:00",
          "2023-07-23T00:00:00",
          "2023-07-25T00:00:00",
          "2023-07-25T00:00:00",
          "2023-07-26T00:00:00",
          "2023-07-27T00:00:00",
          "2023-07-28T00:00:00",
          "2023-07-29T00:00:00",
          "2023-07-30T00:00:00",
          "2023-08-02T00:00:00",
          "2023-08-02T00:00:00",
          "2023-08-04T00:00:00",
          "2023-08-06T00:00:00",
          "2023-08-07T00:00:00",
          "2023-08-09T00:00:00",
          "2023-08-11T00:00:00",
          "2023-08-13T00:00:00",
          "2023-08-14T00:00:00",
          "2023-08-15T00:00:00",
          "2023-08-18T00:00:00",
          "2023-08-19T00:00:00",
          "2023-08-21T00:00:00",
          "2023-08-22T00:00:00",
          "2023-08-23T00:00:00",
          "2023-08-24T00:00:00",
          "2023-08-25T00:00:00",
          "2023-08-28T00:00:00",
          "2023-08-29T00:00:00",
          "2023-08-31T00:00:00",
          "2023-09-01T00:00:00",
          "2023-09-03T00:00:00",
          "2023-09-04T00:00:00",
          "2023-09-05T00:00:00",
          "2023-09-07T00:00:00",
          "2023-09-09T00:00:00",
          "2023-09-11T00:00:00",
          "2023-09-13T00:00:00",
          "2023-09-14T00:00:00",
          "2023-09-15T00:00:00",
          "2023-09-17T00:00:00",
          "2023-09-18T00:00:00",
          "2023-09-19T00:00:00",
          "2023-09-20T00:00:00",
          "2023-09-21T00:00:00",
          "2023-09-24T00:00:00",
          "2023-09-25T00:00:00",
          "2023-09-26T00:00:00",
          "2023-09-29T00:00:00",
          "2023-10-03T00:00:00",
          "2023-10-04T00:00:00",
          "2023-10-06T00:00:00",
          "2023-10-09T00:00:00",
          "2023-10-10T00:00:00",
          "2023-10-11T00:00:00",
          "2023-10-13T00:00:00",
          "2023-10-15T00:00:00",
          "2023-10-18T00:00:00",
          "2023-10-20T00:00:00",
          "2023-10-21T00:00:00",
          "2023-10-22T00:00:00",
          "2023-10-23T00:00:00",
          "2023-10-26T00:00:00",
          "2023-10-27T00:00:00",
          "2023-10-28T00:00:00",
          "2023-10-29T00:00:00",
          "2023-10-30T00:00:00",
          "2023-10-31T00:00:00",
          "2023-11-01T00:00:00",
          "2023-11-05T00:00:00",
          "2023-11-05T00:00:00",
          "2023-11-08T00:00:00",
          "2023-11-09T00:00:00",
          "2023-11-11T00:00:00",
          "2023-11-12T00:00:00",
          "2023-11-13T00:00:00",
          "2023-11-14T00:00:00",
          "2023-11-15T00:00:00",
          "2023-11-16T00:00:00",
          "2023-11-17T00:00:00",
          "2023-11-18T00:00:00",
          "2023-11-20T00:00:00",
          "2023-11-22T00:00:00",
          "2023-11-23T00:00:00",
          "2023-11-24T00:00:00",
          "2023-11-27T00:00:00",
          "2023-11-28T00:00:00",
          "2023-12-01T00:00:00",
          "2023-12-02T00:00:00",
          "2023-12-04T00:00:00",
          "2023-12-05T00:00:00",
          "2023-12-08T00:00:00",
          "2023-12-09T00:00:00",
          "2023-12-10T00:00:00",
          "2023-12-12T00:00:00",
          "2023-12-13T00:00:00",
          "2023-12-14T00:00:00",
          "2023-12-15T00:00:00",
          "2023-12-15T00:00:00",
          "2023-12-16T00:00:00",
          "2023-12-19T00:00:00",
          "2023-12-20T00:00:00",
          "2023-12-22T00:00:00",
          "2023-12-23T00:00:00",
          "2023-12-24T00:00:00",
          "2023-12-26T00:00:00",
          "2023-12-29T00:00:00",
          "2023-12-31T00:00:00",
          "2024-01-02T00:00:00",
          "2024-01-04T00:00:00",
          "2024-01-07T00:00:00",
          "2024-01-08T00:00:00",
          "2024-01-08T00:00:00",
          "2024-01-09T00:00:00",
          "2024-01-15T00:00:00",
          "2024-01-17T00:00:00",
          "2024-01-18T00:00:00",
          "2024-01-19T00:00:00",
          "2024-01-22T00:00:00",
          "2024-01-23T00:00:00",
          "2024-01-26T00:00:00",
          "2024-01-30T00:00:00",
          "2024-02-01T00:00:00",
          "2024-02-02T00:00:00",
          "2024-02-03T00:00:00",
          "2024-02-05T00:00:00",
          "2024-02-06T00:00:00",
          "2024-02-12T00:00:00",
          "2024-02-13T00:00:00",
          "2024-02-19T00:00:00",
          "2024-02-21T00:00:00",
          "2024-02-25T00:00:00",
          "2024-02-26T00:00:00",
          "2024-02-26T00:00:00",
          "2024-02-27T00:00:00",
          "2024-02-28T00:00:00",
          "2024-02-29T00:00:00",
          "2024-03-01T00:00:00",
          "2024-03-04T00:00:00",
          "2024-03-05T00:00:00",
          "2024-03-06T00:00:00",
          "2024-03-07T00:00:00",
          "2024-03-08T00:00:00",
          "2024-03-08T00:00:00",
          "2024-03-11T00:00:00",
          "2024-03-13T00:00:00",
          "2024-03-14T00:00:00",
          "2024-03-18T00:00:00",
          "2024-03-19T00:00:00",
          "2024-03-20T00:00:00",
          "2024-03-21T00:00:00",
          "2024-03-22T00:00:00",
          "2024-03-26T00:00:00",
          "2024-03-27T00:00:00",
          "2024-03-28T00:00:00",
          "2024-04-04T00:00:00",
          "2024-04-05T00:00:00",
          "2024-04-10T00:00:00",
          "2024-04-14T00:00:00",
          "2024-04-16T00:00:00",
          "2024-04-19T00:00:00",
          "2024-04-23T00:00:00",
          "2024-04-24T00:00:00",
          "2024-04-25T00:00:00",
          "2024-04-29T00:00:00",
          "2024-04-30T00:00:00",
          "2024-05-05T00:00:00",
          "2024-05-07T00:00:00",
          "2024-05-09T00:00:00",
          "2024-05-17T00:00:00",
          "2024-05-22T00:00:00",
          "2024-05-30T00:00:00",
          "2024-06-01T00:00:00",
          "2024-06-03T00:00:00",
          "2024-06-06T00:00:00",
          "2024-06-07T00:00:00",
          "2024-06-10T00:00:00",
          "2024-06-12T00:00:00",
          "2024-06-13T00:00:00",
          "2024-06-17T00:00:00",
          "2024-06-18T00:00:00",
          "2024-06-19T00:00:00",
          "2024-06-22T00:00:00",
          "2024-06-24T00:00:00",
          "2024-06-26T00:00:00",
          "2024-06-27T00:00:00",
          "2024-06-28T00:00:00",
          "2024-07-02T00:00:00",
          "2024-07-03T00:00:00",
          "2024-07-06T00:00:00",
          "2024-07-09T00:00:00",
          "2024-07-12T00:00:00",
          "2024-07-16T00:00:00",
          "2024-07-17T00:00:00",
          "2024-07-20T00:00:00",
          "2024-07-23T00:00:00",
          "2024-07-24T00:00:00",
          "2024-08-02T00:00:00",
          "2024-08-08T00:00:00",
          "2024-08-12T00:00:00",
          "2024-08-22T00:00:00",
          "2024-08-24T00:00:00",
          "2024-08-25T00:00:00",
          "2024-08-26T00:00:00",
          "2024-08-28T00:00:00",
          "2024-08-29T00:00:00",
          "2024-09-05T00:00:00",
          "2024-09-09T00:00:00",
          "2024-09-11T00:00:00",
          "2024-09-13T00:00:00",
          "2024-09-16T00:00:00",
          "2024-09-20T00:00:00",
          "2024-09-22T00:00:00",
          "2024-09-24T00:00:00",
          "2024-09-26T00:00:00",
          "2024-10-01T00:00:00",
          "2024-10-03T00:00:00",
          "2024-10-09T00:00:00",
          "2024-10-10T00:00:00",
          "2024-10-14T00:00:00",
          "2024-10-15T00:00:00",
          "2024-10-16T00:00:00",
          "2024-10-16T00:00:00",
          "2024-10-17T00:00:00",
          "2024-10-18T00:00:00",
          "2024-10-24T00:00:00",
          "2024-10-25T00:00:00",
          "2024-10-29T00:00:00",
          "2024-10-30T00:00:00",
          "2024-11-04T00:00:00",
          "2024-11-06T00:00:00",
          "2024-11-07T00:00:00",
          "2024-11-08T00:00:00",
          "2024-11-12T00:00:00",
          "2024-11-13T00:00:00",
          "2024-11-14T00:00:00",
          "2024-11-14T00:00:00",
          "2024-11-15T00:00:00",
          "2024-11-20T00:00:00",
          "2024-11-22T00:00:00",
          "2024-11-25T00:00:00",
          "2024-11-26T00:00:00",
          "2024-11-27T00:00:00",
          "2024-11-27T00:00:00",
          "2024-11-29T00:00:00",
          "2024-12-02T00:00:00",
          "2024-12-02T00:00:00",
          "2024-12-04T00:00:00",
          "2024-12-05T00:00:00",
          "2024-12-06T00:00:00",
          "2024-12-10T00:00:00",
          "2024-12-11T00:00:00",
          "2024-12-12T00:00:00",
          "2024-12-14T00:00:00",
          "2024-12-17T00:00:00",
          "2024-12-18T00:00:00",
          "2024-12-18T00:00:00",
          "2024-12-19T00:00:00",
          "2024-12-20T00:00:00",
          "2024-12-25T00:00:00",
          "2024-12-31T00:00:00",
          "2025-01-01T00:00:00",
          "2025-01-03T00:00:00",
          "2025-01-06T00:00:00",
          "2025-01-07T00:00:00",
          "2025-01-07T00:00:00",
          "2025-01-08T00:00:00",
          "2025-01-09T00:00:00",
          "2025-01-10T00:00:00",
          "2025-01-14T00:00:00",
          "2025-01-16T00:00:00",
          "2025-01-17T00:00:00",
          "2025-01-20T00:00:00",
          "2025-01-21T00:00:00",
          "2025-01-22T00:00:00",
          "2025-01-23T00:00:00",
          "2025-01-28T00:00:00",
          "2025-01-30T00:00:00",
          "2025-01-31T00:00:00",
          "2025-02-03T00:00:00",
          "2025-02-05T00:00:00",
          "2025-02-07T00:00:00",
          "2025-02-10T00:00:00",
          "2025-02-11T00:00:00",
          "2025-02-12T00:00:00",
          "2025-02-12T00:00:00",
          "2025-02-17T00:00:00",
          "2025-02-18T00:00:00",
          "2025-02-19T00:00:00",
          "2025-02-21T00:00:00",
          "2025-02-24T00:00:00",
          "2025-02-26T00:00:00",
          "2025-02-27T00:00:00",
          "2025-02-28T00:00:00",
          "2025-03-03T00:00:00",
          "2025-03-08T00:00:00",
          "2025-03-11T00:00:00",
          "2025-03-13T00:00:00",
          "2025-03-19T00:00:00",
          "2025-03-21T00:00:00",
          "2025-03-24T00:00:00",
          "2025-03-26T00:00:00",
          "2025-03-28T00:00:00",
          "2025-03-31T00:00:00",
          "2025-04-04T00:00:00",
          "2025-04-09T00:00:00",
          "2025-04-14T00:00:00",
          "2025-04-17T00:00:00",
          "2025-04-20T00:00:00",
          "2025-04-21T00:00:00",
          "2025-04-22T00:00:00",
          "2025-04-22T00:00:00",
          "2025-04-22T00:00:00",
          "2025-04-25T00:00:00",
          "2025-04-26T00:00:00"
         ],
         "xaxis": "x",
         "y": {
          "bdata": "VANtlSaEXT+ettm2MMydP8xV8OXUIpQ/rxYT3ZVicj/iu+Iv/2ucP3CNX+CQW5k/Yy/fpCJonT/+RdV6aUN4P86C9xiVeck/ziwiuvL2lD8XEp0Hb06RPxqeuZlhC5g/iklgV21CcT+XbJJm2UJ0P32XitlDVH4/IXekWHaCcT8D2zEN7ONrPzvfT42XbqI/SOA6hrqDmj/9I45kIFidPx+gcoRYrqA/JT4PF2sycT+uDdPcBX+VP7ek6Fl/wmE/Be2xDQyrpT9jUSa7a1OYP4JF7oF//J8/XrzJKOmylD+3aZotfc+YPxuFsoOoA5o/A8Cq2ktUoD8efituD8OFPxuFsoOoA2o/XoF7/Oa/mz+9W4wCS06gPwnNI+K5YmM/l2ySZtlCdD/D+SiVXdKgPxFb+V6jwnI/4OSwW+GXmz+pJCEIyONqPwWyY+EJuJw/Xu7XVFvCYD8NJbIrU4igP8AZt8CvGoM/DmKAdDwDhz9SgJADxKqjP8WVDD15s3g/3vR3cQq8nD8NlI6grhJzP/Eio2v9QlU/VSW0q29vmD8oj918W/yeP0oLwpyTUnI/dzQ8czPDdj/ArFpoOxieP0jHM3ABfJw/DmKAdDwDlz8Z6c7bjCJiP/p+arx0k3g/AT9OZdACVD8EH8A5frqBP68vGvNOapA/rtKEsAOMnD86grpKTJCeP2Jh7dCUd5k/rDahCOiqlD8YjDmZQUReP7gehetRuJ4/K6FdfXvDaD+yEQzk46mrP+e9mxr2DqU/PraBYbVCoz8IcI6fboRfPzjm1qIwr6Y/C71czJA+oj99lQq9XMygP+PdKUZIV6c/sJCvbmhYnz+niD1grAJjP7w5RewBY2U/yFM3+91/mz+niD1grAJjP3oLbkdRl5c/vtUolB1EXT8LaQeK1UNrPwxyR4plJ5g/nBr2DhXrlT+ZXMtQsB6TPxgC1vFFKqA/vSA+1khblz+uuX2aSoROP4RXboKfw5k/ZHNt0bQ+kz9JJMmyTFqwP0Sq81JqSag/B/bxDZyOoj8W8FXxJWN2P5F6oJELxFw/4OSwW+GXmz/V7AVjTmaQP6EDqONShpA/t6ToWX/CcT+EjXzn3+LAP/yqMWFBJrc/wc6hfoQDaT9LwKxaaDuYP7ZHUxc05H0/9rf//X/jaD9CSp5lRB+wP+dpRtg6FJ4/UpmXGX2yoT+A5FgGZg6hP370HxyPMnI/gruK2oPiYT+8OUXsAWNlP5EkyzJpQag/PraBYbVCcz/oAmrVe6mxP3zinxtva4g/oZZLi96DWz+2R1MXNORtPz7zT6qevak/pbELjI4uoj/i1OlFuHN6P0jgOoa6g2o/Be2xDQyrlT/sjUbZeqJxPzu9CHdOg1c/g4l8rhHTdT9gxQkpeZaRP9TjxWK+gmM/jOVD/4gjqT9kHxiP+UNsP+LU6UW4c3o/xMcaaevCZD+j2tm3cFqBP4pJYFdtQlE///g/HFekoD+3pOhZf8KBPzHpJLHrxKQ/kXqgkQvEfD9b9V5q9AJlPyKCZHXt7as/hFdugp/DWT9UA22VJoRNP5RzGXxyg2g/IxOIAJJjaT8Qj4en/FmsPz7yDxyr+bI/l2ySZtlCVD/XTZveZ1SfP17u11RbwnA/M2qBJmcWsT82ZXottV2qP/THxhOpB6o/1rr3NtxWpD+D31ENtFWqP+z8Ik7WLKQ/99lGFMnOoz8/v8FhRSagP2TiSUYQyaU/XJFCEhDkfD8NlI6grhJzP6DIWbdQk3c/sJCvbmhYnz+z3X2bihJyP7cTxc7aTKQ/exSuR+F6pD/+RdV6aUNYP2QfGI/5Q2w/7ikqgZaDaT/xIqNr/UJVP8xV8OXUImQ/CtZj4klGkD9AUmUJ0SOLPww3+V1jNH8/zvHTjfADjD/E4CF/pMqSP9Z/qQraY2s/lZVgkrtukz9zbdG0PhN3P3ottV2agmI/oQOo41KGoD+UNksziQiiP3Kf3+CwIpM/A9sxDezjaz+uuX2aSoRuPypmD1F50J8/XrzJKOmylD+uuX2aSoRuP5/6Z+PCooM/7Vs4rQiTlT/Mbvf7jSqSP5rU58WbjKI/PraBYbVCYz/0GxxWZAJhP2cYkXlgA1g//kXVemlDaD/iu+Iv/2uMPyUlCAGyKoM/IBoPFiukbT+t64vGvJOKP4pJYFdtQnE/Ji5IAUIOoD+qCxryDtyMPw5igHQ8A5c/Tn7XGM0Hmz/xIqNr/UKVP0UJCbKcr5k/8SKja/1CdT8efituD8NVP+BRDbRVmpA/G4Wyg6gDWj+5exounZaSP+EG+HEqg1Y/weeolD0Llz8/v8FhRSaQPwqCDqCOS4k/qFYvNDrzhj83MezkW8aQPyF3pFh2glE/XJFCEhDkbD8efituD8OFP/QbHFZkAoE/mQh2DvUjfD/y8JQ/izN5P9D+E8dO98M/LprWZ+KChD/qYr/CodN5P7V5YUOm83k/tKtvbxgDZj/bFAadXARvP+4pKoGWg2k/q0+oHqGykj8SKesyMbN2P3ZmSp+l0nI/C2kHitVDaz9OftcYzQebPxnpztuMImI/x8CTU1KCYD9I4DqGuoN6P5RzGXxyg1g/bK3tC+Ojaz8bbKtt7/ubP/a3//1/42g/abL0BJVcoj/0GxxWZAJhP78yvtZoInE/wc6hfoQDaT96LbVdmoJiPx5+K24Pw2U/LprWZ+KCZD/AxWF+9B+cPzXtXbjJ75o/p4g9YKwCUz9QPALXMdSdP0x1lxg9JH4/b4Qf4AB4nD8MN/ldYzR/P9/bcFtRtI4/vtUolB1EXT+xsvaEsUNaP5dskmbZQnQ/dzQ8czPDZj/wO6qBtkqDP/O+hhMZJH0/EULySOq6lD9mSp+l0hKUP2nL+xpOZKA/eT18c8Omoz8roV19e8NYP1v1Xmr0AmU/Xu7XVFvCYD/plM3uE+N1P2QfGI/5Q1w/kXqgkQvEbD8zaoEmZxaRP7JlYSafpKI/Vp3QIFvdpz84xI+M58NbP47VfOlf/5c/QFJlCdEjaz/GDSmyZCGoP8g6MOUkeJ0/BSFAVmVCrz/jotsZRmSePy6a1mfiglQ/3p6iEmg5qD8G1Kr3UqNnPzeHwUP+SLU/IXekWHaCUT/+RdV6aUNYPzGTT1JJQmA/BQa5I8Wycz8Z6c7bjCKiPzxy8zQjbJ0/rxYT3ZViYj8zaoEmZxaRP/QCFUCr+pI/yKeMPZl6gj+DiXyuEdOFP7pJDAIrh5Y/h1DnbAaDZT+vLxrzTmqwP5lcy1CwHqM/qG82SvP6hD/ccZvfp+JiP/Eio2v9QlU//Knx0k1iYD+XbJJm2UJUP3ottV2agmI/9rf//X/jaD+3pOhZf8KhP665fZpKhF4/+n5qvHSTqD/R6kx4V8NnP3Kf3+CwIpM/lnxZfAJnpT+Cu4rag+JhP2g62I+p7pI/XJFCEhDkbD/NI+K5YhN4P3ottV2agoI/sbL2hLFDmj9sre0L46ObP6tPqB6hspI/Ay+HT6fekj9nGJF5YANoP3sUrkfhepQ/cHRYytdTez+KDhIra0+YP2AC2HFiEag/JrYrjFagoD/KKmnP+1OMPwtpB4rVQ3s/w/kolV3ScD8D2zEN7ON7Py14j1GZl5k/RDsX3g6/lT96LbVdmoKSP+LU6UW4c3o/0epMeFfDVz8CDUA5XvN3P/uHqrwEd6U/j9686e/idD9BlvM1Y/qgP0vZs3AhQ2Y/pI/EdUVDZz/NPOnPGxumPxD+YxxY5G4/j9686e/ipD9MdZcYPSRuP8Lw6JTN7qM/0epMeFfDZz82KKzky+JjPyrTa6nt0nQ/yippz/tTfD93NDxzM8N2P+4pKoGWg4k/GMeHxUM3lz/Kfr4Rt06TPx5lJFhWu5c/mmULUUACYD9b9V5q9AJVP3k9fHPDppM/tMR2hdEKlD/HwJNTUoJgP3ottV2agmI/C2kHitVDWz/XofAgI0+WP0ZEV96eomI/g4l8rhHTdT/Exxpp68JkPyMTiACSY2k/wc6hfoQDWT/2t//9f+NoPzJhQSbXMqQ/CHCOn26EXz9GRFfenqJiP3npJjEIrIw/Q0ve8zfjlj9itUITUHJwPwa7o+GZm4k/7hAja917iz8KmxW2R1OHP1BuEAOk45k/YMUJKXmWkT9GRFfenqJiP9WxtzZMc4c/rxYT3ZVicj/Wf6kK2mN7PxiMOZlBRG4/pI/EdUVDZz+z3X2bihKCP5dskmbZQmQ/4DgGnpySgj8gGg8WK6RtP+59f8NRfpA/wACwqvYShT9SgJADxKqTPyuhXX17w1g/VANtlSaEbT+KSWBXbUJRPzu9CHdOg3c/G4Wyg6gDSj9X/OV/jUNpP9OGMCBzpG8/G4Wyg6gDej+7MAXscX+YP+T/cFyRQnI/Xu7XVFvCYD8efituD8NlP/5F1XppQ4g/RrxzU4oQoj/GY/4QB6RsPwnNI+K5YnM/9rf//X/jeD/Mbvf7jSqCPwhwjp9uhF8/iDfgVk17pz/mm1QErSNqP9TjxWK+gmM/102b3mdUjz/eDX+Hw8N6P+T/cFyRQlI/np3SoHfEXz+uuX2aSoROPyio5JIUBE0/ahEKZMfCUz8=",
          "dtype": "f8"
         },
         "yaxis": "y"
        },
        {
         "customdata": [
          [
           "https://www.instagram.com/p/Cm13NlZsR23/"
          ],
          [
           "https://www.instagram.com/p/Cm35pKzMx2q/"
          ],
          [
           "https://www.instagram.com/p/Cm9o_flMxIt/?img_index=1"
          ],
          [
           "https://www.instagram.com/p/CnFRD9cO9J_/"
          ],
          [
           "https://www.instagram.com/p/CnKkeNisjpu/?img_index=1"
          ],
          [
           "https://www.instagram.com/p/CnSKplUObrx/"
          ],
          [
           "https://www.instagram.com/p/CnUwjluMHCx/"
          ],
          [
           "https://www.instagram.com/p/CnXoiOftdmx/"
          ],
          [
           "https://www.instagram.com/p/CnfUIgSMPCw/"
          ],
          [
           "https://www.instagram.com/p/CnkX10SMIqo/?img_index=1"
          ],
          [
           "https://www.instagram.com/p/Cnoz3eaAbvh/"
          ],
          [
           "https://www.instagram.com/p/CnxbQrXJB3E/"
          ],
          [
           "https://www.instagram.com/p/Cn2dqRYsN4c/?img_index=1"
          ],
          [
           "https://www.instagram.com/p/Cn7Ct6rMySI/"
          ],
          [
           "https://www.instagram.com/p/CoDHF4PMPQO/"
          ],
          [
           "https://www.instagram.com/p/CoIJaVzOmsb/"
          ],
          [
           "https://www.instagram.com/p/CoNaNyENWpM/"
          ],
          [
           "https://www.instagram.com/p/CoR4L7usbpp/"
          ],
          [
           "https://www.instagram.com/p/CoXR4_rNiBf/"
          ],
          [
           "https://www.instagram.com/p/CocybkYpON-/"
          ],
          [
           "https://www.instagram.com/p/CojzmkNsLV5/"
          ],
          [
           "https://www.instagram.com/p/ConGxllN1eO/"
          ],
          [
           "https://www.instagram.com/p/CosNefxgr8O/"
          ],
          [
           "https://www.instagram.com/p/CoxUGtnpBwF/"
          ],
          [
           "https://www.instagram.com/p/Co5SkiANPfg/"
          ],
          [
           "https://www.instagram.com/p/Co-OavZouhd/"
          ],
          [
           "https://www.instagram.com/p/CpAuEUcP-DC/"
          ],
          [
           "https://www.instagram.com/p/CpDYERjPs2b/"
          ],
          [
           "https://www.instagram.com/p/CpH_UE9Nkz5/"
          ],
          [
           "https://www.instagram.com/p/CpNqi9pMU9g/"
          ],
          [
           "https://www.instagram.com/p/CpQXJmhDJt9/"
          ],
          [
           "https://www.instagram.com/p/CpU-HAXosH3/?img_index=1"
          ],
          [
           "https://www.instagram.com/p/CpfnQiwIyBa/"
          ],
          [
           "https://www.instagram.com/p/Cpm2YzAOfc_/"
          ],
          [
           "https://www.instagram.com/p/CpvIR55o9Yh/"
          ],
          [
           "https://www.instagram.com/p/Cpz4iEWA1US/"
          ],
          [
           "https://www.instagram.com/p/Cp49aL5L70d/"
          ],
          [
           "https://www.instagram.com/p/Cp-tKZ1qr2A/?img_index=1"
          ],
          [
           "https://www.instagram.com/p/CqDMql6gfYk/"
          ],
          [
           "https://www.instagram.com/p/CqK4XN5PItt/"
          ],
          [
           "https://www.instagram.com/p/CqSiji6K4o-/"
          ],
          [
           "https://www.instagram.com/p/CqXq3CtIe-j/"
          ],
          [
           "https://www.instagram.com/p/CqfsrnbM7Fq/"
          ],
          [
           "https://www.instagram.com/p/CqlHWRbICIl/"
          ],
          [
           "https://www.instagram.com/p/CqqKQdiPKgC/"
          ],
          [
           "https://www.instagram.com/p/CquxcHzIDMM/"
          ],
          [
           "https://www.instagram.com/p/Cq2sRhOJroc/"
          ],
          [
           "https://www.instagram.com/p/CrA6h1CKm_B/"
          ],
          [
           "https://www.instagram.com/p/CrBXqFnoRfL/"
          ],
          [
           "https://www.instagram.com/p/CrDY8qusOna/"
          ],
          [
           "https://www.instagram.com/p/CrI4Ga7PVjw/"
          ],
          [
           "https://www.instagram.com/p/CrNuS-4obts/"
          ],
          [
           "https://www.instagram.com/p/CrTYLu2PONF/"
          ],
          [
           "https://www.instagram.com/p/Cra3b6Hot9h/"
          ],
          [
           "https://www.instagram.com/p/Cri7Zz6Moc7/"
          ],
          [
           "https://www.instagram.com/p/Crkr23PI_uc/"
          ],
          [
           "https://www.instagram.com/p/CrlAMgtr9-T/"
          ],
          [
           "https://www.instagram.com/p/CrxxqHdoayP/"
          ],
          [
           "https://www.instagram.com/p/Cr8EpGyM14u/"
          ],
          [
           "https://www.instagram.com/p/CsEj9TjK6oz/"
          ],
          [
           "https://www.instagram.com/p/CsQnhwbouZg/"
          ],
          [
           "https://www.instagram.com/p/CsYZKQfKzrH/"
          ],
          [
           "https://www.instagram.com/p/CsgJ-tXp5Kt/"
          ],
          [
           "https://www.instagram.com/p/CslYMbXo68E/"
          ],
          [
           "https://www.instagram.com/p/CstXIUTgjdN/"
          ],
          [
           "https://www.instagram.com/p/Cs1HBEIq3l6/"
          ],
          [
           "https://www.instagram.com/p/Cs_CL30qwfo/"
          ],
          [
           "https://www.instagram.com/p/Cs_qed8IlK_/"
          ],
          [
           "https://www.instagram.com/p/CtGoB16KVmB/?img_index=1"
          ],
          [
           "https://www.instagram.com/p/CtMn8gmKF_o/"
          ],
          [
           "https://www.instagram.com/p/CtThkotI9LK/"
          ],
          [
           "https://www.instagram.com/p/CtY4bBVKX__/"
          ],
          [
           "https://www.instagram.com/p/CtbPKV-Ix0m/?img_index=1"
          ],
          [
           "https://www.instagram.com/p/CtjoBtoKFIO/?img_index=1"
          ],
          [
           "https://www.instagram.com/p/CtoRbkKIbKd/"
          ],
          [
           "https://www.instagram.com/p/CtwmQg1tq1w/"
          ],
          [
           "https://www.instagram.com/p/CuFJtzasyDZ/"
          ],
          [
           "https://www.instagram.com/p/CuHx187IDx-/"
          ],
          [
           "https://www.instagram.com/p/CuJo499tZ4Q/"
          ],
          [
           "https://www.instagram.com/p/CuRyv3BuXnm/?img_index=1"
          ],
          [
           "https://www.instagram.com/p/CuW8WIXo23c/"
          ],
          [
           "https://www.instagram.com/p/CubqdenN-eq/"
          ],
          [
           "https://www.instagram.com/p/Cul9pVQNFBQ/?img_index=1"
          ],
          [
           "https://www.instagram.com/p/CuwQ0mZt9R6/"
          ],
          [
           "https://www.instagram.com/p/Cu6kGUBo-iL/"
          ],
          [
           "https://www.instagram.com/p/CvUUCjPMRZn/"
          ],
          [
           "https://www.instagram.com/p/CvcktsBsOGC/?img_index=1"
          ],
          [
           "https://www.instagram.com/p/CvieUa1th8B/"
          ],
          [
           "https://www.instagram.com/p/CvrfF9ht6As/"
          ],
          [
           "https://www.instagram.com/p/Cv1yR64NkFY/"
          ],
          [
           "https://www.instagram.com/p/CwAJWC8MZoC/"
          ],
          [
           "https://www.instagram.com/p/CwKYpTdtMtg/"
          ],
          [
           "https://www.instagram.com/p/CwSHBoQNZnP/"
          ],
          [
           "https://www.instagram.com/p/CwZ1Z16Nk2R/?img_index=1"
          ],
          [
           "https://www.instagram.com/p/CwzsLtwI_vs/"
          ],
          [
           "https://www.instagram.com/p/Cw91HE1IOay/?img_index=1"
          ],
          [
           "https://www.instagram.com/p/CxISlxtoctS/"
          ],
          [
           "https://www.instagram.com/p/CxVlokqsJpm/"
          ],
          [
           "https://www.instagram.com/p/CxaWlyqKSYS/?img_index=1"
          ],
          [
           "https://www.instagram.com/p/CxcyFMGoiRE/"
          ],
          [
           "https://www.instagram.com/p/CxvcadgKFs9/?img_index=1"
          ],
          [
           "https://www.instagram.com/p/Cx2iCDEtOnw/?img_index=1"
          ],
          [
           "https://www.instagram.com/p/CyLIbY1Bkyu/"
          ],
          [
           "https://www.instagram.com/p/CyS2xflo9Vs/"
          ],
          [
           "https://www.instagram.com/p/CydMgztK1Tz/"
          ],
          [
           "https://www.instagram.com/p/CyndKYvNcA3/"
          ],
          [
           "https://www.instagram.com/p/CyxwVOBBba4/"
          ],
          [
           "https://www.instagram.com/p/Cy5euqGsJmx/"
          ],
          [
           "https://www.instagram.com/p/CzD_sNdrAGB/"
          ],
          [
           "https://www.instagram.com/p/CzLuEf3J8w9/"
          ],
          [
           "https://www.instagram.com/p/CzgUameoCd-/"
          ],
          [
           "https://www.instagram.com/p/CzqntGoBhqf/"
          ],
          [
           "https://www.instagram.com/p/Cz4DU4ftliD/"
          ],
          [
           "https://www.instagram.com/p/Cz_N7XBpaDQ/?img_index=1"
          ],
          [
           "https://www.instagram.com/p/C0JhGzAKWjp/?img_index=1"
          ],
          [
           "https://www.instagram.com/p/C0bb2_wi1RT/?img_index=1"
          ],
          [
           "https://www.instagram.com/p/C0wCKkNMOEB/"
          ],
          [
           "https://www.instagram.com/p/C1O7vI7r2KQ/"
          ],
          [
           "https://www.instagram.com/p/C1Wn4pItP9p/"
          ],
          [
           "https://www.instagram.com/p/C1rXVg2vxwg/"
          ],
          [
           "https://www.instagram.com/p/C12KSVFroOv/"
          ],
          [
           "https://www.instagram.com/p/C2KQ3lJBIf6/"
          ],
          [
           "https://www.instagram.com/p/C2UkERTJC6n/?img_index=1"
          ],
          [
           "https://www.instagram.com/p/C2e3RBaBc_V/"
          ],
          [
           "https://www.instagram.com/p/C2pDhcjsSQk/"
          ],
          [
           "https://www.instagram.com/p/C2wx7tcuMqK/?img_index=1"
          ],
          [
           "https://www.instagram.com/p/C24gR_6C6EG/"
          ],
          [
           "https://www.instagram.com/p/C3CzjEBL0dk/"
          ],
          [
           "https://www.instagram.com/p/C3L7HytIBPX/"
          ],
          [
           "https://www.instagram.com/p/C3XZ2TVLiUo/"
          ],
          [
           "https://www.instagram.com/p/C3hmLKzs3KV/"
          ],
          [
           "https://www.instagram.com/p/C3sHCKHrOxK/?img_index=1"
          ],
          [
           "https://www.instagram.com/p/C37jzNZyyH-/"
          ],
          [
           "https://www.instagram.com/p/C4HCmr1J9Tg/"
          ],
          [
           "https://www.instagram.com/p/C4QKOGpCqg4/"
          ],
          [
           "https://www.instagram.com/p/C4xoicbuJ8z/"
          ],
          [
           "https://www.instagram.com/p/C4-ggVkvO2b/"
          ],
          [
           "https://www.instagram.com/p/C5TG5FLNxd8/"
          ],
          [
           "https://www.instagram.com/p/C5eEskKr9AT/"
          ],
          [
           "https://www.instagram.com/p/C5ybm5luOoT/?img_index=1"
          ],
          [
           "https://www.instagram.com/p/C58F3g_I0QA/"
          ],
          [
           "https://www.instagram.com/p/C6Lil_giTQ0/"
          ],
          [
           "https://www.instagram.com/p/C6VvC45rkkP/"
          ],
          [
           "https://www.instagram.com/p/C6lSpmSypfG/"
          ],
          [
           "https://www.instagram.com/p/C6vsmiTtifz/"
          ],
          [
           "https://www.instagram.com/p/C7BWG8pshD-/"
          ],
          [
           "https://www.instagram.com/p/C7JckhhB0g9/"
          ],
          [
           "https://www.instagram.com/p/C7ZN5aRJjyi/"
          ],
          [
           "https://www.instagram.com/p/C7jFnZTpP0A/"
          ],
          [
           "https://www.instagram.com/p/C7v9oCKOfic/"
          ],
          [
           "https://www.instagram.com/p/C781m2kMWaL/"
          ],
          [
           "https://www.instagram.com/p/C8J0cVLsnKe/?img_index=1"
          ],
          [
           "https://www.instagram.com/p/C8Ri1SGSCwL/"
          ],
          [
           "https://www.instagram.com/p/C8jWocuKwqf/"
          ],
          [
           "https://www.instagram.com/p/C8wVeZuop16/"
          ],
          [
           "https://www.instagram.com/p/C87YtdDJool/"
          ],
          [
           "https://www.instagram.com/p/C9IlTePJETO/"
          ],
          [
           "https://www.instagram.com/p/C9VB2UEvQF4/?img_index=1"
          ],
          [
           "https://www.instagram.com/p/C9hJvO0o_Cs/"
          ],
          [
           "https://www.instagram.com/p/C9udKh_BPq0/"
          ],
          [
           "https://www.instagram.com/p/C97i8CKKu4V/"
          ],
          [
           "https://www.instagram.com/p/C-Ia19kPz1y/?img_index=1"
          ],
          [
           "https://www.instagram.com/p/C-VS4GzB5L5/"
          ],
          [
           "https://www.instagram.com/p/C-hr357PlvM/"
          ],
          [
           "https://www.instagram.com/p/C-ugbaRMPyC/?img_index=1"
          ],
          [
           "https://www.instagram.com/p/C--EE5kCD3I/"
          ],
          [
           "https://www.instagram.com/p/C_C_7cCopNl/"
          ],
          [
           "https://www.instagram.com/p/C_N3xm2sKLP/"
          ],
          [
           "https://www.instagram.com/p/C_XtI-LPMJK/"
          ],
          [
           "https://www.instagram.com/p/C_ffyMzMsUJ/?img_index=1"
          ],
          [
           "https://www.instagram.com/p/C_lP-plMyZX/"
          ],
          [
           "https://www.instagram.com/p/C_2s0Hlsmgf/"
          ],
          [
           "https://www.instagram.com/p/C_--SB8Ngpc/"
          ],
          [
           "https://www.instagram.com/p/DALND0thfdp/"
          ],
          [
           "https://www.instagram.com/p/DAX-Kgwsf_x/"
          ],
          [
           "https://www.instagram.com/p/DAifEjOyHq0/"
          ],
          [
           "https://www.instagram.com/p/DAk-lC4stCG/?img_index=1"
          ],
          [
           "https://www.instagram.com/p/DAs6O15M10f/?img_index=1"
          ],
          [
           "https://www.instagram.com/p/DAx09wuIN0-/"
          ],
          [
           "https://www.instagram.com/p/DA1C9qKMUbs/"
          ],
          [
           "https://www.instagram.com/p/DA8IJL_vqTj/"
          ],
          [
           "https://www.instagram.com/p/DBLrzDgCulE/"
          ],
          [
           "https://www.instagram.com/p/DBYx5vnsk4W/"
          ],
          [
           "https://www.instagram.com/p/DBi2929ClB9/?img_index=1"
          ],
          [
           "https://www.instagram.com/p/DBlbvNXCN9B/"
          ],
          [
           "https://www.instagram.com/p/DB6dkhnv7zu/?img_index=1"
          ],
          [
           "https://www.instagram.com/p/DB_7y7YBbOj/"
          ],
          [
           "https://www.instagram.com/p/DCEwxMCJYPh/"
          ],
          [
           "https://www.instagram.com/p/DCEeH-TMbVQ/?img_index=1"
          ],
          [
           "https://www.instagram.com/p/DCO9FcZp3RX/"
          ],
          [
           "https://www.instagram.com/p/DCUPkIYpIPX/"
          ],
          [
           "https://www.instagram.com/p/DCY7mXoOrGc/"
          ],
          [
           "https://www.instagram.com/p/DCjjcODMOdF/?img_index=1"
          ],
          [
           "https://www.instagram.com/p/DClw7_0NYeA/?img_index=1"
          ],
          [
           "https://www.instagram.com/p/DCq9PjXJLk3/"
          ],
          [
           "https://www.instagram.com/p/DCrOXWMIiWW/?img_index=1"
          ],
          [
           "https://www.instagram.com/p/DCrRA_FN5JX/?img_index=1"
          ],
          [
           "https://www.instagram.com/p/DCwbX0uCCE0/"
          ],
          [
           "https://www.instagram.com/p/DC1fXGKvZ_R/"
          ],
          [
           "https://www.instagram.com/p/DDKozxOtGAl/"
          ],
          [
           "https://www.instagram.com/p/DDSVL9Fvq7Y/?img_index=1"
          ],
          [
           "https://www.instagram.com/p/DDXezz5sUpw/"
          ],
          [
           "https://www.instagram.com/p/DDfNLmWIesu/"
          ],
          [
           "https://www.instagram.com/p/DDmLerOqQw-/"
          ],
          [
           "https://www.instagram.com/p/DDty_xbP8FI/?img_index=1"
          ],
          [
           "https://www.instagram.com/p/DD7bA0MocYX/"
          ],
          [
           "https://www.instagram.com/p/DEAkm9qonJZ/"
          ],
          [
           "https://www.instagram.com/p/DEFFCn7JJRm/"
          ],
          [
           "https://www.instagram.com/p/DESLlHfutr4/"
          ],
          [
           "https://www.instagram.com/p/DEaUjyUs-nk/"
          ],
          [
           "https://www.instagram.com/p/DEfQdx4O7bq/"
          ],
          [
           "https://www.instagram.com/p/DEpIPMJt2th/"
          ],
          [
           "https://www.instagram.com/p/DE4nkBEIxtA/"
          ],
          [
           "https://www.instagram.com/p/DFATSs3tlNS/"
          ],
          [
           "https://www.instagram.com/p/DFKmg9ChLdG/"
          ],
          [
           "https://www.instagram.com/p/DFU5q4xKNeP/"
          ],
          [
           "https://www.instagram.com/p/DFdOypAs9-M/"
          ],
          [
           "https://www.instagram.com/p/DFkx_JLveUu/"
          ],
          [
           "https://www.instagram.com/p/DFsEy-RNnoP/?img_index=1"
          ],
          [
           "https://www.instagram.com/p/DF-h1ryhGNa/"
          ],
          [
           "https://www.instagram.com/p/DGI0_8yMkqY/"
          ],
          [
           "https://www.instagram.com/p/DGSsuW0sr4J/"
          ],
          [
           "https://www.instagram.com/p/DGdbWqfPWZ8/?img_index=1"
          ],
          [
           "https://www.instagram.com/p/DGscr0xh0ox/"
          ],
          [
           "https://www.instagram.com/p/DG599CAMIcU/"
          ],
          [
           "https://www.instagram.com/p/DHG13PDpYxU/?img_index=1"
          ],
          [
           "https://www.instagram.com/p/DHOkPNdCLFt/"
          ],
          [
           "https://www.instagram.com/p/DHWFCt-v5Gz/"
          ],
          [
           "https://www.instagram.com/p/DHdewYfP_NV/"
          ],
          [
           "https://www.instagram.com/p/DHgm5E0t8qt/?img_index=1"
          ],
          [
           "https://www.instagram.com/p/DHoh5NMqJVR/?img_index=1"
          ],
          [
           "https://www.instagram.com/p/DHx-QOfsW2c/?img_index=1"
          ],
          [
           "https://www.instagram.com/p/DH6jcSYOW_M/"
          ],
          [
           "https://www.instagram.com/p/DID5C-CvdfH/"
          ],
          [
           "https://www.instagram.com/p/DIOnjB_hYhU/?img_index=1"
          ],
          [
           "https://www.instagram.com/p/DIZWO_2PmwH/"
          ],
          [
           "https://www.instagram.com/p/DIjpVnwhqbe/?img_index=1"
          ],
          [
           "https://www.instagram.com/p/DItuzHaB82n/"
          ],
          [
           "https://www.instagram.com/p/DI3YwV-PtK0/"
          ]
         ],
         "hovertemplate": "cafe=https://www.instagram.com/abrasileirachiado/<br>Date=%{x}<br>Ratio between Likes and Followers=%{y}<br>post_link=%{customdata[0]}<extra></extra>",
         "legendgroup": "https://www.instagram.com/abrasileirachiado/",
         "line": {
          "color": "#FFA15A",
          "dash": "solid"
         },
         "marker": {
          "symbol": "circle"
         },
         "mode": "lines",
         "name": "https://www.instagram.com/abrasileirachiado/",
         "showlegend": true,
         "type": "scattergl",
         "x": [
          "2022-12-31T00:00:00",
          "2023-01-01T00:00:00",
          "2023-01-03T00:00:00",
          "2023-01-06T00:00:00",
          "2023-01-08T00:00:00",
          "2023-01-11T00:00:00",
          "2023-01-12T00:00:00",
          "2023-01-13T00:00:00",
          "2023-01-16T00:00:00",
          "2023-01-18T00:00:00",
          "2023-01-20T00:00:00",
          "2023-01-23T00:00:00",
          "2023-01-25T00:00:00",
          "2023-01-27T00:00:00",
          "2023-01-30T00:00:00",
          "2023-02-01T00:00:00",
          "2023-02-03T00:00:00",
          "2023-02-05T00:00:00",
          "2023-02-07T00:00:00",
          "2023-02-09T00:00:00",
          "2023-02-12T00:00:00",
          "2023-02-13T00:00:00",
          "2023-02-15T00:00:00",
          "2023-02-17T00:00:00",
          "2023-02-20T00:00:00",
          "2023-02-22T00:00:00",
          "2023-02-23T00:00:00",
          "2023-02-24T00:00:00",
          "2023-02-26T00:00:00",
          "2023-02-28T00:00:00",
          "2023-03-01T00:00:00",
          "2023-03-03T00:00:00",
          "2023-03-07T00:00:00",
          "2023-03-10T00:00:00",
          "2023-03-13T00:00:00",
          "2023-03-15T00:00:00",
          "2023-03-17T00:00:00",
          "2023-03-19T00:00:00",
          "2023-03-21T00:00:00",
          "2023-03-24T00:00:00",
          "2023-03-27T00:00:00",
          "2023-03-29T00:00:00",
          "2023-04-01T00:00:00",
          "2023-04-03T00:00:00",
          "2023-04-05T00:00:00",
          "2023-04-07T00:00:00",
          "2023-04-10T00:00:00",
          "2023-04-14T00:00:00",
          "2023-04-14T00:00:00",
          "2023-04-15T00:00:00",
          "2023-04-17T00:00:00",
          "2023-04-19T00:00:00",
          "2023-04-21T00:00:00",
          "2023-04-24T00:00:00",
          "2023-04-27T00:00:00",
          "2023-04-28T00:00:00",
          "2023-04-28T00:00:00",
          "2023-05-03T00:00:00",
          "2023-05-07T00:00:00",
          "2023-05-10T00:00:00",
          "2023-05-15T00:00:00",
          "2023-05-18T00:00:00",
          "2023-05-21T00:00:00",
          "2023-05-23T00:00:00",
          "2023-05-26T00:00:00",
          "2023-05-29T00:00:00",
          "2023-06-02T00:00:00",
          "2023-06-02T00:00:00",
          "2023-06-05T00:00:00",
          "2023-06-07T00:00:00",
          "2023-06-10T00:00:00",
          "2023-06-12T00:00:00",
          "2023-06-13T00:00:00",
          "2023-06-16T00:00:00",
          "2023-06-18T00:00:00",
          "2023-06-21T00:00:00",
          "2023-06-29T00:00:00",
          "2023-06-30T00:00:00",
          "2023-07-01T00:00:00",
          "2023-07-04T00:00:00",
          "2023-07-06T00:00:00",
          "2023-07-08T00:00:00",
          "2023-07-12T00:00:00",
          "2023-07-16T00:00:00",
          "2023-07-20T00:00:00",
          "2023-07-30T00:00:00",
          "2023-08-02T00:00:00",
          "2023-08-04T00:00:00",
          "2023-08-08T00:00:00",
          "2023-08-12T00:00:00",
          "2023-08-16T00:00:00",
          "2023-08-20T00:00:00",
          "2023-08-23T00:00:00",
          "2023-08-26T00:00:00",
          "2023-09-05T00:00:00",
          "2023-09-09T00:00:00",
          "2023-09-13T00:00:00",
          "2023-09-18T00:00:00",
          "2023-09-20T00:00:00",
          "2023-09-21T00:00:00",
          "2023-09-28T00:00:00",
          "2023-10-01T00:00:00",
          "2023-10-09T00:00:00",
          "2023-10-12T00:00:00",
          "2023-10-16T00:00:00",
          "2023-10-20T00:00:00",
          "2023-10-24T00:00:00",
          "2023-10-27T00:00:00",
          "2023-10-31T00:00:00",
          "2023-11-03T00:00:00",
          "2023-11-11T00:00:00",
          "2023-11-15T00:00:00",
          "2023-11-20T00:00:00",
          "2023-11-23T00:00:00",
          "2023-11-27T00:00:00",
          "2023-12-04T00:00:00",
          "2023-12-12T00:00:00",
          "2023-12-24T00:00:00",
          "2023-12-27T00:00:00",
          "2024-01-04T00:00:00",
          "2024-01-08T00:00:00",
          "2024-01-16T00:00:00",
          "2024-01-20T00:00:00",
          "2024-01-24T00:00:00",
          "2024-01-28T00:00:00",
          "2024-01-31T00:00:00",
          "2024-02-03T00:00:00",
          "2024-02-07T00:00:00",
          "2024-02-11T00:00:00",
          "2024-02-15T00:00:00",
          "2024-02-19T00:00:00",
          "2024-02-23T00:00:00",
          "2024-02-29T00:00:00",
          "2024-03-04T00:00:00",
          "2024-03-08T00:00:00",
          "2024-03-21T00:00:00",
          "2024-03-26T00:00:00",
          "2024-04-03T00:00:00",
          "2024-04-07T00:00:00",
          "2024-04-15T00:00:00",
          "2024-04-19T00:00:00",
          "2024-04-25T00:00:00",
          "2024-04-29T00:00:00",
          "2024-05-05T00:00:00",
          "2024-05-09T00:00:00",
          "2024-05-16T00:00:00",
          "2024-05-19T00:00:00",
          "2024-05-25T00:00:00",
          "2024-05-29T00:00:00",
          "2024-06-03T00:00:00",
          "2024-06-08T00:00:00",
          "2024-06-13T00:00:00",
          "2024-06-16T00:00:00",
          "2024-06-23T00:00:00",
          "2024-06-28T00:00:00",
          "2024-07-02T00:00:00",
          "2024-07-07T00:00:00",
          "2024-07-12T00:00:00",
          "2024-07-17T00:00:00",
          "2024-07-22T00:00:00",
          "2024-07-27T00:00:00",
          "2024-08-01T00:00:00",
          "2024-08-06T00:00:00",
          "2024-08-11T00:00:00",
          "2024-08-16T00:00:00",
          "2024-08-22T00:00:00",
          "2024-08-24T00:00:00",
          "2024-08-28T00:00:00",
          "2024-09-01T00:00:00",
          "2024-09-04T00:00:00",
          "2024-09-06T00:00:00",
          "2024-09-13T00:00:00",
          "2024-09-16T00:00:00",
          "2024-09-21T00:00:00",
          "2024-09-26T00:00:00",
          "2024-09-30T00:00:00",
          "2024-10-01T00:00:00",
          "2024-10-04T00:00:00",
          "2024-10-06T00:00:00",
          "2024-10-07T00:00:00",
          "2024-10-10T00:00:00",
          "2024-10-16T00:00:00",
          "2024-10-21T00:00:00",
          "2024-10-25T00:00:00",
          "2024-10-26T00:00:00",
          "2024-11-03T00:00:00",
          "2024-11-05T00:00:00",
          "2024-11-07T00:00:00",
          "2024-11-07T00:00:00",
          "2024-11-11T00:00:00",
          "2024-11-13T00:00:00",
          "2024-11-15T00:00:00",
          "2024-11-19T00:00:00",
          "2024-11-20T00:00:00",
          "2024-11-22T00:00:00",
          "2024-11-22T00:00:00",
          "2024-11-22T00:00:00",
          "2024-11-24T00:00:00",
          "2024-11-26T00:00:00",
          "2024-12-04T00:00:00",
          "2024-12-07T00:00:00",
          "2024-12-09T00:00:00",
          "2024-12-12T00:00:00",
          "2024-12-15T00:00:00",
          "2024-12-18T00:00:00",
          "2024-12-23T00:00:00",
          "2024-12-25T00:00:00",
          "2024-12-27T00:00:00",
          "2025-01-01T00:00:00",
          "2025-01-04T00:00:00",
          "2025-01-06T00:00:00",
          "2025-01-10T00:00:00",
          "2025-01-16T00:00:00",
          "2025-01-19T00:00:00",
          "2025-01-23T00:00:00",
          "2025-01-27T00:00:00",
          "2025-01-30T00:00:00",
          "2025-02-02T00:00:00",
          "2025-02-05T00:00:00",
          "2025-02-12T00:00:00",
          "2025-02-16T00:00:00",
          "2025-02-20T00:00:00",
          "2025-02-24T00:00:00",
          "2025-03-02T00:00:00",
          "2025-03-07T00:00:00",
          "2025-03-12T00:00:00",
          "2025-03-15T00:00:00",
          "2025-03-18T00:00:00",
          "2025-03-21T00:00:00",
          "2025-03-22T00:00:00",
          "2025-03-25T00:00:00",
          "2025-03-29T00:00:00",
          "2025-04-01T00:00:00",
          "2025-04-05T00:00:00",
          "2025-04-09T00:00:00",
          "2025-04-13T00:00:00",
          "2025-04-17T00:00:00",
          "2025-04-22T00:00:00",
          "2025-04-26T00:00:00"
         ],
         "xaxis": "x",
         "y": {
          "bdata": "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",
          "dtype": "f8"
         },
         "yaxis": "y"
        },
        {
         "customdata": [
          [
           "https://www.instagram.com/p/Cm13OVQuwf1/"
          ],
          [
           "https://www.instagram.com/p/Cm9gEt2NYgY/"
          ],
          [
           "https://www.instagram.com/p/CnHPhDRNRxf/"
          ],
          [
           "https://www.instagram.com/p/CnPge30LBT6/"
          ],
          [
           "https://www.instagram.com/p/CnZVFeztaSo/"
          ],
          [
           "https://www.instagram.com/p/CnboJF4tUF8/"
          ],
          [
           "https://www.instagram.com/p/Cnou-z-tB5T/"
          ],
          [
           "https://www.instagram.com/p/CnrIk9SojYZ/?img_index=1"
          ],
          [
           "https://www.instagram.com/p/CnzBB5BtrrK/"
          ],
          [
           "https://www.instagram.com/p/CoDPtVug20y/"
          ],
          [
           "https://www.instagram.com/p/CoNhiLarGQS/?img_index=1"
          ],
          [
           "https://www.instagram.com/p/CoX2L0Ogkn9/"
          ],
          [
           "https://www.instagram.com/p/CofiL1iLD7-/"
          ],
          [
           "https://www.instagram.com/p/ConYUqHtYTe/"
          ],
          [
           "https://www.instagram.com/p/CoxUkxmrBEf/"
          ],
          [
           "https://www.instagram.com/p/Co9eWX4oKWP/"
          ],
          [
           "https://www.instagram.com/p/CpADJgdo4Wv/?img_index=1"
          ],
          [
           "https://www.instagram.com/p/CpFMu8roZjD/"
          ],
          [
           "https://www.instagram.com/p/CpNF5EvIjOU/"
          ],
          [
           "https://www.instagram.com/p/CphheuCItxf/"
          ],
          [
           "https://www.instagram.com/p/Cpmu24aovWj/"
          ],
          [
           "https://www.instagram.com/p/Cpr0pk5oC7t/"
          ],
          [
           "https://www.instagram.com/p/CpuZdQMJaNE/"
          ],
          [
           "https://www.instagram.com/p/Cp-DLnCs5xO/"
          ],
          [
           "https://www.instagram.com/p/CqBJvdrsP1w/"
          ],
          [
           "https://www.instagram.com/p/CqITxOSO6zi/"
          ],
          [
           "https://www.instagram.com/p/CqNdWN7uKBg/"
          ],
          [
           "https://www.instagram.com/p/CqSgA9RIJy6/"
          ],
          [
           "https://www.instagram.com/p/CqaOZHLItZm/"
          ],
          [
           "https://www.instagram.com/p/Cqh88kOPm_y/"
          ],
          [
           "https://www.instagram.com/p/CqnGdzXMAzp/?img_index=1"
          ],
          [
           "https://www.instagram.com/p/Cqz-a5dv1D4/"
          ],
          [
           "https://www.instagram.com/p/Cq2jM0aO4e0/"
          ],
          [
           "https://www.instagram.com/p/CrA1a1IuT6Q/?img_index=1"
          ],
          [
           "https://www.instagram.com/p/CrNkBBoo_dt/"
          ],
          [
           "https://www.instagram.com/p/CrQTGEFIaNJ/"
          ],
          [
           "https://www.instagram.com/p/CrVSY_4ojia/?img_index=1"
          ],
          [
           "https://www.instagram.com/p/Crab-SHIBmb/"
          ],
          [
           "https://www.instagram.com/p/CrgXF2joQ8z/"
          ],
          [
           "https://www.instagram.com/p/CrvOcLHMk4C/?img_index=1"
          ],
          [
           "https://www.instagram.com/p/Cr0WOWdoGFi/"
          ],
          [
           "https://www.instagram.com/p/Cr76TGgI2s5/"
          ],
          [
           "https://www.instagram.com/p/CsJKUpNAXzb/"
          ],
          [
           "https://www.instagram.com/p/CsLXJegOUx-/?img_index=1"
          ],
          [
           "https://www.instagram.com/p/CsTkasSuUQX/"
          ],
          [
           "https://www.instagram.com/p/CsYBYXGs5Ez/"
          ],
          [
           "https://www.instagram.com/p/CsdYuY7u5M7/?img_index=1"
          ],
          [
           "https://www.instagram.com/p/Csopq8NMuaV/"
          ],
          [
           "https://www.instagram.com/p/CsrDz25MIcq/"
          ],
          [
           "https://www.instagram.com/p/Cs1J9P_vuL4/"
          ],
          [
           "https://www.instagram.com/p/Cs8iBY1Mkmv/"
          ],
          [
           "https://www.instagram.com/p/CtMYxFruPyi/"
          ],
          [
           "https://www.instagram.com/p/CtRjnXGOssu/"
          ],
          [
           "https://www.instagram.com/p/CtwC8ydOn80/"
          ],
          [
           "https://www.instagram.com/p/Ct1l2e6viGN/?img_index=1"
          ],
          [
           "https://www.instagram.com/p/Ct3ghPDOqHo/"
          ],
          [
           "https://www.instagram.com/p/Ct8qEnfAtNH/"
          ],
          [
           "https://www.instagram.com/p/CuBzs1dO2kZ/"
          ],
          [
           "https://www.instagram.com/p/CuG9SyCu5SF/"
          ],
          [
           "https://www.instagram.com/p/CuZjPYwOsqz/"
          ],
          [
           "https://www.instagram.com/p/CuhZhOFO2s-/"
          ],
          [
           "https://www.instagram.com/p/Cul2xTUIy0s/"
          ],
          [
           "https://www.instagram.com/p/CuruIruIJ7V/?img_index=1"
          ],
          [
           "https://www.instagram.com/p/Cuyuv0HhlGd/"
          ],
          [
           "https://www.instagram.com/p/Cu34V48IXVe/"
          ],
          [
           "https://www.instagram.com/p/Cu9B6z_PcLJ/"
          ],
          [
           "https://www.instagram.com/p/CvFBGibop4S/"
          ],
          [
           "https://www.instagram.com/p/CvNTre0OdDi/"
          ],
          [
           "https://www.instagram.com/p/CvrRX-EokpO/?img_index=1"
          ],
          [
           "https://www.instagram.com/p/CvxLVHroLrL/"
          ],
          [
           "https://www.instagram.com/p/CvzGnplIY89/"
          ],
          [
           "https://www.instagram.com/p/Cv1ran2IN3i/"
          ],
          [
           "https://www.instagram.com/p/Cv9ZzUoI18l/"
          ],
          [
           "https://www.instagram.com/p/CwAVrXvo6l7/"
          ],
          [
           "https://www.instagram.com/p/CwDEiEBIIil/"
          ],
          [
           "https://www.instagram.com/p/CwFILx7IiYO/"
          ],
          [
           "https://www.instagram.com/p/CwNEZN8q_QS/"
          ],
          [
           "https://www.instagram.com/p/CwQ0oVgoni_/"
          ],
          [
           "https://www.instagram.com/p/CwSKd5jo23l/?img_index=1"
          ],
          [
           "https://www.instagram.com/p/CwXJwDfotIc/"
          ],
          [
           "https://www.instagram.com/p/Cwhc7kXIb6W/"
          ],
          [
           "https://www.instagram.com/p/CwmmhRXoQGj/"
          ],
          [
           "https://www.instagram.com/p/CxFqXKgIJo3/"
          ],
          [
           "https://www.instagram.com/p/CxKz9DNCSX3/"
          ],
          [
           "https://www.instagram.com/p/CxNYvuaIRSS/"
          ],
          [
           "https://www.instagram.com/p/CxVHHqzJa9s/"
          ],
          [
           "https://www.instagram.com/p/CxXr6rXNZQM/"
          ],
          [
           "https://www.instagram.com/p/CxaQtm_IYNN/"
          ],
          [
           "https://www.instagram.com/p/Cxc1hCsIAZr/"
          ],
          [
           "https://www.instagram.com/p/Cxpte8jIwed/"
          ],
          [
           "https://www.instagram.com/p/Cxu3E3dvoK5/"
          ],
          [
           "https://www.instagram.com/p/CxxthaaoGlk/"
          ],
          [
           "https://www.instagram.com/p/Cx2YQbSqyVq/"
          ],
          [
           "https://www.instagram.com/p/CyAuWC5I2fG/"
          ],
          [
           "https://www.instagram.com/p/CyDTJNBMJWK/?img_index=1"
          ],
          [
           "https://www.instagram.com/p/CyLBhUcxlLJ/"
          ],
          [
           "https://www.instagram.com/p/CyQLHIzM2bZ/"
          ],
          [
           "https://www.instagram.com/p/CyjIMgPohDw/"
          ],
          [
           "https://www.instagram.com/p/Cyn2ZWSKZxD/"
          ],
          [
           "https://www.instagram.com/p/Cyp7IpEtwsG/"
          ],
          [
           "https://www.instagram.com/p/Cy5Q4jrsTTu/"
          ],
          [
           "https://www.instagram.com/p/Cy78tFjp6uq/"
          ],
          [
           "https://www.instagram.com/p/CzLhkoGI8rI/"
          ],
          [
           "https://www.instagram.com/p/CzOFHw4C5QC/"
          ],
          [
           "https://www.instagram.com/p/CzTOvDjioHS/"
          ],
          [
           "https://www.instagram.com/p/CzYYSEhqh8w/"
          ],
          [
           "https://www.instagram.com/p/CzfKm_CIWFm/"
          ],
          [
           "https://www.instagram.com/p/CzqZdQMOdvt/"
          ],
          [
           "https://www.instagram.com/p/CzyEw0dMltH/"
          ],
          [
           "https://www.instagram.com/p/Cz8pFk_K3CR/"
          ],
          [
           "https://www.instagram.com/p/C0BlClBK8SI/"
          ],
          [
           "https://www.instagram.com/p/C0EJxMSNdMg/"
          ],
          [
           "https://www.instagram.com/p/C0JfNXRonkm/"
          ],
          [
           "https://www.instagram.com/p/C0O7TrXibpE/"
          ],
          [
           "https://www.instagram.com/p/C0Tmlj9p40I/"
          ],
          [
           "https://www.instagram.com/p/C0hYOt7oKvg/?img_index=1"
          ],
          [
           "https://www.instagram.com/p/C0jy83DrGjB/"
          ],
          [
           "https://www.instagram.com/p/C0loIeMv5Ga/?img_index=1"
          ],
          [
           "https://www.instagram.com/p/C0oM8HqJc4o/"
          ],
          [
           "https://www.instagram.com/p/C0zXAoTogyN/"
          ],
          [
           "https://www.instagram.com/p/C01vsTZIktc/"
          ],
          [
           "https://www.instagram.com/p/C03puihpaYz/"
          ],
          [
           "https://www.instagram.com/p/C06Of03qF31/"
          ],
          [
           "https://www.instagram.com/p/C0_YFofpPYS/"
          ],
          [
           "https://www.instagram.com/p/C1CQ0nUIpBY/"
          ],
          [
           "https://www.instagram.com/p/C1EhqzFIu1F/"
          ],
          [
           "https://www.instagram.com/p/C1O04X7O_Ed/"
          ],
          [
           "https://www.instagram.com/p/C1T-cmypfXw/"
          ],
          [
           "https://www.instagram.com/p/C1ZIDsQJXRR/"
          ],
          [
           "https://www.instagram.com/p/C1g2bPHv37c/"
          ],
          [
           "https://www.instagram.com/p/C1r1vdOom7H/"
          ],
          [
           "https://www.instagram.com/p/C1wTMl9iBAs/"
          ],
          [
           "https://www.instagram.com/p/C19LLgFKo0g/"
          ],
          [
           "https://www.instagram.com/p/C2QF3QPLXPC/"
          ],
          [
           "https://www.instagram.com/p/C2Zja_nOafq/"
          ],
          [
           "https://www.instagram.com/p/C2hOTPPrwbI/"
          ],
          [
           "https://www.instagram.com/p/C2rhdl6N350/?img_index=1"
          ],
          [
           "https://www.instagram.com/p/C2wrEf_pE0I/"
          ],
          [
           "https://www.instagram.com/p/C20iRdFvRga/"
          ],
          [
           "https://www.instagram.com/p/C210pJVNW8a/"
          ],
          [
           "https://www.instagram.com/p/C3Ce3-3rlxU/"
          ],
          [
           "https://www.instagram.com/p/C3H2O_RvvjN/"
          ],
          [
           "https://www.instagram.com/p/C3PknoZJaHh/"
          ],
          [
           "https://www.instagram.com/p/C3U5X0xuvL2/"
          ],
          [
           "https://www.instagram.com/p/C3Z3yzUoFMD/"
          ],
          [
           "https://www.instagram.com/p/C3hp-ktIUY-/?img_index=1"
          ],
          [
           "https://www.instagram.com/p/C3mvvRCMZbn/"
          ],
          [
           "https://www.instagram.com/p/C3r5V9OIT2q/"
          ],
          [
           "https://www.instagram.com/p/C3znt56J94v/"
          ],
          [
           "https://www.instagram.com/p/C34xTo5sJyu/"
          ],
          [
           "https://www.instagram.com/p/C3966uRP-hi/"
          ],
          [
           "https://www.instagram.com/p/C5TschWMR5v/"
          ],
          [
           "https://www.instagram.com/p/C528QVapXyh/"
          ],
          [
           "https://www.instagram.com/p/C58F3jDSrp-/"
          ],
          [
           "https://www.instagram.com/p/C6BPantMBy-/"
          ],
          [
           "https://www.instagram.com/p/C6D0PV4IW5Z/"
          ],
          [
           "https://www.instagram.com/p/C6OMbeaqPUL/"
          ],
          [
           "https://www.instagram.com/p/C6Wm5nFNuuM/"
          ],
          [
           "https://www.instagram.com/p/C6ZdbNCsUIs/?img_index=1"
          ],
          [
           "https://www.instagram.com/p/C6igEi8MBKQ/"
          ],
          [
           "https://www.instagram.com/p/C6lE1lQqYt4/"
          ],
          [
           "https://www.instagram.com/p/C6tNvvvqnlT/"
          ],
          [
           "https://www.instagram.com/p/C6yxLJvvzQm/"
          ],
          [
           "https://www.instagram.com/p/C63NRE1C8Er/"
          ],
          [
           "https://www.instagram.com/p/C65_x_7pbD3/"
          ],
          [
           "https://www.instagram.com/p/C6_fEtys35n/"
          ],
          [
           "https://www.instagram.com/p/C7B-Rf3qZAc/"
          ],
          [
           "https://www.instagram.com/p/C7GqGkqPZR_/"
          ],
          [
           "https://www.instagram.com/p/C7MBLnmqu5j/"
          ],
          [
           "https://www.instagram.com/p/C7RLcsZqtg9/"
          ],
          [
           "https://www.instagram.com/p/C7TqDP8qOYH/"
          ],
          [
           "https://www.instagram.com/p/C7YktfTq3Me/"
          ],
          [
           "https://www.instagram.com/p/C7d-S09qZGF/"
          ],
          [
           "https://www.instagram.com/p/C7jvntPs0km/"
          ],
          [
           "https://www.instagram.com/p/C7opEk4q6cU/"
          ],
          [
           "https://www.instagram.com/p/C7v99-YKcLh/"
          ],
          [
           "https://www.instagram.com/p/C71MuejK5hX/"
          ],
          [
           "https://www.instagram.com/p/C76asIzNT-2/"
          ],
          [
           "https://www.instagram.com/p/C76aP8Qq5cL/"
          ],
          [
           "https://www.instagram.com/p/C76aCz2ONC5/"
          ],
          [
           "https://www.instagram.com/p/C7_xf37K8oW/"
          ],
          [
           "https://www.instagram.com/p/C8HhvMNt6-S/"
          ],
          [
           "https://www.instagram.com/p/C8Mrli0K4wz/"
          ],
          [
           "https://www.instagram.com/p/C8T9IKCMIKM/"
          ],
          [
           "https://www.instagram.com/p/C8fKKdmq7vA/"
          ],
          [
           "https://www.instagram.com/p/C8g7YiXKu1X/"
          ],
          [
           "https://www.instagram.com/p/C8jkYMIvvU5/"
          ],
          [
           "https://www.instagram.com/p/C8myYm3vLqG/"
          ],
          [
           "https://www.instagram.com/p/C8wZCOJq5SK/"
          ],
          [
           "https://www.instagram.com/p/C9Eo9D2Mb2D/"
          ],
          [
           "https://www.instagram.com/p/C9HlVuuqB5_/"
          ],
          [
           "https://www.instagram.com/p/C9M0cBRKvWZ/"
          ],
          [
           "https://www.instagram.com/p/C9PGSasq5PA/"
          ],
          [
           "https://www.instagram.com/p/C9UX0z3BpYp/"
          ],
          [
           "https://www.instagram.com/p/C9b8rWoMzbt/"
          ],
          [
           "https://www.instagram.com/p/C9hJuoYuKk2/"
          ],
          [
           "https://www.instagram.com/p/C9mMe5fP2qB/"
          ],
          [
           "https://www.instagram.com/p/C9rc40-tZDU/"
          ],
          [
           "https://www.instagram.com/p/C91z0QDKgwO/"
          ],
          [
           "https://www.instagram.com/p/C962S2aJ5Ih/"
          ],
          [
           "https://www.instagram.com/p/C-AJsHmqBhU/"
          ],
          [
           "https://www.instagram.com/p/C-SyFl4qaFE/"
          ],
          [
           "https://www.instagram.com/p/C-UxZvQqatw/"
          ],
          [
           "https://www.instagram.com/p/C-cmTXivRs6/"
          ],
          [
           "https://www.instagram.com/p/C-kIAsIC2fC/"
          ],
          [
           "https://www.instagram.com/p/C-uehU3tpxL/"
          ],
          [
           "https://www.instagram.com/p/C-4oRJmJEoH/"
          ],
          [
           "https://www.instagram.com/p/C-97CcPqeq6/"
          ],
          [
           "https://www.instagram.com/p/C_DG02SJMAy/"
          ],
          [
           "https://www.instagram.com/p/C_JAnEjuSBh/"
          ],
          [
           "https://www.instagram.com/p/C_LPv5AKKDy/"
          ],
          [
           "https://www.instagram.com/p/C_Sh3yRqQHg/"
          ],
          [
           "https://www.instagram.com/p/C_c4y1gKjbU/"
          ],
          [
           "https://www.instagram.com/p/C_fhHeEKlRH/"
          ],
          [
           "https://www.instagram.com/p/C_nFP_yMtmh/"
          ],
          [
           "https://www.instagram.com/p/C_vpb2voWJd/?img_index=1"
          ],
          [
           "https://www.instagram.com/p/C_0b_uBqD-k/"
          ],
          [
           "https://www.instagram.com/p/C_2eKhXMVn3/"
          ],
          [
           "https://www.instagram.com/p/C_8MvFevoQZ/"
          ],
          [
           "https://www.instagram.com/p/DADmn9xIwuO/?img_index=1"
          ],
          [
           "https://www.instagram.com/p/DAImHg-ICTD/"
          ],
          [
           "https://www.instagram.com/p/DAYReCHsBwS/"
          ],
          [
           "https://www.instagram.com/p/DAady05sbw-/"
          ],
          [
           "https://www.instagram.com/p/DAlv51sMsap/"
          ],
          [
           "https://www.instagram.com/p/DAqJYSWt-oA/"
          ],
          [
           "https://www.instagram.com/p/DAxqGesOKU1/"
          ],
          [
           "https://www.instagram.com/p/DA6dRvGM0E5/"
          ],
          [
           "https://www.instagram.com/p/DBBka8UqORf/"
          ],
          [
           "https://www.instagram.com/p/DBJF__BpNhD/"
          ],
          [
           "https://www.instagram.com/p/DBWm4TQsIEA/"
          ],
          [
           "https://www.instagram.com/p/DBd9nptqtke/?img_index=1"
          ],
          [
           "https://www.instagram.com/p/DBtAf94qE3a/"
          ],
          [
           "https://www.instagram.com/p/DBwd-HRubmY/"
          ],
          [
           "https://www.instagram.com/p/DBy-7LRBEdu/"
          ],
          [
           "https://www.instagram.com/p/DCChfIaqD1P/?img_index=1"
          ],
          [
           "https://www.instagram.com/p/DCKKpsZs-Mm/"
          ],
          [
           "https://www.instagram.com/p/DCXF5wasGTp/"
          ],
          [
           "https://www.instagram.com/p/DCZu9xtsJmN/"
          ],
          [
           "https://www.instagram.com/p/DCcspXaMP-B/"
          ],
          [
           "https://www.instagram.com/p/DCg-7xgM7yH/"
          ],
          [
           "https://www.instagram.com/p/DCjpkjetoZ6/"
          ],
          [
           "https://www.instagram.com/p/DCrcCqxMGmU/"
          ],
          [
           "https://www.instagram.com/p/DCysZliKTwM/"
          ],
          [
           "https://www.instagram.com/p/DC9chRgK6bW/"
          ],
          [
           "https://www.instagram.com/p/DDH7xAxK_17/"
          ],
          [
           "https://www.instagram.com/p/DDR83qKsLDv/"
          ],
          [
           "https://www.instagram.com/p/DDUsjztsv2I/"
          ],
          [
           "https://www.instagram.com/p/DDZxXyLPYPb/"
          ],
          [
           "https://www.instagram.com/p/DDfMrQsplr7/"
          ],
          [
           "https://www.instagram.com/p/DDhwouAhaLZ/"
          ],
          [
           "https://www.instagram.com/p/DDpjSbCO-Tn/"
          ],
          [
           "https://www.instagram.com/p/DDrzIj7qw-O/"
          ],
          [
           "https://www.instagram.com/p/DDuQeRwiWvS/"
          ],
          [
           "https://www.instagram.com/p/DDxCbMwK38i/"
          ],
          [
           "https://www.instagram.com/p/DDzqSdwsErf/?img_index=1"
          ],
          [
           "https://www.instagram.com/p/DD2QyxooLpM/"
          ],
          [
           "https://www.instagram.com/p/DD4NCQRoKcx/"
          ],
          [
           "https://www.instagram.com/p/DD6rAWPsZYq/"
          ],
          [
           "https://www.instagram.com/p/DD9RKi8P-Y3/"
          ],
          [
           "https://www.instagram.com/p/DEADEMVs_nf/"
          ],
          [
           "https://www.instagram.com/p/DEIClJ8MyQ8/"
          ],
          [
           "https://www.instagram.com/p/DEKqmzTsgUa/"
          ],
          [
           "https://www.instagram.com/p/DEPjjM5qoFN/"
          ],
          [
           "https://www.instagram.com/p/DEVHZ2vIQMw/"
          ],
          [
           "https://www.instagram.com/p/DEcac98MZZ7/?img_index=1"
          ],
          [
           "https://www.instagram.com/p/DEhXTMVsE4u/"
          ],
          [
           "https://www.instagram.com/p/DEmXoWZKv0g/"
          ],
          [
           "https://www.instagram.com/p/DEpEihvqQwv/"
          ],
          [
           "https://www.instagram.com/p/DEryt72sdzg/"
          ],
          [
           "https://www.instagram.com/p/DEwrXteqfGK/"
          ],
          [
           "https://www.instagram.com/p/DE7W6QqPnvi/"
          ],
          [
           "https://www.instagram.com/p/DE95BtYMZuA/"
          ],
          [
           "https://www.instagram.com/p/DFFeER6sVTD/"
          ],
          [
           "https://www.instagram.com/p/DFKxIt0qnjK/"
          ],
          [
           "https://www.instagram.com/p/DFNMVLaqvlw/"
          ],
          [
           "https://www.instagram.com/p/DFOLJZTgqEL/"
          ],
          [
           "https://www.instagram.com/p/DFSTEFrqyVQ/"
          ],
          [
           "https://www.instagram.com/p/DFkXC5ls6jy/"
          ],
          [
           "https://www.instagram.com/p/DFsBQTlqCMv/"
          ],
          [
           "https://www.instagram.com/p/DFxCAzNh8ol/"
          ],
          [
           "https://www.instagram.com/p/DF8MYlZq8VQ/"
          ],
          [
           "https://www.instagram.com/p/DGBTvb2O6gt/"
          ],
          [
           "https://www.instagram.com/p/DGDR4hUKk1R/"
          ],
          [
           "https://www.instagram.com/p/DGVMfn1sGGV/"
          ],
          [
           "https://www.instagram.com/p/DGa3HHZMJjd/"
          ],
          [
           "https://www.instagram.com/p/DGdFebUBgZV/"
          ],
          [
           "https://www.instagram.com/p/DGlGAM_CH5B/"
          ],
          [
           "https://www.instagram.com/p/DGntecOicvZ/"
          ],
          [
           "https://www.instagram.com/p/DG07koQKPpm/"
          ],
          [
           "https://www.instagram.com/p/DHBFexFC3Gu/"
          ],
          [
           "https://www.instagram.com/p/DHJjIeiq6x0/"
          ],
          [
           "https://www.instagram.com/p/DHN4gttMND5/"
          ],
          [
           "https://www.instagram.com/p/DHTtrDsKW-5/"
          ],
          [
           "https://www.instagram.com/p/DHa6LWxK_YQ/"
          ],
          [
           "https://www.instagram.com/p/DHgEbN1qnfp/"
          ],
          [
           "https://www.instagram.com/p/DHlFbFvKyag/"
          ],
          [
           "https://www.instagram.com/p/DHqRcEAqQ7w/"
          ],
          [
           "https://www.instagram.com/p/DH0gk7lCKrl/"
          ],
          [
           "https://www.instagram.com/p/DH3hh5qKieE/?img_index=1"
          ],
          [
           "https://www.instagram.com/p/DH7-p_9qyvI/"
          ],
          [
           "https://www.instagram.com/p/DIBbUNEMhOl/"
          ],
          [
           "https://www.instagram.com/p/DILacgDKdqg/"
          ],
          [
           "https://www.instagram.com/p/DIQlEXBJpB8/"
          ],
          [
           "https://www.instagram.com/p/DIWI8mCqu6e/"
          ],
          [
           "https://www.instagram.com/p/DIdg_-5qqPu/"
          ],
          [
           "https://www.instagram.com/p/DIiypp9KYQm/"
          ],
          [
           "https://www.instagram.com/p/DIliD5dKI4h/?img_index=1"
          ],
          [
           "https://www.instagram.com/p/DI0tedxo_uo/"
          ],
          [
           "https://www.instagram.com/p/DI3LCe_s7V3/"
          ],
          [
           "https://www.instagram.com/p/DI8jHkQqnTs/"
          ]
         ],
         "hovertemplate": "cafe=https://www.instagram.com/jeronymo_pt<br>Date=%{x}<br>Ratio between Likes and Followers=%{y}<br>post_link=%{customdata[0]}<extra></extra>",
         "legendgroup": "https://www.instagram.com/jeronymo_pt",
         "line": {
          "color": "#19d3f3",
          "dash": "solid"
         },
         "marker": {
          "symbol": "circle"
         },
         "mode": "lines",
         "name": "https://www.instagram.com/jeronymo_pt",
         "showlegend": true,
         "type": "scattergl",
         "x": [
          "2022-12-31T00:00:00",
          "2023-01-03T00:00:00",
          "2023-01-07T00:00:00",
          "2023-01-10T00:00:00",
          "2023-01-14T00:00:00",
          "2023-01-15T00:00:00",
          "2023-01-20T00:00:00",
          "2023-01-21T00:00:00",
          "2023-01-24T00:00:00",
          "2023-01-30T00:00:00",
          "2023-02-03T00:00:00",
          "2023-02-07T00:00:00",
          "2023-02-10T00:00:00",
          "2023-02-13T00:00:00",
          "2023-02-17T00:00:00",
          "2023-02-22T00:00:00",
          "2023-02-23T00:00:00",
          "2023-02-25T00:00:00",
          "2023-02-28T00:00:00",
          "2023-03-08T00:00:00",
          "2023-03-10T00:00:00",
          "2023-03-12T00:00:00",
          "2023-03-13T00:00:00",
          "2023-03-19T00:00:00",
          "2023-03-20T00:00:00",
          "2023-03-23T00:00:00",
          "2023-03-25T00:00:00",
          "2023-03-27T00:00:00",
          "2023-03-30T00:00:00",
          "2023-04-02T00:00:00",
          "2023-04-04T00:00:00",
          "2023-04-09T00:00:00",
          "2023-04-10T00:00:00",
          "2023-04-14T00:00:00",
          "2023-04-19T00:00:00",
          "2023-04-20T00:00:00",
          "2023-04-22T00:00:00",
          "2023-04-24T00:00:00",
          "2023-04-26T00:00:00",
          "2023-05-02T00:00:00",
          "2023-05-04T00:00:00",
          "2023-05-07T00:00:00",
          "2023-05-12T00:00:00",
          "2023-05-13T00:00:00",
          "2023-05-16T00:00:00",
          "2023-05-18T00:00:00",
          "2023-05-20T00:00:00",
          "2023-05-24T00:00:00",
          "2023-05-25T00:00:00",
          "2023-05-29T00:00:00",
          "2023-06-01T00:00:00",
          "2023-06-07T00:00:00",
          "2023-06-09T00:00:00",
          "2023-06-21T00:00:00",
          "2023-06-23T00:00:00",
          "2023-06-24T00:00:00",
          "2023-06-26T00:00:00",
          "2023-06-28T00:00:00",
          "2023-06-30T00:00:00",
          "2023-07-07T00:00:00",
          "2023-07-10T00:00:00",
          "2023-07-12T00:00:00",
          "2023-07-14T00:00:00",
          "2023-07-17T00:00:00",
          "2023-07-19T00:00:00",
          "2023-07-21T00:00:00",
          "2023-07-24T00:00:00",
          "2023-07-27T00:00:00",
          "2023-08-08T00:00:00",
          "2023-08-10T00:00:00",
          "2023-08-11T00:00:00",
          "2023-08-12T00:00:00",
          "2023-08-15T00:00:00",
          "2023-08-16T00:00:00",
          "2023-08-17T00:00:00",
          "2023-08-18T00:00:00",
          "2023-08-21T00:00:00",
          "2023-08-22T00:00:00",
          "2023-08-23T00:00:00",
          "2023-08-25T00:00:00",
          "2023-08-29T00:00:00",
          "2023-08-31T00:00:00",
          "2023-09-12T00:00:00",
          "2023-09-14T00:00:00",
          "2023-09-15T00:00:00",
          "2023-09-18T00:00:00",
          "2023-09-19T00:00:00",
          "2023-09-20T00:00:00",
          "2023-09-21T00:00:00",
          "2023-09-26T00:00:00",
          "2023-09-28T00:00:00",
          "2023-09-29T00:00:00",
          "2023-10-01T00:00:00",
          "2023-10-05T00:00:00",
          "2023-10-06T00:00:00",
          "2023-10-09T00:00:00",
          "2023-10-11T00:00:00",
          "2023-10-18T00:00:00",
          "2023-10-20T00:00:00",
          "2023-10-21T00:00:00",
          "2023-10-27T00:00:00",
          "2023-10-28T00:00:00",
          "2023-11-03T00:00:00",
          "2023-11-04T00:00:00",
          "2023-11-06T00:00:00",
          "2023-11-08T00:00:00",
          "2023-11-11T00:00:00",
          "2023-11-15T00:00:00",
          "2023-11-18T00:00:00",
          "2023-11-22T00:00:00",
          "2023-11-24T00:00:00",
          "2023-11-25T00:00:00",
          "2023-11-27T00:00:00",
          "2023-11-29T00:00:00",
          "2023-12-01T00:00:00",
          "2023-12-06T00:00:00",
          "2023-12-07T00:00:00",
          "2023-12-08T00:00:00",
          "2023-12-09T00:00:00",
          "2023-12-13T00:00:00",
          "2023-12-14T00:00:00",
          "2023-12-15T00:00:00",
          "2023-12-16T00:00:00",
          "2023-12-18T00:00:00",
          "2023-12-19T00:00:00",
          "2023-12-20T00:00:00",
          "2023-12-24T00:00:00",
          "2023-12-26T00:00:00",
          "2023-12-28T00:00:00",
          "2023-12-31T00:00:00",
          "2024-01-04T00:00:00",
          "2024-01-06T00:00:00",
          "2024-01-11T00:00:00",
          "2024-01-18T00:00:00",
          "2024-01-22T00:00:00",
          "2024-01-25T00:00:00",
          "2024-01-29T00:00:00",
          "2024-01-31T00:00:00",
          "2024-02-01T00:00:00",
          "2024-02-02T00:00:00",
          "2024-02-07T00:00:00",
          "2024-02-09T00:00:00",
          "2024-02-12T00:00:00",
          "2024-02-14T00:00:00",
          "2024-02-16T00:00:00",
          "2024-02-19T00:00:00",
          "2024-02-21T00:00:00",
          "2024-02-23T00:00:00",
          "2024-02-26T00:00:00",
          "2024-02-28T00:00:00",
          "2024-03-01T00:00:00",
          "2024-04-03T00:00:00",
          "2024-04-17T00:00:00",
          "2024-04-19T00:00:00",
          "2024-04-21T00:00:00",
          "2024-04-22T00:00:00",
          "2024-04-26T00:00:00",
          "2024-04-29T00:00:00",
          "2024-04-30T00:00:00",
          "2024-05-04T00:00:00",
          "2024-05-05T00:00:00",
          "2024-05-08T00:00:00",
          "2024-05-10T00:00:00",
          "2024-05-12T00:00:00",
          "2024-05-13T00:00:00",
          "2024-05-15T00:00:00",
          "2024-05-16T00:00:00",
          "2024-05-18T00:00:00",
          "2024-05-20T00:00:00",
          "2024-05-22T00:00:00",
          "2024-05-23T00:00:00",
          "2024-05-25T00:00:00",
          "2024-05-27T00:00:00",
          "2024-05-29T00:00:00",
          "2024-05-31T00:00:00",
          "2024-06-03T00:00:00",
          "2024-06-05T00:00:00",
          "2024-06-07T00:00:00",
          "2024-06-07T00:00:00",
          "2024-06-07T00:00:00",
          "2024-06-09T00:00:00",
          "2024-06-12T00:00:00",
          "2024-06-14T00:00:00",
          "2024-06-17T00:00:00",
          "2024-06-21T00:00:00",
          "2024-06-22T00:00:00",
          "2024-06-23T00:00:00",
          "2024-06-24T00:00:00",
          "2024-06-28T00:00:00",
          "2024-07-06T00:00:00",
          "2024-07-07T00:00:00",
          "2024-07-09T00:00:00",
          "2024-07-10T00:00:00",
          "2024-07-12T00:00:00",
          "2024-07-15T00:00:00",
          "2024-07-17T00:00:00",
          "2024-07-19T00:00:00",
          "2024-07-21T00:00:00",
          "2024-07-25T00:00:00",
          "2024-07-27T00:00:00",
          "2024-07-29T00:00:00",
          "2024-08-05T00:00:00",
          "2024-08-06T00:00:00",
          "2024-08-09T00:00:00",
          "2024-08-12T00:00:00",
          "2024-08-16T00:00:00",
          "2024-08-20T00:00:00",
          "2024-08-22T00:00:00",
          "2024-08-24T00:00:00",
          "2024-08-26T00:00:00",
          "2024-08-27T00:00:00",
          "2024-08-30T00:00:00",
          "2024-09-03T00:00:00",
          "2024-09-04T00:00:00",
          "2024-09-07T00:00:00",
          "2024-09-10T00:00:00",
          "2024-09-12T00:00:00",
          "2024-09-13T00:00:00",
          "2024-09-15T00:00:00",
          "2024-09-18T00:00:00",
          "2024-09-20T00:00:00",
          "2024-09-26T00:00:00",
          "2024-09-27T00:00:00",
          "2024-10-01T00:00:00",
          "2024-10-03T00:00:00",
          "2024-10-06T00:00:00",
          "2024-10-09T00:00:00",
          "2024-10-12T00:00:00",
          "2024-10-15T00:00:00",
          "2024-10-20T00:00:00",
          "2024-10-23T00:00:00",
          "2024-10-29T00:00:00",
          "2024-10-30T00:00:00",
          "2024-10-31T00:00:00",
          "2024-11-06T00:00:00",
          "2024-11-09T00:00:00",
          "2024-11-14T00:00:00",
          "2024-11-15T00:00:00",
          "2024-11-16T00:00:00",
          "2024-11-18T00:00:00",
          "2024-11-19T00:00:00",
          "2024-11-22T00:00:00",
          "2024-11-25T00:00:00",
          "2024-11-29T00:00:00",
          "2024-12-03T00:00:00",
          "2024-12-07T00:00:00",
          "2024-12-08T00:00:00",
          "2024-12-10T00:00:00",
          "2024-12-12T00:00:00",
          "2024-12-13T00:00:00",
          "2024-12-16T00:00:00",
          "2024-12-17T00:00:00",
          "2024-12-18T00:00:00",
          "2024-12-19T00:00:00",
          "2024-12-20T00:00:00",
          "2024-12-21T00:00:00",
          "2024-12-22T00:00:00",
          "2024-12-23T00:00:00",
          "2024-12-24T00:00:00",
          "2024-12-25T00:00:00",
          "2024-12-28T00:00:00",
          "2024-12-29T00:00:00",
          "2024-12-31T00:00:00",
          "2025-01-02T00:00:00",
          "2025-01-05T00:00:00",
          "2025-01-07T00:00:00",
          "2025-01-09T00:00:00",
          "2025-01-10T00:00:00",
          "2025-01-11T00:00:00",
          "2025-01-13T00:00:00",
          "2025-01-17T00:00:00",
          "2025-01-18T00:00:00",
          "2025-01-21T00:00:00",
          "2025-01-23T00:00:00",
          "2025-01-24T00:00:00",
          "2025-01-24T00:00:00",
          "2025-01-26T00:00:00",
          "2025-02-02T00:00:00",
          "2025-02-05T00:00:00",
          "2025-02-07T00:00:00",
          "2025-02-11T00:00:00",
          "2025-02-13T00:00:00",
          "2025-02-14T00:00:00",
          "2025-02-21T00:00:00",
          "2025-02-23T00:00:00",
          "2025-02-24T00:00:00",
          "2025-02-27T00:00:00",
          "2025-02-28T00:00:00",
          "2025-03-05T00:00:00",
          "2025-03-10T00:00:00",
          "2025-03-13T00:00:00",
          "2025-03-15T00:00:00",
          "2025-03-17T00:00:00",
          "2025-03-20T00:00:00",
          "2025-03-22T00:00:00",
          "2025-03-24T00:00:00",
          "2025-03-26T00:00:00",
          "2025-03-30T00:00:00",
          "2025-03-31T00:00:00",
          "2025-04-02T00:00:00",
          "2025-04-04T00:00:00",
          "2025-04-08T00:00:00",
          "2025-04-10T00:00:00",
          "2025-04-12T00:00:00",
          "2025-04-15T00:00:00",
          "2025-04-17T00:00:00",
          "2025-04-18T00:00:00",
          "2025-04-24T00:00:00",
          "2025-04-25T00:00:00",
          "2025-04-26T00:00:00"
         ],
         "xaxis": "x",
         "y": {
          "bdata": "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",
          "dtype": "f8"
         },
         "yaxis": "y"
        },
        {
         "customdata": [
          [
           "https://www.instagram.com/p/Cm11XSehg9n/"
          ],
          [
           "https://www.instagram.com/p/Cm3XRm5soUL/?img_index=1"
          ],
          [
           "https://www.instagram.com/p/Cm9kKVGvuQs/"
          ],
          [
           "https://www.instagram.com/p/CnAeWX8hyF7/"
          ],
          [
           "https://www.instagram.com/p/CnDB8PkBfw_/"
          ],
          [
           "https://www.instagram.com/p/CnKGYoEMemU/"
          ],
          [
           "https://www.instagram.com/p/CnNG7akh4te/"
          ],
          [
           "https://www.instagram.com/p/CnPgbbyhzhR/"
          ],
          [
           "https://www.instagram.com/p/CnSYLRnB3xm/"
          ],
          [
           "https://www.instagram.com/p/CnaE0ZbhEIi/"
          ],
          [
           "https://www.instagram.com/p/CncMTFiOvVG/"
          ],
          [
           "https://www.instagram.com/p/CnfGFtghHCa/"
          ],
          [
           "https://www.instagram.com/p/CnhevWQh0-t/"
          ],
          [
           "https://www.instagram.com/p/CnkfqhqBW36/"
          ],
          [
           "https://www.instagram.com/p/CnmsjJgukja/"
          ],
          [
           "https://www.instagram.com/p/CnpRGMOsfzo/"
          ],
          [
           "https://www.instagram.com/p/CnsOKMohGGJ/"
          ],
          [
           "https://www.instagram.com/p/CnuriRoBQBd/"
          ],
          [
           "https://www.instagram.com/p/CnxED05MSj1/"
          ],
          [
           "https://www.instagram.com/p/CnzA7JUq8MR/"
          ],
          [
           "https://www.instagram.com/p/Cn2OVwlsdDH/"
          ],
          [
           "https://www.instagram.com/p/Cn6h3y2KqFM/"
          ],
          [
           "https://www.instagram.com/p/Cn9lYI8spHj/"
          ],
          [
           "https://www.instagram.com/p/CoAMeC0MP2d/"
          ],
          [
           "https://www.instagram.com/p/CoDcmY_q763/"
          ],
          [
           "https://www.instagram.com/p/CoINPSUK7yz/"
          ],
          [
           "https://www.instagram.com/p/CoJ7PRqMSUC/"
          ],
          [
           "https://www.instagram.com/p/CoS6fswKFrx/"
          ],
          [
           "https://www.instagram.com/p/CoVaPwiKCHy/"
          ],
          [
           "https://www.instagram.com/p/CoZbi-oLKEW/"
          ],
          [
           "https://www.instagram.com/p/CodHzkjqV_T/"
          ],
          [
           "https://www.instagram.com/p/CoerroaLeAx/"
          ],
          [
           "https://www.instagram.com/p/Cok1nZSuNYE/"
          ],
          [
           "https://www.instagram.com/p/CopQXCDKcLu/"
          ],
          [
           "https://www.instagram.com/p/CouAyQSKCIh/"
          ],
          [
           "https://www.instagram.com/p/CoiOVZYqXDr/"
          ],
          [
           "https://www.instagram.com/p/Co1prMzM0ku/?img_index=1"
          ],
          [
           "https://www.instagram.com/p/Co4AKWQOpAN/"
          ],
          [
           "https://www.instagram.com/p/Co-aqx2OEeC/"
          ],
          [
           "https://www.instagram.com/p/CpDnTNfqeKM/"
          ],
          [
           "https://www.instagram.com/p/CpKZAFfKcUW/"
          ],
          [
           "https://www.instagram.com/p/CpVmRDGLA6X/"
          ],
          [
           "https://www.instagram.com/p/Cpcj9PPKHWG/"
          ],
          [
           "https://www.instagram.com/p/CpfvCOwN-bG/"
          ],
          [
           "https://www.instagram.com/p/CpkNvVSqJLv/"
          ],
          [
           "https://www.instagram.com/p/Cpmr2oEqrhu/"
          ],
          [
           "https://www.instagram.com/p/CpptJyNs_OD/"
          ],
          [
           "https://www.instagram.com/p/CptaHe4o28D/"
          ],
          [
           "https://www.instagram.com/p/Cpuau4dPtev/"
          ],
          [
           "https://www.instagram.com/p/CpxoLHBIBui/"
          ],
          [
           "https://www.instagram.com/p/CpzpALMAEXS/"
          ],
          [
           "https://www.instagram.com/p/Cp48ynwKbRL/"
          ],
          [
           "https://www.instagram.com/p/Cp8jYEWK19M/"
          ],
          [
           "https://www.instagram.com/p/CqFRJALqBqk/"
          ],
          [
           "https://www.instagram.com/p/CqJI7Fms94P/"
          ],
          [
           "https://www.instagram.com/p/CqQ9-EzKGp7/"
          ],
          [
           "https://www.instagram.com/p/CqTR6_FKApL/"
          ],
          [
           "https://www.instagram.com/p/CqYo7VSqG5G/"
          ],
          [
           "https://www.instagram.com/p/CqdtwqcKwCw/"
          ],
          [
           "https://www.instagram.com/p/CqjELCkKKU5/"
          ],
          [
           "https://www.instagram.com/p/CqoBlZshOrT/?img_index=1"
          ],
          [
           "https://www.instagram.com/p/CqpueVLKsV3/"
          ],
          [
           "https://www.instagram.com/p/CqvWxXyqjIc/"
          ],
          [
           "https://www.instagram.com/p/CqzpsIcq32e/"
          ],
          [
           "https://www.instagram.com/p/Cq3UZzyKqEN/"
          ],
          [
           "https://www.instagram.com/p/Cq_PVeRM0co/"
          ],
          [
           "https://www.instagram.com/p/CrJejJhgpAc/"
          ],
          [
           "https://www.instagram.com/p/CrMCigmq01S/"
          ],
          [
           "https://www.instagram.com/p/CrRMsDMLt8_/?img_index=1"
          ],
          [
           "https://www.instagram.com/p/CrY9KPRqJzO/"
          ],
          [
           "https://www.instagram.com/p/CrgUJP7LzjH/"
          ],
          [
           "https://www.instagram.com/p/CrrBa2FRq-y/?img_index=1"
          ],
          [
           "https://www.instagram.com/p/CrvhW9dKjq0/"
          ],
          [
           "https://www.instagram.com/p/Cryuc-0qyvu/"
          ],
          [
           "https://www.instagram.com/p/Cr1HFUbo92i/"
          ],
          [
           "https://www.instagram.com/p/Cr1UjyvKDii/"
          ],
          [
           "https://www.instagram.com/p/Cr5bOklsXdS/"
          ],
          [
           "https://www.instagram.com/p/Cr88ct2N7K9/"
          ],
          [
           "https://www.instagram.com/p/CsI-p9Iqe4B/"
          ],
          [
           "https://www.instagram.com/p/CsRSHbgJgIH/"
          ],
          [
           "https://www.instagram.com/p/CsZMa-EOC2D/"
          ],
          [
           "https://www.instagram.com/p/CshKcWDKvff/"
          ],
          [
           "https://www.instagram.com/p/CsirPV7KhoO/"
          ],
          [
           "https://www.instagram.com/p/Csl6CAwohC5/?img_index=1"
          ],
          [
           "https://www.instagram.com/p/CsqWHAfKXEa/"
          ],
          [
           "https://www.instagram.com/p/Cstzy32KASR/"
          ],
          [
           "https://www.instagram.com/p/CswIqgEteUM/"
          ],
          [
           "https://www.instagram.com/p/Cs6h-sWqTOB/"
          ],
          [
           "https://www.instagram.com/p/Cs_fRZosNb_/"
          ],
          [
           "https://www.instagram.com/p/CtGn293KPjF/"
          ],
          [
           "https://www.instagram.com/p/CtMeJY0sMYY/"
          ],
          [
           "https://www.instagram.com/p/CtPc55ZgqlG/"
          ],
          [
           "https://www.instagram.com/p/CtRtov3qmLt/"
          ],
          [
           "https://www.instagram.com/p/CtRiiQFsBbU/"
          ],
          [
           "https://www.instagram.com/p/CtXB3aegN9d/"
          ],
          [
           "https://www.instagram.com/p/CtcXOOVKhUC/"
          ],
          [
           "https://www.instagram.com/p/CtjrEM9KB4d/"
          ],
          [
           "https://www.instagram.com/p/CtlHUO6Mt7g/"
          ],
          [
           "https://www.instagram.com/p/CtpO7FQqL1p/"
          ],
          [
           "https://www.instagram.com/p/CtrXL8xse7y/"
          ],
          [
           "https://www.instagram.com/p/CtuJtC_PQp2/"
          ],
          [
           "https://www.instagram.com/p/Ctw_m4jqfYm/"
          ],
          [
           "https://www.instagram.com/p/Ct0-SxPKCxj/"
          ],
          [
           "https://www.instagram.com/p/Ct9ZN31MAPm/"
          ],
          [
           "https://www.instagram.com/p/CuAQZU5qCFB/"
          ],
          [
           "https://www.instagram.com/p/CuB1O7qK2X6/"
          ],
          [
           "https://www.instagram.com/p/CuFDeaYq3pn/"
          ],
          [
           "https://www.instagram.com/p/CuKmIFvKPbR/"
          ],
          [
           "https://www.instagram.com/p/CuPcuO0MMtn/"
          ],
          [
           "https://www.instagram.com/p/CuST5X0KGBZ/"
          ],
          [
           "https://www.instagram.com/p/CuXZRhzKTbe/"
          ],
          [
           "https://www.instagram.com/p/CuZn_UEq8g1/"
          ],
          [
           "https://www.instagram.com/p/CucUkPFMv3C/"
          ],
          [
           "https://www.instagram.com/p/CuhcHvQsexy/"
          ],
          [
           "https://www.instagram.com/p/CukSjFtqpt0/"
          ],
          [
           "https://www.instagram.com/p/CumvpcgqhLm/"
          ],
          [
           "https://www.instagram.com/p/CusbaOVqzRF/"
          ],
          [
           "https://www.instagram.com/p/CuwKUJbqFUm/"
          ],
          [
           "https://www.instagram.com/p/Cu43NxWqtaJ/"
          ],
          [
           "https://www.instagram.com/p/Cu6mD3eKBuT/"
          ],
          [
           "https://www.instagram.com/p/CvCKN4sKSsA/"
          ],
          [
           "https://www.instagram.com/p/CvFs8KRK6dO/"
          ],
          [
           "https://www.instagram.com/p/CvIaGeCKqOk/"
          ],
          [
           "https://www.instagram.com/p/CvPFOBkqBAr/"
          ],
          [
           "https://www.instagram.com/p/CvU3vHsqIjz/"
          ],
          [
           "https://www.instagram.com/p/CvXzIsoKKqM/"
          ],
          [
           "https://www.instagram.com/p/Cv-kbFFKDT7/"
          ],
          [
           "https://www.instagram.com/p/CwLRAlIKaSF/"
          ],
          [
           "https://www.instagram.com/p/CwTIz-5K33e/"
          ],
          [
           "https://www.instagram.com/p/CwXEtdtq66Q/"
          ],
          [
           "https://www.instagram.com/p/CwYHoJ_KDc8/"
          ],
          [
           "https://www.instagram.com/p/CwcNB4ZqLpE/"
          ],
          [
           "https://www.instagram.com/p/Cwp9b7KM0Mn/"
          ],
          [
           "https://www.instagram.com/p/Cwu8Sp5sV5z/?img_index=1"
          ],
          [
           "https://www.instagram.com/p/CwxVfiBqbAr/"
          ],
          [
           "https://www.instagram.com/p/Cw0fqlnNdu4/"
          ],
          [
           "https://www.instagram.com/p/Cw21p-AMUPP/"
          ],
          [
           "https://www.instagram.com/p/Cw7G7G8NpqN/"
          ],
          [
           "https://www.instagram.com/p/Cw9j8Ujs-kA/"
          ],
          [
           "https://www.instagram.com/p/CxDoWBNKqi2/"
          ],
          [
           "https://www.instagram.com/p/CxGPYK8ssU0/?img_index=1"
          ],
          [
           "https://www.instagram.com/p/CxLmh1ptcOF/"
          ],
          [
           "https://www.instagram.com/p/CxN7GZWNZZb/"
          ],
          [
           "https://www.instagram.com/p/CxNufBcqNUG/"
          ],
          [
           "https://www.instagram.com/p/CxOQSPoCeKh/"
          ],
          [
           "https://www.instagram.com/p/CxTV4JIs4PW/?img_index=1"
          ],
          [
           "https://www.instagram.com/p/CxV8YIboxJf/"
          ],
          [
           "https://www.instagram.com/p/CxdqSM4MeQf/?img_index=1"
          ],
          [
           "https://www.instagram.com/p/CxkI5IvKngj/"
          ],
          [
           "https://www.instagram.com/p/CxxEWGyqMbf/"
          ],
          [
           "https://www.instagram.com/p/Cx2Qs52q9PQ/"
          ],
          [
           "https://www.instagram.com/p/Cx57BIhqpnM/"
          ],
          [
           "https://www.instagram.com/p/Cx-hE4ZIOoC/"
          ],
          [
           "https://www.instagram.com/p/CyAjq3HKJki/"
          ],
          [
           "https://www.instagram.com/p/CyEFBpLOkJH/"
          ],
          [
           "https://www.instagram.com/p/CyHDhloqfGA/"
          ],
          [
           "https://www.instagram.com/p/CyKyZFdqyOv/"
          ],
          [
           "https://www.instagram.com/p/CyVSaRNqRkY/"
          ],
          [
           "https://www.instagram.com/p/CyWJc3JPY9L/"
          ],
          [
           "https://www.instagram.com/p/CybgSHGNk4Y/"
          ],
          [
           "https://www.instagram.com/p/CyeB9HyK2R_/"
          ],
          [
           "https://www.instagram.com/p/CyfFi5Ysmhu/"
          ],
          [
           "https://www.instagram.com/p/CyiMr_rNJbX/"
          ],
          [
           "https://www.instagram.com/p/CyncUl2O1vl/"
          ],
          [
           "https://www.instagram.com/p/CyvFkgtKeG4/"
          ],
          [
           "https://www.instagram.com/p/Cy0T0udqejH/"
          ],
          [
           "https://www.instagram.com/p/Cy0-6R5Lcm6/"
          ],
          [
           "https://www.instagram.com/p/Cy4FRwXKteL/"
          ],
          [
           "https://www.instagram.com/p/Cy6dC5XKJ3Y/"
          ],
          [
           "https://www.instagram.com/p/Cy43FuouUSn/"
          ],
          [
           "https://www.instagram.com/p/Cy_piKTqhJH/"
          ],
          [
           "https://www.instagram.com/p/Cy_D223M-m3/"
          ],
          [
           "https://www.instagram.com/p/CzEgJvIqU-S/"
          ],
          [
           "https://www.instagram.com/p/CzIy5ZhsviB/"
          ],
          [
           "https://www.instagram.com/p/CzL_gWOKUxu/"
          ],
          [
           "https://www.instagram.com/p/CzV6BTgMfmG/"
          ],
          [
           "https://www.instagram.com/p/CzY0qC2K2EV/"
          ],
          [
           "https://www.instagram.com/p/CzcBvooKuXM/"
          ],
          [
           "https://www.instagram.com/p/CzeYdpHKHaw/?img_index=1"
          ],
          [
           "https://www.instagram.com/p/Czgn7J1MsRp/"
          ],
          [
           "https://www.instagram.com/p/Cznw2YIKd3K/"
          ],
          [
           "https://www.instagram.com/p/CzqShxUKncC/"
          ],
          [
           "https://www.instagram.com/p/Cz1qV80qO4O/"
          ],
          [
           "https://www.instagram.com/p/Cz8YFk9KL4A/"
          ],
          [
           "https://www.instagram.com/p/C0CeOwcKAST/"
          ],
          [
           "https://www.instagram.com/p/C0ROXDqqntm/"
          ],
          [
           "https://www.instagram.com/p/C0TkF3xoq_d/"
          ],
          [
           "https://www.instagram.com/p/C0TfpTsKtgh/"
          ],
          [
           "https://www.instagram.com/p/C0e6HFBKvgJ/"
          ],
          [
           "https://www.instagram.com/p/C0kCblHKHXS/"
          ],
          [
           "https://www.instagram.com/p/C0pFks_Kc65/"
          ],
          [
           "https://www.instagram.com/p/C0qm8aPqHIC/"
          ],
          [
           "https://www.instagram.com/p/C0w9SfMKq-e/"
          ],
          [
           "https://www.instagram.com/p/C0znofVKsxE/"
          ],
          [
           "https://www.instagram.com/p/C06CAQIKtlW/"
          ],
          [
           "https://www.instagram.com/p/C08-9sjqMzn/"
          ],
          [
           "https://www.instagram.com/p/C1E5EqKKTnN/"
          ],
          [
           "https://www.instagram.com/p/C1IF-W9qZPT/"
          ],
          [
           "https://www.instagram.com/p/C1MQArLM9kF/"
          ],
          [
           "https://www.instagram.com/p/C1PQJMEsFLh/"
          ],
          [
           "https://www.instagram.com/p/C1WA2V1sqja/"
          ],
          [
           "https://www.instagram.com/p/C1bjlw2ql9C/"
          ],
          [
           "https://www.instagram.com/p/C1cbk6RMDkE/"
          ],
          [
           "https://www.instagram.com/p/C1nHYnkqRFG/"
          ],
          [
           "https://www.instagram.com/p/C1rCa2SqL9q/"
          ],
          [
           "https://www.instagram.com/p/C1uzFUwKSLk/"
          ],
          [
           "https://www.instagram.com/p/C1ztBWHsu_c/"
          ],
          [
           "https://www.instagram.com/p/C1y6hHAqwJG/"
          ],
          [
           "https://www.instagram.com/p/C1_qCEHKibw/"
          ],
          [
           "https://www.instagram.com/p/C2ExOt6KHeF/"
          ],
          [
           "https://www.instagram.com/p/C2LDbdtqFtu/"
          ],
          [
           "https://www.instagram.com/p/C2KQp8NKiP-/"
          ],
          [
           "https://www.instagram.com/p/C2VA0-kM_6M/"
          ],
          [
           "https://www.instagram.com/p/C2dNFwHK780/"
          ],
          [
           "https://www.instagram.com/p/C2kW3UGN01X/"
          ],
          [
           "https://www.instagram.com/p/C2snrEDK-s0/"
          ],
          [
           "https://www.instagram.com/p/C2xUQkoKs4v/"
          ],
          [
           "https://www.instagram.com/p/C2zuH7ELMvq/"
          ],
          [
           "https://www.instagram.com/p/C2z-Q1WNSKg/"
          ],
          [
           "https://www.instagram.com/p/C27Al7TK_In/"
          ],
          [
           "https://www.instagram.com/p/C2-0-lGKMKe/"
          ],
          [
           "https://www.instagram.com/p/C3D4rzfKsE5/"
          ],
          [
           "https://www.instagram.com/p/C3FYPcNNNga/"
          ],
          [
           "https://www.instagram.com/p/C3GPrB6qRgT/"
          ],
          [
           "https://www.instagram.com/p/C3ONqIzK4Dt/"
          ],
          [
           "https://www.instagram.com/p/C3Pz-KLqxvY/"
          ],
          [
           "https://www.instagram.com/p/C3VK8qJKFX6/"
          ],
          [
           "https://www.instagram.com/p/C3UvWYIq9RK/"
          ],
          [
           "https://www.instagram.com/p/C3YTIGcugvG/"
          ],
          [
           "https://www.instagram.com/p/C3YgIQTqMu6/"
          ],
          [
           "https://www.instagram.com/p/C3aURrQq-9b/"
          ],
          [
           "https://www.instagram.com/p/C3cqlhFKZ2H/"
          ],
          [
           "https://www.instagram.com/p/C3iqxQfKz-T/"
          ],
          [
           "https://www.instagram.com/p/C30blD1qIUS/"
          ],
          [
           "https://www.instagram.com/p/C33PCiTqMgn/"
          ],
          [
           "https://www.instagram.com/p/C38iGuYPKWY/"
          ],
          [
           "https://www.instagram.com/p/C3_EVXTKUXr/"
          ],
          [
           "https://www.instagram.com/p/C4BOkOdOzkx/"
          ],
          [
           "https://www.instagram.com/p/C4Djx0qKtIe/"
          ],
          [
           "https://www.instagram.com/p/C4JdOS4A_pu/"
          ],
          [
           "https://www.instagram.com/p/C4RJdudK7ou/"
          ],
          [
           "https://www.instagram.com/p/C4U-HFGK9Ug/"
          ],
          [
           "https://www.instagram.com/p/C4YFEZZI2Cm/"
          ],
          [
           "https://www.instagram.com/p/C4bfUzOqDCC/"
          ],
          [
           "https://www.instagram.com/p/C4c1OnqKfCF/"
          ],
          [
           "https://www.instagram.com/p/C4d8onNqNVR/"
          ],
          [
           "https://www.instagram.com/p/C4lpX-aqUQI/"
          ],
          [
           "https://www.instagram.com/p/C4oKgqsq9iF/"
          ],
          [
           "https://www.instagram.com/p/C4wCGPIqFK3/"
          ],
          [
           "https://www.instagram.com/p/C40hYdoqaif/"
          ],
          [
           "https://www.instagram.com/p/C46I8O5qqyX/"
          ],
          [
           "https://www.instagram.com/p/C481vKZqGoT/"
          ],
          [
           "https://www.instagram.com/p/C5GFfJbKtHy/"
          ],
          [
           "https://www.instagram.com/p/C5ImnOuKo7I/"
          ],
          [
           "https://www.instagram.com/p/C5LD3Uouz_u/"
          ],
          [
           "https://www.instagram.com/p/C5S1KIPqVVN/"
          ],
          [
           "https://www.instagram.com/p/C5Vd7WOqIgd/"
          ],
          [
           "https://www.instagram.com/p/C5YOdcYKs2S/"
          ],
          [
           "https://www.instagram.com/p/C5a1H-FKlRZ/?img_index=1"
          ],
          [
           "https://www.instagram.com/p/C5gQ8GhKMi9/"
          ],
          [
           "https://www.instagram.com/p/C5lsbEAqt2p/"
          ],
          [
           "https://www.instagram.com/p/C5s3zoNN0YM/"
          ],
          [
           "https://www.instagram.com/p/C5yjnhiNEvZ/"
          ],
          [
           "https://www.instagram.com/p/C589vGlq3JB/"
          ],
          [
           "https://www.instagram.com/p/C58IIUusBwA/?img_index=1"
          ],
          [
           "https://www.instagram.com/p/C6EDuOBqed4/"
          ],
          [
           "https://www.instagram.com/p/C6I6G__OAYS/"
          ],
          [
           "https://www.instagram.com/p/C6MMTC0qtfR/"
          ],
          [
           "https://www.instagram.com/p/C6LtdSHsgNK/?img_index=1"
          ],
          [
           "https://www.instagram.com/p/C6PEgynqn8E/"
          ],
          [
           "https://www.instagram.com/p/C6R02cNynMZ/"
          ],
          [
           "https://www.instagram.com/p/C6VrXgAqOcb/"
          ],
          [
           "https://www.instagram.com/p/C6ZZLVEL9RB/"
          ],
          [
           "https://www.instagram.com/p/C6cC5H6KCIm/"
          ],
          [
           "https://www.instagram.com/p/C6doQ3aqiWk/"
          ],
          [
           "https://www.instagram.com/p/C6i2GueK9DH/"
          ],
          [
           "https://www.instagram.com/p/C6oaPIZqv0R/"
          ],
          [
           "https://www.instagram.com/p/C6q95LQtGY1/"
          ],
          [
           "https://www.instagram.com/p/C6vg5CtKYr3/"
          ],
          [
           "https://www.instagram.com/p/C6zToCcN5yC/"
          ],
          [
           "https://www.instagram.com/p/C61hIkEKu6i/"
          ],
          [
           "https://www.instagram.com/p/C631H0hK6Cb/"
          ],
          [
           "https://www.instagram.com/p/C7CJTWNKAYz/"
          ],
          [
           "https://www.instagram.com/p/C7EkKnONDCG/"
          ],
          [
           "https://www.instagram.com/p/C7G3CBaK70e/"
          ],
          [
           "https://www.instagram.com/p/C7M6aaXMAtx/"
          ],
          [
           "https://www.instagram.com/p/C7LzOECKlLb/"
          ],
          [
           "https://www.instagram.com/p/C7PX_w9KVgY/"
          ],
          [
           "https://www.instagram.com/p/C7UK6MBKT_q/"
          ],
          [
           "https://www.instagram.com/p/C7cXjbbKbl_/"
          ],
          [
           "https://www.instagram.com/p/C7hmcI2KlhZ/"
          ],
          [
           "https://www.instagram.com/p/C7q5o8aqmxM/"
          ],
          [
           "https://www.instagram.com/p/C7yztPUKdzc/"
          ],
          [
           "https://www.instagram.com/p/C71VR-hKZTl/"
          ],
          [
           "https://www.instagram.com/p/C74QZWYKFfF/"
          ],
          [
           "https://www.instagram.com/p/C8DCU6HKolq/"
          ],
          [
           "https://www.instagram.com/p/C8Fa4fQqwBt/"
          ],
          [
           "https://www.instagram.com/p/C8Hs4ZGK8Au/"
          ],
          [
           "https://www.instagram.com/p/C8Jgdt8oiC0/"
          ],
          [
           "https://www.instagram.com/p/C8KFntWKVGM/"
          ],
          [
           "https://www.instagram.com/p/C8NQNCNK32X/"
          ],
          [
           "https://www.instagram.com/p/C8McSQzoCNh/"
          ],
          [
           "https://www.instagram.com/p/C8SlpCEq1e0/"
          ],
          [
           "https://www.instagram.com/p/C8XQGnvqC7N/"
          ],
          [
           "https://www.instagram.com/p/C8e_KQ8K2qT/"
          ],
          [
           "https://www.instagram.com/p/C8hAenBo7xI/?img_index=1"
          ],
          [
           "https://www.instagram.com/p/C8pCR7qolVy/"
          ],
          [
           "https://www.instagram.com/p/C8t-0qBKrNa/"
          ],
          [
           "https://www.instagram.com/p/C8wSBKsqLYw/"
          ],
          [
           "https://www.instagram.com/p/C8ysphGKIOC/"
          ],
          [
           "https://www.instagram.com/p/C85NXCEqXvP/"
          ],
          [
           "https://www.instagram.com/p/C8-Ei1AKZ0I/"
          ],
          [
           "https://www.instagram.com/p/C8953jtM6XA/?img_index=1"
          ],
          [
           "https://www.instagram.com/p/C9HlkTvKIEE/"
          ],
          [
           "https://www.instagram.com/p/C9KwAslKBzV/"
          ],
          [
           "https://www.instagram.com/p/C9MqGwCi8QH/"
          ],
          [
           "https://www.instagram.com/p/C9PedSAqacR/"
          ],
          [
           "https://www.instagram.com/p/C9Uz4ibK6DA/"
          ],
          [
           "https://www.instagram.com/p/C9X4V7uNTVd/"
          ],
          [
           "https://www.instagram.com/p/C9XNV1bqktl/"
          ],
          [
           "https://www.instagram.com/p/C9e3mijKmOv/"
          ],
          [
           "https://www.instagram.com/p/C9e3PciKlxm/"
          ],
          [
           "https://www.instagram.com/p/C9fHKf2tThz/"
          ],
          [
           "https://www.instagram.com/p/C9h7-QzN-lU/"
          ],
          [
           "https://www.instagram.com/p/C9nBq24K1T9/"
          ],
          [
           "https://www.instagram.com/p/C9xJBWhNNuL/"
          ],
          [
           "https://www.instagram.com/p/C9xaNfiqtTu/"
          ],
          [
           "https://www.instagram.com/p/C9zd2bHqcNq/"
          ],
          [
           "https://www.instagram.com/p/C92Lt7dNRv9/"
          ],
          [
           "https://www.instagram.com/p/C93gIeMPURh/"
          ],
          [
           "https://www.instagram.com/p/C97Ve0dKQWB/"
          ],
          [
           "https://www.instagram.com/p/C-BPBv_K8LE/"
          ],
          [
           "https://www.instagram.com/p/C-C8rWMKFN8/"
          ],
          [
           "https://www.instagram.com/p/C-DNbq_gqnx/"
          ],
          [
           "https://www.instagram.com/p/C-DhCH6J09l/"
          ],
          [
           "https://www.instagram.com/p/C-I1s_cpkA0/"
          ],
          [
           "https://www.instagram.com/p/C-Ny_D3Kdxt/"
          ],
          [
           "https://www.instagram.com/p/C-PC4gaMuWI/"
          ],
          [
           "https://www.instagram.com/p/C-SLgiPKcq3/"
          ],
          [
           "https://www.instagram.com/p/C-VMMRrKeXa/"
          ],
          [
           "https://www.instagram.com/p/C-XcJrjK5XA/"
          ],
          [
           "https://www.instagram.com/p/C-YXYzwKJbN/"
          ],
          [
           "https://www.instagram.com/p/C-lI1vNqnOg/"
          ],
          [
           "https://www.instagram.com/p/C-qtgOZKiFX/"
          ],
          [
           "https://www.instagram.com/p/C-vf0jsqrvv/"
          ],
          [
           "https://www.instagram.com/p/C-28d1cKfi3/"
          ],
          [
           "https://www.instagram.com/p/C-5UmahKHnG/"
          ],
          [
           "https://www.instagram.com/p/C_AlETjqGwC/"
          ],
          [
           "https://www.instagram.com/p/C_BJ7t0oouC/"
          ],
          [
           "https://www.instagram.com/p/C_AfRErM89G/?img_index=1"
          ],
          [
           "https://www.instagram.com/p/C_KsRLBqNqR/"
          ],
          [
           "https://www.instagram.com/p/C_NSRMiKint/"
          ],
          [
           "https://www.instagram.com/p/C_OIeuMKhmH/"
          ],
          [
           "https://www.instagram.com/p/C_bUMDdKtP6/"
          ],
          [
           "https://www.instagram.com/p/C_iHZP2qdnf/"
          ],
          [
           "https://www.instagram.com/p/C_i08tbMBLQ/"
          ],
          [
           "https://www.instagram.com/p/C_nxXltPL8s/"
          ],
          [
           "https://www.instagram.com/p/C_qKtisqHYL/"
          ],
          [
           "https://www.instagram.com/p/C_sfKH2Ka90/"
          ],
          [
           "https://www.instagram.com/p/C_vTSzZMJw8/"
          ],
          [
           "https://www.instagram.com/p/C_xVx9YK3I-/"
          ],
          [
           "https://www.instagram.com/p/C_0dGV2Kr7e/?img_index=1"
          ],
          [
           "https://www.instagram.com/p/C_3mS2cvoV0/"
          ],
          [
           "https://www.instagram.com/p/C_5zRhwR59e/"
          ],
          [
           "https://www.instagram.com/p/C__UCFnKbE5/"
          ],
          [
           "https://www.instagram.com/p/DABVRN6sl-Y/"
          ],
          [
           "https://www.instagram.com/p/DAEHfneqe_A/"
          ],
          [
           "https://www.instagram.com/p/DAG_9nVt1np/"
          ],
          [
           "https://www.instagram.com/p/DAJDiavM_ZR/"
          ],
          [
           "https://www.instagram.com/p/DAJvlodp7A2/?img_index=1"
          ],
          [
           "https://www.instagram.com/p/DARICd6K_8M/"
          ],
          [
           "https://www.instagram.com/p/DATPyLNsFV-/"
          ],
          [
           "https://www.instagram.com/p/DAVO-HTq7du/"
          ],
          [
           "https://www.instagram.com/p/DAZEgjPPjP7/"
          ],
          [
           "https://www.instagram.com/p/DAg-91tq5Od/"
          ],
          [
           "https://www.instagram.com/p/DAgZ78pv_B1/"
          ],
          [
           "https://www.instagram.com/p/DAksnrnqZyn/"
          ],
          [
           "https://www.instagram.com/p/DAlYpXDMBKU/"
          ],
          [
           "https://www.instagram.com/p/DArCzNmsgEt/?img_index=1"
          ],
          [
           "https://www.instagram.com/p/DAqkNVLNBH9/"
          ],
          [
           "https://www.instagram.com/p/DAtVLcmRxAQ/"
          ],
          [
           "https://www.instagram.com/p/DAvmsbHxivu/"
          ],
          [
           "https://www.instagram.com/p/DA3-P9ZqVzd/"
          ],
          [
           "https://www.instagram.com/p/DA6orxkKjR0/"
          ],
          [
           "https://www.instagram.com/p/DA-14T4q9Dd/"
          ],
          [
           "https://www.instagram.com/p/DBCBzcwJfME/"
          ],
          [
           "https://www.instagram.com/p/DBj2XZnK8dv/"
          ],
          [
           "https://www.instagram.com/p/DCFamiXqda6/"
          ],
          [
           "https://www.instagram.com/p/DCJIhOhoHQH/"
          ],
          [
           "https://www.instagram.com/p/DCJughoAG7O/"
          ],
          [
           "https://www.instagram.com/p/DCM01X-q_Sr/"
          ],
          [
           "https://www.instagram.com/p/DCgVtZQKeeE/"
          ],
          [
           "https://www.instagram.com/p/DChnmcAq3MI/"
          ],
          [
           "https://www.instagram.com/p/DCkBQdhqZh7/"
          ],
          [
           "https://www.instagram.com/p/DCpXnsuqRFD/"
          ],
          [
           "https://www.instagram.com/p/DCpX05rKBec/"
          ],
          [
           "https://www.instagram.com/p/DCtfxL3IaTD/?img_index=1"
          ],
          [
           "https://www.instagram.com/p/DC69eacMjn5/?img_index=1"
          ],
          [
           "https://www.instagram.com/p/DC81eP5qTy2/"
          ],
          [
           "https://www.instagram.com/p/DC_1TESs2sV/?img_index=1"
          ],
          [
           "https://www.instagram.com/p/DDFmaZmtBCZ/"
          ],
          [
           "https://www.instagram.com/p/DDKm0V9KKo3/"
          ],
          [
           "https://www.instagram.com/p/DDZfSuHsT1_/"
          ],
          [
           "https://www.instagram.com/p/DDdE55NuThI/"
          ],
          [
           "https://www.instagram.com/p/DDxCHH2JqEL/"
          ],
          [
           "https://www.instagram.com/p/DDzQPZEKicC/"
          ],
          [
           "https://www.instagram.com/p/DD2UU7pKhDJ/"
          ],
          [
           "https://www.instagram.com/p/DD7TACAquMF/"
          ],
          [
           "https://www.instagram.com/p/DD_tsoqsLWo/"
          ],
          [
           "https://www.instagram.com/p/DEQEzE2qxvP/"
          ],
          [
           "https://www.instagram.com/p/DER4Q8qtb83/"
          ],
          [
           "https://www.instagram.com/p/DEVNnI_JbKs/?img_index=1"
          ],
          [
           "https://www.instagram.com/p/DEgxGcsMSl0/"
          ],
          [
           "https://www.instagram.com/p/DEprmLqNK4w/"
          ],
          [
           "https://www.instagram.com/p/DE3kMUoonMK/"
          ],
          [
           "https://www.instagram.com/p/DE7yMYhJYbx/"
          ],
          [
           "https://www.instagram.com/p/DFJAjTdK0VR/"
          ],
          [
           "https://www.instagram.com/p/DFa6FgJqUzL/"
          ],
          [
           "https://www.instagram.com/p/DFqIRwNp1-b/"
          ],
          [
           "https://www.instagram.com/p/DF2Lzg5K2BX/"
          ],
          [
           "https://www.instagram.com/p/DF5ygxjq2Fr/"
          ],
          [
           "https://www.instagram.com/p/DGAvDmqKJ9W/"
          ],
          [
           "https://www.instagram.com/p/DGDqTOOKhzF/"
          ],
          [
           "https://www.instagram.com/p/DGLC_mNqcJv/"
          ],
          [
           "https://www.instagram.com/p/DGOCV9QKwB7/"
          ],
          [
           "https://www.instagram.com/p/DGQcVZNM6jj/"
          ],
          [
           "https://www.instagram.com/p/DGgMPC_q85_/"
          ],
          [
           "https://www.instagram.com/p/DG3FihpCinV/"
          ],
          [
           "https://www.instagram.com/p/DG8MiaKMSy5/"
          ],
          [
           "https://www.instagram.com/p/DHL0oNLKME0/"
          ],
          [
           "https://www.instagram.com/p/DHtQChnKUGt/"
          ],
          [
           "https://www.instagram.com/p/DIT_nTxhSr-/"
          ],
          [
           "https://www.instagram.com/p/DIlOc3utoOc/"
          ],
          [
           "https://www.instagram.com/p/DIye63iNPc_/"
          ]
         ],
         "hovertemplate": "cafe=https://www.instagram.com/costacoffee/<br>Date=%{x}<br>Ratio between Likes and Followers=%{y}<br>post_link=%{customdata[0]}<extra></extra>",
         "legendgroup": "https://www.instagram.com/costacoffee/",
         "line": {
          "color": "#FF6692",
          "dash": "solid"
         },
         "marker": {
          "symbol": "circle"
         },
         "mode": "lines",
         "name": "https://www.instagram.com/costacoffee/",
         "showlegend": true,
         "type": "scattergl",
         "x": [
          "2022-12-31T00:00:00",
          "2023-01-01T00:00:00",
          "2023-01-03T00:00:00",
          "2023-01-04T00:00:00",
          "2023-01-05T00:00:00",
          "2023-01-08T00:00:00",
          "2023-01-09T00:00:00",
          "2023-01-10T00:00:00",
          "2023-01-11T00:00:00",
          "2023-01-14T00:00:00",
          "2023-01-15T00:00:00",
          "2023-01-16T00:00:00",
          "2023-01-17T00:00:00",
          "2023-01-18T00:00:00",
          "2023-01-19T00:00:00",
          "2023-01-20T00:00:00",
          "2023-01-21T00:00:00",
          "2023-01-22T00:00:00",
          "2023-01-23T00:00:00",
          "2023-01-24T00:00:00",
          "2023-01-25T00:00:00",
          "2023-01-27T00:00:00",
          "2023-01-28T00:00:00",
          "2023-01-29T00:00:00",
          "2023-01-30T00:00:00",
          "2023-02-01T00:00:00",
          "2023-02-02T00:00:00",
          "2023-02-05T00:00:00",
          "2023-02-06T00:00:00",
          "2023-02-08T00:00:00",
          "2023-02-09T00:00:00",
          "2023-02-10T00:00:00",
          "2023-02-12T00:00:00",
          "2023-02-14T00:00:00",
          "2023-02-16T00:00:00",
          "2023-02-17T00:00:00",
          "2023-02-19T00:00:00",
          "2023-02-20T00:00:00",
          "2023-02-22T00:00:00",
          "2023-02-24T00:00:00",
          "2023-02-27T00:00:00",
          "2023-03-03T00:00:00",
          "2023-03-06T00:00:00",
          "2023-03-07T00:00:00",
          "2023-03-09T00:00:00",
          "2023-03-10T00:00:00",
          "2023-03-11T00:00:00",
          "2023-03-13T00:00:00",
          "2023-03-13T00:00:00",
          "2023-03-14T00:00:00",
          "2023-03-15T00:00:00",
          "2023-03-17T00:00:00",
          "2023-03-18T00:00:00",
          "2023-03-22T00:00:00",
          "2023-03-23T00:00:00",
          "2023-03-26T00:00:00",
          "2023-03-27T00:00:00",
          "2023-03-29T00:00:00",
          "2023-03-31T00:00:00",
          "2023-04-02T00:00:00",
          "2023-04-04T00:00:00",
          "2023-04-05T00:00:00",
          "2023-04-07T00:00:00",
          "2023-04-09T00:00:00",
          "2023-04-10T00:00:00",
          "2023-04-13T00:00:00",
          "2023-04-17T00:00:00",
          "2023-04-18T00:00:00",
          "2023-04-20T00:00:00",
          "2023-04-23T00:00:00",
          "2023-04-26T00:00:00",
          "2023-04-30T00:00:00",
          "2023-05-02T00:00:00",
          "2023-05-03T00:00:00",
          "2023-05-04T00:00:00",
          "2023-05-04T00:00:00",
          "2023-05-06T00:00:00",
          "2023-05-07T00:00:00",
          "2023-05-12T00:00:00",
          "2023-05-15T00:00:00",
          "2023-05-18T00:00:00",
          "2023-05-21T00:00:00",
          "2023-05-22T00:00:00",
          "2023-05-23T00:00:00",
          "2023-05-25T00:00:00",
          "2023-05-26T00:00:00",
          "2023-05-27T00:00:00",
          "2023-05-31T00:00:00",
          "2023-06-02T00:00:00",
          "2023-06-05T00:00:00",
          "2023-06-07T00:00:00",
          "2023-06-08T00:00:00",
          "2023-06-09T00:00:00",
          "2023-06-09T00:00:00",
          "2023-06-11T00:00:00",
          "2023-06-13T00:00:00",
          "2023-06-16T00:00:00",
          "2023-06-17T00:00:00",
          "2023-06-18T00:00:00",
          "2023-06-19T00:00:00",
          "2023-06-20T00:00:00",
          "2023-06-21T00:00:00",
          "2023-06-23T00:00:00",
          "2023-06-26T00:00:00",
          "2023-06-27T00:00:00",
          "2023-06-28T00:00:00",
          "2023-06-29T00:00:00",
          "2023-07-01T00:00:00",
          "2023-07-03T00:00:00",
          "2023-07-04T00:00:00",
          "2023-07-06T00:00:00",
          "2023-07-07T00:00:00",
          "2023-07-08T00:00:00",
          "2023-07-10T00:00:00",
          "2023-07-11T00:00:00",
          "2023-07-12T00:00:00",
          "2023-07-14T00:00:00",
          "2023-07-16T00:00:00",
          "2023-07-19T00:00:00",
          "2023-07-20T00:00:00",
          "2023-07-23T00:00:00",
          "2023-07-24T00:00:00",
          "2023-07-25T00:00:00",
          "2023-07-28T00:00:00",
          "2023-07-30T00:00:00",
          "2023-07-31T00:00:00",
          "2023-08-15T00:00:00",
          "2023-08-20T00:00:00",
          "2023-08-23T00:00:00",
          "2023-08-25T00:00:00",
          "2023-08-25T00:00:00",
          "2023-08-27T00:00:00",
          "2023-09-01T00:00:00",
          "2023-09-03T00:00:00",
          "2023-09-04T00:00:00",
          "2023-09-05T00:00:00",
          "2023-09-06T00:00:00",
          "2023-09-08T00:00:00",
          "2023-09-09T00:00:00",
          "2023-09-11T00:00:00",
          "2023-09-12T00:00:00",
          "2023-09-14T00:00:00",
          "2023-09-15T00:00:00",
          "2023-09-15T00:00:00",
          "2023-09-15T00:00:00",
          "2023-09-17T00:00:00",
          "2023-09-18T00:00:00",
          "2023-09-21T00:00:00",
          "2023-09-24T00:00:00",
          "2023-09-29T00:00:00",
          "2023-10-01T00:00:00",
          "2023-10-02T00:00:00",
          "2023-10-04T00:00:00",
          "2023-10-05T00:00:00",
          "2023-10-06T00:00:00",
          "2023-10-07T00:00:00",
          "2023-10-09T00:00:00",
          "2023-10-13T00:00:00",
          "2023-10-13T00:00:00",
          "2023-10-15T00:00:00",
          "2023-10-16T00:00:00",
          "2023-10-17T00:00:00",
          "2023-10-18T00:00:00",
          "2023-10-20T00:00:00",
          "2023-10-23T00:00:00",
          "2023-10-25T00:00:00",
          "2023-10-25T00:00:00",
          "2023-10-26T00:00:00",
          "2023-10-27T00:00:00",
          "2023-10-27T00:00:00",
          "2023-10-29T00:00:00",
          "2023-10-29T00:00:00",
          "2023-10-31T00:00:00",
          "2023-11-02T00:00:00",
          "2023-11-03T00:00:00",
          "2023-11-07T00:00:00",
          "2023-11-08T00:00:00",
          "2023-11-09T00:00:00",
          "2023-11-10T00:00:00",
          "2023-11-11T00:00:00",
          "2023-11-14T00:00:00",
          "2023-11-15T00:00:00",
          "2023-11-19T00:00:00",
          "2023-11-22T00:00:00",
          "2023-11-24T00:00:00",
          "2023-11-30T00:00:00",
          "2023-12-01T00:00:00",
          "2023-12-01T00:00:00",
          "2023-12-05T00:00:00",
          "2023-12-07T00:00:00",
          "2023-12-09T00:00:00",
          "2023-12-10T00:00:00",
          "2023-12-12T00:00:00",
          "2023-12-13T00:00:00",
          "2023-12-16T00:00:00",
          "2023-12-17T00:00:00",
          "2023-12-20T00:00:00",
          "2023-12-21T00:00:00",
          "2023-12-23T00:00:00",
          "2023-12-24T00:00:00",
          "2023-12-27T00:00:00",
          "2023-12-29T00:00:00",
          "2023-12-29T00:00:00",
          "2024-01-02T00:00:00",
          "2024-01-04T00:00:00",
          "2024-01-05T00:00:00",
          "2024-01-07T00:00:00",
          "2024-01-07T00:00:00",
          "2024-01-12T00:00:00",
          "2024-01-14T00:00:00",
          "2024-01-16T00:00:00",
          "2024-01-16T00:00:00",
          "2024-01-20T00:00:00",
          "2024-01-23T00:00:00",
          "2024-01-26T00:00:00",
          "2024-01-29T00:00:00",
          "2024-01-31T00:00:00",
          "2024-02-01T00:00:00",
          "2024-02-01T00:00:00",
          "2024-02-04T00:00:00",
          "2024-02-05T00:00:00",
          "2024-02-07T00:00:00",
          "2024-02-08T00:00:00",
          "2024-02-08T00:00:00",
          "2024-02-11T00:00:00",
          "2024-02-12T00:00:00",
          "2024-02-14T00:00:00",
          "2024-02-14T00:00:00",
          "2024-02-15T00:00:00",
          "2024-02-15T00:00:00",
          "2024-02-16T00:00:00",
          "2024-02-17T00:00:00",
          "2024-02-19T00:00:00",
          "2024-02-26T00:00:00",
          "2024-02-27T00:00:00",
          "2024-02-29T00:00:00",
          "2024-03-01T00:00:00",
          "2024-03-02T00:00:00",
          "2024-03-03T00:00:00",
          "2024-03-05T00:00:00",
          "2024-03-08T00:00:00",
          "2024-03-10T00:00:00",
          "2024-03-11T00:00:00",
          "2024-03-12T00:00:00",
          "2024-03-13T00:00:00",
          "2024-03-13T00:00:00",
          "2024-03-16T00:00:00",
          "2024-03-17T00:00:00",
          "2024-03-20T00:00:00",
          "2024-03-22T00:00:00",
          "2024-03-24T00:00:00",
          "2024-03-25T00:00:00",
          "2024-03-29T00:00:00",
          "2024-03-30T00:00:00",
          "2024-03-31T00:00:00",
          "2024-04-03T00:00:00",
          "2024-04-04T00:00:00",
          "2024-04-05T00:00:00",
          "2024-04-06T00:00:00",
          "2024-04-08T00:00:00",
          "2024-04-10T00:00:00",
          "2024-04-13T00:00:00",
          "2024-04-15T00:00:00",
          "2024-04-19T00:00:00",
          "2024-04-19T00:00:00",
          "2024-04-22T00:00:00",
          "2024-04-24T00:00:00",
          "2024-04-25T00:00:00",
          "2024-04-25T00:00:00",
          "2024-04-26T00:00:00",
          "2024-04-27T00:00:00",
          "2024-04-29T00:00:00",
          "2024-04-30T00:00:00",
          "2024-05-01T00:00:00",
          "2024-05-02T00:00:00",
          "2024-05-04T00:00:00",
          "2024-05-06T00:00:00",
          "2024-05-07T00:00:00",
          "2024-05-09T00:00:00",
          "2024-05-10T00:00:00",
          "2024-05-11T00:00:00",
          "2024-05-12T00:00:00",
          "2024-05-16T00:00:00",
          "2024-05-17T00:00:00",
          "2024-05-18T00:00:00",
          "2024-05-20T00:00:00",
          "2024-05-20T00:00:00",
          "2024-05-21T00:00:00",
          "2024-05-23T00:00:00",
          "2024-05-26T00:00:00",
          "2024-05-28T00:00:00",
          "2024-06-01T00:00:00",
          "2024-06-04T00:00:00",
          "2024-06-05T00:00:00",
          "2024-06-06T00:00:00",
          "2024-06-10T00:00:00",
          "2024-06-11T00:00:00",
          "2024-06-12T00:00:00",
          "2024-06-13T00:00:00",
          "2024-06-13T00:00:00",
          "2024-06-14T00:00:00",
          "2024-06-14T00:00:00",
          "2024-06-16T00:00:00",
          "2024-06-18T00:00:00",
          "2024-06-21T00:00:00",
          "2024-06-22T00:00:00",
          "2024-06-25T00:00:00",
          "2024-06-27T00:00:00",
          "2024-06-28T00:00:00",
          "2024-06-29T00:00:00",
          "2024-07-01T00:00:00",
          "2024-07-03T00:00:00",
          "2024-07-03T00:00:00",
          "2024-07-07T00:00:00",
          "2024-07-08T00:00:00",
          "2024-07-09T00:00:00",
          "2024-07-10T00:00:00",
          "2024-07-12T00:00:00",
          "2024-07-13T00:00:00",
          "2024-07-13T00:00:00",
          "2024-07-16T00:00:00",
          "2024-07-16T00:00:00",
          "2024-07-16T00:00:00",
          "2024-07-17T00:00:00",
          "2024-07-19T00:00:00",
          "2024-07-23T00:00:00",
          "2024-07-23T00:00:00",
          "2024-07-24T00:00:00",
          "2024-07-25T00:00:00",
          "2024-07-26T00:00:00",
          "2024-07-27T00:00:00",
          "2024-07-29T00:00:00",
          "2024-07-30T00:00:00",
          "2024-07-30T00:00:00",
          "2024-07-30T00:00:00",
          "2024-08-01T00:00:00",
          "2024-08-03T00:00:00",
          "2024-08-04T00:00:00",
          "2024-08-05T00:00:00",
          "2024-08-06T00:00:00",
          "2024-08-07T00:00:00",
          "2024-08-07T00:00:00",
          "2024-08-12T00:00:00",
          "2024-08-14T00:00:00",
          "2024-08-16T00:00:00",
          "2024-08-19T00:00:00",
          "2024-08-20T00:00:00",
          "2024-08-23T00:00:00",
          "2024-08-23T00:00:00",
          "2024-08-23T00:00:00",
          "2024-08-27T00:00:00",
          "2024-08-28T00:00:00",
          "2024-08-28T00:00:00",
          "2024-09-02T00:00:00",
          "2024-09-05T00:00:00",
          "2024-09-05T00:00:00",
          "2024-09-07T00:00:00",
          "2024-09-08T00:00:00",
          "2024-09-09T00:00:00",
          "2024-09-10T00:00:00",
          "2024-09-11T00:00:00",
          "2024-09-12T00:00:00",
          "2024-09-13T00:00:00",
          "2024-09-14T00:00:00",
          "2024-09-16T00:00:00",
          "2024-09-17T00:00:00",
          "2024-09-18T00:00:00",
          "2024-09-19T00:00:00",
          "2024-09-20T00:00:00",
          "2024-09-20T00:00:00",
          "2024-09-23T00:00:00",
          "2024-09-24T00:00:00",
          "2024-09-25T00:00:00",
          "2024-09-26T00:00:00",
          "2024-09-29T00:00:00",
          "2024-09-29T00:00:00",
          "2024-10-01T00:00:00",
          "2024-10-01T00:00:00",
          "2024-10-03T00:00:00",
          "2024-10-03T00:00:00",
          "2024-10-04T00:00:00",
          "2024-10-05T00:00:00",
          "2024-10-08T00:00:00",
          "2024-10-09T00:00:00",
          "2024-10-11T00:00:00",
          "2024-10-12T00:00:00",
          "2024-10-25T00:00:00",
          "2024-11-07T00:00:00",
          "2024-11-09T00:00:00",
          "2024-11-09T00:00:00",
          "2024-11-10T00:00:00",
          "2024-11-18T00:00:00",
          "2024-11-18T00:00:00",
          "2024-11-19T00:00:00",
          "2024-11-21T00:00:00",
          "2024-11-21T00:00:00",
          "2024-11-23T00:00:00",
          "2024-11-28T00:00:00",
          "2024-11-29T00:00:00",
          "2024-11-30T00:00:00",
          "2024-12-02T00:00:00",
          "2024-12-04T00:00:00",
          "2024-12-10T00:00:00",
          "2024-12-11T00:00:00",
          "2024-12-19T00:00:00",
          "2024-12-20T00:00:00",
          "2024-12-21T00:00:00",
          "2024-12-23T00:00:00",
          "2024-12-25T00:00:00",
          "2024-12-31T00:00:00",
          "2025-01-01T00:00:00",
          "2025-01-02T00:00:00",
          "2025-01-07T00:00:00",
          "2025-01-10T00:00:00",
          "2025-01-16T00:00:00",
          "2025-01-17T00:00:00",
          "2025-01-22T00:00:00",
          "2025-01-29T00:00:00",
          "2025-02-04T00:00:00",
          "2025-02-09T00:00:00",
          "2025-02-10T00:00:00",
          "2025-02-13T00:00:00",
          "2025-02-14T00:00:00",
          "2025-02-17T00:00:00",
          "2025-02-18T00:00:00",
          "2025-02-19T00:00:00",
          "2025-02-25T00:00:00",
          "2025-03-06T00:00:00",
          "2025-03-08T00:00:00",
          "2025-03-14T00:00:00",
          "2025-03-27T00:00:00",
          "2025-04-11T00:00:00",
          "2025-04-18T00:00:00",
          "2025-04-24T00:00:00"
         ],
         "xaxis": "x",
         "y": {
          "bdata": "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",
          "dtype": "f8"
         },
         "yaxis": "y"
        },
        {
         "customdata": [
          [
           "https://www.instagram.com/p/Cm1hCwuLj8z/?img_index=1"
          ],
          [
           "https://www.instagram.com/p/CnAblOkgtfW/"
          ],
          [
           "https://www.instagram.com/p/CnR-0HlgfDb/"
          ],
          [
           "https://www.instagram.com/p/CnUbKLAghwg/"
          ],
          [
           "https://www.instagram.com/p/CnXIa5jrfD_/?img_index=1"
          ],
          [
           "https://www.instagram.com/p/CnhUBH6sC63/?img_index=1"
          ],
          [
           "https://www.instagram.com/p/Cno53dLMd_G/"
          ],
          [
           "https://www.instagram.com/p/Cnr95EGg-W1/"
          ],
          [
           "https://www.instagram.com/p/CnuFSC5tLpJ/"
          ],
          [
           "https://www.instagram.com/p/CoCrzIlr4ZT/"
          ],
          [
           "https://www.instagram.com/p/CoIsfUPJIyH/"
          ],
          [
           "https://www.instagram.com/p/CoM_J9hLdjg/"
          ],
          [
           "https://www.instagram.com/p/CoObC5bt6cP/"
          ],
          [
           "https://www.instagram.com/p/CoVjHL3p3XT/"
          ],
          [
           "https://www.instagram.com/p/CoUtZiVAV_6/"
          ],
          [
           "https://www.instagram.com/p/CoVlstYpbvs/"
          ],
          [
           "https://www.instagram.com/p/CoXZ6gfL_As/?img_index=1"
          ],
          [
           "https://www.instagram.com/p/CodP4btJPoU/"
          ],
          [
           "https://www.instagram.com/p/CofQUC2rCvY/?img_index=1"
          ],
          [
           "https://www.instagram.com/p/ConJyG0pTyO/"
          ],
          [
           "https://www.instagram.com/p/CopVaSJg5Un/"
          ],
          [
           "https://www.instagram.com/p/CosKsUVgOg2/"
          ],
          [
           "https://www.instagram.com/p/CpFvpl2Jnq9/?img_index=1"
          ],
          [
           "https://www.instagram.com/p/CpOHbV4JNdX/"
          ],
          [
           "https://www.instagram.com/p/CpVtpq6pOa5/?img_index=1"
          ],
          [
           "https://www.instagram.com/p/CpX1sC7rSnE/?img_index=1"
          ],
          [
           "https://www.instagram.com/p/CpafUNxL_25/?img_index=1"
          ],
          [
           "https://www.instagram.com/p/Cpc1v7Tg9NN/"
          ],
          [
           "https://www.instagram.com/p/Cpfj86dgfA1/"
          ],
          [
           "https://www.instagram.com/p/CpiWRrPpcc5/?img_index=1"
          ],
          [
           "https://www.instagram.com/p/CpsefY5pIRm/"
          ],
          [
           "https://www.instagram.com/p/CptUtOiJMlR/"
          ],
          [
           "https://www.instagram.com/p/CpxpG20Avml/"
          ],
          [
           "https://www.instagram.com/p/Cp3WtuYp5H6/"
          ],
          [
           "https://www.instagram.com/p/Cp5Hb2DrEJR/"
          ],
          [
           "https://www.instagram.com/p/Cp-ZOmxJfrS/"
          ],
          [
           "https://www.instagram.com/p/CqBBhIxAQOs/"
          ],
          [
           "https://www.instagram.com/p/CqDicW2JNoF/?img_index=1"
          ],
          [
           "https://www.instagram.com/p/CqGvft6JpbA/"
          ],
          [
           "https://www.instagram.com/p/CqIm4NHO2TG/"
          ],
          [
           "https://www.instagram.com/p/CqLTOeks7yW/?img_index=1"
          ],
          [
           "https://www.instagram.com/p/CqNgJippwHJ/"
          ],
          [
           "https://www.instagram.com/p/CqTkvTSOafl/?img_index=1"
          ],
          [
           "https://www.instagram.com/p/CqT8uBlpEDj/"
          ],
          [
           "https://www.instagram.com/p/CqYMqlzrg7S/?img_index=1"
          ],
          [
           "https://www.instagram.com/p/CqdJOEAgwAP/"
          ],
          [
           "https://www.instagram.com/p/Cqfbhm5AfIq/"
          ],
          [
           "https://www.instagram.com/p/Cqqp2Htp2l7/"
          ],
          [
           "https://www.instagram.com/p/Cq0QhFlL6a2/?img_index=1"
          ],
          [
           "https://www.instagram.com/p/Cq3AHh8gXoB/"
          ],
          [
           "https://www.instagram.com/p/Cq5EnYqM9iS/"
          ],
          [
           "https://www.instagram.com/p/CrDx7HarJXH/"
          ],
          [
           "https://www.instagram.com/p/CrGVGHjA_HZ/"
          ],
          [
           "https://www.instagram.com/p/CrJoeGeAq5Z/"
          ],
          [
           "https://www.instagram.com/p/CrLGFVAu_bf/?img_index=1"
          ],
          [
           "https://www.instagram.com/p/CrRbkgpJJAN/"
          ],
          [
           "https://www.instagram.com/p/CrTUsbXLxBd/?img_index=1"
          ],
          [
           "https://www.instagram.com/p/CrWAUFzgIs0/"
          ],
          [
           "https://www.instagram.com/p/CrlXfOhLYIj/?img_index=1"
          ],
          [
           "https://www.instagram.com/p/Crtf0Y8JhYp/"
          ],
          [
           "https://www.instagram.com/p/Cr0xG1pLUH7/"
          ],
          [
           "https://www.instagram.com/p/Cr3YKeMAbCO/"
          ],
          [
           "https://www.instagram.com/p/Cr_Th-6rUbj/?img_index=1"
          ],
          [
           "https://www.instagram.com/p/CsCKH-kJ955/"
          ],
          [
           "https://www.instagram.com/p/CsH79pRNF-T/"
          ],
          [
           "https://www.instagram.com/p/CsJdTnEOqsy/?img_index=1"
          ],
          [
           "https://www.instagram.com/p/CsTydTmA_Bp/"
          ],
          [
           "https://www.instagram.com/p/Csb2AVZJYcr/"
          ],
          [
           "https://www.instagram.com/p/CsjIp4JgxLr/"
          ],
          [
           "https://www.instagram.com/p/CsofxMvgY0w/"
          ],
          [
           "https://www.instagram.com/p/CstX_Z_gQAP/"
          ],
          [
           "https://www.instagram.com/p/CswKrQZLG48/?img_index=1"
          ],
          [
           "https://www.instagram.com/p/Cs3-rp4Aftm/"
          ],
          [
           "https://www.instagram.com/p/Cs44v_7A5qF/"
          ],
          [
           "https://www.instagram.com/p/Cs65G4Xp2Jr/"
          ],
          [
           "https://www.instagram.com/p/Cs9k50EJih6/?img_index=1"
          ],
          [
           "https://www.instagram.com/p/Cs_VhWBgxuq/"
          ],
          [
           "https://www.instagram.com/p/CtEjCLPAN4j/"
          ],
          [
           "https://www.instagram.com/p/CtMcWiKA4c8/"
          ],
          [
           "https://www.instagram.com/p/CtNKIsAJhGp/"
          ],
          [
           "https://www.instagram.com/p/CtPk7Ikp6v8/?img_index=1"
          ],
          [
           "https://www.instagram.com/p/CtRpyrigkt_/"
          ],
          [
           "https://www.instagram.com/p/CtT9z89gw97/"
          ],
          [
           "https://www.instagram.com/p/CtcdKbjpkxW/?img_index=1"
          ],
          [
           "https://www.instagram.com/p/CteXBEXg-pF/"
          ],
          [
           "https://www.instagram.com/p/Ctg2iRRreon/?img_index=1"
          ],
          [
           "https://www.instagram.com/p/CtmgpEDJjZY/?img_index=1"
          ],
          [
           "https://www.instagram.com/p/Cto1yzVAMp4/"
          ],
          [
           "https://www.instagram.com/p/CtuDT5oryDe/"
          ],
          [
           "https://www.instagram.com/p/CtwP_xcApys/"
          ],
          [
           "https://www.instagram.com/p/Ct2J9tqpg3M/"
          ],
          [
           "https://www.instagram.com/p/Ct_u_L0AhMs/"
          ],
          [
           "https://www.instagram.com/p/CuDdSMeJxAE/"
          ],
          [
           "https://www.instagram.com/p/CuFdNhHpAkj/"
          ],
          [
           "https://www.instagram.com/p/CuEyoMPg_Xb/"
          ],
          [
           "https://www.instagram.com/p/CuKArn2A0z6/"
          ],
          [
           "https://www.instagram.com/p/CuJ-9xuLxby/?img_index=1"
          ],
          [
           "https://www.instagram.com/p/CuLER4bJklA/?img_index=1"
          ],
          [
           "https://www.instagram.com/p/CuMpQVfgw79/"
          ],
          [
           "https://www.instagram.com/p/CuPYsc8r3MF/?img_index=1"
          ],
          [
           "https://www.instagram.com/p/CuSejMhJrLX/"
          ],
          [
           "https://www.instagram.com/p/CuUoTIjA5mZ/"
          ],
          [
           "https://www.instagram.com/p/CuaLsMWpfi5/?img_index=1"
          ],
          [
           "https://www.instagram.com/p/Cuh82tiJ-qm/"
          ],
          [
           "https://www.instagram.com/p/CukUr9MJG1Q/"
          ],
          [
           "https://www.instagram.com/p/Cureg_dLdNq/"
          ],
          [
           "https://www.instagram.com/p/Cu41IZ7JTLK/"
          ],
          [
           "https://www.instagram.com/p/Cu4MjmmuTGy/"
          ],
          [
           "https://www.instagram.com/p/Cu9pYgZAomO/"
          ],
          [
           "https://www.instagram.com/p/CvAMjPuAU-o/"
          ],
          [
           "https://www.instagram.com/p/CvFSwaar0_Y/"
          ],
          [
           "https://www.instagram.com/p/CvKFMEVAFwc/"
          ],
          [
           "https://www.instagram.com/p/CvNDyvCgOo4/"
          ],
          [
           "https://www.instagram.com/p/CvPntHNLt-J/?img_index=1"
          ],
          [
           "https://www.instagram.com/p/Cvac8s1xTmm/?img_index=1"
          ],
          [
           "https://www.instagram.com/p/CvfdX4sJv6_/"
          ],
          [
           "https://www.instagram.com/p/CvudMa8LVMa/?img_index=1"
          ],
          [
           "https://www.instagram.com/p/Cvz4IAsLOSg/?img_index=1"
          ],
          [
           "https://www.instagram.com/p/Cv95T2HLxYS/?img_index=1"
          ],
          [
           "https://www.instagram.com/p/CwGILrLgUhP/"
          ],
          [
           "https://www.instagram.com/p/CwIcfY-A-UP/"
          ],
          [
           "https://www.instagram.com/p/CwNLLgcgP5g/"
          ],
          [
           "https://www.instagram.com/p/CwfhOWbrO06/"
          ],
          [
           "https://www.instagram.com/p/CwlHS93RUk4/"
          ],
          [
           "https://www.instagram.com/p/CwoFXr3x-Qc/"
          ],
          [
           "https://www.instagram.com/p/Cwxbc8Rrcht/?img_index=1"
          ],
          [
           "https://www.instagram.com/p/Cwz95bvrWGr/"
          ],
          [
           "https://www.instagram.com/p/Cw2jAiIx4iJ/"
          ],
          [
           "https://www.instagram.com/p/Cw7-ilhLGI3/"
          ],
          [
           "https://www.instagram.com/p/CxA4PzwrM_V/"
          ],
          [
           "https://www.instagram.com/p/CxWBBjTpc1B/"
          ],
          [
           "https://www.instagram.com/p/CxYBSg3xUTT/"
          ],
          [
           "https://www.instagram.com/p/Cxa0qEurBjh/"
          ],
          [
           "https://www.instagram.com/p/Cxdcf2FLuY1/"
          ],
          [
           "https://www.instagram.com/p/Cxn3Vg9gTC_/"
          ],
          [
           "https://www.instagram.com/p/CxqGp5Sr5SM/"
          ],
          [
           "https://www.instagram.com/p/Cxsq3ngrOUO/?img_index=1"
          ],
          [
           "https://www.instagram.com/p/CxsouUfL_4D/?img_index=1"
          ],
          [
           "https://www.instagram.com/p/CxstLTGLmh7/?img_index=1"
          ],
          [
           "https://www.instagram.com/p/Cxsxw_grpIC/?img_index=1"
          ],
          [
           "https://www.instagram.com/p/CxsviN3rvVI/?img_index=1"
          ],
          [
           "https://www.instagram.com/p/CxvayuCr6_k/?img_index=1"
          ],
          [
           "https://www.instagram.com/p/CxxnPquAuUa/"
          ],
          [
           "https://www.instagram.com/p/Cx0Se1bxU68/?img_index=1"
          ],
          [
           "https://www.instagram.com/p/Cx23QyrROqM/"
          ],
          [
           "https://www.instagram.com/p/Cx8dbUdx4yJ/"
          ],
          [
           "https://www.instagram.com/p/Cx-wj3SL5bB/"
          ],
          [
           "https://www.instagram.com/p/CyB_e0ER53F/"
          ],
          [
           "https://www.instagram.com/p/CyQ8wOZLBQS/"
          ],
          [
           "https://www.instagram.com/p/CyTaLbyLnaG/"
          ],
          [
           "https://www.instagram.com/p/CyV1Vx8LyBu/"
          ],
          [
           "https://www.instagram.com/p/Cyn3S0mLdtk/?img_index=1"
          ],
          [
           "https://www.instagram.com/p/Cyq0Ettpb3M/?img_index=1"
          ],
          [
           "https://www.instagram.com/p/CytNLeoLbdl/?img_index=1"
          ],
          [
           "https://www.instagram.com/p/Cywvjvdx5UH/?img_index=1"
          ],
          [
           "https://www.instagram.com/p/CyyKahbLQKM/"
          ],
          [
           "https://www.instagram.com/p/Cy1kCR6g6gb/"
          ],
          [
           "https://www.instagram.com/p/Cy6PTSMxOUq/"
          ],
          [
           "https://www.instagram.com/p/Cy8jht7rscS/?img_index=1"
          ],
          [
           "https://www.instagram.com/p/CzCTqwwAb_B/"
          ],
          [
           "https://www.instagram.com/p/CzAgY1QM6nR/"
          ],
          [
           "https://www.instagram.com/p/CzGXF5TgJv1/?img_index=1"
          ],
          [
           "https://www.instagram.com/p/CzL7iSIrZ40/"
          ],
          [
           "https://www.instagram.com/p/CzOxuTcrc0u/?img_index=1"
          ],
          [
           "https://www.instagram.com/p/Czbj7IIgPmC/"
          ],
          [
           "https://www.instagram.com/p/CzeuQFIpFGh/"
          ],
          [
           "https://www.instagram.com/p/CzgUbpbRt3c/"
          ],
          [
           "https://www.instagram.com/p/Czlw9x-r3Qp/"
          ],
          [
           "https://www.instagram.com/p/CztlRXLr18J/"
          ],
          [
           "https://www.instagram.com/p/CzwKtvereWU/?img_index=1"
          ],
          [
           "https://www.instagram.com/p/Cz4Dtg8LQSN/?img_index=1"
          ],
          [
           "https://www.instagram.com/p/Cz_7xiyAI8x/"
          ],
          [
           "https://www.instagram.com/p/C0CLrqKLqVU/"
          ],
          [
           "https://www.instagram.com/p/C0Mc7u2rJbz/?img_index=1"
          ],
          [
           "https://www.instagram.com/p/C0RoteDgjp5/"
          ],
          [
           "https://www.instagram.com/p/C0UREpMrf7a/?img_index=1"
          ],
          [
           "https://www.instagram.com/p/C0dGL6LNk-m/"
          ],
          [
           "https://www.instagram.com/p/C0mRJJbAmj6/"
          ],
          [
           "https://www.instagram.com/p/C0o89RWrOGP/"
          ],
          [
           "https://www.instagram.com/p/C0rZOXsLGJ8/"
          ],
          [
           "https://www.instagram.com/p/C0uc1wXREVa/"
          ],
          [
           "https://www.instagram.com/p/C0xOTQBx8z1/"
          ],
          [
           "https://www.instagram.com/p/C0wpg2LxQ8E/"
          ],
          [
           "https://www.instagram.com/p/C02VFNutVIU/"
          ],
          [
           "https://www.instagram.com/p/C04hnVZAQbU/"
          ],
          [
           "https://www.instagram.com/p/C1AtC_Zp-Cj/"
          ],
          [
           "https://www.instagram.com/p/C1DE3nXx7zg/"
          ],
          [
           "https://www.instagram.com/p/C1UqOJbL_g8/"
          ],
          [
           "https://www.instagram.com/p/C1XLQU1LAo8/"
          ],
          [
           "https://www.instagram.com/p/C1ZpGggLQr1/"
          ],
          [
           "https://www.instagram.com/p/C1cOcZDLKDF/"
          ],
          [
           "https://www.instagram.com/p/C1hqfFVrwrT/?img_index=1"
          ],
          [
           "https://www.instagram.com/p/C1kMkOpAS2e/"
          ],
          [
           "https://www.instagram.com/p/C1pK074L8j2/"
          ],
          [
           "https://www.instagram.com/p/C1rr3VtrNiC/"
          ],
          [
           "https://www.instagram.com/p/C12clCPRl23/"
          ],
          [
           "https://www.instagram.com/p/C160rh3RK4O/"
          ],
          [
           "https://www.instagram.com/p/C2H8yovLF7t/"
          ],
          [
           "https://www.instagram.com/p/C2LRgJ7AiHS/"
          ],
          [
           "https://www.instagram.com/p/C2fR0j1LOrD/?img_index=1"
          ],
          [
           "https://www.instagram.com/p/C2lMyPnpnLn/?img_index=1"
          ],
          [
           "https://www.instagram.com/p/C2r-3ENLovV/"
          ],
          [
           "https://www.instagram.com/p/C2xLwgBr44D/"
          ],
          [
           "https://www.instagram.com/p/C2ztIVIL6Ov/"
          ],
          [
           "https://www.instagram.com/p/C22TOfcrol6/"
          ],
          [
           "https://www.instagram.com/p/C249pyuLdKW/"
          ],
          [
           "https://www.instagram.com/p/C3IKXhQrxzV/"
          ],
          [
           "https://www.instagram.com/p/C3LR6H_g8Cj/"
          ],
          [
           "https://www.instagram.com/p/C3Ygz26OPmO/"
          ],
          [
           "https://www.instagram.com/p/C3iSSE4LFum/"
          ],
          [
           "https://www.instagram.com/p/C3sbkNaLg1Z/?img_index=1"
          ],
          [
           "https://www.instagram.com/p/C321WqCrogo/"
          ],
          [
           "https://www.instagram.com/p/C4BYVTsLk-f/?img_index=1"
          ],
          [
           "https://www.instagram.com/p/C4Iuq80L7sa/?img_index=1"
          ],
          [
           "https://www.instagram.com/p/C4Q311Vrg6f/"
          ],
          [
           "https://www.instagram.com/p/C4VZifYrCMG/?img_index=1"
          ],
          [
           "https://www.instagram.com/p/C4YV1V4AJB7/"
          ],
          [
           "https://www.instagram.com/p/C4axhauMdV-/"
          ],
          [
           "https://www.instagram.com/p/C4dU5u9Lc3G/"
          ],
          [
           "https://www.instagram.com/p/C4vL7kxrCvl/"
          ],
          [
           "https://www.instagram.com/p/C4ywUjcr95g/"
          ],
          [
           "https://www.instagram.com/p/C4x0I2qLR38/"
          ],
          [
           "https://www.instagram.com/p/C40a_M0LMmn/"
          ],
          [
           "https://www.instagram.com/p/C48JiWJL5kY/"
          ],
          [
           "https://www.instagram.com/p/C5BQPVxrUQ3/"
          ],
          [
           "https://www.instagram.com/p/C5D-6XGrJoC/"
          ],
          [
           "https://www.instagram.com/p/C5JScEOLU9C/?img_index=1"
          ],
          [
           "https://www.instagram.com/p/C5OW-qirtV_/"
          ],
          [
           "https://www.instagram.com/p/C5RLo7WLgER/"
          ],
          [
           "https://www.instagram.com/p/C5ZLeUXAtCP/"
          ],
          [
           "https://www.instagram.com/p/C5gIRVvLnGH/"
          ],
          [
           "https://www.instagram.com/p/C5lhTR1r-jG/"
          ],
          [
           "https://www.instagram.com/p/C5rPVWogK6y/"
          ],
          [
           "https://www.instagram.com/p/C5vp8pdLLNv/"
          ],
          [
           "https://www.instagram.com/p/C6EpLtSrh6t/?img_index=1"
          ],
          [
           "https://www.instagram.com/p/C6KB-XhPKLL/"
          ],
          [
           "https://www.instagram.com/p/C6Mcd76A4V9/"
          ],
          [
           "https://www.instagram.com/p/C6Lv522r2l2/"
          ],
          [
           "https://www.instagram.com/p/C6OVGLiriWu/"
          ],
          [
           "https://www.instagram.com/p/C6RJybPLGsH/"
          ],
          [
           "https://www.instagram.com/p/C6WVVnGrrRR/"
          ],
          [
           "https://www.instagram.com/p/C6ZHnpeLhyR/?img_index=1"
          ],
          [
           "https://www.instagram.com/p/C6eCJRMr7t3/"
          ],
          [
           "https://www.instagram.com/p/C6jE0FBL362/"
          ],
          [
           "https://www.instagram.com/p/C6lu45eLn9D/?img_index=1"
          ],
          [
           "https://www.instagram.com/p/C6odQ1wAyxP/"
          ],
          [
           "https://www.instagram.com/p/C6rVA3YADa1/"
          ],
          [
           "https://www.instagram.com/p/C6yamzNrHn2/"
          ],
          [
           "https://www.instagram.com/p/C6zQBLcgKJ9/"
          ],
          [
           "https://www.instagram.com/p/C66aPCBrJFo/"
          ],
          [
           "https://www.instagram.com/p/C6_ijhBrq-c/"
          ],
          [
           "https://www.instagram.com/p/C7B-v4ILjEm/"
          ],
          [
           "https://www.instagram.com/p/C7FK-PygKlY/"
          ],
          [
           "https://www.instagram.com/p/C7EaTJ5gpmT/"
          ],
          [
           "https://www.instagram.com/p/C7JtTw7r5eA/"
          ],
          [
           "https://www.instagram.com/p/C7MUKunLzpk/?img_index=1"
          ],
          [
           "https://www.instagram.com/p/C7eaZuDM1or/?img_index=1"
          ],
          [
           "https://www.instagram.com/p/C7hbklVJ8xi/"
          ],
          [
           "https://www.instagram.com/p/C7mZP58pI7y/"
          ],
          [
           "https://www.instagram.com/p/C7o3DybsgTS/?img_index=1"
          ],
          [
           "https://www.instagram.com/p/C7tuaxhO4UX/?img_index=1"
          ],
          [
           "https://www.instagram.com/p/C7wodMHupZr/?img_index=1"
          ],
          [
           "https://www.instagram.com/p/C74EBkygzJ0/?img_index=1"
          ],
          [
           "https://www.instagram.com/p/C743j_ZpvNC/?img_index=1"
          ],
          [
           "https://www.instagram.com/p/C760jyKI9uv/"
          ],
          [
           "https://www.instagram.com/p/C79RJ3yg84T/?img_index=1"
          ],
          [
           "https://www.instagram.com/p/C7_0Pp9A4RS/"
          ],
          [
           "https://www.instagram.com/p/C8Fqv9cp96x/"
          ],
          [
           "https://www.instagram.com/p/C8IADlwgAax/?img_index=1"
          ],
          [
           "https://www.instagram.com/p/C8KnI8Fxobp/"
          ],
          [
           "https://www.instagram.com/p/C8M9SrlAV7s/"
          ],
          [
           "https://www.instagram.com/p/C8PLdHoA1WF/"
          ],
          [
           "https://www.instagram.com/p/C8SMySNALDL/"
          ],
          [
           "https://www.instagram.com/p/C8VJdJpplI4/?img_index=1"
          ],
          [
           "https://www.instagram.com/p/C8XIxq7ggpw/"
          ],
          [
           "https://www.instagram.com/p/C8aKlIQJkTr/"
          ],
          [
           "https://www.instagram.com/p/C8aoyFoxUm5/?img_index=1"
          ],
          [
           "https://www.instagram.com/p/C8cc8kaAG14/"
          ],
          [
           "https://www.instagram.com/p/C8cyInApYuW/"
          ],
          [
           "https://www.instagram.com/p/C8fj5LoP1Sd/"
          ],
          [
           "https://www.instagram.com/p/C8ho_HkAqhU/"
          ],
          [
           "https://www.instagram.com/p/C8mfAHMuwr_/?img_index=1"
          ],
          [
           "https://www.instagram.com/p/C8nYiGWMK41/"
          ],
          [
           "https://www.instagram.com/p/C8r1OdrpTFs/"
          ],
          [
           "https://www.instagram.com/p/C8vCoA5p3mI/"
          ],
          [
           "https://www.instagram.com/p/C8uofzVxgMV/?img_index=1"
          ],
          [
           "https://www.instagram.com/p/C8xAVjKJd55/"
          ],
          [
           "https://www.instagram.com/p/C8xvG_kJuK3/?img_index=1"
          ],
          [
           "https://www.instagram.com/p/C8zYRZnAEv8/"
          ],
          [
           "https://www.instagram.com/p/C80K1iLJxMD/"
          ],
          [
           "https://www.instagram.com/p/C82FlBgpvEN/?img_index=1"
          ],
          [
           "https://www.instagram.com/p/C82giZ4J5RO/"
          ],
          [
           "https://www.instagram.com/p/C84a8S2ADgy/"
          ],
          [
           "https://www.instagram.com/p/C9Lt9JCgAyD/"
          ],
          [
           "https://www.instagram.com/p/C9OEL1xpl-f/"
          ],
          [
           "https://www.instagram.com/p/C9QQK60JEWQ/"
          ],
          [
           "https://www.instagram.com/p/C9U5akLJPdD/"
          ],
          [
           "https://www.instagram.com/p/C9X9VQ8JjIW/?img_index=1"
          ],
          [
           "https://www.instagram.com/p/C9cxJgpJYVv/"
          ],
          [
           "https://www.instagram.com/p/C9fV1xAJ8iC/"
          ],
          [
           "https://www.instagram.com/p/C9hdZBbpdAv/"
          ],
          [
           "https://www.instagram.com/p/C9h42jdpjHr/?img_index=1"
          ],
          [
           "https://www.instagram.com/p/C9iJWjQpf6b/"
          ],
          [
           "https://www.instagram.com/p/C9h9Wwppybk/?img_index=1"
          ],
          [
           "https://www.instagram.com/p/C9k-5-QJ58C/?img_index=1"
          ],
          [
           "https://www.instagram.com/p/C9kXv15pkJr/"
          ],
          [
           "https://www.instagram.com/p/C9isfYbJSRw/?img_index=1"
          ],
          [
           "https://www.instagram.com/p/C9nXy2JPkYZ/"
          ],
          [
           "https://www.instagram.com/p/C9mzH2cJy12/?img_index=1"
          ],
          [
           "https://www.instagram.com/p/C9sLFMfx04K/"
          ],
          [
           "https://www.instagram.com/p/C9ufrMYpW7Z/"
          ],
          [
           "https://www.instagram.com/p/C9xIixKJ5AJ/"
          ],
          [
           "https://www.instagram.com/p/C90HOo8ADV7/"
          ],
          [
           "https://www.instagram.com/p/C95GqG-RfgY/?img_index=1"
          ],
          [
           "https://www.instagram.com/p/C-AgZ0BRh40/"
          ],
          [
           "https://www.instagram.com/p/C-DQmG1pTC8/"
          ],
          [
           "https://www.instagram.com/p/C-GTZ8VpKWK/?img_index=1"
          ],
          [
           "https://www.instagram.com/p/C-LEx7AxeEf/"
          ],
          [
           "https://www.instagram.com/p/C-SnRdkuRuk/"
          ],
          [
           "https://www.instagram.com/p/C-VV_UtJzxO/"
          ],
          [
           "https://www.instagram.com/p/C-c0JeipLaf/"
          ],
          [
           "https://www.instagram.com/p/C-ksy3QRjnk/"
          ],
          [
           "https://www.instagram.com/p/C-qh5IuRKqX/"
          ],
          [
           "https://www.instagram.com/p/C-sv7evxxw7/"
          ],
          [
           "https://www.instagram.com/p/C-yB4v0xCxp/"
          ],
          [
           "https://www.instagram.com/p/C-58aSZxBuS/"
          ],
          [
           "https://www.instagram.com/p/C-8iTpjp6TN/?img_index=1"
          ],
          [
           "https://www.instagram.com/p/C--0bsoRtrQ/"
          ],
          [
           "https://www.instagram.com/p/C_BFSydxEDb/?img_index=1"
          ],
          [
           "https://www.instagram.com/p/C_EDj-vxAl5/"
          ],
          [
           "https://www.instagram.com/p/C_ImQC4Jhnm/?img_index=1"
          ],
          [
           "https://www.instagram.com/p/C_JTqF2pFtO/"
          ],
          [
           "https://www.instagram.com/p/C_LMfqopFt8/?img_index=1"
          ],
          [
           "https://www.instagram.com/p/C_Qk3SaJrHO/"
          ],
          [
           "https://www.instagram.com/p/C_VnlPCJzHG/?img_index=1"
          ],
          [
           "https://www.instagram.com/p/C_dm78Ox2rM/"
          ],
          [
           "https://www.instagram.com/p/C_f9R5-p0Za/"
          ],
          [
           "https://www.instagram.com/p/C_ipi2xp7od/"
          ],
          [
           "https://www.instagram.com/p/C_lRVttx_Tq/"
          ],
          [
           "https://www.instagram.com/p/C_1EU2Rpj3R/"
          ],
          [
           "https://www.instagram.com/p/C_5xJ-WxUj8/"
          ],
          [
           "https://www.instagram.com/p/C_8Vk1cxTWv/"
          ],
          [
           "https://www.instagram.com/p/C__A1QOxplu/"
          ],
          [
           "https://www.instagram.com/p/DAD_u8mR4Mw/"
          ],
          [
           "https://www.instagram.com/p/DALn0j7x-V8/"
          ],
          [
           "https://www.instagram.com/p/DAQjyvqJQnB/?img_index=1"
          ],
          [
           "https://www.instagram.com/p/DAQ-fUwRH--/?img_index=1"
          ],
          [
           "https://www.instagram.com/p/DATIDL6RoCG/?img_index=1"
          ],
          [
           "https://www.instagram.com/p/DAYe2NfRmAS/?img_index=1"
          ],
          [
           "https://www.instagram.com/p/DAbTxBgR4Yg/"
          ],
          [
           "https://www.instagram.com/p/DAd7AGsxJRx/"
          ],
          [
           "https://www.instagram.com/p/DAgG6yjxRlU/?img_index=1"
          ],
          [
           "https://www.instagram.com/p/DAgjrD9xZIK/"
          ],
          [
           "https://www.instagram.com/p/DAg57gIJGxj/?img_index=1"
          ],
          [
           "https://www.instagram.com/p/DAilfKsR5Xm/"
          ],
          [
           "https://www.instagram.com/p/DAlymW8SI6e/"
          ],
          [
           "https://www.instagram.com/p/DAlKx6ivSM3/"
          ],
          [
           "https://www.instagram.com/p/DAn29edxewB/"
          ],
          [
           "https://www.instagram.com/p/DAqbL79oM-3/"
          ],
          [
           "https://www.instagram.com/p/DAs5Im3MOLn/"
          ],
          [
           "https://www.instagram.com/p/DAyVibSRS8Q/"
          ],
          [
           "https://www.instagram.com/p/DA0y05kRtFI/?img_index=1"
          ],
          [
           "https://www.instagram.com/p/DA57TsMxfJI/?img_index=1"
          ],
          [
           "https://www.instagram.com/p/DA_JaFngxXJ/"
          ],
          [
           "https://www.instagram.com/p/DA_WKfAvDHq/"
          ],
          [
           "https://www.instagram.com/p/DBBs4GLpKzF/?img_index=1"
          ],
          [
           "https://www.instagram.com/p/DBGwUP-J5it/"
          ],
          [
           "https://www.instagram.com/p/DBJXrZWJKup/"
          ],
          [
           "https://www.instagram.com/p/DBO_I1VRq0c/"
          ],
          [
           "https://www.instagram.com/p/DBRUm5GxbCK/"
          ],
          [
           "https://www.instagram.com/p/DBT_nC9R_ex/?img_index=1"
          ],
          [
           "https://www.instagram.com/p/DBeEZLKxmju/"
          ],
          [
           "https://www.instagram.com/p/DBjRddNRq2J/"
          ],
          [
           "https://www.instagram.com/p/DBl-oyWRCTd/"
          ],
          [
           "https://www.instagram.com/p/DBrGzItRcXJ/"
          ],
          [
           "https://www.instagram.com/p/DBweg2rxZ8p/"
          ],
          [
           "https://www.instagram.com/p/DB3u3UOxPGj/?img_index=1"
          ],
          [
           "https://www.instagram.com/p/DB6Zp6wx69v/"
          ],
          [
           "https://www.instagram.com/p/DB80oyOxmpI/?img_index=1"
          ],
          [
           "https://www.instagram.com/p/DB_Z80nRicF/"
          ],
          [
           "https://www.instagram.com/p/DCFhf-dSBd_/"
          ],
          [
           "https://www.instagram.com/p/DCJ1_46xERO/?img_index=1"
          ],
          [
           "https://www.instagram.com/p/DCRhFqhRyQ3/"
          ],
          [
           "https://www.instagram.com/p/DCU9gKnx6Gf/"
          ],
          [
           "https://www.instagram.com/p/DCUJKF7xrvc/"
          ],
          [
           "https://www.instagram.com/p/DCXkUVEJWB0/"
          ],
          [
           "https://www.instagram.com/p/DCZoSdpxawJ/"
          ],
          [
           "https://www.instagram.com/p/DCZXMwwx_WP/"
          ],
          [
           "https://www.instagram.com/p/DCcFwdWxCwT/?img_index=1"
          ],
          [
           "https://www.instagram.com/p/DCaV3hxpjP1/"
          ],
          [
           "https://www.instagram.com/p/DCeacmMxbqJ/"
          ],
          [
           "https://www.instagram.com/p/DChNIDVpjwV/"
          ],
          [
           "https://www.instagram.com/p/DCg8kv5xlIH/"
          ],
          [
           "https://www.instagram.com/p/DChoAlHhFPR/"
          ],
          [
           "https://www.instagram.com/p/DCjko_Cxcyq/"
          ],
          [
           "https://www.instagram.com/p/DCmqimGSnu1/?img_index=1"
          ],
          [
           "https://www.instagram.com/p/DCmLh0TgMBH/"
          ],
          [
           "https://www.instagram.com/p/DCpIfhNx6l5/?img_index=1"
          ],
          [
           "https://www.instagram.com/p/DCsEvGFpGU4/"
          ],
          [
           "https://www.instagram.com/p/DCuEV-Dp1ZJ/"
          ],
          [
           "https://www.instagram.com/p/DCuj0oMJZEN/?img_index=1"
          ],
          [
           "https://www.instagram.com/p/DCxWz-WRTrQ/?img_index=1"
          ],
          [
           "https://www.instagram.com/p/DCwXwOtp_Sa/"
          ],
          [
           "https://www.instagram.com/p/DCzPkzdRGYq/?img_index=1"
          ],
          [
           "https://www.instagram.com/p/DC1ayTiRH7K/"
          ],
          [
           "https://www.instagram.com/p/DC4Ww5sp2Ry/?img_index=1"
          ],
          [
           "https://www.instagram.com/p/DC6oVBPxrqh/"
          ],
          [
           "https://www.instagram.com/p/DDACeIAxocQ/"
          ],
          [
           "https://www.instagram.com/p/DDAY5rURjIl/"
          ],
          [
           "https://www.instagram.com/p/DDFFwvzRT4g/"
          ],
          [
           "https://www.instagram.com/p/DDHfuSzNSPe/?img_index=1"
          ],
          [
           "https://www.instagram.com/p/DDJ-ONuRPdD/"
          ],
          [
           "https://www.instagram.com/p/DDNFRTkRtOU/"
          ],
          [
           "https://www.instagram.com/p/DDPqo0FRA0n/?img_index=1"
          ],
          [
           "https://www.instagram.com/p/DDSTJ_jJnXE/"
          ],
          [
           "https://www.instagram.com/p/DDXYhHDRY-P/"
          ],
          [
           "https://www.instagram.com/p/DDZ1XZDuCoZ/"
          ],
          [
           "https://www.instagram.com/p/DDh3w_2xMD6/"
          ],
          [
           "https://www.instagram.com/p/DDpkbVWpFFg/?img_index=1"
          ],
          [
           "https://www.instagram.com/p/DDrrZoSpfZH/"
          ],
          [
           "https://www.instagram.com/p/DDs_eZbvnUQ/"
          ],
          [
           "https://www.instagram.com/p/DDuid93xGxn/?img_index=1"
          ],
          [
           "https://www.instagram.com/p/DDxCn1cROFZ/?img_index=1"
          ],
          [
           "https://www.instagram.com/p/DD9_uy6xs9g/"
          ],
          [
           "https://www.instagram.com/p/DEAZNEtpnaq/"
          ],
          [
           "https://www.instagram.com/p/DEGEGgSJ_aR/?img_index=1"
          ],
          [
           "https://www.instagram.com/p/DEK45Alx8KX/?img_index=1"
          ],
          [
           "https://www.instagram.com/p/DEP6v5apkvk/"
          ],
          [
           "https://www.instagram.com/p/DESXZWVxUdJ/"
          ],
          [
           "https://www.instagram.com/p/DEVKA-bJeku/?img_index=1"
          ],
          [
           "https://www.instagram.com/p/DEfDPJgM94d/?img_index=1"
          ],
          [
           "https://www.instagram.com/p/DEfyVaPSAMC/"
          ],
          [
           "https://www.instagram.com/p/DExOiIEJAvt/?img_index=1"
          ],
          [
           "https://www.instagram.com/p/DE25UvzRIeO/"
          ],
          [
           "https://www.instagram.com/p/DE-turxRhQp/"
          ],
          [
           "https://www.instagram.com/p/DFDPQDgpzwE/?img_index=1"
          ],
          [
           "https://www.instagram.com/p/DFF4OuYpvCd/"
          ],
          [
           "https://www.instagram.com/p/DFNlnDEx6jv/?img_index=1"
          ],
          [
           "https://www.instagram.com/p/DFVRQzExBV3/"
          ],
          [
           "https://www.instagram.com/p/DFbDZRbP0HH/"
          ],
          [
           "https://www.instagram.com/p/DFdog8ASUBC/?img_index=1"
          ],
          [
           "https://www.instagram.com/p/DFfanf8M7l7/?img_index=1"
          ],
          [
           "https://www.instagram.com/p/DFi-SRoR_WV/"
          ],
          [
           "https://www.instagram.com/p/DFid_dMR-7u/"
          ],
          [
           "https://www.instagram.com/p/DFnI7aORny3/"
          ],
          [
           "https://www.instagram.com/p/DFqd71Zp3Px/?img_index=1"
          ],
          [
           "https://www.instagram.com/p/DFsZdJmR6Ev/"
          ],
          [
           "https://www.instagram.com/p/DFvAw25xef2/"
          ],
          [
           "https://www.instagram.com/p/DFxtujJRtYW/"
          ],
          [
           "https://www.instagram.com/p/DF0tBYJpS7c/"
          ],
          [
           "https://www.instagram.com/p/DF-pM-3R7Uw/"
          ],
          [
           "https://www.instagram.com/p/DF-UFIoxCk6/"
          ],
          [
           "https://www.instagram.com/p/DF_kWUQAs7o/"
          ],
          [
           "https://www.instagram.com/p/DF_w_WdsDk5/?img_index=1"
          ],
          [
           "https://www.instagram.com/p/DGA8kzxAcZm/"
          ],
          [
           "https://www.instagram.com/p/DGDxTY_pDTQ/?img_index=1"
          ],
          [
           "https://www.instagram.com/p/DGGQRexRf3o/?img_index=1"
          ],
          [
           "https://www.instagram.com/p/DGI-HoYx-kM/?img_index=1"
          ],
          [
           "https://www.instagram.com/p/DGLh0KXxxcJ/?img_index=1"
          ],
          [
           "https://www.instagram.com/p/DGQ3spGJFZC/"
          ],
          [
           "https://www.instagram.com/p/DGUp2iLMw-h/?img_index=1"
          ],
          [
           "https://www.instagram.com/p/DGWMMkOJIsg/"
          ],
          [
           "https://www.instagram.com/p/DGYXnz0RSfQ/?img_index=1"
          ],
          [
           "https://www.instagram.com/p/DGbA9caxyLX/"
          ],
          [
           "https://www.instagram.com/p/DGdMyaaRbzB/"
          ],
          [
           "https://www.instagram.com/p/DGgALmlxgOS/"
          ],
          [
           "https://www.instagram.com/p/DGjVZsQuRuN/"
          ],
          [
           "https://www.instagram.com/p/DGihcZWRtPD/?img_index=1"
          ],
          [
           "https://www.instagram.com/p/DGlHv1bRFws/?img_index=1"
          ],
          [
           "https://www.instagram.com/p/DGqc4MhxuAA/"
          ],
          [
           "https://www.instagram.com/p/DGx9RacpA2K/?img_index=1"
          ],
          [
           "https://www.instagram.com/p/DG1K1WHRtCw/?img_index=1"
          ],
          [
           "https://www.instagram.com/p/DG3mI_Lx9PZ/?img_index=1"
          ],
          [
           "https://www.instagram.com/p/DG50nACsxy2/"
          ],
          [
           "https://www.instagram.com/p/DG8UE_gxrap/?img_index=1"
          ],
          [
           "https://www.instagram.com/p/DG-41K7R8nt/"
          ],
          [
           "https://www.instagram.com/p/DHBnr9vRbrb/"
          ],
          [
           "https://www.instagram.com/p/DHD5KfkRq1H/"
          ],
          [
           "https://www.instagram.com/p/DHGkzIlxEkh/"
          ],
          [
           "https://www.instagram.com/p/DHHBl08Rqpb/?img_index=1"
          ],
          [
           "https://www.instagram.com/p/DHOz76NR3P2/"
          ],
          [
           "https://www.instagram.com/p/DHYylHORvl0/?img_index=1"
          ],
          [
           "https://www.instagram.com/p/DHbGjHORzpx/"
          ],
          [
           "https://www.instagram.com/p/DHmD8nYRF14/"
          ],
          [
           "https://www.instagram.com/p/DHlmyWzRLso/"
          ],
          [
           "https://www.instagram.com/p/DHoL8nQRpW0/?img_index=1"
          ],
          [
           "https://www.instagram.com/p/DHqn14Ssxws/"
          ],
          [
           "https://www.instagram.com/p/DHtTlr4x0Ph/?img_index=1"
          ],
          [
           "https://www.instagram.com/p/DHwMJXxRY9t/"
          ],
          [
           "https://www.instagram.com/p/DHyVr_7xbpX/"
          ],
          [
           "https://www.instagram.com/p/DH3pSIixSiy/"
          ],
          [
           "https://www.instagram.com/p/DH5292wR_-C/?img_index=1"
          ],
          [
           "https://www.instagram.com/p/DIB-azyxWnO/?img_index=1"
          ],
          [
           "https://www.instagram.com/p/DIEYejjRj9U/"
          ],
          [
           "https://www.instagram.com/p/DIKHC4VRubq/"
          ],
          [
           "https://www.instagram.com/p/DIJqfVSpsMw/"
          ],
          [
           "https://www.instagram.com/p/DIMGeyyxXDm/"
          ],
          [
           "https://www.instagram.com/p/DIOq9hwx8XY/"
          ],
          [
           "https://www.instagram.com/p/DIRfOxjxUF_/"
          ],
          [
           "https://www.instagram.com/p/DIUXUf4xzAA/"
          ],
          [
           "https://www.instagram.com/p/DIUgdbExYNc/"
          ],
          [
           "https://www.instagram.com/p/DIWV8ShRNmI/"
          ],
          [
           "https://www.instagram.com/p/DIbpZJPR21t/"
          ],
          [
           "https://www.instagram.com/p/DIeJprQxTnC/?img_index=1"
          ],
          [
           "https://www.instagram.com/p/DIeSAOdOMCl/"
          ],
          [
           "https://www.instagram.com/p/DIg3ZP7AMgG/?img_index=1"
          ],
          [
           "https://www.instagram.com/p/DIhi8mKxuT8/"
          ],
          [
           "https://www.instagram.com/p/DIjSFpAxGdX/"
          ],
          [
           "https://www.instagram.com/p/DIog6xCMi_L/"
          ],
          [
           "https://www.instagram.com/p/DIqzU15x4ot/"
          ],
          [
           "https://www.instagram.com/p/DIyvmkFsi3h/"
          ],
          [
           "https://www.instagram.com/p/DI1hrS0R4Oj/"
          ],
          [
           "https://www.instagram.com/p/DI3zmijR2jb/?img_index=1"
          ],
          [
           "https://www.instagram.com/p/DI6blnZx2SE/"
          ],
          [
           "https://www.instagram.com/p/DI6xMzTxoj7/"
          ]
         ],
         "hovertemplate": "cafe=https://www.instagram.com/timhortons/<br>Date=%{x}<br>Ratio between Likes and Followers=%{y}<br>post_link=%{customdata[0]}<extra></extra>",
         "legendgroup": "https://www.instagram.com/timhortons/",
         "line": {
          "color": "#B6E880",
          "dash": "solid"
         },
         "marker": {
          "symbol": "circle"
         },
         "mode": "lines",
         "name": "https://www.instagram.com/timhortons/",
         "showlegend": true,
         "type": "scattergl",
         "x": [
          "2022-12-31T00:00:00",
          "2023-01-04T00:00:00",
          "2023-01-11T00:00:00",
          "2023-01-12T00:00:00",
          "2023-01-13T00:00:00",
          "2023-01-17T00:00:00",
          "2023-01-20T00:00:00",
          "2023-01-21T00:00:00",
          "2023-01-22T00:00:00",
          "2023-01-30T00:00:00",
          "2023-02-01T00:00:00",
          "2023-02-03T00:00:00",
          "2023-02-04T00:00:00",
          "2023-02-06T00:00:00",
          "2023-02-06T00:00:00",
          "2023-02-06T00:00:00",
          "2023-02-07T00:00:00",
          "2023-02-09T00:00:00",
          "2023-02-10T00:00:00",
          "2023-02-13T00:00:00",
          "2023-02-14T00:00:00",
          "2023-02-15T00:00:00",
          "2023-02-25T00:00:00",
          "2023-02-28T00:00:00",
          "2023-03-03T00:00:00",
          "2023-03-04T00:00:00",
          "2023-03-05T00:00:00",
          "2023-03-06T00:00:00",
          "2023-03-07T00:00:00",
          "2023-03-08T00:00:00",
          "2023-03-12T00:00:00",
          "2023-03-12T00:00:00",
          "2023-03-14T00:00:00",
          "2023-03-16T00:00:00",
          "2023-03-17T00:00:00",
          "2023-03-19T00:00:00",
          "2023-03-20T00:00:00",
          "2023-03-21T00:00:00",
          "2023-03-22T00:00:00",
          "2023-03-23T00:00:00",
          "2023-03-24T00:00:00",
          "2023-03-25T00:00:00",
          "2023-03-27T00:00:00",
          "2023-03-28T00:00:00",
          "2023-03-29T00:00:00",
          "2023-03-31T00:00:00",
          "2023-04-01T00:00:00",
          "2023-04-05T00:00:00",
          "2023-04-09T00:00:00",
          "2023-04-10T00:00:00",
          "2023-04-11T00:00:00",
          "2023-04-15T00:00:00",
          "2023-04-16T00:00:00",
          "2023-04-17T00:00:00",
          "2023-04-18T00:00:00",
          "2023-04-20T00:00:00",
          "2023-04-21T00:00:00",
          "2023-04-22T00:00:00",
          "2023-04-28T00:00:00",
          "2023-05-01T00:00:00",
          "2023-05-04T00:00:00",
          "2023-05-05T00:00:00",
          "2023-05-08T00:00:00",
          "2023-05-09T00:00:00",
          "2023-05-12T00:00:00",
          "2023-05-12T00:00:00",
          "2023-05-16T00:00:00",
          "2023-05-19T00:00:00",
          "2023-05-22T00:00:00",
          "2023-05-24T00:00:00",
          "2023-05-26T00:00:00",
          "2023-05-27T00:00:00",
          "2023-05-30T00:00:00",
          "2023-05-31T00:00:00",
          "2023-05-31T00:00:00",
          "2023-06-01T00:00:00",
          "2023-06-02T00:00:00",
          "2023-06-04T00:00:00",
          "2023-06-07T00:00:00",
          "2023-06-07T00:00:00",
          "2023-06-08T00:00:00",
          "2023-06-09T00:00:00",
          "2023-06-10T00:00:00",
          "2023-06-13T00:00:00",
          "2023-06-14T00:00:00",
          "2023-06-15T00:00:00",
          "2023-06-17T00:00:00",
          "2023-06-18T00:00:00",
          "2023-06-20T00:00:00",
          "2023-06-21T00:00:00",
          "2023-06-23T00:00:00",
          "2023-06-27T00:00:00",
          "2023-06-29T00:00:00",
          "2023-06-29T00:00:00",
          "2023-06-29T00:00:00",
          "2023-07-01T00:00:00",
          "2023-07-01T00:00:00",
          "2023-07-02T00:00:00",
          "2023-07-02T00:00:00",
          "2023-07-03T00:00:00",
          "2023-07-04T00:00:00",
          "2023-07-05T00:00:00",
          "2023-07-07T00:00:00",
          "2023-07-10T00:00:00",
          "2023-07-11T00:00:00",
          "2023-07-14T00:00:00",
          "2023-07-19T00:00:00",
          "2023-07-19T00:00:00",
          "2023-07-21T00:00:00",
          "2023-07-22T00:00:00",
          "2023-07-24T00:00:00",
          "2023-07-26T00:00:00",
          "2023-07-27T00:00:00",
          "2023-07-28T00:00:00",
          "2023-08-01T00:00:00",
          "2023-08-03T00:00:00",
          "2023-08-09T00:00:00",
          "2023-08-11T00:00:00",
          "2023-08-15T00:00:00",
          "2023-08-18T00:00:00",
          "2023-08-19T00:00:00",
          "2023-08-21T00:00:00",
          "2023-08-28T00:00:00",
          "2023-08-30T00:00:00",
          "2023-08-31T00:00:00",
          "2023-09-04T00:00:00",
          "2023-09-05T00:00:00",
          "2023-09-06T00:00:00",
          "2023-09-08T00:00:00",
          "2023-09-10T00:00:00",
          "2023-09-18T00:00:00",
          "2023-09-19T00:00:00",
          "2023-09-20T00:00:00",
          "2023-09-21T00:00:00",
          "2023-09-25T00:00:00",
          "2023-09-26T00:00:00",
          "2023-09-27T00:00:00",
          "2023-09-27T00:00:00",
          "2023-09-27T00:00:00",
          "2023-09-27T00:00:00",
          "2023-09-27T00:00:00",
          "2023-09-28T00:00:00",
          "2023-09-29T00:00:00",
          "2023-09-30T00:00:00",
          "2023-10-01T00:00:00",
          "2023-10-03T00:00:00",
          "2023-10-04T00:00:00",
          "2023-10-05T00:00:00",
          "2023-10-11T00:00:00",
          "2023-10-12T00:00:00",
          "2023-10-13T00:00:00",
          "2023-10-20T00:00:00",
          "2023-10-21T00:00:00",
          "2023-10-22T00:00:00",
          "2023-10-24T00:00:00",
          "2023-10-24T00:00:00",
          "2023-10-25T00:00:00",
          "2023-10-27T00:00:00",
          "2023-10-28T00:00:00",
          "2023-10-30T00:00:00",
          "2023-10-30T00:00:00",
          "2023-11-01T00:00:00",
          "2023-11-03T00:00:00",
          "2023-11-04T00:00:00",
          "2023-11-09T00:00:00",
          "2023-11-10T00:00:00",
          "2023-11-11T00:00:00",
          "2023-11-13T00:00:00",
          "2023-11-16T00:00:00",
          "2023-11-17T00:00:00",
          "2023-11-20T00:00:00",
          "2023-11-23T00:00:00",
          "2023-11-24T00:00:00",
          "2023-11-28T00:00:00",
          "2023-11-30T00:00:00",
          "2023-12-01T00:00:00",
          "2023-12-05T00:00:00",
          "2023-12-08T00:00:00",
          "2023-12-09T00:00:00",
          "2023-12-10T00:00:00",
          "2023-12-11T00:00:00",
          "2023-12-12T00:00:00",
          "2023-12-12T00:00:00",
          "2023-12-14T00:00:00",
          "2023-12-15T00:00:00",
          "2023-12-18T00:00:00",
          "2023-12-19T00:00:00",
          "2023-12-26T00:00:00",
          "2023-12-27T00:00:00",
          "2023-12-28T00:00:00",
          "2023-12-29T00:00:00",
          "2023-12-31T00:00:00",
          "2024-01-01T00:00:00",
          "2024-01-03T00:00:00",
          "2024-01-04T00:00:00",
          "2024-01-08T00:00:00",
          "2024-01-10T00:00:00",
          "2024-01-15T00:00:00",
          "2024-01-16T00:00:00",
          "2024-01-24T00:00:00",
          "2024-01-26T00:00:00",
          "2024-01-29T00:00:00",
          "2024-01-31T00:00:00",
          "2024-02-01T00:00:00",
          "2024-02-02T00:00:00",
          "2024-02-03T00:00:00",
          "2024-02-09T00:00:00",
          "2024-02-10T00:00:00",
          "2024-02-15T00:00:00",
          "2024-02-19T00:00:00",
          "2024-02-23T00:00:00",
          "2024-02-27T00:00:00",
          "2024-03-02T00:00:00",
          "2024-03-05T00:00:00",
          "2024-03-08T00:00:00",
          "2024-03-10T00:00:00",
          "2024-03-11T00:00:00",
          "2024-03-12T00:00:00",
          "2024-03-13T00:00:00",
          "2024-03-20T00:00:00",
          "2024-03-21T00:00:00",
          "2024-03-21T00:00:00",
          "2024-03-22T00:00:00",
          "2024-03-25T00:00:00",
          "2024-03-27T00:00:00",
          "2024-03-28T00:00:00",
          "2024-03-30T00:00:00",
          "2024-04-01T00:00:00",
          "2024-04-02T00:00:00",
          "2024-04-05T00:00:00",
          "2024-04-08T00:00:00",
          "2024-04-10T00:00:00",
          "2024-04-12T00:00:00",
          "2024-04-14T00:00:00",
          "2024-04-22T00:00:00",
          "2024-04-24T00:00:00",
          "2024-04-25T00:00:00",
          "2024-04-25T00:00:00",
          "2024-04-26T00:00:00",
          "2024-04-27T00:00:00",
          "2024-04-29T00:00:00",
          "2024-04-30T00:00:00",
          "2024-05-02T00:00:00",
          "2024-05-04T00:00:00",
          "2024-05-05T00:00:00",
          "2024-05-06T00:00:00",
          "2024-05-07T00:00:00",
          "2024-05-10T00:00:00",
          "2024-05-10T00:00:00",
          "2024-05-13T00:00:00",
          "2024-05-15T00:00:00",
          "2024-05-16T00:00:00",
          "2024-05-17T00:00:00",
          "2024-05-17T00:00:00",
          "2024-05-19T00:00:00",
          "2024-05-20T00:00:00",
          "2024-05-27T00:00:00",
          "2024-05-28T00:00:00",
          "2024-05-30T00:00:00",
          "2024-05-31T00:00:00",
          "2024-06-02T00:00:00",
          "2024-06-03T00:00:00",
          "2024-06-06T00:00:00",
          "2024-06-06T00:00:00",
          "2024-06-07T00:00:00",
          "2024-06-08T00:00:00",
          "2024-06-09T00:00:00",
          "2024-06-11T00:00:00",
          "2024-06-12T00:00:00",
          "2024-06-13T00:00:00",
          "2024-06-14T00:00:00",
          "2024-06-15T00:00:00",
          "2024-06-16T00:00:00",
          "2024-06-17T00:00:00",
          "2024-06-18T00:00:00",
          "2024-06-19T00:00:00",
          "2024-06-20T00:00:00",
          "2024-06-20T00:00:00",
          "2024-06-20T00:00:00",
          "2024-06-21T00:00:00",
          "2024-06-22T00:00:00",
          "2024-06-24T00:00:00",
          "2024-06-24T00:00:00",
          "2024-06-26T00:00:00",
          "2024-06-27T00:00:00",
          "2024-06-27T00:00:00",
          "2024-06-28T00:00:00",
          "2024-06-29T00:00:00",
          "2024-06-29T00:00:00",
          "2024-06-29T00:00:00",
          "2024-06-30T00:00:00",
          "2024-06-30T00:00:00",
          "2024-07-01T00:00:00",
          "2024-07-09T00:00:00",
          "2024-07-10T00:00:00",
          "2024-07-10T00:00:00",
          "2024-07-12T00:00:00",
          "2024-07-13T00:00:00",
          "2024-07-15T00:00:00",
          "2024-07-16T00:00:00",
          "2024-07-17T00:00:00",
          "2024-07-17T00:00:00",
          "2024-07-17T00:00:00",
          "2024-07-17T00:00:00",
          "2024-07-18T00:00:00",
          "2024-07-18T00:00:00",
          "2024-07-18T00:00:00",
          "2024-07-19T00:00:00",
          "2024-07-19T00:00:00",
          "2024-07-21T00:00:00",
          "2024-07-22T00:00:00",
          "2024-07-23T00:00:00",
          "2024-07-24T00:00:00",
          "2024-07-26T00:00:00",
          "2024-07-29T00:00:00",
          "2024-07-30T00:00:00",
          "2024-07-31T00:00:00",
          "2024-08-02T00:00:00",
          "2024-08-05T00:00:00",
          "2024-08-06T00:00:00",
          "2024-08-09T00:00:00",
          "2024-08-12T00:00:00",
          "2024-08-14T00:00:00",
          "2024-08-15T00:00:00",
          "2024-08-17T00:00:00",
          "2024-08-20T00:00:00",
          "2024-08-21T00:00:00",
          "2024-08-22T00:00:00",
          "2024-08-23T00:00:00",
          "2024-08-24T00:00:00",
          "2024-08-26T00:00:00",
          "2024-08-26T00:00:00",
          "2024-08-27T00:00:00",
          "2024-08-29T00:00:00",
          "2024-08-31T00:00:00",
          "2024-09-03T00:00:00",
          "2024-09-04T00:00:00",
          "2024-09-05T00:00:00",
          "2024-09-06T00:00:00",
          "2024-09-12T00:00:00",
          "2024-09-14T00:00:00",
          "2024-09-15T00:00:00",
          "2024-09-16T00:00:00",
          "2024-09-18T00:00:00",
          "2024-09-21T00:00:00",
          "2024-09-23T00:00:00",
          "2024-09-23T00:00:00",
          "2024-09-24T00:00:00",
          "2024-09-26T00:00:00",
          "2024-09-27T00:00:00",
          "2024-09-28T00:00:00",
          "2024-09-29T00:00:00",
          "2024-09-29T00:00:00",
          "2024-09-29T00:00:00",
          "2024-09-30T00:00:00",
          "2024-10-01T00:00:00",
          "2024-10-01T00:00:00",
          "2024-10-02T00:00:00",
          "2024-10-03T00:00:00",
          "2024-10-04T00:00:00",
          "2024-10-06T00:00:00",
          "2024-10-07T00:00:00",
          "2024-10-09T00:00:00",
          "2024-10-11T00:00:00",
          "2024-10-11T00:00:00",
          "2024-10-12T00:00:00",
          "2024-10-14T00:00:00",
          "2024-10-15T00:00:00",
          "2024-10-17T00:00:00",
          "2024-10-18T00:00:00",
          "2024-10-19T00:00:00",
          "2024-10-23T00:00:00",
          "2024-10-25T00:00:00",
          "2024-10-26T00:00:00",
          "2024-10-28T00:00:00",
          "2024-10-30T00:00:00",
          "2024-11-02T00:00:00",
          "2024-11-03T00:00:00",
          "2024-11-04T00:00:00",
          "2024-11-05T00:00:00",
          "2024-11-07T00:00:00",
          "2024-11-09T00:00:00",
          "2024-11-12T00:00:00",
          "2024-11-13T00:00:00",
          "2024-11-13T00:00:00",
          "2024-11-14T00:00:00",
          "2024-11-15T00:00:00",
          "2024-11-15T00:00:00",
          "2024-11-16T00:00:00",
          "2024-11-16T00:00:00",
          "2024-11-17T00:00:00",
          "2024-11-18T00:00:00",
          "2024-11-18T00:00:00",
          "2024-11-18T00:00:00",
          "2024-11-19T00:00:00",
          "2024-11-20T00:00:00",
          "2024-11-20T00:00:00",
          "2024-11-21T00:00:00",
          "2024-11-22T00:00:00",
          "2024-11-23T00:00:00",
          "2024-11-23T00:00:00",
          "2024-11-24T00:00:00",
          "2024-11-24T00:00:00",
          "2024-11-25T00:00:00",
          "2024-11-26T00:00:00",
          "2024-11-27T00:00:00",
          "2024-11-28T00:00:00",
          "2024-11-30T00:00:00",
          "2024-11-30T00:00:00",
          "2024-12-02T00:00:00",
          "2024-12-03T00:00:00",
          "2024-12-04T00:00:00",
          "2024-12-05T00:00:00",
          "2024-12-06T00:00:00",
          "2024-12-07T00:00:00",
          "2024-12-09T00:00:00",
          "2024-12-10T00:00:00",
          "2024-12-13T00:00:00",
          "2024-12-16T00:00:00",
          "2024-12-17T00:00:00",
          "2024-12-18T00:00:00",
          "2024-12-18T00:00:00",
          "2024-12-19T00:00:00",
          "2024-12-24T00:00:00",
          "2024-12-25T00:00:00",
          "2024-12-27T00:00:00",
          "2024-12-29T00:00:00",
          "2024-12-31T00:00:00",
          "2025-01-01T00:00:00",
          "2025-01-02T00:00:00",
          "2025-01-06T00:00:00",
          "2025-01-06T00:00:00",
          "2025-01-13T00:00:00",
          "2025-01-15T00:00:00",
          "2025-01-18T00:00:00",
          "2025-01-20T00:00:00",
          "2025-01-21T00:00:00",
          "2025-01-24T00:00:00",
          "2025-01-27T00:00:00",
          "2025-01-29T00:00:00",
          "2025-01-30T00:00:00",
          "2025-01-31T00:00:00",
          "2025-02-01T00:00:00",
          "2025-02-01T00:00:00",
          "2025-02-03T00:00:00",
          "2025-02-04T00:00:00",
          "2025-02-05T00:00:00",
          "2025-02-06T00:00:00",
          "2025-02-07T00:00:00",
          "2025-02-08T00:00:00",
          "2025-02-12T00:00:00",
          "2025-02-12T00:00:00",
          "2025-02-13T00:00:00",
          "2025-02-13T00:00:00",
          "2025-02-13T00:00:00",
          "2025-02-14T00:00:00",
          "2025-02-15T00:00:00",
          "2025-02-16T00:00:00",
          "2025-02-17T00:00:00",
          "2025-02-19T00:00:00",
          "2025-02-21T00:00:00",
          "2025-02-21T00:00:00",
          "2025-02-22T00:00:00",
          "2025-02-23T00:00:00",
          "2025-02-24T00:00:00",
          "2025-02-25T00:00:00",
          "2025-02-26T00:00:00",
          "2025-02-26T00:00:00",
          "2025-02-27T00:00:00",
          "2025-03-01T00:00:00",
          "2025-03-04T00:00:00",
          "2025-03-05T00:00:00",
          "2025-03-06T00:00:00",
          "2025-03-07T00:00:00",
          "2025-03-08T00:00:00",
          "2025-03-09T00:00:00",
          "2025-03-10T00:00:00",
          "2025-03-11T00:00:00",
          "2025-03-12T00:00:00",
          "2025-03-12T00:00:00",
          "2025-03-15T00:00:00",
          "2025-03-19T00:00:00",
          "2025-03-20T00:00:00",
          "2025-03-24T00:00:00",
          "2025-03-24T00:00:00",
          "2025-03-25T00:00:00",
          "2025-03-26T00:00:00",
          "2025-03-27T00:00:00",
          "2025-03-28T00:00:00",
          "2025-03-29T00:00:00",
          "2025-03-31T00:00:00",
          "2025-04-01T00:00:00",
          "2025-04-04T00:00:00",
          "2025-04-05T00:00:00",
          "2025-04-07T00:00:00",
          "2025-04-07T00:00:00",
          "2025-04-08T00:00:00",
          "2025-04-09T00:00:00",
          "2025-04-10T00:00:00",
          "2025-04-11T00:00:00",
          "2025-04-11T00:00:00",
          "2025-04-12T00:00:00",
          "2025-04-14T00:00:00",
          "2025-04-15T00:00:00",
          "2025-04-15T00:00:00",
          "2025-04-16T00:00:00",
          "2025-04-16T00:00:00",
          "2025-04-17T00:00:00",
          "2025-04-20T00:00:00",
          "2025-04-21T00:00:00",
          "2025-04-24T00:00:00",
          "2025-04-25T00:00:00",
          "2025-04-26T00:00:00",
          "2025-04-27T00:00:00",
          "2025-04-27T00:00:00"
         ],
         "xaxis": "x",
         "y": {
          "bdata": "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",
          "dtype": "f8"
         },
         "yaxis": "y"
        },
        {
         "customdata": [
          [
           "https://www.instagram.com/p/Cm1a3SZJm1X/"
          ],
          [
           "https://www.instagram.com/p/Cm83Ch1pR8r/"
          ],
          [
           "https://www.instagram.com/p/CnCH2KOM78f/"
          ],
          [
           "https://www.instagram.com/p/CnPtnj9pFWE/"
          ],
          [
           "https://www.instagram.com/p/CnUEc2bJ4BM/"
          ],
          [
           "https://www.instagram.com/p/CnedEcSJBUY/"
          ],
          [
           "https://www.instagram.com/p/Cnw_nJPpR5E/"
          ],
          [
           "https://www.instagram.com/p/Cn1gkHfArMr/"
          ],
          [
           "https://www.instagram.com/p/Cn6uIPxAA1H/"
          ],
          [
           "https://www.instagram.com/p/CoCT1pigUpD/"
          ],
          [
           "https://www.instagram.com/p/CoFbDs-g0kh/"
          ],
          [
           "https://www.instagram.com/p/CoNDFkkg43y/"
          ],
          [
           "https://www.instagram.com/p/CoUhR80g_96/"
          ],
          [
           "https://www.instagram.com/p/CoXpW5fgZsD/"
          ],
          [
           "https://www.instagram.com/p/CocAsaLAYBe/"
          ],
          [
           "https://www.instagram.com/p/CofDjt7AIvV/"
          ],
          [
           "https://www.instagram.com/p/CopS2PrgcAe/"
          ],
          [
           "https://www.instagram.com/p/Co-O1BUALhX/"
          ],
          [
           "https://www.instagram.com/p/CpDKATSg-Cv/"
          ],
          [
           "https://www.instagram.com/p/CpNkahGAN5V/"
          ],
          [
           "https://www.instagram.com/p/CpUtbFsA6NN/"
          ],
          [
           "https://www.instagram.com/p/CphyowLgToV/"
          ],
          [
           "https://www.instagram.com/p/CpkQ99DgnUS/"
          ],
          [
           "https://www.instagram.com/p/CpxfRtsA8de/"
          ],
          [
           "https://www.instagram.com/p/Cp5DIh1AD4X/"
          ],
          [
           "https://www.instagram.com/p/CqLJq2Dg-4n/"
          ],
          [
           "https://www.instagram.com/p/CqWCVLQgd27/"
          ],
          [
           "https://www.instagram.com/p/CqaykvAAG_H/"
          ],
          [
           "https://www.instagram.com/p/Cq2eHm9s-ad/"
          ],
          [
           "https://www.instagram.com/p/Cq7zayIgw1Q/"
          ],
          [
           "https://www.instagram.com/p/Cq-U1rog-Vg/"
          ],
          [
           "https://www.instagram.com/p/CrIhR7iAmbr/"
          ],
          [
           "https://www.instagram.com/p/CrQs0WWA--e/"
          ],
          [
           "https://www.instagram.com/p/Craac0zAh0E/"
          ],
          [
           "https://www.instagram.com/p/CriGaeIAQke/"
          ],
          [
           "https://www.instagram.com/p/Crkywhkg65r/"
          ],
          [
           "https://www.instagram.com/p/Cr0W5v0AS-C/"
          ],
          [
           "https://www.instagram.com/p/Cr-gKBMNO7W/"
          ],
          [
           "https://www.instagram.com/p/CsDtsGeAYvl/"
          ],
          [
           "https://www.instagram.com/p/CsGPde9tHlF/?img_index=1"
          ],
          [
           "https://www.instagram.com/p/CsYz5iOggdp/"
          ],
          [
           "https://www.instagram.com/p/Csa4Nc5r5CJ/?img_index=1"
          ],
          [
           "https://www.instagram.com/p/CsqXV9IgGuz/"
          ],
          [
           "https://www.instagram.com/p/Cs3RTx4gjNu/"
          ],
          [
           "https://www.instagram.com/p/Cs6pL3GAzkV/"
          ],
          [
           "https://www.instagram.com/p/CtJLx-fMzDz/"
          ],
          [
           "https://www.instagram.com/p/CtQ1hL2NPKM/"
          ],
          [
           "https://www.instagram.com/p/CtYiqLGAqkS/"
          ],
          [
           "https://www.instagram.com/p/Ctgwe0qsBiZ/?img_index=1"
          ],
          [
           "https://www.instagram.com/p/Ctt2KmuNSvD/"
          ],
          [
           "https://www.instagram.com/p/Ct030bTA33C/"
          ],
          [
           "https://www.instagram.com/p/Ct_R45XAHGe/"
          ],
          [
           "https://www.instagram.com/p/CuPc8P1gqOC/"
          ],
          [
           "https://www.instagram.com/p/CuXHqjTgl1B/"
          ],
          [
           "https://www.instagram.com/p/CuY_3ksAph8/"
          ],
          [
           "https://www.instagram.com/p/Cuh7gAgoaZh/"
          ],
          [
           "https://www.instagram.com/p/CurC277o1O9/?img_index=1"
          ],
          [
           "https://www.instagram.com/p/CuzDpVrI0Ub/"
          ],
          [
           "https://www.instagram.com/p/CvIEkjlofaz/"
          ],
          [
           "https://www.instagram.com/p/CvXNaIQImqR/"
          ],
          [
           "https://www.instagram.com/p/CvsFlZStKN7/?img_index=1"
          ],
          [
           "https://www.instagram.com/p/Cvt8wwONara/"
          ],
          [
           "https://www.instagram.com/p/CvzUL55N6wH/"
          ],
          [
           "https://www.instagram.com/p/Cv68I5QNylm/"
          ],
          [
           "https://www.instagram.com/p/CwAFhCtt6ij/"
          ],
          [
           "https://www.instagram.com/p/CwFTVoOtO8k/?img_index=1"
          ],
          [
           "https://www.instagram.com/p/CwM2LgLt5_b/"
          ],
          [
           "https://www.instagram.com/p/CwR9xodtrAF/"
          ],
          [
           "https://www.instagram.com/p/CwUe9N7tEea/"
          ],
          [
           "https://www.instagram.com/p/Cwhh2jOs9Z5/"
          ],
          [
           "https://www.instagram.com/p/CwkaugasTLC/"
          ],
          [
           "https://www.instagram.com/p/CwptF6XMoPz/"
          ],
          [
           "https://www.instagram.com/p/Cwz423CsBTX/"
          ],
          [
           "https://www.instagram.com/p/Cw7PIirMnRy/"
          ],
          [
           "https://www.instagram.com/p/CxDqQs8MfPc/"
          ],
          [
           "https://www.instagram.com/p/CxGBBuRsmrn/"
          ],
          [
           "https://www.instagram.com/p/CxNRJI5MkKF/"
          ],
          [
           "https://www.instagram.com/p/CxVUCRXsgxm/?img_index=1"
          ],
          [
           "https://www.instagram.com/p/CxYUmfqs7sn/"
          ],
          [
           "https://www.instagram.com/p/CxdFL3Os3Ov/"
          ],
          [
           "https://www.instagram.com/p/Cxfd8xgsRyn/"
          ],
          [
           "https://www.instagram.com/p/CxnrGzKMPMh/"
          ],
          [
           "https://www.instagram.com/p/Cx73PaLM8jJ/"
          ],
          [
           "https://www.instagram.com/p/CyQwRsIMMxt/"
          ],
          [
           "https://www.instagram.com/p/CzBrRRXs3G7/"
          ],
          [
           "https://www.instagram.com/p/CzVtxZTMjTK/"
          ],
          [
           "https://www.instagram.com/p/CzlUYRvMI5S/"
          ],
          [
           "https://www.instagram.com/p/CzoYOWOspeK/"
          ],
          [
           "https://www.instagram.com/p/Cz3eETHsr5o/"
          ],
          [
           "https://www.instagram.com/p/Cz50ePgMMyO/"
          ],
          [
           "https://www.instagram.com/p/Cz_Hb7AsXwe/"
          ],
          [
           "https://www.instagram.com/p/C0EabT_shPy/"
          ],
          [
           "https://www.instagram.com/p/C0MD8DCsvQd/"
          ],
          [
           "https://www.instagram.com/p/C0R0Y1ysW5Z/"
          ],
          [
           "https://www.instagram.com/p/C0ehoYjsXKw/"
          ],
          [
           "https://www.instagram.com/p/C0t0LG9sEV7/"
          ],
          [
           "https://www.instagram.com/p/C1CXp5oMW2G/"
          ],
          [
           "https://www.instagram.com/p/C1Hlg6pM2iR/"
          ],
          [
           "https://www.instagram.com/p/C1b-wNDMzHH/?img_index=1"
          ],
          [
           "https://www.instagram.com/p/C1rPHXMss-l/"
          ],
          [
           "https://www.instagram.com/p/C17NTpLsz9I/"
          ],
          [
           "https://www.instagram.com/p/C2HjbIFsg6y/"
          ],
          [
           "https://www.instagram.com/p/C2PSDaMMrMh/"
          ],
          [
           "https://www.instagram.com/p/C2SLKTqMV-O/?img_index=1"
          ],
          [
           "https://www.instagram.com/p/C2cEBFysW5d/"
          ],
          [
           "https://www.instagram.com/p/C2j4KFYMkM2/"
          ],
          [
           "https://www.instagram.com/p/C2uC4BasMlK/"
          ],
          [
           "https://www.instagram.com/p/C210KpTMHoi/"
          ],
          [
           "https://www.instagram.com/p/C2-RVecMQ6v/"
          ],
          [
           "https://www.instagram.com/p/C3IN82dssJE/"
          ],
          [
           "https://www.instagram.com/p/C3QNXFEsup0/"
          ],
          [
           "https://www.instagram.com/p/C3VShmLMK7C/"
          ],
          [
           "https://www.instagram.com/p/C3achZhsYki/"
          ],
          [
           "https://www.instagram.com/p/C3pwAf9MQKs/"
          ],
          [
           "https://www.instagram.com/p/C3sYxzNs19Z/"
          ],
          [
           "https://www.instagram.com/p/C4K8hqgMZ_t/"
          ],
          [
           "https://www.instagram.com/p/C4NgBrnMPH9/"
          ],
          [
           "https://www.instagram.com/p/C4X-ORdsBMH/"
          ],
          [
           "https://www.instagram.com/p/C4dshRpsn_5/"
          ],
          [
           "https://www.instagram.com/p/C4nZJumM5ld/"
          ],
          [
           "https://www.instagram.com/p/C4qKo6Ysq-S/"
          ],
          [
           "https://www.instagram.com/p/C4sRz4nMAOF/"
          ],
          [
           "https://www.instagram.com/p/C47sidPNxRF/"
          ],
          [
           "https://www.instagram.com/p/C4_fTGirBio/"
          ],
          [
           "https://www.instagram.com/p/C5EwLFbNBYB/"
          ],
          [
           "https://www.instagram.com/p/C5PCKmpNnn5/"
          ],
          [
           "https://www.instagram.com/p/C5Nx80CtlZ6/"
          ],
          [
           "https://www.instagram.com/p/C5TgVW6J3zo/"
          ],
          [
           "https://www.instagram.com/p/C5Yu97dNL4N/"
          ],
          [
           "https://www.instagram.com/p/C5g4Q_4roCu/"
          ],
          [
           "https://www.instagram.com/p/C5nsPemN5vU/"
          ],
          [
           "https://www.instagram.com/p/C5qUS_dt959/"
          ],
          [
           "https://www.instagram.com/p/C50zJbcpxcj/"
          ],
          [
           "https://www.instagram.com/p/C55XmUipAMt/"
          ],
          [
           "https://www.instagram.com/p/C6GPe4VJ4Pc/"
          ],
          [
           "https://www.instagram.com/p/C6LkQtOMrKV/"
          ],
          [
           "https://www.instagram.com/p/C6Yc1pqJ3xg/"
          ],
          [
           "https://www.instagram.com/p/C6tC_vvNosl/"
          ],
          [
           "https://www.instagram.com/p/C6wAudtN0CJ/"
          ],
          [
           "https://www.instagram.com/p/C66qT1VpQmR/"
          ],
          [
           "https://www.instagram.com/p/C69Bvoap1zT/"
          ],
          [
           "https://www.instagram.com/p/C7L1LfxN_Xv/"
          ],
          [
           "https://www.instagram.com/p/C7ObpQkssew/"
          ],
          [
           "https://www.instagram.com/p/C7eo7MNtMJC/"
          ],
          [
           "https://www.instagram.com/p/C7wA5j_tqb3/"
          ],
          [
           "https://www.instagram.com/p/C7zIup2pEbp/"
          ],
          [
           "https://www.instagram.com/p/C8HG1xHpNfW/"
          ],
          [
           "https://www.instagram.com/p/C8Uf30dJw7S/"
          ],
          [
           "https://www.instagram.com/p/C8eSafGNL6U/"
          ],
          [
           "https://www.instagram.com/p/C8ogvAIt2JI/"
          ],
          [
           "https://www.instagram.com/p/C8rWeBFpAN8/"
          ],
          [
           "https://www.instagram.com/p/C84ENx0JK_5/"
          ],
          [
           "https://www.instagram.com/p/C86z4YLJQqO/"
          ],
          [
           "https://www.instagram.com/p/C89uYfoJOp0/"
          ],
          [
           "https://www.instagram.com/p/C9AA1PXtY0c/"
          ],
          [
           "https://www.instagram.com/p/C9CblfkJTOo/"
          ],
          [
           "https://www.instagram.com/p/C9PaynPNd1J/"
          ],
          [
           "https://www.instagram.com/p/C9Rp50nJzGq/"
          ],
          [
           "https://www.instagram.com/p/C9cnbb4sxuq/"
          ],
          [
           "https://www.instagram.com/p/C9e0bNqpDL4/"
          ],
          [
           "https://www.instagram.com/p/C9hqh1_tARZ/"
          ],
          [
           "https://www.instagram.com/p/C9kWBGPNIle/"
          ],
          [
           "https://www.instagram.com/p/C9w1_c8spuy/"
          ],
          [
           "https://www.instagram.com/p/C94bcEIM94h/"
          ],
          [
           "https://www.instagram.com/p/C-FWd5OMirB/"
          ],
          [
           "https://www.instagram.com/p/C-R_7DWto79/?img_index=1"
          ],
          [
           "https://www.instagram.com/p/C-XIbbWt1Mf/"
          ],
          [
           "https://www.instagram.com/p/C-cRi2INW-i/"
          ],
          [
           "https://www.instagram.com/p/C-mtC0ata9U/"
          ],
          [
           "https://www.instagram.com/p/C-pNfAcNxOw/"
          ],
          [
           "https://www.instagram.com/p/C-uYe-HtqvR/"
          ],
          [
           "https://www.instagram.com/p/C-2GMDJih-5/"
          ],
          [
           "https://www.instagram.com/p/C-93RAitoNG/"
          ],
          [
           "https://www.instagram.com/p/C_IFrrlt6y3/?img_index=1"
          ],
          [
           "https://www.instagram.com/p/C_NRjXnNoNe/"
          ],
          [
           "https://www.instagram.com/p/C_Sgtm4NGml/"
          ],
          [
           "https://www.instagram.com/p/C_iRXUFsOdN/"
          ],
          [
           "https://www.instagram.com/p/C_sfKVHsGSa/"
          ],
          [
           "https://www.instagram.com/p/C_2ZnEIs-WI/"
          ],
          [
           "https://www.instagram.com/p/C_-tWceMhOr/"
          ],
          [
           "https://www.instagram.com/p/DABGRpKs2H5/"
          ],
          [
           "https://www.instagram.com/p/DAF-Y0UMavQ/"
          ],
          [
           "https://www.instagram.com/p/DAIurDkMFBg/"
          ],
          [
           "https://www.instagram.com/p/DAVsYF0MWQ6/"
          ],
          [
           "https://www.instagram.com/p/DAazs3zsfOr/"
          ],
          [
           "https://www.instagram.com/p/DAiaAzVswkc/"
          ],
          [
           "https://www.instagram.com/p/DAkzyF4MT0n/"
          ],
          [
           "https://www.instagram.com/p/DAnjr5KsZFj/"
          ],
          [
           "https://www.instagram.com/p/DAs_ZcesD3T/"
          ],
          [
           "https://www.instagram.com/p/DA8KXRDskrU/"
          ],
          [
           "https://www.instagram.com/p/DBLbm1ts3ii/"
          ],
          [
           "https://www.instagram.com/p/DBgCWDWsf1f/"
          ],
          [
           "https://www.instagram.com/p/DBi6YtesEOl/"
          ],
          [
           "https://www.instagram.com/p/DBrPRiTMuXU/?img_index=1"
          ],
          [
           "https://www.instagram.com/p/DBqjmGdMt8X/"
          ],
          [
           "https://www.instagram.com/p/DBv-mRhswAp/"
          ],
          [
           "https://www.instagram.com/p/DCEQQ1MstFT/"
          ],
          [
           "https://www.instagram.com/p/DCRciToMqJt/"
          ],
          [
           "https://www.instagram.com/p/DCWUmUYs8KS/"
          ],
          [
           "https://www.instagram.com/p/DCgs5PMMQr9/"
          ],
          [
           "https://www.instagram.com/p/DCjalA8s_PS/"
          ],
          [
           "https://www.instagram.com/p/DCmR9CasXsN/"
          ],
          [
           "https://www.instagram.com/p/DCq1YWkMf1-/"
          ],
          [
           "https://www.instagram.com/p/DCy4HuYsop5/"
          ],
          [
           "https://www.instagram.com/p/DC4k-U4MBZO/"
          ],
          [
           "https://www.instagram.com/p/DC66rgmMt7I/"
          ],
          [
           "https://www.instagram.com/p/DC9GEmpsRY6/"
          ],
          [
           "https://www.instagram.com/p/DDJ01l-sYGO/"
          ],
          [
           "https://www.instagram.com/p/DDM37KOs5Ck/"
          ],
          [
           "https://www.instagram.com/p/DDZT4yYMkmO/"
          ],
          [
           "https://www.instagram.com/p/DDbz3KJsfyp/"
          ],
          [
           "https://www.instagram.com/p/DDfCGvNsrio/"
          ],
          [
           "https://www.instagram.com/p/DDtuFLOs-fs/"
          ],
          [
           "https://www.instagram.com/p/DDw3ReKM5ls/"
          ],
          [
           "https://www.instagram.com/p/DD6xEBusyxS/"
          ],
          [
           "https://www.instagram.com/p/DEA1gvdMITz/"
          ],
          [
           "https://www.instagram.com/p/DEM0eZRMhbB/"
          ],
          [
           "https://www.instagram.com/p/DEXCks7Mmb2/"
          ],
          [
           "https://www.instagram.com/p/DEj1dDRsIAR/"
          ],
          [
           "https://www.instagram.com/p/DEp6b4fshfg/"
          ],
          [
           "https://www.instagram.com/p/DExYCjqsjnj/"
          ],
          [
           "https://www.instagram.com/p/DEz7zrhs9jm/"
          ],
          [
           "https://www.instagram.com/p/DFIham9sSGn/"
          ],
          [
           "https://www.instagram.com/p/DFNbbErMvnD/"
          ],
          [
           "https://www.instagram.com/p/DFcVXwyMylI/"
          ],
          [
           "https://www.instagram.com/p/DFffBkbMK7J/"
          ],
          [
           "https://www.instagram.com/p/DFnBBV5s5gm/"
          ],
          [
           "https://www.instagram.com/p/DFxsP8fs8bp/"
          ],
          [
           "https://www.instagram.com/p/DF7vTUrsYnA/"
          ],
          [
           "https://www.instagram.com/p/DF-L3DhsoTh/"
          ],
          [
           "https://www.instagram.com/p/DGBKoa5sHJD/"
          ],
          [
           "https://www.instagram.com/p/DGN_O8aMFsg/?img_index=1"
          ],
          [
           "https://www.instagram.com/p/DGTLBLKsyBS/"
          ],
          [
           "https://www.instagram.com/p/DGdRRrst-4j/"
          ],
          [
           "https://www.instagram.com/p/DGf6v5UsV2o/"
          ],
          [
           "https://www.instagram.com/p/DGntgWdMg_e/"
          ],
          [
           "https://www.instagram.com/p/DGvarptMAlF/"
          ],
          [
           "https://www.instagram.com/p/DG2juJXMzul/"
          ],
          [
           "https://www.instagram.com/p/DG5JhqJsIrD/"
          ],
          [
           "https://www.instagram.com/p/DHBwHb5MegO/"
          ],
          [
           "https://www.instagram.com/p/DHGs5Q_Mzd4/"
          ],
          [
           "https://www.instagram.com/p/DHI4XLhMobu/"
          ],
          [
           "https://www.instagram.com/p/DHLZUC5Mzx6/"
          ],
          [
           "https://www.instagram.com/p/DHTqfF9sPuZ/"
          ],
          [
           "https://www.instagram.com/p/DHYECQ9ILIr/"
          ],
          [
           "https://www.instagram.com/p/DHbOscHsl6i/"
          ],
          [
           "https://www.instagram.com/p/DHdh7utM9IH/"
          ],
          [
           "https://www.instagram.com/p/DHrD9cUsnSA/"
          ],
          [
           "https://www.instagram.com/p/DHtSks6sGvV/"
          ],
          [
           "https://www.instagram.com/p/DH29R4nslMc/"
          ],
          [
           "https://www.instagram.com/p/DH-oCUVMKcm/"
          ],
          [
           "https://www.instagram.com/p/DIBTsCjMAAn/"
          ],
          [
           "https://www.instagram.com/p/DIJAkgFMski/"
          ],
          [
           "https://www.instagram.com/p/DILopGoM4he/?img_index=1"
          ],
          [
           "https://www.instagram.com/p/DIOlhEcM4Ff/"
          ],
          [
           "https://www.instagram.com/p/DIQxv7GMhY9/"
          ],
          [
           "https://www.instagram.com/p/DITqKJXMyLP/"
          ],
          [
           "https://www.instagram.com/p/DIeNcEisfy8/"
          ],
          [
           "https://www.instagram.com/p/DIi6-ZqMXte/"
          ],
          [
           "https://www.instagram.com/p/DItE7ytMHMN/"
          ],
          [
           "https://www.instagram.com/p/DIwBGVsM7ha/"
          ],
          [
           "https://www.instagram.com/p/DI1mpv5MCXG/"
          ]
         ],
         "hovertemplate": "cafe=https://www.instagram.com/starbucksptg/<br>Date=%{x}<br>Ratio between Likes and Followers=%{y}<br>post_link=%{customdata[0]}<extra></extra>",
         "legendgroup": "https://www.instagram.com/starbucksptg/",
         "line": {
          "color": "#FF97FF",
          "dash": "solid"
         },
         "marker": {
          "symbol": "circle"
         },
         "mode": "lines",
         "name": "https://www.instagram.com/starbucksptg/",
         "showlegend": true,
         "type": "scattergl",
         "x": [
          "2022-12-31T00:00:00",
          "2023-01-03T00:00:00",
          "2023-01-05T00:00:00",
          "2023-01-10T00:00:00",
          "2023-01-12T00:00:00",
          "2023-01-16T00:00:00",
          "2023-01-23T00:00:00",
          "2023-01-25T00:00:00",
          "2023-01-27T00:00:00",
          "2023-01-30T00:00:00",
          "2023-01-31T00:00:00",
          "2023-02-03T00:00:00",
          "2023-02-06T00:00:00",
          "2023-02-07T00:00:00",
          "2023-02-09T00:00:00",
          "2023-02-10T00:00:00",
          "2023-02-14T00:00:00",
          "2023-02-22T00:00:00",
          "2023-02-24T00:00:00",
          "2023-02-28T00:00:00",
          "2023-03-03T00:00:00",
          "2023-03-08T00:00:00",
          "2023-03-09T00:00:00",
          "2023-03-14T00:00:00",
          "2023-03-17T00:00:00",
          "2023-03-24T00:00:00",
          "2023-03-28T00:00:00",
          "2023-03-30T00:00:00",
          "2023-04-10T00:00:00",
          "2023-04-12T00:00:00",
          "2023-04-13T00:00:00",
          "2023-04-17T00:00:00",
          "2023-04-20T00:00:00",
          "2023-04-24T00:00:00",
          "2023-04-27T00:00:00",
          "2023-04-28T00:00:00",
          "2023-05-04T00:00:00",
          "2023-05-08T00:00:00",
          "2023-05-10T00:00:00",
          "2023-05-11T00:00:00",
          "2023-05-18T00:00:00",
          "2023-05-19T00:00:00",
          "2023-05-25T00:00:00",
          "2023-05-30T00:00:00",
          "2023-05-31T00:00:00",
          "2023-06-06T00:00:00",
          "2023-06-09T00:00:00",
          "2023-06-12T00:00:00",
          "2023-06-15T00:00:00",
          "2023-06-20T00:00:00",
          "2023-06-23T00:00:00",
          "2023-06-27T00:00:00",
          "2023-07-03T00:00:00",
          "2023-07-06T00:00:00",
          "2023-07-07T00:00:00",
          "2023-07-10T00:00:00",
          "2023-07-14T00:00:00",
          "2023-07-17T00:00:00",
          "2023-07-25T00:00:00",
          "2023-07-31T00:00:00",
          "2023-08-08T00:00:00",
          "2023-08-09T00:00:00",
          "2023-08-11T00:00:00",
          "2023-08-14T00:00:00",
          "2023-08-16T00:00:00",
          "2023-08-18T00:00:00",
          "2023-08-21T00:00:00",
          "2023-08-23T00:00:00",
          "2023-08-24T00:00:00",
          "2023-08-29T00:00:00",
          "2023-08-30T00:00:00",
          "2023-09-01T00:00:00",
          "2023-09-05T00:00:00",
          "2023-09-08T00:00:00",
          "2023-09-11T00:00:00",
          "2023-09-12T00:00:00",
          "2023-09-15T00:00:00",
          "2023-09-18T00:00:00",
          "2023-09-19T00:00:00",
          "2023-09-21T00:00:00",
          "2023-09-22T00:00:00",
          "2023-09-25T00:00:00",
          "2023-10-03T00:00:00",
          "2023-10-11T00:00:00",
          "2023-10-30T00:00:00",
          "2023-11-07T00:00:00",
          "2023-11-13T00:00:00",
          "2023-11-14T00:00:00",
          "2023-11-20T00:00:00",
          "2023-11-21T00:00:00",
          "2023-11-23T00:00:00",
          "2023-11-25T00:00:00",
          "2023-11-28T00:00:00",
          "2023-11-30T00:00:00",
          "2023-12-05T00:00:00",
          "2023-12-11T00:00:00",
          "2023-12-19T00:00:00",
          "2023-12-21T00:00:00",
          "2023-12-29T00:00:00",
          "2024-01-04T00:00:00",
          "2024-01-10T00:00:00",
          "2024-01-15T00:00:00",
          "2024-01-18T00:00:00",
          "2024-01-19T00:00:00",
          "2024-01-23T00:00:00",
          "2024-01-26T00:00:00",
          "2024-01-30T00:00:00",
          "2024-02-02T00:00:00",
          "2024-02-05T00:00:00",
          "2024-02-09T00:00:00",
          "2024-02-12T00:00:00",
          "2024-02-14T00:00:00",
          "2024-02-16T00:00:00",
          "2024-02-22T00:00:00",
          "2024-02-23T00:00:00",
          "2024-03-06T00:00:00",
          "2024-03-07T00:00:00",
          "2024-03-11T00:00:00",
          "2024-03-13T00:00:00",
          "2024-03-17T00:00:00",
          "2024-03-18T00:00:00",
          "2024-03-19T00:00:00",
          "2024-03-25T00:00:00",
          "2024-03-26T00:00:00",
          "2024-03-28T00:00:00",
          "2024-04-01T00:00:00",
          "2024-04-01T00:00:00",
          "2024-04-03T00:00:00",
          "2024-04-05T00:00:00",
          "2024-04-08T00:00:00",
          "2024-04-11T00:00:00",
          "2024-04-12T00:00:00",
          "2024-04-16T00:00:00",
          "2024-04-18T00:00:00",
          "2024-04-23T00:00:00",
          "2024-04-25T00:00:00",
          "2024-04-30T00:00:00",
          "2024-05-08T00:00:00",
          "2024-05-09T00:00:00",
          "2024-05-13T00:00:00",
          "2024-05-14T00:00:00",
          "2024-05-20T00:00:00",
          "2024-05-21T00:00:00",
          "2024-05-27T00:00:00",
          "2024-06-03T00:00:00",
          "2024-06-04T00:00:00",
          "2024-06-12T00:00:00",
          "2024-06-17T00:00:00",
          "2024-06-21T00:00:00",
          "2024-06-25T00:00:00",
          "2024-06-26T00:00:00",
          "2024-07-01T00:00:00",
          "2024-07-02T00:00:00",
          "2024-07-03T00:00:00",
          "2024-07-04T00:00:00",
          "2024-07-05T00:00:00",
          "2024-07-10T00:00:00",
          "2024-07-11T00:00:00",
          "2024-07-15T00:00:00",
          "2024-07-16T00:00:00",
          "2024-07-17T00:00:00",
          "2024-07-18T00:00:00",
          "2024-07-23T00:00:00",
          "2024-07-26T00:00:00",
          "2024-07-31T00:00:00",
          "2024-08-05T00:00:00",
          "2024-08-07T00:00:00",
          "2024-08-09T00:00:00",
          "2024-08-13T00:00:00",
          "2024-08-14T00:00:00",
          "2024-08-16T00:00:00",
          "2024-08-19T00:00:00",
          "2024-08-22T00:00:00",
          "2024-08-26T00:00:00",
          "2024-08-28T00:00:00",
          "2024-08-30T00:00:00",
          "2024-09-05T00:00:00",
          "2024-09-09T00:00:00",
          "2024-09-13T00:00:00",
          "2024-09-16T00:00:00",
          "2024-09-17T00:00:00",
          "2024-09-19T00:00:00",
          "2024-09-20T00:00:00",
          "2024-09-25T00:00:00",
          "2024-09-27T00:00:00",
          "2024-09-30T00:00:00",
          "2024-10-01T00:00:00",
          "2024-10-02T00:00:00",
          "2024-10-04T00:00:00",
          "2024-10-10T00:00:00",
          "2024-10-16T00:00:00",
          "2024-10-24T00:00:00",
          "2024-10-25T00:00:00",
          "2024-10-28T00:00:00",
          "2024-10-28T00:00:00",
          "2024-10-30T00:00:00",
          "2024-11-07T00:00:00",
          "2024-11-12T00:00:00",
          "2024-11-14T00:00:00",
          "2024-11-18T00:00:00",
          "2024-11-19T00:00:00",
          "2024-11-20T00:00:00",
          "2024-11-22T00:00:00",
          "2024-11-25T00:00:00",
          "2024-11-27T00:00:00",
          "2024-11-28T00:00:00",
          "2024-11-29T00:00:00",
          "2024-12-04T00:00:00",
          "2024-12-05T00:00:00",
          "2024-12-10T00:00:00",
          "2024-12-11T00:00:00",
          "2024-12-12T00:00:00",
          "2024-12-18T00:00:00",
          "2024-12-19T00:00:00",
          "2024-12-23T00:00:00",
          "2024-12-25T00:00:00",
          "2024-12-30T00:00:00",
          "2025-01-03T00:00:00",
          "2025-01-08T00:00:00",
          "2025-01-10T00:00:00",
          "2025-01-13T00:00:00",
          "2025-01-14T00:00:00",
          "2025-01-22T00:00:00",
          "2025-01-24T00:00:00",
          "2025-01-30T00:00:00",
          "2025-01-31T00:00:00",
          "2025-02-03T00:00:00",
          "2025-02-07T00:00:00",
          "2025-02-11T00:00:00",
          "2025-02-12T00:00:00",
          "2025-02-13T00:00:00",
          "2025-02-18T00:00:00",
          "2025-02-20T00:00:00",
          "2025-02-24T00:00:00",
          "2025-02-25T00:00:00",
          "2025-02-28T00:00:00",
          "2025-03-03T00:00:00",
          "2025-03-06T00:00:00",
          "2025-03-07T00:00:00",
          "2025-03-10T00:00:00",
          "2025-03-12T00:00:00",
          "2025-03-13T00:00:00",
          "2025-03-14T00:00:00",
          "2025-03-17T00:00:00",
          "2025-03-19T00:00:00",
          "2025-03-20T00:00:00",
          "2025-03-21T00:00:00",
          "2025-03-26T00:00:00",
          "2025-03-27T00:00:00",
          "2025-03-31T00:00:00",
          "2025-04-03T00:00:00",
          "2025-04-04T00:00:00",
          "2025-04-07T00:00:00",
          "2025-04-08T00:00:00",
          "2025-04-09T00:00:00",
          "2025-04-10T00:00:00",
          "2025-04-11T00:00:00",
          "2025-04-15T00:00:00",
          "2025-04-17T00:00:00",
          "2025-04-22T00:00:00",
          "2025-04-23T00:00:00",
          "2025-04-25T00:00:00"
         ],
         "xaxis": "x",
         "y": {
          "bdata": "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",
          "dtype": "f8"
         },
         "yaxis": "y"
        },
        {
         "customdata": [
          [
           "https://www.instagram.com/p/Cm_r85Ej6HZ/"
          ],
          [
           "https://www.instagram.com/p/CnmdN8ODtks/"
          ],
          [
           "https://www.instagram.com/p/CnrIWRluZ5i/"
          ],
          [
           "https://www.instagram.com/p/CntuwH7O3sS/?img_index=1"
          ],
          [
           "https://www.instagram.com/p/Cn6mrqUspps/?img_index=1"
          ],
          [
           "https://www.instagram.com/p/Cn8-uNXswFj/?img_index=1"
          ],
          [
           "https://www.instagram.com/p/CoE3Zs_DXj0/"
          ],
          [
           "https://www.instagram.com/p/CoHh-waoCXY/?img_index=1"
          ],
          [
           "https://www.instagram.com/p/CoUcKixubRQ/"
          ],
          [
           "https://www.instagram.com/p/CoWubkIOclU/?img_index=1"
          ],
          [
           "https://www.instagram.com/p/Com01-_shfL/?img_index=1"
          ],
          [
           "https://www.instagram.com/p/CopW_aQtsOr/?img_index=1"
          ],
          [
           "https://www.instagram.com/p/CosOOHejZEH/"
          ],
          [
           "https://www.instagram.com/p/CouKvGJMgpA/?img_index=1"
          ],
          [
           "https://www.instagram.com/p/CoxJJkJN8fX/?img_index=1"
          ],
          [
           "https://www.instagram.com/p/Co1slWZMQxx/?img_index=1"
          ],
          [
           "https://www.instagram.com/p/Co7QMQVspIe/?img_index=1"
          ],
          [
           "https://www.instagram.com/p/Co9aLuKsclq/"
          ],
          [
           "https://www.instagram.com/p/CpAlk0FMFrN/?img_index=1"
          ],
          [
           "https://www.instagram.com/p/CpFz2YEMXoA/?img_index=1"
          ],
          [
           "https://www.instagram.com/p/CpIyYbRMooB/?img_index=1"
          ],
          [
           "https://www.instagram.com/p/CpLIrjNMqBe/"
          ],
          [
           "https://www.instagram.com/p/CpM-7fNMpbu/?img_index=1"
          ],
          [
           "https://www.instagram.com/p/CpUw9qwMHcE/?img_index=1"
          ],
          [
           "https://www.instagram.com/p/CpXprbnst96/?img_index=1"
          ],
          [
           "https://www.instagram.com/p/Cpag0eDM_7q/"
          ],
          [
           "https://www.instagram.com/p/Cpcgev1NIKb/?img_index=1"
          ],
          [
           "https://www.instagram.com/p/Cphxf1_tfVL/"
          ],
          [
           "https://www.instagram.com/p/Cpr0tB2MDi1/?img_index=1"
          ],
          [
           "https://www.instagram.com/p/CpuE215sEkS/"
          ],
          [
           "https://www.instagram.com/p/CpzvEXXjOPr/?img_index=1"
          ],
          [
           "https://www.instagram.com/p/Cp48_10jOAm/"
          ],
          [
           "https://www.instagram.com/p/Cp7VN2iMqZ7/?img_index=1"
          ],
          [
           "https://www.instagram.com/p/CqA60E6saH2/?img_index=1"
          ],
          [
           "https://www.instagram.com/p/CqDHtB6sb0Z/"
          ],
          [
           "https://www.instagram.com/p/CqIYrIqMr7Y/"
          ],
          [
           "https://www.instagram.com/p/CqNyGrADVGZ/"
          ],
          [
           "https://www.instagram.com/p/CqVF0xesMXd/?img_index=1"
          ],
          [
           "https://www.instagram.com/p/Cqaih2yMGo8/?img_index=1"
          ],
          [
           "https://www.instagram.com/p/CqaODWFjMp4/"
          ],
          [
           "https://www.instagram.com/p/CqfRdxtshUk/?img_index=1"
          ],
          [
           "https://www.instagram.com/p/CqhzHnYMRHs/?img_index=1"
          ],
          [
           "https://www.instagram.com/p/CqkzkWFMHAM/?img_index=1"
          ],
          [
           "https://www.instagram.com/p/Cqm_hYpsCJN/?img_index=1"
          ],
          [
           "https://www.instagram.com/p/CqshRUdsrzw/?img_index=1"
          ],
          [
           "https://www.instagram.com/p/CqzwnerMe_t/"
          ],
          [
           "https://www.instagram.com/p/Cq5OrZkMeHZ/?img_index=1"
          ],
          [
           "https://www.instagram.com/p/CrGSBhGM2JU/"
          ],
          [
           "https://www.instagram.com/p/CrInH6wMkDx/?img_index=1"
          ],
          [
           "https://www.instagram.com/p/CrQrkipMdtR/?img_index=1"
          ],
          [
           "https://www.instagram.com/p/CrSxk1NMeyH/?img_index=1"
          ],
          [
           "https://www.instagram.com/p/CrVZjgRMSMl/?img_index=1"
          ],
          [
           "https://www.instagram.com/p/CrX__FKMzd9/?img_index=1"
          ],
          [
           "https://www.instagram.com/p/Crak2eqs3Bb/?img_index=1"
          ],
          [
           "https://www.instagram.com/p/CrdgOxeswEE/?img_index=1"
          ],
          [
           "https://www.instagram.com/p/Crk2tV1MoDm/"
          ],
          [
           "https://www.instagram.com/p/Crn7EpNMzv4/?img_index=1"
          ],
          [
           "https://www.instagram.com/p/CrqVmwss7vy/"
          ],
          [
           "https://www.instagram.com/p/Crs2GVboYHW/?img_index=1"
          ],
          [
           "https://www.instagram.com/p/CryG2BbsIlT/?img_index=1"
          ],
          [
           "https://www.instagram.com/p/Cr0xhFzOdVm/"
          ],
          [
           "https://www.instagram.com/p/Cr5878XM0NE/?img_index=1"
          ],
          [
           "https://www.instagram.com/p/CsBoLWlMl_j/?img_index=1"
          ],
          [
           "https://www.instagram.com/p/CsG2lTfMplD/?img_index=1"
          ],
          [
           "https://www.instagram.com/p/CsJG92ss1_T/?img_index=1"
          ],
          [
           "https://www.instagram.com/p/CsOUpDENwXk/"
          ],
          [
           "https://www.instagram.com/p/CsRDJgENMuU/?img_index=1"
          ],
          [
           "https://www.instagram.com/p/CsVtsrcN6TK/?img_index=1"
          ],
          [
           "https://www.instagram.com/p/CsbX5j5rv4c/"
          ],
          [
           "https://www.instagram.com/p/CsgEWdts90K/?img_index=1"
          ],
          [
           "https://www.instagram.com/p/CsoL40-tgpf/?img_index=1"
          ],
          [
           "https://www.instagram.com/p/CsqzTkXMB0f/?img_index=1"
          ],
          [
           "https://www.instagram.com/p/CstGkx_N0g6/"
          ],
          [
           "https://www.instagram.com/p/Cs6QJzpt_vg/?img_index=1"
          ],
          [
           "https://www.instagram.com/p/Cs813hYM-K0/?img_index=1"
          ],
          [
           "https://www.instagram.com/p/Cs_eTGgLSqk/"
          ],
          [
           "https://www.instagram.com/p/CtCJ6bzs2Mw/"
          ],
          [
           "https://www.instagram.com/p/CtHA-YkMENz/?img_index=1"
          ],
          [
           "https://www.instagram.com/p/CtMK1W8Nlkp/?img_index=1"
          ],
          [
           "https://www.instagram.com/p/CtO12_2sjzI/?img_index=1"
          ],
          [
           "https://www.instagram.com/p/CtRUIbNtKDq/?img_index=1"
          ],
          [
           "https://www.instagram.com/p/CtWnFTEOPQ0/"
          ],
          [
           "https://www.instagram.com/p/CtZJYkStN6s/?img_index=1"
          ],
          [
           "https://www.instagram.com/p/CtbvQC7uCIH/"
          ],
          [
           "https://www.instagram.com/p/CtgFBdAAqsT/"
          ],
          [
           "https://www.instagram.com/p/CtmBpkNsrQq/?img_index=1"
          ],
          [
           "https://www.instagram.com/p/CtoieuOM7x2/?img_index=1"
          ],
          [
           "https://www.instagram.com/p/CtrK8cFtMEE/?img_index=1"
          ],
          [
           "https://www.instagram.com/p/Cty5ouNReuY/"
          ],
          [
           "https://www.instagram.com/p/Ct1M-VzMg2R/?img_index=1"
          ],
          [
           "https://www.instagram.com/p/Ct3_Pr9s5bD/?img_index=1"
          ],
          [
           "https://www.instagram.com/p/Ct6MZl7MjNj/?img_index=1"
          ],
          [
           "https://www.instagram.com/p/Ct9YnRMsqbY/?img_index=1"
          ],
          [
           "https://www.instagram.com/p/CuBzl2lMuv_/?img_index=1"
          ],
          [
           "https://www.instagram.com/p/CuJsqonMu1V/?img_index=1"
          ],
          [
           "https://www.instagram.com/p/CuLziSFMFGU/?img_index=1"
          ],
          [
           "https://www.instagram.com/p/CuOzklcMFSd/?img_index=1"
          ],
          [
           "https://www.instagram.com/p/CuSW8HAR18Q/"
          ],
          [
           "https://www.instagram.com/p/CubgLjzNkwi/?img_index=1"
          ],
          [
           "https://www.instagram.com/p/CuedH85Nqo6/?img_index=1"
          ],
          [
           "https://www.instagram.com/p/CuhSY09N9mm/?img_index=1"
          ],
          [
           "https://www.instagram.com/p/CujzwISNf9a/?img_index=1"
          ],
          [
           "https://www.instagram.com/p/CumLdbHMLYy/?img_index=1"
          ],
          [
           "https://www.instagram.com/p/CuzZxvHsAVN/?img_index=1"
          ],
          [
           "https://www.instagram.com/p/Cu4glzitx5N/"
          ],
          [
           "https://www.instagram.com/p/Cu7h2eAozny/"
          ],
          [
           "https://www.instagram.com/p/CvFA1idsckZ/?img_index=1"
          ],
          [
           "https://www.instagram.com/p/CvM5GkFrjdK/"
          ],
          [
           "https://www.instagram.com/p/CvXdmPBMBO8/?img_index=1"
          ],
          [
           "https://www.instagram.com/p/CvcdxQ3sOYr/"
          ],
          [
           "https://www.instagram.com/p/Cvr8L2mtMdT/?img_index=1"
          ],
          [
           "https://www.instagram.com/p/CvxF4wEMCBl/?img_index=1"
          ],
          [
           "https://www.instagram.com/p/Cv9ssr3MZNM/?img_index=1"
          ],
          [
           "https://www.instagram.com/p/CwDIU5osmCW/?img_index=1"
          ],
          [
           "https://www.instagram.com/p/CwNVmU3szjF/?img_index=1"
          ],
          [
           "https://www.instagram.com/p/CwU3RxfMBY2/"
          ],
          [
           "https://www.instagram.com/p/Cwfa-ZsMZDX/?img_index=1"
          ],
          [
           "https://www.instagram.com/p/CwnI3X8sR39/?img_index=1"
          ],
          [
           "https://www.instagram.com/p/Cwp3jJJMzu1/?img_index=1"
          ],
          [
           "https://www.instagram.com/p/Cwxf286MTXy/"
          ],
          [
           "https://www.instagram.com/p/Cw2kfjnsmI0/?img_index=1"
          ],
          [
           "https://www.instagram.com/p/Cw48rI1M1LU/?img_index=1"
          ],
          [
           "https://www.instagram.com/p/Cw9bv3vMaCP/?img_index=1"
          ],
          [
           "https://www.instagram.com/p/CxIs19xsdgn/?img_index=1"
          ],
          [
           "https://www.instagram.com/p/CxNt2j1sOSw/"
          ],
          [
           "https://www.instagram.com/p/CxPpn2BsnuM/?img_index=1"
          ],
          [
           "https://www.instagram.com/p/CxVb5l1smtB/?img_index=1"
          ],
          [
           "https://www.instagram.com/p/CxdiaDhMDpl/"
          ],
          [
           "https://www.instagram.com/p/CxsciIDsvnX/"
          ],
          [
           "https://www.instagram.com/p/Cxx3WMSM3qh/?img_index=1"
          ],
          [
           "https://www.instagram.com/p/Cx5hanlMj5a/?img_index=1"
          ],
          [
           "https://www.instagram.com/p/Cx-K_x8MQMR/?img_index=1"
          ],
          [
           "https://www.instagram.com/p/CyDrwKhsIqY/?img_index=1"
          ],
          [
           "https://www.instagram.com/p/CyL5hBoM97b/"
          ],
          [
           "https://www.instagram.com/p/CyTiGjkMOWm/"
          ],
          [
           "https://www.instagram.com/p/CyczpyqsV3Y/"
          ],
          [
           "https://www.instagram.com/p/CyhjfxlswFk/?img_index=1"
          ],
          [
           "https://www.instagram.com/p/CyvuEvTMFrk/?img_index=1"
          ],
          [
           "https://www.instagram.com/p/Cy0XszoMqES/"
          ],
          [
           "https://www.instagram.com/p/CzEOuztMtlb/?img_index=1"
          ],
          [
           "https://www.instagram.com/p/CzLnLT1sTta/?img_index=1"
          ],
          [
           "https://www.instagram.com/p/CzWE5aRM5fe/"
          ],
          [
           "https://www.instagram.com/p/CzwOZrdsySQ/?img_index=1"
          ],
          [
           "https://www.instagram.com/p/Cz6GmAHsbcp/"
          ],
          [
           "https://www.instagram.com/p/C0RD45vM54B/?img_index=1"
          ],
          [
           "https://www.instagram.com/p/C0ULep5M9vm/"
          ],
          [
           "https://www.instagram.com/p/C01TvQYMp3O/?img_index=1"
          ],
          [
           "https://www.instagram.com/p/C06HFTgsvH6/"
          ],
          [
           "https://www.instagram.com/p/C1Eo7DmsEiX/"
          ],
          [
           "https://www.instagram.com/p/C1MYmp2s5hh/?img_index=1"
          ],
          [
           "https://www.instagram.com/p/C2wx8Fnst9w/?img_index=1"
          ],
          [
           "https://www.instagram.com/p/C3ILF0iL_aF/"
          ],
          [
           "https://www.instagram.com/p/C3uu4-KsRxN/"
          ],
          [
           "https://www.instagram.com/p/C3zuiJIqNTa/"
          ],
          [
           "https://www.instagram.com/p/C37c-XItw99/"
          ],
          [
           "https://www.instagram.com/p/C4AmkVFoxM-/"
          ],
          [
           "https://www.instagram.com/p/C4IU8vDri7Q/"
          ],
          [
           "https://www.instagram.com/p/C4NejwgBU1o/"
          ],
          [
           "https://www.instagram.com/p/C4SoKSFCivW/"
          ],
          [
           "https://www.instagram.com/p/C4XxtzBOsHw/?img_index=1"
          ],
          [
           "https://www.instagram.com/p/C4c7T5SBQaX/"
          ],
          [
           "https://www.instagram.com/p/C4kpqwFMaDr/"
          ],
          [
           "https://www.instagram.com/p/C4sYERbqgCd/"
          ],
          [
           "https://www.instagram.com/p/C40GexoP6_k/"
          ],
          [
           "https://www.instagram.com/p/C5BdiIdqCVf/"
          ],
          [
           "https://www.instagram.com/p/C5Is0VPK95C/"
          ],
          [
           "https://www.instagram.com/p/C5QWIdPqLbe/?img_index=1"
          ],
          [
           "https://www.instagram.com/p/C5YCuM8LfXN/"
          ],
          [
           "https://www.instagram.com/p/C5f7mNPqurv/"
          ],
          [
           "https://www.instagram.com/p/C5nfdw9BjmX/"
          ],
          [
           "https://www.instagram.com/p/C5qEjrsL5zS/?img_index=1"
          ],
          [
           "https://www.instagram.com/p/C5vN1_AuwSh/?img_index=1"
          ],
          [
           "https://www.instagram.com/p/C528ONPtK2t/?img_index=1"
          ],
          [
           "https://www.instagram.com/p/C5-ql8FRuAL/"
          ],
          [
           "https://www.instagram.com/p/C6GY-5yI2e7/"
          ],
          [
           "https://www.instagram.com/p/C6Lin3FK1oo/?img_index=1"
          ],
          [
           "https://www.instagram.com/p/C6TRDLrpCNC/"
          ],
          [
           "https://www.instagram.com/p/C6YZByUr9Ci/"
          ],
          [
           "https://www.instagram.com/p/C6gI-rJKCTX/"
          ],
          [
           "https://www.instagram.com/p/C6n3XSCocPN/"
          ],
          [
           "https://www.instagram.com/p/C6vlwgUq7Es/"
          ],
          [
           "https://www.instagram.com/p/C68i3vAtv6V/"
          ],
          [
           "https://www.instagram.com/p/C7BnTa8BBpJ/"
          ],
          [
           "https://www.instagram.com/p/C7JVtBeODCi/"
          ],
          [
           "https://www.instagram.com/p/C7REFbmtau2/"
          ],
          [
           "https://www.instagram.com/p/C7WaFztqjW1/"
          ],
          [
           "https://www.instagram.com/p/C7Yyg_fsXG1/"
          ],
          [
           "https://www.instagram.com/p/C7gg2YAoARR/"
          ],
          [
           "https://www.instagram.com/p/C7lqcMbIChZ/"
          ],
          [
           "https://www.instagram.com/p/C7tY4KpP_76/"
          ],
          [
           "https://www.instagram.com/p/C71HNkLqXNQ/"
          ],
          [
           "https://www.instagram.com/p/C781mIthtRe/"
          ],
          [
           "https://www.instagram.com/p/C8Ej-wIobh5/"
          ],
          [
           "https://www.instagram.com/p/C8IJzTfqr39/"
          ],
          [
           "https://www.instagram.com/p/C8MSX1-qv8b/?img_index=1"
          ],
          [
           "https://www.instagram.com/p/C8UAv5KAdHk/"
          ],
          [
           "https://www.instagram.com/p/C8bvHPrxVuD/"
          ],
          [
           "https://www.instagram.com/p/C8jdhi4h-Kg/"
          ],
          [
           "https://www.instagram.com/p/C84D2MzJJBE/"
          ],
          [
           "https://www.instagram.com/p/C8_yQoju5mQ/"
          ],
          [
           "https://www.instagram.com/p/C9HgqtSMnQa/"
          ],
          [
           "https://www.instagram.com/p/C9PPB9FOBv1/"
          ],
          [
           "https://www.instagram.com/p/C9W9bKCuVq2/"
          ],
          [
           "https://www.instagram.com/p/C9hQkqlNb2O/"
          ],
          [
           "https://www.instagram.com/p/C9o-8e8PEGO/"
          ],
          [
           "https://www.instagram.com/p/C90E1mIqxO3/"
          ],
          [
           "https://www.instagram.com/p/C94bxzPCnbG/"
          ],
          [
           "https://www.instagram.com/p/C99lZ6piQFZ/"
          ],
          [
           "https://www.instagram.com/p/C-Cu4-Pv-6w/"
          ],
          [
           "https://www.instagram.com/p/C-H4lY8vnGQ/"
          ],
          [
           "https://www.instagram.com/p/C-SqqvJCYeV/?img_index=1"
          ],
          [
           "https://www.instagram.com/p/C-XArgSM0Ad/?img_index=1"
          ],
          [
           "https://www.instagram.com/p/C-ZzLtONqOp/"
          ],
          [
           "https://www.instagram.com/p/C-cbT46Ck73/?img_index=1"
          ],
          [
           "https://www.instagram.com/p/C-hT2-usKbd/?img_index=1"
          ],
          [
           "https://www.instagram.com/p/C-pefnMsD4w/"
          ],
          [
           "https://www.instagram.com/p/C-r5VJgNCTD/?img_index=1"
          ],
          [
           "https://www.instagram.com/p/C-ur67zNaEb/?img_index=1"
          ],
          [
           "https://www.instagram.com/p/C-zaB8qCxkV/?img_index=1"
          ],
          [
           "https://www.instagram.com/p/C-4tXnYvwiJ/"
          ],
          [
           "https://www.instagram.com/p/C-7S9v4tB9V/?img_index=1"
          ],
          [
           "https://www.instagram.com/p/C_AxldMqXzl/"
          ],
          [
           "https://www.instagram.com/p/C_FeRw3MYYp/?img_index=1"
          ],
          [
           "https://www.instagram.com/p/C_NVEpktL3u/?img_index=1"
          ],
          [
           "https://www.instagram.com/p/C_PxDU5NQ9B/?img_index=1"
          ],
          [
           "https://www.instagram.com/p/C_SlgKSNx4p/?img_index=1"
          ],
          [
           "https://www.instagram.com/p/C_Vc9OdpDB5/"
          ],
          [
           "https://www.instagram.com/p/C_athoHMSud/"
          ],
          [
           "https://www.instagram.com/p/C_cy_QMsA35/?img_index=1"
          ],
          [
           "https://www.instagram.com/p/C_fd32DsCQY/?img_index=1"
          ],
          [
           "https://www.instagram.com/p/C_h6ldgMXpL/"
          ],
          [
           "https://www.instagram.com/p/C_phZKStC8u/?img_index=1"
          ],
          [
           "https://www.instagram.com/p/C_vT2oosie9/?img_index=1"
          ],
          [
           "https://www.instagram.com/p/C_xT4kys6Ac/?img_index=1"
          ],
          [
           "https://www.instagram.com/p/C_0CUh0M9wI/"
          ],
          [
           "https://www.instagram.com/p/C_2lJLSsXVT/"
          ],
          [
           "https://www.instagram.com/p/C_7iHGlMPuv/?img_index=1"
          ],
          [
           "https://www.instagram.com/p/C_-EvocsQQP/"
          ],
          [
           "https://www.instagram.com/p/DAAzMmpNZru/"
          ],
          [
           "https://www.instagram.com/p/DADp9YxNF6K/?img_index=1"
          ],
          [
           "https://www.instagram.com/p/DAGAmSSMCYP/"
          ],
          [
           "https://www.instagram.com/p/DAIwQ8cM9aE/"
          ],
          [
           "https://www.instagram.com/p/DANgUPTMQdo/?img_index=1"
          ],
          [
           "https://www.instagram.com/p/DAQYyWbvfc6/?img_index=1"
          ],
          [
           "https://www.instagram.com/p/DAS5rcdNJaC/"
          ],
          [
           "https://www.instagram.com/p/DAYKH91xlj2/?img_index=1"
          ],
          [
           "https://www.instagram.com/p/DAfnm3SNeKO/?img_index=1"
          ],
          [
           "https://www.instagram.com/p/DAiRVzMNCFY/?img_index=1"
          ],
          [
           "https://www.instagram.com/p/DAkyVh2txu3/?img_index=1"
          ],
          [
           "https://www.instagram.com/p/DAqXJJXN9c_/?img_index=1"
          ],
          [
           "https://www.instagram.com/p/DAyPAg-Myag/"
          ],
          [
           "https://www.instagram.com/p/DA26svutIjz/?img_index=1"
          ],
          [
           "https://www.instagram.com/p/DA5s1c8tGK_/"
          ],
          [
           "https://www.instagram.com/p/DA8CHEeMSLg/"
          ],
          [
           "https://www.instagram.com/p/DA-vjcAMmrl/"
          ],
          [
           "https://www.instagram.com/p/DBDoylSNmXm/?img_index=1"
          ],
          [
           "https://www.instagram.com/p/DBGgKzHtBQG/?img_index=1"
          ],
          [
           "https://www.instagram.com/p/DBI_E2TtYtr/?img_index=1"
          ],
          [
           "https://www.instagram.com/p/DBLbE5oNgGi/?img_index=1"
          ],
          [
           "https://www.instagram.com/p/DBOXJ-sNMr0/?img_index=1"
          ],
          [
           "https://www.instagram.com/p/DBVqzMXNWkB/?img_index=1"
          ],
          [
           "https://www.instagram.com/p/DBa3XTTt5zP/"
          ],
          [
           "https://www.instagram.com/p/DBdjCKMNbFe/?img_index=1"
          ],
          [
           "https://www.instagram.com/p/DBgEE5xNKVp/?img_index=1"
          ],
          [
           "https://www.instagram.com/p/DBnvOrSqe3p/"
          ],
          [
           "https://www.instagram.com/p/DBqZRqlNUvN/"
          ],
          [
           "https://www.instagram.com/p/DBs7J-CIFg-/"
          ],
          [
           "https://www.instagram.com/p/DByHdPrt2ea/?img_index=1"
          ],
          [
           "https://www.instagram.com/p/DB513nstv9h/"
          ],
          [
           "https://www.instagram.com/p/DB_hH9NtFDD/?img_index=1"
          ],
          [
           "https://www.instagram.com/p/DCB22oJMAGp/"
          ],
          [
           "https://www.instagram.com/p/DCEO2GwNnIo/?img_index=1"
          ],
          [
           "https://www.instagram.com/p/DCL3R34Nv6w/?img_index=1"
          ],
          [
           "https://www.instagram.com/p/DCOdyIYNO04/?img_index=1"
          ],
          [
           "https://www.instagram.com/p/DCRKBontoCi/?img_index=1"
          ],
          [
           "https://www.instagram.com/p/DCTrLr-hn3U/"
          ],
          [
           "https://www.instagram.com/p/DCWTYz8NxIc/?img_index=1"
          ],
          [
           "https://www.instagram.com/p/DCbZhsmNSfq/"
          ],
          [
           "https://www.instagram.com/p/DCjrrX9NijW/?img_index=1"
          ],
          [
           "https://www.instagram.com/p/DClsB-SN5-w/?img_index=1"
          ],
          [
           "https://www.instagram.com/p/DCoYZmZBk-r/"
          ],
          [
           "https://www.instagram.com/p/DCtbVy4tIVH/?img_index=1"
          ],
          [
           "https://www.instagram.com/p/DCyaITzNHI9/?img_index=1"
          ],
          [
           "https://www.instagram.com/p/DC1IAMUtQUz/?img_index=1"
          ],
          [
           "https://www.instagram.com/p/DC35QIBsPG_/"
          ],
          [
           "https://www.instagram.com/p/DC8jmeQsDih/"
          ],
          [
           "https://www.instagram.com/p/DDB7KmxqIeX/"
          ],
          [
           "https://www.instagram.com/p/DDEfaxYJfSS/?img_index=1"
          ],
          [
           "https://www.instagram.com/p/DDHHoMtNBuP/?img_index=1"
          ],
          [
           "https://www.instagram.com/p/DDKBXK8MuWR/"
          ],
          [
           "https://www.instagram.com/p/DDMYEATtfHV/"
          ],
          [
           "https://www.instagram.com/p/DDUL_4OMbDv/"
          ],
          [
           "https://www.instagram.com/p/DDbvrj0tKBQ/"
          ],
          [
           "https://www.instagram.com/p/DDePJc9NRkb/"
          ],
          [
           "https://www.instagram.com/p/DDgygOqt0k5/?img_index=1"
          ],
          [
           "https://www.instagram.com/p/DDjhxb_T0cX/?img_index=1"
          ],
          [
           "https://www.instagram.com/p/DDmAsTqsGZD/"
          ],
          [
           "https://www.instagram.com/p/DDtsIvKTBrT/?img_index=1"
          ],
          [
           "https://www.instagram.com/p/DDwW0SfTwTW/?img_index=1"
          ],
          [
           "https://www.instagram.com/p/DDzClIlzD2I/"
          ],
          [
           "https://www.instagram.com/p/DD1b-JMMdJy/"
          ],
          [
           "https://www.instagram.com/p/DD4ZuuRseqX/"
          ],
          [
           "https://www.instagram.com/p/DD7N9thsBnG/?img_index=1"
          ],
          [
           "https://www.instagram.com/p/DD9KRVlzcoQ/?img_index=1"
          ],
          [
           "https://www.instagram.com/p/DECZSCwMwEJ/"
          ],
          [
           "https://www.instagram.com/p/DEE4_PRtu1i/?img_index=1"
          ],
          [
           "https://www.instagram.com/p/DEKGrE4tYD4/?img_index=1"
          ],
          [
           "https://www.instagram.com/p/DEPNgGxzyB7/?img_index=1"
          ],
          [
           "https://www.instagram.com/p/DEUb_A9NPNJ/?img_index=1"
          ],
          [
           "https://www.instagram.com/p/DEW_uHKTDdJ/?img_index=1"
          ],
          [
           "https://www.instagram.com/p/DEcPAWkT7a8/?img_index=1"
          ],
          [
           "https://www.instagram.com/p/DEjw0p2NGx3/?img_index=1"
          ],
          [
           "https://www.instagram.com/p/DEmmj0eTzvG/?img_index=1"
          ],
          [
           "https://www.instagram.com/p/DEpG4JPonmG/"
          ],
          [
           "https://www.instagram.com/p/DEuGOx2TXw2/?img_index=1"
          ],
          [
           "https://www.instagram.com/p/DEw3Uc6KgpX/?img_index=1"
          ],
          [
           "https://www.instagram.com/p/DE16ChdTaUT/?img_index=1"
          ],
          [
           "https://www.instagram.com/p/DE4ntmps0a7/"
          ],
          [
           "https://www.instagram.com/p/DFAFxDbTrWd/"
          ],
          [
           "https://www.instagram.com/p/DFFt1GoorkR/"
          ],
          [
           "https://www.instagram.com/p/DFH6yuQTB4W/"
          ],
          [
           "https://www.instagram.com/p/DFKYwXwsHHN/?img_index=1"
          ],
          [
           "https://www.instagram.com/p/DFM8CpqsXF5/"
          ],
          [
           "https://www.instagram.com/p/DFSHIReT_8Q/?img_index=1"
          ],
          [
           "https://www.instagram.com/p/DFXcx0tMtfI/"
          ],
          [
           "https://www.instagram.com/p/DFZ4ROWN0du/?img_index=1"
          ],
          [
           "https://www.instagram.com/p/DFckm-6TXSb/?img_index=1"
          ],
          [
           "https://www.instagram.com/p/DFkFuKHsSqS/?img_index=1"
          ],
          [
           "https://www.instagram.com/p/DFr_fqtuolL/"
          ],
          [
           "https://www.instagram.com/p/DFuppj6taGR/?img_index=1"
          ],
          [
           "https://www.instagram.com/p/DFxArO4tuQt/?img_index=1"
          ],
          [
           "https://www.instagram.com/p/DF2F4z2s_14/"
          ],
          [
           "https://www.instagram.com/p/DF7VkXhNgWr/?img_index=1"
          ],
          [
           "https://www.instagram.com/p/DF-BN9FTCEf/"
          ],
          [
           "https://www.instagram.com/p/DGC8eJdsHe6/"
          ],
          [
           "https://www.instagram.com/p/DGIXU0JTkTn/?img_index=1"
          ],
          [
           "https://www.instagram.com/p/DGNwd7ttvfe/?img_index=1"
          ],
          [
           "https://www.instagram.com/p/DGQD1NEMwdS/"
          ],
          [
           "https://www.instagram.com/p/DGStWHATJGK/?img_index=1"
          ],
          [
           "https://www.instagram.com/p/DGaK6OPThe1/?img_index=1"
          ],
          [
           "https://www.instagram.com/p/DGfdqMesaFI/?img_index=1"
          ],
          [
           "https://www.instagram.com/p/DGiJjOxT3gO/?img_index=1"
          ],
          [
           "https://www.instagram.com/p/DGkp_oSMmFk/"
          ],
          [
           "https://www.instagram.com/p/DGsOeU8NBAX/"
          ],
          [
           "https://www.instagram.com/p/DGxmxmozOcM/?img_index=1"
          ],
          [
           "https://www.instagram.com/p/DGz9V33Tezr/?img_index=1"
          ],
          [
           "https://www.instagram.com/p/DG5Nzput9zg/?img_index=1"
          ],
          [
           "https://www.instagram.com/p/DG-wXmCs_Se/"
          ],
          [
           "https://www.instagram.com/p/DHDhsOtzuTb/?img_index=1"
          ],
          [
           "https://www.instagram.com/p/DHGHl8GMds6/"
          ],
          [
           "https://www.instagram.com/p/DHLSygrz8As/?img_index=1"
          ],
          [
           "https://www.instagram.com/p/DHQSDXdtwak/"
          ],
          [
           "https://www.instagram.com/p/DHViiG5vk4y/"
          ],
          [
           "https://www.instagram.com/p/DHYAe1XNevC/?img_index=1"
          ],
          [
           "https://www.instagram.com/p/DHasZP5vdTw/"
          ],
          [
           "https://www.instagram.com/p/DHfwkFyxFER/?img_index=1"
          ],
          [
           "https://www.instagram.com/p/DHk_2wjN_D3/"
          ],
          [
           "https://www.instagram.com/p/DHqL-6iOs4T/?img_index=1"
          ],
          [
           "https://www.instagram.com/p/DHssT15po63/?img_index=1"
          ],
          [
           "https://www.instagram.com/p/DH1qDdHCUsi/"
          ],
          [
           "https://www.instagram.com/p/DH0PBkjRhm3/?img_index=1"
          ],
          [
           "https://www.instagram.com/p/DH5jBtrpDHK/?img_index=1"
          ],
          [
           "https://www.instagram.com/p/DH8AtspxsAD/"
          ],
          [
           "https://www.instagram.com/p/DH-o2W3xt82/?img_index=1"
          ],
          [
           "https://www.instagram.com/p/DIGTUKPR1MZ/"
          ],
          [
           "https://www.instagram.com/p/DILi_WnRPAQ/?img_index=1"
          ],
          [
           "https://www.instagram.com/p/DIOFKaNPukP/?img_index=1"
          ],
          [
           "https://www.instagram.com/p/DIQp9U-swag/?img_index=1"
          ],
          [
           "https://www.instagram.com/p/DIYSuDosg0O/?img_index=1"
          ],
          [
           "https://www.instagram.com/p/DIvlNzTv-YA/?img_index=1"
          ],
          [
           "https://www.instagram.com/p/DIyF2imt0e8/"
          ],
          [
           "https://www.instagram.com/p/DI0pS8Atd0E/?img_index=1"
          ],
          [
           "https://www.instagram.com/p/DI3rnbeTDUW/?img_index=1"
          ],
          [
           "https://www.instagram.com/p/DI5sXSNtIi2/?img_index=1"
          ]
         ],
         "hovertemplate": "cafe=https://www.instagram.com/cphcoffeelab/<br>Date=%{x}<br>Ratio between Likes and Followers=%{y}<br>post_link=%{customdata[0]}<extra></extra>",
         "legendgroup": "https://www.instagram.com/cphcoffeelab/",
         "line": {
          "color": "#FECB52",
          "dash": "solid"
         },
         "marker": {
          "symbol": "circle"
         },
         "mode": "lines",
         "name": "https://www.instagram.com/cphcoffeelab/",
         "showlegend": true,
         "type": "scattergl",
         "x": [
          "2023-01-04T00:00:00",
          "2023-01-19T00:00:00",
          "2023-01-21T00:00:00",
          "2023-01-22T00:00:00",
          "2023-01-27T00:00:00",
          "2023-01-28T00:00:00",
          "2023-01-31T00:00:00",
          "2023-02-01T00:00:00",
          "2023-02-06T00:00:00",
          "2023-02-07T00:00:00",
          "2023-02-13T00:00:00",
          "2023-02-14T00:00:00",
          "2023-02-15T00:00:00",
          "2023-02-16T00:00:00",
          "2023-02-17T00:00:00",
          "2023-02-19T00:00:00",
          "2023-02-21T00:00:00",
          "2023-02-22T00:00:00",
          "2023-02-23T00:00:00",
          "2023-02-25T00:00:00",
          "2023-02-26T00:00:00",
          "2023-02-27T00:00:00",
          "2023-02-28T00:00:00",
          "2023-03-03T00:00:00",
          "2023-03-04T00:00:00",
          "2023-03-05T00:00:00",
          "2023-03-06T00:00:00",
          "2023-03-08T00:00:00",
          "2023-03-12T00:00:00",
          "2023-03-13T00:00:00",
          "2023-03-15T00:00:00",
          "2023-03-17T00:00:00",
          "2023-03-18T00:00:00",
          "2023-03-20T00:00:00",
          "2023-03-21T00:00:00",
          "2023-03-23T00:00:00",
          "2023-03-25T00:00:00",
          "2023-03-28T00:00:00",
          "2023-03-30T00:00:00",
          "2023-03-30T00:00:00",
          "2023-04-01T00:00:00",
          "2023-04-02T00:00:00",
          "2023-04-03T00:00:00",
          "2023-04-04T00:00:00",
          "2023-04-06T00:00:00",
          "2023-04-09T00:00:00",
          "2023-04-11T00:00:00",
          "2023-04-16T00:00:00",
          "2023-04-17T00:00:00",
          "2023-04-20T00:00:00",
          "2023-04-21T00:00:00",
          "2023-04-22T00:00:00",
          "2023-04-23T00:00:00",
          "2023-04-24T00:00:00",
          "2023-04-25T00:00:00",
          "2023-04-28T00:00:00",
          "2023-04-29T00:00:00",
          "2023-04-30T00:00:00",
          "2023-05-01T00:00:00",
          "2023-05-03T00:00:00",
          "2023-05-04T00:00:00",
          "2023-05-06T00:00:00",
          "2023-05-09T00:00:00",
          "2023-05-11T00:00:00",
          "2023-05-12T00:00:00",
          "2023-05-14T00:00:00",
          "2023-05-15T00:00:00",
          "2023-05-17T00:00:00",
          "2023-05-19T00:00:00",
          "2023-05-21T00:00:00",
          "2023-05-24T00:00:00",
          "2023-05-25T00:00:00",
          "2023-05-26T00:00:00",
          "2023-05-31T00:00:00",
          "2023-06-01T00:00:00",
          "2023-06-02T00:00:00",
          "2023-06-03T00:00:00",
          "2023-06-05T00:00:00",
          "2023-06-07T00:00:00",
          "2023-06-08T00:00:00",
          "2023-06-09T00:00:00",
          "2023-06-11T00:00:00",
          "2023-06-12T00:00:00",
          "2023-06-13T00:00:00",
          "2023-06-15T00:00:00",
          "2023-06-17T00:00:00",
          "2023-06-18T00:00:00",
          "2023-06-19T00:00:00",
          "2023-06-22T00:00:00",
          "2023-06-23T00:00:00",
          "2023-06-24T00:00:00",
          "2023-06-25T00:00:00",
          "2023-06-26T00:00:00",
          "2023-06-28T00:00:00",
          "2023-07-01T00:00:00",
          "2023-07-02T00:00:00",
          "2023-07-03T00:00:00",
          "2023-07-04T00:00:00",
          "2023-07-08T00:00:00",
          "2023-07-09T00:00:00",
          "2023-07-10T00:00:00",
          "2023-07-11T00:00:00",
          "2023-07-12T00:00:00",
          "2023-07-17T00:00:00",
          "2023-07-19T00:00:00",
          "2023-07-20T00:00:00",
          "2023-07-24T00:00:00",
          "2023-07-27T00:00:00",
          "2023-07-31T00:00:00",
          "2023-08-02T00:00:00",
          "2023-08-08T00:00:00",
          "2023-08-10T00:00:00",
          "2023-08-15T00:00:00",
          "2023-08-17T00:00:00",
          "2023-08-21T00:00:00",
          "2023-08-24T00:00:00",
          "2023-08-28T00:00:00",
          "2023-08-31T00:00:00",
          "2023-09-01T00:00:00",
          "2023-09-04T00:00:00",
          "2023-09-06T00:00:00",
          "2023-09-07T00:00:00",
          "2023-09-09T00:00:00",
          "2023-09-13T00:00:00",
          "2023-09-15T00:00:00",
          "2023-09-16T00:00:00",
          "2023-09-18T00:00:00",
          "2023-09-21T00:00:00",
          "2023-09-27T00:00:00",
          "2023-09-29T00:00:00",
          "2023-10-02T00:00:00",
          "2023-10-04T00:00:00",
          "2023-10-06T00:00:00",
          "2023-10-09T00:00:00",
          "2023-10-12T00:00:00",
          "2023-10-16T00:00:00",
          "2023-10-18T00:00:00",
          "2023-10-23T00:00:00",
          "2023-10-25T00:00:00",
          "2023-10-31T00:00:00",
          "2023-11-03T00:00:00",
          "2023-11-07T00:00:00",
          "2023-11-17T00:00:00",
          "2023-11-21T00:00:00",
          "2023-11-30T00:00:00",
          "2023-12-01T00:00:00",
          "2023-12-14T00:00:00",
          "2023-12-16T00:00:00",
          "2023-12-20T00:00:00",
          "2023-12-23T00:00:00",
          "2024-01-31T00:00:00",
          "2024-02-09T00:00:00",
          "2024-02-24T00:00:00",
          "2024-02-26T00:00:00",
          "2024-02-29T00:00:00",
          "2024-03-02T00:00:00",
          "2024-03-05T00:00:00",
          "2024-03-07T00:00:00",
          "2024-03-09T00:00:00",
          "2024-03-11T00:00:00",
          "2024-03-13T00:00:00",
          "2024-03-16T00:00:00",
          "2024-03-19T00:00:00",
          "2024-03-22T00:00:00",
          "2024-03-27T00:00:00",
          "2024-03-30T00:00:00",
          "2024-04-02T00:00:00",
          "2024-04-05T00:00:00",
          "2024-04-08T00:00:00",
          "2024-04-11T00:00:00",
          "2024-04-12T00:00:00",
          "2024-04-14T00:00:00",
          "2024-04-17T00:00:00",
          "2024-04-20T00:00:00",
          "2024-04-23T00:00:00",
          "2024-04-25T00:00:00",
          "2024-04-28T00:00:00",
          "2024-04-30T00:00:00",
          "2024-05-03T00:00:00",
          "2024-05-06T00:00:00",
          "2024-05-09T00:00:00",
          "2024-05-14T00:00:00",
          "2024-05-16T00:00:00",
          "2024-05-19T00:00:00",
          "2024-05-22T00:00:00",
          "2024-05-24T00:00:00",
          "2024-05-25T00:00:00",
          "2024-05-28T00:00:00",
          "2024-05-30T00:00:00",
          "2024-06-02T00:00:00",
          "2024-06-05T00:00:00",
          "2024-06-08T00:00:00",
          "2024-06-11T00:00:00",
          "2024-06-12T00:00:00",
          "2024-06-14T00:00:00",
          "2024-06-17T00:00:00",
          "2024-06-20T00:00:00",
          "2024-06-23T00:00:00",
          "2024-07-01T00:00:00",
          "2024-07-04T00:00:00",
          "2024-07-07T00:00:00",
          "2024-07-10T00:00:00",
          "2024-07-13T00:00:00",
          "2024-07-17T00:00:00",
          "2024-07-20T00:00:00",
          "2024-07-24T00:00:00",
          "2024-07-26T00:00:00",
          "2024-07-28T00:00:00",
          "2024-07-30T00:00:00",
          "2024-08-01T00:00:00",
          "2024-08-05T00:00:00",
          "2024-08-07T00:00:00",
          "2024-08-08T00:00:00",
          "2024-08-09T00:00:00",
          "2024-08-11T00:00:00",
          "2024-08-14T00:00:00",
          "2024-08-15T00:00:00",
          "2024-08-16T00:00:00",
          "2024-08-18T00:00:00",
          "2024-08-20T00:00:00",
          "2024-08-21T00:00:00",
          "2024-08-23T00:00:00",
          "2024-08-25T00:00:00",
          "2024-08-28T00:00:00",
          "2024-08-29T00:00:00",
          "2024-08-30T00:00:00",
          "2024-08-31T00:00:00",
          "2024-09-02T00:00:00",
          "2024-09-03T00:00:00",
          "2024-09-04T00:00:00",
          "2024-09-05T00:00:00",
          "2024-09-08T00:00:00",
          "2024-09-10T00:00:00",
          "2024-09-11T00:00:00",
          "2024-09-12T00:00:00",
          "2024-09-13T00:00:00",
          "2024-09-15T00:00:00",
          "2024-09-16T00:00:00",
          "2024-09-17T00:00:00",
          "2024-09-18T00:00:00",
          "2024-09-19T00:00:00",
          "2024-09-20T00:00:00",
          "2024-09-22T00:00:00",
          "2024-09-23T00:00:00",
          "2024-09-24T00:00:00",
          "2024-09-26T00:00:00",
          "2024-09-29T00:00:00",
          "2024-09-30T00:00:00",
          "2024-10-01T00:00:00",
          "2024-10-03T00:00:00",
          "2024-10-06T00:00:00",
          "2024-10-08T00:00:00",
          "2024-10-09T00:00:00",
          "2024-10-10T00:00:00",
          "2024-10-11T00:00:00",
          "2024-10-13T00:00:00",
          "2024-10-14T00:00:00",
          "2024-10-15T00:00:00",
          "2024-10-16T00:00:00",
          "2024-10-17T00:00:00",
          "2024-10-20T00:00:00",
          "2024-10-22T00:00:00",
          "2024-10-23T00:00:00",
          "2024-10-24T00:00:00",
          "2024-10-27T00:00:00",
          "2024-10-28T00:00:00",
          "2024-10-29T00:00:00",
          "2024-10-31T00:00:00",
          "2024-11-03T00:00:00",
          "2024-11-05T00:00:00",
          "2024-11-06T00:00:00",
          "2024-11-07T00:00:00",
          "2024-11-10T00:00:00",
          "2024-11-11T00:00:00",
          "2024-11-12T00:00:00",
          "2024-11-13T00:00:00",
          "2024-11-14T00:00:00",
          "2024-11-16T00:00:00",
          "2024-11-19T00:00:00",
          "2024-11-20T00:00:00",
          "2024-11-21T00:00:00",
          "2024-11-23T00:00:00",
          "2024-11-25T00:00:00",
          "2024-11-26T00:00:00",
          "2024-11-27T00:00:00",
          "2024-11-29T00:00:00",
          "2024-12-01T00:00:00",
          "2024-12-02T00:00:00",
          "2024-12-03T00:00:00",
          "2024-12-04T00:00:00",
          "2024-12-05T00:00:00",
          "2024-12-08T00:00:00",
          "2024-12-11T00:00:00",
          "2024-12-12T00:00:00",
          "2024-12-13T00:00:00",
          "2024-12-14T00:00:00",
          "2024-12-15T00:00:00",
          "2024-12-18T00:00:00",
          "2024-12-19T00:00:00",
          "2024-12-20T00:00:00",
          "2024-12-21T00:00:00",
          "2024-12-22T00:00:00",
          "2024-12-23T00:00:00",
          "2024-12-24T00:00:00",
          "2024-12-26T00:00:00",
          "2024-12-27T00:00:00",
          "2024-12-29T00:00:00",
          "2024-12-31T00:00:00",
          "2025-01-02T00:00:00",
          "2025-01-03T00:00:00",
          "2025-01-05T00:00:00",
          "2025-01-08T00:00:00",
          "2025-01-09T00:00:00",
          "2025-01-10T00:00:00",
          "2025-01-12T00:00:00",
          "2025-01-13T00:00:00",
          "2025-01-15T00:00:00",
          "2025-01-16T00:00:00",
          "2025-01-19T00:00:00",
          "2025-01-21T00:00:00",
          "2025-01-22T00:00:00",
          "2025-01-23T00:00:00",
          "2025-01-24T00:00:00",
          "2025-01-26T00:00:00",
          "2025-01-28T00:00:00",
          "2025-01-29T00:00:00",
          "2025-01-30T00:00:00",
          "2025-02-02T00:00:00",
          "2025-02-05T00:00:00",
          "2025-02-06T00:00:00",
          "2025-02-07T00:00:00",
          "2025-02-09T00:00:00",
          "2025-02-11T00:00:00",
          "2025-02-12T00:00:00",
          "2025-02-14T00:00:00",
          "2025-02-16T00:00:00",
          "2025-02-18T00:00:00",
          "2025-02-19T00:00:00",
          "2025-02-20T00:00:00",
          "2025-02-23T00:00:00",
          "2025-02-25T00:00:00",
          "2025-02-26T00:00:00",
          "2025-02-27T00:00:00",
          "2025-03-02T00:00:00",
          "2025-03-04T00:00:00",
          "2025-03-05T00:00:00",
          "2025-03-07T00:00:00",
          "2025-03-09T00:00:00",
          "2025-03-11T00:00:00",
          "2025-03-12T00:00:00",
          "2025-03-14T00:00:00",
          "2025-03-16T00:00:00",
          "2025-03-18T00:00:00",
          "2025-03-19T00:00:00",
          "2025-03-20T00:00:00",
          "2025-03-22T00:00:00",
          "2025-03-24T00:00:00",
          "2025-03-26T00:00:00",
          "2025-03-27T00:00:00",
          "2025-03-30T00:00:00",
          "2025-03-30T00:00:00",
          "2025-04-01T00:00:00",
          "2025-04-02T00:00:00",
          "2025-04-03T00:00:00",
          "2025-04-06T00:00:00",
          "2025-04-08T00:00:00",
          "2025-04-09T00:00:00",
          "2025-04-10T00:00:00",
          "2025-04-13T00:00:00",
          "2025-04-22T00:00:00",
          "2025-04-23T00:00:00",
          "2025-04-24T00:00:00",
          "2025-04-26T00:00:00",
          "2025-04-26T00:00:00"
         ],
         "xaxis": "x",
         "y": {
          "bdata": "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",
          "dtype": "f8"
         },
         "yaxis": "y"
        }
       ],
       "layout": {
        "legend": {
         "title": {
          "text": "cafe"
         },
         "tracegroupgap": 0
        },
        "margin": {
         "t": 60
        },
        "template": {
         "data": {
          "bar": [
           {
            "error_x": {
             "color": "#2a3f5f"
            },
            "error_y": {
             "color": "#2a3f5f"
            },
            "marker": {
             "line": {
              "color": "#E5ECF6",
              "width": 0.5
             },
             "pattern": {
              "fillmode": "overlay",
              "size": 10,
              "solidity": 0.2
             }
            },
            "type": "bar"
           }
          ],
          "barpolar": [
           {
            "marker": {
             "line": {
              "color": "#E5ECF6",
              "width": 0.5
             },
             "pattern": {
              "fillmode": "overlay",
              "size": 10,
              "solidity": 0.2
             }
            },
            "type": "barpolar"
           }
          ],
          "carpet": [
           {
            "aaxis": {
             "endlinecolor": "#2a3f5f",
             "gridcolor": "white",
             "linecolor": "white",
             "minorgridcolor": "white",
             "startlinecolor": "#2a3f5f"
            },
            "baxis": {
             "endlinecolor": "#2a3f5f",
             "gridcolor": "white",
             "linecolor": "white",
             "minorgridcolor": "white",
             "startlinecolor": "#2a3f5f"
            },
            "type": "carpet"
           }
          ],
          "choropleth": [
           {
            "colorbar": {
             "outlinewidth": 0,
             "ticks": ""
            },
            "type": "choropleth"
           }
          ],
          "contour": [
           {
            "colorbar": {
             "outlinewidth": 0,
             "ticks": ""
            },
            "colorscale": [
             [
              0,
              "#0d0887"
             ],
             [
              0.1111111111111111,
              "#46039f"
             ],
             [
              0.2222222222222222,
              "#7201a8"
             ],
             [
              0.3333333333333333,
              "#9c179e"
             ],
             [
              0.4444444444444444,
              "#bd3786"
             ],
             [
              0.5555555555555556,
              "#d8576b"
             ],
             [
              0.6666666666666666,
              "#ed7953"
             ],
             [
              0.7777777777777778,
              "#fb9f3a"
             ],
             [
              0.8888888888888888,
              "#fdca26"
             ],
             [
              1,
              "#f0f921"
             ]
            ],
            "type": "contour"
           }
          ],
          "contourcarpet": [
           {
            "colorbar": {
             "outlinewidth": 0,
             "ticks": ""
            },
            "type": "contourcarpet"
           }
          ],
          "heatmap": [
           {
            "colorbar": {
             "outlinewidth": 0,
             "ticks": ""
            },
            "colorscale": [
             [
              0,
              "#0d0887"
             ],
             [
              0.1111111111111111,
              "#46039f"
             ],
             [
              0.2222222222222222,
              "#7201a8"
             ],
             [
              0.3333333333333333,
              "#9c179e"
             ],
             [
              0.4444444444444444,
              "#bd3786"
             ],
             [
              0.5555555555555556,
              "#d8576b"
             ],
             [
              0.6666666666666666,
              "#ed7953"
             ],
             [
              0.7777777777777778,
              "#fb9f3a"
             ],
             [
              0.8888888888888888,
              "#fdca26"
             ],
             [
              1,
              "#f0f921"
             ]
            ],
            "type": "heatmap"
           }
          ],
          "histogram": [
           {
            "marker": {
             "pattern": {
              "fillmode": "overlay",
              "size": 10,
              "solidity": 0.2
             }
            },
            "type": "histogram"
           }
          ],
          "histogram2d": [
           {
            "colorbar": {
             "outlinewidth": 0,
             "ticks": ""
            },
            "colorscale": [
             [
              0,
              "#0d0887"
             ],
             [
              0.1111111111111111,
              "#46039f"
             ],
             [
              0.2222222222222222,
              "#7201a8"
             ],
             [
              0.3333333333333333,
              "#9c179e"
             ],
             [
              0.4444444444444444,
              "#bd3786"
             ],
             [
              0.5555555555555556,
              "#d8576b"
             ],
             [
              0.6666666666666666,
              "#ed7953"
             ],
             [
              0.7777777777777778,
              "#fb9f3a"
             ],
             [
              0.8888888888888888,
              "#fdca26"
             ],
             [
              1,
              "#f0f921"
             ]
            ],
            "type": "histogram2d"
           }
          ],
          "histogram2dcontour": [
           {
            "colorbar": {
             "outlinewidth": 0,
             "ticks": ""
            },
            "colorscale": [
             [
              0,
              "#0d0887"
             ],
             [
              0.1111111111111111,
              "#46039f"
             ],
             [
              0.2222222222222222,
              "#7201a8"
             ],
             [
              0.3333333333333333,
              "#9c179e"
             ],
             [
              0.4444444444444444,
              "#bd3786"
             ],
             [
              0.5555555555555556,
              "#d8576b"
             ],
             [
              0.6666666666666666,
              "#ed7953"
             ],
             [
              0.7777777777777778,
              "#fb9f3a"
             ],
             [
              0.8888888888888888,
              "#fdca26"
             ],
             [
              1,
              "#f0f921"
             ]
            ],
            "type": "histogram2dcontour"
           }
          ],
          "mesh3d": [
           {
            "colorbar": {
             "outlinewidth": 0,
             "ticks": ""
            },
            "type": "mesh3d"
           }
          ],
          "parcoords": [
           {
            "line": {
             "colorbar": {
              "outlinewidth": 0,
              "ticks": ""
             }
            },
            "type": "parcoords"
           }
          ],
          "pie": [
           {
            "automargin": true,
            "type": "pie"
           }
          ],
          "scatter": [
           {
            "fillpattern": {
             "fillmode": "overlay",
             "size": 10,
             "solidity": 0.2
            },
            "type": "scatter"
           }
          ],
          "scatter3d": [
           {
            "line": {
             "colorbar": {
              "outlinewidth": 0,
              "ticks": ""
             }
            },
            "marker": {
             "colorbar": {
              "outlinewidth": 0,
              "ticks": ""
             }
            },
            "type": "scatter3d"
           }
          ],
          "scattercarpet": [
           {
            "marker": {
             "colorbar": {
              "outlinewidth": 0,
              "ticks": ""
             }
            },
            "type": "scattercarpet"
           }
          ],
          "scattergeo": [
           {
            "marker": {
             "colorbar": {
              "outlinewidth": 0,
              "ticks": ""
             }
            },
            "type": "scattergeo"
           }
          ],
          "scattergl": [
           {
            "marker": {
             "colorbar": {
              "outlinewidth": 0,
              "ticks": ""
             }
            },
            "type": "scattergl"
           }
          ],
          "scattermap": [
           {
            "marker": {
             "colorbar": {
              "outlinewidth": 0,
              "ticks": ""
             }
            },
            "type": "scattermap"
           }
          ],
          "scattermapbox": [
           {
            "marker": {
             "colorbar": {
              "outlinewidth": 0,
              "ticks": ""
             }
            },
            "type": "scattermapbox"
           }
          ],
          "scatterpolar": [
           {
            "marker": {
             "colorbar": {
              "outlinewidth": 0,
              "ticks": ""
             }
            },
            "type": "scatterpolar"
           }
          ],
          "scatterpolargl": [
           {
            "marker": {
             "colorbar": {
              "outlinewidth": 0,
              "ticks": ""
             }
            },
            "type": "scatterpolargl"
           }
          ],
          "scatterternary": [
           {
            "marker": {
             "colorbar": {
              "outlinewidth": 0,
              "ticks": ""
             }
            },
            "type": "scatterternary"
           }
          ],
          "surface": [
           {
            "colorbar": {
             "outlinewidth": 0,
             "ticks": ""
            },
            "colorscale": [
             [
              0,
              "#0d0887"
             ],
             [
              0.1111111111111111,
              "#46039f"
             ],
             [
              0.2222222222222222,
              "#7201a8"
             ],
             [
              0.3333333333333333,
              "#9c179e"
             ],
             [
              0.4444444444444444,
              "#bd3786"
             ],
             [
              0.5555555555555556,
              "#d8576b"
             ],
             [
              0.6666666666666666,
              "#ed7953"
             ],
             [
              0.7777777777777778,
              "#fb9f3a"
             ],
             [
              0.8888888888888888,
              "#fdca26"
             ],
             [
              1,
              "#f0f921"
             ]
            ],
            "type": "surface"
           }
          ],
          "table": [
           {
            "cells": {
             "fill": {
              "color": "#EBF0F8"
             },
             "line": {
              "color": "white"
             }
            },
            "header": {
             "fill": {
              "color": "#C8D4E3"
             },
             "line": {
              "color": "white"
             }
            },
            "type": "table"
           }
          ]
         },
         "layout": {
          "annotationdefaults": {
           "arrowcolor": "#2a3f5f",
           "arrowhead": 0,
           "arrowwidth": 1
          },
          "autotypenumbers": "strict",
          "coloraxis": {
           "colorbar": {
            "outlinewidth": 0,
            "ticks": ""
           }
          },
          "colorscale": {
           "diverging": [
            [
             0,
             "#8e0152"
            ],
            [
             0.1,
             "#c51b7d"
            ],
            [
             0.2,
             "#de77ae"
            ],
            [
             0.3,
             "#f1b6da"
            ],
            [
             0.4,
             "#fde0ef"
            ],
            [
             0.5,
             "#f7f7f7"
            ],
            [
             0.6,
             "#e6f5d0"
            ],
            [
             0.7,
             "#b8e186"
            ],
            [
             0.8,
             "#7fbc41"
            ],
            [
             0.9,
             "#4d9221"
            ],
            [
             1,
             "#276419"
            ]
           ],
           "sequential": [
            [
             0,
             "#0d0887"
            ],
            [
             0.1111111111111111,
             "#46039f"
            ],
            [
             0.2222222222222222,
             "#7201a8"
            ],
            [
             0.3333333333333333,
             "#9c179e"
            ],
            [
             0.4444444444444444,
             "#bd3786"
            ],
            [
             0.5555555555555556,
             "#d8576b"
            ],
            [
             0.6666666666666666,
             "#ed7953"
            ],
            [
             0.7777777777777778,
             "#fb9f3a"
            ],
            [
             0.8888888888888888,
             "#fdca26"
            ],
            [
             1,
             "#f0f921"
            ]
           ],
           "sequentialminus": [
            [
             0,
             "#0d0887"
            ],
            [
             0.1111111111111111,
             "#46039f"
            ],
            [
             0.2222222222222222,
             "#7201a8"
            ],
            [
             0.3333333333333333,
             "#9c179e"
            ],
            [
             0.4444444444444444,
             "#bd3786"
            ],
            [
             0.5555555555555556,
             "#d8576b"
            ],
            [
             0.6666666666666666,
             "#ed7953"
            ],
            [
             0.7777777777777778,
             "#fb9f3a"
            ],
            [
             0.8888888888888888,
             "#fdca26"
            ],
            [
             1,
             "#f0f921"
            ]
           ]
          },
          "colorway": [
           "#636efa",
           "#EF553B",
           "#00cc96",
           "#ab63fa",
           "#FFA15A",
           "#19d3f3",
           "#FF6692",
           "#B6E880",
           "#FF97FF",
           "#FECB52"
          ],
          "font": {
           "color": "#2a3f5f"
          },
          "geo": {
           "bgcolor": "white",
           "lakecolor": "white",
           "landcolor": "#E5ECF6",
           "showlakes": true,
           "showland": true,
           "subunitcolor": "white"
          },
          "hoverlabel": {
           "align": "left"
          },
          "hovermode": "closest",
          "mapbox": {
           "style": "light"
          },
          "paper_bgcolor": "white",
          "plot_bgcolor": "#E5ECF6",
          "polar": {
           "angularaxis": {
            "gridcolor": "white",
            "linecolor": "white",
            "ticks": ""
           },
           "bgcolor": "#E5ECF6",
           "radialaxis": {
            "gridcolor": "white",
            "linecolor": "white",
            "ticks": ""
           }
          },
          "scene": {
           "xaxis": {
            "backgroundcolor": "#E5ECF6",
            "gridcolor": "white",
            "gridwidth": 2,
            "linecolor": "white",
            "showbackground": true,
            "ticks": "",
            "zerolinecolor": "white"
           },
           "yaxis": {
            "backgroundcolor": "#E5ECF6",
            "gridcolor": "white",
            "gridwidth": 2,
            "linecolor": "white",
            "showbackground": true,
            "ticks": "",
            "zerolinecolor": "white"
           },
           "zaxis": {
            "backgroundcolor": "#E5ECF6",
            "gridcolor": "white",
            "gridwidth": 2,
            "linecolor": "white",
            "showbackground": true,
            "ticks": "",
            "zerolinecolor": "white"
           }
          },
          "shapedefaults": {
           "line": {
            "color": "#2a3f5f"
           }
          },
          "ternary": {
           "aaxis": {
            "gridcolor": "white",
            "linecolor": "white",
            "ticks": ""
           },
           "baxis": {
            "gridcolor": "white",
            "linecolor": "white",
            "ticks": ""
           },
           "bgcolor": "#E5ECF6",
           "caxis": {
            "gridcolor": "white",
            "linecolor": "white",
            "ticks": ""
           }
          },
          "title": {
           "x": 0.05
          },
          "xaxis": {
           "automargin": true,
           "gridcolor": "white",
           "linecolor": "white",
           "ticks": "",
           "title": {
            "standoff": 15
           },
           "zerolinecolor": "white",
           "zerolinewidth": 2
          },
          "yaxis": {
           "automargin": true,
           "gridcolor": "white",
           "linecolor": "white",
           "ticks": "",
           "title": {
            "standoff": 15
           },
           "zerolinecolor": "white",
           "zerolinewidth": 2
          }
         }
        },
        "xaxis": {
         "anchor": "y",
         "domain": [
          0,
          1
         ],
         "title": {
          "text": "Date"
         }
        },
        "yaxis": {
         "anchor": "x",
         "domain": [
          0,
          1
         ],
         "title": {
          "text": "Ratio between Likes and Followers"
         }
        }
       }
      }
     },
     "metadata": {},
     "output_type": "display_data"
    },
    {
     "data": {
      "application/vnd.plotly.v1+json": {
       "config": {
        "plotlyServerURL": "https://plot.ly"
       },
       "data": [
        {
         "alignmentgroup": "True",
         "hovertemplate": "cafe=%{x}<br>var=%{y}<extra></extra>",
         "legendgroup": "",
         "marker": {
          "color": "#636efa"
         },
         "name": "",
         "notched": false,
         "offsetgroup": "",
         "orientation": "v",
         "showlegend": false,
         "type": "box",
         "x": [
          "majestic_cafe",
          "combi_coffee",
          "fabricacoffeeroasters",
          "apadariaportuguesa",
          "majestic_cafe",
          "abrasileirachiado",
          "jeronymo_pt",
          "costacoffee",
          "timhortons",
          "starbucksptg",
          "abrasileirachiado",
          "costacoffee",
          "apadariaportuguesa",
          "apadariaportuguesa",
          "jeronymo_pt",
          "costacoffee",
          "abrasileirachiado",
          "starbucksptg",
          "majestic_cafe",
          "cphcoffeelab",
          "costacoffee",
          "timhortons",
          "starbucksptg",
          "apadariaportuguesa",
          "costacoffee",
          "apadariaportuguesa",
          "abrasileirachiado",
          "jeronymo_pt",
          "combi_coffee",
          "abrasileirachiado",
          "majestic_cafe",
          "costacoffee",
          "majestic_cafe",
          "costacoffee",
          "apadariaportuguesa",
          "jeronymo_pt",
          "costacoffee",
          "starbucksptg",
          "apadariaportuguesa",
          "abrasileirachiado",
          "majestic_cafe",
          "costacoffee",
          "timhortons",
          "starbucksptg",
          "abrasileirachiado",
          "timhortons",
          "apadariaportuguesa",
          "abrasileirachiado",
          "timhortons",
          "apadariaportuguesa",
          "majestic_cafe",
          "costacoffee",
          "jeronymo_pt",
          "costacoffee",
          "fabricacoffeeroasters",
          "apadariaportuguesa",
          "jeronymo_pt",
          "costacoffee",
          "abrasileirachiado",
          "apadariaportuguesa",
          "majestic_cafe",
          "starbucksptg",
          "timhortons",
          "costacoffee",
          "apadariaportuguesa",
          "majestic_cafe",
          "costacoffee",
          "abrasileirachiado",
          "cphcoffeelab",
          "costacoffee",
          "apadariaportuguesa",
          "jeronymo_pt",
          "costacoffee",
          "majestic_cafe",
          "majestic_cafe",
          "majestic_cafe",
          "majestic_cafe",
          "majestic_cafe",
          "timhortons",
          "abrasileirachiado",
          "timhortons",
          "apadariaportuguesa",
          "jeronymo_pt",
          "cphcoffeelab",
          "costacoffee",
          "timhortons",
          "majestic_cafe",
          "apadariaportuguesa",
          "costacoffee",
          "cphcoffeelab",
          "majestic_cafe",
          "costacoffee",
          "majestic_cafe",
          "majestic_cafe",
          "majestic_cafe",
          "majestic_cafe",
          "majestic_cafe",
          "majestic_cafe",
          "abrasileirachiado",
          "starbucksptg",
          "majestic_cafe",
          "majestic_cafe",
          "jeronymo_pt",
          "majestic_cafe",
          "costacoffee",
          "majestic_cafe",
          "majestic_cafe",
          "apadariaportuguesa",
          "costacoffee",
          "majestic_cafe",
          "abrasileirachiado",
          "starbucksptg",
          "apadariaportuguesa",
          "apadariaportuguesa",
          "majestic_cafe",
          "abrasileirachiado",
          "majestic_cafe",
          "starbucksptg",
          "costacoffee",
          "fabricacoffeeroasters",
          "cphcoffeelab",
          "cphcoffeelab",
          "costacoffee",
          "apadariaportuguesa",
          "costacoffee",
          "costacoffee",
          "combi_coffee",
          "abrasileirachiado",
          "majestic_cafe",
          "apadariaportuguesa",
          "starbucksptg",
          "jeronymo_pt",
          "timhortons",
          "majestic_cafe",
          "majestic_cafe",
          "majestic_cafe",
          "cphcoffeelab",
          "starbucksptg",
          "majestic_cafe",
          "majestic_cafe",
          "cphcoffeelab",
          "costacoffee",
          "majestic_cafe",
          "abrasileirachiado",
          "timhortons",
          "apadariaportuguesa",
          "costacoffee",
          "starbucksptg",
          "apadariaportuguesa",
          "majestic_cafe",
          "combi_coffee",
          "timhortons",
          "fabricacoffeeroasters",
          "jeronymo_pt",
          "abrasileirachiado",
          "timhortons",
          "apadariaportuguesa",
          "costacoffee",
          "abrasileirachiado",
          "cphcoffeelab",
          "timhortons",
          "timhortons",
          "combi_coffee",
          "starbucksptg",
          "apadariaportuguesa",
          "majestic_cafe",
          "costacoffee",
          "timhortons",
          "apadariaportuguesa",
          "timhortons",
          "starbucksptg",
          "cphcoffeelab",
          "abrasileirachiado",
          "fabricacoffeeroasters",
          "jeronymo_pt",
          "costacoffee",
          "majestic_cafe",
          "abrasileirachiado",
          "costacoffee",
          "fabricacoffeeroasters",
          "starbucksptg",
          "timhortons",
          "timhortons",
          "starbucksptg",
          "costacoffee",
          "jeronymo_pt",
          "fabricacoffeeroasters",
          "majestic_cafe",
          "majestic_cafe",
          "abrasileirachiado",
          "apadariaportuguesa",
          "fabricacoffeeroasters",
          "costacoffee",
          "cphcoffeelab",
          "apadariaportuguesa",
          "jeronymo_pt",
          "abrasileirachiado",
          "majestic_cafe",
          "timhortons",
          "majestic_cafe",
          "majestic_cafe",
          "costacoffee",
          "majestic_cafe",
          "majestic_cafe",
          "starbucksptg",
          "cphcoffeelab",
          "timhortons",
          "fabricacoffeeroasters",
          "cphcoffeelab",
          "majestic_cafe",
          "abrasileirachiado",
          "timhortons",
          "fabricacoffeeroasters",
          "costacoffee",
          "combi_coffee",
          "apadariaportuguesa",
          "cphcoffeelab",
          "majestic_cafe",
          "cphcoffeelab",
          "jeronymo_pt",
          "abrasileirachiado",
          "apadariaportuguesa",
          "costacoffee",
          "majestic_cafe",
          "fabricacoffeeroasters",
          "fabricacoffeeroasters",
          "costacoffee",
          "cphcoffeelab",
          "apadariaportuguesa",
          "apadariaportuguesa",
          "costacoffee",
          "majestic_cafe",
          "combi_coffee",
          "abrasileirachiado",
          "cphcoffeelab",
          "apadariaportuguesa",
          "fabricacoffeeroasters",
          "starbucksptg",
          "majestic_cafe",
          "majestic_cafe",
          "majestic_cafe",
          "costacoffee",
          "apadariaportuguesa",
          "abrasileirachiado",
          "jeronymo_pt",
          "cphcoffeelab",
          "jeronymo_pt",
          "cphcoffeelab",
          "abrasileirachiado",
          "majestic_cafe",
          "costacoffee",
          "apadariaportuguesa",
          "fabricacoffeeroasters",
          "starbucksptg",
          "abrasileirachiado",
          "majestic_cafe",
          "timhortons",
          "cphcoffeelab",
          "jeronymo_pt",
          "fabricacoffeeroasters",
          "apadariaportuguesa",
          "cphcoffeelab",
          "combi_coffee",
          "majestic_cafe",
          "abrasileirachiado",
          "apadariaportuguesa",
          "cphcoffeelab",
          "costacoffee",
          "majestic_cafe",
          "apadariaportuguesa",
          "jeronymo_pt",
          "cphcoffeelab",
          "abrasileirachiado",
          "starbucksptg",
          "timhortons",
          "majestic_cafe",
          "combi_coffee",
          "abrasileirachiado",
          "apadariaportuguesa",
          "fabricacoffeeroasters",
          "combi_coffee",
          "apadariaportuguesa",
          "starbucksptg",
          "majestic_cafe",
          "costacoffee",
          "majestic_cafe",
          "majestic_cafe",
          "combi_coffee",
          "majestic_cafe",
          "timhortons",
          "majestic_cafe",
          "majestic_cafe",
          "majestic_cafe",
          "majestic_cafe",
          "majestic_cafe",
          "abrasileirachiado",
          "cphcoffeelab",
          "majestic_cafe",
          "timhortons",
          "cphcoffeelab",
          "timhortons",
          "cphcoffeelab",
          "timhortons",
          "costacoffee",
          "cphcoffeelab",
          "apadariaportuguesa",
          "majestic_cafe",
          "timhortons",
          "costacoffee",
          "abrasileirachiado",
          "apadariaportuguesa",
          "timhortons",
          "jeronymo_pt",
          "cphcoffeelab",
          "starbucksptg",
          "costacoffee",
          "starbucksptg",
          "majestic_cafe",
          "costacoffee",
          "jeronymo_pt",
          "majestic_cafe",
          "majestic_cafe",
          "majestic_cafe",
          "apadariaportuguesa",
          "abrasileirachiado",
          "majestic_cafe",
          "majestic_cafe",
          "majestic_cafe",
          "majestic_cafe",
          "majestic_cafe",
          "costacoffee",
          "majestic_cafe",
          "majestic_cafe",
          "timhortons",
          "timhortons",
          "majestic_cafe",
          "majestic_cafe",
          "majestic_cafe",
          "jeronymo_pt",
          "apadariaportuguesa",
          "cphcoffeelab",
          "costacoffee",
          "costacoffee",
          "majestic_cafe",
          "abrasileirachiado",
          "apadariaportuguesa",
          "jeronymo_pt",
          "majestic_cafe",
          "cphcoffeelab",
          "combi_coffee",
          "starbucksptg",
          "costacoffee",
          "timhortons",
          "cphcoffeelab",
          "abrasileirachiado",
          "apadariaportuguesa",
          "majestic_cafe",
          "costacoffee",
          "majestic_cafe",
          "majestic_cafe",
          "apadariaportuguesa",
          "timhortons",
          "majestic_cafe",
          "abrasileirachiado",
          "costacoffee",
          "starbucksptg",
          "cphcoffeelab",
          "majestic_cafe",
          "timhortons",
          "majestic_cafe",
          "majestic_cafe",
          "majestic_cafe",
          "majestic_cafe",
          "majestic_cafe",
          "majestic_cafe",
          "majestic_cafe",
          "costacoffee",
          "cphcoffeelab",
          "apadariaportuguesa",
          "jeronymo_pt",
          "abrasileirachiado",
          "timhortons",
          "jeronymo_pt",
          "cphcoffeelab",
          "majestic_cafe",
          "timhortons",
          "cphcoffeelab",
          "apadariaportuguesa",
          "abrasileirachiado",
          "timhortons",
          "majestic_cafe",
          "costacoffee",
          "timhortons",
          "majestic_cafe",
          "apadariaportuguesa",
          "apadariaportuguesa",
          "jeronymo_pt",
          "cphcoffeelab",
          "costacoffee",
          "timhortons",
          "majestic_cafe",
          "abrasileirachiado",
          "timhortons",
          "majestic_cafe",
          "majestic_cafe",
          "starbucksptg",
          "majestic_cafe",
          "fabricacoffeeroasters",
          "majestic_cafe",
          "timhortons",
          "cphcoffeelab",
          "jeronymo_pt",
          "apadariaportuguesa",
          "costacoffee",
          "majestic_cafe",
          "abrasileirachiado",
          "timhortons",
          "costacoffee",
          "jeronymo_pt",
          "majestic_cafe",
          "apadariaportuguesa",
          "starbucksptg",
          "cphcoffeelab",
          "timhortons",
          "apadariaportuguesa",
          "costacoffee",
          "timhortons",
          "fabricacoffeeroasters",
          "abrasileirachiado",
          "starbucksptg",
          "cphcoffeelab",
          "cphcoffeelab",
          "majestic_cafe",
          "jeronymo_pt",
          "majestic_cafe",
          "timhortons",
          "costacoffee",
          "apadariaportuguesa",
          "majestic_cafe",
          "majestic_cafe",
          "abrasileirachiado",
          "majestic_cafe",
          "majestic_cafe",
          "majestic_cafe",
          "majestic_cafe",
          "majestic_cafe",
          "timhortons",
          "cphcoffeelab",
          "jeronymo_pt",
          "majestic_cafe",
          "majestic_cafe",
          "costacoffee",
          "majestic_cafe",
          "majestic_cafe",
          "majestic_cafe",
          "majestic_cafe",
          "apadariaportuguesa",
          "majestic_cafe",
          "cphcoffeelab",
          "apadariaportuguesa",
          "cphcoffeelab",
          "majestic_cafe",
          "abrasileirachiado",
          "majestic_cafe",
          "costacoffee",
          "majestic_cafe",
          "majestic_cafe",
          "majestic_cafe",
          "majestic_cafe",
          "majestic_cafe",
          "cphcoffeelab",
          "jeronymo_pt",
          "majestic_cafe",
          "majestic_cafe",
          "majestic_cafe",
          "apadariaportuguesa",
          "abrasileirachiado",
          "timhortons",
          "majestic_cafe",
          "majestic_cafe",
          "majestic_cafe",
          "costacoffee",
          "majestic_cafe",
          "majestic_cafe",
          "cphcoffeelab",
          "apadariaportuguesa",
          "fabricacoffeeroasters",
          "costacoffee",
          "majestic_cafe",
          "abrasileirachiado",
          "combi_coffee",
          "costacoffee",
          "cphcoffeelab",
          "majestic_cafe",
          "jeronymo_pt",
          "timhortons",
          "majestic_cafe",
          "majestic_cafe",
          "apadariaportuguesa",
          "costacoffee",
          "timhortons",
          "starbucksptg",
          "abrasileirachiado",
          "jeronymo_pt",
          "fabricacoffeeroasters",
          "cphcoffeelab",
          "fabricacoffeeroasters",
          "timhortons",
          "apadariaportuguesa",
          "starbucksptg",
          "fabricacoffeeroasters",
          "starbucksptg",
          "costacoffee",
          "majestic_cafe",
          "combi_coffee",
          "abrasileirachiado",
          "abrasileirachiado",
          "apadariaportuguesa",
          "jeronymo_pt",
          "timhortons",
          "abrasileirachiado",
          "timhortons",
          "cphcoffeelab",
          "apadariaportuguesa",
          "majestic_cafe",
          "majestic_cafe",
          "majestic_cafe",
          "majestic_cafe",
          "majestic_cafe",
          "majestic_cafe",
          "majestic_cafe",
          "combi_coffee",
          "abrasileirachiado",
          "starbucksptg",
          "timhortons",
          "costacoffee",
          "cphcoffeelab",
          "costacoffee",
          "combi_coffee",
          "timhortons",
          "majestic_cafe",
          "fabricacoffeeroasters",
          "abrasileirachiado",
          "majestic_cafe",
          "combi_coffee",
          "apadariaportuguesa",
          "jeronymo_pt",
          "cphcoffeelab",
          "starbucksptg",
          "majestic_cafe",
          "timhortons",
          "combi_coffee",
          "costacoffee",
          "jeronymo_pt",
          "majestic_cafe",
          "cphcoffeelab",
          "apadariaportuguesa",
          "abrasileirachiado",
          "timhortons",
          "jeronymo_pt",
          "cphcoffeelab",
          "majestic_cafe",
          "combi_coffee",
          "timhortons",
          "majestic_cafe",
          "costacoffee",
          "cphcoffeelab",
          "starbucksptg",
          "jeronymo_pt",
          "apadariaportuguesa",
          "cphcoffeelab",
          "majestic_cafe",
          "abrasileirachiado",
          "combi_coffee",
          "apadariaportuguesa",
          "majestic_cafe",
          "majestic_cafe",
          "majestic_cafe",
          "cphcoffeelab",
          "majestic_cafe",
          "majestic_cafe",
          "jeronymo_pt",
          "combi_coffee",
          "combi_coffee",
          "costacoffee",
          "apadariaportuguesa",
          "apadariaportuguesa",
          "starbucksptg",
          "abrasileirachiado",
          "combi_coffee",
          "combi_coffee",
          "timhortons",
          "cphcoffeelab",
          "abrasileirachiado",
          "starbucksptg",
          "majestic_cafe",
          "majestic_cafe",
          "abrasileirachiado",
          "cphcoffeelab",
          "apadariaportuguesa",
          "combi_coffee",
          "fabricacoffeeroasters",
          "costacoffee",
          "cphcoffeelab",
          "cphcoffeelab",
          "timhortons",
          "apadariaportuguesa",
          "fabricacoffeeroasters",
          "jeronymo_pt",
          "majestic_cafe",
          "majestic_cafe",
          "majestic_cafe",
          "majestic_cafe",
          "majestic_cafe",
          "costacoffee",
          "majestic_cafe",
          "cphcoffeelab",
          "combi_coffee",
          "majestic_cafe",
          "abrasileirachiado",
          "majestic_cafe",
          "costacoffee",
          "majestic_cafe",
          "starbucksptg",
          "cphcoffeelab",
          "jeronymo_pt",
          "apadariaportuguesa",
          "timhortons",
          "costacoffee",
          "costacoffee",
          "timhortons",
          "majestic_cafe",
          "apadariaportuguesa",
          "fabricacoffeeroasters",
          "majestic_cafe",
          "cphcoffeelab",
          "apadariaportuguesa",
          "costacoffee",
          "majestic_cafe",
          "costacoffee",
          "jeronymo_pt",
          "abrasileirachiado",
          "majestic_cafe",
          "majestic_cafe",
          "apadariaportuguesa",
          "timhortons",
          "majestic_cafe",
          "combi_coffee",
          "starbucksptg",
          "apadariaportuguesa",
          "majestic_cafe",
          "cphcoffeelab",
          "majestic_cafe",
          "majestic_cafe",
          "majestic_cafe",
          "timhortons",
          "majestic_cafe",
          "starbucksptg",
          "majestic_cafe",
          "apadariaportuguesa",
          "majestic_cafe",
          "majestic_cafe",
          "majestic_cafe",
          "abrasileirachiado",
          "majestic_cafe",
          "majestic_cafe",
          "majestic_cafe",
          "majestic_cafe",
          "majestic_cafe",
          "starbucksptg",
          "majestic_cafe",
          "combi_coffee",
          "apadariaportuguesa",
          "cphcoffeelab",
          "apadariaportuguesa",
          "jeronymo_pt",
          "fabricacoffeeroasters",
          "fabricacoffeeroasters",
          "cphcoffeelab",
          "majestic_cafe",
          "timhortons",
          "timhortons",
          "majestic_cafe",
          "majestic_cafe",
          "majestic_cafe",
          "majestic_cafe",
          "costacoffee",
          "majestic_cafe",
          "majestic_cafe",
          "fabricacoffeeroasters",
          "jeronymo_pt",
          "majestic_cafe",
          "majestic_cafe",
          "majestic_cafe",
          "cphcoffeelab",
          "apadariaportuguesa",
          "fabricacoffeeroasters",
          "apadariaportuguesa",
          "abrasileirachiado",
          "combi_coffee",
          "majestic_cafe",
          "majestic_cafe",
          "majestic_cafe",
          "cphcoffeelab",
          "majestic_cafe",
          "majestic_cafe",
          "majestic_cafe",
          "costacoffee",
          "majestic_cafe",
          "majestic_cafe",
          "majestic_cafe",
          "majestic_cafe",
          "jeronymo_pt",
          "timhortons",
          "majestic_cafe",
          "apadariaportuguesa",
          "majestic_cafe",
          "majestic_cafe",
          "cphcoffeelab",
          "majestic_cafe",
          "costacoffee",
          "majestic_cafe",
          "majestic_cafe",
          "abrasileirachiado",
          "jeronymo_pt",
          "majestic_cafe",
          "starbucksptg",
          "majestic_cafe",
          "fabricacoffeeroasters",
          "fabricacoffeeroasters",
          "combi_coffee",
          "starbucksptg",
          "apadariaportuguesa",
          "cphcoffeelab",
          "timhortons",
          "jeronymo_pt",
          "majestic_cafe",
          "majestic_cafe",
          "majestic_cafe",
          "majestic_cafe",
          "abrasileirachiado",
          "apadariaportuguesa",
          "costacoffee",
          "majestic_cafe",
          "majestic_cafe",
          "cphcoffeelab",
          "majestic_cafe",
          "majestic_cafe",
          "majestic_cafe",
          "majestic_cafe",
          "apadariaportuguesa",
          "costacoffee",
          "timhortons",
          "apadariaportuguesa",
          "abrasileirachiado",
          "costacoffee",
          "majestic_cafe",
          "majestic_cafe",
          "apadariaportuguesa",
          "timhortons",
          "jeronymo_pt",
          "majestic_cafe",
          "cphcoffeelab",
          "jeronymo_pt",
          "cphcoffeelab",
          "majestic_cafe",
          "starbucksptg",
          "costacoffee",
          "majestic_cafe",
          "timhortons",
          "costacoffee",
          "abrasileirachiado",
          "cphcoffeelab",
          "majestic_cafe",
          "majestic_cafe",
          "timhortons",
          "costacoffee",
          "majestic_cafe",
          "fabricacoffeeroasters",
          "apadariaportuguesa",
          "majestic_cafe",
          "majestic_cafe",
          "majestic_cafe",
          "abrasileirachiado",
          "apadariaportuguesa",
          "jeronymo_pt",
          "timhortons",
          "starbucksptg",
          "apadariaportuguesa",
          "majestic_cafe",
          "starbucksptg",
          "apadariaportuguesa",
          "combi_coffee",
          "cphcoffeelab",
          "costacoffee",
          "timhortons",
          "timhortons",
          "jeronymo_pt",
          "timhortons",
          "cphcoffeelab",
          "majestic_cafe",
          "timhortons",
          "cphcoffeelab",
          "fabricacoffeeroasters",
          "abrasileirachiado",
          "abrasileirachiado",
          "costacoffee",
          "apadariaportuguesa",
          "cphcoffeelab",
          "majestic_cafe",
          "majestic_cafe",
          "majestic_cafe",
          "timhortons",
          "majestic_cafe",
          "apadariaportuguesa",
          "cphcoffeelab",
          "abrasileirachiado",
          "costacoffee",
          "apadariaportuguesa",
          "starbucksptg",
          "majestic_cafe",
          "majestic_cafe",
          "timhortons",
          "timhortons",
          "majestic_cafe",
          "costacoffee",
          "cphcoffeelab",
          "apadariaportuguesa",
          "jeronymo_pt",
          "abrasileirachiado",
          "costacoffee",
          "cphcoffeelab",
          "timhortons",
          "cphcoffeelab",
          "timhortons",
          "costacoffee",
          "costacoffee",
          "majestic_cafe",
          "starbucksptg",
          "jeronymo_pt",
          "majestic_cafe",
          "abrasileirachiado",
          "timhortons",
          "cphcoffeelab",
          "apadariaportuguesa",
          "costacoffee",
          "cphcoffeelab",
          "apadariaportuguesa",
          "abrasileirachiado",
          "starbucksptg",
          "majestic_cafe",
          "abrasileirachiado",
          "cphcoffeelab",
          "costacoffee",
          "timhortons",
          "apadariaportuguesa",
          "timhortons",
          "fabricacoffeeroasters",
          "majestic_cafe",
          "timhortons",
          "apadariaportuguesa",
          "majestic_cafe",
          "majestic_cafe",
          "starbucksptg",
          "majestic_cafe",
          "cphcoffeelab",
          "abrasileirachiado",
          "majestic_cafe",
          "costacoffee",
          "timhortons",
          "cphcoffeelab",
          "costacoffee",
          "costacoffee",
          "abrasileirachiado",
          "timhortons",
          "majestic_cafe",
          "majestic_cafe",
          "cphcoffeelab",
          "costacoffee",
          "majestic_cafe",
          "majestic_cafe",
          "majestic_cafe",
          "cphcoffeelab",
          "majestic_cafe",
          "majestic_cafe",
          "majestic_cafe",
          "starbucksptg",
          "timhortons",
          "apadariaportuguesa",
          "costacoffee",
          "apadariaportuguesa",
          "jeronymo_pt",
          "majestic_cafe",
          "abrasileirachiado",
          "majestic_cafe",
          "timhortons",
          "costacoffee",
          "apadariaportuguesa",
          "majestic_cafe",
          "majestic_cafe",
          "cphcoffeelab",
          "cphcoffeelab",
          "combi_coffee",
          "costacoffee",
          "timhortons",
          "starbucksptg",
          "jeronymo_pt",
          "apadariaportuguesa",
          "majestic_cafe",
          "majestic_cafe",
          "majestic_cafe",
          "jeronymo_pt",
          "majestic_cafe",
          "majestic_cafe",
          "majestic_cafe",
          "majestic_cafe",
          "majestic_cafe",
          "cphcoffeelab",
          "majestic_cafe",
          "majestic_cafe",
          "cphcoffeelab",
          "costacoffee",
          "jeronymo_pt",
          "cphcoffeelab",
          "majestic_cafe",
          "starbucksptg",
          "costacoffee",
          "combi_coffee",
          "timhortons",
          "majestic_cafe",
          "majestic_cafe",
          "majestic_cafe",
          "costacoffee",
          "apadariaportuguesa",
          "jeronymo_pt",
          "cphcoffeelab",
          "fabricacoffeeroasters",
          "costacoffee",
          "apadariaportuguesa",
          "majestic_cafe",
          "fabricacoffeeroasters",
          "abrasileirachiado",
          "timhortons",
          "timhortons",
          "timhortons",
          "jeronymo_pt",
          "majestic_cafe",
          "fabricacoffeeroasters",
          "abrasileirachiado",
          "majestic_cafe",
          "costacoffee",
          "majestic_cafe",
          "apadariaportuguesa",
          "timhortons",
          "timhortons",
          "abrasileirachiado",
          "cphcoffeelab",
          "majestic_cafe",
          "majestic_cafe",
          "majestic_cafe",
          "cphcoffeelab",
          "timhortons",
          "timhortons",
          "costacoffee",
          "timhortons",
          "starbucksptg",
          "majestic_cafe",
          "cphcoffeelab",
          "majestic_cafe",
          "apadariaportuguesa",
          "apadariaportuguesa",
          "costacoffee",
          "timhortons",
          "abrasileirachiado",
          "cphcoffeelab",
          "timhortons",
          "majestic_cafe",
          "apadariaportuguesa",
          "costacoffee",
          "starbucksptg",
          "abrasileirachiado",
          "apadariaportuguesa",
          "fabricacoffeeroasters",
          "majestic_cafe",
          "jeronymo_pt",
          "majestic_cafe",
          "majestic_cafe",
          "majestic_cafe",
          "costacoffee",
          "majestic_cafe",
          "starbucksptg",
          "timhortons",
          "fabricacoffeeroasters",
          "abrasileirachiado",
          "majestic_cafe",
          "fabricacoffeeroasters",
          "majestic_cafe",
          "majestic_cafe",
          "majestic_cafe",
          "majestic_cafe",
          "majestic_cafe",
          "majestic_cafe",
          "costacoffee",
          "majestic_cafe",
          "majestic_cafe",
          "cphcoffeelab",
          "apadariaportuguesa",
          "cphcoffeelab",
          "fabricacoffeeroasters",
          "apadariaportuguesa",
          "timhortons",
          "starbucksptg",
          "jeronymo_pt",
          "majestic_cafe",
          "costacoffee",
          "cphcoffeelab",
          "cphcoffeelab",
          "combi_coffee",
          "timhortons",
          "costacoffee",
          "combi_coffee",
          "combi_coffee",
          "majestic_cafe",
          "costacoffee",
          "cphcoffeelab",
          "jeronymo_pt",
          "abrasileirachiado",
          "majestic_cafe",
          "apadariaportuguesa",
          "apadariaportuguesa",
          "majestic_cafe",
          "timhortons",
          "costacoffee",
          "jeronymo_pt",
          "starbucksptg",
          "majestic_cafe",
          "majestic_cafe",
          "majestic_cafe",
          "fabricacoffeeroasters",
          "majestic_cafe",
          "majestic_cafe",
          "costacoffee",
          "majestic_cafe",
          "majestic_cafe",
          "fabricacoffeeroasters",
          "abrasileirachiado",
          "majestic_cafe",
          "starbucksptg",
          "cphcoffeelab",
          "majestic_cafe",
          "jeronymo_pt",
          "apadariaportuguesa",
          "timhortons",
          "timhortons",
          "majestic_cafe",
          "cphcoffeelab",
          "costacoffee",
          "jeronymo_pt",
          "combi_coffee",
          "abrasileirachiado",
          "cphcoffeelab",
          "costacoffee",
          "majestic_cafe",
          "timhortons",
          "jeronymo_pt",
          "apadariaportuguesa",
          "apadariaportuguesa",
          "timhortons",
          "majestic_cafe",
          "majestic_cafe",
          "majestic_cafe",
          "apadariaportuguesa",
          "costacoffee",
          "apadariaportuguesa",
          "majestic_cafe",
          "costacoffee",
          "jeronymo_pt",
          "cphcoffeelab",
          "timhortons",
          "starbucksptg",
          "costacoffee",
          "apadariaportuguesa",
          "apadariaportuguesa",
          "majestic_cafe",
          "majestic_cafe",
          "majestic_cafe",
          "apadariaportuguesa",
          "majestic_cafe",
          "timhortons",
          "cphcoffeelab",
          "timhortons",
          "jeronymo_pt",
          "apadariaportuguesa",
          "apadariaportuguesa",
          "timhortons",
          "costacoffee",
          "majestic_cafe",
          "apadariaportuguesa",
          "fabricacoffeeroasters",
          "costacoffee",
          "abrasileirachiado",
          "apadariaportuguesa",
          "costacoffee",
          "fabricacoffeeroasters",
          "starbucksptg",
          "cphcoffeelab",
          "majestic_cafe",
          "timhortons",
          "cphcoffeelab",
          "apadariaportuguesa",
          "apadariaportuguesa",
          "majestic_cafe",
          "majestic_cafe",
          "majestic_cafe",
          "majestic_cafe",
          "majestic_cafe",
          "abrasileirachiado",
          "timhortons",
          "majestic_cafe",
          "majestic_cafe",
          "abrasileirachiado",
          "majestic_cafe",
          "apadariaportuguesa",
          "combi_coffee",
          "apadariaportuguesa",
          "apadariaportuguesa",
          "majestic_cafe",
          "jeronymo_pt",
          "abrasileirachiado",
          "starbucksptg",
          "combi_coffee",
          "cphcoffeelab",
          "starbucksptg",
          "timhortons",
          "apadariaportuguesa",
          "majestic_cafe",
          "majestic_cafe",
          "jeronymo_pt",
          "cphcoffeelab",
          "jeronymo_pt",
          "apadariaportuguesa",
          "majestic_cafe",
          "starbucksptg",
          "timhortons",
          "jeronymo_pt",
          "abrasileirachiado",
          "apadariaportuguesa",
          "majestic_cafe",
          "apadariaportuguesa",
          "starbucksptg",
          "majestic_cafe",
          "timhortons",
          "majestic_cafe",
          "cphcoffeelab",
          "costacoffee",
          "apadariaportuguesa",
          "jeronymo_pt",
          "starbucksptg",
          "abrasileirachiado",
          "majestic_cafe",
          "jeronymo_pt",
          "fabricacoffeeroasters",
          "jeronymo_pt",
          "cphcoffeelab",
          "majestic_cafe",
          "majestic_cafe",
          "apadariaportuguesa",
          "starbucksptg",
          "jeronymo_pt",
          "majestic_cafe",
          "majestic_cafe",
          "timhortons",
          "timhortons",
          "majestic_cafe",
          "majestic_cafe",
          "apadariaportuguesa",
          "costacoffee",
          "abrasileirachiado",
          "starbucksptg",
          "majestic_cafe",
          "apadariaportuguesa",
          "timhortons",
          "cphcoffeelab",
          "jeronymo_pt",
          "apadariaportuguesa",
          "jeronymo_pt",
          "majestic_cafe",
          "majestic_cafe",
          "majestic_cafe",
          "costacoffee",
          "majestic_cafe",
          "starbucksptg",
          "apadariaportuguesa",
          "jeronymo_pt",
          "abrasileirachiado",
          "cphcoffeelab",
          "apadariaportuguesa",
          "starbucksptg",
          "jeronymo_pt",
          "costacoffee",
          "costacoffee",
          "majestic_cafe",
          "apadariaportuguesa",
          "abrasileirachiado",
          "majestic_cafe",
          "majestic_cafe",
          "majestic_cafe",
          "majestic_cafe",
          "costacoffee",
          "majestic_cafe",
          "combi_coffee",
          "apadariaportuguesa",
          "combi_coffee",
          "cphcoffeelab",
          "timhortons",
          "combi_coffee",
          "majestic_cafe",
          "starbucksptg",
          "jeronymo_pt",
          "majestic_cafe",
          "apadariaportuguesa",
          "combi_coffee",
          "starbucksptg",
          "majestic_cafe",
          "combi_coffee",
          "timhortons",
          "apadariaportuguesa",
          "majestic_cafe",
          "majestic_cafe",
          "majestic_cafe",
          "cphcoffeelab",
          "majestic_cafe",
          "majestic_cafe",
          "majestic_cafe",
          "majestic_cafe",
          "majestic_cafe",
          "jeronymo_pt",
          "majestic_cafe",
          "timhortons",
          "apadariaportuguesa",
          "majestic_cafe",
          "starbucksptg",
          "costacoffee",
          "cphcoffeelab",
          "majestic_cafe",
          "majestic_cafe",
          "majestic_cafe",
          "apadariaportuguesa",
          "costacoffee",
          "apadariaportuguesa",
          "timhortons",
          "costacoffee",
          "majestic_cafe",
          "combi_coffee",
          "cphcoffeelab",
          "starbucksptg",
          "costacoffee",
          "apadariaportuguesa",
          "majestic_cafe",
          "majestic_cafe",
          "majestic_cafe",
          "majestic_cafe",
          "majestic_cafe",
          "abrasileirachiado",
          "timhortons",
          "majestic_cafe",
          "costacoffee",
          "combi_coffee",
          "cphcoffeelab",
          "timhortons",
          "apadariaportuguesa",
          "cphcoffeelab",
          "majestic_cafe",
          "majestic_cafe",
          "majestic_cafe",
          "majestic_cafe",
          "timhortons",
          "costacoffee",
          "starbucksptg",
          "apadariaportuguesa",
          "costacoffee",
          "cphcoffeelab",
          "abrasileirachiado",
          "timhortons",
          "apadariaportuguesa",
          "starbucksptg",
          "majestic_cafe",
          "majestic_cafe",
          "costacoffee",
          "majestic_cafe",
          "majestic_cafe",
          "starbucksptg",
          "costacoffee",
          "jeronymo_pt",
          "cphcoffeelab",
          "majestic_cafe",
          "abrasileirachiado",
          "apadariaportuguesa",
          "costacoffee",
          "jeronymo_pt",
          "apadariaportuguesa",
          "starbucksptg",
          "costacoffee",
          "costacoffee",
          "cphcoffeelab",
          "costacoffee",
          "majestic_cafe",
          "majestic_cafe",
          "apadariaportuguesa",
          "jeronymo_pt",
          "cphcoffeelab",
          "majestic_cafe",
          "apadariaportuguesa",
          "combi_coffee",
          "costacoffee",
          "timhortons",
          "starbucksptg",
          "majestic_cafe",
          "costacoffee",
          "cphcoffeelab",
          "combi_coffee",
          "abrasileirachiado",
          "apadariaportuguesa",
          "jeronymo_pt",
          "apadariaportuguesa",
          "jeronymo_pt",
          "timhortons",
          "starbucksptg",
          "majestic_cafe",
          "majestic_cafe",
          "majestic_cafe",
          "abrasileirachiado",
          "timhortons",
          "jeronymo_pt",
          "majestic_cafe",
          "majestic_cafe",
          "apadariaportuguesa",
          "apadariaportuguesa",
          "starbucksptg",
          "abrasileirachiado",
          "cphcoffeelab",
          "majestic_cafe",
          "jeronymo_pt",
          "costacoffee",
          "timhortons",
          "combi_coffee",
          "starbucksptg",
          "majestic_cafe",
          "fabricacoffeeroasters",
          "majestic_cafe",
          "majestic_cafe",
          "majestic_cafe",
          "majestic_cafe",
          "majestic_cafe",
          "majestic_cafe",
          "majestic_cafe",
          "majestic_cafe",
          "majestic_cafe",
          "majestic_cafe",
          "majestic_cafe",
          "apadariaportuguesa",
          "costacoffee",
          "majestic_cafe",
          "starbucksptg",
          "majestic_cafe",
          "majestic_cafe",
          "majestic_cafe",
          "apadariaportuguesa",
          "majestic_cafe",
          "combi_coffee",
          "timhortons",
          "timhortons",
          "jeronymo_pt",
          "apadariaportuguesa",
          "cphcoffeelab",
          "combi_coffee",
          "timhortons",
          "timhortons",
          "majestic_cafe",
          "timhortons",
          "timhortons",
          "timhortons",
          "combi_coffee",
          "timhortons",
          "abrasileirachiado",
          "jeronymo_pt",
          "majestic_cafe",
          "majestic_cafe",
          "majestic_cafe",
          "majestic_cafe",
          "cphcoffeelab",
          "timhortons",
          "apadariaportuguesa",
          "costacoffee",
          "jeronymo_pt",
          "majestic_cafe",
          "majestic_cafe",
          "majestic_cafe",
          "timhortons",
          "costacoffee",
          "timhortons",
          "majestic_cafe",
          "abrasileirachiado",
          "jeronymo_pt",
          "majestic_cafe",
          "combi_coffee",
          "cphcoffeelab",
          "costacoffee",
          "majestic_cafe",
          "majestic_cafe",
          "majestic_cafe",
          "timhortons",
          "starbucksptg",
          "apadariaportuguesa",
          "majestic_cafe",
          "timhortons",
          "apadariaportuguesa",
          "majestic_cafe",
          "cphcoffeelab",
          "majestic_cafe",
          "majestic_cafe",
          "costacoffee",
          "majestic_cafe",
          "combi_coffee",
          "majestic_cafe",
          "costacoffee",
          "majestic_cafe",
          "majestic_cafe",
          "majestic_cafe",
          "majestic_cafe",
          "majestic_cafe",
          "majestic_cafe",
          "jeronymo_pt",
          "timhortons",
          "majestic_cafe",
          "majestic_cafe",
          "majestic_cafe",
          "apadariaportuguesa",
          "jeronymo_pt",
          "majestic_cafe",
          "majestic_cafe",
          "costacoffee",
          "cphcoffeelab",
          "majestic_cafe",
          "majestic_cafe",
          "costacoffee",
          "majestic_cafe",
          "majestic_cafe",
          "abrasileirachiado",
          "jeronymo_pt",
          "cphcoffeelab",
          "apadariaportuguesa",
          "majestic_cafe",
          "costacoffee",
          "apadariaportuguesa",
          "combi_coffee",
          "starbucksptg",
          "majestic_cafe",
          "majestic_cafe",
          "jeronymo_pt",
          "timhortons",
          "majestic_cafe",
          "apadariaportuguesa",
          "timhortons",
          "majestic_cafe",
          "cphcoffeelab",
          "majestic_cafe",
          "majestic_cafe",
          "abrasileirachiado",
          "costacoffee",
          "timhortons",
          "majestic_cafe",
          "costacoffee",
          "apadariaportuguesa",
          "apadariaportuguesa",
          "costacoffee",
          "combi_coffee",
          "majestic_cafe",
          "cphcoffeelab",
          "abrasileirachiado",
          "costacoffee",
          "majestic_cafe",
          "majestic_cafe",
          "combi_coffee",
          "costacoffee",
          "cphcoffeelab",
          "apadariaportuguesa",
          "costacoffee",
          "majestic_cafe",
          "jeronymo_pt",
          "costacoffee",
          "majestic_cafe",
          "timhortons",
          "abrasileirachiado",
          "jeronymo_pt",
          "apadariaportuguesa",
          "timhortons",
          "majestic_cafe",
          "majestic_cafe",
          "jeronymo_pt",
          "majestic_cafe",
          "apadariaportuguesa",
          "apadariaportuguesa",
          "timhortons",
          "costacoffee",
          "apadariaportuguesa",
          "cphcoffeelab",
          "fabricacoffeeroasters",
          "majestic_cafe",
          "abrasileirachiado",
          "timhortons",
          "fabricacoffeeroasters",
          "timhortons",
          "majestic_cafe",
          "majestic_cafe",
          "majestic_cafe",
          "majestic_cafe",
          "majestic_cafe",
          "cphcoffeelab",
          "majestic_cafe",
          "majestic_cafe",
          "costacoffee",
          "costacoffee",
          "majestic_cafe",
          "timhortons",
          "costacoffee",
          "apadariaportuguesa",
          "majestic_cafe",
          "majestic_cafe",
          "majestic_cafe",
          "majestic_cafe",
          "abrasileirachiado",
          "majestic_cafe",
          "majestic_cafe",
          "majestic_cafe",
          "apadariaportuguesa",
          "timhortons",
          "jeronymo_pt",
          "costacoffee",
          "costacoffee",
          "apadariaportuguesa",
          "timhortons",
          "jeronymo_pt",
          "majestic_cafe",
          "majestic_cafe",
          "majestic_cafe",
          "apadariaportuguesa",
          "costacoffee",
          "costacoffee",
          "timhortons",
          "majestic_cafe",
          "starbucksptg",
          "apadariaportuguesa",
          "timhortons",
          "majestic_cafe",
          "abrasileirachiado",
          "apadariaportuguesa",
          "costacoffee",
          "cphcoffeelab",
          "majestic_cafe",
          "apadariaportuguesa",
          "timhortons",
          "majestic_cafe",
          "majestic_cafe",
          "majestic_cafe",
          "majestic_cafe",
          "costacoffee",
          "cphcoffeelab",
          "timhortons",
          "abrasileirachiado",
          "majestic_cafe",
          "costacoffee",
          "jeronymo_pt",
          "jeronymo_pt",
          "timhortons",
          "apadariaportuguesa",
          "apadariaportuguesa",
          "jeronymo_pt",
          "majestic_cafe",
          "combi_coffee",
          "cphcoffeelab",
          "costacoffee",
          "majestic_cafe",
          "starbucksptg",
          "majestic_cafe",
          "apadariaportuguesa",
          "costacoffee",
          "jeronymo_pt",
          "timhortons",
          "apadariaportuguesa",
          "costacoffee",
          "costacoffee",
          "majestic_cafe",
          "majestic_cafe",
          "timhortons",
          "majestic_cafe",
          "majestic_cafe",
          "apadariaportuguesa",
          "costacoffee",
          "jeronymo_pt",
          "majestic_cafe",
          "majestic_cafe",
          "majestic_cafe",
          "majestic_cafe",
          "abrasileirachiado",
          "timhortons",
          "apadariaportuguesa",
          "apadariaportuguesa",
          "majestic_cafe",
          "starbucksptg",
          "timhortons",
          "starbucksptg",
          "costacoffee",
          "apadariaportuguesa",
          "majestic_cafe",
          "costacoffee",
          "majestic_cafe",
          "abrasileirachiado",
          "apadariaportuguesa",
          "jeronymo_pt",
          "timhortons",
          "majestic_cafe",
          "apadariaportuguesa",
          "fabricacoffeeroasters",
          "majestic_cafe",
          "timhortons",
          "cphcoffeelab",
          "apadariaportuguesa",
          "apadariaportuguesa",
          "jeronymo_pt",
          "costacoffee",
          "majestic_cafe",
          "abrasileirachiado",
          "timhortons",
          "starbucksptg",
          "majestic_cafe",
          "majestic_cafe",
          "apadariaportuguesa",
          "majestic_cafe",
          "majestic_cafe",
          "starbucksptg",
          "majestic_cafe",
          "cphcoffeelab",
          "fabricacoffeeroasters",
          "jeronymo_pt",
          "costacoffee",
          "apadariaportuguesa",
          "majestic_cafe",
          "timhortons",
          "abrasileirachiado",
          "starbucksptg",
          "apadariaportuguesa",
          "timhortons",
          "majestic_cafe",
          "jeronymo_pt",
          "majestic_cafe",
          "apadariaportuguesa",
          "costacoffee",
          "starbucksptg",
          "jeronymo_pt",
          "jeronymo_pt",
          "abrasileirachiado",
          "apadariaportuguesa",
          "majestic_cafe",
          "majestic_cafe",
          "majestic_cafe",
          "majestic_cafe",
          "majestic_cafe",
          "starbucksptg",
          "majestic_cafe",
          "apadariaportuguesa",
          "timhortons",
          "majestic_cafe",
          "jeronymo_pt",
          "starbucksptg",
          "costacoffee",
          "timhortons",
          "cphcoffeelab",
          "costacoffee",
          "apadariaportuguesa",
          "costacoffee",
          "jeronymo_pt",
          "combi_coffee",
          "timhortons",
          "cphcoffeelab",
          "majestic_cafe",
          "majestic_cafe",
          "majestic_cafe",
          "apadariaportuguesa",
          "majestic_cafe",
          "apadariaportuguesa",
          "abrasileirachiado",
          "majestic_cafe",
          "majestic_cafe",
          "majestic_cafe",
          "starbucksptg",
          "costacoffee",
          "apadariaportuguesa",
          "timhortons",
          "fabricacoffeeroasters",
          "majestic_cafe",
          "jeronymo_pt",
          "jeronymo_pt",
          "costacoffee",
          "jeronymo_pt",
          "apadariaportuguesa",
          "majestic_cafe",
          "timhortons",
          "jeronymo_pt",
          "apadariaportuguesa",
          "timhortons",
          "costacoffee",
          "apadariaportuguesa",
          "costacoffee",
          "timhortons",
          "majestic_cafe",
          "majestic_cafe",
          "majestic_cafe",
          "majestic_cafe",
          "timhortons",
          "starbucksptg",
          "timhortons",
          "costacoffee",
          "timhortons",
          "majestic_cafe",
          "apadariaportuguesa",
          "abrasileirachiado",
          "majestic_cafe",
          "apadariaportuguesa",
          "jeronymo_pt",
          "costacoffee",
          "jeronymo_pt",
          "timhortons",
          "apadariaportuguesa",
          "cphcoffeelab",
          "timhortons",
          "apadariaportuguesa",
          "apadariaportuguesa",
          "majestic_cafe",
          "jeronymo_pt",
          "fabricacoffeeroasters",
          "cphcoffeelab",
          "jeronymo_pt",
          "majestic_cafe",
          "apadariaportuguesa",
          "costacoffee",
          "combi_coffee",
          "costacoffee",
          "majestic_cafe",
          "combi_coffee",
          "majestic_cafe",
          "majestic_cafe",
          "timhortons",
          "majestic_cafe",
          "jeronymo_pt",
          "majestic_cafe",
          "jeronymo_pt",
          "starbucksptg",
          "majestic_cafe",
          "timhortons",
          "apadariaportuguesa",
          "jeronymo_pt",
          "majestic_cafe",
          "majestic_cafe",
          "majestic_cafe",
          "costacoffee",
          "cphcoffeelab",
          "apadariaportuguesa",
          "costacoffee",
          "starbucksptg",
          "majestic_cafe",
          "apadariaportuguesa",
          "apadariaportuguesa",
          "majestic_cafe",
          "costacoffee",
          "cphcoffeelab",
          "apadariaportuguesa",
          "costacoffee",
          "majestic_cafe",
          "jeronymo_pt",
          "abrasileirachiado",
          "majestic_cafe",
          "apadariaportuguesa",
          "jeronymo_pt",
          "timhortons",
          "costacoffee",
          "abrasileirachiado",
          "majestic_cafe",
          "timhortons",
          "majestic_cafe",
          "majestic_cafe",
          "majestic_cafe",
          "jeronymo_pt",
          "timhortons",
          "timhortons",
          "majestic_cafe",
          "costacoffee",
          "costacoffee",
          "apadariaportuguesa",
          "starbucksptg",
          "majestic_cafe",
          "majestic_cafe",
          "majestic_cafe",
          "apadariaportuguesa",
          "combi_coffee",
          "fabricacoffeeroasters",
          "timhortons",
          "majestic_cafe",
          "jeronymo_pt",
          "majestic_cafe",
          "timhortons",
          "costacoffee",
          "apadariaportuguesa",
          "majestic_cafe",
          "timhortons",
          "majestic_cafe",
          "majestic_cafe",
          "majestic_cafe",
          "majestic_cafe",
          "majestic_cafe",
          "apadariaportuguesa",
          "starbucksptg",
          "timhortons",
          "jeronymo_pt",
          "costacoffee",
          "abrasileirachiado",
          "majestic_cafe",
          "costacoffee",
          "jeronymo_pt",
          "majestic_cafe",
          "costacoffee",
          "costacoffee",
          "apadariaportuguesa",
          "apadariaportuguesa",
          "majestic_cafe",
          "apadariaportuguesa",
          "timhortons",
          "abrasileirachiado",
          "apadariaportuguesa",
          "majestic_cafe",
          "majestic_cafe",
          "majestic_cafe",
          "majestic_cafe",
          "majestic_cafe",
          "timhortons",
          "starbucksptg",
          "majestic_cafe",
          "majestic_cafe",
          "majestic_cafe",
          "jeronymo_pt",
          "majestic_cafe",
          "costacoffee",
          "majestic_cafe",
          "majestic_cafe",
          "costacoffee",
          "majestic_cafe",
          "majestic_cafe",
          "majestic_cafe",
          "starbucksptg",
          "majestic_cafe",
          "timhortons",
          "apadariaportuguesa",
          "costacoffee",
          "abrasileirachiado",
          "costacoffee",
          "timhortons",
          "apadariaportuguesa",
          "majestic_cafe",
          "jeronymo_pt",
          "apadariaportuguesa",
          "starbucksptg",
          "starbucksptg",
          "apadariaportuguesa",
          "majestic_cafe",
          "majestic_cafe",
          "costacoffee",
          "abrasileirachiado",
          "jeronymo_pt",
          "majestic_cafe",
          "apadariaportuguesa",
          "majestic_cafe",
          "majestic_cafe",
          "majestic_cafe",
          "majestic_cafe",
          "majestic_cafe",
          "majestic_cafe",
          "costacoffee",
          "starbucksptg",
          "apadariaportuguesa",
          "majestic_cafe",
          "abrasileirachiado",
          "timhortons",
          "majestic_cafe",
          "jeronymo_pt",
          "majestic_cafe",
          "apadariaportuguesa",
          "starbucksptg",
          "timhortons",
          "majestic_cafe",
          "costacoffee",
          "abrasileirachiado",
          "majestic_cafe",
          "jeronymo_pt",
          "timhortons",
          "costacoffee",
          "majestic_cafe",
          "starbucksptg",
          "apadariaportuguesa",
          "jeronymo_pt",
          "abrasileirachiado",
          "cphcoffeelab",
          "timhortons",
          "costacoffee",
          "jeronymo_pt",
          "apadariaportuguesa",
          "timhortons",
          "costacoffee",
          "costacoffee",
          "timhortons",
          "starbucksptg",
          "majestic_cafe",
          "apadariaportuguesa",
          "majestic_cafe",
          "jeronymo_pt",
          "apadariaportuguesa",
          "majestic_cafe",
          "timhortons",
          "abrasileirachiado",
          "costacoffee",
          "costacoffee",
          "apadariaportuguesa",
          "majestic_cafe",
          "starbucksptg",
          "apadariaportuguesa",
          "fabricacoffeeroasters",
          "jeronymo_pt",
          "abrasileirachiado",
          "majestic_cafe",
          "combi_coffee",
          "costacoffee",
          "costacoffee",
          "costacoffee",
          "fabricacoffeeroasters",
          "cphcoffeelab",
          "jeronymo_pt",
          "majestic_cafe",
          "starbucksptg",
          "timhortons",
          "majestic_cafe",
          "timhortons",
          "abrasileirachiado",
          "costacoffee",
          "apadariaportuguesa",
          "jeronymo_pt",
          "starbucksptg",
          "costacoffee",
          "apadariaportuguesa",
          "majestic_cafe",
          "costacoffee",
          "jeronymo_pt",
          "costacoffee",
          "majestic_cafe",
          "starbucksptg",
          "abrasileirachiado",
          "costacoffee",
          "costacoffee",
          "timhortons",
          "majestic_cafe",
          "costacoffee",
          "jeronymo_pt",
          "starbucksptg",
          "costacoffee",
          "apadariaportuguesa",
          "jeronymo_pt",
          "costacoffee",
          "timhortons",
          "abrasileirachiado",
          "majestic_cafe",
          "majestic_cafe",
          "apadariaportuguesa",
          "jeronymo_pt",
          "fabricacoffeeroasters",
          "majestic_cafe",
          "majestic_cafe",
          "starbucksptg",
          "starbucksptg",
          "majestic_cafe",
          "majestic_cafe",
          "jeronymo_pt",
          "majestic_cafe",
          "timhortons",
          "abrasileirachiado",
          "majestic_cafe",
          "majestic_cafe",
          "cphcoffeelab",
          "majestic_cafe",
          "apadariaportuguesa",
          "majestic_cafe",
          "majestic_cafe",
          "majestic_cafe",
          "fabricacoffeeroasters",
          "majestic_cafe",
          "apadariaportuguesa",
          "jeronymo_pt",
          "majestic_cafe",
          "costacoffee",
          "cphcoffeelab",
          "apadariaportuguesa",
          "timhortons",
          "costacoffee",
          "majestic_cafe",
          "majestic_cafe",
          "majestic_cafe",
          "majestic_cafe",
          "majestic_cafe",
          "majestic_cafe",
          "apadariaportuguesa",
          "majestic_cafe",
          "apadariaportuguesa",
          "jeronymo_pt",
          "majestic_cafe",
          "majestic_cafe",
          "apadariaportuguesa",
          "majestic_cafe",
          "abrasileirachiado",
          "combi_coffee",
          "costacoffee",
          "cphcoffeelab",
          "costacoffee",
          "jeronymo_pt",
          "majestic_cafe",
          "majestic_cafe",
          "majestic_cafe",
          "apadariaportuguesa",
          "majestic_cafe",
          "combi_coffee",
          "costacoffee",
          "cphcoffeelab",
          "timhortons",
          "majestic_cafe",
          "majestic_cafe",
          "majestic_cafe",
          "majestic_cafe",
          "costacoffee",
          "combi_coffee",
          "majestic_cafe",
          "combi_coffee",
          "abrasileirachiado",
          "apadariaportuguesa",
          "majestic_cafe",
          "majestic_cafe",
          "majestic_cafe",
          "cphcoffeelab",
          "timhortons",
          "majestic_cafe",
          "majestic_cafe",
          "costacoffee",
          "apadariaportuguesa",
          "starbucksptg",
          "apadariaportuguesa",
          "combi_coffee",
          "majestic_cafe",
          "apadariaportuguesa",
          "starbucksptg",
          "combi_coffee",
          "majestic_cafe",
          "cphcoffeelab",
          "apadariaportuguesa",
          "apadariaportuguesa",
          "majestic_cafe",
          "combi_coffee",
          "abrasileirachiado",
          "costacoffee",
          "timhortons",
          "majestic_cafe",
          "majestic_cafe",
          "majestic_cafe",
          "cphcoffeelab",
          "timhortons",
          "fabricacoffeeroasters",
          "costacoffee",
          "cphcoffeelab",
          "timhortons",
          "costacoffee",
          "majestic_cafe",
          "combi_coffee",
          "starbucksptg",
          "apadariaportuguesa",
          "costacoffee",
          "timhortons",
          "costacoffee",
          "majestic_cafe",
          "apadariaportuguesa",
          "costacoffee",
          "cphcoffeelab",
          "starbucksptg",
          "timhortons",
          "apadariaportuguesa",
          "combi_coffee",
          "majestic_cafe",
          "majestic_cafe",
          "majestic_cafe",
          "majestic_cafe",
          "majestic_cafe",
          "majestic_cafe",
          "majestic_cafe",
          "cphcoffeelab",
          "costacoffee",
          "majestic_cafe",
          "majestic_cafe",
          "majestic_cafe",
          "majestic_cafe",
          "fabricacoffeeroasters",
          "majestic_cafe",
          "majestic_cafe",
          "majestic_cafe",
          "costacoffee",
          "starbucksptg",
          "combi_coffee",
          "starbucksptg",
          "apadariaportuguesa",
          "majestic_cafe",
          "combi_coffee",
          "starbucksptg",
          "majestic_cafe",
          "cphcoffeelab",
          "apadariaportuguesa",
          "timhortons",
          "costacoffee",
          "apadariaportuguesa",
          "majestic_cafe",
          "apadariaportuguesa",
          "majestic_cafe",
          "abrasileirachiado",
          "timhortons",
          "timhortons",
          "majestic_cafe",
          "costacoffee",
          "cphcoffeelab",
          "apadariaportuguesa",
          "timhortons",
          "majestic_cafe",
          "majestic_cafe",
          "costacoffee",
          "majestic_cafe",
          "starbucksptg",
          "costacoffee",
          "timhortons",
          "abrasileirachiado",
          "apadariaportuguesa",
          "starbucksptg",
          "timhortons",
          "cphcoffeelab",
          "majestic_cafe",
          "apadariaportuguesa",
          "timhortons",
          "apadariaportuguesa",
          "starbucksptg",
          "majestic_cafe",
          "costacoffee",
          "costacoffee",
          "cphcoffeelab",
          "majestic_cafe",
          "timhortons",
          "costacoffee",
          "majestic_cafe",
          "timhortons",
          "majestic_cafe",
          "majestic_cafe",
          "majestic_cafe",
          "starbucksptg",
          "starbucksptg",
          "cphcoffeelab",
          "majestic_cafe",
          "majestic_cafe",
          "timhortons",
          "costacoffee",
          "jeronymo_pt",
          "abrasileirachiado",
          "majestic_cafe",
          "starbucksptg",
          "combi_coffee",
          "costacoffee",
          "apadariaportuguesa",
          "majestic_cafe",
          "combi_coffee",
          "timhortons",
          "fabricacoffeeroasters",
          "apadariaportuguesa",
          "starbucksptg",
          "majestic_cafe",
          "costacoffee",
          "cphcoffeelab",
          "combi_coffee",
          "costacoffee",
          "combi_coffee",
          "abrasileirachiado",
          "fabricacoffeeroasters",
          "timhortons",
          "starbucksptg",
          "cphcoffeelab",
          "costacoffee",
          "majestic_cafe",
          "timhortons",
          "apadariaportuguesa",
          "costacoffee",
          "majestic_cafe",
          "combi_coffee",
          "majestic_cafe",
          "starbucksptg",
          "majestic_cafe",
          "fabricacoffeeroasters",
          "cphcoffeelab",
          "majestic_cafe",
          "majestic_cafe",
          "starbucksptg",
          "majestic_cafe",
          "majestic_cafe",
          "cphcoffeelab",
          "combi_coffee",
          "timhortons",
          "majestic_cafe",
          "majestic_cafe",
          "majestic_cafe",
          "majestic_cafe",
          "costacoffee",
          "majestic_cafe",
          "cphcoffeelab",
          "apadariaportuguesa",
          "timhortons",
          "costacoffee",
          "abrasileirachiado",
          "majestic_cafe",
          "combi_coffee",
          "majestic_cafe",
          "combi_coffee",
          "apadariaportuguesa",
          "starbucksptg",
          "combi_coffee",
          "cphcoffeelab",
          "jeronymo_pt",
          "majestic_cafe",
          "starbucksptg",
          "majestic_cafe",
          "fabricacoffeeroasters",
          "apadariaportuguesa",
          "majestic_cafe",
          "abrasileirachiado",
          "costacoffee",
          "jeronymo_pt",
          "costacoffee",
          "majestic_cafe",
          "cphcoffeelab",
          "jeronymo_pt",
          "costacoffee",
          "jeronymo_pt",
          "majestic_cafe",
          "timhortons",
          "combi_coffee",
          "starbucksptg",
          "apadariaportuguesa",
          "cphcoffeelab",
          "costacoffee",
          "timhortons",
          "apadariaportuguesa",
          "majestic_cafe",
          "majestic_cafe",
          "majestic_cafe",
          "majestic_cafe",
          "combi_coffee",
          "majestic_cafe",
          "timhortons",
          "costacoffee",
          "costacoffee",
          "timhortons",
          "abrasileirachiado",
          "apadariaportuguesa",
          "cphcoffeelab",
          "majestic_cafe",
          "majestic_cafe",
          "majestic_cafe",
          "majestic_cafe",
          "majestic_cafe",
          "majestic_cafe",
          "majestic_cafe",
          "majestic_cafe",
          "majestic_cafe",
          "majestic_cafe",
          "majestic_cafe",
          "starbucksptg",
          "jeronymo_pt",
          "timhortons",
          "costacoffee",
          "majestic_cafe",
          "timhortons",
          "costacoffee",
          "cphcoffeelab",
          "costacoffee",
          "majestic_cafe",
          "apadariaportuguesa",
          "majestic_cafe",
          "majestic_cafe",
          "abrasileirachiado",
          "majestic_cafe",
          "jeronymo_pt",
          "timhortons",
          "majestic_cafe",
          "costacoffee",
          "apadariaportuguesa",
          "cphcoffeelab",
          "timhortons",
          "jeronymo_pt",
          "starbucksptg",
          "costacoffee",
          "majestic_cafe",
          "majestic_cafe",
          "majestic_cafe",
          "timhortons",
          "costacoffee",
          "cphcoffeelab",
          "majestic_cafe",
          "costacoffee",
          "majestic_cafe",
          "majestic_cafe",
          "jeronymo_pt",
          "timhortons",
          "majestic_cafe",
          "timhortons",
          "abrasileirachiado",
          "jeronymo_pt",
          "apadariaportuguesa",
          "costacoffee",
          "timhortons",
          "cphcoffeelab",
          "combi_coffee",
          "majestic_cafe",
          "timhortons",
          "costacoffee",
          "majestic_cafe",
          "apadariaportuguesa",
          "jeronymo_pt",
          "majestic_cafe",
          "starbucksptg",
          "cphcoffeelab",
          "abrasileirachiado",
          "apadariaportuguesa",
          "starbucksptg",
          "costacoffee",
          "jeronymo_pt",
          "timhortons",
          "costacoffee",
          "majestic_cafe",
          "timhortons",
          "costacoffee",
          "majestic_cafe",
          "majestic_cafe",
          "majestic_cafe",
          "majestic_cafe",
          "majestic_cafe",
          "majestic_cafe",
          "majestic_cafe",
          "majestic_cafe",
          "jeronymo_pt",
          "costacoffee",
          "jeronymo_pt",
          "majestic_cafe",
          "starbucksptg",
          "majestic_cafe",
          "timhortons",
          "cphcoffeelab",
          "starbucksptg",
          "combi_coffee",
          "jeronymo_pt",
          "timhortons",
          "majestic_cafe",
          "combi_coffee",
          "cphcoffeelab",
          "majestic_cafe",
          "majestic_cafe",
          "majestic_cafe",
          "abrasileirachiado",
          "timhortons",
          "jeronymo_pt",
          "costacoffee",
          "timhortons",
          "majestic_cafe",
          "costacoffee",
          "timhortons",
          "apadariaportuguesa",
          "costacoffee",
          "jeronymo_pt",
          "majestic_cafe",
          "majestic_cafe",
          "majestic_cafe",
          "cphcoffeelab",
          "majestic_cafe",
          "abrasileirachiado",
          "timhortons",
          "costacoffee",
          "jeronymo_pt",
          "starbucksptg",
          "costacoffee",
          "timhortons",
          "costacoffee",
          "combi_coffee",
          "majestic_cafe",
          "majestic_cafe",
          "starbucksptg",
          "apadariaportuguesa",
          "majestic_cafe",
          "cphcoffeelab",
          "jeronymo_pt",
          "majestic_cafe",
          "costacoffee",
          "jeronymo_pt",
          "majestic_cafe",
          "combi_coffee",
          "cphcoffeelab",
          "cphcoffeelab",
          "abrasileirachiado",
          "jeronymo_pt",
          "combi_coffee",
          "combi_coffee",
          "costacoffee",
          "majestic_cafe",
          "jeronymo_pt",
          "timhortons",
          "starbucksptg",
          "majestic_cafe",
          "majestic_cafe",
          "timhortons",
          "cphcoffeelab",
          "costacoffee",
          "combi_coffee",
          "majestic_cafe",
          "majestic_cafe",
          "majestic_cafe",
          "abrasileirachiado",
          "jeronymo_pt",
          "timhortons",
          "majestic_cafe",
          "combi_coffee",
          "cphcoffeelab",
          "apadariaportuguesa",
          "majestic_cafe",
          "majestic_cafe",
          "timhortons",
          "jeronymo_pt",
          "majestic_cafe",
          "combi_coffee",
          "apadariaportuguesa",
          "majestic_cafe",
          "costacoffee",
          "majestic_cafe",
          "cphcoffeelab",
          "timhortons",
          "majestic_cafe",
          "fabricacoffeeroasters",
          "apadariaportuguesa",
          "starbucksptg",
          "timhortons",
          "abrasileirachiado",
          "jeronymo_pt",
          "majestic_cafe",
          "starbucksptg",
          "costacoffee",
          "costacoffee",
          "majestic_cafe",
          "jeronymo_pt",
          "cphcoffeelab",
          "majestic_cafe",
          "costacoffee",
          "majestic_cafe",
          "timhortons",
          "timhortons",
          "apadariaportuguesa",
          "combi_coffee",
          "combi_coffee",
          "jeronymo_pt",
          "majestic_cafe",
          "majestic_cafe",
          "timhortons",
          "majestic_cafe",
          "jeronymo_pt",
          "jeronymo_pt",
          "apadariaportuguesa",
          "majestic_cafe",
          "combi_coffee",
          "abrasileirachiado",
          "majestic_cafe",
          "majestic_cafe",
          "timhortons",
          "majestic_cafe",
          "majestic_cafe",
          "cphcoffeelab",
          "jeronymo_pt",
          "timhortons",
          "majestic_cafe",
          "apadariaportuguesa",
          "fabricacoffeeroasters",
          "costacoffee",
          "costacoffee",
          "cphcoffeelab",
          "timhortons",
          "majestic_cafe",
          "majestic_cafe",
          "majestic_cafe",
          "jeronymo_pt",
          "costacoffee",
          "timhortons",
          "majestic_cafe",
          "starbucksptg",
          "apadariaportuguesa",
          "cphcoffeelab",
          "abrasileirachiado",
          "timhortons",
          "costacoffee",
          "apadariaportuguesa",
          "majestic_cafe",
          "costacoffee",
          "cphcoffeelab",
          "majestic_cafe",
          "timhortons",
          "jeronymo_pt",
          "costacoffee",
          "costacoffee",
          "majestic_cafe",
          "timhortons",
          "fabricacoffeeroasters",
          "majestic_cafe",
          "majestic_cafe",
          "majestic_cafe",
          "timhortons",
          "abrasileirachiado",
          "costacoffee",
          "timhortons",
          "majestic_cafe",
          "jeronymo_pt",
          "apadariaportuguesa",
          "cphcoffeelab",
          "starbucksptg",
          "fabricacoffeeroasters",
          "majestic_cafe",
          "majestic_cafe",
          "majestic_cafe",
          "costacoffee",
          "majestic_cafe",
          "timhortons",
          "apadariaportuguesa",
          "majestic_cafe",
          "timhortons",
          "majestic_cafe",
          "majestic_cafe",
          "apadariaportuguesa",
          "cphcoffeelab",
          "timhortons",
          "majestic_cafe",
          "majestic_cafe",
          "timhortons",
          "timhortons",
          "majestic_cafe",
          "costacoffee",
          "timhortons",
          "starbucksptg",
          "jeronymo_pt",
          "majestic_cafe",
          "majestic_cafe",
          "costacoffee",
          "jeronymo_pt",
          "majestic_cafe",
          "majestic_cafe",
          "apadariaportuguesa",
          "timhortons",
          "jeronymo_pt",
          "majestic_cafe",
          "majestic_cafe",
          "cphcoffeelab",
          "abrasileirachiado",
          "majestic_cafe",
          "majestic_cafe",
          "majestic_cafe",
          "majestic_cafe",
          "apadariaportuguesa",
          "timhortons",
          "timhortons",
          "jeronymo_pt",
          "starbucksptg",
          "costacoffee",
          "fabricacoffeeroasters",
          "majestic_cafe",
          "majestic_cafe",
          "majestic_cafe",
          "majestic_cafe",
          "timhortons",
          "starbucksptg",
          "apadariaportuguesa",
          "timhortons",
          "timhortons",
          "fabricacoffeeroasters",
          "apadariaportuguesa",
          "costacoffee",
          "majestic_cafe",
          "majestic_cafe",
          "majestic_cafe",
          "apadariaportuguesa",
          "timhortons",
          "majestic_cafe",
          "majestic_cafe",
          "costacoffee",
          "abrasileirachiado",
          "jeronymo_pt",
          "majestic_cafe",
          "costacoffee",
          "combi_coffee",
          "timhortons",
          "timhortons",
          "timhortons",
          "majestic_cafe",
          "majestic_cafe",
          "timhortons",
          "timhortons",
          "cphcoffeelab",
          "starbucksptg",
          "costacoffee",
          "timhortons",
          "majestic_cafe",
          "majestic_cafe",
          "majestic_cafe",
          "apadariaportuguesa",
          "abrasileirachiado",
          "starbucksptg",
          "majestic_cafe",
          "majestic_cafe",
          "starbucksptg",
          "apadariaportuguesa",
          "costacoffee",
          "costacoffee",
          "majestic_cafe",
          "cphcoffeelab",
          "combi_coffee",
          "starbucksptg",
          "starbucksptg",
          "majestic_cafe",
          "apadariaportuguesa",
          "fabricacoffeeroasters",
          "jeronymo_pt",
          "jeronymo_pt",
          "abrasileirachiado",
          "cphcoffeelab",
          "costacoffee",
          "majestic_cafe",
          "costacoffee",
          "majestic_cafe",
          "apadariaportuguesa",
          "timhortons",
          "jeronymo_pt",
          "costacoffee",
          "majestic_cafe",
          "costacoffee",
          "timhortons",
          "timhortons",
          "majestic_cafe",
          "jeronymo_pt",
          "starbucksptg",
          "cphcoffeelab",
          "starbucksptg",
          "majestic_cafe",
          "costacoffee",
          "timhortons",
          "abrasileirachiado",
          "apadariaportuguesa",
          "majestic_cafe",
          "jeronymo_pt",
          "cphcoffeelab",
          "timhortons",
          "costacoffee",
          "costacoffee",
          "majestic_cafe",
          "timhortons",
          "majestic_cafe",
          "starbucksptg",
          "jeronymo_pt",
          "costacoffee",
          "timhortons",
          "starbucksptg",
          "apadariaportuguesa",
          "costacoffee",
          "costacoffee",
          "abrasileirachiado",
          "starbucksptg",
          "majestic_cafe",
          "apadariaportuguesa",
          "costacoffee",
          "timhortons",
          "cphcoffeelab",
          "timhortons",
          "jeronymo_pt",
          "timhortons",
          "timhortons",
          "starbucksptg",
          "combi_coffee",
          "timhortons",
          "timhortons",
          "timhortons",
          "majestic_cafe",
          "majestic_cafe",
          "timhortons",
          "timhortons",
          "costacoffee",
          "jeronymo_pt",
          "combi_coffee",
          "cphcoffeelab",
          "combi_coffee",
          "apadariaportuguesa",
          "majestic_cafe",
          "majestic_cafe",
          "majestic_cafe",
          "majestic_cafe",
          "majestic_cafe",
          "majestic_cafe",
          "timhortons",
          "jeronymo_pt",
          "majestic_cafe",
          "abrasileirachiado",
          "timhortons",
          "costacoffee",
          "majestic_cafe",
          "majestic_cafe",
          "majestic_cafe",
          "majestic_cafe",
          "majestic_cafe",
          "majestic_cafe",
          "costacoffee",
          "combi_coffee",
          "timhortons",
          "apadariaportuguesa",
          "starbucksptg",
          "majestic_cafe",
          "apadariaportuguesa",
          "timhortons",
          "costacoffee",
          "majestic_cafe",
          "cphcoffeelab",
          "majestic_cafe",
          "majestic_cafe",
          "majestic_cafe",
          "majestic_cafe",
          "jeronymo_pt",
          "costacoffee",
          "majestic_cafe",
          "majestic_cafe",
          "timhortons",
          "majestic_cafe",
          "costacoffee",
          "starbucksptg",
          "cphcoffeelab",
          "majestic_cafe",
          "costacoffee",
          "abrasileirachiado",
          "majestic_cafe",
          "majestic_cafe",
          "majestic_cafe",
          "majestic_cafe",
          "jeronymo_pt",
          "majestic_cafe",
          "cphcoffeelab",
          "timhortons",
          "jeronymo_pt",
          "majestic_cafe",
          "costacoffee",
          "majestic_cafe",
          "majestic_cafe",
          "timhortons",
          "cphcoffeelab",
          "costacoffee",
          "costacoffee",
          "costacoffee",
          "combi_coffee",
          "starbucksptg",
          "majestic_cafe",
          "timhortons",
          "majestic_cafe",
          "majestic_cafe",
          "majestic_cafe",
          "majestic_cafe",
          "cphcoffeelab",
          "majestic_cafe",
          "majestic_cafe",
          "abrasileirachiado",
          "costacoffee",
          "timhortons",
          "apadariaportuguesa",
          "majestic_cafe",
          "costacoffee",
          "costacoffee",
          "majestic_cafe",
          "timhortons",
          "majestic_cafe",
          "majestic_cafe",
          "costacoffee",
          "starbucksptg",
          "jeronymo_pt",
          "cphcoffeelab",
          "majestic_cafe",
          "costacoffee",
          "timhortons",
          "jeronymo_pt",
          "combi_coffee",
          "abrasileirachiado",
          "majestic_cafe",
          "majestic_cafe",
          "majestic_cafe",
          "majestic_cafe",
          "starbucksptg",
          "majestic_cafe",
          "cphcoffeelab",
          "costacoffee",
          "costacoffee",
          "majestic_cafe",
          "majestic_cafe",
          "apadariaportuguesa",
          "majestic_cafe",
          "cphcoffeelab",
          "majestic_cafe",
          "jeronymo_pt",
          "starbucksptg",
          "timhortons",
          "majestic_cafe",
          "cphcoffeelab",
          "fabricacoffeeroasters",
          "abrasileirachiado",
          "cphcoffeelab",
          "timhortons",
          "apadariaportuguesa",
          "majestic_cafe",
          "jeronymo_pt",
          "majestic_cafe",
          "costacoffee",
          "starbucksptg",
          "majestic_cafe",
          "majestic_cafe",
          "timhortons",
          "combi_coffee",
          "costacoffee",
          "majestic_cafe",
          "cphcoffeelab",
          "starbucksptg",
          "cphcoffeelab",
          "timhortons",
          "majestic_cafe",
          "majestic_cafe",
          "majestic_cafe",
          "starbucksptg",
          "costacoffee",
          "jeronymo_pt",
          "cphcoffeelab",
          "abrasileirachiado",
          "majestic_cafe",
          "timhortons",
          "majestic_cafe",
          "majestic_cafe",
          "majestic_cafe",
          "cphcoffeelab",
          "costacoffee",
          "starbucksptg",
          "cphcoffeelab",
          "timhortons",
          "majestic_cafe",
          "majestic_cafe",
          "costacoffee",
          "jeronymo_pt",
          "cphcoffeelab",
          "timhortons",
          "majestic_cafe",
          "timhortons",
          "majestic_cafe",
          "starbucksptg",
          "jeronymo_pt",
          "majestic_cafe",
          "majestic_cafe",
          "abrasileirachiado",
          "apadariaportuguesa",
          "costacoffee",
          "costacoffee",
          "majestic_cafe",
          "cphcoffeelab",
          "timhortons",
          "costacoffee",
          "jeronymo_pt",
          "apadariaportuguesa",
          "majestic_cafe",
          "timhortons",
          "majestic_cafe",
          "abrasileirachiado",
          "majestic_cafe",
          "cphcoffeelab",
          "apadariaportuguesa",
          "apadariaportuguesa",
          "jeronymo_pt",
          "starbucksptg",
          "majestic_cafe",
          "timhortons",
          "majestic_cafe",
          "timhortons",
          "jeronymo_pt",
          "timhortons",
          "costacoffee",
          "abrasileirachiado",
          "starbucksptg",
          "cphcoffeelab",
          "costacoffee",
          "costacoffee",
          "combi_coffee",
          "apadariaportuguesa",
          "majestic_cafe",
          "cphcoffeelab",
          "apadariaportuguesa",
          "timhortons",
          "starbucksptg",
          "cphcoffeelab",
          "jeronymo_pt",
          "majestic_cafe",
          "majestic_cafe",
          "combi_coffee",
          "majestic_cafe",
          "cphcoffeelab",
          "timhortons",
          "combi_coffee",
          "abrasileirachiado",
          "majestic_cafe",
          "cphcoffeelab",
          "costacoffee",
          "cphcoffeelab",
          "jeronymo_pt",
          "timhortons",
          "majestic_cafe",
          "majestic_cafe",
          "timhortons",
          "cphcoffeelab",
          "abrasileirachiado",
          "jeronymo_pt",
          "timhortons",
          "starbucksptg",
          "costacoffee",
          "costacoffee",
          "cphcoffeelab",
          "combi_coffee",
          "apadariaportuguesa",
          "majestic_cafe",
          "majestic_cafe",
          "majestic_cafe",
          "abrasileirachiado",
          "timhortons",
          "majestic_cafe",
          "majestic_cafe",
          "majestic_cafe",
          "jeronymo_pt",
          "majestic_cafe",
          "costacoffee",
          "cphcoffeelab",
          "majestic_cafe",
          "majestic_cafe",
          "majestic_cafe",
          "costacoffee",
          "costacoffee",
          "apadariaportuguesa",
          "starbucksptg",
          "majestic_cafe",
          "cphcoffeelab",
          "combi_coffee",
          "jeronymo_pt",
          "costacoffee",
          "majestic_cafe",
          "cphcoffeelab",
          "majestic_cafe",
          "majestic_cafe",
          "majestic_cafe",
          "apadariaportuguesa",
          "costacoffee",
          "jeronymo_pt",
          "fabricacoffeeroasters",
          "timhortons",
          "costacoffee",
          "cphcoffeelab",
          "jeronymo_pt",
          "majestic_cafe",
          "costacoffee",
          "cphcoffeelab",
          "abrasileirachiado",
          "starbucksptg",
          "apadariaportuguesa",
          "timhortons",
          "costacoffee",
          "cphcoffeelab",
          "jeronymo_pt",
          "timhortons",
          "majestic_cafe",
          "majestic_cafe",
          "timhortons",
          "costacoffee",
          "apadariaportuguesa",
          "cphcoffeelab",
          "abrasileirachiado",
          "starbucksptg",
          "majestic_cafe",
          "costacoffee",
          "cphcoffeelab",
          "starbucksptg",
          "costacoffee",
          "cphcoffeelab",
          "timhortons",
          "jeronymo_pt",
          "costacoffee",
          "cphcoffeelab",
          "majestic_cafe",
          "starbucksptg",
          "starbucksptg",
          "majestic_cafe",
          "majestic_cafe",
          "majestic_cafe",
          "costacoffee",
          "costacoffee",
          "majestic_cafe",
          "majestic_cafe",
          "majestic_cafe",
          "jeronymo_pt",
          "cphcoffeelab",
          "combi_coffee",
          "apadariaportuguesa",
          "abrasileirachiado",
          "majestic_cafe",
          "majestic_cafe",
          "timhortons",
          "cphcoffeelab",
          "apadariaportuguesa",
          "costacoffee",
          "cphcoffeelab",
          "timhortons",
          "timhortons",
          "majestic_cafe",
          "apadariaportuguesa",
          "majestic_cafe",
          "cphcoffeelab",
          "timhortons",
          "costacoffee",
          "majestic_cafe",
          "starbucksptg",
          "costacoffee",
          "abrasileirachiado",
          "cphcoffeelab",
          "costacoffee",
          "apadariaportuguesa",
          "majestic_cafe",
          "jeronymo_pt",
          "timhortons",
          "timhortons",
          "starbucksptg",
          "majestic_cafe",
          "jeronymo_pt",
          "majestic_cafe",
          "majestic_cafe",
          "majestic_cafe",
          "majestic_cafe",
          "timhortons",
          "majestic_cafe",
          "costacoffee",
          "costacoffee",
          "timhortons",
          "timhortons",
          "timhortons",
          "majestic_cafe",
          "majestic_cafe",
          "majestic_cafe",
          "cphcoffeelab",
          "majestic_cafe",
          "majestic_cafe",
          "majestic_cafe",
          "majestic_cafe",
          "majestic_cafe",
          "majestic_cafe",
          "majestic_cafe",
          "majestic_cafe",
          "majestic_cafe",
          "majestic_cafe",
          "majestic_cafe",
          "majestic_cafe",
          "majestic_cafe",
          "majestic_cafe",
          "majestic_cafe",
          "abrasileirachiado",
          "majestic_cafe",
          "starbucksptg",
          "majestic_cafe",
          "majestic_cafe",
          "timhortons",
          "cphcoffeelab",
          "abrasileirachiado",
          "timhortons",
          "timhortons",
          "starbucksptg",
          "cphcoffeelab",
          "jeronymo_pt",
          "apadariaportuguesa",
          "costacoffee",
          "combi_coffee",
          "costacoffee",
          "starbucksptg",
          "majestic_cafe",
          "majestic_cafe",
          "timhortons",
          "jeronymo_pt",
          "costacoffee",
          "costacoffee",
          "cphcoffeelab",
          "apadariaportuguesa",
          "majestic_cafe",
          "timhortons",
          "starbucksptg",
          "timhortons",
          "costacoffee",
          "abrasileirachiado",
          "majestic_cafe",
          "majestic_cafe",
          "majestic_cafe",
          "majestic_cafe",
          "majestic_cafe",
          "majestic_cafe",
          "majestic_cafe",
          "costacoffee",
          "timhortons",
          "abrasileirachiado",
          "cphcoffeelab",
          "jeronymo_pt",
          "abrasileirachiado",
          "timhortons",
          "majestic_cafe",
          "costacoffee",
          "majestic_cafe",
          "cphcoffeelab",
          "timhortons",
          "majestic_cafe",
          "majestic_cafe",
          "apadariaportuguesa",
          "jeronymo_pt",
          "cphcoffeelab",
          "costacoffee",
          "cphcoffeelab",
          "majestic_cafe",
          "abrasileirachiado",
          "starbucksptg",
          "apadariaportuguesa",
          "timhortons",
          "timhortons",
          "cphcoffeelab",
          "fabricacoffeeroasters",
          "costacoffee",
          "majestic_cafe",
          "majestic_cafe",
          "majestic_cafe",
          "timhortons",
          "jeronymo_pt",
          "costacoffee",
          "cphcoffeelab",
          "apadariaportuguesa",
          "majestic_cafe",
          "timhortons",
          "cphcoffeelab",
          "cphcoffeelab",
          "majestic_cafe",
          "majestic_cafe",
          "majestic_cafe",
          "majestic_cafe",
          "majestic_cafe",
          "timhortons",
          "majestic_cafe",
          "majestic_cafe",
          "majestic_cafe",
          "majestic_cafe",
          "majestic_cafe",
          "majestic_cafe",
          "apadariaportuguesa",
          "combi_coffee",
          "majestic_cafe",
          "jeronymo_pt",
          "cphcoffeelab",
          "majestic_cafe",
          "starbucksptg",
          "abrasileirachiado",
          "majestic_cafe",
          "apadariaportuguesa",
          "apadariaportuguesa",
          "timhortons",
          "majestic_cafe",
          "apadariaportuguesa",
          "cphcoffeelab",
          "majestic_cafe",
          "apadariaportuguesa",
          "majestic_cafe",
          "timhortons",
          "combi_coffee",
          "timhortons",
          "majestic_cafe",
          "combi_coffee",
          "majestic_cafe",
          "majestic_cafe",
          "majestic_cafe",
          "majestic_cafe",
          "majestic_cafe",
          "majestic_cafe",
          "majestic_cafe",
          "majestic_cafe",
          "majestic_cafe",
          "jeronymo_pt",
          "cphcoffeelab",
          "abrasileirachiado",
          "majestic_cafe",
          "majestic_cafe",
          "cphcoffeelab",
          "majestic_cafe",
          "majestic_cafe",
          "timhortons",
          "jeronymo_pt",
          "cphcoffeelab",
          "combi_coffee",
          "cphcoffeelab",
          "majestic_cafe",
          "combi_coffee",
          "starbucksptg",
          "apadariaportuguesa",
          "starbucksptg",
          "costacoffee",
          "combi_coffee",
          "abrasileirachiado",
          "timhortons",
          "apadariaportuguesa",
          "majestic_cafe",
          "timhortons",
          "majestic_cafe",
          "majestic_cafe",
          "abrasileirachiado",
          "combi_coffee",
          "cphcoffeelab",
          "starbucksptg",
          "majestic_cafe",
          "cphcoffeelab",
          "timhortons",
          "starbucksptg",
          "cphcoffeelab",
          "apadariaportuguesa",
          "jeronymo_pt",
          "majestic_cafe",
          "timhortons",
          "apadariaportuguesa",
          "jeronymo_pt",
          "majestic_cafe",
          "majestic_cafe",
          "starbucksptg",
          "majestic_cafe",
          "jeronymo_pt",
          "majestic_cafe",
          "cphcoffeelab",
          "majestic_cafe",
          "timhortons",
          "majestic_cafe",
          "majestic_cafe",
          "timhortons",
          "cphcoffeelab",
          "majestic_cafe",
          "majestic_cafe",
          "abrasileirachiado",
          "apadariaportuguesa",
          "timhortons",
          "majestic_cafe",
          "majestic_cafe",
          "majestic_cafe",
          "majestic_cafe",
          "abrasileirachiado",
          "timhortons",
          "cphcoffeelab",
          "majestic_cafe",
          "majestic_cafe",
          "cphcoffeelab",
          "apadariaportuguesa",
          "jeronymo_pt",
          "cphcoffeelab",
          "combi_coffee",
          "apadariaportuguesa",
          "abrasileirachiado",
          "abrasileirachiado",
          "timhortons",
          "starbucksptg",
          "majestic_cafe",
          "costacoffee",
          "apadariaportuguesa",
          "combi_coffee",
          "combi_coffee",
          "majestic_cafe",
          "majestic_cafe",
          "majestic_cafe",
          "majestic_cafe",
          "majestic_cafe",
          "majestic_cafe",
          "costacoffee",
          "jeronymo_pt",
          "timhortons",
          "costacoffee",
          "cphcoffeelab",
          "majestic_cafe",
          "costacoffee",
          "abrasileirachiado",
          "majestic_cafe",
          "majestic_cafe",
          "majestic_cafe",
          "cphcoffeelab",
          "timhortons",
          "majestic_cafe",
          "cphcoffeelab",
          "apadariaportuguesa",
          "starbucksptg",
          "timhortons",
          "cphcoffeelab",
          "abrasileirachiado",
          "timhortons",
          "apadariaportuguesa",
          "timhortons",
          "starbucksptg",
          "apadariaportuguesa",
          "apadariaportuguesa",
          "jeronymo_pt",
          "majestic_cafe",
          "cphcoffeelab",
          "majestic_cafe",
          "abrasileirachiado",
          "apadariaportuguesa",
          "jeronymo_pt",
          "timhortons",
          "timhortons",
          "jeronymo_pt",
          "cphcoffeelab",
          "timhortons",
          "timhortons",
          "timhortons",
          "timhortons",
          "timhortons",
          "majestic_cafe",
          "timhortons",
          "costacoffee",
          "starbucksptg",
          "majestic_cafe",
          "jeronymo_pt",
          "costacoffee",
          "cphcoffeelab",
          "abrasileirachiado",
          "majestic_cafe",
          "timhortons",
          "starbucksptg",
          "costacoffee",
          "jeronymo_pt",
          "majestic_cafe",
          "majestic_cafe",
          "cphcoffeelab",
          "combi_coffee",
          "timhortons",
          "majestic_cafe",
          "majestic_cafe",
          "abrasileirachiado",
          "apadariaportuguesa",
          "timhortons",
          "starbucksptg",
          "costacoffee",
          "costacoffee",
          "timhortons",
          "cphcoffeelab",
          "majestic_cafe",
          "abrasileirachiado",
          "abrasileirachiado",
          "abrasileirachiado",
          "apadariaportuguesa",
          "majestic_cafe",
          "jeronymo_pt",
          "majestic_cafe",
          "starbucksptg",
          "majestic_cafe",
          "majestic_cafe",
          "majestic_cafe",
          "timhortons",
          "majestic_cafe",
          "majestic_cafe",
          "timhortons",
          "timhortons",
          "costacoffee",
          "cphcoffeelab",
          "abrasileirachiado",
          "timhortons",
          "timhortons",
          "apadariaportuguesa",
          "cphcoffeelab",
          "jeronymo_pt",
          "starbucksptg",
          "majestic_cafe",
          "timhortons",
          "cphcoffeelab",
          "timhortons",
          "abrasileirachiado",
          "apadariaportuguesa",
          "fabricacoffeeroasters",
          "cphcoffeelab",
          "majestic_cafe",
          "timhortons",
          "combi_coffee",
          "apadariaportuguesa",
          "apadariaportuguesa",
          "starbucksptg",
          "majestic_cafe",
          "majestic_cafe",
          "costacoffee",
          "timhortons",
          "starbucksptg",
          "majestic_cafe",
          "cphcoffeelab",
          "starbucksptg",
          "jeronymo_pt",
          "costacoffee",
          "apadariaportuguesa",
          "majestic_cafe",
          "majestic_cafe",
          "majestic_cafe",
          "timhortons",
          "timhortons",
          "majestic_cafe",
          "costacoffee",
          "cphcoffeelab",
          "timhortons",
          "apadariaportuguesa",
          "apadariaportuguesa",
          "cphcoffeelab",
          "majestic_cafe",
          "costacoffee",
          "jeronymo_pt",
          "timhortons",
          "cphcoffeelab",
          "majestic_cafe",
          "timhortons",
          "majestic_cafe",
          "costacoffee",
          "cphcoffeelab",
          "starbucksptg",
          "abrasileirachiado",
          "apadariaportuguesa",
          "majestic_cafe",
          "majestic_cafe",
          "starbucksptg",
          "cphcoffeelab",
          "apadariaportuguesa",
          "timhortons",
          "apadariaportuguesa",
          "majestic_cafe",
          "timhortons",
          "majestic_cafe",
          "jeronymo_pt",
          "abrasileirachiado",
          "timhortons",
          "majestic_cafe",
          "majestic_cafe",
          "majestic_cafe",
          "jeronymo_pt",
          "cphcoffeelab",
          "majestic_cafe",
          "timhortons",
          "abrasileirachiado",
          "majestic_cafe",
          "timhortons",
          "jeronymo_pt",
          "apadariaportuguesa",
          "costacoffee",
          "starbucksptg",
          "cphcoffeelab",
          "majestic_cafe",
          "apadariaportuguesa",
          "costacoffee",
          "starbucksptg",
          "abrasileirachiado",
          "jeronymo_pt",
          "cphcoffeelab",
          "apadariaportuguesa",
          "starbucksptg",
          "timhortons",
          "cphcoffeelab",
          "majestic_cafe",
          "fabricacoffeeroasters",
          "majestic_cafe",
          "jeronymo_pt",
          "fabricacoffeeroasters",
          "fabricacoffeeroasters",
          "apadariaportuguesa",
          "majestic_cafe",
          "majestic_cafe",
          "majestic_cafe",
          "cphcoffeelab",
          "abrasileirachiado",
          "cphcoffeelab",
          "majestic_cafe",
          "majestic_cafe",
          "majestic_cafe",
          "jeronymo_pt",
          "majestic_cafe",
          "timhortons",
          "jeronymo_pt",
          "apadariaportuguesa",
          "timhortons",
          "cphcoffeelab",
          "apadariaportuguesa",
          "apadariaportuguesa",
          "abrasileirachiado",
          "timhortons",
          "starbucksptg",
          "jeronymo_pt",
          "timhortons",
          "majestic_cafe",
          "starbucksptg",
          "costacoffee",
          "cphcoffeelab",
          "jeronymo_pt",
          "apadariaportuguesa",
          "timhortons",
          "cphcoffeelab",
          "costacoffee",
          "jeronymo_pt",
          "majestic_cafe",
          "apadariaportuguesa",
          "cphcoffeelab",
          "jeronymo_pt",
          "costacoffee",
          "majestic_cafe",
          "cphcoffeelab",
          "jeronymo_pt",
          "majestic_cafe",
          "starbucksptg",
          "jeronymo_pt",
          "abrasileirachiado",
          "cphcoffeelab",
          "costacoffee",
          "jeronymo_pt",
          "majestic_cafe",
          "timhortons",
          "cphcoffeelab",
          "costacoffee",
          "apadariaportuguesa",
          "abrasileirachiado",
          "jeronymo_pt",
          "timhortons",
          "starbucksptg",
          "cphcoffeelab",
          "abrasileirachiado",
          "cphcoffeelab",
          "majestic_cafe",
          "timhortons",
          "jeronymo_pt",
          "majestic_cafe",
          "fabricacoffeeroasters",
          "majestic_cafe",
          "majestic_cafe",
          "majestic_cafe",
          "majestic_cafe",
          "timhortons",
          "jeronymo_pt",
          "cphcoffeelab",
          "majestic_cafe",
          "starbucksptg",
          "majestic_cafe",
          "timhortons",
          "jeronymo_pt",
          "cphcoffeelab",
          "apadariaportuguesa",
          "costacoffee",
          "apadariaportuguesa",
          "majestic_cafe",
          "costacoffee",
          "timhortons",
          "majestic_cafe",
          "abrasileirachiado",
          "costacoffee",
          "timhortons",
          "cphcoffeelab",
          "jeronymo_pt",
          "apadariaportuguesa",
          "starbucksptg",
          "cphcoffeelab",
          "majestic_cafe",
          "abrasileirachiado",
          "jeronymo_pt",
          "cphcoffeelab",
          "majestic_cafe",
          "abrasileirachiado",
          "timhortons",
          "timhortons",
          "majestic_cafe",
          "apadariaportuguesa",
          "apadariaportuguesa",
          "jeronymo_pt",
          "apadariaportuguesa",
          "costacoffee",
          "starbucksptg",
          "majestic_cafe",
          "majestic_cafe",
          "cphcoffeelab",
          "apadariaportuguesa",
          "majestic_cafe",
          "majestic_cafe",
          "cphcoffeelab",
          "jeronymo_pt",
          "majestic_cafe",
          "apadariaportuguesa",
          "majestic_cafe",
          "jeronymo_pt",
          "apadariaportuguesa",
          "starbucksptg",
          "abrasileirachiado",
          "majestic_cafe",
          "cphcoffeelab",
          "costacoffee",
          "combi_coffee",
          "jeronymo_pt",
          "combi_coffee",
          "cphcoffeelab",
          "fabricacoffeeroasters",
          "timhortons",
          "starbucksptg",
          "jeronymo_pt",
          "cphcoffeelab",
          "starbucksptg",
          "apadariaportuguesa",
          "cphcoffeelab",
          "timhortons",
          "majestic_cafe",
          "apadariaportuguesa",
          "cphcoffeelab",
          "abrasileirachiado",
          "majestic_cafe",
          "costacoffee",
          "costacoffee",
          "apadariaportuguesa",
          "jeronymo_pt",
          "combi_coffee",
          "majestic_cafe",
          "majestic_cafe",
          "jeronymo_pt",
          "majestic_cafe",
          "majestic_cafe",
          "timhortons",
          "fabricacoffeeroasters",
          "cphcoffeelab",
          "abrasileirachiado",
          "apadariaportuguesa",
          "timhortons",
          "majestic_cafe",
          "majestic_cafe",
          "majestic_cafe",
          "majestic_cafe",
          "cphcoffeelab",
          "timhortons",
          "apadariaportuguesa",
          "jeronymo_pt",
          "apadariaportuguesa",
          "costacoffee",
          "majestic_cafe",
          "starbucksptg",
          "cphcoffeelab",
          "fabricacoffeeroasters",
          "abrasileirachiado",
          "apadariaportuguesa",
          "jeronymo_pt",
          "cphcoffeelab",
          "majestic_cafe",
          "starbucksptg",
          "jeronymo_pt",
          "cphcoffeelab",
          "jeronymo_pt",
          "majestic_cafe",
          "timhortons",
          "fabricacoffeeroasters",
          "cphcoffeelab",
          "jeronymo_pt",
          "majestic_cafe",
          "timhortons",
          "abrasileirachiado",
          "majestic_cafe",
          "majestic_cafe",
          "cphcoffeelab",
          "apadariaportuguesa",
          "combi_coffee",
          "costacoffee",
          "timhortons",
          "majestic_cafe",
          "cphcoffeelab",
          "cphcoffeelab",
          "apadariaportuguesa",
          "starbucksptg",
          "timhortons",
          "abrasileirachiado",
          "majestic_cafe",
          "apadariaportuguesa",
          "timhortons",
          "starbucksptg",
          "timhortons",
          "timhortons",
          "cphcoffeelab",
          "majestic_cafe",
          "majestic_cafe",
          "abrasileirachiado",
          "jeronymo_pt",
          "apadariaportuguesa",
          "timhortons",
          "majestic_cafe",
          "starbucksptg",
          "majestic_cafe",
          "costacoffee",
          "timhortons",
          "combi_coffee",
          "abrasileirachiado",
          "cphcoffeelab",
          "timhortons",
          "jeronymo_pt",
          "apadariaportuguesa",
          "majestic_cafe",
          "timhortons",
          "cphcoffeelab",
          "cphcoffeelab",
          "starbucksptg",
          "timhortons",
          "jeronymo_pt",
          "apadariaportuguesa",
          "timhortons",
          "combi_coffee",
          "cphcoffeelab",
          "costacoffee",
          "apadariaportuguesa",
          "costacoffee",
          "majestic_cafe",
          "apadariaportuguesa",
          "jeronymo_pt",
          "combi_coffee",
          "cphcoffeelab",
          "starbucksptg",
          "combi_coffee",
          "abrasileirachiado",
          "majestic_cafe",
          "cphcoffeelab",
          "timhortons",
          "timhortons",
          "apadariaportuguesa",
          "starbucksptg",
          "apadariaportuguesa",
          "jeronymo_pt",
          "costacoffee",
          "starbucksptg",
          "timhortons",
          "timhortons",
          "timhortons",
          "costacoffee",
          "jeronymo_pt",
          "cphcoffeelab",
          "majestic_cafe",
          "timhortons",
          "majestic_cafe",
          "fabricacoffeeroasters",
          "timhortons",
          "majestic_cafe",
          "majestic_cafe",
          "cphcoffeelab",
          "abrasileirachiado",
          "timhortons",
          "majestic_cafe",
          "apadariaportuguesa",
          "timhortons",
          "costacoffee",
          "starbucksptg",
          "apadariaportuguesa",
          "cphcoffeelab",
          "costacoffee",
          "apadariaportuguesa",
          "combi_coffee",
          "timhortons",
          "cphcoffeelab",
          "costacoffee",
          "majestic_cafe",
          "majestic_cafe",
          "abrasileirachiado",
          "fabricacoffeeroasters",
          "fabricacoffeeroasters",
          "cphcoffeelab",
          "starbucksptg",
          "majestic_cafe",
          "majestic_cafe",
          "jeronymo_pt",
          "fabricacoffeeroasters",
          "apadariaportuguesa",
          "timhortons",
          "timhortons",
          "majestic_cafe",
          "majestic_cafe",
          "timhortons",
          "cphcoffeelab",
          "fabricacoffeeroasters",
          "combi_coffee",
          "jeronymo_pt",
          "timhortons",
          "timhortons",
          "starbucksptg",
          "jeronymo_pt",
          "abrasileirachiado",
          "majestic_cafe",
          "apadariaportuguesa",
          "cphcoffeelab",
          "starbucksptg",
          "fabricacoffeeroasters",
          "timhortons",
          "costacoffee",
          "timhortons",
          "timhortons",
          "apadariaportuguesa",
          "majestic_cafe",
          "majestic_cafe",
          "majestic_cafe",
          "cphcoffeelab",
          "majestic_cafe",
          "majestic_cafe",
          "jeronymo_pt",
          "apadariaportuguesa",
          "cphcoffeelab",
          "timhortons",
          "majestic_cafe",
          "majestic_cafe",
          "majestic_cafe",
          "starbucksptg",
          "apadariaportuguesa",
          "jeronymo_pt",
          "timhortons",
          "majestic_cafe",
          "abrasileirachiado",
          "cphcoffeelab",
          "apadariaportuguesa",
          "starbucksptg",
          "majestic_cafe",
          "majestic_cafe",
          "cphcoffeelab",
          "majestic_cafe",
          "timhortons",
          "cphcoffeelab",
          "timhortons",
          "jeronymo_pt",
          "majestic_cafe",
          "timhortons",
          "starbucksptg",
          "costacoffee",
          "abrasileirachiado",
          "starbucksptg",
          "timhortons",
          "cphcoffeelab",
          "majestic_cafe",
          "timhortons",
          "apadariaportuguesa",
          "costacoffee",
          "timhortons",
          "cphcoffeelab",
          "majestic_cafe",
          "jeronymo_pt",
          "starbucksptg",
          "timhortons",
          "apadariaportuguesa",
          "combi_coffee",
          "timhortons",
          "cphcoffeelab",
          "abrasileirachiado",
          "majestic_cafe",
          "timhortons",
          "timhortons",
          "majestic_cafe",
          "fabricacoffeeroasters",
          "starbucksptg",
          "cphcoffeelab",
          "majestic_cafe",
          "apadariaportuguesa",
          "starbucksptg",
          "jeronymo_pt",
          "costacoffee",
          "cphcoffeelab",
          "fabricacoffeeroasters",
          "starbucksptg",
          "combi_coffee",
          "majestic_cafe",
          "combi_coffee",
          "jeronymo_pt",
          "timhortons",
          "abrasileirachiado",
          "cphcoffeelab",
          "majestic_cafe",
          "jeronymo_pt",
          "starbucksptg",
          "cphcoffeelab",
          "abrasileirachiado",
          "majestic_cafe",
          "apadariaportuguesa",
          "starbucksptg",
          "timhortons",
          "cphcoffeelab",
          "majestic_cafe",
          "starbucksptg",
          "cphcoffeelab",
          "jeronymo_pt",
          "majestic_cafe",
          "timhortons",
          "apadariaportuguesa",
          "majestic_cafe",
          "starbucksptg",
          "abrasileirachiado",
          "combi_coffee",
          "majestic_cafe",
          "majestic_cafe",
          "majestic_cafe",
          "majestic_cafe",
          "majestic_cafe",
          "majestic_cafe",
          "majestic_cafe",
          "majestic_cafe",
          "majestic_cafe",
          "majestic_cafe",
          "majestic_cafe",
          "abrasileirachiado",
          "jeronymo_pt",
          "cphcoffeelab",
          "majestic_cafe",
          "cphcoffeelab",
          "fabricacoffeeroasters",
          "timhortons",
          "jeronymo_pt",
          "timhortons",
          "apadariaportuguesa",
          "majestic_cafe",
          "majestic_cafe",
          "abrasileirachiado",
          "timhortons",
          "majestic_cafe",
          "majestic_cafe",
          "jeronymo_pt",
          "timhortons",
          "cphcoffeelab",
          "starbucksptg",
          "apadariaportuguesa",
          "majestic_cafe",
          "majestic_cafe",
          "costacoffee",
          "starbucksptg",
          "timhortons",
          "cphcoffeelab",
          "majestic_cafe",
          "majestic_cafe",
          "majestic_cafe",
          "majestic_cafe",
          "apadariaportuguesa",
          "timhortons",
          "majestic_cafe",
          "timhortons",
          "majestic_cafe",
          "majestic_cafe",
          "abrasileirachiado",
          "jeronymo_pt",
          "cphcoffeelab",
          "majestic_cafe",
          "cphcoffeelab",
          "starbucksptg",
          "apadariaportuguesa",
          "majestic_cafe",
          "jeronymo_pt",
          "timhortons",
          "timhortons",
          "abrasileirachiado",
          "majestic_cafe",
          "majestic_cafe",
          "cphcoffeelab",
          "majestic_cafe",
          "jeronymo_pt",
          "cphcoffeelab",
          "cphcoffeelab",
          "majestic_cafe",
          "starbucksptg",
          "timhortons",
          "apadariaportuguesa",
          "jeronymo_pt",
          "starbucksptg",
          "majestic_cafe",
          "timhortons",
          "fabricacoffeeroasters",
          "majestic_cafe",
          "abrasileirachiado",
          "majestic_cafe",
          "cphcoffeelab",
          "timhortons",
          "timhortons",
          "majestic_cafe",
          "majestic_cafe",
          "starbucksptg",
          "jeronymo_pt",
          "cphcoffeelab",
          "timhortons",
          "starbucksptg",
          "majestic_cafe",
          "majestic_cafe",
          "apadariaportuguesa",
          "abrasileirachiado",
          "timhortons",
          "starbucksptg",
          "cphcoffeelab",
          "cphcoffeelab",
          "starbucksptg",
          "timhortons",
          "jeronymo_pt",
          "starbucksptg",
          "majestic_cafe",
          "majestic_cafe",
          "majestic_cafe",
          "timhortons",
          "timhortons",
          "costacoffee",
          "jeronymo_pt",
          "timhortons",
          "cphcoffeelab",
          "abrasileirachiado",
          "apadariaportuguesa",
          "majestic_cafe",
          "fabricacoffeeroasters",
          "timhortons",
          "timhortons",
          "timhortons",
          "starbucksptg",
          "jeronymo_pt",
          "majestic_cafe",
          "timhortons",
          "timhortons",
          "jeronymo_pt",
          "apadariaportuguesa",
          "abrasileirachiado",
          "timhortons",
          "starbucksptg",
          "costacoffee",
          "majestic_cafe",
          "jeronymo_pt",
          "majestic_cafe",
          "majestic_cafe",
          "timhortons",
          "apadariaportuguesa",
          "apadariaportuguesa",
          "timhortons",
          "majestic_cafe",
          "cphcoffeelab",
          "apadariaportuguesa",
          "apadariaportuguesa",
          "apadariaportuguesa",
          "abrasileirachiado",
          "majestic_cafe",
          "starbucksptg",
          "majestic_cafe",
          "cphcoffeelab",
          "starbucksptg",
          "costacoffee",
          "cphcoffeelab",
          "jeronymo_pt",
          "timhortons",
          "jeronymo_pt",
          "apadariaportuguesa",
          "combi_coffee",
          "starbucksptg",
          "timhortons",
          "apadariaportuguesa",
          "cphcoffeelab",
          "timhortons",
          "majestic_cafe",
          "majestic_cafe",
          "jeronymo_pt",
          "cphcoffeelab",
          "abrasileirachiado",
          "timhortons",
          "timhortons"
         ],
         "x0": " ",
         "xaxis": "x",
         "y": {
          "bdata": "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",
          "dtype": "f8"
         },
         "y0": " ",
         "yaxis": "y"
        }
       ],
       "layout": {
        "boxmode": "group",
        "legend": {
         "tracegroupgap": 0
        },
        "margin": {
         "t": 60
        },
        "template": {
         "data": {
          "bar": [
           {
            "error_x": {
             "color": "#2a3f5f"
            },
            "error_y": {
             "color": "#2a3f5f"
            },
            "marker": {
             "line": {
              "color": "#E5ECF6",
              "width": 0.5
             },
             "pattern": {
              "fillmode": "overlay",
              "size": 10,
              "solidity": 0.2
             }
            },
            "type": "bar"
           }
          ],
          "barpolar": [
           {
            "marker": {
             "line": {
              "color": "#E5ECF6",
              "width": 0.5
             },
             "pattern": {
              "fillmode": "overlay",
              "size": 10,
              "solidity": 0.2
             }
            },
            "type": "barpolar"
           }
          ],
          "carpet": [
           {
            "aaxis": {
             "endlinecolor": "#2a3f5f",
             "gridcolor": "white",
             "linecolor": "white",
             "minorgridcolor": "white",
             "startlinecolor": "#2a3f5f"
            },
            "baxis": {
             "endlinecolor": "#2a3f5f",
             "gridcolor": "white",
             "linecolor": "white",
             "minorgridcolor": "white",
             "startlinecolor": "#2a3f5f"
            },
            "type": "carpet"
           }
          ],
          "choropleth": [
           {
            "colorbar": {
             "outlinewidth": 0,
             "ticks": ""
            },
            "type": "choropleth"
           }
          ],
          "contour": [
           {
            "colorbar": {
             "outlinewidth": 0,
             "ticks": ""
            },
            "colorscale": [
             [
              0,
              "#0d0887"
             ],
             [
              0.1111111111111111,
              "#46039f"
             ],
             [
              0.2222222222222222,
              "#7201a8"
             ],
             [
              0.3333333333333333,
              "#9c179e"
             ],
             [
              0.4444444444444444,
              "#bd3786"
             ],
             [
              0.5555555555555556,
              "#d8576b"
             ],
             [
              0.6666666666666666,
              "#ed7953"
             ],
             [
              0.7777777777777778,
              "#fb9f3a"
             ],
             [
              0.8888888888888888,
              "#fdca26"
             ],
             [
              1,
              "#f0f921"
             ]
            ],
            "type": "contour"
           }
          ],
          "contourcarpet": [
           {
            "colorbar": {
             "outlinewidth": 0,
             "ticks": ""
            },
            "type": "contourcarpet"
           }
          ],
          "heatmap": [
           {
            "colorbar": {
             "outlinewidth": 0,
             "ticks": ""
            },
            "colorscale": [
             [
              0,
              "#0d0887"
             ],
             [
              0.1111111111111111,
              "#46039f"
             ],
             [
              0.2222222222222222,
              "#7201a8"
             ],
             [
              0.3333333333333333,
              "#9c179e"
             ],
             [
              0.4444444444444444,
              "#bd3786"
             ],
             [
              0.5555555555555556,
              "#d8576b"
             ],
             [
              0.6666666666666666,
              "#ed7953"
             ],
             [
              0.7777777777777778,
              "#fb9f3a"
             ],
             [
              0.8888888888888888,
              "#fdca26"
             ],
             [
              1,
              "#f0f921"
             ]
            ],
            "type": "heatmap"
           }
          ],
          "histogram": [
           {
            "marker": {
             "pattern": {
              "fillmode": "overlay",
              "size": 10,
              "solidity": 0.2
             }
            },
            "type": "histogram"
           }
          ],
          "histogram2d": [
           {
            "colorbar": {
             "outlinewidth": 0,
             "ticks": ""
            },
            "colorscale": [
             [
              0,
              "#0d0887"
             ],
             [
              0.1111111111111111,
              "#46039f"
             ],
             [
              0.2222222222222222,
              "#7201a8"
             ],
             [
              0.3333333333333333,
              "#9c179e"
             ],
             [
              0.4444444444444444,
              "#bd3786"
             ],
             [
              0.5555555555555556,
              "#d8576b"
             ],
             [
              0.6666666666666666,
              "#ed7953"
             ],
             [
              0.7777777777777778,
              "#fb9f3a"
             ],
             [
              0.8888888888888888,
              "#fdca26"
             ],
             [
              1,
              "#f0f921"
             ]
            ],
            "type": "histogram2d"
           }
          ],
          "histogram2dcontour": [
           {
            "colorbar": {
             "outlinewidth": 0,
             "ticks": ""
            },
            "colorscale": [
             [
              0,
              "#0d0887"
             ],
             [
              0.1111111111111111,
              "#46039f"
             ],
             [
              0.2222222222222222,
              "#7201a8"
             ],
             [
              0.3333333333333333,
              "#9c179e"
             ],
             [
              0.4444444444444444,
              "#bd3786"
             ],
             [
              0.5555555555555556,
              "#d8576b"
             ],
             [
              0.6666666666666666,
              "#ed7953"
             ],
             [
              0.7777777777777778,
              "#fb9f3a"
             ],
             [
              0.8888888888888888,
              "#fdca26"
             ],
             [
              1,
              "#f0f921"
             ]
            ],
            "type": "histogram2dcontour"
           }
          ],
          "mesh3d": [
           {
            "colorbar": {
             "outlinewidth": 0,
             "ticks": ""
            },
            "type": "mesh3d"
           }
          ],
          "parcoords": [
           {
            "line": {
             "colorbar": {
              "outlinewidth": 0,
              "ticks": ""
             }
            },
            "type": "parcoords"
           }
          ],
          "pie": [
           {
            "automargin": true,
            "type": "pie"
           }
          ],
          "scatter": [
           {
            "fillpattern": {
             "fillmode": "overlay",
             "size": 10,
             "solidity": 0.2
            },
            "type": "scatter"
           }
          ],
          "scatter3d": [
           {
            "line": {
             "colorbar": {
              "outlinewidth": 0,
              "ticks": ""
             }
            },
            "marker": {
             "colorbar": {
              "outlinewidth": 0,
              "ticks": ""
             }
            },
            "type": "scatter3d"
           }
          ],
          "scattercarpet": [
           {
            "marker": {
             "colorbar": {
              "outlinewidth": 0,
              "ticks": ""
             }
            },
            "type": "scattercarpet"
           }
          ],
          "scattergeo": [
           {
            "marker": {
             "colorbar": {
              "outlinewidth": 0,
              "ticks": ""
             }
            },
            "type": "scattergeo"
           }
          ],
          "scattergl": [
           {
            "marker": {
             "colorbar": {
              "outlinewidth": 0,
              "ticks": ""
             }
            },
            "type": "scattergl"
           }
          ],
          "scattermap": [
           {
            "marker": {
             "colorbar": {
              "outlinewidth": 0,
              "ticks": ""
             }
            },
            "type": "scattermap"
           }
          ],
          "scattermapbox": [
           {
            "marker": {
             "colorbar": {
              "outlinewidth": 0,
              "ticks": ""
             }
            },
            "type": "scattermapbox"
           }
          ],
          "scatterpolar": [
           {
            "marker": {
             "colorbar": {
              "outlinewidth": 0,
              "ticks": ""
             }
            },
            "type": "scatterpolar"
           }
          ],
          "scatterpolargl": [
           {
            "marker": {
             "colorbar": {
              "outlinewidth": 0,
              "ticks": ""
             }
            },
            "type": "scatterpolargl"
           }
          ],
          "scatterternary": [
           {
            "marker": {
             "colorbar": {
              "outlinewidth": 0,
              "ticks": ""
             }
            },
            "type": "scatterternary"
           }
          ],
          "surface": [
           {
            "colorbar": {
             "outlinewidth": 0,
             "ticks": ""
            },
            "colorscale": [
             [
              0,
              "#0d0887"
             ],
             [
              0.1111111111111111,
              "#46039f"
             ],
             [
              0.2222222222222222,
              "#7201a8"
             ],
             [
              0.3333333333333333,
              "#9c179e"
             ],
             [
              0.4444444444444444,
              "#bd3786"
             ],
             [
              0.5555555555555556,
              "#d8576b"
             ],
             [
              0.6666666666666666,
              "#ed7953"
             ],
             [
              0.7777777777777778,
              "#fb9f3a"
             ],
             [
              0.8888888888888888,
              "#fdca26"
             ],
             [
              1,
              "#f0f921"
             ]
            ],
            "type": "surface"
           }
          ],
          "table": [
           {
            "cells": {
             "fill": {
              "color": "#EBF0F8"
             },
             "line": {
              "color": "white"
             }
            },
            "header": {
             "fill": {
              "color": "#C8D4E3"
             },
             "line": {
              "color": "white"
             }
            },
            "type": "table"
           }
          ]
         },
         "layout": {
          "annotationdefaults": {
           "arrowcolor": "#2a3f5f",
           "arrowhead": 0,
           "arrowwidth": 1
          },
          "autotypenumbers": "strict",
          "coloraxis": {
           "colorbar": {
            "outlinewidth": 0,
            "ticks": ""
           }
          },
          "colorscale": {
           "diverging": [
            [
             0,
             "#8e0152"
            ],
            [
             0.1,
             "#c51b7d"
            ],
            [
             0.2,
             "#de77ae"
            ],
            [
             0.3,
             "#f1b6da"
            ],
            [
             0.4,
             "#fde0ef"
            ],
            [
             0.5,
             "#f7f7f7"
            ],
            [
             0.6,
             "#e6f5d0"
            ],
            [
             0.7,
             "#b8e186"
            ],
            [
             0.8,
             "#7fbc41"
            ],
            [
             0.9,
             "#4d9221"
            ],
            [
             1,
             "#276419"
            ]
           ],
           "sequential": [
            [
             0,
             "#0d0887"
            ],
            [
             0.1111111111111111,
             "#46039f"
            ],
            [
             0.2222222222222222,
             "#7201a8"
            ],
            [
             0.3333333333333333,
             "#9c179e"
            ],
            [
             0.4444444444444444,
             "#bd3786"
            ],
            [
             0.5555555555555556,
             "#d8576b"
            ],
            [
             0.6666666666666666,
             "#ed7953"
            ],
            [
             0.7777777777777778,
             "#fb9f3a"
            ],
            [
             0.8888888888888888,
             "#fdca26"
            ],
            [
             1,
             "#f0f921"
            ]
           ],
           "sequentialminus": [
            [
             0,
             "#0d0887"
            ],
            [
             0.1111111111111111,
             "#46039f"
            ],
            [
             0.2222222222222222,
             "#7201a8"
            ],
            [
             0.3333333333333333,
             "#9c179e"
            ],
            [
             0.4444444444444444,
             "#bd3786"
            ],
            [
             0.5555555555555556,
             "#d8576b"
            ],
            [
             0.6666666666666666,
             "#ed7953"
            ],
            [
             0.7777777777777778,
             "#fb9f3a"
            ],
            [
             0.8888888888888888,
             "#fdca26"
            ],
            [
             1,
             "#f0f921"
            ]
           ]
          },
          "colorway": [
           "#636efa",
           "#EF553B",
           "#00cc96",
           "#ab63fa",
           "#FFA15A",
           "#19d3f3",
           "#FF6692",
           "#B6E880",
           "#FF97FF",
           "#FECB52"
          ],
          "font": {
           "color": "#2a3f5f"
          },
          "geo": {
           "bgcolor": "white",
           "lakecolor": "white",
           "landcolor": "#E5ECF6",
           "showlakes": true,
           "showland": true,
           "subunitcolor": "white"
          },
          "hoverlabel": {
           "align": "left"
          },
          "hovermode": "closest",
          "mapbox": {
           "style": "light"
          },
          "paper_bgcolor": "white",
          "plot_bgcolor": "#E5ECF6",
          "polar": {
           "angularaxis": {
            "gridcolor": "white",
            "linecolor": "white",
            "ticks": ""
           },
           "bgcolor": "#E5ECF6",
           "radialaxis": {
            "gridcolor": "white",
            "linecolor": "white",
            "ticks": ""
           }
          },
          "scene": {
           "xaxis": {
            "backgroundcolor": "#E5ECF6",
            "gridcolor": "white",
            "gridwidth": 2,
            "linecolor": "white",
            "showbackground": true,
            "ticks": "",
            "zerolinecolor": "white"
           },
           "yaxis": {
            "backgroundcolor": "#E5ECF6",
            "gridcolor": "white",
            "gridwidth": 2,
            "linecolor": "white",
            "showbackground": true,
            "ticks": "",
            "zerolinecolor": "white"
           },
           "zaxis": {
            "backgroundcolor": "#E5ECF6",
            "gridcolor": "white",
            "gridwidth": 2,
            "linecolor": "white",
            "showbackground": true,
            "ticks": "",
            "zerolinecolor": "white"
           }
          },
          "shapedefaults": {
           "line": {
            "color": "#2a3f5f"
           }
          },
          "ternary": {
           "aaxis": {
            "gridcolor": "white",
            "linecolor": "white",
            "ticks": ""
           },
           "baxis": {
            "gridcolor": "white",
            "linecolor": "white",
            "ticks": ""
           },
           "bgcolor": "#E5ECF6",
           "caxis": {
            "gridcolor": "white",
            "linecolor": "white",
            "ticks": ""
           }
          },
          "title": {
           "x": 0.05
          },
          "xaxis": {
           "automargin": true,
           "gridcolor": "white",
           "linecolor": "white",
           "ticks": "",
           "title": {
            "standoff": 15
           },
           "zerolinecolor": "white",
           "zerolinewidth": 2
          },
          "yaxis": {
           "automargin": true,
           "gridcolor": "white",
           "linecolor": "white",
           "ticks": "",
           "title": {
            "standoff": 15
           },
           "zerolinecolor": "white",
           "zerolinewidth": 2
          }
         }
        },
        "xaxis": {
         "anchor": "y",
         "domain": [
          0,
          1
         ],
         "title": {
          "text": "cafe"
         }
        },
        "yaxis": {
         "anchor": "x",
         "domain": [
          0,
          1
         ],
         "title": {
          "text": "var"
         }
        }
       }
      }
     },
     "metadata": {},
     "output_type": "display_data"
    }
   ],
   "source": [
    "final[\"n_likes\"] = final[\"n_likes\"].apply(lambda x: float(str(x).replace(\",\", \"\").replace(\"K\", \"\"))*1000 if \"K\" in str(x) else float(str(x).replace(\",\", \"\")))\n",
    "final[\"followers\"] = final[\"followers\"].apply(lambda x: float(str(x).replace(\",\", \"\").replace(\"K\", \"\"))*1000 if \"K\" in str(x) else float(str(x).replace(\",\", \"\")))\n",
    "final[\"var\"] = final[\"n_likes\"]/final[\"followers\"]\n",
    "final.drop_duplicates([\"cafe\", \"day_posted\"])\n",
    "final.sort_values(by=\"day_posted\", inplace=True)\n",
    "\n",
    "obj = px.line(final, x=\"day_posted\", y=\"var\", color=\"cafe\", labels={\"var\": \"Ratio between Likes and Followers\",\n",
    "                                                                    \"day_posted\": \"Date\"},\n",
    "                                                                    hover_data=[\"post_link\"])\n",
    "display(obj)\n",
    "\n",
    "final[\"cafe\"] = final[\"cafe\"].apply(lambda x: x if x[-1] == \"/\" else x + \"/\").apply(lambda x: x.split(\"/\")[-2])\n",
    "px.box(final, x=\"cafe\", y=\"var\")"
   ]
  },
  {
   "cell_type": "code",
   "execution_count": 7,
   "id": "1590f514",
   "metadata": {},
   "outputs": [
    {
     "data": {
      "application/vnd.plotly.v1+json": {
       "config": {
        "plotlyServerURL": "https://plot.ly"
       },
       "data": [
        {
         "hovertemplate": "cafe=abrasileirachiado<br>Date=%{x}<br>Median monthly ratio between Likes and Followers=%{y}<extra></extra>",
         "legendgroup": "abrasileirachiado",
         "line": {
          "color": "#636efa",
          "dash": "solid"
         },
         "marker": {
          "symbol": "circle"
         },
         "mode": "lines",
         "name": "abrasileirachiado",
         "orientation": "v",
         "showlegend": true,
         "type": "scatter",
         "x": [
          "2023-01-01T00:00:00",
          "2023-02-01T00:00:00",
          "2023-03-01T00:00:00",
          "2023-04-01T00:00:00",
          "2023-05-01T00:00:00",
          "2023-06-01T00:00:00",
          "2023-07-01T00:00:00",
          "2023-08-01T00:00:00",
          "2023-09-01T00:00:00",
          "2023-10-01T00:00:00",
          "2023-11-01T00:00:00",
          "2023-12-01T00:00:00",
          "2024-01-01T00:00:00",
          "2024-02-01T00:00:00",
          "2024-03-01T00:00:00",
          "2024-04-01T00:00:00",
          "2024-05-01T00:00:00",
          "2024-06-01T00:00:00",
          "2024-07-01T00:00:00",
          "2024-08-01T00:00:00",
          "2024-09-01T00:00:00",
          "2024-10-01T00:00:00",
          "2024-11-01T00:00:00",
          "2024-12-01T00:00:00",
          "2025-01-01T00:00:00",
          "2025-02-01T00:00:00",
          "2025-03-01T00:00:00",
          "2025-04-01T00:00:00"
         ],
         "xaxis": "x",
         "y": {
          "bdata": "XviJ+6ioej+5j4qqATOBP4N7cupCGX4/ulq4bhw9fT9MnCxmafVuPx5rlawvq30//j4Eo2UneT8ea5WsL6ttP8dfvh6MA4o/4mnKfmuQcz9Heqe8fv5zPx6gZ+gUoXE/727QLttWcD9Uf61s7sRwP7pauG4cPW0/wHek5EabhT9e+In7qKh6P+M0+EKGmn8/VH+tbO7EcD/xOf7y9WBsPzDH8kFvXmk/eQKWW4g1dD8aFD7HX75+P7mPiqoBM3E/5sAhZDt9cj8YSRADRbRyP9VkxM77yXY/hgecC/j7gD8=",
          "dtype": "f8"
         },
         "yaxis": "y"
        },
        {
         "hovertemplate": "cafe=timhortons<br>Date=%{x}<br>Median monthly ratio between Likes and Followers=%{y}<extra></extra>",
         "legendgroup": "timhortons",
         "line": {
          "color": "#EF553B",
          "dash": "solid"
         },
         "marker": {
          "symbol": "circle"
         },
         "mode": "lines",
         "name": "timhortons",
         "orientation": "v",
         "showlegend": true,
         "type": "scatter",
         "x": [
          "2023-01-01T00:00:00",
          "2023-02-01T00:00:00",
          "2023-03-01T00:00:00",
          "2023-04-01T00:00:00",
          "2023-05-01T00:00:00",
          "2023-06-01T00:00:00",
          "2023-07-01T00:00:00",
          "2023-08-01T00:00:00",
          "2023-09-01T00:00:00",
          "2023-10-01T00:00:00",
          "2023-11-01T00:00:00",
          "2023-12-01T00:00:00",
          "2024-01-01T00:00:00",
          "2024-02-01T00:00:00",
          "2024-03-01T00:00:00",
          "2024-04-01T00:00:00",
          "2024-05-01T00:00:00",
          "2024-06-01T00:00:00",
          "2024-07-01T00:00:00",
          "2024-08-01T00:00:00",
          "2024-09-01T00:00:00",
          "2024-10-01T00:00:00",
          "2024-11-01T00:00:00",
          "2024-12-01T00:00:00",
          "2025-01-01T00:00:00",
          "2025-02-01T00:00:00",
          "2025-03-01T00:00:00",
          "2025-04-01T00:00:00"
         ],
         "xaxis": "x",
         "y": {
          "bdata": "VVkUg3IRZD/Md5znXZFqP0bsMnn7rnA/EOoUAkzFaD+qT27/JwNjP2k/6HcKDGA/d5409ofKXj+2Q10efs1dP1osVqj5EWk/xDn9Yq+cYT8U1kr04DtxP95J6R1tGEw/qUHZcy5fTj+WMi+OmJpjPx7mpnkMZFI/DYWp1bOgWj+ybaJfL+VVP9YOwzKGC1Y/GB9JuqMCWT9ewjoe+tRUP/gTDV1Nn1Q/YmGKYFFPWT+8Crvd5i5nP+jmAZwkYl0/i3udHskNYj8pvaMNgwNqPyiDv/fDrVM/xKxAaiN7cT8=",
          "dtype": "f8"
         },
         "yaxis": "y"
        },
        {
         "hovertemplate": "cafe=combi_coffee<br>Date=%{x}<br>Median monthly ratio between Likes and Followers=%{y}<extra></extra>",
         "legendgroup": "combi_coffee",
         "line": {
          "color": "#00cc96",
          "dash": "solid"
         },
         "marker": {
          "symbol": "circle"
         },
         "mode": "lines",
         "name": "combi_coffee",
         "orientation": "v",
         "showlegend": true,
         "type": "scatter",
         "x": [
          "2023-01-01T00:00:00",
          "2023-02-01T00:00:00",
          "2023-03-01T00:00:00",
          "2023-04-01T00:00:00",
          "2023-05-01T00:00:00",
          "2023-06-01T00:00:00",
          "2023-07-01T00:00:00",
          "2023-08-01T00:00:00",
          "2023-09-01T00:00:00",
          "2023-10-01T00:00:00",
          "2023-11-01T00:00:00",
          "2023-12-01T00:00:00",
          "2024-02-01T00:00:00",
          "2024-03-01T00:00:00",
          "2024-04-01T00:00:00",
          "2024-05-01T00:00:00",
          "2024-06-01T00:00:00",
          "2024-07-01T00:00:00",
          "2024-08-01T00:00:00",
          "2024-09-01T00:00:00",
          "2024-10-01T00:00:00",
          "2024-11-01T00:00:00",
          "2025-01-01T00:00:00",
          "2025-02-01T00:00:00",
          "2025-03-01T00:00:00",
          "2025-04-01T00:00:00"
         ],
         "xaxis": "x",
         "y": {
          "bdata": "LPw3rdrheD+okTr02Ad6P9qcw+zSDG4/oLw/gtVTbD/o/7qq2DhqPwQNqEzlzJE/mkvuImGThD94za8h4D51PzI8iYKkU4I//36rAONUcz/bnMPs0gyeP5ZvRmAmFYE/ZJW98dZeez/0YrJo3mR2P/9+qwDjVHM/nZLsSGLPgz8HVKZy5ghxP1cyxjPRMm8/JovmTWYhgT88pi2R4UmEPzyJgqRTkn0/Pu0rt+KFcz/o/7qq2Dh6P0wzeIha+ng/lqBG6tBjbz/0YrJo3mR2Pw==",
          "dtype": "f8"
         },
         "yaxis": "y"
        },
        {
         "hovertemplate": "cafe=costacoffee<br>Date=%{x}<br>Median monthly ratio between Likes and Followers=%{y}<extra></extra>",
         "legendgroup": "costacoffee",
         "line": {
          "color": "#ab63fa",
          "dash": "solid"
         },
         "marker": {
          "symbol": "circle"
         },
         "mode": "lines",
         "name": "costacoffee",
         "orientation": "v",
         "showlegend": true,
         "type": "scatter",
         "x": [
          "2023-01-01T00:00:00",
          "2023-02-01T00:00:00",
          "2023-03-01T00:00:00",
          "2023-04-01T00:00:00",
          "2023-05-01T00:00:00",
          "2023-06-01T00:00:00",
          "2023-07-01T00:00:00",
          "2023-08-01T00:00:00",
          "2023-09-01T00:00:00",
          "2023-10-01T00:00:00",
          "2023-11-01T00:00:00",
          "2023-12-01T00:00:00",
          "2024-01-01T00:00:00",
          "2024-02-01T00:00:00",
          "2024-03-01T00:00:00",
          "2024-04-01T00:00:00",
          "2024-05-01T00:00:00",
          "2024-06-01T00:00:00",
          "2024-07-01T00:00:00",
          "2024-08-01T00:00:00",
          "2024-09-01T00:00:00",
          "2024-10-01T00:00:00",
          "2024-11-01T00:00:00",
          "2024-12-01T00:00:00",
          "2025-01-01T00:00:00",
          "2025-02-01T00:00:00",
          "2025-03-01T00:00:00",
          "2025-04-01T00:00:00"
         ],
         "xaxis": "x",
         "y": {
          "bdata": "2Hv173v3aT/WKh3+cfNxP+6Mj8ZJDWc/HSxrlzhxZj8zadSfT7twP6hfcvs5W2U/GoQ8XQxqaT/yrzuya6JvP860oRAqQGA/B8VczzWdaD9wzF5ggTZyP26h10moZ1o/7Dh4qbOJaD/vY/+/jFhgP2fU0rH8IFs/nJYnDMyJWj8UDXlUVFFiP7ggr12vYlg/wr5yNkRlWz/SL+xf3j1TP6WOs7pQn2E/jFKSzam6XD8NFbpDjqtiP7N63fchll0/CEIE84jVXT+Q+sAH1sFZP7Z4gCODW1s/nRcjFNoWUz8=",
          "dtype": "f8"
         },
         "yaxis": "y"
        },
        {
         "hovertemplate": "cafe=starbucksptg<br>Date=%{x}<br>Median monthly ratio between Likes and Followers=%{y}<extra></extra>",
         "legendgroup": "starbucksptg",
         "line": {
          "color": "#FFA15A",
          "dash": "solid"
         },
         "marker": {
          "symbol": "circle"
         },
         "mode": "lines",
         "name": "starbucksptg",
         "orientation": "v",
         "showlegend": true,
         "type": "scatter",
         "x": [
          "2023-01-01T00:00:00",
          "2023-02-01T00:00:00",
          "2023-03-01T00:00:00",
          "2023-04-01T00:00:00",
          "2023-05-01T00:00:00",
          "2023-06-01T00:00:00",
          "2023-07-01T00:00:00",
          "2023-08-01T00:00:00",
          "2023-09-01T00:00:00",
          "2023-10-01T00:00:00",
          "2023-11-01T00:00:00",
          "2023-12-01T00:00:00",
          "2024-01-01T00:00:00",
          "2024-02-01T00:00:00",
          "2024-03-01T00:00:00",
          "2024-04-01T00:00:00",
          "2024-05-01T00:00:00",
          "2024-06-01T00:00:00",
          "2024-07-01T00:00:00",
          "2024-08-01T00:00:00",
          "2024-09-01T00:00:00",
          "2024-10-01T00:00:00",
          "2024-11-01T00:00:00",
          "2024-12-01T00:00:00",
          "2025-01-01T00:00:00",
          "2025-02-01T00:00:00",
          "2025-03-01T00:00:00",
          "2025-04-01T00:00:00"
         ],
         "xaxis": "x",
         "y": {
          "bdata": "+A2fnJSvfT/76d1AMZN1P9oNxermRIo/Oqf5aJdFeD95TkIaocd7P3nJMHqWE3o/OjUPctfPdj94L2s6D8F/PzsbcVaJG4I//B6Ilx/KgD878nY24qySP3mXMvG5zn0/OyvsMcJncz9bgGbxz6GEP3iqWZoEDX4/+pGRZb/ReD95xoSshCF7P3ve5BkTsnI/OiwLCaL5eT/57ajlIhd7P7wGdMY1ZII/u+30gcdBhD88MUTN5UuBPzqd1iiC3XQ/OubG/5rkhj95imPjknRrP3pqbSwh3Hg/+p5gc+Yraz8=",
          "dtype": "f8"
         },
         "yaxis": "y"
        },
        {
         "hovertemplate": "cafe=majestic_cafe<br>Date=%{x}<br>Median monthly ratio between Likes and Followers=%{y}<extra></extra>",
         "legendgroup": "majestic_cafe",
         "line": {
          "color": "#19d3f3",
          "dash": "solid"
         },
         "marker": {
          "symbol": "circle"
         },
         "mode": "lines",
         "name": "majestic_cafe",
         "orientation": "v",
         "showlegend": true,
         "type": "scatter",
         "x": [
          "2023-01-01T00:00:00",
          "2023-02-01T00:00:00",
          "2023-03-01T00:00:00",
          "2023-04-01T00:00:00",
          "2023-05-01T00:00:00",
          "2023-06-01T00:00:00",
          "2023-07-01T00:00:00",
          "2023-08-01T00:00:00",
          "2023-09-01T00:00:00",
          "2023-10-01T00:00:00",
          "2023-11-01T00:00:00",
          "2023-12-01T00:00:00",
          "2024-01-01T00:00:00",
          "2024-02-01T00:00:00",
          "2024-03-01T00:00:00",
          "2024-04-01T00:00:00",
          "2024-05-01T00:00:00",
          "2024-06-01T00:00:00",
          "2024-07-01T00:00:00",
          "2024-08-01T00:00:00",
          "2024-09-01T00:00:00",
          "2024-10-01T00:00:00",
          "2024-11-01T00:00:00",
          "2024-12-01T00:00:00",
          "2025-01-01T00:00:00",
          "2025-02-01T00:00:00",
          "2025-03-01T00:00:00",
          "2025-04-01T00:00:00"
         ],
         "xaxis": "x",
         "y": {
          "bdata": "mZPmJ9MCaD84O642rG5qP1FR/PK102k/t0txnnn3Yj+QoIsQaKteP1pEVwohK2M/Bb7zYMrcXT/VkVfothJvPwtgMBtnbGk/53cNF43BYT/ehLL/IWpoP6sH+ClA2Gs/GoMjwAV6Xz+xqTTk3GdnP/aaALwrz2c/53cNF43BYT9721uxLA5dP0R/J6vljWE/wMwniXt1XT9721uxLA5dPwW+82DK3F0/Qi4JThfGYz816o/Z3aZsPyAlYHqiCWs/rlgWhw6gaT9Kr784GURuP6KGQT8+WmE/t0txnnn3Yj8=",
          "dtype": "f8"
         },
         "yaxis": "y"
        },
        {
         "hovertemplate": "cafe=fabricacoffeeroasters<br>Date=%{x}<br>Median monthly ratio between Likes and Followers=%{y}<extra></extra>",
         "legendgroup": "fabricacoffeeroasters",
         "line": {
          "color": "#FF6692",
          "dash": "solid"
         },
         "marker": {
          "symbol": "circle"
         },
         "mode": "lines",
         "name": "fabricacoffeeroasters",
         "orientation": "v",
         "showlegend": true,
         "type": "scatter",
         "x": [
          "2023-01-01T00:00:00",
          "2023-02-01T00:00:00",
          "2023-03-01T00:00:00",
          "2023-04-01T00:00:00",
          "2023-05-01T00:00:00",
          "2023-06-01T00:00:00",
          "2023-07-01T00:00:00",
          "2023-08-01T00:00:00",
          "2023-09-01T00:00:00",
          "2023-10-01T00:00:00",
          "2023-11-01T00:00:00",
          "2023-12-01T00:00:00",
          "2024-02-01T00:00:00",
          "2024-03-01T00:00:00",
          "2024-04-01T00:00:00",
          "2024-06-01T00:00:00",
          "2024-07-01T00:00:00",
          "2024-08-01T00:00:00",
          "2024-09-01T00:00:00",
          "2024-10-01T00:00:00",
          "2024-11-01T00:00:00",
          "2024-12-01T00:00:00",
          "2025-01-01T00:00:00",
          "2025-02-01T00:00:00",
          "2025-03-01T00:00:00",
          "2025-04-01T00:00:00"
         ],
         "xaxis": "x",
         "y": {
          "bdata": "MqRKjDzpgT+O7ZJGCiByPw7smC5qoIA/+hakb0H6dj+vsRRk3WV/Px3UQR3UQX0/50CzoFhUfD/qNOPgV1eAPx7RTe2TQno/QozzeqaKfj9FfiubJY6AP/sStC9B+4I/VGbUiY8vfT8zo058fOmAP/sTsD8B+3M/IMhxXdNEcT9DhQ8LZox3P47sljZKIHE/jfCGdkofdT/pNd/wF1eBP9Vi4lFvsHk/ZkOpyLjTbj96GZqXoXl5PzKnPrx86HQ/aTnRKDjWZD+ypkC0nGhkPw==",
          "dtype": "f8"
         },
         "yaxis": "y"
        },
        {
         "hovertemplate": "cafe=cphcoffeelab<br>Date=%{x}<br>Median monthly ratio between Likes and Followers=%{y}<extra></extra>",
         "legendgroup": "cphcoffeelab",
         "line": {
          "color": "#B6E880",
          "dash": "solid"
         },
         "marker": {
          "symbol": "circle"
         },
         "mode": "lines",
         "name": "cphcoffeelab",
         "orientation": "v",
         "showlegend": true,
         "type": "scatter",
         "x": [
          "2023-01-01T00:00:00",
          "2023-02-01T00:00:00",
          "2023-03-01T00:00:00",
          "2023-04-01T00:00:00",
          "2023-05-01T00:00:00",
          "2023-06-01T00:00:00",
          "2023-07-01T00:00:00",
          "2023-08-01T00:00:00",
          "2023-09-01T00:00:00",
          "2023-10-01T00:00:00",
          "2023-11-01T00:00:00",
          "2023-12-01T00:00:00",
          "2024-01-01T00:00:00",
          "2024-02-01T00:00:00",
          "2024-03-01T00:00:00",
          "2024-04-01T00:00:00",
          "2024-05-01T00:00:00",
          "2024-06-01T00:00:00",
          "2024-07-01T00:00:00",
          "2024-08-01T00:00:00",
          "2024-09-01T00:00:00",
          "2024-10-01T00:00:00",
          "2024-11-01T00:00:00",
          "2024-12-01T00:00:00",
          "2025-01-01T00:00:00",
          "2025-02-01T00:00:00",
          "2025-03-01T00:00:00",
          "2025-04-01T00:00:00"
         ],
         "xaxis": "x",
         "y": {
          "bdata": "dg2tsVRNej9uj8yp1mxyPwA3XrvbUG0/n9zSQYrZcD8LRWDn9KtxP18aCsM7FWw/cVZMiU04fD9B+SY6KhVyP6RDk/wL1nI/bO+Lzss7ej9oiMsTSj94P3YNrbFUTXo/VaxIci3rfz88apbIZQyCPzR0RZwfB3A/NHRFnB8HcD9gukqeRkZkP1KVKCUxB2o/M9QEwRTWZz8XKgGq9IhrP7EYFQic/HA/Td7H/Cnyaz8Sc6CB7XNtP1KVKCUxB2o/aSgM71RwcD87ooU2GM9rP8K0FvOi7mg/D1yANPGPZz8=",
          "dtype": "f8"
         },
         "yaxis": "y"
        },
        {
         "hovertemplate": "cafe=apadariaportuguesa<br>Date=%{x}<br>Median monthly ratio between Likes and Followers=%{y}<extra></extra>",
         "legendgroup": "apadariaportuguesa",
         "line": {
          "color": "#FF97FF",
          "dash": "solid"
         },
         "marker": {
          "symbol": "circle"
         },
         "mode": "lines",
         "name": "apadariaportuguesa",
         "orientation": "v",
         "showlegend": true,
         "type": "scatter",
         "x": [
          "2023-01-01T00:00:00",
          "2023-02-01T00:00:00",
          "2023-03-01T00:00:00",
          "2023-04-01T00:00:00",
          "2023-05-01T00:00:00",
          "2023-06-01T00:00:00",
          "2023-07-01T00:00:00",
          "2023-08-01T00:00:00",
          "2023-09-01T00:00:00",
          "2023-10-01T00:00:00",
          "2023-11-01T00:00:00",
          "2023-12-01T00:00:00",
          "2024-01-01T00:00:00",
          "2024-02-01T00:00:00",
          "2024-03-01T00:00:00",
          "2024-04-01T00:00:00",
          "2024-05-01T00:00:00",
          "2024-06-01T00:00:00",
          "2024-07-01T00:00:00",
          "2024-08-01T00:00:00",
          "2024-09-01T00:00:00",
          "2024-10-01T00:00:00",
          "2024-11-01T00:00:00",
          "2024-12-01T00:00:00",
          "2025-01-01T00:00:00",
          "2025-02-01T00:00:00",
          "2025-03-01T00:00:00",
          "2025-04-01T00:00:00"
         ],
         "xaxis": "x",
         "y": {
          "bdata": "ziwiuvL2lD9jUSa7a1OYPw5igHQ8A4c/rDahCOiqlD8MckeKZSeYPxDK1dP+TJU/fOKfG29riD8yLzP6ZCN4P/fZRhTJzqM/oMhZt1CTdz+f+mfjwqKDP6oLGvIO3Iw/UG4QA6TjeT/BzqF+hANpP7trUxh0coE/kXqgkQvEbD/W7oV/Ne6dP8injD2ZeoI/MmFBJtcyZD9oOtiPqe6SP6tPqB6hspI/JgwB6/gihT+DiXyuEdN1P3Rt0bQ+E2c/ei21XZqCgj/ThjAgc6RvP4DCEfAcI3Y/np3SoHfEXz8=",
          "dtype": "f8"
         },
         "yaxis": "y"
        },
        {
         "hovertemplate": "cafe=jeronymo_pt<br>Date=%{x}<br>Median monthly ratio between Likes and Followers=%{y}<extra></extra>",
         "legendgroup": "jeronymo_pt",
         "line": {
          "color": "#FECB52",
          "dash": "solid"
         },
         "marker": {
          "symbol": "circle"
         },
         "mode": "lines",
         "name": "jeronymo_pt",
         "orientation": "v",
         "showlegend": true,
         "type": "scatter",
         "x": [
          "2023-01-01T00:00:00",
          "2023-02-01T00:00:00",
          "2023-03-01T00:00:00",
          "2023-04-01T00:00:00",
          "2023-05-01T00:00:00",
          "2023-06-01T00:00:00",
          "2023-07-01T00:00:00",
          "2023-08-01T00:00:00",
          "2023-09-01T00:00:00",
          "2023-10-01T00:00:00",
          "2023-11-01T00:00:00",
          "2023-12-01T00:00:00",
          "2024-01-01T00:00:00",
          "2024-02-01T00:00:00",
          "2024-03-01T00:00:00",
          "2024-04-01T00:00:00",
          "2024-05-01T00:00:00",
          "2024-06-01T00:00:00",
          "2024-07-01T00:00:00",
          "2024-08-01T00:00:00",
          "2024-09-01T00:00:00",
          "2024-10-01T00:00:00",
          "2024-11-01T00:00:00",
          "2024-12-01T00:00:00",
          "2025-01-01T00:00:00",
          "2025-02-01T00:00:00",
          "2025-03-01T00:00:00",
          "2025-04-01T00:00:00"
         ],
         "xaxis": "x",
         "y": {
          "bdata": "sFz8FSI9rz/LxV8h0vOhP33qz9+KVKc/zWDYEI8Dlz9qGkpLqPB5P0dFBIIE+3I/Xkt79WB+qj9ArCYLN6itP//Pso+bPaE/9zbVGM7qmz80dX7tIZeVPxqkQRqkQYo/RBJlWhWKlj8gCoBpgiODP0ngfHHBCmg/mLsMswiqcj/nMRXkDFlyPwoHW62wTnk/c7Z5eQDynD8nCzeoHRWBP6hY8x/8nIM/xvdHCiZzgD85Q5YEzheHPwoHW62wTnk/nPH9kYLJfD8WblA7KiKAPymmr5faJIY/qvNrD7mseD8=",
          "dtype": "f8"
         },
         "yaxis": "y"
        }
       ],
       "layout": {
        "legend": {
         "title": {
          "text": "cafe"
         },
         "tracegroupgap": 0
        },
        "margin": {
         "t": 60
        },
        "template": {
         "data": {
          "bar": [
           {
            "error_x": {
             "color": "#2a3f5f"
            },
            "error_y": {
             "color": "#2a3f5f"
            },
            "marker": {
             "line": {
              "color": "#E5ECF6",
              "width": 0.5
             },
             "pattern": {
              "fillmode": "overlay",
              "size": 10,
              "solidity": 0.2
             }
            },
            "type": "bar"
           }
          ],
          "barpolar": [
           {
            "marker": {
             "line": {
              "color": "#E5ECF6",
              "width": 0.5
             },
             "pattern": {
              "fillmode": "overlay",
              "size": 10,
              "solidity": 0.2
             }
            },
            "type": "barpolar"
           }
          ],
          "carpet": [
           {
            "aaxis": {
             "endlinecolor": "#2a3f5f",
             "gridcolor": "white",
             "linecolor": "white",
             "minorgridcolor": "white",
             "startlinecolor": "#2a3f5f"
            },
            "baxis": {
             "endlinecolor": "#2a3f5f",
             "gridcolor": "white",
             "linecolor": "white",
             "minorgridcolor": "white",
             "startlinecolor": "#2a3f5f"
            },
            "type": "carpet"
           }
          ],
          "choropleth": [
           {
            "colorbar": {
             "outlinewidth": 0,
             "ticks": ""
            },
            "type": "choropleth"
           }
          ],
          "contour": [
           {
            "colorbar": {
             "outlinewidth": 0,
             "ticks": ""
            },
            "colorscale": [
             [
              0,
              "#0d0887"
             ],
             [
              0.1111111111111111,
              "#46039f"
             ],
             [
              0.2222222222222222,
              "#7201a8"
             ],
             [
              0.3333333333333333,
              "#9c179e"
             ],
             [
              0.4444444444444444,
              "#bd3786"
             ],
             [
              0.5555555555555556,
              "#d8576b"
             ],
             [
              0.6666666666666666,
              "#ed7953"
             ],
             [
              0.7777777777777778,
              "#fb9f3a"
             ],
             [
              0.8888888888888888,
              "#fdca26"
             ],
             [
              1,
              "#f0f921"
             ]
            ],
            "type": "contour"
           }
          ],
          "contourcarpet": [
           {
            "colorbar": {
             "outlinewidth": 0,
             "ticks": ""
            },
            "type": "contourcarpet"
           }
          ],
          "heatmap": [
           {
            "colorbar": {
             "outlinewidth": 0,
             "ticks": ""
            },
            "colorscale": [
             [
              0,
              "#0d0887"
             ],
             [
              0.1111111111111111,
              "#46039f"
             ],
             [
              0.2222222222222222,
              "#7201a8"
             ],
             [
              0.3333333333333333,
              "#9c179e"
             ],
             [
              0.4444444444444444,
              "#bd3786"
             ],
             [
              0.5555555555555556,
              "#d8576b"
             ],
             [
              0.6666666666666666,
              "#ed7953"
             ],
             [
              0.7777777777777778,
              "#fb9f3a"
             ],
             [
              0.8888888888888888,
              "#fdca26"
             ],
             [
              1,
              "#f0f921"
             ]
            ],
            "type": "heatmap"
           }
          ],
          "histogram": [
           {
            "marker": {
             "pattern": {
              "fillmode": "overlay",
              "size": 10,
              "solidity": 0.2
             }
            },
            "type": "histogram"
           }
          ],
          "histogram2d": [
           {
            "colorbar": {
             "outlinewidth": 0,
             "ticks": ""
            },
            "colorscale": [
             [
              0,
              "#0d0887"
             ],
             [
              0.1111111111111111,
              "#46039f"
             ],
             [
              0.2222222222222222,
              "#7201a8"
             ],
             [
              0.3333333333333333,
              "#9c179e"
             ],
             [
              0.4444444444444444,
              "#bd3786"
             ],
             [
              0.5555555555555556,
              "#d8576b"
             ],
             [
              0.6666666666666666,
              "#ed7953"
             ],
             [
              0.7777777777777778,
              "#fb9f3a"
             ],
             [
              0.8888888888888888,
              "#fdca26"
             ],
             [
              1,
              "#f0f921"
             ]
            ],
            "type": "histogram2d"
           }
          ],
          "histogram2dcontour": [
           {
            "colorbar": {
             "outlinewidth": 0,
             "ticks": ""
            },
            "colorscale": [
             [
              0,
              "#0d0887"
             ],
             [
              0.1111111111111111,
              "#46039f"
             ],
             [
              0.2222222222222222,
              "#7201a8"
             ],
             [
              0.3333333333333333,
              "#9c179e"
             ],
             [
              0.4444444444444444,
              "#bd3786"
             ],
             [
              0.5555555555555556,
              "#d8576b"
             ],
             [
              0.6666666666666666,
              "#ed7953"
             ],
             [
              0.7777777777777778,
              "#fb9f3a"
             ],
             [
              0.8888888888888888,
              "#fdca26"
             ],
             [
              1,
              "#f0f921"
             ]
            ],
            "type": "histogram2dcontour"
           }
          ],
          "mesh3d": [
           {
            "colorbar": {
             "outlinewidth": 0,
             "ticks": ""
            },
            "type": "mesh3d"
           }
          ],
          "parcoords": [
           {
            "line": {
             "colorbar": {
              "outlinewidth": 0,
              "ticks": ""
             }
            },
            "type": "parcoords"
           }
          ],
          "pie": [
           {
            "automargin": true,
            "type": "pie"
           }
          ],
          "scatter": [
           {
            "fillpattern": {
             "fillmode": "overlay",
             "size": 10,
             "solidity": 0.2
            },
            "type": "scatter"
           }
          ],
          "scatter3d": [
           {
            "line": {
             "colorbar": {
              "outlinewidth": 0,
              "ticks": ""
             }
            },
            "marker": {
             "colorbar": {
              "outlinewidth": 0,
              "ticks": ""
             }
            },
            "type": "scatter3d"
           }
          ],
          "scattercarpet": [
           {
            "marker": {
             "colorbar": {
              "outlinewidth": 0,
              "ticks": ""
             }
            },
            "type": "scattercarpet"
           }
          ],
          "scattergeo": [
           {
            "marker": {
             "colorbar": {
              "outlinewidth": 0,
              "ticks": ""
             }
            },
            "type": "scattergeo"
           }
          ],
          "scattergl": [
           {
            "marker": {
             "colorbar": {
              "outlinewidth": 0,
              "ticks": ""
             }
            },
            "type": "scattergl"
           }
          ],
          "scattermap": [
           {
            "marker": {
             "colorbar": {
              "outlinewidth": 0,
              "ticks": ""
             }
            },
            "type": "scattermap"
           }
          ],
          "scattermapbox": [
           {
            "marker": {
             "colorbar": {
              "outlinewidth": 0,
              "ticks": ""
             }
            },
            "type": "scattermapbox"
           }
          ],
          "scatterpolar": [
           {
            "marker": {
             "colorbar": {
              "outlinewidth": 0,
              "ticks": ""
             }
            },
            "type": "scatterpolar"
           }
          ],
          "scatterpolargl": [
           {
            "marker": {
             "colorbar": {
              "outlinewidth": 0,
              "ticks": ""
             }
            },
            "type": "scatterpolargl"
           }
          ],
          "scatterternary": [
           {
            "marker": {
             "colorbar": {
              "outlinewidth": 0,
              "ticks": ""
             }
            },
            "type": "scatterternary"
           }
          ],
          "surface": [
           {
            "colorbar": {
             "outlinewidth": 0,
             "ticks": ""
            },
            "colorscale": [
             [
              0,
              "#0d0887"
             ],
             [
              0.1111111111111111,
              "#46039f"
             ],
             [
              0.2222222222222222,
              "#7201a8"
             ],
             [
              0.3333333333333333,
              "#9c179e"
             ],
             [
              0.4444444444444444,
              "#bd3786"
             ],
             [
              0.5555555555555556,
              "#d8576b"
             ],
             [
              0.6666666666666666,
              "#ed7953"
             ],
             [
              0.7777777777777778,
              "#fb9f3a"
             ],
             [
              0.8888888888888888,
              "#fdca26"
             ],
             [
              1,
              "#f0f921"
             ]
            ],
            "type": "surface"
           }
          ],
          "table": [
           {
            "cells": {
             "fill": {
              "color": "#EBF0F8"
             },
             "line": {
              "color": "white"
             }
            },
            "header": {
             "fill": {
              "color": "#C8D4E3"
             },
             "line": {
              "color": "white"
             }
            },
            "type": "table"
           }
          ]
         },
         "layout": {
          "annotationdefaults": {
           "arrowcolor": "#2a3f5f",
           "arrowhead": 0,
           "arrowwidth": 1
          },
          "autotypenumbers": "strict",
          "coloraxis": {
           "colorbar": {
            "outlinewidth": 0,
            "ticks": ""
           }
          },
          "colorscale": {
           "diverging": [
            [
             0,
             "#8e0152"
            ],
            [
             0.1,
             "#c51b7d"
            ],
            [
             0.2,
             "#de77ae"
            ],
            [
             0.3,
             "#f1b6da"
            ],
            [
             0.4,
             "#fde0ef"
            ],
            [
             0.5,
             "#f7f7f7"
            ],
            [
             0.6,
             "#e6f5d0"
            ],
            [
             0.7,
             "#b8e186"
            ],
            [
             0.8,
             "#7fbc41"
            ],
            [
             0.9,
             "#4d9221"
            ],
            [
             1,
             "#276419"
            ]
           ],
           "sequential": [
            [
             0,
             "#0d0887"
            ],
            [
             0.1111111111111111,
             "#46039f"
            ],
            [
             0.2222222222222222,
             "#7201a8"
            ],
            [
             0.3333333333333333,
             "#9c179e"
            ],
            [
             0.4444444444444444,
             "#bd3786"
            ],
            [
             0.5555555555555556,
             "#d8576b"
            ],
            [
             0.6666666666666666,
             "#ed7953"
            ],
            [
             0.7777777777777778,
             "#fb9f3a"
            ],
            [
             0.8888888888888888,
             "#fdca26"
            ],
            [
             1,
             "#f0f921"
            ]
           ],
           "sequentialminus": [
            [
             0,
             "#0d0887"
            ],
            [
             0.1111111111111111,
             "#46039f"
            ],
            [
             0.2222222222222222,
             "#7201a8"
            ],
            [
             0.3333333333333333,
             "#9c179e"
            ],
            [
             0.4444444444444444,
             "#bd3786"
            ],
            [
             0.5555555555555556,
             "#d8576b"
            ],
            [
             0.6666666666666666,
             "#ed7953"
            ],
            [
             0.7777777777777778,
             "#fb9f3a"
            ],
            [
             0.8888888888888888,
             "#fdca26"
            ],
            [
             1,
             "#f0f921"
            ]
           ]
          },
          "colorway": [
           "#636efa",
           "#EF553B",
           "#00cc96",
           "#ab63fa",
           "#FFA15A",
           "#19d3f3",
           "#FF6692",
           "#B6E880",
           "#FF97FF",
           "#FECB52"
          ],
          "font": {
           "color": "#2a3f5f"
          },
          "geo": {
           "bgcolor": "white",
           "lakecolor": "white",
           "landcolor": "#E5ECF6",
           "showlakes": true,
           "showland": true,
           "subunitcolor": "white"
          },
          "hoverlabel": {
           "align": "left"
          },
          "hovermode": "closest",
          "mapbox": {
           "style": "light"
          },
          "paper_bgcolor": "white",
          "plot_bgcolor": "#E5ECF6",
          "polar": {
           "angularaxis": {
            "gridcolor": "white",
            "linecolor": "white",
            "ticks": ""
           },
           "bgcolor": "#E5ECF6",
           "radialaxis": {
            "gridcolor": "white",
            "linecolor": "white",
            "ticks": ""
           }
          },
          "scene": {
           "xaxis": {
            "backgroundcolor": "#E5ECF6",
            "gridcolor": "white",
            "gridwidth": 2,
            "linecolor": "white",
            "showbackground": true,
            "ticks": "",
            "zerolinecolor": "white"
           },
           "yaxis": {
            "backgroundcolor": "#E5ECF6",
            "gridcolor": "white",
            "gridwidth": 2,
            "linecolor": "white",
            "showbackground": true,
            "ticks": "",
            "zerolinecolor": "white"
           },
           "zaxis": {
            "backgroundcolor": "#E5ECF6",
            "gridcolor": "white",
            "gridwidth": 2,
            "linecolor": "white",
            "showbackground": true,
            "ticks": "",
            "zerolinecolor": "white"
           }
          },
          "shapedefaults": {
           "line": {
            "color": "#2a3f5f"
           }
          },
          "ternary": {
           "aaxis": {
            "gridcolor": "white",
            "linecolor": "white",
            "ticks": ""
           },
           "baxis": {
            "gridcolor": "white",
            "linecolor": "white",
            "ticks": ""
           },
           "bgcolor": "#E5ECF6",
           "caxis": {
            "gridcolor": "white",
            "linecolor": "white",
            "ticks": ""
           }
          },
          "title": {
           "x": 0.05
          },
          "xaxis": {
           "automargin": true,
           "gridcolor": "white",
           "linecolor": "white",
           "ticks": "",
           "title": {
            "standoff": 15
           },
           "zerolinecolor": "white",
           "zerolinewidth": 2
          },
          "yaxis": {
           "automargin": true,
           "gridcolor": "white",
           "linecolor": "white",
           "ticks": "",
           "title": {
            "standoff": 15
           },
           "zerolinecolor": "white",
           "zerolinewidth": 2
          }
         }
        },
        "xaxis": {
         "anchor": "y",
         "domain": [
          0,
          1
         ],
         "title": {
          "text": "Date"
         }
        },
        "yaxis": {
         "anchor": "x",
         "domain": [
          0,
          1
         ],
         "title": {
          "text": "Median monthly ratio between Likes and Followers"
         }
        }
       }
      }
     },
     "metadata": {},
     "output_type": "display_data"
    }
   ],
   "source": [
    "final[\"month\"] = final[\"day_posted\"].dt.month\n",
    "final[\"year\"] = final[\"day_posted\"].dt.year\n",
    "final = final[final[\"year\"]>2022]\n",
    "a = final[[\"cafe\", \"var\", \"month\", \"year\"]]\n",
    "a = a.groupby([\"cafe\", \"year\", \"month\"])[[\"var\"]].median()\n",
    "a = a.reset_index()\n",
    "a[\"new_date\"] = a[\"year\"].astype(str) + \"-\" + a[\"month\"].astype(str) + \"-01\"\n",
    "a[\"new_date\"] = a[\"new_date\"].astype(\"datetime64[s]\")\n",
    "a = a.sort_values(by=\"new_date\")\n",
    "px.line(a, x=\"new_date\", y=\"var\", color=\"cafe\", labels={\"var\": \"Median monthly ratio between Likes and Followers\",\n",
    "                                                        \"new_date\": \"Date\"})"
   ]
  },
  {
   "cell_type": "code",
   "execution_count": 8,
   "id": "26dcccc1",
   "metadata": {},
   "outputs": [
    {
     "data": {
      "application/vnd.plotly.v1+json": {
       "config": {
        "plotlyServerURL": "https://plot.ly"
       },
       "data": [
        {
         "hovertemplate": "cafe=abrasileirachiado<br>Date=%{x}<br>Median trimesteral ratio between Likes and Followers=%{y}<extra></extra>",
         "legendgroup": "abrasileirachiado",
         "line": {
          "color": "#636efa",
          "dash": "solid"
         },
         "marker": {
          "symbol": "circle"
         },
         "mode": "lines",
         "name": "abrasileirachiado",
         "orientation": "v",
         "showlegend": true,
         "type": "scatter",
         "x": [
          "2023-01-01T00:00:00",
          "2023-04-01T00:00:00",
          "2023-07-01T00:00:00",
          "2023-10-01T00:00:00",
          "2024-01-01T00:00:00",
          "2024-04-01T00:00:00",
          "2024-07-01T00:00:00",
          "2024-10-01T00:00:00",
          "2025-01-01T00:00:00",
          "2025-04-01T00:00:00"
         ],
         "xaxis": "x",
         "y": {
          "bdata": "8Tn+8vVgfD+V189/gsx5Pzl1oQwPOHc/4mnKfmuQcz8i977N5I1wP+9u0C7bVoA/g3ty6kIZbj90qz52uEh1P3kClluINXQ/hgecC/j7gD8=",
          "dtype": "f8"
         },
         "yaxis": "y"
        },
        {
         "hovertemplate": "cafe=starbucksptg<br>Date=%{x}<br>Median trimesteral ratio between Likes and Followers=%{y}<extra></extra>",
         "legendgroup": "starbucksptg",
         "line": {
          "color": "#EF553B",
          "dash": "solid"
         },
         "marker": {
          "symbol": "circle"
         },
         "mode": "lines",
         "name": "starbucksptg",
         "orientation": "v",
         "showlegend": true,
         "type": "scatter",
         "x": [
          "2023-01-01T00:00:00",
          "2023-04-01T00:00:00",
          "2023-07-01T00:00:00",
          "2023-10-01T00:00:00",
          "2024-01-01T00:00:00",
          "2024-04-01T00:00:00",
          "2024-07-01T00:00:00",
          "2024-10-01T00:00:00",
          "2025-01-01T00:00:00",
          "2025-04-01T00:00:00"
         ],
         "xaxis": "x",
         "y": {
          "bdata": "+cEC+Gm2fD/5iznKm+16P9xk8u54dIA/ulMvQkDviT+5TdemHAt8P/qRkWW/0Xg//Knx0k1igD+8H/MKpIaAP/qnZNwbAng/+p5gc+Yraz8=",
          "dtype": "f8"
         },
         "yaxis": "y"
        },
        {
         "hovertemplate": "cafe=majestic_cafe<br>Date=%{x}<br>Median trimesteral ratio between Likes and Followers=%{y}<extra></extra>",
         "legendgroup": "majestic_cafe",
         "line": {
          "color": "#00cc96",
          "dash": "solid"
         },
         "marker": {
          "symbol": "circle"
         },
         "mode": "lines",
         "name": "majestic_cafe",
         "orientation": "v",
         "showlegend": true,
         "type": "scatter",
         "x": [
          "2023-01-01T00:00:00",
          "2023-04-01T00:00:00",
          "2023-07-01T00:00:00",
          "2023-10-01T00:00:00",
          "2024-01-01T00:00:00",
          "2024-04-01T00:00:00",
          "2024-07-01T00:00:00",
          "2024-10-01T00:00:00",
          "2025-01-01T00:00:00",
          "2025-04-01T00:00:00"
         ],
         "xaxis": "x",
         "y": {
          "bdata": "xm5kQxgFaT+ihkE/PlphP5zkBIWhymU/EQJt1QP8ZD+EzrbIl2VmPwCOW9OWJmE/Bb7zYMrcXT8kdn7XcNFoP7GpNOTcZ2c/t0txnnn3Yj8=",
          "dtype": "f8"
         },
         "yaxis": "y"
        },
        {
         "hovertemplate": "cafe=jeronymo_pt<br>Date=%{x}<br>Median trimesteral ratio between Likes and Followers=%{y}<extra></extra>",
         "legendgroup": "jeronymo_pt",
         "line": {
          "color": "#ab63fa",
          "dash": "solid"
         },
         "marker": {
          "symbol": "circle"
         },
         "mode": "lines",
         "name": "jeronymo_pt",
         "orientation": "v",
         "showlegend": true,
         "type": "scatter",
         "x": [
          "2023-01-01T00:00:00",
          "2023-04-01T00:00:00",
          "2023-07-01T00:00:00",
          "2023-10-01T00:00:00",
          "2024-01-01T00:00:00",
          "2024-04-01T00:00:00",
          "2024-07-01T00:00:00",
          "2024-10-01T00:00:00",
          "2025-01-01T00:00:00",
          "2025-04-01T00:00:00"
         ],
         "xaxis": "x",
         "y": {
          "bdata": "ferP34pUpz9afWPetP14P9CTdzh+dKM/Qnfsalh6kT9afWPetP2IP2h/0Vvr4HQ/aH/RW+vghD8MotOcbV5+P1ji6u737YM/qvNrD7mseD8=",
          "dtype": "f8"
         },
         "yaxis": "y"
        },
        {
         "hovertemplate": "cafe=fabricacoffeeroasters<br>Date=%{x}<br>Median trimesteral ratio between Likes and Followers=%{y}<extra></extra>",
         "legendgroup": "fabricacoffeeroasters",
         "line": {
          "color": "#FFA15A",
          "dash": "solid"
         },
         "marker": {
          "symbol": "circle"
         },
         "mode": "lines",
         "name": "fabricacoffeeroasters",
         "orientation": "v",
         "showlegend": true,
         "type": "scatter",
         "x": [
          "2023-01-01T00:00:00",
          "2023-04-01T00:00:00",
          "2023-07-01T00:00:00",
          "2023-10-01T00:00:00",
          "2024-01-01T00:00:00",
          "2024-04-01T00:00:00",
          "2024-07-01T00:00:00",
          "2024-10-01T00:00:00",
          "2025-01-01T00:00:00",
          "2025-04-01T00:00:00"
         ],
         "xaxis": "x",
         "y": {
          "bdata": "jfCGdkofdT+e00MV9MF8P3kcjsfheHw/i/peFsscfz9UZtSJjy99P/wStC9B+3I/jfCGdkofdT+ezlfFM8N3P2dBsag41Gw/sqZAtJxoZD8=",
          "dtype": "f8"
         },
         "yaxis": "y"
        },
        {
         "hovertemplate": "cafe=cphcoffeelab<br>Date=%{x}<br>Median trimesteral ratio between Likes and Followers=%{y}<extra></extra>",
         "legendgroup": "cphcoffeelab",
         "line": {
          "color": "#19d3f3",
          "dash": "solid"
         },
         "marker": {
          "symbol": "circle"
         },
         "mode": "lines",
         "name": "cphcoffeelab",
         "orientation": "v",
         "showlegend": true,
         "type": "scatter",
         "x": [
          "2023-01-01T00:00:00",
          "2023-04-01T00:00:00",
          "2023-07-01T00:00:00",
          "2023-10-01T00:00:00",
          "2024-01-01T00:00:00",
          "2024-04-01T00:00:00",
          "2024-07-01T00:00:00",
          "2024-10-01T00:00:00",
          "2025-01-01T00:00:00",
          "2025-04-01T00:00:00"
         ],
         "xaxis": "x",
         "y": {
          "bdata": "kgdRNvqycj9EcAasG8hvP2C6Sp5GRnQ/Jf+CtYSveT/0Ub3423NzP3YNrbFUTWo/NuskDhG6bT9N3sf8KfJrP03ex/wp8ms/D1yANPGPZz8=",
          "dtype": "f8"
         },
         "yaxis": "y"
        },
        {
         "hovertemplate": "cafe=costacoffee<br>Date=%{x}<br>Median trimesteral ratio between Likes and Followers=%{y}<extra></extra>",
         "legendgroup": "costacoffee",
         "line": {
          "color": "#FF6692",
          "dash": "solid"
         },
         "marker": {
          "symbol": "circle"
         },
         "mode": "lines",
         "name": "costacoffee",
         "orientation": "v",
         "showlegend": true,
         "type": "scatter",
         "x": [
          "2023-01-01T00:00:00",
          "2023-04-01T00:00:00",
          "2023-07-01T00:00:00",
          "2023-10-01T00:00:00",
          "2024-01-01T00:00:00",
          "2024-04-01T00:00:00",
          "2024-07-01T00:00:00",
          "2024-10-01T00:00:00",
          "2025-01-01T00:00:00",
          "2025-04-01T00:00:00"
         ],
         "xaxis": "x",
         "y": {
          "bdata": "OjOaDG+CaT+Szam6HChnP76ZnNjEJWk/B8VczzWdaD9KpBM2CVthP96ebnlc/Fk/g7TO9BS4WT9W5rFkDxBeP8K+cjZEZVs/nRcjFNoWUz8=",
          "dtype": "f8"
         },
         "yaxis": "y"
        },
        {
         "hovertemplate": "cafe=combi_coffee<br>Date=%{x}<br>Median trimesteral ratio between Likes and Followers=%{y}<extra></extra>",
         "legendgroup": "combi_coffee",
         "line": {
          "color": "#B6E880",
          "dash": "solid"
         },
         "marker": {
          "symbol": "circle"
         },
         "mode": "lines",
         "name": "combi_coffee",
         "orientation": "v",
         "showlegend": true,
         "type": "scatter",
         "x": [
          "2023-01-01T00:00:00",
          "2023-04-01T00:00:00",
          "2023-07-01T00:00:00",
          "2023-10-01T00:00:00",
          "2024-01-01T00:00:00",
          "2024-04-01T00:00:00",
          "2024-07-01T00:00:00",
          "2024-10-01T00:00:00",
          "2025-01-01T00:00:00",
          "2025-04-01T00:00:00"
         ],
         "xaxis": "x",
         "y": {
          "bdata": "CZukmOdEcD+WoEbq0GNvP/9+qwDjVIM/aCO6PdnWeT/NVncbW5h4P3M/s9XdxnY/mOdEENKffj/qRrnQ2XR5P3jNryHgPnU/9GKyaN5kdj8=",
          "dtype": "f8"
         },
         "yaxis": "y"
        },
        {
         "hovertemplate": "cafe=apadariaportuguesa<br>Date=%{x}<br>Median trimesteral ratio between Likes and Followers=%{y}<extra></extra>",
         "legendgroup": "apadariaportuguesa",
         "line": {
          "color": "#FF97FF",
          "dash": "solid"
         },
         "marker": {
          "symbol": "circle"
         },
         "mode": "lines",
         "name": "apadariaportuguesa",
         "orientation": "v",
         "showlegend": true,
         "type": "scatter",
         "x": [
          "2023-01-01T00:00:00",
          "2023-04-01T00:00:00",
          "2023-07-01T00:00:00",
          "2023-10-01T00:00:00",
          "2024-01-01T00:00:00",
          "2024-04-01T00:00:00",
          "2024-07-01T00:00:00",
          "2024-10-01T00:00:00",
          "2025-01-01T00:00:00",
          "2025-04-01T00:00:00"
         ],
         "xaxis": "x",
         "y": {
          "bdata": "rg3T3AV/lT9mQV+lQi+XP60/4Qh4joE/CoIOoI5LiT/qYr/CodN5P6aYBHbVJoQ/kc7108a+gz/2nvjnxtt6Pzu9CHdOg3c/np3SoHfEXz8=",
          "dtype": "f8"
         },
         "yaxis": "y"
        },
        {
         "hovertemplate": "cafe=timhortons<br>Date=%{x}<br>Median trimesteral ratio between Likes and Followers=%{y}<extra></extra>",
         "legendgroup": "timhortons",
         "line": {
          "color": "#FECB52",
          "dash": "solid"
         },
         "marker": {
          "symbol": "circle"
         },
         "mode": "lines",
         "name": "timhortons",
         "orientation": "v",
         "showlegend": true,
         "type": "scatter",
         "x": [
          "2023-01-01T00:00:00",
          "2023-04-01T00:00:00",
          "2023-07-01T00:00:00",
          "2023-10-01T00:00:00",
          "2024-01-01T00:00:00",
          "2024-04-01T00:00:00",
          "2024-07-01T00:00:00",
          "2024-10-01T00:00:00",
          "2025-01-01T00:00:00",
          "2025-04-01T00:00:00"
         ],
         "xaxis": "x",
         "y": {
          "bdata": "NYi8O9sDZj+Zl5q6ML9hP/0gM5iT9V8/VGX46JCwXz+CL2kOIXVUP31lkrXwK1g/apNFf+GkVj+rqb05jmtfP+xCAvxlz2I/xKxAaiN7cT8=",
          "dtype": "f8"
         },
         "yaxis": "y"
        }
       ],
       "layout": {
        "legend": {
         "title": {
          "text": "cafe"
         },
         "tracegroupgap": 0
        },
        "margin": {
         "t": 60
        },
        "template": {
         "data": {
          "bar": [
           {
            "error_x": {
             "color": "#2a3f5f"
            },
            "error_y": {
             "color": "#2a3f5f"
            },
            "marker": {
             "line": {
              "color": "#E5ECF6",
              "width": 0.5
             },
             "pattern": {
              "fillmode": "overlay",
              "size": 10,
              "solidity": 0.2
             }
            },
            "type": "bar"
           }
          ],
          "barpolar": [
           {
            "marker": {
             "line": {
              "color": "#E5ECF6",
              "width": 0.5
             },
             "pattern": {
              "fillmode": "overlay",
              "size": 10,
              "solidity": 0.2
             }
            },
            "type": "barpolar"
           }
          ],
          "carpet": [
           {
            "aaxis": {
             "endlinecolor": "#2a3f5f",
             "gridcolor": "white",
             "linecolor": "white",
             "minorgridcolor": "white",
             "startlinecolor": "#2a3f5f"
            },
            "baxis": {
             "endlinecolor": "#2a3f5f",
             "gridcolor": "white",
             "linecolor": "white",
             "minorgridcolor": "white",
             "startlinecolor": "#2a3f5f"
            },
            "type": "carpet"
           }
          ],
          "choropleth": [
           {
            "colorbar": {
             "outlinewidth": 0,
             "ticks": ""
            },
            "type": "choropleth"
           }
          ],
          "contour": [
           {
            "colorbar": {
             "outlinewidth": 0,
             "ticks": ""
            },
            "colorscale": [
             [
              0,
              "#0d0887"
             ],
             [
              0.1111111111111111,
              "#46039f"
             ],
             [
              0.2222222222222222,
              "#7201a8"
             ],
             [
              0.3333333333333333,
              "#9c179e"
             ],
             [
              0.4444444444444444,
              "#bd3786"
             ],
             [
              0.5555555555555556,
              "#d8576b"
             ],
             [
              0.6666666666666666,
              "#ed7953"
             ],
             [
              0.7777777777777778,
              "#fb9f3a"
             ],
             [
              0.8888888888888888,
              "#fdca26"
             ],
             [
              1,
              "#f0f921"
             ]
            ],
            "type": "contour"
           }
          ],
          "contourcarpet": [
           {
            "colorbar": {
             "outlinewidth": 0,
             "ticks": ""
            },
            "type": "contourcarpet"
           }
          ],
          "heatmap": [
           {
            "colorbar": {
             "outlinewidth": 0,
             "ticks": ""
            },
            "colorscale": [
             [
              0,
              "#0d0887"
             ],
             [
              0.1111111111111111,
              "#46039f"
             ],
             [
              0.2222222222222222,
              "#7201a8"
             ],
             [
              0.3333333333333333,
              "#9c179e"
             ],
             [
              0.4444444444444444,
              "#bd3786"
             ],
             [
              0.5555555555555556,
              "#d8576b"
             ],
             [
              0.6666666666666666,
              "#ed7953"
             ],
             [
              0.7777777777777778,
              "#fb9f3a"
             ],
             [
              0.8888888888888888,
              "#fdca26"
             ],
             [
              1,
              "#f0f921"
             ]
            ],
            "type": "heatmap"
           }
          ],
          "histogram": [
           {
            "marker": {
             "pattern": {
              "fillmode": "overlay",
              "size": 10,
              "solidity": 0.2
             }
            },
            "type": "histogram"
           }
          ],
          "histogram2d": [
           {
            "colorbar": {
             "outlinewidth": 0,
             "ticks": ""
            },
            "colorscale": [
             [
              0,
              "#0d0887"
             ],
             [
              0.1111111111111111,
              "#46039f"
             ],
             [
              0.2222222222222222,
              "#7201a8"
             ],
             [
              0.3333333333333333,
              "#9c179e"
             ],
             [
              0.4444444444444444,
              "#bd3786"
             ],
             [
              0.5555555555555556,
              "#d8576b"
             ],
             [
              0.6666666666666666,
              "#ed7953"
             ],
             [
              0.7777777777777778,
              "#fb9f3a"
             ],
             [
              0.8888888888888888,
              "#fdca26"
             ],
             [
              1,
              "#f0f921"
             ]
            ],
            "type": "histogram2d"
           }
          ],
          "histogram2dcontour": [
           {
            "colorbar": {
             "outlinewidth": 0,
             "ticks": ""
            },
            "colorscale": [
             [
              0,
              "#0d0887"
             ],
             [
              0.1111111111111111,
              "#46039f"
             ],
             [
              0.2222222222222222,
              "#7201a8"
             ],
             [
              0.3333333333333333,
              "#9c179e"
             ],
             [
              0.4444444444444444,
              "#bd3786"
             ],
             [
              0.5555555555555556,
              "#d8576b"
             ],
             [
              0.6666666666666666,
              "#ed7953"
             ],
             [
              0.7777777777777778,
              "#fb9f3a"
             ],
             [
              0.8888888888888888,
              "#fdca26"
             ],
             [
              1,
              "#f0f921"
             ]
            ],
            "type": "histogram2dcontour"
           }
          ],
          "mesh3d": [
           {
            "colorbar": {
             "outlinewidth": 0,
             "ticks": ""
            },
            "type": "mesh3d"
           }
          ],
          "parcoords": [
           {
            "line": {
             "colorbar": {
              "outlinewidth": 0,
              "ticks": ""
             }
            },
            "type": "parcoords"
           }
          ],
          "pie": [
           {
            "automargin": true,
            "type": "pie"
           }
          ],
          "scatter": [
           {
            "fillpattern": {
             "fillmode": "overlay",
             "size": 10,
             "solidity": 0.2
            },
            "type": "scatter"
           }
          ],
          "scatter3d": [
           {
            "line": {
             "colorbar": {
              "outlinewidth": 0,
              "ticks": ""
             }
            },
            "marker": {
             "colorbar": {
              "outlinewidth": 0,
              "ticks": ""
             }
            },
            "type": "scatter3d"
           }
          ],
          "scattercarpet": [
           {
            "marker": {
             "colorbar": {
              "outlinewidth": 0,
              "ticks": ""
             }
            },
            "type": "scattercarpet"
           }
          ],
          "scattergeo": [
           {
            "marker": {
             "colorbar": {
              "outlinewidth": 0,
              "ticks": ""
             }
            },
            "type": "scattergeo"
           }
          ],
          "scattergl": [
           {
            "marker": {
             "colorbar": {
              "outlinewidth": 0,
              "ticks": ""
             }
            },
            "type": "scattergl"
           }
          ],
          "scattermap": [
           {
            "marker": {
             "colorbar": {
              "outlinewidth": 0,
              "ticks": ""
             }
            },
            "type": "scattermap"
           }
          ],
          "scattermapbox": [
           {
            "marker": {
             "colorbar": {
              "outlinewidth": 0,
              "ticks": ""
             }
            },
            "type": "scattermapbox"
           }
          ],
          "scatterpolar": [
           {
            "marker": {
             "colorbar": {
              "outlinewidth": 0,
              "ticks": ""
             }
            },
            "type": "scatterpolar"
           }
          ],
          "scatterpolargl": [
           {
            "marker": {
             "colorbar": {
              "outlinewidth": 0,
              "ticks": ""
             }
            },
            "type": "scatterpolargl"
           }
          ],
          "scatterternary": [
           {
            "marker": {
             "colorbar": {
              "outlinewidth": 0,
              "ticks": ""
             }
            },
            "type": "scatterternary"
           }
          ],
          "surface": [
           {
            "colorbar": {
             "outlinewidth": 0,
             "ticks": ""
            },
            "colorscale": [
             [
              0,
              "#0d0887"
             ],
             [
              0.1111111111111111,
              "#46039f"
             ],
             [
              0.2222222222222222,
              "#7201a8"
             ],
             [
              0.3333333333333333,
              "#9c179e"
             ],
             [
              0.4444444444444444,
              "#bd3786"
             ],
             [
              0.5555555555555556,
              "#d8576b"
             ],
             [
              0.6666666666666666,
              "#ed7953"
             ],
             [
              0.7777777777777778,
              "#fb9f3a"
             ],
             [
              0.8888888888888888,
              "#fdca26"
             ],
             [
              1,
              "#f0f921"
             ]
            ],
            "type": "surface"
           }
          ],
          "table": [
           {
            "cells": {
             "fill": {
              "color": "#EBF0F8"
             },
             "line": {
              "color": "white"
             }
            },
            "header": {
             "fill": {
              "color": "#C8D4E3"
             },
             "line": {
              "color": "white"
             }
            },
            "type": "table"
           }
          ]
         },
         "layout": {
          "annotationdefaults": {
           "arrowcolor": "#2a3f5f",
           "arrowhead": 0,
           "arrowwidth": 1
          },
          "autotypenumbers": "strict",
          "coloraxis": {
           "colorbar": {
            "outlinewidth": 0,
            "ticks": ""
           }
          },
          "colorscale": {
           "diverging": [
            [
             0,
             "#8e0152"
            ],
            [
             0.1,
             "#c51b7d"
            ],
            [
             0.2,
             "#de77ae"
            ],
            [
             0.3,
             "#f1b6da"
            ],
            [
             0.4,
             "#fde0ef"
            ],
            [
             0.5,
             "#f7f7f7"
            ],
            [
             0.6,
             "#e6f5d0"
            ],
            [
             0.7,
             "#b8e186"
            ],
            [
             0.8,
             "#7fbc41"
            ],
            [
             0.9,
             "#4d9221"
            ],
            [
             1,
             "#276419"
            ]
           ],
           "sequential": [
            [
             0,
             "#0d0887"
            ],
            [
             0.1111111111111111,
             "#46039f"
            ],
            [
             0.2222222222222222,
             "#7201a8"
            ],
            [
             0.3333333333333333,
             "#9c179e"
            ],
            [
             0.4444444444444444,
             "#bd3786"
            ],
            [
             0.5555555555555556,
             "#d8576b"
            ],
            [
             0.6666666666666666,
             "#ed7953"
            ],
            [
             0.7777777777777778,
             "#fb9f3a"
            ],
            [
             0.8888888888888888,
             "#fdca26"
            ],
            [
             1,
             "#f0f921"
            ]
           ],
           "sequentialminus": [
            [
             0,
             "#0d0887"
            ],
            [
             0.1111111111111111,
             "#46039f"
            ],
            [
             0.2222222222222222,
             "#7201a8"
            ],
            [
             0.3333333333333333,
             "#9c179e"
            ],
            [
             0.4444444444444444,
             "#bd3786"
            ],
            [
             0.5555555555555556,
             "#d8576b"
            ],
            [
             0.6666666666666666,
             "#ed7953"
            ],
            [
             0.7777777777777778,
             "#fb9f3a"
            ],
            [
             0.8888888888888888,
             "#fdca26"
            ],
            [
             1,
             "#f0f921"
            ]
           ]
          },
          "colorway": [
           "#636efa",
           "#EF553B",
           "#00cc96",
           "#ab63fa",
           "#FFA15A",
           "#19d3f3",
           "#FF6692",
           "#B6E880",
           "#FF97FF",
           "#FECB52"
          ],
          "font": {
           "color": "#2a3f5f"
          },
          "geo": {
           "bgcolor": "white",
           "lakecolor": "white",
           "landcolor": "#E5ECF6",
           "showlakes": true,
           "showland": true,
           "subunitcolor": "white"
          },
          "hoverlabel": {
           "align": "left"
          },
          "hovermode": "closest",
          "mapbox": {
           "style": "light"
          },
          "paper_bgcolor": "white",
          "plot_bgcolor": "#E5ECF6",
          "polar": {
           "angularaxis": {
            "gridcolor": "white",
            "linecolor": "white",
            "ticks": ""
           },
           "bgcolor": "#E5ECF6",
           "radialaxis": {
            "gridcolor": "white",
            "linecolor": "white",
            "ticks": ""
           }
          },
          "scene": {
           "xaxis": {
            "backgroundcolor": "#E5ECF6",
            "gridcolor": "white",
            "gridwidth": 2,
            "linecolor": "white",
            "showbackground": true,
            "ticks": "",
            "zerolinecolor": "white"
           },
           "yaxis": {
            "backgroundcolor": "#E5ECF6",
            "gridcolor": "white",
            "gridwidth": 2,
            "linecolor": "white",
            "showbackground": true,
            "ticks": "",
            "zerolinecolor": "white"
           },
           "zaxis": {
            "backgroundcolor": "#E5ECF6",
            "gridcolor": "white",
            "gridwidth": 2,
            "linecolor": "white",
            "showbackground": true,
            "ticks": "",
            "zerolinecolor": "white"
           }
          },
          "shapedefaults": {
           "line": {
            "color": "#2a3f5f"
           }
          },
          "ternary": {
           "aaxis": {
            "gridcolor": "white",
            "linecolor": "white",
            "ticks": ""
           },
           "baxis": {
            "gridcolor": "white",
            "linecolor": "white",
            "ticks": ""
           },
           "bgcolor": "#E5ECF6",
           "caxis": {
            "gridcolor": "white",
            "linecolor": "white",
            "ticks": ""
           }
          },
          "title": {
           "x": 0.05
          },
          "xaxis": {
           "automargin": true,
           "gridcolor": "white",
           "linecolor": "white",
           "ticks": "",
           "title": {
            "standoff": 15
           },
           "zerolinecolor": "white",
           "zerolinewidth": 2
          },
          "yaxis": {
           "automargin": true,
           "gridcolor": "white",
           "linecolor": "white",
           "ticks": "",
           "title": {
            "standoff": 15
           },
           "zerolinecolor": "white",
           "zerolinewidth": 2
          }
         }
        },
        "xaxis": {
         "anchor": "y",
         "domain": [
          0,
          1
         ],
         "title": {
          "text": "Date"
         }
        },
        "yaxis": {
         "anchor": "x",
         "domain": [
          0,
          1
         ],
         "title": {
          "text": "Median trimesteral ratio between Likes and Followers"
         }
        }
       }
      }
     },
     "metadata": {},
     "output_type": "display_data"
    }
   ],
   "source": [
    "final[\"month\"] = final[\"day_posted\"].dt.month\n",
    "final[\"year\"] = final[\"day_posted\"].dt.year\n",
    "final[\"trimester\"] = final[\"month\"].apply(lambda x: (x-1)//3+1)\n",
    "final = final[final[\"year\"]>2022]\n",
    "a = final[[\"cafe\", \"var\", \"trimester\", \"year\"]]\n",
    "a = a.groupby([\"cafe\", \"year\", \"trimester\"])[[\"var\"]].median()\n",
    "a = a.reset_index()\n",
    "a[\"new_date\"] = a[\"year\"].astype(str) + \"-\" + a[\"trimester\"].apply(lambda x: 1 + 3*(x-1)).astype(str) + \"-01\"\n",
    "a[\"new_date\"] = a[\"new_date\"].astype(\"datetime64[s]\")\n",
    "a = a.sort_values(by=\"new_date\")\n",
    "px.line(a, x=\"new_date\", y=\"var\", color=\"cafe\", labels={\"var\": \"Median trimesteral ratio between Likes and Followers\",\n",
    "                                                        \"new_date\": \"Date\"})"
   ]
  },
  {
   "cell_type": "code",
   "execution_count": 9,
   "id": "aa5d5425",
   "metadata": {},
   "outputs": [
    {
     "data": {
      "application/vnd.plotly.v1+json": {
       "config": {
        "plotlyServerURL": "https://plot.ly"
       },
       "data": [
        {
         "hovertemplate": "cafe=abrasileirachiado<br>Month=%{x}<br>Median Monthly Number of Likes=%{y}<extra></extra>",
         "legendgroup": "abrasileirachiado",
         "line": {
          "color": "#636efa",
          "dash": "solid"
         },
         "marker": {
          "symbol": "circle"
         },
         "mode": "lines",
         "name": "abrasileirachiado",
         "orientation": "v",
         "showlegend": true,
         "type": "scatter",
         "x": [
          "2023-01-01T00:00:00",
          "2023-02-01T00:00:00",
          "2023-03-01T00:00:00",
          "2023-04-01T00:00:00",
          "2023-05-01T00:00:00",
          "2023-06-01T00:00:00",
          "2023-07-01T00:00:00",
          "2023-08-01T00:00:00",
          "2023-09-01T00:00:00",
          "2023-10-01T00:00:00",
          "2023-11-01T00:00:00",
          "2023-12-01T00:00:00",
          "2024-01-01T00:00:00",
          "2024-02-01T00:00:00",
          "2024-03-01T00:00:00",
          "2024-04-01T00:00:00",
          "2024-05-01T00:00:00",
          "2024-06-01T00:00:00",
          "2024-07-01T00:00:00",
          "2024-08-01T00:00:00",
          "2024-09-01T00:00:00",
          "2024-10-01T00:00:00",
          "2024-11-01T00:00:00",
          "2024-12-01T00:00:00",
          "2025-01-01T00:00:00",
          "2025-02-01T00:00:00",
          "2025-03-01T00:00:00",
          "2025-04-01T00:00:00"
         ],
         "xaxis": "x",
         "y": {
          "bdata": "AAAAAAAAT0AAAAAAAABUQAAAAAAAgFFAAAAAAAAAUUAAAAAAAABCQAAAAAAAQFFAAAAAAABATUAAAAAAAEBBQAAAAAAAQF5AAAAAAADARkAAAAAAAEBHQAAAAAAAgERAAAAAAAAAQ0AAAAAAAIBDQAAAAAAAAEFAAAAAAAAgWUAAAAAAAABPQAAAAAAAYFJAAAAAAACAQ0AAAAAAAIBAQAAAAAAAgD1AAAAAAACAR0AAAAAAAOBRQAAAAAAAAERAAAAAAACARUAAAAAAAMBFQAAAAAAAgEpAAAAAAADAU0A=",
          "dtype": "f8"
         },
         "yaxis": "y"
        },
        {
         "hovertemplate": "cafe=timhortons<br>Month=%{x}<br>Median Monthly Number of Likes=%{y}<extra></extra>",
         "legendgroup": "timhortons",
         "line": {
          "color": "#EF553B",
          "dash": "solid"
         },
         "marker": {
          "symbol": "circle"
         },
         "mode": "lines",
         "name": "timhortons",
         "orientation": "v",
         "showlegend": true,
         "type": "scatter",
         "x": [
          "2023-01-01T00:00:00",
          "2023-02-01T00:00:00",
          "2023-03-01T00:00:00",
          "2023-04-01T00:00:00",
          "2023-05-01T00:00:00",
          "2023-06-01T00:00:00",
          "2023-07-01T00:00:00",
          "2023-08-01T00:00:00",
          "2023-09-01T00:00:00",
          "2023-10-01T00:00:00",
          "2023-11-01T00:00:00",
          "2023-12-01T00:00:00",
          "2024-01-01T00:00:00",
          "2024-02-01T00:00:00",
          "2024-03-01T00:00:00",
          "2024-04-01T00:00:00",
          "2024-05-01T00:00:00",
          "2024-06-01T00:00:00",
          "2024-07-01T00:00:00",
          "2024-08-01T00:00:00",
          "2024-09-01T00:00:00",
          "2024-10-01T00:00:00",
          "2024-11-01T00:00:00",
          "2024-12-01T00:00:00",
          "2025-01-01T00:00:00",
          "2025-02-01T00:00:00",
          "2025-03-01T00:00:00",
          "2025-04-01T00:00:00"
         ],
         "xaxis": "x",
         "y": {
          "bdata": "AAAAAADwlEAAAAAAALibQAAAAAAAaKFAAAAAAADYmUAAAAAAANaTQAAAAAAAvpBAAAAAAAAQkEAAAAAAABiPQAAAAAAAKJpAAAAAAABgkkAAAAAAAPuhQAAAAAAAUH1AAAAAAACwf0AAAAAAAHSUQAAAAAAAMINAAAAAAADIi0AAAAAAANiGQAAAAAAAAIdAAAAAAAAYikAAAAAAALyFQAAAAAAAhIVAAAAAAABoikAAAAAAADCYQAAAAAAAqI5AAAAAAADWkkAAAAAAACSbQAAAAAAAiIRAAAAAAAA9okA=",
          "dtype": "f8"
         },
         "yaxis": "y"
        },
        {
         "hovertemplate": "cafe=combi_coffee<br>Month=%{x}<br>Median Monthly Number of Likes=%{y}<extra></extra>",
         "legendgroup": "combi_coffee",
         "line": {
          "color": "#00cc96",
          "dash": "solid"
         },
         "marker": {
          "symbol": "circle"
         },
         "mode": "lines",
         "name": "combi_coffee",
         "orientation": "v",
         "showlegend": true,
         "type": "scatter",
         "x": [
          "2023-01-01T00:00:00",
          "2023-02-01T00:00:00",
          "2023-03-01T00:00:00",
          "2023-04-01T00:00:00",
          "2023-05-01T00:00:00",
          "2023-06-01T00:00:00",
          "2023-07-01T00:00:00",
          "2023-08-01T00:00:00",
          "2023-09-01T00:00:00",
          "2023-10-01T00:00:00",
          "2023-11-01T00:00:00",
          "2023-12-01T00:00:00",
          "2024-02-01T00:00:00",
          "2024-03-01T00:00:00",
          "2024-04-01T00:00:00",
          "2024-05-01T00:00:00",
          "2024-06-01T00:00:00",
          "2024-07-01T00:00:00",
          "2024-08-01T00:00:00",
          "2024-09-01T00:00:00",
          "2024-10-01T00:00:00",
          "2024-11-01T00:00:00",
          "2025-01-01T00:00:00",
          "2025-02-01T00:00:00",
          "2025-03-01T00:00:00",
          "2025-04-01T00:00:00"
         ],
         "xaxis": "x",
         "y": {
          "bdata": "AAAAAABAYEAAAAAAAABhQAAAAAAAoFNAAAAAAACAUkAAAAAAACBRQAAAAAAAQHdAAAAAAADgakAAAAAAAMBbQAAAAAAA8GdAAAAAAABAWUAAAAAAAKCDQAAAAAAAUGZAAAAAAADgYUAAAAAAAEBdQAAAAAAAQFlAAAAAAADgaUAAAAAAAEBWQAAAAAAAYFRAAAAAAABgZkAAAAAAAIBqQAAAAAAAUGNAAAAAAACAWUAAAAAAACBhQAAAAAAAUGBAAAAAAACAVEAAAAAAAEBdQA==",
          "dtype": "f8"
         },
         "yaxis": "y"
        },
        {
         "hovertemplate": "cafe=costacoffee<br>Month=%{x}<br>Median Monthly Number of Likes=%{y}<extra></extra>",
         "legendgroup": "costacoffee",
         "line": {
          "color": "#ab63fa",
          "dash": "solid"
         },
         "marker": {
          "symbol": "circle"
         },
         "mode": "lines",
         "name": "costacoffee",
         "orientation": "v",
         "showlegend": true,
         "type": "scatter",
         "x": [
          "2023-01-01T00:00:00",
          "2023-02-01T00:00:00",
          "2023-03-01T00:00:00",
          "2023-04-01T00:00:00",
          "2023-05-01T00:00:00",
          "2023-06-01T00:00:00",
          "2023-07-01T00:00:00",
          "2023-08-01T00:00:00",
          "2023-09-01T00:00:00",
          "2023-10-01T00:00:00",
          "2023-11-01T00:00:00",
          "2023-12-01T00:00:00",
          "2024-01-01T00:00:00",
          "2024-02-01T00:00:00",
          "2024-03-01T00:00:00",
          "2024-04-01T00:00:00",
          "2024-05-01T00:00:00",
          "2024-06-01T00:00:00",
          "2024-07-01T00:00:00",
          "2024-08-01T00:00:00",
          "2024-09-01T00:00:00",
          "2024-10-01T00:00:00",
          "2024-11-01T00:00:00",
          "2024-12-01T00:00:00",
          "2025-01-01T00:00:00",
          "2025-02-01T00:00:00",
          "2025-03-01T00:00:00",
          "2025-04-01T00:00:00"
         ],
         "xaxis": "x",
         "y": {
          "bdata": "AAAAAABMlUAAAAAAAHKdQAAAAAAA6JJAAAAAAABokkAAAAAAAHKbQAAAAAAAhJFAAAAAAADYlEAAAAAAAPKZQAAAAAAAqIpAAAAAAAAwlEAAAAAAAOCdQAAAAAAAqIVAAAAAAAAglEAAAAAAANCKQAAAAAAAQIZAAAAAAADEhUAAAAAAAAyOQAAAAAAAAIRAAAAAAAB4hkAAAAAAAJB/QAAAAAAA6IxAAAAAAACQh0AAAAAAAKCOQAAAAAAARIhAAAAAAAB4iEAAAAAAACCFQAAAAAAAcIZAAAAAAABQf0A=",
          "dtype": "f8"
         },
         "yaxis": "y"
        },
        {
         "hovertemplate": "cafe=starbucksptg<br>Month=%{x}<br>Median Monthly Number of Likes=%{y}<extra></extra>",
         "legendgroup": "starbucksptg",
         "line": {
          "color": "#FFA15A",
          "dash": "solid"
         },
         "marker": {
          "symbol": "circle"
         },
         "mode": "lines",
         "name": "starbucksptg",
         "orientation": "v",
         "showlegend": true,
         "type": "scatter",
         "x": [
          "2023-01-01T00:00:00",
          "2023-02-01T00:00:00",
          "2023-03-01T00:00:00",
          "2023-04-01T00:00:00",
          "2023-05-01T00:00:00",
          "2023-06-01T00:00:00",
          "2023-07-01T00:00:00",
          "2023-08-01T00:00:00",
          "2023-09-01T00:00:00",
          "2023-10-01T00:00:00",
          "2023-11-01T00:00:00",
          "2023-12-01T00:00:00",
          "2024-01-01T00:00:00",
          "2024-02-01T00:00:00",
          "2024-03-01T00:00:00",
          "2024-04-01T00:00:00",
          "2024-05-01T00:00:00",
          "2024-06-01T00:00:00",
          "2024-07-01T00:00:00",
          "2024-08-01T00:00:00",
          "2024-09-01T00:00:00",
          "2024-10-01T00:00:00",
          "2024-11-01T00:00:00",
          "2024-12-01T00:00:00",
          "2025-01-01T00:00:00",
          "2025-02-01T00:00:00",
          "2025-03-01T00:00:00",
          "2025-04-01T00:00:00"
         ],
         "xaxis": "x",
         "y": {
          "bdata": "AAAAAADghkAAAAAAAKCAQAAAAAAAPpRAAAAAAAC0gkAAAAAAAGiFQAAAAAAAGIRAAAAAAACUgUAAAAAAAHiIQAAAAAAA6ItAAAAAAADgiUAAAAAAAMicQAAAAAAA+IZAAAAAAADofUAAAAAAAMyPQAAAAAAAKIdAAAAAAAAgg0AAAAAAAOiEQAAAAAAA0HxAAAAAAAAEhEAAAAAAAOCEQAAAAAAAWIxAAAAAAAA4j0AAAAAAAKiKQAAAAAAAFIBAAAAAAACkkUAAAAAAACh1QAAAAAAAKINAAAAAAADwdEA=",
          "dtype": "f8"
         },
         "yaxis": "y"
        },
        {
         "hovertemplate": "cafe=majestic_cafe<br>Month=%{x}<br>Median Monthly Number of Likes=%{y}<extra></extra>",
         "legendgroup": "majestic_cafe",
         "line": {
          "color": "#19d3f3",
          "dash": "solid"
         },
         "marker": {
          "symbol": "circle"
         },
         "mode": "lines",
         "name": "majestic_cafe",
         "orientation": "v",
         "showlegend": true,
         "type": "scatter",
         "x": [
          "2023-01-01T00:00:00",
          "2023-02-01T00:00:00",
          "2023-03-01T00:00:00",
          "2023-04-01T00:00:00",
          "2023-05-01T00:00:00",
          "2023-06-01T00:00:00",
          "2023-07-01T00:00:00",
          "2023-08-01T00:00:00",
          "2023-09-01T00:00:00",
          "2023-10-01T00:00:00",
          "2023-11-01T00:00:00",
          "2023-12-01T00:00:00",
          "2024-01-01T00:00:00",
          "2024-02-01T00:00:00",
          "2024-03-01T00:00:00",
          "2024-04-01T00:00:00",
          "2024-05-01T00:00:00",
          "2024-06-01T00:00:00",
          "2024-07-01T00:00:00",
          "2024-08-01T00:00:00",
          "2024-09-01T00:00:00",
          "2024-10-01T00:00:00",
          "2024-11-01T00:00:00",
          "2024-12-01T00:00:00",
          "2025-01-01T00:00:00",
          "2025-02-01T00:00:00",
          "2025-03-01T00:00:00",
          "2025-04-01T00:00:00"
         ],
         "xaxis": "x",
         "y": {
          "bdata": "AAAAAADATUAAAAAAAGBQQAAAAAAAAFBAAAAAAACAR0AAAAAAAABDQAAAAAAAwEdAAAAAAACAQkAAAAAAAEBTQAAAAAAAgE9AAAAAAAAARkAAAAAAAEBOQAAAAAAAQFFAAAAAAACAQ0AAAAAAAABNQAAAAAAAgE1AAAAAAAAARkAAAAAAAABCQAAAAAAAwEVAAAAAAABAQkAAAAAAAABCQAAAAAAAgEJAAAAAAACASEAAAAAAAMBRQAAAAAAAwFBAAAAAAADAT0AAAAAAAMBSQAAAAAAAgEVAAAAAAACAR0A=",
          "dtype": "f8"
         },
         "yaxis": "y"
        },
        {
         "hovertemplate": "cafe=fabricacoffeeroasters<br>Month=%{x}<br>Median Monthly Number of Likes=%{y}<extra></extra>",
         "legendgroup": "fabricacoffeeroasters",
         "line": {
          "color": "#FF6692",
          "dash": "solid"
         },
         "marker": {
          "symbol": "circle"
         },
         "mode": "lines",
         "name": "fabricacoffeeroasters",
         "orientation": "v",
         "showlegend": true,
         "type": "scatter",
         "x": [
          "2023-01-01T00:00:00",
          "2023-02-01T00:00:00",
          "2023-03-01T00:00:00",
          "2023-04-01T00:00:00",
          "2023-05-01T00:00:00",
          "2023-06-01T00:00:00",
          "2023-07-01T00:00:00",
          "2023-08-01T00:00:00",
          "2023-09-01T00:00:00",
          "2023-10-01T00:00:00",
          "2023-11-01T00:00:00",
          "2023-12-01T00:00:00",
          "2024-02-01T00:00:00",
          "2024-03-01T00:00:00",
          "2024-04-01T00:00:00",
          "2024-06-01T00:00:00",
          "2024-07-01T00:00:00",
          "2024-08-01T00:00:00",
          "2024-09-01T00:00:00",
          "2024-10-01T00:00:00",
          "2024-11-01T00:00:00",
          "2024-12-01T00:00:00",
          "2025-01-01T00:00:00",
          "2025-02-01T00:00:00",
          "2025-03-01T00:00:00",
          "2025-04-01T00:00:00"
         ],
         "xaxis": "x",
         "y": {
          "bdata": "AAAAAABgb0AAAAAAAMBfQAAAAAAAIG1AAAAAAAAgZEAAAAAAAIBrQAAAAAAAoGlAAAAAAADQaEAAAAAAAKBsQAAAAAAAAGdAAAAAAADAakAAAAAAAABtQAAAAAAAoHBAAAAAAACQaUAAAAAAAKBtQAAAAAAAgGFAAAAAAABAXkAAAAAAAKBkQAAAAAAAAF5AAAAAAACAYkAAAAAAAGBuQAAAAAAAgGZAAAAAAAAAW0AAAAAAAFBmQAAAAAAAUGJAAAAAAABAUkAAAAAAAOBRQA==",
          "dtype": "f8"
         },
         "yaxis": "y"
        },
        {
         "hovertemplate": "cafe=cphcoffeelab<br>Month=%{x}<br>Median Monthly Number of Likes=%{y}<extra></extra>",
         "legendgroup": "cphcoffeelab",
         "line": {
          "color": "#B6E880",
          "dash": "solid"
         },
         "marker": {
          "symbol": "circle"
         },
         "mode": "lines",
         "name": "cphcoffeelab",
         "orientation": "v",
         "showlegend": true,
         "type": "scatter",
         "x": [
          "2023-01-01T00:00:00",
          "2023-02-01T00:00:00",
          "2023-03-01T00:00:00",
          "2023-04-01T00:00:00",
          "2023-05-01T00:00:00",
          "2023-06-01T00:00:00",
          "2023-07-01T00:00:00",
          "2023-08-01T00:00:00",
          "2023-09-01T00:00:00",
          "2023-10-01T00:00:00",
          "2023-11-01T00:00:00",
          "2023-12-01T00:00:00",
          "2024-01-01T00:00:00",
          "2024-02-01T00:00:00",
          "2024-03-01T00:00:00",
          "2024-04-01T00:00:00",
          "2024-05-01T00:00:00",
          "2024-06-01T00:00:00",
          "2024-07-01T00:00:00",
          "2024-08-01T00:00:00",
          "2024-09-01T00:00:00",
          "2024-10-01T00:00:00",
          "2024-11-01T00:00:00",
          "2024-12-01T00:00:00",
          "2025-01-01T00:00:00",
          "2025-02-01T00:00:00",
          "2025-03-01T00:00:00",
          "2025-04-01T00:00:00"
         ],
         "xaxis": "x",
         "y": {
          "bdata": "AAAAAAAAaEAAAAAAANBgQAAAAAAAwFpAAAAAAADAXkAAAAAAACBgQAAAAAAAoFlAAAAAAADAaUAAAAAAAIBgQAAAAAAAMGFAAAAAAADwZ0AAAAAAACBmQAAAAAAAAGhAAAAAAAAgbUAAAAAAAHhwQAAAAAAAQF1AAAAAAABAXUAAAAAAAIBSQAAAAAAAwFdAAAAAAADAVUAAAAAAACBZQAAAAAAAAF9AAAAAAACAWUAAAAAAAOBaQAAAAAAAwFdAAAAAAAAAXkAAAAAAAGBZQAAAAAAAwFZAAAAAAACAVUA=",
          "dtype": "f8"
         },
         "yaxis": "y"
        },
        {
         "hovertemplate": "cafe=apadariaportuguesa<br>Month=%{x}<br>Median Monthly Number of Likes=%{y}<extra></extra>",
         "legendgroup": "apadariaportuguesa",
         "line": {
          "color": "#FF97FF",
          "dash": "solid"
         },
         "marker": {
          "symbol": "circle"
         },
         "mode": "lines",
         "name": "apadariaportuguesa",
         "orientation": "v",
         "showlegend": true,
         "type": "scatter",
         "x": [
          "2023-01-01T00:00:00",
          "2023-02-01T00:00:00",
          "2023-03-01T00:00:00",
          "2023-04-01T00:00:00",
          "2023-05-01T00:00:00",
          "2023-06-01T00:00:00",
          "2023-07-01T00:00:00",
          "2023-08-01T00:00:00",
          "2023-09-01T00:00:00",
          "2023-10-01T00:00:00",
          "2023-11-01T00:00:00",
          "2023-12-01T00:00:00",
          "2024-01-01T00:00:00",
          "2024-02-01T00:00:00",
          "2024-03-01T00:00:00",
          "2024-04-01T00:00:00",
          "2024-05-01T00:00:00",
          "2024-06-01T00:00:00",
          "2024-07-01T00:00:00",
          "2024-08-01T00:00:00",
          "2024-09-01T00:00:00",
          "2024-10-01T00:00:00",
          "2024-11-01T00:00:00",
          "2024-12-01T00:00:00",
          "2025-01-01T00:00:00",
          "2025-02-01T00:00:00",
          "2025-03-01T00:00:00",
          "2025-04-01T00:00:00"
         ],
         "xaxis": "x",
         "y": {
          "bdata": "AAAAAAD0lEAAAAAAAFCYQAAAAAAAAIdAAAAAAAColEAAAAAAACSYQAAAAAAASpVAAAAAAABoiEAAAAAAACB4QAAAAAAAzKNAAAAAAACQd0AAAAAAAKCDQAAAAAAA2IxAAAAAAADgeUAAAAAAAABpQAAAAAAAcIFAAAAAAADAbEAAAAAAAOqdQAAAAAAAeIJAAAAAAAAwZEAAAAAAAOySQAAAAAAAsJJAAAAAAAAghUAAAAAAANB1QAAAAAAAEGdAAAAAAACAgkAAAAAAAKBvQAAAAAAAIHZAAAAAAADAX0A=",
          "dtype": "f8"
         },
         "yaxis": "y"
        },
        {
         "hovertemplate": "cafe=jeronymo_pt<br>Month=%{x}<br>Median Monthly Number of Likes=%{y}<extra></extra>",
         "legendgroup": "jeronymo_pt",
         "line": {
          "color": "#FECB52",
          "dash": "solid"
         },
         "marker": {
          "symbol": "circle"
         },
         "mode": "lines",
         "name": "jeronymo_pt",
         "orientation": "v",
         "showlegend": true,
         "type": "scatter",
         "x": [
          "2023-01-01T00:00:00",
          "2023-02-01T00:00:00",
          "2023-03-01T00:00:00",
          "2023-04-01T00:00:00",
          "2023-05-01T00:00:00",
          "2023-06-01T00:00:00",
          "2023-07-01T00:00:00",
          "2023-08-01T00:00:00",
          "2023-09-01T00:00:00",
          "2023-10-01T00:00:00",
          "2023-11-01T00:00:00",
          "2023-12-01T00:00:00",
          "2024-01-01T00:00:00",
          "2024-02-01T00:00:00",
          "2024-03-01T00:00:00",
          "2024-04-01T00:00:00",
          "2024-05-01T00:00:00",
          "2024-06-01T00:00:00",
          "2024-07-01T00:00:00",
          "2024-08-01T00:00:00",
          "2024-09-01T00:00:00",
          "2024-10-01T00:00:00",
          "2024-11-01T00:00:00",
          "2024-12-01T00:00:00",
          "2025-01-01T00:00:00",
          "2025-02-01T00:00:00",
          "2025-03-01T00:00:00",
          "2025-04-01T00:00:00"
         ],
         "xaxis": "x",
         "y": {
          "bdata": "AAAAAACweEAAAAAAAGBsQAAAAAAAcHJAAAAAAAAwYkAAAAAAAIBEQAAAAAAAAD5AAAAAAADwdEAAAAAAAHB3QAAAAAAAQGtAAAAAAAAQZkAAAAAAABBhQAAAAAAAwFRAAAAAAADQYUAAAAAAAEBOQAAAAAAAADNAAAAAAACAPUAAAAAAAAA9QAAAAAAAAERAAAAAAADgZkAAAAAAAABLQAAAAAAAAE9AAAAAAAAASkAAAAAAAEBSQAAAAAAAAERAAAAAAADARkAAAAAAAIBJQAAAAAAAgFFAAAAAAACAQ0A=",
          "dtype": "f8"
         },
         "yaxis": "y"
        }
       ],
       "layout": {
        "legend": {
         "title": {
          "text": "cafe"
         },
         "tracegroupgap": 0
        },
        "margin": {
         "t": 60
        },
        "template": {
         "data": {
          "bar": [
           {
            "error_x": {
             "color": "#2a3f5f"
            },
            "error_y": {
             "color": "#2a3f5f"
            },
            "marker": {
             "line": {
              "color": "#E5ECF6",
              "width": 0.5
             },
             "pattern": {
              "fillmode": "overlay",
              "size": 10,
              "solidity": 0.2
             }
            },
            "type": "bar"
           }
          ],
          "barpolar": [
           {
            "marker": {
             "line": {
              "color": "#E5ECF6",
              "width": 0.5
             },
             "pattern": {
              "fillmode": "overlay",
              "size": 10,
              "solidity": 0.2
             }
            },
            "type": "barpolar"
           }
          ],
          "carpet": [
           {
            "aaxis": {
             "endlinecolor": "#2a3f5f",
             "gridcolor": "white",
             "linecolor": "white",
             "minorgridcolor": "white",
             "startlinecolor": "#2a3f5f"
            },
            "baxis": {
             "endlinecolor": "#2a3f5f",
             "gridcolor": "white",
             "linecolor": "white",
             "minorgridcolor": "white",
             "startlinecolor": "#2a3f5f"
            },
            "type": "carpet"
           }
          ],
          "choropleth": [
           {
            "colorbar": {
             "outlinewidth": 0,
             "ticks": ""
            },
            "type": "choropleth"
           }
          ],
          "contour": [
           {
            "colorbar": {
             "outlinewidth": 0,
             "ticks": ""
            },
            "colorscale": [
             [
              0,
              "#0d0887"
             ],
             [
              0.1111111111111111,
              "#46039f"
             ],
             [
              0.2222222222222222,
              "#7201a8"
             ],
             [
              0.3333333333333333,
              "#9c179e"
             ],
             [
              0.4444444444444444,
              "#bd3786"
             ],
             [
              0.5555555555555556,
              "#d8576b"
             ],
             [
              0.6666666666666666,
              "#ed7953"
             ],
             [
              0.7777777777777778,
              "#fb9f3a"
             ],
             [
              0.8888888888888888,
              "#fdca26"
             ],
             [
              1,
              "#f0f921"
             ]
            ],
            "type": "contour"
           }
          ],
          "contourcarpet": [
           {
            "colorbar": {
             "outlinewidth": 0,
             "ticks": ""
            },
            "type": "contourcarpet"
           }
          ],
          "heatmap": [
           {
            "colorbar": {
             "outlinewidth": 0,
             "ticks": ""
            },
            "colorscale": [
             [
              0,
              "#0d0887"
             ],
             [
              0.1111111111111111,
              "#46039f"
             ],
             [
              0.2222222222222222,
              "#7201a8"
             ],
             [
              0.3333333333333333,
              "#9c179e"
             ],
             [
              0.4444444444444444,
              "#bd3786"
             ],
             [
              0.5555555555555556,
              "#d8576b"
             ],
             [
              0.6666666666666666,
              "#ed7953"
             ],
             [
              0.7777777777777778,
              "#fb9f3a"
             ],
             [
              0.8888888888888888,
              "#fdca26"
             ],
             [
              1,
              "#f0f921"
             ]
            ],
            "type": "heatmap"
           }
          ],
          "histogram": [
           {
            "marker": {
             "pattern": {
              "fillmode": "overlay",
              "size": 10,
              "solidity": 0.2
             }
            },
            "type": "histogram"
           }
          ],
          "histogram2d": [
           {
            "colorbar": {
             "outlinewidth": 0,
             "ticks": ""
            },
            "colorscale": [
             [
              0,
              "#0d0887"
             ],
             [
              0.1111111111111111,
              "#46039f"
             ],
             [
              0.2222222222222222,
              "#7201a8"
             ],
             [
              0.3333333333333333,
              "#9c179e"
             ],
             [
              0.4444444444444444,
              "#bd3786"
             ],
             [
              0.5555555555555556,
              "#d8576b"
             ],
             [
              0.6666666666666666,
              "#ed7953"
             ],
             [
              0.7777777777777778,
              "#fb9f3a"
             ],
             [
              0.8888888888888888,
              "#fdca26"
             ],
             [
              1,
              "#f0f921"
             ]
            ],
            "type": "histogram2d"
           }
          ],
          "histogram2dcontour": [
           {
            "colorbar": {
             "outlinewidth": 0,
             "ticks": ""
            },
            "colorscale": [
             [
              0,
              "#0d0887"
             ],
             [
              0.1111111111111111,
              "#46039f"
             ],
             [
              0.2222222222222222,
              "#7201a8"
             ],
             [
              0.3333333333333333,
              "#9c179e"
             ],
             [
              0.4444444444444444,
              "#bd3786"
             ],
             [
              0.5555555555555556,
              "#d8576b"
             ],
             [
              0.6666666666666666,
              "#ed7953"
             ],
             [
              0.7777777777777778,
              "#fb9f3a"
             ],
             [
              0.8888888888888888,
              "#fdca26"
             ],
             [
              1,
              "#f0f921"
             ]
            ],
            "type": "histogram2dcontour"
           }
          ],
          "mesh3d": [
           {
            "colorbar": {
             "outlinewidth": 0,
             "ticks": ""
            },
            "type": "mesh3d"
           }
          ],
          "parcoords": [
           {
            "line": {
             "colorbar": {
              "outlinewidth": 0,
              "ticks": ""
             }
            },
            "type": "parcoords"
           }
          ],
          "pie": [
           {
            "automargin": true,
            "type": "pie"
           }
          ],
          "scatter": [
           {
            "fillpattern": {
             "fillmode": "overlay",
             "size": 10,
             "solidity": 0.2
            },
            "type": "scatter"
           }
          ],
          "scatter3d": [
           {
            "line": {
             "colorbar": {
              "outlinewidth": 0,
              "ticks": ""
             }
            },
            "marker": {
             "colorbar": {
              "outlinewidth": 0,
              "ticks": ""
             }
            },
            "type": "scatter3d"
           }
          ],
          "scattercarpet": [
           {
            "marker": {
             "colorbar": {
              "outlinewidth": 0,
              "ticks": ""
             }
            },
            "type": "scattercarpet"
           }
          ],
          "scattergeo": [
           {
            "marker": {
             "colorbar": {
              "outlinewidth": 0,
              "ticks": ""
             }
            },
            "type": "scattergeo"
           }
          ],
          "scattergl": [
           {
            "marker": {
             "colorbar": {
              "outlinewidth": 0,
              "ticks": ""
             }
            },
            "type": "scattergl"
           }
          ],
          "scattermap": [
           {
            "marker": {
             "colorbar": {
              "outlinewidth": 0,
              "ticks": ""
             }
            },
            "type": "scattermap"
           }
          ],
          "scattermapbox": [
           {
            "marker": {
             "colorbar": {
              "outlinewidth": 0,
              "ticks": ""
             }
            },
            "type": "scattermapbox"
           }
          ],
          "scatterpolar": [
           {
            "marker": {
             "colorbar": {
              "outlinewidth": 0,
              "ticks": ""
             }
            },
            "type": "scatterpolar"
           }
          ],
          "scatterpolargl": [
           {
            "marker": {
             "colorbar": {
              "outlinewidth": 0,
              "ticks": ""
             }
            },
            "type": "scatterpolargl"
           }
          ],
          "scatterternary": [
           {
            "marker": {
             "colorbar": {
              "outlinewidth": 0,
              "ticks": ""
             }
            },
            "type": "scatterternary"
           }
          ],
          "surface": [
           {
            "colorbar": {
             "outlinewidth": 0,
             "ticks": ""
            },
            "colorscale": [
             [
              0,
              "#0d0887"
             ],
             [
              0.1111111111111111,
              "#46039f"
             ],
             [
              0.2222222222222222,
              "#7201a8"
             ],
             [
              0.3333333333333333,
              "#9c179e"
             ],
             [
              0.4444444444444444,
              "#bd3786"
             ],
             [
              0.5555555555555556,
              "#d8576b"
             ],
             [
              0.6666666666666666,
              "#ed7953"
             ],
             [
              0.7777777777777778,
              "#fb9f3a"
             ],
             [
              0.8888888888888888,
              "#fdca26"
             ],
             [
              1,
              "#f0f921"
             ]
            ],
            "type": "surface"
           }
          ],
          "table": [
           {
            "cells": {
             "fill": {
              "color": "#EBF0F8"
             },
             "line": {
              "color": "white"
             }
            },
            "header": {
             "fill": {
              "color": "#C8D4E3"
             },
             "line": {
              "color": "white"
             }
            },
            "type": "table"
           }
          ]
         },
         "layout": {
          "annotationdefaults": {
           "arrowcolor": "#2a3f5f",
           "arrowhead": 0,
           "arrowwidth": 1
          },
          "autotypenumbers": "strict",
          "coloraxis": {
           "colorbar": {
            "outlinewidth": 0,
            "ticks": ""
           }
          },
          "colorscale": {
           "diverging": [
            [
             0,
             "#8e0152"
            ],
            [
             0.1,
             "#c51b7d"
            ],
            [
             0.2,
             "#de77ae"
            ],
            [
             0.3,
             "#f1b6da"
            ],
            [
             0.4,
             "#fde0ef"
            ],
            [
             0.5,
             "#f7f7f7"
            ],
            [
             0.6,
             "#e6f5d0"
            ],
            [
             0.7,
             "#b8e186"
            ],
            [
             0.8,
             "#7fbc41"
            ],
            [
             0.9,
             "#4d9221"
            ],
            [
             1,
             "#276419"
            ]
           ],
           "sequential": [
            [
             0,
             "#0d0887"
            ],
            [
             0.1111111111111111,
             "#46039f"
            ],
            [
             0.2222222222222222,
             "#7201a8"
            ],
            [
             0.3333333333333333,
             "#9c179e"
            ],
            [
             0.4444444444444444,
             "#bd3786"
            ],
            [
             0.5555555555555556,
             "#d8576b"
            ],
            [
             0.6666666666666666,
             "#ed7953"
            ],
            [
             0.7777777777777778,
             "#fb9f3a"
            ],
            [
             0.8888888888888888,
             "#fdca26"
            ],
            [
             1,
             "#f0f921"
            ]
           ],
           "sequentialminus": [
            [
             0,
             "#0d0887"
            ],
            [
             0.1111111111111111,
             "#46039f"
            ],
            [
             0.2222222222222222,
             "#7201a8"
            ],
            [
             0.3333333333333333,
             "#9c179e"
            ],
            [
             0.4444444444444444,
             "#bd3786"
            ],
            [
             0.5555555555555556,
             "#d8576b"
            ],
            [
             0.6666666666666666,
             "#ed7953"
            ],
            [
             0.7777777777777778,
             "#fb9f3a"
            ],
            [
             0.8888888888888888,
             "#fdca26"
            ],
            [
             1,
             "#f0f921"
            ]
           ]
          },
          "colorway": [
           "#636efa",
           "#EF553B",
           "#00cc96",
           "#ab63fa",
           "#FFA15A",
           "#19d3f3",
           "#FF6692",
           "#B6E880",
           "#FF97FF",
           "#FECB52"
          ],
          "font": {
           "color": "#2a3f5f"
          },
          "geo": {
           "bgcolor": "white",
           "lakecolor": "white",
           "landcolor": "#E5ECF6",
           "showlakes": true,
           "showland": true,
           "subunitcolor": "white"
          },
          "hoverlabel": {
           "align": "left"
          },
          "hovermode": "closest",
          "mapbox": {
           "style": "light"
          },
          "paper_bgcolor": "white",
          "plot_bgcolor": "#E5ECF6",
          "polar": {
           "angularaxis": {
            "gridcolor": "white",
            "linecolor": "white",
            "ticks": ""
           },
           "bgcolor": "#E5ECF6",
           "radialaxis": {
            "gridcolor": "white",
            "linecolor": "white",
            "ticks": ""
           }
          },
          "scene": {
           "xaxis": {
            "backgroundcolor": "#E5ECF6",
            "gridcolor": "white",
            "gridwidth": 2,
            "linecolor": "white",
            "showbackground": true,
            "ticks": "",
            "zerolinecolor": "white"
           },
           "yaxis": {
            "backgroundcolor": "#E5ECF6",
            "gridcolor": "white",
            "gridwidth": 2,
            "linecolor": "white",
            "showbackground": true,
            "ticks": "",
            "zerolinecolor": "white"
           },
           "zaxis": {
            "backgroundcolor": "#E5ECF6",
            "gridcolor": "white",
            "gridwidth": 2,
            "linecolor": "white",
            "showbackground": true,
            "ticks": "",
            "zerolinecolor": "white"
           }
          },
          "shapedefaults": {
           "line": {
            "color": "#2a3f5f"
           }
          },
          "ternary": {
           "aaxis": {
            "gridcolor": "white",
            "linecolor": "white",
            "ticks": ""
           },
           "baxis": {
            "gridcolor": "white",
            "linecolor": "white",
            "ticks": ""
           },
           "bgcolor": "#E5ECF6",
           "caxis": {
            "gridcolor": "white",
            "linecolor": "white",
            "ticks": ""
           }
          },
          "title": {
           "x": 0.05
          },
          "xaxis": {
           "automargin": true,
           "gridcolor": "white",
           "linecolor": "white",
           "ticks": "",
           "title": {
            "standoff": 15
           },
           "zerolinecolor": "white",
           "zerolinewidth": 2
          },
          "yaxis": {
           "automargin": true,
           "gridcolor": "white",
           "linecolor": "white",
           "ticks": "",
           "title": {
            "standoff": 15
           },
           "zerolinecolor": "white",
           "zerolinewidth": 2
          }
         }
        },
        "xaxis": {
         "anchor": "y",
         "domain": [
          0,
          1
         ],
         "title": {
          "text": "Month"
         }
        },
        "yaxis": {
         "anchor": "x",
         "domain": [
          0,
          1
         ],
         "title": {
          "text": "Median Monthly Number of Likes"
         }
        }
       }
      }
     },
     "metadata": {},
     "output_type": "display_data"
    }
   ],
   "source": [
    "a = final[[\"cafe\", \"n_likes\", \"month\", \"year\"]]\n",
    "a = a.groupby([\"cafe\", \"year\", \"month\"])[[\"n_likes\"]].median()\n",
    "a = a.reset_index()\n",
    "a[\"new_date\"] = a[\"year\"].astype(str) + \"-\" + a[\"month\"].astype(str) + \"-01\"\n",
    "a[\"new_date\"] = a[\"new_date\"].astype(\"datetime64[s]\")\n",
    "a = a.sort_values(by=\"new_date\")\n",
    "px.line(a, x=\"new_date\", y=\"n_likes\", color=\"cafe\", labels={\"n_likes\": \"Median Monthly Number of Likes\",\n",
    "                                                            \"new_date\": \"Month\"})"
   ]
  },
  {
   "cell_type": "code",
   "execution_count": 10,
   "id": "1105a53b",
   "metadata": {},
   "outputs": [
    {
     "data": {
      "text/html": [
       "<div>\n",
       "<style scoped>\n",
       "    .dataframe tbody tr th:only-of-type {\n",
       "        vertical-align: middle;\n",
       "    }\n",
       "\n",
       "    .dataframe tbody tr th {\n",
       "        vertical-align: top;\n",
       "    }\n",
       "\n",
       "    .dataframe thead th {\n",
       "        text-align: right;\n",
       "    }\n",
       "</style>\n",
       "<table border=\"1\" class=\"dataframe\">\n",
       "  <thead>\n",
       "    <tr style=\"text-align: right;\">\n",
       "      <th></th>\n",
       "      <th>post_link</th>\n",
       "      <th>cafe</th>\n",
       "      <th>day_posted</th>\n",
       "      <th>n_likes</th>\n",
       "      <th>followers</th>\n",
       "      <th>var</th>\n",
       "      <th>month</th>\n",
       "      <th>year</th>\n",
       "      <th>trimester</th>\n",
       "    </tr>\n",
       "  </thead>\n",
       "  <tbody>\n",
       "    <tr>\n",
       "      <th>237</th>\n",
       "      <td>https://www.instagram.com/p/Cm35pKzMx2q/</td>\n",
       "      <td>abrasileirachiado</td>\n",
       "      <td>2023-01-01</td>\n",
       "      <td>35.0</td>\n",
       "      <td>9526.0</td>\n",
       "      <td>0.003674</td>\n",
       "      <td>1</td>\n",
       "      <td>2023</td>\n",
       "      <td>1</td>\n",
       "    </tr>\n",
       "    <tr>\n",
       "      <th>2892</th>\n",
       "      <td>https://www.instagram.com/p/Cm3XRm5soUL/?img_i...</td>\n",
       "      <td>costacoffee</td>\n",
       "      <td>2023-01-01</td>\n",
       "      <td>1317.0</td>\n",
       "      <td>430000.0</td>\n",
       "      <td>0.003063</td>\n",
       "      <td>1</td>\n",
       "      <td>2023</td>\n",
       "      <td>1</td>\n",
       "    </tr>\n",
       "    <tr>\n",
       "      <th>4148</th>\n",
       "      <td>https://www.instagram.com/p/Cm3y2JUIPEH/</td>\n",
       "      <td>apadariaportuguesa</td>\n",
       "      <td>2023-01-01</td>\n",
       "      <td>1906.0</td>\n",
       "      <td>65500.0</td>\n",
       "      <td>0.029099</td>\n",
       "      <td>1</td>\n",
       "      <td>2023</td>\n",
       "      <td>1</td>\n",
       "    </tr>\n",
       "    <tr>\n",
       "      <th>4147</th>\n",
       "      <td>https://www.instagram.com/p/Cm6DBvZMpKv/</td>\n",
       "      <td>apadariaportuguesa</td>\n",
       "      <td>2023-01-02</td>\n",
       "      <td>1288.0</td>\n",
       "      <td>65500.0</td>\n",
       "      <td>0.019664</td>\n",
       "      <td>1</td>\n",
       "      <td>2023</td>\n",
       "      <td>1</td>\n",
       "    </tr>\n",
       "    <tr>\n",
       "      <th>3718</th>\n",
       "      <td>https://www.instagram.com/p/Cm9gEt2NYgY/</td>\n",
       "      <td>jeronymo_pt</td>\n",
       "      <td>2023-01-03</td>\n",
       "      <td>395.0</td>\n",
       "      <td>6474.0</td>\n",
       "      <td>0.061013</td>\n",
       "      <td>1</td>\n",
       "      <td>2023</td>\n",
       "      <td>1</td>\n",
       "    </tr>\n",
       "    <tr>\n",
       "      <th>...</th>\n",
       "      <td>...</td>\n",
       "      <td>...</td>\n",
       "      <td>...</td>\n",
       "      <td>...</td>\n",
       "      <td>...</td>\n",
       "      <td>...</td>\n",
       "      <td>...</td>\n",
       "      <td>...</td>\n",
       "      <td>...</td>\n",
       "    </tr>\n",
       "    <tr>\n",
       "      <th>3410</th>\n",
       "      <td>https://www.instagram.com/p/DI8jHkQqnTs/</td>\n",
       "      <td>jeronymo_pt</td>\n",
       "      <td>2025-04-26</td>\n",
       "      <td>7.0</td>\n",
       "      <td>6474.0</td>\n",
       "      <td>0.001081</td>\n",
       "      <td>4</td>\n",
       "      <td>2025</td>\n",
       "      <td>2</td>\n",
       "    </tr>\n",
       "    <tr>\n",
       "      <th>1807</th>\n",
       "      <td>https://www.instagram.com/p/DI5sXSNtIi2/?img_i...</td>\n",
       "      <td>cphcoffeelab</td>\n",
       "      <td>2025-04-26</td>\n",
       "      <td>86.0</td>\n",
       "      <td>29900.0</td>\n",
       "      <td>0.002876</td>\n",
       "      <td>4</td>\n",
       "      <td>2025</td>\n",
       "      <td>2</td>\n",
       "    </tr>\n",
       "    <tr>\n",
       "      <th>0</th>\n",
       "      <td>https://www.instagram.com/p/DI3YwV-PtK0/</td>\n",
       "      <td>abrasileirachiado</td>\n",
       "      <td>2025-04-26</td>\n",
       "      <td>79.0</td>\n",
       "      <td>9526.0</td>\n",
       "      <td>0.008293</td>\n",
       "      <td>4</td>\n",
       "      <td>2025</td>\n",
       "      <td>2</td>\n",
       "    </tr>\n",
       "    <tr>\n",
       "      <th>2898</th>\n",
       "      <td>https://www.instagram.com/p/DI6blnZx2SE/</td>\n",
       "      <td>timhortons</td>\n",
       "      <td>2025-04-27</td>\n",
       "      <td>5272.0</td>\n",
       "      <td>547000.0</td>\n",
       "      <td>0.009638</td>\n",
       "      <td>4</td>\n",
       "      <td>2025</td>\n",
       "      <td>2</td>\n",
       "    </tr>\n",
       "    <tr>\n",
       "      <th>2897</th>\n",
       "      <td>https://www.instagram.com/p/DI6xMzTxoj7/</td>\n",
       "      <td>timhortons</td>\n",
       "      <td>2025-04-27</td>\n",
       "      <td>480.0</td>\n",
       "      <td>547000.0</td>\n",
       "      <td>0.000878</td>\n",
       "      <td>4</td>\n",
       "      <td>2025</td>\n",
       "      <td>2</td>\n",
       "    </tr>\n",
       "  </tbody>\n",
       "</table>\n",
       "<p>4073 rows × 9 columns</p>\n",
       "</div>"
      ],
      "text/plain": [
       "                                              post_link                cafe  \\\n",
       "237            https://www.instagram.com/p/Cm35pKzMx2q/   abrasileirachiado   \n",
       "2892  https://www.instagram.com/p/Cm3XRm5soUL/?img_i...         costacoffee   \n",
       "4148           https://www.instagram.com/p/Cm3y2JUIPEH/  apadariaportuguesa   \n",
       "4147           https://www.instagram.com/p/Cm6DBvZMpKv/  apadariaportuguesa   \n",
       "3718           https://www.instagram.com/p/Cm9gEt2NYgY/         jeronymo_pt   \n",
       "...                                                 ...                 ...   \n",
       "3410           https://www.instagram.com/p/DI8jHkQqnTs/         jeronymo_pt   \n",
       "1807  https://www.instagram.com/p/DI5sXSNtIi2/?img_i...        cphcoffeelab   \n",
       "0              https://www.instagram.com/p/DI3YwV-PtK0/   abrasileirachiado   \n",
       "2898           https://www.instagram.com/p/DI6blnZx2SE/          timhortons   \n",
       "2897           https://www.instagram.com/p/DI6xMzTxoj7/          timhortons   \n",
       "\n",
       "     day_posted  n_likes  followers       var  month  year  trimester  \n",
       "237  2023-01-01     35.0     9526.0  0.003674      1  2023          1  \n",
       "2892 2023-01-01   1317.0   430000.0  0.003063      1  2023          1  \n",
       "4148 2023-01-01   1906.0    65500.0  0.029099      1  2023          1  \n",
       "4147 2023-01-02   1288.0    65500.0  0.019664      1  2023          1  \n",
       "3718 2023-01-03    395.0     6474.0  0.061013      1  2023          1  \n",
       "...         ...      ...        ...       ...    ...   ...        ...  \n",
       "3410 2025-04-26      7.0     6474.0  0.001081      4  2025          2  \n",
       "1807 2025-04-26     86.0    29900.0  0.002876      4  2025          2  \n",
       "0    2025-04-26     79.0     9526.0  0.008293      4  2025          2  \n",
       "2898 2025-04-27   5272.0   547000.0  0.009638      4  2025          2  \n",
       "2897 2025-04-27    480.0   547000.0  0.000878      4  2025          2  \n",
       "\n",
       "[4073 rows x 9 columns]"
      ]
     },
     "execution_count": 10,
     "metadata": {},
     "output_type": "execute_result"
    }
   ],
   "source": [
    "final"
   ]
  },
  {
   "cell_type": "code",
   "execution_count": 11,
   "id": "d67263de",
   "metadata": {},
   "outputs": [
    {
     "data": {
      "text/html": [
       "<div>\n",
       "<style scoped>\n",
       "    .dataframe tbody tr th:only-of-type {\n",
       "        vertical-align: middle;\n",
       "    }\n",
       "\n",
       "    .dataframe tbody tr th {\n",
       "        vertical-align: top;\n",
       "    }\n",
       "\n",
       "    .dataframe thead th {\n",
       "        text-align: right;\n",
       "    }\n",
       "</style>\n",
       "<table border=\"1\" class=\"dataframe\">\n",
       "  <thead>\n",
       "    <tr style=\"text-align: right;\">\n",
       "      <th></th>\n",
       "      <th>post_link</th>\n",
       "      <th>cafe</th>\n",
       "      <th>day_posted</th>\n",
       "      <th>n_likes</th>\n",
       "      <th>followers</th>\n",
       "      <th>var</th>\n",
       "      <th>month</th>\n",
       "      <th>year</th>\n",
       "      <th>trimester</th>\n",
       "      <th>q</th>\n",
       "    </tr>\n",
       "  </thead>\n",
       "  <tbody>\n",
       "    <tr>\n",
       "      <th>2892</th>\n",
       "      <td>https://www.instagram.com/p/Cm3XRm5soUL/?img_i...</td>\n",
       "      <td>costacoffee</td>\n",
       "      <td>2023-01-01</td>\n",
       "      <td>1317.0</td>\n",
       "      <td>430000.0</td>\n",
       "      <td>0.003063</td>\n",
       "      <td>1</td>\n",
       "      <td>2023</td>\n",
       "      <td>1</td>\n",
       "      <td>0</td>\n",
       "    </tr>\n",
       "    <tr>\n",
       "      <th>2891</th>\n",
       "      <td>https://www.instagram.com/p/Cm9kKVGvuQs/</td>\n",
       "      <td>costacoffee</td>\n",
       "      <td>2023-01-03</td>\n",
       "      <td>762.0</td>\n",
       "      <td>430000.0</td>\n",
       "      <td>0.001772</td>\n",
       "      <td>1</td>\n",
       "      <td>2023</td>\n",
       "      <td>1</td>\n",
       "      <td>-1</td>\n",
       "    </tr>\n",
       "    <tr>\n",
       "      <th>2890</th>\n",
       "      <td>https://www.instagram.com/p/CnAeWX8hyF7/</td>\n",
       "      <td>costacoffee</td>\n",
       "      <td>2023-01-04</td>\n",
       "      <td>3359.0</td>\n",
       "      <td>430000.0</td>\n",
       "      <td>0.007812</td>\n",
       "      <td>1</td>\n",
       "      <td>2023</td>\n",
       "      <td>1</td>\n",
       "      <td>1</td>\n",
       "    </tr>\n",
       "    <tr>\n",
       "      <th>2889</th>\n",
       "      <td>https://www.instagram.com/p/CnDB8PkBfw_/</td>\n",
       "      <td>costacoffee</td>\n",
       "      <td>2023-01-05</td>\n",
       "      <td>37910.0</td>\n",
       "      <td>430000.0</td>\n",
       "      <td>0.088163</td>\n",
       "      <td>1</td>\n",
       "      <td>2023</td>\n",
       "      <td>1</td>\n",
       "      <td>1</td>\n",
       "    </tr>\n",
       "    <tr>\n",
       "      <th>2888</th>\n",
       "      <td>https://www.instagram.com/p/CnKGYoEMemU/</td>\n",
       "      <td>costacoffee</td>\n",
       "      <td>2023-01-08</td>\n",
       "      <td>1361.0</td>\n",
       "      <td>430000.0</td>\n",
       "      <td>0.003165</td>\n",
       "      <td>1</td>\n",
       "      <td>2023</td>\n",
       "      <td>1</td>\n",
       "      <td>0</td>\n",
       "    </tr>\n",
       "    <tr>\n",
       "      <th>...</th>\n",
       "      <td>...</td>\n",
       "      <td>...</td>\n",
       "      <td>...</td>\n",
       "      <td>...</td>\n",
       "      <td>...</td>\n",
       "      <td>...</td>\n",
       "      <td>...</td>\n",
       "      <td>...</td>\n",
       "      <td>...</td>\n",
       "      <td>...</td>\n",
       "    </tr>\n",
       "    <tr>\n",
       "      <th>2463</th>\n",
       "      <td>https://www.instagram.com/p/DHL0oNLKME0/</td>\n",
       "      <td>costacoffee</td>\n",
       "      <td>2025-03-14</td>\n",
       "      <td>703.0</td>\n",
       "      <td>430000.0</td>\n",
       "      <td>0.001635</td>\n",
       "      <td>3</td>\n",
       "      <td>2025</td>\n",
       "      <td>1</td>\n",
       "      <td>-1</td>\n",
       "    </tr>\n",
       "    <tr>\n",
       "      <th>2462</th>\n",
       "      <td>https://www.instagram.com/p/DHtQChnKUGt/</td>\n",
       "      <td>costacoffee</td>\n",
       "      <td>2025-03-27</td>\n",
       "      <td>440.0</td>\n",
       "      <td>430000.0</td>\n",
       "      <td>0.001023</td>\n",
       "      <td>3</td>\n",
       "      <td>2025</td>\n",
       "      <td>1</td>\n",
       "      <td>-1</td>\n",
       "    </tr>\n",
       "    <tr>\n",
       "      <th>2461</th>\n",
       "      <td>https://www.instagram.com/p/DIT_nTxhSr-/</td>\n",
       "      <td>costacoffee</td>\n",
       "      <td>2025-04-11</td>\n",
       "      <td>501.0</td>\n",
       "      <td>430000.0</td>\n",
       "      <td>0.001165</td>\n",
       "      <td>4</td>\n",
       "      <td>2025</td>\n",
       "      <td>2</td>\n",
       "      <td>-1</td>\n",
       "    </tr>\n",
       "    <tr>\n",
       "      <th>2460</th>\n",
       "      <td>https://www.instagram.com/p/DIlOc3utoOc/</td>\n",
       "      <td>costacoffee</td>\n",
       "      <td>2025-04-18</td>\n",
       "      <td>498.0</td>\n",
       "      <td>430000.0</td>\n",
       "      <td>0.001158</td>\n",
       "      <td>4</td>\n",
       "      <td>2025</td>\n",
       "      <td>2</td>\n",
       "      <td>-1</td>\n",
       "    </tr>\n",
       "    <tr>\n",
       "      <th>2459</th>\n",
       "      <td>https://www.instagram.com/p/DIye63iNPc_/</td>\n",
       "      <td>costacoffee</td>\n",
       "      <td>2025-04-24</td>\n",
       "      <td>960.0</td>\n",
       "      <td>430000.0</td>\n",
       "      <td>0.002233</td>\n",
       "      <td>4</td>\n",
       "      <td>2025</td>\n",
       "      <td>2</td>\n",
       "      <td>0</td>\n",
       "    </tr>\n",
       "  </tbody>\n",
       "</table>\n",
       "<p>433 rows × 10 columns</p>\n",
       "</div>"
      ],
      "text/plain": [
       "                                              post_link         cafe  \\\n",
       "2892  https://www.instagram.com/p/Cm3XRm5soUL/?img_i...  costacoffee   \n",
       "2891           https://www.instagram.com/p/Cm9kKVGvuQs/  costacoffee   \n",
       "2890           https://www.instagram.com/p/CnAeWX8hyF7/  costacoffee   \n",
       "2889           https://www.instagram.com/p/CnDB8PkBfw_/  costacoffee   \n",
       "2888           https://www.instagram.com/p/CnKGYoEMemU/  costacoffee   \n",
       "...                                                 ...          ...   \n",
       "2463           https://www.instagram.com/p/DHL0oNLKME0/  costacoffee   \n",
       "2462           https://www.instagram.com/p/DHtQChnKUGt/  costacoffee   \n",
       "2461           https://www.instagram.com/p/DIT_nTxhSr-/  costacoffee   \n",
       "2460           https://www.instagram.com/p/DIlOc3utoOc/  costacoffee   \n",
       "2459           https://www.instagram.com/p/DIye63iNPc_/  costacoffee   \n",
       "\n",
       "     day_posted  n_likes  followers       var  month  year  trimester  q  \n",
       "2892 2023-01-01   1317.0   430000.0  0.003063      1  2023          1  0  \n",
       "2891 2023-01-03    762.0   430000.0  0.001772      1  2023          1 -1  \n",
       "2890 2023-01-04   3359.0   430000.0  0.007812      1  2023          1  1  \n",
       "2889 2023-01-05  37910.0   430000.0  0.088163      1  2023          1  1  \n",
       "2888 2023-01-08   1361.0   430000.0  0.003165      1  2023          1  0  \n",
       "...         ...      ...        ...       ...    ...   ...        ... ..  \n",
       "2463 2025-03-14    703.0   430000.0  0.001635      3  2025          1 -1  \n",
       "2462 2025-03-27    440.0   430000.0  0.001023      3  2025          1 -1  \n",
       "2461 2025-04-11    501.0   430000.0  0.001165      4  2025          2 -1  \n",
       "2460 2025-04-18    498.0   430000.0  0.001158      4  2025          2 -1  \n",
       "2459 2025-04-24    960.0   430000.0  0.002233      4  2025          2  0  \n",
       "\n",
       "[433 rows x 10 columns]"
      ]
     },
     "execution_count": 11,
     "metadata": {},
     "output_type": "execute_result"
    }
   ],
   "source": [
    "costa = final[final['cafe']=='costacoffee']\n",
    "\n",
    "def fun(x):\n",
    "    if x < costa[\"var\"].quantile(0.5):\n",
    "        return -1\n",
    "    #elif x < costa[\"var\"].quantile(0.5):\n",
    "    #    return 1\n",
    "    elif x < costa[\"var\"].quantile(0.75) + 1.5*(costa[\"var\"].quantile(0.75) - costa[\"var\"].quantile(0.25)):\n",
    "        return 0\n",
    "    else:\n",
    "        return 1\n",
    "\n",
    "costa['q'] = costa['var'].apply(lambda x: fun(x))\n",
    "costa"
   ]
  },
  {
   "cell_type": "code",
   "execution_count": 12,
   "id": "65748d22",
   "metadata": {},
   "outputs": [
    {
     "data": {
      "application/vnd.plotly.v1+json": {
       "config": {
        "plotlyServerURL": "https://plot.ly"
       },
       "data": [
        {
         "customdata": [
          [
           "https://www.instagram.com/p/Cm3XRm5soUL/?img_index=1",
           0
          ],
          [
           "https://www.instagram.com/p/CnKGYoEMemU/",
           0
          ],
          [
           "https://www.instagram.com/p/CnNG7akh4te/",
           0
          ],
          [
           "https://www.instagram.com/p/CnSYLRnB3xm/",
           0
          ],
          [
           "https://www.instagram.com/p/CnaE0ZbhEIi/",
           0
          ],
          [
           "https://www.instagram.com/p/CnfGFtghHCa/",
           0
          ],
          [
           "https://www.instagram.com/p/CnmsjJgukja/",
           0
          ],
          [
           "https://www.instagram.com/p/CnuriRoBQBd/",
           0
          ],
          [
           "https://www.instagram.com/p/CnxED05MSj1/",
           0
          ],
          [
           "https://www.instagram.com/p/CnzA7JUq8MR/",
           0
          ],
          [
           "https://www.instagram.com/p/Cn2OVwlsdDH/",
           0
          ],
          [
           "https://www.instagram.com/p/Cn6h3y2KqFM/",
           0
          ],
          [
           "https://www.instagram.com/p/Cn9lYI8spHj/",
           0
          ],
          [
           "https://www.instagram.com/p/CoAMeC0MP2d/",
           0
          ],
          [
           "https://www.instagram.com/p/CoDcmY_q763/",
           0
          ],
          [
           "https://www.instagram.com/p/CoINPSUK7yz/",
           0
          ],
          [
           "https://www.instagram.com/p/CodHzkjqV_T/",
           0
          ],
          [
           "https://www.instagram.com/p/CoerroaLeAx/",
           0
          ],
          [
           "https://www.instagram.com/p/Cok1nZSuNYE/",
           0
          ],
          [
           "https://www.instagram.com/p/CopQXCDKcLu/",
           0
          ],
          [
           "https://www.instagram.com/p/CouAyQSKCIh/",
           0
          ],
          [
           "https://www.instagram.com/p/CpDnTNfqeKM/",
           0
          ],
          [
           "https://www.instagram.com/p/CpKZAFfKcUW/",
           0
          ],
          [
           "https://www.instagram.com/p/CpfvCOwN-bG/",
           0
          ],
          [
           "https://www.instagram.com/p/CpkNvVSqJLv/",
           0
          ],
          [
           "https://www.instagram.com/p/Cpmr2oEqrhu/",
           0
          ],
          [
           "https://www.instagram.com/p/Cpuau4dPtev/",
           0
          ],
          [
           "https://www.instagram.com/p/Cp48ynwKbRL/",
           0
          ],
          [
           "https://www.instagram.com/p/Cp8jYEWK19M/",
           0
          ],
          [
           "https://www.instagram.com/p/CqQ9-EzKGp7/",
           0
          ],
          [
           "https://www.instagram.com/p/CqdtwqcKwCw/",
           0
          ],
          [
           "https://www.instagram.com/p/CqjELCkKKU5/",
           0
          ],
          [
           "https://www.instagram.com/p/CqoBlZshOrT/?img_index=1",
           0
          ],
          [
           "https://www.instagram.com/p/CqvWxXyqjIc/",
           0
          ],
          [
           "https://www.instagram.com/p/Cq3UZzyKqEN/",
           0
          ],
          [
           "https://www.instagram.com/p/Cq_PVeRM0co/",
           0
          ],
          [
           "https://www.instagram.com/p/CrJejJhgpAc/",
           0
          ],
          [
           "https://www.instagram.com/p/CrMCigmq01S/",
           0
          ],
          [
           "https://www.instagram.com/p/CrRMsDMLt8_/?img_index=1",
           0
          ],
          [
           "https://www.instagram.com/p/CrY9KPRqJzO/",
           0
          ],
          [
           "https://www.instagram.com/p/CrgUJP7LzjH/",
           0
          ],
          [
           "https://www.instagram.com/p/CrrBa2FRq-y/?img_index=1",
           0
          ],
          [
           "https://www.instagram.com/p/Cryuc-0qyvu/",
           0
          ],
          [
           "https://www.instagram.com/p/Cr1UjyvKDii/",
           0
          ],
          [
           "https://www.instagram.com/p/Cr5bOklsXdS/",
           0
          ],
          [
           "https://www.instagram.com/p/Cr88ct2N7K9/",
           0
          ],
          [
           "https://www.instagram.com/p/CsI-p9Iqe4B/",
           0
          ],
          [
           "https://www.instagram.com/p/CsZMa-EOC2D/",
           0
          ],
          [
           "https://www.instagram.com/p/CshKcWDKvff/",
           0
          ],
          [
           "https://www.instagram.com/p/CsqWHAfKXEa/",
           0
          ],
          [
           "https://www.instagram.com/p/CswIqgEteUM/",
           0
          ],
          [
           "https://www.instagram.com/p/Cs_fRZosNb_/",
           0
          ],
          [
           "https://www.instagram.com/p/CtGn293KPjF/",
           0
          ],
          [
           "https://www.instagram.com/p/CtRiiQFsBbU/",
           0
          ],
          [
           "https://www.instagram.com/p/CtcXOOVKhUC/",
           0
          ],
          [
           "https://www.instagram.com/p/CtpO7FQqL1p/",
           0
          ],
          [
           "https://www.instagram.com/p/CtrXL8xse7y/",
           0
          ],
          [
           "https://www.instagram.com/p/Ct0-SxPKCxj/",
           0
          ],
          [
           "https://www.instagram.com/p/CuFDeaYq3pn/",
           0
          ],
          [
           "https://www.instagram.com/p/CuXZRhzKTbe/",
           0
          ],
          [
           "https://www.instagram.com/p/CucUkPFMv3C/",
           0
          ],
          [
           "https://www.instagram.com/p/CuhcHvQsexy/",
           0
          ],
          [
           "https://www.instagram.com/p/CukSjFtqpt0/",
           0
          ],
          [
           "https://www.instagram.com/p/CumvpcgqhLm/",
           0
          ],
          [
           "https://www.instagram.com/p/CusbaOVqzRF/",
           0
          ],
          [
           "https://www.instagram.com/p/CuwKUJbqFUm/",
           0
          ],
          [
           "https://www.instagram.com/p/CvCKN4sKSsA/",
           0
          ],
          [
           "https://www.instagram.com/p/CvIaGeCKqOk/",
           0
          ],
          [
           "https://www.instagram.com/p/CvPFOBkqBAr/",
           0
          ],
          [
           "https://www.instagram.com/p/CvU3vHsqIjz/",
           0
          ],
          [
           "https://www.instagram.com/p/Cv-kbFFKDT7/",
           0
          ],
          [
           "https://www.instagram.com/p/CwTIz-5K33e/",
           0
          ],
          [
           "https://www.instagram.com/p/CwXEtdtq66Q/",
           0
          ],
          [
           "https://www.instagram.com/p/CwYHoJ_KDc8/",
           0
          ],
          [
           "https://www.instagram.com/p/Cwu8Sp5sV5z/?img_index=1",
           0
          ],
          [
           "https://www.instagram.com/p/Cw7G7G8NpqN/",
           0
          ],
          [
           "https://www.instagram.com/p/CxGPYK8ssU0/?img_index=1",
           0
          ],
          [
           "https://www.instagram.com/p/CxTV4JIs4PW/?img_index=1",
           0
          ],
          [
           "https://www.instagram.com/p/CxkI5IvKngj/",
           0
          ],
          [
           "https://www.instagram.com/p/Cx2Qs52q9PQ/",
           0
          ],
          [
           "https://www.instagram.com/p/Cx57BIhqpnM/",
           0
          ],
          [
           "https://www.instagram.com/p/CyAjq3HKJki/",
           0
          ],
          [
           "https://www.instagram.com/p/CyKyZFdqyOv/",
           0
          ],
          [
           "https://www.instagram.com/p/CyVSaRNqRkY/",
           0
          ],
          [
           "https://www.instagram.com/p/CyWJc3JPY9L/",
           0
          ],
          [
           "https://www.instagram.com/p/CyvFkgtKeG4/",
           0
          ],
          [
           "https://www.instagram.com/p/Cy0T0udqejH/",
           0
          ],
          [
           "https://www.instagram.com/p/Cy0-6R5Lcm6/",
           0
          ],
          [
           "https://www.instagram.com/p/Cy43FuouUSn/",
           0
          ],
          [
           "https://www.instagram.com/p/Cy_D223M-m3/",
           0
          ],
          [
           "https://www.instagram.com/p/CzV6BTgMfmG/",
           0
          ],
          [
           "https://www.instagram.com/p/CzY0qC2K2EV/",
           0
          ],
          [
           "https://www.instagram.com/p/CzcBvooKuXM/",
           0
          ],
          [
           "https://www.instagram.com/p/Czgn7J1MsRp/",
           0
          ],
          [
           "https://www.instagram.com/p/CzqShxUKncC/",
           0
          ],
          [
           "https://www.instagram.com/p/Cz1qV80qO4O/",
           0
          ],
          [
           "https://www.instagram.com/p/Cz8YFk9KL4A/",
           0
          ],
          [
           "https://www.instagram.com/p/C0CeOwcKAST/",
           0
          ],
          [
           "https://www.instagram.com/p/C0kCblHKHXS/",
           0
          ],
          [
           "https://www.instagram.com/p/C0qm8aPqHIC/",
           0
          ],
          [
           "https://www.instagram.com/p/C0znofVKsxE/",
           0
          ],
          [
           "https://www.instagram.com/p/C1IF-W9qZPT/",
           0
          ],
          [
           "https://www.instagram.com/p/C1cbk6RMDkE/",
           0
          ],
          [
           "https://www.instagram.com/p/C1rCa2SqL9q/",
           0
          ],
          [
           "https://www.instagram.com/p/C1uzFUwKSLk/",
           0
          ],
          [
           "https://www.instagram.com/p/C1y6hHAqwJG/",
           0
          ],
          [
           "https://www.instagram.com/p/C2ExOt6KHeF/",
           0
          ],
          [
           "https://www.instagram.com/p/C2VA0-kM_6M/",
           0
          ],
          [
           "https://www.instagram.com/p/C2kW3UGN01X/",
           0
          ],
          [
           "https://www.instagram.com/p/C2xUQkoKs4v/",
           0
          ],
          [
           "https://www.instagram.com/p/C27Al7TK_In/",
           0
          ],
          [
           "https://www.instagram.com/p/C3D4rzfKsE5/",
           0
          ],
          [
           "https://www.instagram.com/p/C3FYPcNNNga/",
           0
          ],
          [
           "https://www.instagram.com/p/C3YTIGcugvG/",
           0
          ],
          [
           "https://www.instagram.com/p/C3YgIQTqMu6/",
           0
          ],
          [
           "https://www.instagram.com/p/C3iqxQfKz-T/",
           0
          ],
          [
           "https://www.instagram.com/p/C38iGuYPKWY/",
           0
          ],
          [
           "https://www.instagram.com/p/C4BOkOdOzkx/",
           0
          ],
          [
           "https://www.instagram.com/p/C4JdOS4A_pu/",
           0
          ],
          [
           "https://www.instagram.com/p/C4RJdudK7ou/",
           0
          ],
          [
           "https://www.instagram.com/p/C4U-HFGK9Ug/",
           0
          ],
          [
           "https://www.instagram.com/p/C4YFEZZI2Cm/",
           0
          ],
          [
           "https://www.instagram.com/p/C4bfUzOqDCC/",
           0
          ],
          [
           "https://www.instagram.com/p/C5LD3Uouz_u/",
           0
          ],
          [
           "https://www.instagram.com/p/C5a1H-FKlRZ/?img_index=1",
           0
          ],
          [
           "https://www.instagram.com/p/C5s3zoNN0YM/",
           0
          ],
          [
           "https://www.instagram.com/p/C6EDuOBqed4/",
           0
          ],
          [
           "https://www.instagram.com/p/C6LtdSHsgNK/?img_index=1",
           0
          ],
          [
           "https://www.instagram.com/p/C6PEgynqn8E/",
           0
          ],
          [
           "https://www.instagram.com/p/C6ZZLVEL9RB/",
           0
          ],
          [
           "https://www.instagram.com/p/C6doQ3aqiWk/",
           0
          ],
          [
           "https://www.instagram.com/p/C6zToCcN5yC/",
           0
          ],
          [
           "https://www.instagram.com/p/C61hIkEKu6i/",
           0
          ],
          [
           "https://www.instagram.com/p/C631H0hK6Cb/",
           0
          ],
          [
           "https://www.instagram.com/p/C7CJTWNKAYz/",
           0
          ],
          [
           "https://www.instagram.com/p/C7G3CBaK70e/",
           0
          ],
          [
           "https://www.instagram.com/p/C7LzOECKlLb/",
           0
          ],
          [
           "https://www.instagram.com/p/C7UK6MBKT_q/",
           0
          ],
          [
           "https://www.instagram.com/p/C7hmcI2KlhZ/",
           0
          ],
          [
           "https://www.instagram.com/p/C8pCR7qolVy/",
           0
          ],
          [
           "https://www.instagram.com/p/C8t-0qBKrNa/",
           0
          ],
          [
           "https://www.instagram.com/p/C8wSBKsqLYw/",
           0
          ],
          [
           "https://www.instagram.com/p/C8ysphGKIOC/",
           0
          ],
          [
           "https://www.instagram.com/p/C9KwAslKBzV/",
           0
          ],
          [
           "https://www.instagram.com/p/C9PedSAqacR/",
           0
          ],
          [
           "https://www.instagram.com/p/C9X4V7uNTVd/",
           0
          ],
          [
           "https://www.instagram.com/p/C9XNV1bqktl/",
           0
          ],
          [
           "https://www.instagram.com/p/C9xJBWhNNuL/",
           0
          ],
          [
           "https://www.instagram.com/p/C9xaNfiqtTu/",
           0
          ],
          [
           "https://www.instagram.com/p/C92Lt7dNRv9/",
           0
          ],
          [
           "https://www.instagram.com/p/C-BPBv_K8LE/",
           0
          ],
          [
           "https://www.instagram.com/p/C-I1s_cpkA0/",
           0
          ],
          [
           "https://www.instagram.com/p/C-YXYzwKJbN/",
           0
          ],
          [
           "https://www.instagram.com/p/C_BJ7t0oouC/",
           0
          ],
          [
           "https://www.instagram.com/p/C_bUMDdKtP6/",
           0
          ],
          [
           "https://www.instagram.com/p/C_iHZP2qdnf/",
           0
          ],
          [
           "https://www.instagram.com/p/C_i08tbMBLQ/",
           0
          ],
          [
           "https://www.instagram.com/p/C_nxXltPL8s/",
           0
          ],
          [
           "https://www.instagram.com/p/C_vTSzZMJw8/",
           0
          ],
          [
           "https://www.instagram.com/p/DAJDiavM_ZR/",
           0
          ],
          [
           "https://www.instagram.com/p/DAJvlodp7A2/?img_index=1",
           0
          ],
          [
           "https://www.instagram.com/p/DAVO-HTq7du/",
           0
          ],
          [
           "https://www.instagram.com/p/DAZEgjPPjP7/",
           0
          ],
          [
           "https://www.instagram.com/p/DAlYpXDMBKU/",
           0
          ],
          [
           "https://www.instagram.com/p/DA-14T4q9Dd/",
           0
          ],
          [
           "https://www.instagram.com/p/DBj2XZnK8dv/",
           0
          ],
          [
           "https://www.instagram.com/p/DCFamiXqda6/",
           0
          ],
          [
           "https://www.instagram.com/p/DCJIhOhoHQH/",
           0
          ],
          [
           "https://www.instagram.com/p/DCJughoAG7O/",
           0
          ],
          [
           "https://www.instagram.com/p/DCM01X-q_Sr/",
           0
          ],
          [
           "https://www.instagram.com/p/DCtfxL3IaTD/?img_index=1",
           0
          ],
          [
           "https://www.instagram.com/p/DC69eacMjn5/?img_index=1",
           0
          ],
          [
           "https://www.instagram.com/p/DC_1TESs2sV/?img_index=1",
           0
          ],
          [
           "https://www.instagram.com/p/DD_tsoqsLWo/",
           0
          ],
          [
           "https://www.instagram.com/p/DEQEzE2qxvP/",
           0
          ],
          [
           "https://www.instagram.com/p/DER4Q8qtb83/",
           0
          ],
          [
           "https://www.instagram.com/p/DEVNnI_JbKs/?img_index=1",
           0
          ],
          [
           "https://www.instagram.com/p/DEprmLqNK4w/",
           0
          ],
          [
           "https://www.instagram.com/p/DF2Lzg5K2BX/",
           0
          ],
          [
           "https://www.instagram.com/p/DIye63iNPc_/",
           0
          ]
         ],
         "hovertemplate": "q=%{customdata[1]}<br>Date=%{x}<br>Ratio between Likes and Followers=%{y}<br>post_link=%{customdata[0]}<extra></extra>",
         "legendgroup": "0",
         "line": {
          "color": "#636efa",
          "dash": "solid"
         },
         "marker": {
          "symbol": "circle"
         },
         "mode": "lines",
         "name": "0",
         "orientation": "v",
         "showlegend": true,
         "type": "scatter",
         "x": [
          "2023-01-01T00:00:00",
          "2023-01-08T00:00:00",
          "2023-01-09T00:00:00",
          "2023-01-11T00:00:00",
          "2023-01-14T00:00:00",
          "2023-01-16T00:00:00",
          "2023-01-19T00:00:00",
          "2023-01-22T00:00:00",
          "2023-01-23T00:00:00",
          "2023-01-24T00:00:00",
          "2023-01-25T00:00:00",
          "2023-01-27T00:00:00",
          "2023-01-28T00:00:00",
          "2023-01-29T00:00:00",
          "2023-01-30T00:00:00",
          "2023-02-01T00:00:00",
          "2023-02-09T00:00:00",
          "2023-02-10T00:00:00",
          "2023-02-12T00:00:00",
          "2023-02-14T00:00:00",
          "2023-02-16T00:00:00",
          "2023-02-24T00:00:00",
          "2023-02-27T00:00:00",
          "2023-03-07T00:00:00",
          "2023-03-09T00:00:00",
          "2023-03-10T00:00:00",
          "2023-03-13T00:00:00",
          "2023-03-17T00:00:00",
          "2023-03-18T00:00:00",
          "2023-03-26T00:00:00",
          "2023-03-31T00:00:00",
          "2023-04-02T00:00:00",
          "2023-04-04T00:00:00",
          "2023-04-07T00:00:00",
          "2023-04-10T00:00:00",
          "2023-04-13T00:00:00",
          "2023-04-17T00:00:00",
          "2023-04-18T00:00:00",
          "2023-04-20T00:00:00",
          "2023-04-23T00:00:00",
          "2023-04-26T00:00:00",
          "2023-04-30T00:00:00",
          "2023-05-03T00:00:00",
          "2023-05-04T00:00:00",
          "2023-05-06T00:00:00",
          "2023-05-07T00:00:00",
          "2023-05-12T00:00:00",
          "2023-05-18T00:00:00",
          "2023-05-21T00:00:00",
          "2023-05-25T00:00:00",
          "2023-05-27T00:00:00",
          "2023-06-02T00:00:00",
          "2023-06-05T00:00:00",
          "2023-06-09T00:00:00",
          "2023-06-13T00:00:00",
          "2023-06-18T00:00:00",
          "2023-06-19T00:00:00",
          "2023-06-23T00:00:00",
          "2023-06-29T00:00:00",
          "2023-07-06T00:00:00",
          "2023-07-08T00:00:00",
          "2023-07-10T00:00:00",
          "2023-07-11T00:00:00",
          "2023-07-12T00:00:00",
          "2023-07-14T00:00:00",
          "2023-07-16T00:00:00",
          "2023-07-23T00:00:00",
          "2023-07-25T00:00:00",
          "2023-07-28T00:00:00",
          "2023-07-30T00:00:00",
          "2023-08-15T00:00:00",
          "2023-08-23T00:00:00",
          "2023-08-25T00:00:00",
          "2023-08-25T00:00:00",
          "2023-09-03T00:00:00",
          "2023-09-08T00:00:00",
          "2023-09-12T00:00:00",
          "2023-09-17T00:00:00",
          "2023-09-24T00:00:00",
          "2023-10-01T00:00:00",
          "2023-10-02T00:00:00",
          "2023-10-05T00:00:00",
          "2023-10-09T00:00:00",
          "2023-10-13T00:00:00",
          "2023-10-13T00:00:00",
          "2023-10-23T00:00:00",
          "2023-10-25T00:00:00",
          "2023-10-25T00:00:00",
          "2023-10-27T00:00:00",
          "2023-10-29T00:00:00",
          "2023-11-07T00:00:00",
          "2023-11-08T00:00:00",
          "2023-11-09T00:00:00",
          "2023-11-11T00:00:00",
          "2023-11-15T00:00:00",
          "2023-11-19T00:00:00",
          "2023-11-22T00:00:00",
          "2023-11-24T00:00:00",
          "2023-12-07T00:00:00",
          "2023-12-10T00:00:00",
          "2023-12-13T00:00:00",
          "2023-12-21T00:00:00",
          "2023-12-29T00:00:00",
          "2024-01-04T00:00:00",
          "2024-01-05T00:00:00",
          "2024-01-07T00:00:00",
          "2024-01-14T00:00:00",
          "2024-01-20T00:00:00",
          "2024-01-26T00:00:00",
          "2024-01-31T00:00:00",
          "2024-02-04T00:00:00",
          "2024-02-07T00:00:00",
          "2024-02-08T00:00:00",
          "2024-02-15T00:00:00",
          "2024-02-15T00:00:00",
          "2024-02-19T00:00:00",
          "2024-02-29T00:00:00",
          "2024-03-02T00:00:00",
          "2024-03-05T00:00:00",
          "2024-03-08T00:00:00",
          "2024-03-10T00:00:00",
          "2024-03-11T00:00:00",
          "2024-03-12T00:00:00",
          "2024-03-31T00:00:00",
          "2024-04-06T00:00:00",
          "2024-04-13T00:00:00",
          "2024-04-22T00:00:00",
          "2024-04-25T00:00:00",
          "2024-04-26T00:00:00",
          "2024-04-30T00:00:00",
          "2024-05-02T00:00:00",
          "2024-05-10T00:00:00",
          "2024-05-11T00:00:00",
          "2024-05-12T00:00:00",
          "2024-05-16T00:00:00",
          "2024-05-18T00:00:00",
          "2024-05-20T00:00:00",
          "2024-05-23T00:00:00",
          "2024-05-28T00:00:00",
          "2024-06-25T00:00:00",
          "2024-06-27T00:00:00",
          "2024-06-28T00:00:00",
          "2024-06-29T00:00:00",
          "2024-07-08T00:00:00",
          "2024-07-10T00:00:00",
          "2024-07-13T00:00:00",
          "2024-07-13T00:00:00",
          "2024-07-23T00:00:00",
          "2024-07-23T00:00:00",
          "2024-07-25T00:00:00",
          "2024-07-29T00:00:00",
          "2024-08-01T00:00:00",
          "2024-08-07T00:00:00",
          "2024-08-23T00:00:00",
          "2024-09-02T00:00:00",
          "2024-09-05T00:00:00",
          "2024-09-05T00:00:00",
          "2024-09-07T00:00:00",
          "2024-09-10T00:00:00",
          "2024-09-20T00:00:00",
          "2024-09-20T00:00:00",
          "2024-09-25T00:00:00",
          "2024-09-26T00:00:00",
          "2024-10-01T00:00:00",
          "2024-10-11T00:00:00",
          "2024-10-25T00:00:00",
          "2024-11-07T00:00:00",
          "2024-11-09T00:00:00",
          "2024-11-09T00:00:00",
          "2024-11-10T00:00:00",
          "2024-11-23T00:00:00",
          "2024-11-28T00:00:00",
          "2024-11-30T00:00:00",
          "2024-12-25T00:00:00",
          "2024-12-31T00:00:00",
          "2025-01-01T00:00:00",
          "2025-01-02T00:00:00",
          "2025-01-10T00:00:00",
          "2025-02-09T00:00:00",
          "2025-04-24T00:00:00"
         ],
         "xaxis": "x",
         "y": {
          "bdata": "qzAxPCMXaT/KNQPduu1pP9v6kyPrSXA/5cHnAj0Baj/nv4ounsZ3P9IEMufD3nI/81vxMpSOeD+g6gvHIH1wP1FENOM8mGY/V70hXlJbdz+kOpyduhtjP8y2/uTIenI/k6QZtF9zcD/fdd5yn0djP9Cu8FfQsGo/E2HD0ytleT/CvnI2RGV7PxQ4M81usGI/Tsnpk4iaYz+hOs//+6t7P9b+Tcwov2Q/mpquUshudj8ldhdTN/BqPxK3N8VgI2o/1ao2r5I7Zj9kAxRxE2VnP1QV8yMmVGo/eRYLHIC1Zj8ulzMIebpoP8Dv3We4U3E/6D5cxE6pdj9PHQGxHh5yP+VrcxEIQ2k/vMjdl9tpdT/8pZ3ukg1tP6IPFYfhTGs//tAkBWzcZD+1pWQO+2RlP/E0vgB2FGQ/HSxrlzhxZj8IcRJQXolxP1RC1w6eXWQ/x+NIlMOkbT+Vnmj7BeR6P5sZgOh4UXU/rQMa72l9dj8p8WGi6+19P07J6ZOImnM/g2CEdT2kcj/lmFf8f0xjP8IU5yd5I2w/p+CgZYl4dj+KWEOGA0piP69VB5qiVms/Hf+GrMBnbD8Ib+jdAN9nP6hfcvs5W2U/yQ7QqpxzZT8S5Buw2Cx0P+FzgZ4ADXE/KxzpuMS8dT8ahDxdDGppP49QNfkKgGo/vpmc2MQlaT/ziNUdDJhiP47TjdW3R3U/pYpf1pVKbj9hMlUwKqljP6Q6nJ26G2M/TR9ehb1YdD/pE6JLNEp2P7pLNnSIMXA/6jrVfVLEaj9wyAp8xuFuPz7byEabiXY/19Fp4bC1aj8n9xJbRX1jP9yi9b9Y4XU/f2ZokNjDcD8HxVzPNZ1oP3LGracnp2w/g7TO9BS4aT/g8oWW8n9oP3fv1+lhO2I/+/9lxIIgcT/zW/EylI5oP104OUvFyHE/Pt3yuPgzcD+y/TXUzl1oP6yGcssWRXE/pmHPz9iVdz9jhmxNwCxiP3DMXmCBNnI/J59097IUeT9kLKR30BluP1plUJh+YnQ/G9p97P+XcT+Rd2grKfpuPynI0ZsuOWc/Z6tCqz9sdD+fPlZG+JB3P3RHqa81NGU//H43WjMDcD/2WZRe9VN2P3NwObby6Hs/8V94eZBzdD9Vlu4rNOFiP26h10moZ2o/Q1bgMw73cD9r0BgJv6tmP51AsxqXy2k/03+vmLlsbj8fKg7DmTZkPz6FVFVmy2U/E46nvqNuYz9kAxRxE2VnP/8kPCICYGM/JvXo6OfSeT9Vlu4rNOFiPxQLT+L2pmg/Obby6BtKZD98ZpvyGVR5P1TsYh1pn2M/M2aVdMM7aj9vItNRtvRiP6Zj+UE2QHE/7zYb1RRPZj89XiEjSFFxPzTnkHzRyGI/1ao2r5I7Zj9BWD0IrTFzPwDPxzDNoXI/VjwmVkTObj/JuFu5Z7VkP5eeNZnEU3I/N7hPvbqEZj+Z7vjRn4JtP66re4vXFGw/xjm9hfhibj9p/1nI1e9iP2QFPuNwD3E/mfJMtlrXcD9e4JrnMmBnP8GXPwQm62Y/TUoY/te3dD+w/5KobZhqP+g8MlLx/mw/hAjmEas7aD+ILbxvKntqP7GAjrB7JXM/Dr0b4PtCeD8r7wTOTLNrP86HvSWyNmY/Y4IYaQXYbj92GGjwHvBoP2CxWSgcHGs/r1cxDAABdT9PRpG329JoP4ewFEzXQmU/tXiAI4Nbez9jhmxNwCxiP+7iA7h+y2c/PFrNPo38bT+LK1+bi0B4P/WCJGWyCG0/nxFyW4CHfT9b5CEuL0VzPw0VukOOq2I/AM/HMM2hcj/b+GmxjZ92P60w/tnhhnA/g4fqCZ2ubz+Z7vjRn4JtP68sd5PloWQ/LHAA1lpAZD9wzF5ggTZiPyZNh0x6O2Q/Bce5o9TXaj9C07q5or9uP4pYQ4YDSmI/",
          "dtype": "f8"
         },
         "yaxis": "y"
        },
        {
         "customdata": [
          [
           "https://www.instagram.com/p/Cm9kKVGvuQs/",
           -1
          ],
          [
           "https://www.instagram.com/p/CnPgbbyhzhR/",
           -1
          ],
          [
           "https://www.instagram.com/p/CncMTFiOvVG/",
           -1
          ],
          [
           "https://www.instagram.com/p/CnhevWQh0-t/",
           -1
          ],
          [
           "https://www.instagram.com/p/CnkfqhqBW36/",
           -1
          ],
          [
           "https://www.instagram.com/p/CnpRGMOsfzo/",
           -1
          ],
          [
           "https://www.instagram.com/p/CnsOKMohGGJ/",
           -1
          ],
          [
           "https://www.instagram.com/p/CoS6fswKFrx/",
           -1
          ],
          [
           "https://www.instagram.com/p/CoiOVZYqXDr/",
           -1
          ],
          [
           "https://www.instagram.com/p/Co4AKWQOpAN/",
           -1
          ],
          [
           "https://www.instagram.com/p/Co-aqx2OEeC/",
           -1
          ],
          [
           "https://www.instagram.com/p/Cpcj9PPKHWG/",
           -1
          ],
          [
           "https://www.instagram.com/p/CpptJyNs_OD/",
           -1
          ],
          [
           "https://www.instagram.com/p/CptaHe4o28D/",
           -1
          ],
          [
           "https://www.instagram.com/p/CpxoLHBIBui/",
           -1
          ],
          [
           "https://www.instagram.com/p/CpzpALMAEXS/",
           -1
          ],
          [
           "https://www.instagram.com/p/CqFRJALqBqk/",
           -1
          ],
          [
           "https://www.instagram.com/p/CqYo7VSqG5G/",
           -1
          ],
          [
           "https://www.instagram.com/p/CqpueVLKsV3/",
           -1
          ],
          [
           "https://www.instagram.com/p/CqzpsIcq32e/",
           -1
          ],
          [
           "https://www.instagram.com/p/CrvhW9dKjq0/",
           -1
          ],
          [
           "https://www.instagram.com/p/Cr1HFUbo92i/",
           -1
          ],
          [
           "https://www.instagram.com/p/CsRSHbgJgIH/",
           -1
          ],
          [
           "https://www.instagram.com/p/CsirPV7KhoO/",
           -1
          ],
          [
           "https://www.instagram.com/p/Csl6CAwohC5/?img_index=1",
           -1
          ],
          [
           "https://www.instagram.com/p/CtMeJY0sMYY/",
           -1
          ],
          [
           "https://www.instagram.com/p/CtPc55ZgqlG/",
           -1
          ],
          [
           "https://www.instagram.com/p/CtXB3aegN9d/",
           -1
          ],
          [
           "https://www.instagram.com/p/CtjrEM9KB4d/",
           -1
          ],
          [
           "https://www.instagram.com/p/CtuJtC_PQp2/",
           -1
          ],
          [
           "https://www.instagram.com/p/Ctw_m4jqfYm/",
           -1
          ],
          [
           "https://www.instagram.com/p/Ct9ZN31MAPm/",
           -1
          ],
          [
           "https://www.instagram.com/p/CuB1O7qK2X6/",
           -1
          ],
          [
           "https://www.instagram.com/p/CuKmIFvKPbR/",
           -1
          ],
          [
           "https://www.instagram.com/p/CuST5X0KGBZ/",
           -1
          ],
          [
           "https://www.instagram.com/p/Cu43NxWqtaJ/",
           -1
          ],
          [
           "https://www.instagram.com/p/CvFs8KRK6dO/",
           -1
          ],
          [
           "https://www.instagram.com/p/CvXzIsoKKqM/",
           -1
          ],
          [
           "https://www.instagram.com/p/CwcNB4ZqLpE/",
           -1
          ],
          [
           "https://www.instagram.com/p/CwxVfiBqbAr/",
           -1
          ],
          [
           "https://www.instagram.com/p/Cw0fqlnNdu4/",
           -1
          ],
          [
           "https://www.instagram.com/p/Cw9j8Ujs-kA/",
           -1
          ],
          [
           "https://www.instagram.com/p/CxDoWBNKqi2/",
           -1
          ],
          [
           "https://www.instagram.com/p/CxLmh1ptcOF/",
           -1
          ],
          [
           "https://www.instagram.com/p/CxN7GZWNZZb/",
           -1
          ],
          [
           "https://www.instagram.com/p/CxNufBcqNUG/",
           -1
          ],
          [
           "https://www.instagram.com/p/CxOQSPoCeKh/",
           -1
          ],
          [
           "https://www.instagram.com/p/CxV8YIboxJf/",
           -1
          ],
          [
           "https://www.instagram.com/p/CxdqSM4MeQf/?img_index=1",
           -1
          ],
          [
           "https://www.instagram.com/p/CxxEWGyqMbf/",
           -1
          ],
          [
           "https://www.instagram.com/p/Cx-hE4ZIOoC/",
           -1
          ],
          [
           "https://www.instagram.com/p/CyHDhloqfGA/",
           -1
          ],
          [
           "https://www.instagram.com/p/CybgSHGNk4Y/",
           -1
          ],
          [
           "https://www.instagram.com/p/CyeB9HyK2R_/",
           -1
          ],
          [
           "https://www.instagram.com/p/CyfFi5Ysmhu/",
           -1
          ],
          [
           "https://www.instagram.com/p/Cy4FRwXKteL/",
           -1
          ],
          [
           "https://www.instagram.com/p/Cy6dC5XKJ3Y/",
           -1
          ],
          [
           "https://www.instagram.com/p/Cznw2YIKd3K/",
           -1
          ],
          [
           "https://www.instagram.com/p/C0ROXDqqntm/",
           -1
          ],
          [
           "https://www.instagram.com/p/C0e6HFBKvgJ/",
           -1
          ],
          [
           "https://www.instagram.com/p/C0pFks_Kc65/",
           -1
          ],
          [
           "https://www.instagram.com/p/C0w9SfMKq-e/",
           -1
          ],
          [
           "https://www.instagram.com/p/C06CAQIKtlW/",
           -1
          ],
          [
           "https://www.instagram.com/p/C08-9sjqMzn/",
           -1
          ],
          [
           "https://www.instagram.com/p/C1E5EqKKTnN/",
           -1
          ],
          [
           "https://www.instagram.com/p/C1MQArLM9kF/",
           -1
          ],
          [
           "https://www.instagram.com/p/C1PQJMEsFLh/",
           -1
          ],
          [
           "https://www.instagram.com/p/C1WA2V1sqja/",
           -1
          ],
          [
           "https://www.instagram.com/p/C1bjlw2ql9C/",
           -1
          ],
          [
           "https://www.instagram.com/p/C1_qCEHKibw/",
           -1
          ],
          [
           "https://www.instagram.com/p/C2LDbdtqFtu/",
           -1
          ],
          [
           "https://www.instagram.com/p/C2KQp8NKiP-/",
           -1
          ],
          [
           "https://www.instagram.com/p/C2dNFwHK780/",
           -1
          ],
          [
           "https://www.instagram.com/p/C2snrEDK-s0/",
           -1
          ],
          [
           "https://www.instagram.com/p/C2zuH7ELMvq/",
           -1
          ],
          [
           "https://www.instagram.com/p/C3GPrB6qRgT/",
           -1
          ],
          [
           "https://www.instagram.com/p/C3ONqIzK4Dt/",
           -1
          ],
          [
           "https://www.instagram.com/p/C3Pz-KLqxvY/",
           -1
          ],
          [
           "https://www.instagram.com/p/C3VK8qJKFX6/",
           -1
          ],
          [
           "https://www.instagram.com/p/C3UvWYIq9RK/",
           -1
          ],
          [
           "https://www.instagram.com/p/C3aURrQq-9b/",
           -1
          ],
          [
           "https://www.instagram.com/p/C3cqlhFKZ2H/",
           -1
          ],
          [
           "https://www.instagram.com/p/C30blD1qIUS/",
           -1
          ],
          [
           "https://www.instagram.com/p/C33PCiTqMgn/",
           -1
          ],
          [
           "https://www.instagram.com/p/C3_EVXTKUXr/",
           -1
          ],
          [
           "https://www.instagram.com/p/C4Djx0qKtIe/",
           -1
          ],
          [
           "https://www.instagram.com/p/C4c1OnqKfCF/",
           -1
          ],
          [
           "https://www.instagram.com/p/C4d8onNqNVR/",
           -1
          ],
          [
           "https://www.instagram.com/p/C4lpX-aqUQI/",
           -1
          ],
          [
           "https://www.instagram.com/p/C4oKgqsq9iF/",
           -1
          ],
          [
           "https://www.instagram.com/p/C4wCGPIqFK3/",
           -1
          ],
          [
           "https://www.instagram.com/p/C40hYdoqaif/",
           -1
          ],
          [
           "https://www.instagram.com/p/C46I8O5qqyX/",
           -1
          ],
          [
           "https://www.instagram.com/p/C481vKZqGoT/",
           -1
          ],
          [
           "https://www.instagram.com/p/C5GFfJbKtHy/",
           -1
          ],
          [
           "https://www.instagram.com/p/C5ImnOuKo7I/",
           -1
          ],
          [
           "https://www.instagram.com/p/C5S1KIPqVVN/",
           -1
          ],
          [
           "https://www.instagram.com/p/C5Vd7WOqIgd/",
           -1
          ],
          [
           "https://www.instagram.com/p/C5YOdcYKs2S/",
           -1
          ],
          [
           "https://www.instagram.com/p/C5gQ8GhKMi9/",
           -1
          ],
          [
           "https://www.instagram.com/p/C5lsbEAqt2p/",
           -1
          ],
          [
           "https://www.instagram.com/p/C5yjnhiNEvZ/",
           -1
          ],
          [
           "https://www.instagram.com/p/C589vGlq3JB/",
           -1
          ],
          [
           "https://www.instagram.com/p/C58IIUusBwA/?img_index=1",
           -1
          ],
          [
           "https://www.instagram.com/p/C6I6G__OAYS/",
           -1
          ],
          [
           "https://www.instagram.com/p/C6MMTC0qtfR/",
           -1
          ],
          [
           "https://www.instagram.com/p/C6R02cNynMZ/",
           -1
          ],
          [
           "https://www.instagram.com/p/C6VrXgAqOcb/",
           -1
          ],
          [
           "https://www.instagram.com/p/C6cC5H6KCIm/",
           -1
          ],
          [
           "https://www.instagram.com/p/C6i2GueK9DH/",
           -1
          ],
          [
           "https://www.instagram.com/p/C6oaPIZqv0R/",
           -1
          ],
          [
           "https://www.instagram.com/p/C6q95LQtGY1/",
           -1
          ],
          [
           "https://www.instagram.com/p/C6vg5CtKYr3/",
           -1
          ],
          [
           "https://www.instagram.com/p/C7EkKnONDCG/",
           -1
          ],
          [
           "https://www.instagram.com/p/C7M6aaXMAtx/",
           -1
          ],
          [
           "https://www.instagram.com/p/C7PX_w9KVgY/",
           -1
          ],
          [
           "https://www.instagram.com/p/C7cXjbbKbl_/",
           -1
          ],
          [
           "https://www.instagram.com/p/C7q5o8aqmxM/",
           -1
          ],
          [
           "https://www.instagram.com/p/C7yztPUKdzc/",
           -1
          ],
          [
           "https://www.instagram.com/p/C71VR-hKZTl/",
           -1
          ],
          [
           "https://www.instagram.com/p/C74QZWYKFfF/",
           -1
          ],
          [
           "https://www.instagram.com/p/C8DCU6HKolq/",
           -1
          ],
          [
           "https://www.instagram.com/p/C8Fa4fQqwBt/",
           -1
          ],
          [
           "https://www.instagram.com/p/C8Hs4ZGK8Au/",
           -1
          ],
          [
           "https://www.instagram.com/p/C8Jgdt8oiC0/",
           -1
          ],
          [
           "https://www.instagram.com/p/C8KFntWKVGM/",
           -1
          ],
          [
           "https://www.instagram.com/p/C8NQNCNK32X/",
           -1
          ],
          [
           "https://www.instagram.com/p/C8McSQzoCNh/",
           -1
          ],
          [
           "https://www.instagram.com/p/C8SlpCEq1e0/",
           -1
          ],
          [
           "https://www.instagram.com/p/C8XQGnvqC7N/",
           -1
          ],
          [
           "https://www.instagram.com/p/C8e_KQ8K2qT/",
           -1
          ],
          [
           "https://www.instagram.com/p/C8hAenBo7xI/?img_index=1",
           -1
          ],
          [
           "https://www.instagram.com/p/C85NXCEqXvP/",
           -1
          ],
          [
           "https://www.instagram.com/p/C8-Ei1AKZ0I/",
           -1
          ],
          [
           "https://www.instagram.com/p/C8953jtM6XA/?img_index=1",
           -1
          ],
          [
           "https://www.instagram.com/p/C9HlkTvKIEE/",
           -1
          ],
          [
           "https://www.instagram.com/p/C9MqGwCi8QH/",
           -1
          ],
          [
           "https://www.instagram.com/p/C9Uz4ibK6DA/",
           -1
          ],
          [
           "https://www.instagram.com/p/C9e3mijKmOv/",
           -1
          ],
          [
           "https://www.instagram.com/p/C9e3PciKlxm/",
           -1
          ],
          [
           "https://www.instagram.com/p/C9fHKf2tThz/",
           -1
          ],
          [
           "https://www.instagram.com/p/C9h7-QzN-lU/",
           -1
          ],
          [
           "https://www.instagram.com/p/C9nBq24K1T9/",
           -1
          ],
          [
           "https://www.instagram.com/p/C9zd2bHqcNq/",
           -1
          ],
          [
           "https://www.instagram.com/p/C93gIeMPURh/",
           -1
          ],
          [
           "https://www.instagram.com/p/C97Ve0dKQWB/",
           -1
          ],
          [
           "https://www.instagram.com/p/C-C8rWMKFN8/",
           -1
          ],
          [
           "https://www.instagram.com/p/C-DNbq_gqnx/",
           -1
          ],
          [
           "https://www.instagram.com/p/C-DhCH6J09l/",
           -1
          ],
          [
           "https://www.instagram.com/p/C-Ny_D3Kdxt/",
           -1
          ],
          [
           "https://www.instagram.com/p/C-PC4gaMuWI/",
           -1
          ],
          [
           "https://www.instagram.com/p/C-SLgiPKcq3/",
           -1
          ],
          [
           "https://www.instagram.com/p/C-VMMRrKeXa/",
           -1
          ],
          [
           "https://www.instagram.com/p/C-XcJrjK5XA/",
           -1
          ],
          [
           "https://www.instagram.com/p/C-lI1vNqnOg/",
           -1
          ],
          [
           "https://www.instagram.com/p/C-qtgOZKiFX/",
           -1
          ],
          [
           "https://www.instagram.com/p/C-vf0jsqrvv/",
           -1
          ],
          [
           "https://www.instagram.com/p/C-28d1cKfi3/",
           -1
          ],
          [
           "https://www.instagram.com/p/C-5UmahKHnG/",
           -1
          ],
          [
           "https://www.instagram.com/p/C_AlETjqGwC/",
           -1
          ],
          [
           "https://www.instagram.com/p/C_AfRErM89G/?img_index=1",
           -1
          ],
          [
           "https://www.instagram.com/p/C_KsRLBqNqR/",
           -1
          ],
          [
           "https://www.instagram.com/p/C_NSRMiKint/",
           -1
          ],
          [
           "https://www.instagram.com/p/C_OIeuMKhmH/",
           -1
          ],
          [
           "https://www.instagram.com/p/C_qKtisqHYL/",
           -1
          ],
          [
           "https://www.instagram.com/p/C_sfKH2Ka90/",
           -1
          ],
          [
           "https://www.instagram.com/p/C_xVx9YK3I-/",
           -1
          ],
          [
           "https://www.instagram.com/p/C_3mS2cvoV0/",
           -1
          ],
          [
           "https://www.instagram.com/p/C__UCFnKbE5/",
           -1
          ],
          [
           "https://www.instagram.com/p/DABVRN6sl-Y/",
           -1
          ],
          [
           "https://www.instagram.com/p/DAEHfneqe_A/",
           -1
          ],
          [
           "https://www.instagram.com/p/DAG_9nVt1np/",
           -1
          ],
          [
           "https://www.instagram.com/p/DARICd6K_8M/",
           -1
          ],
          [
           "https://www.instagram.com/p/DATPyLNsFV-/",
           -1
          ],
          [
           "https://www.instagram.com/p/DAg-91tq5Od/",
           -1
          ],
          [
           "https://www.instagram.com/p/DAgZ78pv_B1/",
           -1
          ],
          [
           "https://www.instagram.com/p/DAksnrnqZyn/",
           -1
          ],
          [
           "https://www.instagram.com/p/DAqkNVLNBH9/",
           -1
          ],
          [
           "https://www.instagram.com/p/DAtVLcmRxAQ/",
           -1
          ],
          [
           "https://www.instagram.com/p/DAvmsbHxivu/",
           -1
          ],
          [
           "https://www.instagram.com/p/DA3-P9ZqVzd/",
           -1
          ],
          [
           "https://www.instagram.com/p/DA6orxkKjR0/",
           -1
          ],
          [
           "https://www.instagram.com/p/DBCBzcwJfME/",
           -1
          ],
          [
           "https://www.instagram.com/p/DCgVtZQKeeE/",
           -1
          ],
          [
           "https://www.instagram.com/p/DChnmcAq3MI/",
           -1
          ],
          [
           "https://www.instagram.com/p/DCkBQdhqZh7/",
           -1
          ],
          [
           "https://www.instagram.com/p/DCpXnsuqRFD/",
           -1
          ],
          [
           "https://www.instagram.com/p/DCpX05rKBec/",
           -1
          ],
          [
           "https://www.instagram.com/p/DC81eP5qTy2/",
           -1
          ],
          [
           "https://www.instagram.com/p/DDFmaZmtBCZ/",
           -1
          ],
          [
           "https://www.instagram.com/p/DDKm0V9KKo3/",
           -1
          ],
          [
           "https://www.instagram.com/p/DDZfSuHsT1_/",
           -1
          ],
          [
           "https://www.instagram.com/p/DDdE55NuThI/",
           -1
          ],
          [
           "https://www.instagram.com/p/DDxCHH2JqEL/",
           -1
          ],
          [
           "https://www.instagram.com/p/DDzQPZEKicC/",
           -1
          ],
          [
           "https://www.instagram.com/p/DD2UU7pKhDJ/",
           -1
          ],
          [
           "https://www.instagram.com/p/DD7TACAquMF/",
           -1
          ],
          [
           "https://www.instagram.com/p/DEgxGcsMSl0/",
           -1
          ],
          [
           "https://www.instagram.com/p/DE3kMUoonMK/",
           -1
          ],
          [
           "https://www.instagram.com/p/DE7yMYhJYbx/",
           -1
          ],
          [
           "https://www.instagram.com/p/DFJAjTdK0VR/",
           -1
          ],
          [
           "https://www.instagram.com/p/DFa6FgJqUzL/",
           -1
          ],
          [
           "https://www.instagram.com/p/DFqIRwNp1-b/",
           -1
          ],
          [
           "https://www.instagram.com/p/DF5ygxjq2Fr/",
           -1
          ],
          [
           "https://www.instagram.com/p/DGAvDmqKJ9W/",
           -1
          ],
          [
           "https://www.instagram.com/p/DGDqTOOKhzF/",
           -1
          ],
          [
           "https://www.instagram.com/p/DGLC_mNqcJv/",
           -1
          ],
          [
           "https://www.instagram.com/p/DGOCV9QKwB7/",
           -1
          ],
          [
           "https://www.instagram.com/p/DGQcVZNM6jj/",
           -1
          ],
          [
           "https://www.instagram.com/p/DGgMPC_q85_/",
           -1
          ],
          [
           "https://www.instagram.com/p/DG3FihpCinV/",
           -1
          ],
          [
           "https://www.instagram.com/p/DG8MiaKMSy5/",
           -1
          ],
          [
           "https://www.instagram.com/p/DHL0oNLKME0/",
           -1
          ],
          [
           "https://www.instagram.com/p/DHtQChnKUGt/",
           -1
          ],
          [
           "https://www.instagram.com/p/DIT_nTxhSr-/",
           -1
          ],
          [
           "https://www.instagram.com/p/DIlOc3utoOc/",
           -1
          ]
         ],
         "hovertemplate": "q=%{customdata[1]}<br>Date=%{x}<br>Ratio between Likes and Followers=%{y}<br>post_link=%{customdata[0]}<extra></extra>",
         "legendgroup": "-1",
         "line": {
          "color": "#EF553B",
          "dash": "solid"
         },
         "marker": {
          "symbol": "circle"
         },
         "mode": "lines",
         "name": "-1",
         "orientation": "v",
         "showlegend": true,
         "type": "scatter",
         "x": [
          "2023-01-03T00:00:00",
          "2023-01-10T00:00:00",
          "2023-01-15T00:00:00",
          "2023-01-17T00:00:00",
          "2023-01-18T00:00:00",
          "2023-01-20T00:00:00",
          "2023-01-21T00:00:00",
          "2023-02-05T00:00:00",
          "2023-02-17T00:00:00",
          "2023-02-20T00:00:00",
          "2023-02-22T00:00:00",
          "2023-03-06T00:00:00",
          "2023-03-11T00:00:00",
          "2023-03-13T00:00:00",
          "2023-03-14T00:00:00",
          "2023-03-15T00:00:00",
          "2023-03-22T00:00:00",
          "2023-03-29T00:00:00",
          "2023-04-05T00:00:00",
          "2023-04-09T00:00:00",
          "2023-05-02T00:00:00",
          "2023-05-04T00:00:00",
          "2023-05-15T00:00:00",
          "2023-05-22T00:00:00",
          "2023-05-23T00:00:00",
          "2023-06-07T00:00:00",
          "2023-06-08T00:00:00",
          "2023-06-11T00:00:00",
          "2023-06-16T00:00:00",
          "2023-06-20T00:00:00",
          "2023-06-21T00:00:00",
          "2023-06-26T00:00:00",
          "2023-06-28T00:00:00",
          "2023-07-01T00:00:00",
          "2023-07-04T00:00:00",
          "2023-07-19T00:00:00",
          "2023-07-24T00:00:00",
          "2023-07-31T00:00:00",
          "2023-08-27T00:00:00",
          "2023-09-04T00:00:00",
          "2023-09-05T00:00:00",
          "2023-09-09T00:00:00",
          "2023-09-11T00:00:00",
          "2023-09-14T00:00:00",
          "2023-09-15T00:00:00",
          "2023-09-15T00:00:00",
          "2023-09-15T00:00:00",
          "2023-09-18T00:00:00",
          "2023-09-21T00:00:00",
          "2023-09-29T00:00:00",
          "2023-10-04T00:00:00",
          "2023-10-07T00:00:00",
          "2023-10-15T00:00:00",
          "2023-10-16T00:00:00",
          "2023-10-17T00:00:00",
          "2023-10-26T00:00:00",
          "2023-10-27T00:00:00",
          "2023-11-14T00:00:00",
          "2023-11-30T00:00:00",
          "2023-12-05T00:00:00",
          "2023-12-09T00:00:00",
          "2023-12-12T00:00:00",
          "2023-12-16T00:00:00",
          "2023-12-17T00:00:00",
          "2023-12-20T00:00:00",
          "2023-12-23T00:00:00",
          "2023-12-24T00:00:00",
          "2023-12-27T00:00:00",
          "2023-12-29T00:00:00",
          "2024-01-12T00:00:00",
          "2024-01-16T00:00:00",
          "2024-01-16T00:00:00",
          "2024-01-23T00:00:00",
          "2024-01-29T00:00:00",
          "2024-02-01T00:00:00",
          "2024-02-08T00:00:00",
          "2024-02-11T00:00:00",
          "2024-02-12T00:00:00",
          "2024-02-14T00:00:00",
          "2024-02-14T00:00:00",
          "2024-02-16T00:00:00",
          "2024-02-17T00:00:00",
          "2024-02-26T00:00:00",
          "2024-02-27T00:00:00",
          "2024-03-01T00:00:00",
          "2024-03-03T00:00:00",
          "2024-03-13T00:00:00",
          "2024-03-13T00:00:00",
          "2024-03-16T00:00:00",
          "2024-03-17T00:00:00",
          "2024-03-20T00:00:00",
          "2024-03-22T00:00:00",
          "2024-03-24T00:00:00",
          "2024-03-25T00:00:00",
          "2024-03-29T00:00:00",
          "2024-03-30T00:00:00",
          "2024-04-03T00:00:00",
          "2024-04-04T00:00:00",
          "2024-04-05T00:00:00",
          "2024-04-08T00:00:00",
          "2024-04-10T00:00:00",
          "2024-04-15T00:00:00",
          "2024-04-19T00:00:00",
          "2024-04-19T00:00:00",
          "2024-04-24T00:00:00",
          "2024-04-25T00:00:00",
          "2024-04-27T00:00:00",
          "2024-04-29T00:00:00",
          "2024-05-01T00:00:00",
          "2024-05-04T00:00:00",
          "2024-05-06T00:00:00",
          "2024-05-07T00:00:00",
          "2024-05-09T00:00:00",
          "2024-05-17T00:00:00",
          "2024-05-20T00:00:00",
          "2024-05-21T00:00:00",
          "2024-05-26T00:00:00",
          "2024-06-01T00:00:00",
          "2024-06-04T00:00:00",
          "2024-06-05T00:00:00",
          "2024-06-06T00:00:00",
          "2024-06-10T00:00:00",
          "2024-06-11T00:00:00",
          "2024-06-12T00:00:00",
          "2024-06-13T00:00:00",
          "2024-06-13T00:00:00",
          "2024-06-14T00:00:00",
          "2024-06-14T00:00:00",
          "2024-06-16T00:00:00",
          "2024-06-18T00:00:00",
          "2024-06-21T00:00:00",
          "2024-06-22T00:00:00",
          "2024-07-01T00:00:00",
          "2024-07-03T00:00:00",
          "2024-07-03T00:00:00",
          "2024-07-07T00:00:00",
          "2024-07-09T00:00:00",
          "2024-07-12T00:00:00",
          "2024-07-16T00:00:00",
          "2024-07-16T00:00:00",
          "2024-07-16T00:00:00",
          "2024-07-17T00:00:00",
          "2024-07-19T00:00:00",
          "2024-07-24T00:00:00",
          "2024-07-26T00:00:00",
          "2024-07-27T00:00:00",
          "2024-07-30T00:00:00",
          "2024-07-30T00:00:00",
          "2024-07-30T00:00:00",
          "2024-08-03T00:00:00",
          "2024-08-04T00:00:00",
          "2024-08-05T00:00:00",
          "2024-08-06T00:00:00",
          "2024-08-07T00:00:00",
          "2024-08-12T00:00:00",
          "2024-08-14T00:00:00",
          "2024-08-16T00:00:00",
          "2024-08-19T00:00:00",
          "2024-08-20T00:00:00",
          "2024-08-23T00:00:00",
          "2024-08-23T00:00:00",
          "2024-08-27T00:00:00",
          "2024-08-28T00:00:00",
          "2024-08-28T00:00:00",
          "2024-09-08T00:00:00",
          "2024-09-09T00:00:00",
          "2024-09-11T00:00:00",
          "2024-09-13T00:00:00",
          "2024-09-16T00:00:00",
          "2024-09-17T00:00:00",
          "2024-09-18T00:00:00",
          "2024-09-19T00:00:00",
          "2024-09-23T00:00:00",
          "2024-09-24T00:00:00",
          "2024-09-29T00:00:00",
          "2024-09-29T00:00:00",
          "2024-10-01T00:00:00",
          "2024-10-03T00:00:00",
          "2024-10-04T00:00:00",
          "2024-10-05T00:00:00",
          "2024-10-08T00:00:00",
          "2024-10-09T00:00:00",
          "2024-10-12T00:00:00",
          "2024-11-18T00:00:00",
          "2024-11-18T00:00:00",
          "2024-11-19T00:00:00",
          "2024-11-21T00:00:00",
          "2024-11-21T00:00:00",
          "2024-11-29T00:00:00",
          "2024-12-02T00:00:00",
          "2024-12-04T00:00:00",
          "2024-12-10T00:00:00",
          "2024-12-11T00:00:00",
          "2024-12-19T00:00:00",
          "2024-12-20T00:00:00",
          "2024-12-21T00:00:00",
          "2024-12-23T00:00:00",
          "2025-01-07T00:00:00",
          "2025-01-16T00:00:00",
          "2025-01-17T00:00:00",
          "2025-01-22T00:00:00",
          "2025-01-29T00:00:00",
          "2025-02-04T00:00:00",
          "2025-02-10T00:00:00",
          "2025-02-13T00:00:00",
          "2025-02-14T00:00:00",
          "2025-02-17T00:00:00",
          "2025-02-18T00:00:00",
          "2025-02-19T00:00:00",
          "2025-02-25T00:00:00",
          "2025-03-06T00:00:00",
          "2025-03-08T00:00:00",
          "2025-03-14T00:00:00",
          "2025-03-27T00:00:00",
          "2025-04-11T00:00:00",
          "2025-04-18T00:00:00"
         ],
         "xaxis": "x",
         "y": {
          "bdata": "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",
          "dtype": "f8"
         },
         "yaxis": "y"
        },
        {
         "customdata": [
          [
           "https://www.instagram.com/p/CnAeWX8hyF7/",
           1
          ],
          [
           "https://www.instagram.com/p/CnDB8PkBfw_/",
           1
          ],
          [
           "https://www.instagram.com/p/CoJ7PRqMSUC/",
           1
          ],
          [
           "https://www.instagram.com/p/CoVaPwiKCHy/",
           1
          ],
          [
           "https://www.instagram.com/p/CoZbi-oLKEW/",
           1
          ],
          [
           "https://www.instagram.com/p/Co1prMzM0ku/?img_index=1",
           1
          ],
          [
           "https://www.instagram.com/p/CpVmRDGLA6X/",
           1
          ],
          [
           "https://www.instagram.com/p/CqJI7Fms94P/",
           1
          ],
          [
           "https://www.instagram.com/p/CqTR6_FKApL/",
           1
          ],
          [
           "https://www.instagram.com/p/Cstzy32KASR/",
           1
          ],
          [
           "https://www.instagram.com/p/Cs6h-sWqTOB/",
           1
          ],
          [
           "https://www.instagram.com/p/CtRtov3qmLt/",
           1
          ],
          [
           "https://www.instagram.com/p/CtlHUO6Mt7g/",
           1
          ],
          [
           "https://www.instagram.com/p/CuAQZU5qCFB/",
           1
          ],
          [
           "https://www.instagram.com/p/CuPcuO0MMtn/",
           1
          ],
          [
           "https://www.instagram.com/p/CuZn_UEq8g1/",
           1
          ],
          [
           "https://www.instagram.com/p/Cu6mD3eKBuT/",
           1
          ],
          [
           "https://www.instagram.com/p/CwLRAlIKaSF/",
           1
          ],
          [
           "https://www.instagram.com/p/Cwp9b7KM0Mn/",
           1
          ],
          [
           "https://www.instagram.com/p/Cw21p-AMUPP/",
           1
          ],
          [
           "https://www.instagram.com/p/CyEFBpLOkJH/",
           1
          ],
          [
           "https://www.instagram.com/p/CyiMr_rNJbX/",
           1
          ],
          [
           "https://www.instagram.com/p/CyncUl2O1vl/",
           1
          ],
          [
           "https://www.instagram.com/p/Cy_piKTqhJH/",
           1
          ],
          [
           "https://www.instagram.com/p/CzEgJvIqU-S/",
           1
          ],
          [
           "https://www.instagram.com/p/CzIy5ZhsviB/",
           1
          ],
          [
           "https://www.instagram.com/p/CzL_gWOKUxu/",
           1
          ],
          [
           "https://www.instagram.com/p/CzeYdpHKHaw/?img_index=1",
           1
          ],
          [
           "https://www.instagram.com/p/C0TkF3xoq_d/",
           1
          ],
          [
           "https://www.instagram.com/p/C0TfpTsKtgh/",
           1
          ],
          [
           "https://www.instagram.com/p/C1nHYnkqRFG/",
           1
          ],
          [
           "https://www.instagram.com/p/C1ztBWHsu_c/",
           1
          ],
          [
           "https://www.instagram.com/p/C2z-Q1WNSKg/",
           1
          ],
          [
           "https://www.instagram.com/p/C2-0-lGKMKe/",
           1
          ],
          [
           "https://www.instagram.com/p/C_0dGV2Kr7e/?img_index=1",
           1
          ],
          [
           "https://www.instagram.com/p/C_5zRhwR59e/",
           1
          ],
          [
           "https://www.instagram.com/p/DArCzNmsgEt/?img_index=1",
           1
          ]
         ],
         "hovertemplate": "q=%{customdata[1]}<br>Date=%{x}<br>Ratio between Likes and Followers=%{y}<br>post_link=%{customdata[0]}<extra></extra>",
         "legendgroup": "1",
         "line": {
          "color": "#00cc96",
          "dash": "solid"
         },
         "marker": {
          "symbol": "circle"
         },
         "mode": "lines",
         "name": "1",
         "orientation": "v",
         "showlegend": true,
         "type": "scatter",
         "x": [
          "2023-01-04T00:00:00",
          "2023-01-05T00:00:00",
          "2023-02-02T00:00:00",
          "2023-02-06T00:00:00",
          "2023-02-08T00:00:00",
          "2023-02-19T00:00:00",
          "2023-03-03T00:00:00",
          "2023-03-23T00:00:00",
          "2023-03-27T00:00:00",
          "2023-05-26T00:00:00",
          "2023-05-31T00:00:00",
          "2023-06-09T00:00:00",
          "2023-06-17T00:00:00",
          "2023-06-27T00:00:00",
          "2023-07-03T00:00:00",
          "2023-07-07T00:00:00",
          "2023-07-20T00:00:00",
          "2023-08-20T00:00:00",
          "2023-09-01T00:00:00",
          "2023-09-06T00:00:00",
          "2023-10-06T00:00:00",
          "2023-10-18T00:00:00",
          "2023-10-20T00:00:00",
          "2023-10-29T00:00:00",
          "2023-10-31T00:00:00",
          "2023-11-02T00:00:00",
          "2023-11-03T00:00:00",
          "2023-11-10T00:00:00",
          "2023-12-01T00:00:00",
          "2023-12-01T00:00:00",
          "2024-01-02T00:00:00",
          "2024-01-07T00:00:00",
          "2024-02-01T00:00:00",
          "2024-02-05T00:00:00",
          "2024-09-12T00:00:00",
          "2024-09-14T00:00:00",
          "2024-10-03T00:00:00"
         ],
         "xaxis": "x",
         "y": {
          "bdata": "b0k55hX/fz9ZRsUu1pG2Pw678W2emI4/RABsQtk4gD9VaQpBvNeYP/LfXshvK4A/9dvXgXNGhD/lli2KIqKJP+06ohsRNII/5hX/H9OEiD8Ibb5rozR+P9p6rdQLkoQ/Let9h1DOfz82ZU1ZU9aEP6C/UU4GHoA/VcK9XX0VgD/A791nuFOBP2GJ3tqNPIE/xZFb6YrLiD+sgzOgisWKP8pj/IBhzIA/tlAF1vR7gT9/O64XvmSAPxC7vgtdCIY/fw21cxeGmT/jcA8RM/2RP5f0qYr5EYM/Za/J8TtRgD8NRwfM796sP36RIgnzIoE/+FhMQ4XugD+Dtw0goTeAP1RBwlVviIc/v0ITLmGSiz/8fjdaMwOAP5nxN/0rAoQ//yMnadOKhj8=",
          "dtype": "f8"
         },
         "yaxis": "y"
        }
       ],
       "layout": {
        "legend": {
         "title": {
          "text": "q"
         },
         "tracegroupgap": 0
        },
        "margin": {
         "t": 60
        },
        "template": {
         "data": {
          "bar": [
           {
            "error_x": {
             "color": "#2a3f5f"
            },
            "error_y": {
             "color": "#2a3f5f"
            },
            "marker": {
             "line": {
              "color": "#E5ECF6",
              "width": 0.5
             },
             "pattern": {
              "fillmode": "overlay",
              "size": 10,
              "solidity": 0.2
             }
            },
            "type": "bar"
           }
          ],
          "barpolar": [
           {
            "marker": {
             "line": {
              "color": "#E5ECF6",
              "width": 0.5
             },
             "pattern": {
              "fillmode": "overlay",
              "size": 10,
              "solidity": 0.2
             }
            },
            "type": "barpolar"
           }
          ],
          "carpet": [
           {
            "aaxis": {
             "endlinecolor": "#2a3f5f",
             "gridcolor": "white",
             "linecolor": "white",
             "minorgridcolor": "white",
             "startlinecolor": "#2a3f5f"
            },
            "baxis": {
             "endlinecolor": "#2a3f5f",
             "gridcolor": "white",
             "linecolor": "white",
             "minorgridcolor": "white",
             "startlinecolor": "#2a3f5f"
            },
            "type": "carpet"
           }
          ],
          "choropleth": [
           {
            "colorbar": {
             "outlinewidth": 0,
             "ticks": ""
            },
            "type": "choropleth"
           }
          ],
          "contour": [
           {
            "colorbar": {
             "outlinewidth": 0,
             "ticks": ""
            },
            "colorscale": [
             [
              0,
              "#0d0887"
             ],
             [
              0.1111111111111111,
              "#46039f"
             ],
             [
              0.2222222222222222,
              "#7201a8"
             ],
             [
              0.3333333333333333,
              "#9c179e"
             ],
             [
              0.4444444444444444,
              "#bd3786"
             ],
             [
              0.5555555555555556,
              "#d8576b"
             ],
             [
              0.6666666666666666,
              "#ed7953"
             ],
             [
              0.7777777777777778,
              "#fb9f3a"
             ],
             [
              0.8888888888888888,
              "#fdca26"
             ],
             [
              1,
              "#f0f921"
             ]
            ],
            "type": "contour"
           }
          ],
          "contourcarpet": [
           {
            "colorbar": {
             "outlinewidth": 0,
             "ticks": ""
            },
            "type": "contourcarpet"
           }
          ],
          "heatmap": [
           {
            "colorbar": {
             "outlinewidth": 0,
             "ticks": ""
            },
            "colorscale": [
             [
              0,
              "#0d0887"
             ],
             [
              0.1111111111111111,
              "#46039f"
             ],
             [
              0.2222222222222222,
              "#7201a8"
             ],
             [
              0.3333333333333333,
              "#9c179e"
             ],
             [
              0.4444444444444444,
              "#bd3786"
             ],
             [
              0.5555555555555556,
              "#d8576b"
             ],
             [
              0.6666666666666666,
              "#ed7953"
             ],
             [
              0.7777777777777778,
              "#fb9f3a"
             ],
             [
              0.8888888888888888,
              "#fdca26"
             ],
             [
              1,
              "#f0f921"
             ]
            ],
            "type": "heatmap"
           }
          ],
          "histogram": [
           {
            "marker": {
             "pattern": {
              "fillmode": "overlay",
              "size": 10,
              "solidity": 0.2
             }
            },
            "type": "histogram"
           }
          ],
          "histogram2d": [
           {
            "colorbar": {
             "outlinewidth": 0,
             "ticks": ""
            },
            "colorscale": [
             [
              0,
              "#0d0887"
             ],
             [
              0.1111111111111111,
              "#46039f"
             ],
             [
              0.2222222222222222,
              "#7201a8"
             ],
             [
              0.3333333333333333,
              "#9c179e"
             ],
             [
              0.4444444444444444,
              "#bd3786"
             ],
             [
              0.5555555555555556,
              "#d8576b"
             ],
             [
              0.6666666666666666,
              "#ed7953"
             ],
             [
              0.7777777777777778,
              "#fb9f3a"
             ],
             [
              0.8888888888888888,
              "#fdca26"
             ],
             [
              1,
              "#f0f921"
             ]
            ],
            "type": "histogram2d"
           }
          ],
          "histogram2dcontour": [
           {
            "colorbar": {
             "outlinewidth": 0,
             "ticks": ""
            },
            "colorscale": [
             [
              0,
              "#0d0887"
             ],
             [
              0.1111111111111111,
              "#46039f"
             ],
             [
              0.2222222222222222,
              "#7201a8"
             ],
             [
              0.3333333333333333,
              "#9c179e"
             ],
             [
              0.4444444444444444,
              "#bd3786"
             ],
             [
              0.5555555555555556,
              "#d8576b"
             ],
             [
              0.6666666666666666,
              "#ed7953"
             ],
             [
              0.7777777777777778,
              "#fb9f3a"
             ],
             [
              0.8888888888888888,
              "#fdca26"
             ],
             [
              1,
              "#f0f921"
             ]
            ],
            "type": "histogram2dcontour"
           }
          ],
          "mesh3d": [
           {
            "colorbar": {
             "outlinewidth": 0,
             "ticks": ""
            },
            "type": "mesh3d"
           }
          ],
          "parcoords": [
           {
            "line": {
             "colorbar": {
              "outlinewidth": 0,
              "ticks": ""
             }
            },
            "type": "parcoords"
           }
          ],
          "pie": [
           {
            "automargin": true,
            "type": "pie"
           }
          ],
          "scatter": [
           {
            "fillpattern": {
             "fillmode": "overlay",
             "size": 10,
             "solidity": 0.2
            },
            "type": "scatter"
           }
          ],
          "scatter3d": [
           {
            "line": {
             "colorbar": {
              "outlinewidth": 0,
              "ticks": ""
             }
            },
            "marker": {
             "colorbar": {
              "outlinewidth": 0,
              "ticks": ""
             }
            },
            "type": "scatter3d"
           }
          ],
          "scattercarpet": [
           {
            "marker": {
             "colorbar": {
              "outlinewidth": 0,
              "ticks": ""
             }
            },
            "type": "scattercarpet"
           }
          ],
          "scattergeo": [
           {
            "marker": {
             "colorbar": {
              "outlinewidth": 0,
              "ticks": ""
             }
            },
            "type": "scattergeo"
           }
          ],
          "scattergl": [
           {
            "marker": {
             "colorbar": {
              "outlinewidth": 0,
              "ticks": ""
             }
            },
            "type": "scattergl"
           }
          ],
          "scattermap": [
           {
            "marker": {
             "colorbar": {
              "outlinewidth": 0,
              "ticks": ""
             }
            },
            "type": "scattermap"
           }
          ],
          "scattermapbox": [
           {
            "marker": {
             "colorbar": {
              "outlinewidth": 0,
              "ticks": ""
             }
            },
            "type": "scattermapbox"
           }
          ],
          "scatterpolar": [
           {
            "marker": {
             "colorbar": {
              "outlinewidth": 0,
              "ticks": ""
             }
            },
            "type": "scatterpolar"
           }
          ],
          "scatterpolargl": [
           {
            "marker": {
             "colorbar": {
              "outlinewidth": 0,
              "ticks": ""
             }
            },
            "type": "scatterpolargl"
           }
          ],
          "scatterternary": [
           {
            "marker": {
             "colorbar": {
              "outlinewidth": 0,
              "ticks": ""
             }
            },
            "type": "scatterternary"
           }
          ],
          "surface": [
           {
            "colorbar": {
             "outlinewidth": 0,
             "ticks": ""
            },
            "colorscale": [
             [
              0,
              "#0d0887"
             ],
             [
              0.1111111111111111,
              "#46039f"
             ],
             [
              0.2222222222222222,
              "#7201a8"
             ],
             [
              0.3333333333333333,
              "#9c179e"
             ],
             [
              0.4444444444444444,
              "#bd3786"
             ],
             [
              0.5555555555555556,
              "#d8576b"
             ],
             [
              0.6666666666666666,
              "#ed7953"
             ],
             [
              0.7777777777777778,
              "#fb9f3a"
             ],
             [
              0.8888888888888888,
              "#fdca26"
             ],
             [
              1,
              "#f0f921"
             ]
            ],
            "type": "surface"
           }
          ],
          "table": [
           {
            "cells": {
             "fill": {
              "color": "#EBF0F8"
             },
             "line": {
              "color": "white"
             }
            },
            "header": {
             "fill": {
              "color": "#C8D4E3"
             },
             "line": {
              "color": "white"
             }
            },
            "type": "table"
           }
          ]
         },
         "layout": {
          "annotationdefaults": {
           "arrowcolor": "#2a3f5f",
           "arrowhead": 0,
           "arrowwidth": 1
          },
          "autotypenumbers": "strict",
          "coloraxis": {
           "colorbar": {
            "outlinewidth": 0,
            "ticks": ""
           }
          },
          "colorscale": {
           "diverging": [
            [
             0,
             "#8e0152"
            ],
            [
             0.1,
             "#c51b7d"
            ],
            [
             0.2,
             "#de77ae"
            ],
            [
             0.3,
             "#f1b6da"
            ],
            [
             0.4,
             "#fde0ef"
            ],
            [
             0.5,
             "#f7f7f7"
            ],
            [
             0.6,
             "#e6f5d0"
            ],
            [
             0.7,
             "#b8e186"
            ],
            [
             0.8,
             "#7fbc41"
            ],
            [
             0.9,
             "#4d9221"
            ],
            [
             1,
             "#276419"
            ]
           ],
           "sequential": [
            [
             0,
             "#0d0887"
            ],
            [
             0.1111111111111111,
             "#46039f"
            ],
            [
             0.2222222222222222,
             "#7201a8"
            ],
            [
             0.3333333333333333,
             "#9c179e"
            ],
            [
             0.4444444444444444,
             "#bd3786"
            ],
            [
             0.5555555555555556,
             "#d8576b"
            ],
            [
             0.6666666666666666,
             "#ed7953"
            ],
            [
             0.7777777777777778,
             "#fb9f3a"
            ],
            [
             0.8888888888888888,
             "#fdca26"
            ],
            [
             1,
             "#f0f921"
            ]
           ],
           "sequentialminus": [
            [
             0,
             "#0d0887"
            ],
            [
             0.1111111111111111,
             "#46039f"
            ],
            [
             0.2222222222222222,
             "#7201a8"
            ],
            [
             0.3333333333333333,
             "#9c179e"
            ],
            [
             0.4444444444444444,
             "#bd3786"
            ],
            [
             0.5555555555555556,
             "#d8576b"
            ],
            [
             0.6666666666666666,
             "#ed7953"
            ],
            [
             0.7777777777777778,
             "#fb9f3a"
            ],
            [
             0.8888888888888888,
             "#fdca26"
            ],
            [
             1,
             "#f0f921"
            ]
           ]
          },
          "colorway": [
           "#636efa",
           "#EF553B",
           "#00cc96",
           "#ab63fa",
           "#FFA15A",
           "#19d3f3",
           "#FF6692",
           "#B6E880",
           "#FF97FF",
           "#FECB52"
          ],
          "font": {
           "color": "#2a3f5f"
          },
          "geo": {
           "bgcolor": "white",
           "lakecolor": "white",
           "landcolor": "#E5ECF6",
           "showlakes": true,
           "showland": true,
           "subunitcolor": "white"
          },
          "hoverlabel": {
           "align": "left"
          },
          "hovermode": "closest",
          "mapbox": {
           "style": "light"
          },
          "paper_bgcolor": "white",
          "plot_bgcolor": "#E5ECF6",
          "polar": {
           "angularaxis": {
            "gridcolor": "white",
            "linecolor": "white",
            "ticks": ""
           },
           "bgcolor": "#E5ECF6",
           "radialaxis": {
            "gridcolor": "white",
            "linecolor": "white",
            "ticks": ""
           }
          },
          "scene": {
           "xaxis": {
            "backgroundcolor": "#E5ECF6",
            "gridcolor": "white",
            "gridwidth": 2,
            "linecolor": "white",
            "showbackground": true,
            "ticks": "",
            "zerolinecolor": "white"
           },
           "yaxis": {
            "backgroundcolor": "#E5ECF6",
            "gridcolor": "white",
            "gridwidth": 2,
            "linecolor": "white",
            "showbackground": true,
            "ticks": "",
            "zerolinecolor": "white"
           },
           "zaxis": {
            "backgroundcolor": "#E5ECF6",
            "gridcolor": "white",
            "gridwidth": 2,
            "linecolor": "white",
            "showbackground": true,
            "ticks": "",
            "zerolinecolor": "white"
           }
          },
          "shapedefaults": {
           "line": {
            "color": "#2a3f5f"
           }
          },
          "ternary": {
           "aaxis": {
            "gridcolor": "white",
            "linecolor": "white",
            "ticks": ""
           },
           "baxis": {
            "gridcolor": "white",
            "linecolor": "white",
            "ticks": ""
           },
           "bgcolor": "#E5ECF6",
           "caxis": {
            "gridcolor": "white",
            "linecolor": "white",
            "ticks": ""
           }
          },
          "title": {
           "x": 0.05
          },
          "xaxis": {
           "automargin": true,
           "gridcolor": "white",
           "linecolor": "white",
           "ticks": "",
           "title": {
            "standoff": 15
           },
           "zerolinecolor": "white",
           "zerolinewidth": 2
          },
          "yaxis": {
           "automargin": true,
           "gridcolor": "white",
           "linecolor": "white",
           "ticks": "",
           "title": {
            "standoff": 15
           },
           "zerolinecolor": "white",
           "zerolinewidth": 2
          }
         }
        },
        "xaxis": {
         "anchor": "y",
         "domain": [
          0,
          1
         ],
         "title": {
          "text": "Date"
         }
        },
        "yaxis": {
         "anchor": "x",
         "domain": [
          0,
          1
         ],
         "title": {
          "text": "Ratio between Likes and Followers"
         }
        }
       }
      }
     },
     "metadata": {},
     "output_type": "display_data"
    }
   ],
   "source": [
    "px.line(costa, x=\"day_posted\", y=\"var\", color=\"q\", labels={\"var\": \"Ratio between Likes and Followers\",\n",
    "                                                                    \"day_posted\": \"Date\"},\n",
    "                                                                    hover_data=[\"post_link\", \"q\"])"
   ]
  },
  {
   "cell_type": "code",
   "execution_count": 13,
   "id": "14ff70d9",
   "metadata": {},
   "outputs": [
    {
     "data": {
      "text/html": [
       "<div>\n",
       "<style scoped>\n",
       "    .dataframe tbody tr th:only-of-type {\n",
       "        vertical-align: middle;\n",
       "    }\n",
       "\n",
       "    .dataframe tbody tr th {\n",
       "        vertical-align: top;\n",
       "    }\n",
       "\n",
       "    .dataframe thead th {\n",
       "        text-align: right;\n",
       "    }\n",
       "</style>\n",
       "<table border=\"1\" class=\"dataframe\">\n",
       "  <thead>\n",
       "    <tr style=\"text-align: right;\">\n",
       "      <th></th>\n",
       "      <th>post_link</th>\n",
       "      <th>cafe</th>\n",
       "      <th>day_posted</th>\n",
       "      <th>n_likes</th>\n",
       "      <th>followers</th>\n",
       "      <th>var</th>\n",
       "      <th>month</th>\n",
       "      <th>year</th>\n",
       "      <th>trimester</th>\n",
       "      <th>q</th>\n",
       "    </tr>\n",
       "  </thead>\n",
       "  <tbody>\n",
       "    <tr>\n",
       "      <th>2886</th>\n",
       "      <td>https://www.instagram.com/p/CnPgbbyhzhR/</td>\n",
       "      <td>costacoffee</td>\n",
       "      <td>2023-01-10</td>\n",
       "      <td>54.0</td>\n",
       "      <td>430000.0</td>\n",
       "      <td>0.000126</td>\n",
       "      <td>1</td>\n",
       "      <td>2023</td>\n",
       "      <td>1</td>\n",
       "      <td>-1</td>\n",
       "    </tr>\n",
       "    <tr>\n",
       "      <th>2633</th>\n",
       "      <td>https://www.instagram.com/p/C5lsbEAqt2p/</td>\n",
       "      <td>costacoffee</td>\n",
       "      <td>2024-04-10</td>\n",
       "      <td>177.0</td>\n",
       "      <td>430000.0</td>\n",
       "      <td>0.000412</td>\n",
       "      <td>4</td>\n",
       "      <td>2024</td>\n",
       "      <td>2</td>\n",
       "      <td>-1</td>\n",
       "    </tr>\n",
       "    <tr>\n",
       "      <th>2558</th>\n",
       "      <td>https://www.instagram.com/p/C-DhCH6J09l/</td>\n",
       "      <td>costacoffee</td>\n",
       "      <td>2024-07-30</td>\n",
       "      <td>211.0</td>\n",
       "      <td>430000.0</td>\n",
       "      <td>0.000491</td>\n",
       "      <td>7</td>\n",
       "      <td>2024</td>\n",
       "      <td>3</td>\n",
       "      <td>-1</td>\n",
       "    </tr>\n",
       "    <tr>\n",
       "      <th>2560</th>\n",
       "      <td>https://www.instagram.com/p/C-C8rWMKFN8/</td>\n",
       "      <td>costacoffee</td>\n",
       "      <td>2024-07-30</td>\n",
       "      <td>222.0</td>\n",
       "      <td>430000.0</td>\n",
       "      <td>0.000516</td>\n",
       "      <td>7</td>\n",
       "      <td>2024</td>\n",
       "      <td>3</td>\n",
       "      <td>-1</td>\n",
       "    </tr>\n",
       "    <tr>\n",
       "      <th>2588</th>\n",
       "      <td>https://www.instagram.com/p/C8e_KQ8K2qT/</td>\n",
       "      <td>costacoffee</td>\n",
       "      <td>2024-06-21</td>\n",
       "      <td>228.0</td>\n",
       "      <td>430000.0</td>\n",
       "      <td>0.000530</td>\n",
       "      <td>6</td>\n",
       "      <td>2024</td>\n",
       "      <td>2</td>\n",
       "      <td>-1</td>\n",
       "    </tr>\n",
       "    <tr>\n",
       "      <th>2553</th>\n",
       "      <td>https://www.instagram.com/p/C-VMMRrKeXa/</td>\n",
       "      <td>costacoffee</td>\n",
       "      <td>2024-08-06</td>\n",
       "      <td>235.0</td>\n",
       "      <td>430000.0</td>\n",
       "      <td>0.000547</td>\n",
       "      <td>8</td>\n",
       "      <td>2024</td>\n",
       "      <td>3</td>\n",
       "      <td>-1</td>\n",
       "    </tr>\n",
       "    <tr>\n",
       "      <th>2489</th>\n",
       "      <td>https://www.instagram.com/p/DDdE55NuThI/</td>\n",
       "      <td>costacoffee</td>\n",
       "      <td>2024-12-11</td>\n",
       "      <td>238.0</td>\n",
       "      <td>430000.0</td>\n",
       "      <td>0.000553</td>\n",
       "      <td>12</td>\n",
       "      <td>2024</td>\n",
       "      <td>4</td>\n",
       "      <td>-1</td>\n",
       "    </tr>\n",
       "    <tr>\n",
       "      <th>2634</th>\n",
       "      <td>https://www.instagram.com/p/C5gQ8GhKMi9/</td>\n",
       "      <td>costacoffee</td>\n",
       "      <td>2024-04-08</td>\n",
       "      <td>258.0</td>\n",
       "      <td>430000.0</td>\n",
       "      <td>0.000600</td>\n",
       "      <td>4</td>\n",
       "      <td>2024</td>\n",
       "      <td>2</td>\n",
       "      <td>-1</td>\n",
       "    </tr>\n",
       "    <tr>\n",
       "      <th>2547</th>\n",
       "      <td>https://www.instagram.com/p/C-28d1cKfi3/</td>\n",
       "      <td>costacoffee</td>\n",
       "      <td>2024-08-19</td>\n",
       "      <td>258.0</td>\n",
       "      <td>430000.0</td>\n",
       "      <td>0.000600</td>\n",
       "      <td>8</td>\n",
       "      <td>2024</td>\n",
       "      <td>3</td>\n",
       "      <td>-1</td>\n",
       "    </tr>\n",
       "    <tr>\n",
       "      <th>2641</th>\n",
       "      <td>https://www.instagram.com/p/C5GFfJbKtHy/</td>\n",
       "      <td>costacoffee</td>\n",
       "      <td>2024-03-29</td>\n",
       "      <td>260.0</td>\n",
       "      <td>430000.0</td>\n",
       "      <td>0.000605</td>\n",
       "      <td>3</td>\n",
       "      <td>2024</td>\n",
       "      <td>1</td>\n",
       "      <td>-1</td>\n",
       "    </tr>\n",
       "    <tr>\n",
       "      <th>2592</th>\n",
       "      <td>https://www.instagram.com/p/C8NQNCNK32X/</td>\n",
       "      <td>costacoffee</td>\n",
       "      <td>2024-06-14</td>\n",
       "      <td>264.0</td>\n",
       "      <td>430000.0</td>\n",
       "      <td>0.000614</td>\n",
       "      <td>6</td>\n",
       "      <td>2024</td>\n",
       "      <td>2</td>\n",
       "      <td>-1</td>\n",
       "    </tr>\n",
       "    <tr>\n",
       "      <th>2549</th>\n",
       "      <td>https://www.instagram.com/p/C-qtgOZKiFX/</td>\n",
       "      <td>costacoffee</td>\n",
       "      <td>2024-08-14</td>\n",
       "      <td>268.0</td>\n",
       "      <td>430000.0</td>\n",
       "      <td>0.000623</td>\n",
       "      <td>8</td>\n",
       "      <td>2024</td>\n",
       "      <td>3</td>\n",
       "      <td>-1</td>\n",
       "    </tr>\n",
       "    <tr>\n",
       "      <th>2494</th>\n",
       "      <td>https://www.instagram.com/p/DC81eP5qTy2/</td>\n",
       "      <td>costacoffee</td>\n",
       "      <td>2024-11-29</td>\n",
       "      <td>270.0</td>\n",
       "      <td>430000.0</td>\n",
       "      <td>0.000628</td>\n",
       "      <td>11</td>\n",
       "      <td>2024</td>\n",
       "      <td>4</td>\n",
       "      <td>-1</td>\n",
       "    </tr>\n",
       "    <tr>\n",
       "      <th>2572</th>\n",
       "      <td>https://www.instagram.com/p/C9e3PciKlxm/</td>\n",
       "      <td>costacoffee</td>\n",
       "      <td>2024-07-16</td>\n",
       "      <td>274.0</td>\n",
       "      <td>430000.0</td>\n",
       "      <td>0.000637</td>\n",
       "      <td>7</td>\n",
       "      <td>2024</td>\n",
       "      <td>3</td>\n",
       "      <td>-1</td>\n",
       "    </tr>\n",
       "    <tr>\n",
       "      <th>2497</th>\n",
       "      <td>https://www.instagram.com/p/DCpX05rKBec/</td>\n",
       "      <td>costacoffee</td>\n",
       "      <td>2024-11-21</td>\n",
       "      <td>275.0</td>\n",
       "      <td>430000.0</td>\n",
       "      <td>0.000640</td>\n",
       "      <td>11</td>\n",
       "      <td>2024</td>\n",
       "      <td>4</td>\n",
       "      <td>-1</td>\n",
       "    </tr>\n",
       "    <tr>\n",
       "      <th>2498</th>\n",
       "      <td>https://www.instagram.com/p/DCpXnsuqRFD/</td>\n",
       "      <td>costacoffee</td>\n",
       "      <td>2024-11-21</td>\n",
       "      <td>275.0</td>\n",
       "      <td>430000.0</td>\n",
       "      <td>0.000640</td>\n",
       "      <td>11</td>\n",
       "      <td>2024</td>\n",
       "      <td>4</td>\n",
       "      <td>-1</td>\n",
       "    </tr>\n",
       "    <tr>\n",
       "      <th>2623</th>\n",
       "      <td>https://www.instagram.com/p/C6R02cNynMZ/</td>\n",
       "      <td>costacoffee</td>\n",
       "      <td>2024-04-27</td>\n",
       "      <td>286.0</td>\n",
       "      <td>430000.0</td>\n",
       "      <td>0.000665</td>\n",
       "      <td>4</td>\n",
       "      <td>2024</td>\n",
       "      <td>2</td>\n",
       "      <td>-1</td>\n",
       "    </tr>\n",
       "    <tr>\n",
       "      <th>2562</th>\n",
       "      <td>https://www.instagram.com/p/C97Ve0dKQWB/</td>\n",
       "      <td>costacoffee</td>\n",
       "      <td>2024-07-27</td>\n",
       "      <td>291.0</td>\n",
       "      <td>430000.0</td>\n",
       "      <td>0.000677</td>\n",
       "      <td>7</td>\n",
       "      <td>2024</td>\n",
       "      <td>3</td>\n",
       "      <td>-1</td>\n",
       "    </tr>\n",
       "    <tr>\n",
       "      <th>2552</th>\n",
       "      <td>https://www.instagram.com/p/C-XcJrjK5XA/</td>\n",
       "      <td>costacoffee</td>\n",
       "      <td>2024-08-07</td>\n",
       "      <td>295.0</td>\n",
       "      <td>430000.0</td>\n",
       "      <td>0.000686</td>\n",
       "      <td>8</td>\n",
       "      <td>2024</td>\n",
       "      <td>3</td>\n",
       "      <td>-1</td>\n",
       "    </tr>\n",
       "    <tr>\n",
       "      <th>2521</th>\n",
       "      <td>https://www.instagram.com/p/DATPyLNsFV-/</td>\n",
       "      <td>costacoffee</td>\n",
       "      <td>2024-09-24</td>\n",
       "      <td>304.0</td>\n",
       "      <td>430000.0</td>\n",
       "      <td>0.000707</td>\n",
       "      <td>9</td>\n",
       "      <td>2024</td>\n",
       "      <td>3</td>\n",
       "      <td>-1</td>\n",
       "    </tr>\n",
       "    <tr>\n",
       "      <th>2546</th>\n",
       "      <td>https://www.instagram.com/p/C-5UmahKHnG/</td>\n",
       "      <td>costacoffee</td>\n",
       "      <td>2024-08-20</td>\n",
       "      <td>310.0</td>\n",
       "      <td>430000.0</td>\n",
       "      <td>0.000721</td>\n",
       "      <td>8</td>\n",
       "      <td>2024</td>\n",
       "      <td>3</td>\n",
       "      <td>-1</td>\n",
       "    </tr>\n",
       "    <tr>\n",
       "      <th>2616</th>\n",
       "      <td>https://www.instagram.com/p/C6q95LQtGY1/</td>\n",
       "      <td>costacoffee</td>\n",
       "      <td>2024-05-07</td>\n",
       "      <td>311.0</td>\n",
       "      <td>430000.0</td>\n",
       "      <td>0.000723</td>\n",
       "      <td>5</td>\n",
       "      <td>2024</td>\n",
       "      <td>2</td>\n",
       "      <td>-1</td>\n",
       "    </tr>\n",
       "    <tr>\n",
       "      <th>2620</th>\n",
       "      <td>https://www.instagram.com/p/C6cC5H6KCIm/</td>\n",
       "      <td>costacoffee</td>\n",
       "      <td>2024-05-01</td>\n",
       "      <td>311.0</td>\n",
       "      <td>430000.0</td>\n",
       "      <td>0.000723</td>\n",
       "      <td>5</td>\n",
       "      <td>2024</td>\n",
       "      <td>2</td>\n",
       "      <td>-1</td>\n",
       "    </tr>\n",
       "    <tr>\n",
       "      <th>2598</th>\n",
       "      <td>https://www.instagram.com/p/C8DCU6HKolq/</td>\n",
       "      <td>costacoffee</td>\n",
       "      <td>2024-06-10</td>\n",
       "      <td>316.0</td>\n",
       "      <td>430000.0</td>\n",
       "      <td>0.000735</td>\n",
       "      <td>6</td>\n",
       "      <td>2024</td>\n",
       "      <td>2</td>\n",
       "      <td>-1</td>\n",
       "    </tr>\n",
       "    <tr>\n",
       "      <th>2565</th>\n",
       "      <td>https://www.instagram.com/p/C9zd2bHqcNq/</td>\n",
       "      <td>costacoffee</td>\n",
       "      <td>2024-07-24</td>\n",
       "      <td>324.0</td>\n",
       "      <td>430000.0</td>\n",
       "      <td>0.000753</td>\n",
       "      <td>7</td>\n",
       "      <td>2024</td>\n",
       "      <td>3</td>\n",
       "      <td>-1</td>\n",
       "    </tr>\n",
       "    <tr>\n",
       "      <th>2563</th>\n",
       "      <td>https://www.instagram.com/p/C93gIeMPURh/</td>\n",
       "      <td>costacoffee</td>\n",
       "      <td>2024-07-26</td>\n",
       "      <td>325.0</td>\n",
       "      <td>430000.0</td>\n",
       "      <td>0.000756</td>\n",
       "      <td>7</td>\n",
       "      <td>2024</td>\n",
       "      <td>3</td>\n",
       "      <td>-1</td>\n",
       "    </tr>\n",
       "    <tr>\n",
       "      <th>2511</th>\n",
       "      <td>https://www.instagram.com/p/DAvmsbHxivu/</td>\n",
       "      <td>costacoffee</td>\n",
       "      <td>2024-10-05</td>\n",
       "      <td>334.0</td>\n",
       "      <td>430000.0</td>\n",
       "      <td>0.000777</td>\n",
       "      <td>10</td>\n",
       "      <td>2024</td>\n",
       "      <td>4</td>\n",
       "      <td>-1</td>\n",
       "    </tr>\n",
       "    <tr>\n",
       "      <th>2471</th>\n",
       "      <td>https://www.instagram.com/p/DGAvDmqKJ9W/</td>\n",
       "      <td>costacoffee</td>\n",
       "      <td>2025-02-13</td>\n",
       "      <td>339.0</td>\n",
       "      <td>430000.0</td>\n",
       "      <td>0.000788</td>\n",
       "      <td>2</td>\n",
       "      <td>2025</td>\n",
       "      <td>1</td>\n",
       "      <td>-1</td>\n",
       "    </tr>\n",
       "    <tr>\n",
       "      <th>2602</th>\n",
       "      <td>https://www.instagram.com/p/C7q5o8aqmxM/</td>\n",
       "      <td>costacoffee</td>\n",
       "      <td>2024-06-01</td>\n",
       "      <td>351.0</td>\n",
       "      <td>430000.0</td>\n",
       "      <td>0.000816</td>\n",
       "      <td>6</td>\n",
       "      <td>2024</td>\n",
       "      <td>2</td>\n",
       "      <td>-1</td>\n",
       "    </tr>\n",
       "    <tr>\n",
       "      <th>2601</th>\n",
       "      <td>https://www.instagram.com/p/C7yztPUKdzc/</td>\n",
       "      <td>costacoffee</td>\n",
       "      <td>2024-06-04</td>\n",
       "      <td>355.0</td>\n",
       "      <td>430000.0</td>\n",
       "      <td>0.000826</td>\n",
       "      <td>6</td>\n",
       "      <td>2024</td>\n",
       "      <td>2</td>\n",
       "      <td>-1</td>\n",
       "    </tr>\n",
       "    <tr>\n",
       "      <th>2499</th>\n",
       "      <td>https://www.instagram.com/p/DCkBQdhqZh7/</td>\n",
       "      <td>costacoffee</td>\n",
       "      <td>2024-11-19</td>\n",
       "      <td>362.0</td>\n",
       "      <td>430000.0</td>\n",
       "      <td>0.000842</td>\n",
       "      <td>11</td>\n",
       "      <td>2024</td>\n",
       "      <td>4</td>\n",
       "      <td>-1</td>\n",
       "    </tr>\n",
       "    <tr>\n",
       "      <th>2528</th>\n",
       "      <td>https://www.instagram.com/p/C__UCFnKbE5/</td>\n",
       "      <td>costacoffee</td>\n",
       "      <td>2024-09-16</td>\n",
       "      <td>364.0</td>\n",
       "      <td>430000.0</td>\n",
       "      <td>0.000847</td>\n",
       "      <td>9</td>\n",
       "      <td>2024</td>\n",
       "      <td>3</td>\n",
       "      <td>-1</td>\n",
       "    </tr>\n",
       "    <tr>\n",
       "      <th>2846</th>\n",
       "      <td>https://www.instagram.com/p/CptaHe4o28D/</td>\n",
       "      <td>costacoffee</td>\n",
       "      <td>2023-03-13</td>\n",
       "      <td>377.0</td>\n",
       "      <td>430000.0</td>\n",
       "      <td>0.000877</td>\n",
       "      <td>3</td>\n",
       "      <td>2023</td>\n",
       "      <td>1</td>\n",
       "      <td>-1</td>\n",
       "    </tr>\n",
       "    <tr>\n",
       "      <th>2590</th>\n",
       "      <td>https://www.instagram.com/p/C8SlpCEq1e0/</td>\n",
       "      <td>costacoffee</td>\n",
       "      <td>2024-06-16</td>\n",
       "      <td>382.0</td>\n",
       "      <td>430000.0</td>\n",
       "      <td>0.000888</td>\n",
       "      <td>6</td>\n",
       "      <td>2024</td>\n",
       "      <td>2</td>\n",
       "      <td>-1</td>\n",
       "    </tr>\n",
       "    <tr>\n",
       "      <th>2843</th>\n",
       "      <td>https://www.instagram.com/p/CpzpALMAEXS/</td>\n",
       "      <td>costacoffee</td>\n",
       "      <td>2023-03-15</td>\n",
       "      <td>395.0</td>\n",
       "      <td>430000.0</td>\n",
       "      <td>0.000919</td>\n",
       "      <td>3</td>\n",
       "      <td>2023</td>\n",
       "      <td>1</td>\n",
       "      <td>-1</td>\n",
       "    </tr>\n",
       "    <tr>\n",
       "      <th>2580</th>\n",
       "      <td>https://www.instagram.com/p/C8-Ei1AKZ0I/</td>\n",
       "      <td>costacoffee</td>\n",
       "      <td>2024-07-03</td>\n",
       "      <td>396.0</td>\n",
       "      <td>430000.0</td>\n",
       "      <td>0.000921</td>\n",
       "      <td>7</td>\n",
       "      <td>2024</td>\n",
       "      <td>3</td>\n",
       "      <td>-1</td>\n",
       "    </tr>\n",
       "    <tr>\n",
       "      <th>2554</th>\n",
       "      <td>https://www.instagram.com/p/C-SLgiPKcq3/</td>\n",
       "      <td>costacoffee</td>\n",
       "      <td>2024-08-05</td>\n",
       "      <td>409.0</td>\n",
       "      <td>430000.0</td>\n",
       "      <td>0.000951</td>\n",
       "      <td>8</td>\n",
       "      <td>2024</td>\n",
       "      <td>3</td>\n",
       "      <td>-1</td>\n",
       "    </tr>\n",
       "    <tr>\n",
       "      <th>2638</th>\n",
       "      <td>https://www.instagram.com/p/C5S1KIPqVVN/</td>\n",
       "      <td>costacoffee</td>\n",
       "      <td>2024-04-03</td>\n",
       "      <td>415.0</td>\n",
       "      <td>430000.0</td>\n",
       "      <td>0.000965</td>\n",
       "      <td>4</td>\n",
       "      <td>2024</td>\n",
       "      <td>2</td>\n",
       "      <td>-1</td>\n",
       "    </tr>\n",
       "    <tr>\n",
       "      <th>2468</th>\n",
       "      <td>https://www.instagram.com/p/DGOCV9QKwB7/</td>\n",
       "      <td>costacoffee</td>\n",
       "      <td>2025-02-18</td>\n",
       "      <td>415.0</td>\n",
       "      <td>430000.0</td>\n",
       "      <td>0.000965</td>\n",
       "      <td>2</td>\n",
       "      <td>2025</td>\n",
       "      <td>1</td>\n",
       "      <td>-1</td>\n",
       "    </tr>\n",
       "    <tr>\n",
       "      <th>2697</th>\n",
       "      <td>https://www.instagram.com/p/C1E5EqKKTnN/</td>\n",
       "      <td>costacoffee</td>\n",
       "      <td>2023-12-20</td>\n",
       "      <td>418.0</td>\n",
       "      <td>430000.0</td>\n",
       "      <td>0.000972</td>\n",
       "      <td>12</td>\n",
       "      <td>2023</td>\n",
       "      <td>4</td>\n",
       "      <td>-1</td>\n",
       "    </tr>\n",
       "    <tr>\n",
       "      <th>2645</th>\n",
       "      <td>https://www.instagram.com/p/C4wCGPIqFK3/</td>\n",
       "      <td>costacoffee</td>\n",
       "      <td>2024-03-20</td>\n",
       "      <td>419.0</td>\n",
       "      <td>430000.0</td>\n",
       "      <td>0.000974</td>\n",
       "      <td>3</td>\n",
       "      <td>2024</td>\n",
       "      <td>1</td>\n",
       "      <td>-1</td>\n",
       "    </tr>\n",
       "    <tr>\n",
       "      <th>2470</th>\n",
       "      <td>https://www.instagram.com/p/DGDqTOOKhzF/</td>\n",
       "      <td>costacoffee</td>\n",
       "      <td>2025-02-14</td>\n",
       "      <td>422.0</td>\n",
       "      <td>430000.0</td>\n",
       "      <td>0.000981</td>\n",
       "      <td>2</td>\n",
       "      <td>2025</td>\n",
       "      <td>1</td>\n",
       "      <td>-1</td>\n",
       "    </tr>\n",
       "    <tr>\n",
       "      <th>2581</th>\n",
       "      <td>https://www.instagram.com/p/C8953jtM6XA/?img_i...</td>\n",
       "      <td>costacoffee</td>\n",
       "      <td>2024-07-03</td>\n",
       "      <td>423.0</td>\n",
       "      <td>430000.0</td>\n",
       "      <td>0.000984</td>\n",
       "      <td>7</td>\n",
       "      <td>2024</td>\n",
       "      <td>3</td>\n",
       "      <td>-1</td>\n",
       "    </tr>\n",
       "    <tr>\n",
       "      <th>2784</th>\n",
       "      <td>https://www.instagram.com/p/CuST5X0KGBZ/</td>\n",
       "      <td>costacoffee</td>\n",
       "      <td>2023-07-04</td>\n",
       "      <td>428.0</td>\n",
       "      <td>430000.0</td>\n",
       "      <td>0.000995</td>\n",
       "      <td>7</td>\n",
       "      <td>2023</td>\n",
       "      <td>3</td>\n",
       "      <td>-1</td>\n",
       "    </tr>\n",
       "    <tr>\n",
       "      <th>2534</th>\n",
       "      <td>https://www.instagram.com/p/C_sfKH2Ka90/</td>\n",
       "      <td>costacoffee</td>\n",
       "      <td>2024-09-09</td>\n",
       "      <td>428.0</td>\n",
       "      <td>430000.0</td>\n",
       "      <td>0.000995</td>\n",
       "      <td>9</td>\n",
       "      <td>2024</td>\n",
       "      <td>3</td>\n",
       "      <td>-1</td>\n",
       "    </tr>\n",
       "    <tr>\n",
       "      <th>2832</th>\n",
       "      <td>https://www.instagram.com/p/CqpueVLKsV3/</td>\n",
       "      <td>costacoffee</td>\n",
       "      <td>2023-04-05</td>\n",
       "      <td>439.0</td>\n",
       "      <td>430000.0</td>\n",
       "      <td>0.001021</td>\n",
       "      <td>4</td>\n",
       "      <td>2023</td>\n",
       "      <td>2</td>\n",
       "      <td>-1</td>\n",
       "    </tr>\n",
       "    <tr>\n",
       "      <th>2462</th>\n",
       "      <td>https://www.instagram.com/p/DHtQChnKUGt/</td>\n",
       "      <td>costacoffee</td>\n",
       "      <td>2025-03-27</td>\n",
       "      <td>440.0</td>\n",
       "      <td>430000.0</td>\n",
       "      <td>0.001023</td>\n",
       "      <td>3</td>\n",
       "      <td>2025</td>\n",
       "      <td>1</td>\n",
       "      <td>-1</td>\n",
       "    </tr>\n",
       "    <tr>\n",
       "      <th>2799</th>\n",
       "      <td>https://www.instagram.com/p/CtXB3aegN9d/</td>\n",
       "      <td>costacoffee</td>\n",
       "      <td>2023-06-11</td>\n",
       "      <td>442.0</td>\n",
       "      <td>430000.0</td>\n",
       "      <td>0.001028</td>\n",
       "      <td>6</td>\n",
       "      <td>2023</td>\n",
       "      <td>2</td>\n",
       "      <td>-1</td>\n",
       "    </tr>\n",
       "    <tr>\n",
       "      <th>2866</th>\n",
       "      <td>https://www.instagram.com/p/CoS6fswKFrx/</td>\n",
       "      <td>costacoffee</td>\n",
       "      <td>2023-02-05</td>\n",
       "      <td>449.0</td>\n",
       "      <td>430000.0</td>\n",
       "      <td>0.001044</td>\n",
       "      <td>2</td>\n",
       "      <td>2023</td>\n",
       "      <td>1</td>\n",
       "      <td>-1</td>\n",
       "    </tr>\n",
       "    <tr>\n",
       "      <th>2659</th>\n",
       "      <td>https://www.instagram.com/p/C33PCiTqMgn/</td>\n",
       "      <td>costacoffee</td>\n",
       "      <td>2024-02-27</td>\n",
       "      <td>449.0</td>\n",
       "      <td>430000.0</td>\n",
       "      <td>0.001044</td>\n",
       "      <td>2</td>\n",
       "      <td>2024</td>\n",
       "      <td>1</td>\n",
       "      <td>-1</td>\n",
       "    </tr>\n",
       "  </tbody>\n",
       "</table>\n",
       "</div>"
      ],
      "text/plain": [
       "                                              post_link         cafe  \\\n",
       "2886           https://www.instagram.com/p/CnPgbbyhzhR/  costacoffee   \n",
       "2633           https://www.instagram.com/p/C5lsbEAqt2p/  costacoffee   \n",
       "2558           https://www.instagram.com/p/C-DhCH6J09l/  costacoffee   \n",
       "2560           https://www.instagram.com/p/C-C8rWMKFN8/  costacoffee   \n",
       "2588           https://www.instagram.com/p/C8e_KQ8K2qT/  costacoffee   \n",
       "2553           https://www.instagram.com/p/C-VMMRrKeXa/  costacoffee   \n",
       "2489           https://www.instagram.com/p/DDdE55NuThI/  costacoffee   \n",
       "2634           https://www.instagram.com/p/C5gQ8GhKMi9/  costacoffee   \n",
       "2547           https://www.instagram.com/p/C-28d1cKfi3/  costacoffee   \n",
       "2641           https://www.instagram.com/p/C5GFfJbKtHy/  costacoffee   \n",
       "2592           https://www.instagram.com/p/C8NQNCNK32X/  costacoffee   \n",
       "2549           https://www.instagram.com/p/C-qtgOZKiFX/  costacoffee   \n",
       "2494           https://www.instagram.com/p/DC81eP5qTy2/  costacoffee   \n",
       "2572           https://www.instagram.com/p/C9e3PciKlxm/  costacoffee   \n",
       "2497           https://www.instagram.com/p/DCpX05rKBec/  costacoffee   \n",
       "2498           https://www.instagram.com/p/DCpXnsuqRFD/  costacoffee   \n",
       "2623           https://www.instagram.com/p/C6R02cNynMZ/  costacoffee   \n",
       "2562           https://www.instagram.com/p/C97Ve0dKQWB/  costacoffee   \n",
       "2552           https://www.instagram.com/p/C-XcJrjK5XA/  costacoffee   \n",
       "2521           https://www.instagram.com/p/DATPyLNsFV-/  costacoffee   \n",
       "2546           https://www.instagram.com/p/C-5UmahKHnG/  costacoffee   \n",
       "2616           https://www.instagram.com/p/C6q95LQtGY1/  costacoffee   \n",
       "2620           https://www.instagram.com/p/C6cC5H6KCIm/  costacoffee   \n",
       "2598           https://www.instagram.com/p/C8DCU6HKolq/  costacoffee   \n",
       "2565           https://www.instagram.com/p/C9zd2bHqcNq/  costacoffee   \n",
       "2563           https://www.instagram.com/p/C93gIeMPURh/  costacoffee   \n",
       "2511           https://www.instagram.com/p/DAvmsbHxivu/  costacoffee   \n",
       "2471           https://www.instagram.com/p/DGAvDmqKJ9W/  costacoffee   \n",
       "2602           https://www.instagram.com/p/C7q5o8aqmxM/  costacoffee   \n",
       "2601           https://www.instagram.com/p/C7yztPUKdzc/  costacoffee   \n",
       "2499           https://www.instagram.com/p/DCkBQdhqZh7/  costacoffee   \n",
       "2528           https://www.instagram.com/p/C__UCFnKbE5/  costacoffee   \n",
       "2846           https://www.instagram.com/p/CptaHe4o28D/  costacoffee   \n",
       "2590           https://www.instagram.com/p/C8SlpCEq1e0/  costacoffee   \n",
       "2843           https://www.instagram.com/p/CpzpALMAEXS/  costacoffee   \n",
       "2580           https://www.instagram.com/p/C8-Ei1AKZ0I/  costacoffee   \n",
       "2554           https://www.instagram.com/p/C-SLgiPKcq3/  costacoffee   \n",
       "2638           https://www.instagram.com/p/C5S1KIPqVVN/  costacoffee   \n",
       "2468           https://www.instagram.com/p/DGOCV9QKwB7/  costacoffee   \n",
       "2697           https://www.instagram.com/p/C1E5EqKKTnN/  costacoffee   \n",
       "2645           https://www.instagram.com/p/C4wCGPIqFK3/  costacoffee   \n",
       "2470           https://www.instagram.com/p/DGDqTOOKhzF/  costacoffee   \n",
       "2581  https://www.instagram.com/p/C8953jtM6XA/?img_i...  costacoffee   \n",
       "2784           https://www.instagram.com/p/CuST5X0KGBZ/  costacoffee   \n",
       "2534           https://www.instagram.com/p/C_sfKH2Ka90/  costacoffee   \n",
       "2832           https://www.instagram.com/p/CqpueVLKsV3/  costacoffee   \n",
       "2462           https://www.instagram.com/p/DHtQChnKUGt/  costacoffee   \n",
       "2799           https://www.instagram.com/p/CtXB3aegN9d/  costacoffee   \n",
       "2866           https://www.instagram.com/p/CoS6fswKFrx/  costacoffee   \n",
       "2659           https://www.instagram.com/p/C33PCiTqMgn/  costacoffee   \n",
       "\n",
       "     day_posted  n_likes  followers       var  month  year  trimester  q  \n",
       "2886 2023-01-10     54.0   430000.0  0.000126      1  2023          1 -1  \n",
       "2633 2024-04-10    177.0   430000.0  0.000412      4  2024          2 -1  \n",
       "2558 2024-07-30    211.0   430000.0  0.000491      7  2024          3 -1  \n",
       "2560 2024-07-30    222.0   430000.0  0.000516      7  2024          3 -1  \n",
       "2588 2024-06-21    228.0   430000.0  0.000530      6  2024          2 -1  \n",
       "2553 2024-08-06    235.0   430000.0  0.000547      8  2024          3 -1  \n",
       "2489 2024-12-11    238.0   430000.0  0.000553     12  2024          4 -1  \n",
       "2634 2024-04-08    258.0   430000.0  0.000600      4  2024          2 -1  \n",
       "2547 2024-08-19    258.0   430000.0  0.000600      8  2024          3 -1  \n",
       "2641 2024-03-29    260.0   430000.0  0.000605      3  2024          1 -1  \n",
       "2592 2024-06-14    264.0   430000.0  0.000614      6  2024          2 -1  \n",
       "2549 2024-08-14    268.0   430000.0  0.000623      8  2024          3 -1  \n",
       "2494 2024-11-29    270.0   430000.0  0.000628     11  2024          4 -1  \n",
       "2572 2024-07-16    274.0   430000.0  0.000637      7  2024          3 -1  \n",
       "2497 2024-11-21    275.0   430000.0  0.000640     11  2024          4 -1  \n",
       "2498 2024-11-21    275.0   430000.0  0.000640     11  2024          4 -1  \n",
       "2623 2024-04-27    286.0   430000.0  0.000665      4  2024          2 -1  \n",
       "2562 2024-07-27    291.0   430000.0  0.000677      7  2024          3 -1  \n",
       "2552 2024-08-07    295.0   430000.0  0.000686      8  2024          3 -1  \n",
       "2521 2024-09-24    304.0   430000.0  0.000707      9  2024          3 -1  \n",
       "2546 2024-08-20    310.0   430000.0  0.000721      8  2024          3 -1  \n",
       "2616 2024-05-07    311.0   430000.0  0.000723      5  2024          2 -1  \n",
       "2620 2024-05-01    311.0   430000.0  0.000723      5  2024          2 -1  \n",
       "2598 2024-06-10    316.0   430000.0  0.000735      6  2024          2 -1  \n",
       "2565 2024-07-24    324.0   430000.0  0.000753      7  2024          3 -1  \n",
       "2563 2024-07-26    325.0   430000.0  0.000756      7  2024          3 -1  \n",
       "2511 2024-10-05    334.0   430000.0  0.000777     10  2024          4 -1  \n",
       "2471 2025-02-13    339.0   430000.0  0.000788      2  2025          1 -1  \n",
       "2602 2024-06-01    351.0   430000.0  0.000816      6  2024          2 -1  \n",
       "2601 2024-06-04    355.0   430000.0  0.000826      6  2024          2 -1  \n",
       "2499 2024-11-19    362.0   430000.0  0.000842     11  2024          4 -1  \n",
       "2528 2024-09-16    364.0   430000.0  0.000847      9  2024          3 -1  \n",
       "2846 2023-03-13    377.0   430000.0  0.000877      3  2023          1 -1  \n",
       "2590 2024-06-16    382.0   430000.0  0.000888      6  2024          2 -1  \n",
       "2843 2023-03-15    395.0   430000.0  0.000919      3  2023          1 -1  \n",
       "2580 2024-07-03    396.0   430000.0  0.000921      7  2024          3 -1  \n",
       "2554 2024-08-05    409.0   430000.0  0.000951      8  2024          3 -1  \n",
       "2638 2024-04-03    415.0   430000.0  0.000965      4  2024          2 -1  \n",
       "2468 2025-02-18    415.0   430000.0  0.000965      2  2025          1 -1  \n",
       "2697 2023-12-20    418.0   430000.0  0.000972     12  2023          4 -1  \n",
       "2645 2024-03-20    419.0   430000.0  0.000974      3  2024          1 -1  \n",
       "2470 2025-02-14    422.0   430000.0  0.000981      2  2025          1 -1  \n",
       "2581 2024-07-03    423.0   430000.0  0.000984      7  2024          3 -1  \n",
       "2784 2023-07-04    428.0   430000.0  0.000995      7  2023          3 -1  \n",
       "2534 2024-09-09    428.0   430000.0  0.000995      9  2024          3 -1  \n",
       "2832 2023-04-05    439.0   430000.0  0.001021      4  2023          2 -1  \n",
       "2462 2025-03-27    440.0   430000.0  0.001023      3  2025          1 -1  \n",
       "2799 2023-06-11    442.0   430000.0  0.001028      6  2023          2 -1  \n",
       "2866 2023-02-05    449.0   430000.0  0.001044      2  2023          1 -1  \n",
       "2659 2024-02-27    449.0   430000.0  0.001044      2  2024          1 -1  "
      ]
     },
     "execution_count": 13,
     "metadata": {},
     "output_type": "execute_result"
    }
   ],
   "source": [
    "costa[costa['q']==-1].sort_values(by='var').head(50)"
   ]
  },
  {
   "cell_type": "code",
   "execution_count": null,
   "id": "7edc03ba",
   "metadata": {},
   "outputs": [],
   "source": []
  }
 ],
 "metadata": {
  "kernelspec": {
   "display_name": "myenv",
   "language": "python",
   "name": "python3"
  },
  "language_info": {
   "codemirror_mode": {
    "name": "ipython",
    "version": 3
   },
   "file_extension": ".py",
   "mimetype": "text/x-python",
   "name": "python",
   "nbconvert_exporter": "python",
   "pygments_lexer": "ipython3",
   "version": "3.13.0"
  }
 },
 "nbformat": 4,
 "nbformat_minor": 5
}
