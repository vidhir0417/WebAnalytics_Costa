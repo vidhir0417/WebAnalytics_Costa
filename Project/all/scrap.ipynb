{
 "cells": [
  {
   "cell_type": "code",
   "execution_count": 1,
   "id": "6f74497b",
   "metadata": {},
   "outputs": [],
   "source": [
    "from selenium import webdriver    \n",
    "from selenium.webdriver.common.by import By\n",
    "from bs4 import BeautifulSoup\n",
    "import time\n",
    "import csv \n",
    "from selenium.webdriver.chrome.options import Options\n",
    "#mail : mariatakunawa@protonmail.com, b4sqbPzaBTGaEQM#\n",
    "#mail : bubalicious1@outlook.com, x64QQLasKHvyx84"
   ]
  },
  {
   "cell_type": "code",
   "execution_count": 2,
   "id": "6d53aa21",
   "metadata": {},
   "outputs": [],
   "source": [
    "browser = webdriver.Chrome(options=Options())\n",
    "url = \"https://www.instagram.com/ucalchocolate/\"  \n",
    "browser.get(url)"
   ]
  },
  {
   "cell_type": "code",
   "execution_count": 3,
   "id": "200ff99f",
   "metadata": {},
   "outputs": [],
   "source": [
    "accept_coockies = browser.find_elements(By.CLASS_NAME, '_a9--')\n",
    "time.sleep(1)\n",
    "while len(accept_coockies) == 0:\n",
    "    accept_coockies = browser.find_elements(By.CLASS_NAME, '_a9--')\n",
    "    time.sleep(1)\n",
    "accept_coockies[0].click()"
   ]
  },
  {
   "cell_type": "code",
   "execution_count": 4,
   "id": "fc1a2134",
   "metadata": {},
   "outputs": [
    {
     "ename": "InvalidSessionIdException",
     "evalue": "Message: invalid session id: session deleted as the browser has closed the connection\nfrom disconnected: not connected to DevTools\n  (Session info: chrome=136.0.7103.93)\nStacktrace:\n\tGetHandleVerifier [0x00007FF65AA9CF25+75717]\n\tGetHandleVerifier [0x00007FF65AA9CF80+75808]\n\t(No symbol) [0x00007FF65A868F9A]\n\t(No symbol) [0x00007FF65A854E35]\n\t(No symbol) [0x00007FF65A879DB4]\n\t(No symbol) [0x00007FF65A8EEE75]\n\t(No symbol) [0x00007FF65A90ECC2]\n\t(No symbol) [0x00007FF65A8E7153]\n\t(No symbol) [0x00007FF65A8B0421]\n\t(No symbol) [0x00007FF65A8B11B3]\n\tGetHandleVerifier [0x00007FF65AD9D6FD+3223453]\n\tGetHandleVerifier [0x00007FF65AD97CA2+3200322]\n\tGetHandleVerifier [0x00007FF65ADB5AD3+3322739]\n\tGetHandleVerifier [0x00007FF65AAB69FA+180890]\n\tGetHandleVerifier [0x00007FF65AABE0FF+211359]\n\tGetHandleVerifier [0x00007FF65AAA5274+109332]\n\tGetHandleVerifier [0x00007FF65AAA5422+109762]\n\tGetHandleVerifier [0x00007FF65AA8BA39+4825]\n\tBaseThreadInitThunk [0x00007FFE9B0CE8D7+23]\n\tRtlUserThreadStart [0x00007FFE9C7B14FC+44]\n",
     "output_type": "error",
     "traceback": [
      "\u001b[1;31m---------------------------------------------------------------------------\u001b[0m",
      "\u001b[1;31mInvalidSessionIdException\u001b[0m                 Traceback (most recent call last)",
      "Cell \u001b[1;32mIn[4], line 1\u001b[0m\n\u001b[1;32m----> 1\u001b[0m login \u001b[38;5;241m=\u001b[39m \u001b[43mbrowser\u001b[49m\u001b[38;5;241;43m.\u001b[39;49m\u001b[43mfind_elements\u001b[49m\u001b[43m(\u001b[49m\u001b[43mBy\u001b[49m\u001b[38;5;241;43m.\u001b[39;49m\u001b[43mXPATH\u001b[49m\u001b[43m,\u001b[49m\u001b[43m \u001b[49m\u001b[38;5;124;43m\"\u001b[39;49m\u001b[38;5;124;43m//div[contains(@class, \u001b[39;49m\u001b[38;5;124;43m'\u001b[39;49m\u001b[38;5;124;43mx1i10hfl\u001b[39;49m\u001b[38;5;124;43m'\u001b[39;49m\u001b[38;5;124;43m) and text()=\u001b[39;49m\u001b[38;5;124;43m'\u001b[39;49m\u001b[38;5;124;43mLog in\u001b[39;49m\u001b[38;5;124;43m'\u001b[39;49m\u001b[38;5;124;43m]\u001b[39;49m\u001b[38;5;124;43m\"\u001b[39;49m\u001b[43m)\u001b[49m\n\u001b[0;32m      2\u001b[0m time\u001b[38;5;241m.\u001b[39msleep(\u001b[38;5;241m1\u001b[39m)\n\u001b[0;32m      3\u001b[0m \u001b[38;5;28;01mwhile\u001b[39;00m \u001b[38;5;28mlen\u001b[39m(login) \u001b[38;5;241m==\u001b[39m \u001b[38;5;241m0\u001b[39m:\n",
      "File \u001b[1;32mc:\\Users\\Vidhi Rajanikante\\anaconda3\\envs\\text-mining1\\lib\\site-packages\\selenium\\webdriver\\remote\\webdriver.py:955\u001b[0m, in \u001b[0;36mWebDriver.find_elements\u001b[1;34m(self, by, value)\u001b[0m\n\u001b[0;32m    951\u001b[0m     \u001b[38;5;28;01mreturn\u001b[39;00m \u001b[38;5;28mself\u001b[39m\u001b[38;5;241m.\u001b[39mexecute_script(find_element_js, by\u001b[38;5;241m.\u001b[39mto_dict())\n\u001b[0;32m    953\u001b[0m \u001b[38;5;66;03m# Return empty list if driver returns null\u001b[39;00m\n\u001b[0;32m    954\u001b[0m \u001b[38;5;66;03m# See https://github.com/SeleniumHQ/selenium/issues/4555\u001b[39;00m\n\u001b[1;32m--> 955\u001b[0m \u001b[38;5;28;01mreturn\u001b[39;00m \u001b[38;5;28;43mself\u001b[39;49m\u001b[38;5;241;43m.\u001b[39;49m\u001b[43mexecute\u001b[49m\u001b[43m(\u001b[49m\u001b[43mCommand\u001b[49m\u001b[38;5;241;43m.\u001b[39;49m\u001b[43mFIND_ELEMENTS\u001b[49m\u001b[43m,\u001b[49m\u001b[43m \u001b[49m\u001b[43m{\u001b[49m\u001b[38;5;124;43m\"\u001b[39;49m\u001b[38;5;124;43musing\u001b[39;49m\u001b[38;5;124;43m\"\u001b[39;49m\u001b[43m:\u001b[49m\u001b[43m \u001b[49m\u001b[43mby\u001b[49m\u001b[43m,\u001b[49m\u001b[43m \u001b[49m\u001b[38;5;124;43m\"\u001b[39;49m\u001b[38;5;124;43mvalue\u001b[39;49m\u001b[38;5;124;43m\"\u001b[39;49m\u001b[43m:\u001b[49m\u001b[43m \u001b[49m\u001b[43mvalue\u001b[49m\u001b[43m}\u001b[49m\u001b[43m)\u001b[49m[\u001b[38;5;124m\"\u001b[39m\u001b[38;5;124mvalue\u001b[39m\u001b[38;5;124m\"\u001b[39m] \u001b[38;5;129;01mor\u001b[39;00m []\n",
      "File \u001b[1;32mc:\\Users\\Vidhi Rajanikante\\anaconda3\\envs\\text-mining1\\lib\\site-packages\\selenium\\webdriver\\remote\\webdriver.py:448\u001b[0m, in \u001b[0;36mWebDriver.execute\u001b[1;34m(self, driver_command, params)\u001b[0m\n\u001b[0;32m    446\u001b[0m response \u001b[38;5;241m=\u001b[39m \u001b[38;5;28mself\u001b[39m\u001b[38;5;241m.\u001b[39mcommand_executor\u001b[38;5;241m.\u001b[39mexecute(driver_command, params)\n\u001b[0;32m    447\u001b[0m \u001b[38;5;28;01mif\u001b[39;00m response:\n\u001b[1;32m--> 448\u001b[0m     \u001b[38;5;28;43mself\u001b[39;49m\u001b[38;5;241;43m.\u001b[39;49m\u001b[43merror_handler\u001b[49m\u001b[38;5;241;43m.\u001b[39;49m\u001b[43mcheck_response\u001b[49m\u001b[43m(\u001b[49m\u001b[43mresponse\u001b[49m\u001b[43m)\u001b[49m\n\u001b[0;32m    449\u001b[0m     response[\u001b[38;5;124m\"\u001b[39m\u001b[38;5;124mvalue\u001b[39m\u001b[38;5;124m\"\u001b[39m] \u001b[38;5;241m=\u001b[39m \u001b[38;5;28mself\u001b[39m\u001b[38;5;241m.\u001b[39m_unwrap_value(response\u001b[38;5;241m.\u001b[39mget(\u001b[38;5;124m\"\u001b[39m\u001b[38;5;124mvalue\u001b[39m\u001b[38;5;124m\"\u001b[39m, \u001b[38;5;28;01mNone\u001b[39;00m))\n\u001b[0;32m    450\u001b[0m     \u001b[38;5;28;01mreturn\u001b[39;00m response\n",
      "File \u001b[1;32mc:\\Users\\Vidhi Rajanikante\\anaconda3\\envs\\text-mining1\\lib\\site-packages\\selenium\\webdriver\\remote\\errorhandler.py:232\u001b[0m, in \u001b[0;36mErrorHandler.check_response\u001b[1;34m(self, response)\u001b[0m\n\u001b[0;32m    230\u001b[0m         alert_text \u001b[38;5;241m=\u001b[39m value[\u001b[38;5;124m\"\u001b[39m\u001b[38;5;124malert\u001b[39m\u001b[38;5;124m\"\u001b[39m]\u001b[38;5;241m.\u001b[39mget(\u001b[38;5;124m\"\u001b[39m\u001b[38;5;124mtext\u001b[39m\u001b[38;5;124m\"\u001b[39m)\n\u001b[0;32m    231\u001b[0m     \u001b[38;5;28;01mraise\u001b[39;00m exception_class(message, screen, stacktrace, alert_text)  \u001b[38;5;66;03m# type: ignore[call-arg]  # mypy is not smart enough here\u001b[39;00m\n\u001b[1;32m--> 232\u001b[0m \u001b[38;5;28;01mraise\u001b[39;00m exception_class(message, screen, stacktrace)\n",
      "\u001b[1;31mInvalidSessionIdException\u001b[0m: Message: invalid session id: session deleted as the browser has closed the connection\nfrom disconnected: not connected to DevTools\n  (Session info: chrome=136.0.7103.93)\nStacktrace:\n\tGetHandleVerifier [0x00007FF65AA9CF25+75717]\n\tGetHandleVerifier [0x00007FF65AA9CF80+75808]\n\t(No symbol) [0x00007FF65A868F9A]\n\t(No symbol) [0x00007FF65A854E35]\n\t(No symbol) [0x00007FF65A879DB4]\n\t(No symbol) [0x00007FF65A8EEE75]\n\t(No symbol) [0x00007FF65A90ECC2]\n\t(No symbol) [0x00007FF65A8E7153]\n\t(No symbol) [0x00007FF65A8B0421]\n\t(No symbol) [0x00007FF65A8B11B3]\n\tGetHandleVerifier [0x00007FF65AD9D6FD+3223453]\n\tGetHandleVerifier [0x00007FF65AD97CA2+3200322]\n\tGetHandleVerifier [0x00007FF65ADB5AD3+3322739]\n\tGetHandleVerifier [0x00007FF65AAB69FA+180890]\n\tGetHandleVerifier [0x00007FF65AABE0FF+211359]\n\tGetHandleVerifier [0x00007FF65AAA5274+109332]\n\tGetHandleVerifier [0x00007FF65AAA5422+109762]\n\tGetHandleVerifier [0x00007FF65AA8BA39+4825]\n\tBaseThreadInitThunk [0x00007FFE9B0CE8D7+23]\n\tRtlUserThreadStart [0x00007FFE9C7B14FC+44]\n"
     ]
    }
   ],
   "source": [
    "login = browser.find_elements(By.XPATH, \"//div[contains(@class, 'x1i10hfl') and text()='Log in']\")\n",
    "time.sleep(1)\n",
    "while len(login) == 0:\n",
    "    login = browser.find_elements(By.XPATH, \"//div[contains(@class, 'x1i10hfl') and text()='Log in']\")\n",
    "    time.sleep(1)\n",
    "login[0].click()"
   ]
  },
  {
   "cell_type": "code",
   "execution_count": 5,
   "id": "cb8bfd24",
   "metadata": {},
   "outputs": [
    {
     "ename": "InvalidSessionIdException",
     "evalue": "Message: invalid session id\nStacktrace:\n\tGetHandleVerifier [0x00007FF65AA9CF25+75717]\n\tGetHandleVerifier [0x00007FF65AA9CF80+75808]\n\t(No symbol) [0x00007FF65A868DCC]\n\t(No symbol) [0x00007FF65A8AF54F]\n\t(No symbol) [0x00007FF65A8E7242]\n\t(No symbol) [0x00007FF65A8E1C63]\n\t(No symbol) [0x00007FF65A8E0D29]\n\t(No symbol) [0x00007FF65A835A55]\n\tGetHandleVerifier [0x00007FF65AD9D6FD+3223453]\n\tGetHandleVerifier [0x00007FF65AD97CA2+3200322]\n\tGetHandleVerifier [0x00007FF65ADB5AD3+3322739]\n\tGetHandleVerifier [0x00007FF65AAB69FA+180890]\n\tGetHandleVerifier [0x00007FF65AABE0FF+211359]\n\t(No symbol) [0x00007FF65A834AC8]\n\tGetHandleVerifier [0x00007FF65AE86FA8+4180040]\n\tBaseThreadInitThunk [0x00007FFE9B0CE8D7+23]\n\tRtlUserThreadStart [0x00007FFE9C7B14FC+44]\n",
     "output_type": "error",
     "traceback": [
      "\u001b[1;31m---------------------------------------------------------------------------\u001b[0m",
      "\u001b[1;31mInvalidSessionIdException\u001b[0m                 Traceback (most recent call last)",
      "Cell \u001b[1;32mIn[5], line 1\u001b[0m\n\u001b[1;32m----> 1\u001b[0m username \u001b[38;5;241m=\u001b[39m \u001b[43mbrowser\u001b[49m\u001b[38;5;241;43m.\u001b[39;49m\u001b[43mfind_elements\u001b[49m\u001b[43m(\u001b[49m\u001b[43mBy\u001b[49m\u001b[38;5;241;43m.\u001b[39;49m\u001b[43mXPATH\u001b[49m\u001b[43m,\u001b[49m\u001b[43m \u001b[49m\u001b[38;5;124;43m\"\u001b[39;49m\u001b[38;5;124;43m//input[@name=\u001b[39;49m\u001b[38;5;124;43m'\u001b[39;49m\u001b[38;5;124;43musername\u001b[39;49m\u001b[38;5;124;43m'\u001b[39;49m\u001b[38;5;124;43m]\u001b[39;49m\u001b[38;5;124;43m\"\u001b[39;49m\u001b[43m)\u001b[49m\n\u001b[0;32m      2\u001b[0m \u001b[38;5;28;01mwhile\u001b[39;00m \u001b[38;5;28mlen\u001b[39m(username) \u001b[38;5;241m==\u001b[39m \u001b[38;5;241m0\u001b[39m:\n\u001b[0;32m      3\u001b[0m     username \u001b[38;5;241m=\u001b[39m browser\u001b[38;5;241m.\u001b[39mfind_elements(By\u001b[38;5;241m.\u001b[39mXPATH, \u001b[38;5;124m\"\u001b[39m\u001b[38;5;124m//input[@name=\u001b[39m\u001b[38;5;124m'\u001b[39m\u001b[38;5;124musername\u001b[39m\u001b[38;5;124m'\u001b[39m\u001b[38;5;124m]\u001b[39m\u001b[38;5;124m\"\u001b[39m)\n",
      "File \u001b[1;32mc:\\Users\\Vidhi Rajanikante\\anaconda3\\envs\\text-mining1\\lib\\site-packages\\selenium\\webdriver\\remote\\webdriver.py:955\u001b[0m, in \u001b[0;36mWebDriver.find_elements\u001b[1;34m(self, by, value)\u001b[0m\n\u001b[0;32m    951\u001b[0m     \u001b[38;5;28;01mreturn\u001b[39;00m \u001b[38;5;28mself\u001b[39m\u001b[38;5;241m.\u001b[39mexecute_script(find_element_js, by\u001b[38;5;241m.\u001b[39mto_dict())\n\u001b[0;32m    953\u001b[0m \u001b[38;5;66;03m# Return empty list if driver returns null\u001b[39;00m\n\u001b[0;32m    954\u001b[0m \u001b[38;5;66;03m# See https://github.com/SeleniumHQ/selenium/issues/4555\u001b[39;00m\n\u001b[1;32m--> 955\u001b[0m \u001b[38;5;28;01mreturn\u001b[39;00m \u001b[38;5;28;43mself\u001b[39;49m\u001b[38;5;241;43m.\u001b[39;49m\u001b[43mexecute\u001b[49m\u001b[43m(\u001b[49m\u001b[43mCommand\u001b[49m\u001b[38;5;241;43m.\u001b[39;49m\u001b[43mFIND_ELEMENTS\u001b[49m\u001b[43m,\u001b[49m\u001b[43m \u001b[49m\u001b[43m{\u001b[49m\u001b[38;5;124;43m\"\u001b[39;49m\u001b[38;5;124;43musing\u001b[39;49m\u001b[38;5;124;43m\"\u001b[39;49m\u001b[43m:\u001b[49m\u001b[43m \u001b[49m\u001b[43mby\u001b[49m\u001b[43m,\u001b[49m\u001b[43m \u001b[49m\u001b[38;5;124;43m\"\u001b[39;49m\u001b[38;5;124;43mvalue\u001b[39;49m\u001b[38;5;124;43m\"\u001b[39;49m\u001b[43m:\u001b[49m\u001b[43m \u001b[49m\u001b[43mvalue\u001b[49m\u001b[43m}\u001b[49m\u001b[43m)\u001b[49m[\u001b[38;5;124m\"\u001b[39m\u001b[38;5;124mvalue\u001b[39m\u001b[38;5;124m\"\u001b[39m] \u001b[38;5;129;01mor\u001b[39;00m []\n",
      "File \u001b[1;32mc:\\Users\\Vidhi Rajanikante\\anaconda3\\envs\\text-mining1\\lib\\site-packages\\selenium\\webdriver\\remote\\webdriver.py:448\u001b[0m, in \u001b[0;36mWebDriver.execute\u001b[1;34m(self, driver_command, params)\u001b[0m\n\u001b[0;32m    446\u001b[0m response \u001b[38;5;241m=\u001b[39m \u001b[38;5;28mself\u001b[39m\u001b[38;5;241m.\u001b[39mcommand_executor\u001b[38;5;241m.\u001b[39mexecute(driver_command, params)\n\u001b[0;32m    447\u001b[0m \u001b[38;5;28;01mif\u001b[39;00m response:\n\u001b[1;32m--> 448\u001b[0m     \u001b[38;5;28;43mself\u001b[39;49m\u001b[38;5;241;43m.\u001b[39;49m\u001b[43merror_handler\u001b[49m\u001b[38;5;241;43m.\u001b[39;49m\u001b[43mcheck_response\u001b[49m\u001b[43m(\u001b[49m\u001b[43mresponse\u001b[49m\u001b[43m)\u001b[49m\n\u001b[0;32m    449\u001b[0m     response[\u001b[38;5;124m\"\u001b[39m\u001b[38;5;124mvalue\u001b[39m\u001b[38;5;124m\"\u001b[39m] \u001b[38;5;241m=\u001b[39m \u001b[38;5;28mself\u001b[39m\u001b[38;5;241m.\u001b[39m_unwrap_value(response\u001b[38;5;241m.\u001b[39mget(\u001b[38;5;124m\"\u001b[39m\u001b[38;5;124mvalue\u001b[39m\u001b[38;5;124m\"\u001b[39m, \u001b[38;5;28;01mNone\u001b[39;00m))\n\u001b[0;32m    450\u001b[0m     \u001b[38;5;28;01mreturn\u001b[39;00m response\n",
      "File \u001b[1;32mc:\\Users\\Vidhi Rajanikante\\anaconda3\\envs\\text-mining1\\lib\\site-packages\\selenium\\webdriver\\remote\\errorhandler.py:232\u001b[0m, in \u001b[0;36mErrorHandler.check_response\u001b[1;34m(self, response)\u001b[0m\n\u001b[0;32m    230\u001b[0m         alert_text \u001b[38;5;241m=\u001b[39m value[\u001b[38;5;124m\"\u001b[39m\u001b[38;5;124malert\u001b[39m\u001b[38;5;124m\"\u001b[39m]\u001b[38;5;241m.\u001b[39mget(\u001b[38;5;124m\"\u001b[39m\u001b[38;5;124mtext\u001b[39m\u001b[38;5;124m\"\u001b[39m)\n\u001b[0;32m    231\u001b[0m     \u001b[38;5;28;01mraise\u001b[39;00m exception_class(message, screen, stacktrace, alert_text)  \u001b[38;5;66;03m# type: ignore[call-arg]  # mypy is not smart enough here\u001b[39;00m\n\u001b[1;32m--> 232\u001b[0m \u001b[38;5;28;01mraise\u001b[39;00m exception_class(message, screen, stacktrace)\n",
      "\u001b[1;31mInvalidSessionIdException\u001b[0m: Message: invalid session id\nStacktrace:\n\tGetHandleVerifier [0x00007FF65AA9CF25+75717]\n\tGetHandleVerifier [0x00007FF65AA9CF80+75808]\n\t(No symbol) [0x00007FF65A868DCC]\n\t(No symbol) [0x00007FF65A8AF54F]\n\t(No symbol) [0x00007FF65A8E7242]\n\t(No symbol) [0x00007FF65A8E1C63]\n\t(No symbol) [0x00007FF65A8E0D29]\n\t(No symbol) [0x00007FF65A835A55]\n\tGetHandleVerifier [0x00007FF65AD9D6FD+3223453]\n\tGetHandleVerifier [0x00007FF65AD97CA2+3200322]\n\tGetHandleVerifier [0x00007FF65ADB5AD3+3322739]\n\tGetHandleVerifier [0x00007FF65AAB69FA+180890]\n\tGetHandleVerifier [0x00007FF65AABE0FF+211359]\n\t(No symbol) [0x00007FF65A834AC8]\n\tGetHandleVerifier [0x00007FF65AE86FA8+4180040]\n\tBaseThreadInitThunk [0x00007FFE9B0CE8D7+23]\n\tRtlUserThreadStart [0x00007FFE9C7B14FC+44]\n"
     ]
    }
   ],
   "source": [
    "username = browser.find_elements(By.XPATH, \"//input[@name='username']\")\n",
    "while len(username) == 0:\n",
    "    username = browser.find_elements(By.XPATH, \"//input[@name='username']\")\n",
    "    time.sleep(1)\n",
    "username[0].send_keys(\"bubalicious13\")"
   ]
  },
  {
   "cell_type": "code",
   "execution_count": 6,
   "id": "9fbac790",
   "metadata": {},
   "outputs": [
    {
     "ename": "InvalidSessionIdException",
     "evalue": "Message: invalid session id\nStacktrace:\n\tGetHandleVerifier [0x00007FF65AA9CF25+75717]\n\tGetHandleVerifier [0x00007FF65AA9CF80+75808]\n\t(No symbol) [0x00007FF65A868DCC]\n\t(No symbol) [0x00007FF65A8AF54F]\n\t(No symbol) [0x00007FF65A8E7242]\n\t(No symbol) [0x00007FF65A8E1C63]\n\t(No symbol) [0x00007FF65A8E0D29]\n\t(No symbol) [0x00007FF65A835A55]\n\tGetHandleVerifier [0x00007FF65AD9D6FD+3223453]\n\tGetHandleVerifier [0x00007FF65AD97CA2+3200322]\n\tGetHandleVerifier [0x00007FF65ADB5AD3+3322739]\n\tGetHandleVerifier [0x00007FF65AAB69FA+180890]\n\tGetHandleVerifier [0x00007FF65AABE0FF+211359]\n\t(No symbol) [0x00007FF65A834AC8]\n\tGetHandleVerifier [0x00007FF65AE86FA8+4180040]\n\tBaseThreadInitThunk [0x00007FFE9B0CE8D7+23]\n\tRtlUserThreadStart [0x00007FFE9C7B14FC+44]\n",
     "output_type": "error",
     "traceback": [
      "\u001b[1;31m---------------------------------------------------------------------------\u001b[0m",
      "\u001b[1;31mInvalidSessionIdException\u001b[0m                 Traceback (most recent call last)",
      "Cell \u001b[1;32mIn[6], line 1\u001b[0m\n\u001b[1;32m----> 1\u001b[0m password \u001b[38;5;241m=\u001b[39m \u001b[43mbrowser\u001b[49m\u001b[38;5;241;43m.\u001b[39;49m\u001b[43mfind_elements\u001b[49m\u001b[43m(\u001b[49m\u001b[43mBy\u001b[49m\u001b[38;5;241;43m.\u001b[39;49m\u001b[43mXPATH\u001b[49m\u001b[43m,\u001b[49m\u001b[43m \u001b[49m\u001b[38;5;124;43m\"\u001b[39;49m\u001b[38;5;124;43m//input[@name=\u001b[39;49m\u001b[38;5;124;43m'\u001b[39;49m\u001b[38;5;124;43mpassword\u001b[39;49m\u001b[38;5;124;43m'\u001b[39;49m\u001b[38;5;124;43m]\u001b[39;49m\u001b[38;5;124;43m\"\u001b[39;49m\u001b[43m)\u001b[49m\n\u001b[0;32m      2\u001b[0m \u001b[38;5;28;01mwhile\u001b[39;00m \u001b[38;5;28mlen\u001b[39m(password) \u001b[38;5;241m==\u001b[39m \u001b[38;5;241m0\u001b[39m:\n\u001b[0;32m      3\u001b[0m     password \u001b[38;5;241m=\u001b[39m browser\u001b[38;5;241m.\u001b[39mfind_elements(By\u001b[38;5;241m.\u001b[39mXPATH, \u001b[38;5;124m\"\u001b[39m\u001b[38;5;124m//input[@name=\u001b[39m\u001b[38;5;124m'\u001b[39m\u001b[38;5;124mpassword\u001b[39m\u001b[38;5;124m'\u001b[39m\u001b[38;5;124m]\u001b[39m\u001b[38;5;124m\"\u001b[39m)\n",
      "File \u001b[1;32mc:\\Users\\Vidhi Rajanikante\\anaconda3\\envs\\text-mining1\\lib\\site-packages\\selenium\\webdriver\\remote\\webdriver.py:955\u001b[0m, in \u001b[0;36mWebDriver.find_elements\u001b[1;34m(self, by, value)\u001b[0m\n\u001b[0;32m    951\u001b[0m     \u001b[38;5;28;01mreturn\u001b[39;00m \u001b[38;5;28mself\u001b[39m\u001b[38;5;241m.\u001b[39mexecute_script(find_element_js, by\u001b[38;5;241m.\u001b[39mto_dict())\n\u001b[0;32m    953\u001b[0m \u001b[38;5;66;03m# Return empty list if driver returns null\u001b[39;00m\n\u001b[0;32m    954\u001b[0m \u001b[38;5;66;03m# See https://github.com/SeleniumHQ/selenium/issues/4555\u001b[39;00m\n\u001b[1;32m--> 955\u001b[0m \u001b[38;5;28;01mreturn\u001b[39;00m \u001b[38;5;28;43mself\u001b[39;49m\u001b[38;5;241;43m.\u001b[39;49m\u001b[43mexecute\u001b[49m\u001b[43m(\u001b[49m\u001b[43mCommand\u001b[49m\u001b[38;5;241;43m.\u001b[39;49m\u001b[43mFIND_ELEMENTS\u001b[49m\u001b[43m,\u001b[49m\u001b[43m \u001b[49m\u001b[43m{\u001b[49m\u001b[38;5;124;43m\"\u001b[39;49m\u001b[38;5;124;43musing\u001b[39;49m\u001b[38;5;124;43m\"\u001b[39;49m\u001b[43m:\u001b[49m\u001b[43m \u001b[49m\u001b[43mby\u001b[49m\u001b[43m,\u001b[49m\u001b[43m \u001b[49m\u001b[38;5;124;43m\"\u001b[39;49m\u001b[38;5;124;43mvalue\u001b[39;49m\u001b[38;5;124;43m\"\u001b[39;49m\u001b[43m:\u001b[49m\u001b[43m \u001b[49m\u001b[43mvalue\u001b[49m\u001b[43m}\u001b[49m\u001b[43m)\u001b[49m[\u001b[38;5;124m\"\u001b[39m\u001b[38;5;124mvalue\u001b[39m\u001b[38;5;124m\"\u001b[39m] \u001b[38;5;129;01mor\u001b[39;00m []\n",
      "File \u001b[1;32mc:\\Users\\Vidhi Rajanikante\\anaconda3\\envs\\text-mining1\\lib\\site-packages\\selenium\\webdriver\\remote\\webdriver.py:448\u001b[0m, in \u001b[0;36mWebDriver.execute\u001b[1;34m(self, driver_command, params)\u001b[0m\n\u001b[0;32m    446\u001b[0m response \u001b[38;5;241m=\u001b[39m \u001b[38;5;28mself\u001b[39m\u001b[38;5;241m.\u001b[39mcommand_executor\u001b[38;5;241m.\u001b[39mexecute(driver_command, params)\n\u001b[0;32m    447\u001b[0m \u001b[38;5;28;01mif\u001b[39;00m response:\n\u001b[1;32m--> 448\u001b[0m     \u001b[38;5;28;43mself\u001b[39;49m\u001b[38;5;241;43m.\u001b[39;49m\u001b[43merror_handler\u001b[49m\u001b[38;5;241;43m.\u001b[39;49m\u001b[43mcheck_response\u001b[49m\u001b[43m(\u001b[49m\u001b[43mresponse\u001b[49m\u001b[43m)\u001b[49m\n\u001b[0;32m    449\u001b[0m     response[\u001b[38;5;124m\"\u001b[39m\u001b[38;5;124mvalue\u001b[39m\u001b[38;5;124m\"\u001b[39m] \u001b[38;5;241m=\u001b[39m \u001b[38;5;28mself\u001b[39m\u001b[38;5;241m.\u001b[39m_unwrap_value(response\u001b[38;5;241m.\u001b[39mget(\u001b[38;5;124m\"\u001b[39m\u001b[38;5;124mvalue\u001b[39m\u001b[38;5;124m\"\u001b[39m, \u001b[38;5;28;01mNone\u001b[39;00m))\n\u001b[0;32m    450\u001b[0m     \u001b[38;5;28;01mreturn\u001b[39;00m response\n",
      "File \u001b[1;32mc:\\Users\\Vidhi Rajanikante\\anaconda3\\envs\\text-mining1\\lib\\site-packages\\selenium\\webdriver\\remote\\errorhandler.py:232\u001b[0m, in \u001b[0;36mErrorHandler.check_response\u001b[1;34m(self, response)\u001b[0m\n\u001b[0;32m    230\u001b[0m         alert_text \u001b[38;5;241m=\u001b[39m value[\u001b[38;5;124m\"\u001b[39m\u001b[38;5;124malert\u001b[39m\u001b[38;5;124m\"\u001b[39m]\u001b[38;5;241m.\u001b[39mget(\u001b[38;5;124m\"\u001b[39m\u001b[38;5;124mtext\u001b[39m\u001b[38;5;124m\"\u001b[39m)\n\u001b[0;32m    231\u001b[0m     \u001b[38;5;28;01mraise\u001b[39;00m exception_class(message, screen, stacktrace, alert_text)  \u001b[38;5;66;03m# type: ignore[call-arg]  # mypy is not smart enough here\u001b[39;00m\n\u001b[1;32m--> 232\u001b[0m \u001b[38;5;28;01mraise\u001b[39;00m exception_class(message, screen, stacktrace)\n",
      "\u001b[1;31mInvalidSessionIdException\u001b[0m: Message: invalid session id\nStacktrace:\n\tGetHandleVerifier [0x00007FF65AA9CF25+75717]\n\tGetHandleVerifier [0x00007FF65AA9CF80+75808]\n\t(No symbol) [0x00007FF65A868DCC]\n\t(No symbol) [0x00007FF65A8AF54F]\n\t(No symbol) [0x00007FF65A8E7242]\n\t(No symbol) [0x00007FF65A8E1C63]\n\t(No symbol) [0x00007FF65A8E0D29]\n\t(No symbol) [0x00007FF65A835A55]\n\tGetHandleVerifier [0x00007FF65AD9D6FD+3223453]\n\tGetHandleVerifier [0x00007FF65AD97CA2+3200322]\n\tGetHandleVerifier [0x00007FF65ADB5AD3+3322739]\n\tGetHandleVerifier [0x00007FF65AAB69FA+180890]\n\tGetHandleVerifier [0x00007FF65AABE0FF+211359]\n\t(No symbol) [0x00007FF65A834AC8]\n\tGetHandleVerifier [0x00007FF65AE86FA8+4180040]\n\tBaseThreadInitThunk [0x00007FFE9B0CE8D7+23]\n\tRtlUserThreadStart [0x00007FFE9C7B14FC+44]\n"
     ]
    }
   ],
   "source": [
    "password = browser.find_elements(By.XPATH, \"//input[@name='password']\")\n",
    "while len(password) == 0:\n",
    "    password = browser.find_elements(By.XPATH, \"//input[@name='password']\")\n",
    "    time.sleep(1)\n",
    "password[0].send_keys(\"x64QQLasKHvyx84\")"
   ]
  },
  {
   "cell_type": "code",
   "execution_count": 7,
   "id": "9bf8f3fc",
   "metadata": {},
   "outputs": [
    {
     "ename": "InvalidSessionIdException",
     "evalue": "Message: invalid session id\nStacktrace:\n\tGetHandleVerifier [0x00007FF65AA9CF25+75717]\n\tGetHandleVerifier [0x00007FF65AA9CF80+75808]\n\t(No symbol) [0x00007FF65A868DCC]\n\t(No symbol) [0x00007FF65A8AF54F]\n\t(No symbol) [0x00007FF65A8E7242]\n\t(No symbol) [0x00007FF65A8E1C63]\n\t(No symbol) [0x00007FF65A8E0D29]\n\t(No symbol) [0x00007FF65A835A55]\n\tGetHandleVerifier [0x00007FF65AD9D6FD+3223453]\n\tGetHandleVerifier [0x00007FF65AD97CA2+3200322]\n\tGetHandleVerifier [0x00007FF65ADB5AD3+3322739]\n\tGetHandleVerifier [0x00007FF65AAB69FA+180890]\n\tGetHandleVerifier [0x00007FF65AABE0FF+211359]\n\t(No symbol) [0x00007FF65A834AC8]\n\tGetHandleVerifier [0x00007FF65AE86FA8+4180040]\n\tBaseThreadInitThunk [0x00007FFE9B0CE8D7+23]\n\tRtlUserThreadStart [0x00007FFE9C7B14FC+44]\n",
     "output_type": "error",
     "traceback": [
      "\u001b[1;31m---------------------------------------------------------------------------\u001b[0m",
      "\u001b[1;31mInvalidSessionIdException\u001b[0m                 Traceback (most recent call last)",
      "Cell \u001b[1;32mIn[7], line 1\u001b[0m\n\u001b[1;32m----> 1\u001b[0m login1 \u001b[38;5;241m=\u001b[39m \u001b[43mbrowser\u001b[49m\u001b[38;5;241;43m.\u001b[39;49m\u001b[43mfind_elements\u001b[49m\u001b[43m(\u001b[49m\u001b[43mBy\u001b[49m\u001b[38;5;241;43m.\u001b[39;49m\u001b[43mXPATH\u001b[49m\u001b[43m,\u001b[49m\u001b[43m \u001b[49m\u001b[38;5;124;43m\"\u001b[39;49m\u001b[38;5;124;43m//div[normalize-space(text())=\u001b[39;49m\u001b[38;5;124;43m'\u001b[39;49m\u001b[38;5;124;43mLog in\u001b[39;49m\u001b[38;5;124;43m'\u001b[39;49m\u001b[38;5;124;43m]\u001b[39;49m\u001b[38;5;124;43m\"\u001b[39;49m\u001b[43m)\u001b[49m\n\u001b[0;32m      2\u001b[0m time\u001b[38;5;241m.\u001b[39msleep(\u001b[38;5;241m1\u001b[39m)\n\u001b[0;32m      3\u001b[0m \u001b[38;5;28;01mwhile\u001b[39;00m \u001b[38;5;28mlen\u001b[39m(login1) \u001b[38;5;241m==\u001b[39m \u001b[38;5;241m0\u001b[39m:\n",
      "File \u001b[1;32mc:\\Users\\Vidhi Rajanikante\\anaconda3\\envs\\text-mining1\\lib\\site-packages\\selenium\\webdriver\\remote\\webdriver.py:955\u001b[0m, in \u001b[0;36mWebDriver.find_elements\u001b[1;34m(self, by, value)\u001b[0m\n\u001b[0;32m    951\u001b[0m     \u001b[38;5;28;01mreturn\u001b[39;00m \u001b[38;5;28mself\u001b[39m\u001b[38;5;241m.\u001b[39mexecute_script(find_element_js, by\u001b[38;5;241m.\u001b[39mto_dict())\n\u001b[0;32m    953\u001b[0m \u001b[38;5;66;03m# Return empty list if driver returns null\u001b[39;00m\n\u001b[0;32m    954\u001b[0m \u001b[38;5;66;03m# See https://github.com/SeleniumHQ/selenium/issues/4555\u001b[39;00m\n\u001b[1;32m--> 955\u001b[0m \u001b[38;5;28;01mreturn\u001b[39;00m \u001b[38;5;28;43mself\u001b[39;49m\u001b[38;5;241;43m.\u001b[39;49m\u001b[43mexecute\u001b[49m\u001b[43m(\u001b[49m\u001b[43mCommand\u001b[49m\u001b[38;5;241;43m.\u001b[39;49m\u001b[43mFIND_ELEMENTS\u001b[49m\u001b[43m,\u001b[49m\u001b[43m \u001b[49m\u001b[43m{\u001b[49m\u001b[38;5;124;43m\"\u001b[39;49m\u001b[38;5;124;43musing\u001b[39;49m\u001b[38;5;124;43m\"\u001b[39;49m\u001b[43m:\u001b[49m\u001b[43m \u001b[49m\u001b[43mby\u001b[49m\u001b[43m,\u001b[49m\u001b[43m \u001b[49m\u001b[38;5;124;43m\"\u001b[39;49m\u001b[38;5;124;43mvalue\u001b[39;49m\u001b[38;5;124;43m\"\u001b[39;49m\u001b[43m:\u001b[49m\u001b[43m \u001b[49m\u001b[43mvalue\u001b[49m\u001b[43m}\u001b[49m\u001b[43m)\u001b[49m[\u001b[38;5;124m\"\u001b[39m\u001b[38;5;124mvalue\u001b[39m\u001b[38;5;124m\"\u001b[39m] \u001b[38;5;129;01mor\u001b[39;00m []\n",
      "File \u001b[1;32mc:\\Users\\Vidhi Rajanikante\\anaconda3\\envs\\text-mining1\\lib\\site-packages\\selenium\\webdriver\\remote\\webdriver.py:448\u001b[0m, in \u001b[0;36mWebDriver.execute\u001b[1;34m(self, driver_command, params)\u001b[0m\n\u001b[0;32m    446\u001b[0m response \u001b[38;5;241m=\u001b[39m \u001b[38;5;28mself\u001b[39m\u001b[38;5;241m.\u001b[39mcommand_executor\u001b[38;5;241m.\u001b[39mexecute(driver_command, params)\n\u001b[0;32m    447\u001b[0m \u001b[38;5;28;01mif\u001b[39;00m response:\n\u001b[1;32m--> 448\u001b[0m     \u001b[38;5;28;43mself\u001b[39;49m\u001b[38;5;241;43m.\u001b[39;49m\u001b[43merror_handler\u001b[49m\u001b[38;5;241;43m.\u001b[39;49m\u001b[43mcheck_response\u001b[49m\u001b[43m(\u001b[49m\u001b[43mresponse\u001b[49m\u001b[43m)\u001b[49m\n\u001b[0;32m    449\u001b[0m     response[\u001b[38;5;124m\"\u001b[39m\u001b[38;5;124mvalue\u001b[39m\u001b[38;5;124m\"\u001b[39m] \u001b[38;5;241m=\u001b[39m \u001b[38;5;28mself\u001b[39m\u001b[38;5;241m.\u001b[39m_unwrap_value(response\u001b[38;5;241m.\u001b[39mget(\u001b[38;5;124m\"\u001b[39m\u001b[38;5;124mvalue\u001b[39m\u001b[38;5;124m\"\u001b[39m, \u001b[38;5;28;01mNone\u001b[39;00m))\n\u001b[0;32m    450\u001b[0m     \u001b[38;5;28;01mreturn\u001b[39;00m response\n",
      "File \u001b[1;32mc:\\Users\\Vidhi Rajanikante\\anaconda3\\envs\\text-mining1\\lib\\site-packages\\selenium\\webdriver\\remote\\errorhandler.py:232\u001b[0m, in \u001b[0;36mErrorHandler.check_response\u001b[1;34m(self, response)\u001b[0m\n\u001b[0;32m    230\u001b[0m         alert_text \u001b[38;5;241m=\u001b[39m value[\u001b[38;5;124m\"\u001b[39m\u001b[38;5;124malert\u001b[39m\u001b[38;5;124m\"\u001b[39m]\u001b[38;5;241m.\u001b[39mget(\u001b[38;5;124m\"\u001b[39m\u001b[38;5;124mtext\u001b[39m\u001b[38;5;124m\"\u001b[39m)\n\u001b[0;32m    231\u001b[0m     \u001b[38;5;28;01mraise\u001b[39;00m exception_class(message, screen, stacktrace, alert_text)  \u001b[38;5;66;03m# type: ignore[call-arg]  # mypy is not smart enough here\u001b[39;00m\n\u001b[1;32m--> 232\u001b[0m \u001b[38;5;28;01mraise\u001b[39;00m exception_class(message, screen, stacktrace)\n",
      "\u001b[1;31mInvalidSessionIdException\u001b[0m: Message: invalid session id\nStacktrace:\n\tGetHandleVerifier [0x00007FF65AA9CF25+75717]\n\tGetHandleVerifier [0x00007FF65AA9CF80+75808]\n\t(No symbol) [0x00007FF65A868DCC]\n\t(No symbol) [0x00007FF65A8AF54F]\n\t(No symbol) [0x00007FF65A8E7242]\n\t(No symbol) [0x00007FF65A8E1C63]\n\t(No symbol) [0x00007FF65A8E0D29]\n\t(No symbol) [0x00007FF65A835A55]\n\tGetHandleVerifier [0x00007FF65AD9D6FD+3223453]\n\tGetHandleVerifier [0x00007FF65AD97CA2+3200322]\n\tGetHandleVerifier [0x00007FF65ADB5AD3+3322739]\n\tGetHandleVerifier [0x00007FF65AAB69FA+180890]\n\tGetHandleVerifier [0x00007FF65AABE0FF+211359]\n\t(No symbol) [0x00007FF65A834AC8]\n\tGetHandleVerifier [0x00007FF65AE86FA8+4180040]\n\tBaseThreadInitThunk [0x00007FFE9B0CE8D7+23]\n\tRtlUserThreadStart [0x00007FFE9C7B14FC+44]\n"
     ]
    }
   ],
   "source": [
    "login1 = browser.find_elements(By.XPATH, \"//div[normalize-space(text())='Log in']\")\n",
    "time.sleep(1)\n",
    "while len(login1) == 0:\n",
    "    login1 = browser.find_elements(By.XPATH, \"//div[normalize-space(text())='Log in']\")\n",
    "    time.sleep(1)\n",
    "login1[0].click()"
   ]
  },
  {
   "cell_type": "code",
   "execution_count": 8,
   "id": "f4a85e5c",
   "metadata": {},
   "outputs": [
    {
     "ename": "InvalidSessionIdException",
     "evalue": "Message: invalid session id\nStacktrace:\n\tGetHandleVerifier [0x00007FF65AA9CF25+75717]\n\tGetHandleVerifier [0x00007FF65AA9CF80+75808]\n\t(No symbol) [0x00007FF65A868DCC]\n\t(No symbol) [0x00007FF65A8AF54F]\n\t(No symbol) [0x00007FF65A8E7242]\n\t(No symbol) [0x00007FF65A8E1C63]\n\t(No symbol) [0x00007FF65A8E0D29]\n\t(No symbol) [0x00007FF65A835A55]\n\tGetHandleVerifier [0x00007FF65AD9D6FD+3223453]\n\tGetHandleVerifier [0x00007FF65AD97CA2+3200322]\n\tGetHandleVerifier [0x00007FF65ADB5AD3+3322739]\n\tGetHandleVerifier [0x00007FF65AAB69FA+180890]\n\tGetHandleVerifier [0x00007FF65AABE0FF+211359]\n\t(No symbol) [0x00007FF65A834AC8]\n\tGetHandleVerifier [0x00007FF65AE86FA8+4180040]\n\tBaseThreadInitThunk [0x00007FFE9B0CE8D7+23]\n\tRtlUserThreadStart [0x00007FFE9C7B14FC+44]\n",
     "output_type": "error",
     "traceback": [
      "\u001b[1;31m---------------------------------------------------------------------------\u001b[0m",
      "\u001b[1;31mInvalidSessionIdException\u001b[0m                 Traceback (most recent call last)",
      "Cell \u001b[1;32mIn[8], line 1\u001b[0m\n\u001b[1;32m----> 1\u001b[0m ew \u001b[38;5;241m=\u001b[39m \u001b[43mbrowser\u001b[49m\u001b[38;5;241;43m.\u001b[39;49m\u001b[43mfind_elements\u001b[49m\u001b[43m(\u001b[49m\u001b[43mBy\u001b[49m\u001b[38;5;241;43m.\u001b[39;49m\u001b[43mXPATH\u001b[49m\u001b[43m,\u001b[49m\u001b[43m \u001b[49m\u001b[38;5;124;43m\"\u001b[39;49m\u001b[38;5;124;43m//div[text()=\u001b[39;49m\u001b[38;5;124;43m'\u001b[39;49m\u001b[38;5;124;43mNot now\u001b[39;49m\u001b[38;5;124;43m'\u001b[39;49m\u001b[38;5;124;43m]\u001b[39;49m\u001b[38;5;124;43m\"\u001b[39;49m\u001b[43m)\u001b[49m\n\u001b[0;32m      2\u001b[0m time\u001b[38;5;241m.\u001b[39msleep(\u001b[38;5;241m1\u001b[39m)\n\u001b[0;32m      3\u001b[0m \u001b[38;5;28;01mwhile\u001b[39;00m \u001b[38;5;28mlen\u001b[39m(ew) \u001b[38;5;241m==\u001b[39m \u001b[38;5;241m0\u001b[39m:\n",
      "File \u001b[1;32mc:\\Users\\Vidhi Rajanikante\\anaconda3\\envs\\text-mining1\\lib\\site-packages\\selenium\\webdriver\\remote\\webdriver.py:955\u001b[0m, in \u001b[0;36mWebDriver.find_elements\u001b[1;34m(self, by, value)\u001b[0m\n\u001b[0;32m    951\u001b[0m     \u001b[38;5;28;01mreturn\u001b[39;00m \u001b[38;5;28mself\u001b[39m\u001b[38;5;241m.\u001b[39mexecute_script(find_element_js, by\u001b[38;5;241m.\u001b[39mto_dict())\n\u001b[0;32m    953\u001b[0m \u001b[38;5;66;03m# Return empty list if driver returns null\u001b[39;00m\n\u001b[0;32m    954\u001b[0m \u001b[38;5;66;03m# See https://github.com/SeleniumHQ/selenium/issues/4555\u001b[39;00m\n\u001b[1;32m--> 955\u001b[0m \u001b[38;5;28;01mreturn\u001b[39;00m \u001b[38;5;28;43mself\u001b[39;49m\u001b[38;5;241;43m.\u001b[39;49m\u001b[43mexecute\u001b[49m\u001b[43m(\u001b[49m\u001b[43mCommand\u001b[49m\u001b[38;5;241;43m.\u001b[39;49m\u001b[43mFIND_ELEMENTS\u001b[49m\u001b[43m,\u001b[49m\u001b[43m \u001b[49m\u001b[43m{\u001b[49m\u001b[38;5;124;43m\"\u001b[39;49m\u001b[38;5;124;43musing\u001b[39;49m\u001b[38;5;124;43m\"\u001b[39;49m\u001b[43m:\u001b[49m\u001b[43m \u001b[49m\u001b[43mby\u001b[49m\u001b[43m,\u001b[49m\u001b[43m \u001b[49m\u001b[38;5;124;43m\"\u001b[39;49m\u001b[38;5;124;43mvalue\u001b[39;49m\u001b[38;5;124;43m\"\u001b[39;49m\u001b[43m:\u001b[49m\u001b[43m \u001b[49m\u001b[43mvalue\u001b[49m\u001b[43m}\u001b[49m\u001b[43m)\u001b[49m[\u001b[38;5;124m\"\u001b[39m\u001b[38;5;124mvalue\u001b[39m\u001b[38;5;124m\"\u001b[39m] \u001b[38;5;129;01mor\u001b[39;00m []\n",
      "File \u001b[1;32mc:\\Users\\Vidhi Rajanikante\\anaconda3\\envs\\text-mining1\\lib\\site-packages\\selenium\\webdriver\\remote\\webdriver.py:448\u001b[0m, in \u001b[0;36mWebDriver.execute\u001b[1;34m(self, driver_command, params)\u001b[0m\n\u001b[0;32m    446\u001b[0m response \u001b[38;5;241m=\u001b[39m \u001b[38;5;28mself\u001b[39m\u001b[38;5;241m.\u001b[39mcommand_executor\u001b[38;5;241m.\u001b[39mexecute(driver_command, params)\n\u001b[0;32m    447\u001b[0m \u001b[38;5;28;01mif\u001b[39;00m response:\n\u001b[1;32m--> 448\u001b[0m     \u001b[38;5;28;43mself\u001b[39;49m\u001b[38;5;241;43m.\u001b[39;49m\u001b[43merror_handler\u001b[49m\u001b[38;5;241;43m.\u001b[39;49m\u001b[43mcheck_response\u001b[49m\u001b[43m(\u001b[49m\u001b[43mresponse\u001b[49m\u001b[43m)\u001b[49m\n\u001b[0;32m    449\u001b[0m     response[\u001b[38;5;124m\"\u001b[39m\u001b[38;5;124mvalue\u001b[39m\u001b[38;5;124m\"\u001b[39m] \u001b[38;5;241m=\u001b[39m \u001b[38;5;28mself\u001b[39m\u001b[38;5;241m.\u001b[39m_unwrap_value(response\u001b[38;5;241m.\u001b[39mget(\u001b[38;5;124m\"\u001b[39m\u001b[38;5;124mvalue\u001b[39m\u001b[38;5;124m\"\u001b[39m, \u001b[38;5;28;01mNone\u001b[39;00m))\n\u001b[0;32m    450\u001b[0m     \u001b[38;5;28;01mreturn\u001b[39;00m response\n",
      "File \u001b[1;32mc:\\Users\\Vidhi Rajanikante\\anaconda3\\envs\\text-mining1\\lib\\site-packages\\selenium\\webdriver\\remote\\errorhandler.py:232\u001b[0m, in \u001b[0;36mErrorHandler.check_response\u001b[1;34m(self, response)\u001b[0m\n\u001b[0;32m    230\u001b[0m         alert_text \u001b[38;5;241m=\u001b[39m value[\u001b[38;5;124m\"\u001b[39m\u001b[38;5;124malert\u001b[39m\u001b[38;5;124m\"\u001b[39m]\u001b[38;5;241m.\u001b[39mget(\u001b[38;5;124m\"\u001b[39m\u001b[38;5;124mtext\u001b[39m\u001b[38;5;124m\"\u001b[39m)\n\u001b[0;32m    231\u001b[0m     \u001b[38;5;28;01mraise\u001b[39;00m exception_class(message, screen, stacktrace, alert_text)  \u001b[38;5;66;03m# type: ignore[call-arg]  # mypy is not smart enough here\u001b[39;00m\n\u001b[1;32m--> 232\u001b[0m \u001b[38;5;28;01mraise\u001b[39;00m exception_class(message, screen, stacktrace)\n",
      "\u001b[1;31mInvalidSessionIdException\u001b[0m: Message: invalid session id\nStacktrace:\n\tGetHandleVerifier [0x00007FF65AA9CF25+75717]\n\tGetHandleVerifier [0x00007FF65AA9CF80+75808]\n\t(No symbol) [0x00007FF65A868DCC]\n\t(No symbol) [0x00007FF65A8AF54F]\n\t(No symbol) [0x00007FF65A8E7242]\n\t(No symbol) [0x00007FF65A8E1C63]\n\t(No symbol) [0x00007FF65A8E0D29]\n\t(No symbol) [0x00007FF65A835A55]\n\tGetHandleVerifier [0x00007FF65AD9D6FD+3223453]\n\tGetHandleVerifier [0x00007FF65AD97CA2+3200322]\n\tGetHandleVerifier [0x00007FF65ADB5AD3+3322739]\n\tGetHandleVerifier [0x00007FF65AAB69FA+180890]\n\tGetHandleVerifier [0x00007FF65AABE0FF+211359]\n\t(No symbol) [0x00007FF65A834AC8]\n\tGetHandleVerifier [0x00007FF65AE86FA8+4180040]\n\tBaseThreadInitThunk [0x00007FFE9B0CE8D7+23]\n\tRtlUserThreadStart [0x00007FFE9C7B14FC+44]\n"
     ]
    }
   ],
   "source": [
    "ew = browser.find_elements(By.XPATH, \"//div[text()='Not now']\")\n",
    "time.sleep(1)\n",
    "while len(ew) == 0:\n",
    "    ew = browser.find_elements(By.XPATH, \"//div[text()='Not now']\")\n",
    "    time.sleep(1)\n",
    "ew[0].click()"
   ]
  },
  {
   "cell_type": "code",
   "execution_count": 9,
   "id": "cba01af5",
   "metadata": {},
   "outputs": [
    {
     "ename": "InvalidSessionIdException",
     "evalue": "Message: invalid session id\nStacktrace:\n\tGetHandleVerifier [0x00007FF65AA9CF25+75717]\n\tGetHandleVerifier [0x00007FF65AA9CF80+75808]\n\t(No symbol) [0x00007FF65A868DCC]\n\t(No symbol) [0x00007FF65A8AF54F]\n\t(No symbol) [0x00007FF65A8E7242]\n\t(No symbol) [0x00007FF65A8E1C63]\n\t(No symbol) [0x00007FF65A8E0D29]\n\t(No symbol) [0x00007FF65A835A55]\n\tGetHandleVerifier [0x00007FF65AD9D6FD+3223453]\n\tGetHandleVerifier [0x00007FF65AD97CA2+3200322]\n\tGetHandleVerifier [0x00007FF65ADB5AD3+3322739]\n\tGetHandleVerifier [0x00007FF65AAB69FA+180890]\n\tGetHandleVerifier [0x00007FF65AABE0FF+211359]\n\t(No symbol) [0x00007FF65A834AC8]\n\tGetHandleVerifier [0x00007FF65AE86FA8+4180040]\n\tBaseThreadInitThunk [0x00007FFE9B0CE8D7+23]\n\tRtlUserThreadStart [0x00007FFE9C7B14FC+44]\n",
     "output_type": "error",
     "traceback": [
      "\u001b[1;31m---------------------------------------------------------------------------\u001b[0m",
      "\u001b[1;31mInvalidSessionIdException\u001b[0m                 Traceback (most recent call last)",
      "Cell \u001b[1;32mIn[9], line 14\u001b[0m\n\u001b[0;32m      1\u001b[0m urls \u001b[38;5;241m=\u001b[39m [\n\u001b[0;32m      2\u001b[0m     \u001b[38;5;124m\"\u001b[39m\u001b[38;5;124mhttps://www.instagram.com/abrasileirachiado/\u001b[39m\u001b[38;5;124m\"\u001b[39m,\n\u001b[0;32m      3\u001b[0m     \u001b[38;5;124m\"\u001b[39m\u001b[38;5;124mhttps://www.instagram.com/majestic_cafe/\u001b[39m\u001b[38;5;124m\"\u001b[39m,\n\u001b[1;32m   (...)\u001b[0m\n\u001b[0;32m     11\u001b[0m     \u001b[38;5;124m\"\u001b[39m\u001b[38;5;124mhttps://www.instagram.com/apadariaportuguesa\u001b[39m\u001b[38;5;124m\"\u001b[39m,\n\u001b[0;32m     12\u001b[0m ]\n\u001b[0;32m     13\u001b[0m \u001b[38;5;28;01mfor\u001b[39;00m url \u001b[38;5;129;01min\u001b[39;00m urls:\n\u001b[1;32m---> 14\u001b[0m     \u001b[43mbrowser\u001b[49m\u001b[38;5;241;43m.\u001b[39;49m\u001b[43mget\u001b[49m\u001b[43m(\u001b[49m\u001b[43murl\u001b[49m\u001b[43m)\u001b[49m\n\u001b[0;32m     15\u001b[0m     time\u001b[38;5;241m.\u001b[39msleep(\u001b[38;5;241m3\u001b[39m)\n\u001b[0;32m     16\u001b[0m     posts \u001b[38;5;241m=\u001b[39m browser\u001b[38;5;241m.\u001b[39mfind_elements(By\u001b[38;5;241m.\u001b[39mCLASS_NAME, \u001b[38;5;124m\"\u001b[39m\u001b[38;5;124m_aagw\u001b[39m\u001b[38;5;124m\"\u001b[39m)\n",
      "File \u001b[1;32mc:\\Users\\Vidhi Rajanikante\\anaconda3\\envs\\text-mining1\\lib\\site-packages\\selenium\\webdriver\\remote\\webdriver.py:473\u001b[0m, in \u001b[0;36mWebDriver.get\u001b[1;34m(self, url)\u001b[0m\n\u001b[0;32m    455\u001b[0m \u001b[38;5;28;01mdef\u001b[39;00m \u001b[38;5;21mget\u001b[39m(\u001b[38;5;28mself\u001b[39m, url: \u001b[38;5;28mstr\u001b[39m) \u001b[38;5;241m-\u001b[39m\u001b[38;5;241m>\u001b[39m \u001b[38;5;28;01mNone\u001b[39;00m:\n\u001b[0;32m    456\u001b[0m \u001b[38;5;250m    \u001b[39m\u001b[38;5;124;03m\"\"\"Navigate the browser to the specified URL in the current window or\u001b[39;00m\n\u001b[0;32m    457\u001b[0m \u001b[38;5;124;03m    tab.\u001b[39;00m\n\u001b[0;32m    458\u001b[0m \n\u001b[1;32m   (...)\u001b[0m\n\u001b[0;32m    471\u001b[0m \u001b[38;5;124;03m    >>> driver.get(\"https://example.com\")\u001b[39;00m\n\u001b[0;32m    472\u001b[0m \u001b[38;5;124;03m    \"\"\"\u001b[39;00m\n\u001b[1;32m--> 473\u001b[0m     \u001b[38;5;28;43mself\u001b[39;49m\u001b[38;5;241;43m.\u001b[39;49m\u001b[43mexecute\u001b[49m\u001b[43m(\u001b[49m\u001b[43mCommand\u001b[49m\u001b[38;5;241;43m.\u001b[39;49m\u001b[43mGET\u001b[49m\u001b[43m,\u001b[49m\u001b[43m \u001b[49m\u001b[43m{\u001b[49m\u001b[38;5;124;43m\"\u001b[39;49m\u001b[38;5;124;43murl\u001b[39;49m\u001b[38;5;124;43m\"\u001b[39;49m\u001b[43m:\u001b[49m\u001b[43m \u001b[49m\u001b[43murl\u001b[49m\u001b[43m}\u001b[49m\u001b[43m)\u001b[49m\n",
      "File \u001b[1;32mc:\\Users\\Vidhi Rajanikante\\anaconda3\\envs\\text-mining1\\lib\\site-packages\\selenium\\webdriver\\remote\\webdriver.py:448\u001b[0m, in \u001b[0;36mWebDriver.execute\u001b[1;34m(self, driver_command, params)\u001b[0m\n\u001b[0;32m    446\u001b[0m response \u001b[38;5;241m=\u001b[39m \u001b[38;5;28mself\u001b[39m\u001b[38;5;241m.\u001b[39mcommand_executor\u001b[38;5;241m.\u001b[39mexecute(driver_command, params)\n\u001b[0;32m    447\u001b[0m \u001b[38;5;28;01mif\u001b[39;00m response:\n\u001b[1;32m--> 448\u001b[0m     \u001b[38;5;28;43mself\u001b[39;49m\u001b[38;5;241;43m.\u001b[39;49m\u001b[43merror_handler\u001b[49m\u001b[38;5;241;43m.\u001b[39;49m\u001b[43mcheck_response\u001b[49m\u001b[43m(\u001b[49m\u001b[43mresponse\u001b[49m\u001b[43m)\u001b[49m\n\u001b[0;32m    449\u001b[0m     response[\u001b[38;5;124m\"\u001b[39m\u001b[38;5;124mvalue\u001b[39m\u001b[38;5;124m\"\u001b[39m] \u001b[38;5;241m=\u001b[39m \u001b[38;5;28mself\u001b[39m\u001b[38;5;241m.\u001b[39m_unwrap_value(response\u001b[38;5;241m.\u001b[39mget(\u001b[38;5;124m\"\u001b[39m\u001b[38;5;124mvalue\u001b[39m\u001b[38;5;124m\"\u001b[39m, \u001b[38;5;28;01mNone\u001b[39;00m))\n\u001b[0;32m    450\u001b[0m     \u001b[38;5;28;01mreturn\u001b[39;00m response\n",
      "File \u001b[1;32mc:\\Users\\Vidhi Rajanikante\\anaconda3\\envs\\text-mining1\\lib\\site-packages\\selenium\\webdriver\\remote\\errorhandler.py:232\u001b[0m, in \u001b[0;36mErrorHandler.check_response\u001b[1;34m(self, response)\u001b[0m\n\u001b[0;32m    230\u001b[0m         alert_text \u001b[38;5;241m=\u001b[39m value[\u001b[38;5;124m\"\u001b[39m\u001b[38;5;124malert\u001b[39m\u001b[38;5;124m\"\u001b[39m]\u001b[38;5;241m.\u001b[39mget(\u001b[38;5;124m\"\u001b[39m\u001b[38;5;124mtext\u001b[39m\u001b[38;5;124m\"\u001b[39m)\n\u001b[0;32m    231\u001b[0m     \u001b[38;5;28;01mraise\u001b[39;00m exception_class(message, screen, stacktrace, alert_text)  \u001b[38;5;66;03m# type: ignore[call-arg]  # mypy is not smart enough here\u001b[39;00m\n\u001b[1;32m--> 232\u001b[0m \u001b[38;5;28;01mraise\u001b[39;00m exception_class(message, screen, stacktrace)\n",
      "\u001b[1;31mInvalidSessionIdException\u001b[0m: Message: invalid session id\nStacktrace:\n\tGetHandleVerifier [0x00007FF65AA9CF25+75717]\n\tGetHandleVerifier [0x00007FF65AA9CF80+75808]\n\t(No symbol) [0x00007FF65A868DCC]\n\t(No symbol) [0x00007FF65A8AF54F]\n\t(No symbol) [0x00007FF65A8E7242]\n\t(No symbol) [0x00007FF65A8E1C63]\n\t(No symbol) [0x00007FF65A8E0D29]\n\t(No symbol) [0x00007FF65A835A55]\n\tGetHandleVerifier [0x00007FF65AD9D6FD+3223453]\n\tGetHandleVerifier [0x00007FF65AD97CA2+3200322]\n\tGetHandleVerifier [0x00007FF65ADB5AD3+3322739]\n\tGetHandleVerifier [0x00007FF65AAB69FA+180890]\n\tGetHandleVerifier [0x00007FF65AABE0FF+211359]\n\t(No symbol) [0x00007FF65A834AC8]\n\tGetHandleVerifier [0x00007FF65AE86FA8+4180040]\n\tBaseThreadInitThunk [0x00007FFE9B0CE8D7+23]\n\tRtlUserThreadStart [0x00007FFE9C7B14FC+44]\n"
     ]
    }
   ],
   "source": [
    "urls = [\n",
    "    \"https://www.instagram.com/abrasileirachiado/\",\n",
    "    \"https://www.instagram.com/majestic_cafe/\",\n",
    "    \"https://www.instagram.com/combi_coffee/\",\n",
    "    \"https://www.instagram.com/fabricacoffeeroasters/\",\n",
    "    \"https://www.instagram.com/cphcoffeelab/\",\n",
    "    \"https://www.instagram.com/starbucksptg/\",\n",
    "    \"https://www.instagram.com/costacoffee/\",\n",
    "    \"https://www.instagram.com/timhortons/\",\n",
    "    \"https://www.instagram.com/jeronymo_pt\",\n",
    "    \"https://www.instagram.com/apadariaportuguesa\",\n",
    "]\n",
    "for url in urls:\n",
    "    browser.get(url)\n",
    "    time.sleep(3)\n",
    "    posts = browser.find_elements(By.CLASS_NAME, \"_aagw\")\n",
    "    posts[0].click()\n",
    "\n",
    "    i = 0\n",
    "    cond = True\n",
    "    next_bb = []\n",
    "    \n",
    "    while cond:\n",
    "        if len(next_bb) == 0:\n",
    "            pass\n",
    "        elif len(next_bb) == 2 or i==1:\n",
    "            next_bb[0].click()\n",
    "        elif len(next_bb) == 3 or len(next_bb) == 4:\n",
    "            next_bb[1].click()\n",
    "        else: \n",
    "            print(f\"breaking. cause: unresolved at {browser.current_url}\")\n",
    "            break\n",
    "        time.sleep(2)\n",
    "\n",
    "        time_since = browser.find_elements(By.CLASS_NAME, \"x1p4m5qa\")[0].text\n",
    "\n",
    "        like = browser.find_elements(By.XPATH, \"//span[@class='html-span xdj266r x11i5rnm xat24cr x1mh8g0r xexx8yu x4uap5 x18d9i69 xkhd6sd x1hl2dhg x16tdsg8 x1vvkbs']\")\n",
    "        if len(like) > 3:\n",
    "            like = like[3].text\n",
    "        else:\n",
    "            like = None\n",
    "\n",
    "        title = browser.find_elements(By.TAG_NAME , \"h1\")\n",
    "        if len(title) > 1:\n",
    "            title = title[1].text\n",
    "        else:\n",
    "            title = None\n",
    "\n",
    "        fcoms = browser.find_elements(By.XPATH, \"//span[contains(@class, '_ap3a') and @dir='auto']\")[2:]\n",
    "        fcoms = [c.text for c in fcoms]\n",
    "\n",
    "        line = [url, i, browser.current_url, time_since, like, title, fcoms]\n",
    "        with open(\"scrapres/res.csv\", \"a\", newline=\"\") as csv_file:\n",
    "            writer = csv.writer(csv_file, delimiter='|')\n",
    "            writer.writerow(line)\n",
    "        \n",
    "        next_bb = browser.find_elements(By.XPATH, \"//button[contains(@class, '_abl-') and @type='button']\")\n",
    "        cond = not(time_since.split(\" \")[-1] == \"2022\" or len(next_bb) < 3) or i == 0\n",
    "        i += 1\n",
    "browser.close()"
   ]
  },
  {
   "cell_type": "markdown",
   "id": "9869ceb9",
   "metadata": {},
   "source": [
    "# next"
   ]
  },
  {
   "cell_type": "code",
   "execution_count": null,
   "id": "bf11bde5",
   "metadata": {},
   "outputs": [
    {
     "data": {
      "text/html": [
       "<div>\n",
       "<style scoped>\n",
       "    .dataframe tbody tr th:only-of-type {\n",
       "        vertical-align: middle;\n",
       "    }\n",
       "\n",
       "    .dataframe tbody tr th {\n",
       "        vertical-align: top;\n",
       "    }\n",
       "\n",
       "    .dataframe thead th {\n",
       "        text-align: right;\n",
       "    }\n",
       "</style>\n",
       "<table border=\"1\" class=\"dataframe\">\n",
       "  <thead>\n",
       "    <tr style=\"text-align: right;\">\n",
       "      <th></th>\n",
       "      <th>cafe</th>\n",
       "      <th>post_id</th>\n",
       "      <th>post_link</th>\n",
       "      <th>day_posted</th>\n",
       "      <th>n_likes</th>\n",
       "      <th>title</th>\n",
       "      <th>first_comments</th>\n",
       "    </tr>\n",
       "  </thead>\n",
       "  <tbody>\n",
       "    <tr>\n",
       "      <th>0</th>\n",
       "      <td>https://www.instagram.com/abrasileirachiado/</td>\n",
       "      <td>0</td>\n",
       "      <td>https://www.instagram.com/p/DI3YwV-PtK0/</td>\n",
       "      <td>1 day ago</td>\n",
       "      <td>79</td>\n",
       "      <td>António de Oliveira Salazar, presidente do Con...</td>\n",
       "      <td>[]</td>\n",
       "    </tr>\n",
       "    <tr>\n",
       "      <th>1</th>\n",
       "      <td>https://www.instagram.com/abrasileirachiado/</td>\n",
       "      <td>1</td>\n",
       "      <td>https://www.instagram.com/p/DItuzHaB82n/</td>\n",
       "      <td>5 days ago</td>\n",
       "      <td>21</td>\n",
       "      <td>“Todos sabemos que a arte não é verdade. A art...</td>\n",
       "      <td>[]</td>\n",
       "    </tr>\n",
       "    <tr>\n",
       "      <th>2</th>\n",
       "      <td>https://www.instagram.com/abrasileirachiado/</td>\n",
       "      <td>2</td>\n",
       "      <td>https://www.instagram.com/p/DIjpVnwhqbe/?img_i...</td>\n",
       "      <td>17 April</td>\n",
       "      <td>28</td>\n",
       "      <td>A obra de António Faria convoca o olhar do esp...</td>\n",
       "      <td>[]</td>\n",
       "    </tr>\n",
       "    <tr>\n",
       "      <th>3</th>\n",
       "      <td>https://www.instagram.com/abrasileirachiado/</td>\n",
       "      <td>3</td>\n",
       "      <td>https://www.instagram.com/p/DIZWO_2PmwH/</td>\n",
       "      <td>13 April</td>\n",
       "      <td>110</td>\n",
       "      <td>A Brasileira aos olhos de quem a visita.\\n\\n@d...</td>\n",
       "      <td>['👏🥂🥂🥂', 'Sei bem😘💚❤👏🏻', 'Conheço e recomendo ...</td>\n",
       "    </tr>\n",
       "    <tr>\n",
       "      <th>4</th>\n",
       "      <td>https://www.instagram.com/abrasileirachiado/</td>\n",
       "      <td>4</td>\n",
       "      <td>https://www.instagram.com/p/DIOnjB_hYhU/?img_i...</td>\n",
       "      <td>9 April</td>\n",
       "      <td>29</td>\n",
       "      <td>“Uma pessoa sem vícios tem poucas virtudes.\"\\n...</td>\n",
       "      <td>[]</td>\n",
       "    </tr>\n",
       "  </tbody>\n",
       "</table>\n",
       "</div>"
      ],
      "text/plain": [
       "                                           cafe  post_id  \\\n",
       "0  https://www.instagram.com/abrasileirachiado/        0   \n",
       "1  https://www.instagram.com/abrasileirachiado/        1   \n",
       "2  https://www.instagram.com/abrasileirachiado/        2   \n",
       "3  https://www.instagram.com/abrasileirachiado/        3   \n",
       "4  https://www.instagram.com/abrasileirachiado/        4   \n",
       "\n",
       "                                           post_link  day_posted n_likes  \\\n",
       "0           https://www.instagram.com/p/DI3YwV-PtK0/   1 day ago      79   \n",
       "1           https://www.instagram.com/p/DItuzHaB82n/  5 days ago      21   \n",
       "2  https://www.instagram.com/p/DIjpVnwhqbe/?img_i...    17 April      28   \n",
       "3           https://www.instagram.com/p/DIZWO_2PmwH/    13 April     110   \n",
       "4  https://www.instagram.com/p/DIOnjB_hYhU/?img_i...     9 April      29   \n",
       "\n",
       "                                               title  \\\n",
       "0  António de Oliveira Salazar, presidente do Con...   \n",
       "1  “Todos sabemos que a arte não é verdade. A art...   \n",
       "2  A obra de António Faria convoca o olhar do esp...   \n",
       "3  A Brasileira aos olhos de quem a visita.\\n\\n@d...   \n",
       "4  “Uma pessoa sem vícios tem poucas virtudes.\"\\n...   \n",
       "\n",
       "                                      first_comments  \n",
       "0                                                 []  \n",
       "1                                                 []  \n",
       "2                                                 []  \n",
       "3  ['👏🥂🥂🥂', 'Sei bem😘💚❤👏🏻', 'Conheço e recomendo ...  \n",
       "4                                                 []  "
      ]
     },
     "execution_count": 191,
     "metadata": {},
     "output_type": "execute_result"
    }
   ],
   "source": [
    "import pandas as pd\n",
    "\n",
    "df = pd.read_csv(\"scrapres/res.csv\", sep=\"|\", header=None)\n",
    "df.columns = [\"cafe\", \"post_id\", \"post_link\", \"day_posted\", \"n_likes\", \"title\", \"first_comments\"]\n",
    "df.head()"
   ]
  },
  {
   "cell_type": "code",
   "execution_count": null,
   "id": "9b80aac2",
   "metadata": {},
   "outputs": [
    {
     "data": {
      "text/plain": [
       "array(['https://www.instagram.com/abrasileirachiado/',\n",
       "       'https://www.instagram.com/majestic_cafe/',\n",
       "       'https://www.instagram.com/combi_coffee/',\n",
       "       'https://www.instagram.com/fabricacoffeeroasters/',\n",
       "       'https://www.instagram.com/cphcoffeelab/',\n",
       "       'https://www.instagram.com/starbucksptg/',\n",
       "       'https://www.instagram.com/costacoffee/',\n",
       "       'https://www.instagram.com/timhortons/',\n",
       "       'https://www.instagram.com/jeronymo_pt',\n",
       "       'https://www.instagram.com/apadariaportuguesa'], dtype=object)"
      ]
     },
     "execution_count": 192,
     "metadata": {},
     "output_type": "execute_result"
    }
   ],
   "source": [
    "df.cafe.unique()"
   ]
  },
  {
   "cell_type": "code",
   "execution_count": null,
   "id": "7fb1e65f",
   "metadata": {},
   "outputs": [],
   "source": [
    "browser = webdriver.Edge(options=Options())\n",
    "total = []\n",
    "for url in df.cafe.unique(): \n",
    "    browser.get(url)\n",
    "    time.sleep(10)\n",
    "    \n",
    "    # redo coockies and shit\n",
    "    more = browser.find_elements(By.XPATH, \"//html/body//span[contains(text(),'more') and contains(@class, 'x1lliihq')]\")\n",
    "    if len(more)==2:\n",
    "        try:\n",
    "            more[0].click()\n",
    "        except:\n",
    "            pass\n",
    "    line = [\n",
    "            url,\n",
    "            browser.find_elements(By.XPATH, \"//span[contains(@class, 'x1lliihq') and @dir='auto' and @style='----base-line-clamp-line-height: 18px; --lineHeight: 18px;']\")[0].text,\n",
    "            browser.find_elements(By.XPATH, \"//span[contains(@class, '_ap3a') and @dir='auto']\")[0].text\n",
    "            ]\n",
    "    line.extend([el.text for el in browser.find_elements(By.CLASS_NAME, \"html-span\")])\n",
    "    total.append(line)\n",
    "browser.close()"
   ]
  }
 ],
 "metadata": {
  "kernelspec": {
   "display_name": "text-mining1",
   "language": "python",
   "name": "python3"
  },
  "language_info": {
   "codemirror_mode": {
    "name": "ipython",
    "version": 3
   },
   "file_extension": ".py",
   "mimetype": "text/x-python",
   "name": "python",
   "nbconvert_exporter": "python",
   "pygments_lexer": "ipython3",
   "version": "3.10.9"
  }
 },
 "nbformat": 4,
 "nbformat_minor": 5
}
